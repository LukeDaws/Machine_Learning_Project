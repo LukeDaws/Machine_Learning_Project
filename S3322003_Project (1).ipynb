{
 "cells": [
  {
   "cell_type": "markdown",
   "metadata": {},
   "source": [
    "---\n",
    "\n",
    "# MATH2319 - Machine Learning\n",
    "\n",
    "\n",
    "# Course project - Predicting Chronic Kidney Disease\n",
    "\n",
    "\n",
    "## Luke Daws\n",
    "\n",
    "\n",
    "## S3322003\n",
    "\n",
    "---\n",
    "\n",
    "### Table of Contents\n",
    "\n",
    "1. [Introduction](#introduction)\n",
    "    1. [Feature description](#Featuredescription)\n",
    "2. [Data preparation](#Datapreparation)\n",
    "    1. [Importing packages](#Importingpackages)\n",
    "    2. [Loading dataset](#Loadingdataset)\n",
    "    3. [Dataset observation](#Datasetobservation)\n",
    "    4. [Correcting values](#Correctingvalues)\n",
    "    5. [Redundant features](#Redundantfeatures)\n",
    "    6. [Missing Values](#Missingvalues)\n",
    "    7. [Imputation](#Imputation)\n",
    "    8. [Encoding](#Encoding)\n",
    "    9. [Scaling](#Scaling)\n",
    "3. [Data exploration](#Dataexploration)\n",
    "    1. [Summary statistics](#Summarystatistics)\n",
    "    2. [Univariate visualisations](#Univariatevisualisations)\n",
    "    3. [Bivariant visualisations](#Bivariantvisualisations)\n",
    "    4. [Trivariant visualisations](#Trivariantvisualisations)\n",
    "4. [Predictive modelling](#Predictivemodelling)\n",
    "    1. [Feature selection](#Featureselection)\n",
    "        1. [Full set of features](#Fullsetoffeatures)\n",
    "        2. [Random forest importance](#Randomforestimportance)\n",
    "        3. [Paired t-test](#pairedt-test)\n",
    "    2. [Hyperparameter Tuning and Visualisation](#Hyperparametertuningandvisualisation)\n",
    "        1. [KNN](#KNN)\n",
    "        2. [Decision tree](#Decisiontree)\n",
    "        3. [Random Forest](#RandomForest)\n",
    "    3.[Predictionevaluation](#Predictionevaluation)\n",
    "        1.[Confusion matrix](#Confusionmatrix)\n",
    "        2.[Classification report](#Classificationreport)\n",
    "        3.[ROC curve](#ROCcurve)\n",
    "5. [Conclusion](#Conclusion)\n",
    "6. [References](#References)\n",
    "\n",
    "---\n"
   ]
  },
  {
   "cell_type": "markdown",
   "metadata": {},
   "source": [
    "### 1. Introduction <a name=\"introduction\"></a>\n",
    "\n",
    "For this course project, we will be attempting to compare three different algorithms that will be used to predict early chronic kidney disease. I will be using the following three models:\n",
    "\n",
    "- KNN\n",
    "- Decision trees\n",
    "- Random forest\n",
    "\n",
    "I will also do some feature selection and ranking with random forest importance, as well as hyperparameter tuning of the 3 models.\n",
    "\n",
    "The dataset was taken from the UCI Machine Learning Repository<sup>[1](#1)</sup>. This dataset has 400 observations, 24 descriptive features and 1 target feature, which is the `class` feature. The `class` is a binary feature, where the value `ckd` indicates a confirmation of chronic kidney disease and `notckd` indicates a negative confirmation.\n",
    "\n",
    "#### 1.A Feature description <a name=\"Featuredescription\"></a>\n",
    "\n",
    "Below outlines the headings of each feature and the information about the values of each one. This information is provided in the `chronic_kidney_disease.info` file at the UCI repository:\n",
    "\n",
    "- `age` - age\t(*in years*), (numerical)\n",
    "- `bp` - blood pressure (*mm/Hg*), (numerical)\n",
    "- `sg` - specific gravity (*1.005,1.010,1.015,1.020,1.025*), (nominal)\n",
    "- `al` - albumin (*0,1,2,3,4,5*), (nominal)\n",
    "- `su` - sugar (*0,1,2,3,4,5*), (nominal)\n",
    "- `rbc` - red blood cells (*normal,abnormal*), (nominal)\n",
    "- `pc` - pus cell (*normal,abnormal*), (nominal)\n",
    "- `pcc` - pus cell clumps (*present,notpresent*), (nominal)\n",
    "- `ba` - bacteria (*present,notpresent*), (nominal)\n",
    "- `bgr` - blood glucose random (*mgs/dl*), (numerical)\t\n",
    "- `bu` - blood urea (*mgs/dl*), (numerical)\t\n",
    "- `sc` - serum creatinine (*mgs/dl*), (numerical)\t\n",
    "- `sod` - sodium (*mEq/L*), (numerical)\n",
    "- `pot` - potassium (*mEq/L*), (numerical)\t\n",
    "- `hemo` - hemoglobin (*gms*), (numerical)\n",
    "- `pcv` - packed cell volume** (numerical)\n",
    "- `wbcc` - white blood cell count (*cells/cumm*), (numerical)\t\n",
    "- `rbcc` - red blood cell count (*millions/cmm*), (numerical)\t\n",
    "- `htn` - hypertension (*yes,no*), (nominal)\t\n",
    "- `dm` - diabetes mellitus (*yes,no*), (nominal)\t\n",
    "- `cad` - coronary artery disease (*yes,no*), (nominal)\n",
    "- `appet` - appetite (*good,poor*), (nominal)\t\n",
    "- `pe` - pedal edema (*yes,no*,) (nominal)\n",
    "- `ane` -anemia (*yes,no*), (nominal)\n",
    "- `class` - Target (*ckd,notckd*), (nominal)\t\t\n",
    "\n",
    "** For `pcv - packed cell volume` no measurement units were provided.\n",
    "\n",
    "---\n"
   ]
  },
  {
   "cell_type": "markdown",
   "metadata": {},
   "source": [
    "### 2. Data preparation <a name=\"Datapreparation\"></a>\n",
    "\n",
    "This dataset originally comes as an `.arff` file. For this project we are required to supply our dataset as a `.csv` file. For ease of conversion, excel was used to convert the file into the required `.csv` file type. During this conversion, line `371` showed a missing value exists under the feature `dm`. This is due to an extra `,` in the original `chronic_kidney_disease.arff` file, which has caused all values for that observation (from the `dm` feature onwards) to be shifted across by one feature. This issue was fixed in excel before saving as a `csv` file and the `.csv` file provided for this project has had that issue rectified.\n",
    "\n",
    "#### 2.A Importing packages <a name=\"Importingpackages\"></a>\n"
   ]
  },
  {
   "cell_type": "code",
   "execution_count": 1,
   "metadata": {},
   "outputs": [],
   "source": [
    "import warnings\n",
    "warnings.filterwarnings(\"ignore\")\n",
    "\n",
    "import numpy as np\n",
    "import pandas as pd\n",
    "\n",
    "from sklearn import preprocessing\n",
    "\n",
    "from sklearn.ensemble import RandomForestClassifier\n",
    "\n",
    "from sklearn.tree import DecisionTreeClassifier\n",
    "from sklearn.model_selection import cross_val_score, StratifiedKFold\n",
    "from scipy import stats\n",
    "from sklearn.model_selection import train_test_split\n",
    "from sklearn.model_selection import GridSearchCV\n",
    "from sklearn.neighbors import KNeighborsClassifier\n",
    "from sklearn import metrics\n",
    "\n",
    "import altair as alt\n"
   ]
  },
  {
   "cell_type": "markdown",
   "metadata": {},
   "source": [
    "#### 2.B Loading dataset <a name=\"Loadingdataset\"></a>\n",
    "\n",
    "In the `chronic_kidney_disease.info` file, it is explained that any missing values have been replaced with an `?`, so they will be converted into NaN values, using the `na_values=[\"?\"]` argument, as the dataset is loaded."
   ]
  },
  {
   "cell_type": "code",
   "execution_count": 2,
   "metadata": {},
   "outputs": [
    {
     "name": "stdout",
     "output_type": "stream",
     "text": [
      "Number of observations and features in the dataset: (400, 25)\n"
     ]
    },
    {
     "data": {
      "text/html": [
       "<div>\n",
       "<style scoped>\n",
       "    .dataframe tbody tr th:only-of-type {\n",
       "        vertical-align: middle;\n",
       "    }\n",
       "\n",
       "    .dataframe tbody tr th {\n",
       "        vertical-align: top;\n",
       "    }\n",
       "\n",
       "    .dataframe thead th {\n",
       "        text-align: right;\n",
       "    }\n",
       "</style>\n",
       "<table border=\"1\" class=\"dataframe\">\n",
       "  <thead>\n",
       "    <tr style=\"text-align: right;\">\n",
       "      <th></th>\n",
       "      <th>age</th>\n",
       "      <th>bp</th>\n",
       "      <th>sg</th>\n",
       "      <th>al</th>\n",
       "      <th>su</th>\n",
       "      <th>rbc</th>\n",
       "      <th>pc</th>\n",
       "      <th>pcc</th>\n",
       "      <th>ba</th>\n",
       "      <th>bgr</th>\n",
       "      <th>...</th>\n",
       "      <th>pcv</th>\n",
       "      <th>wbcc</th>\n",
       "      <th>rbcc</th>\n",
       "      <th>htn</th>\n",
       "      <th>dm</th>\n",
       "      <th>cad</th>\n",
       "      <th>appet</th>\n",
       "      <th>pe</th>\n",
       "      <th>ane</th>\n",
       "      <th>class</th>\n",
       "    </tr>\n",
       "  </thead>\n",
       "  <tbody>\n",
       "    <tr>\n",
       "      <th>0</th>\n",
       "      <td>48.0</td>\n",
       "      <td>80.0</td>\n",
       "      <td>1.020</td>\n",
       "      <td>1.0</td>\n",
       "      <td>0.0</td>\n",
       "      <td>NaN</td>\n",
       "      <td>normal</td>\n",
       "      <td>notpresent</td>\n",
       "      <td>notpresent</td>\n",
       "      <td>121.0</td>\n",
       "      <td>...</td>\n",
       "      <td>44</td>\n",
       "      <td>7800</td>\n",
       "      <td>5.2</td>\n",
       "      <td>yes</td>\n",
       "      <td>yes</td>\n",
       "      <td>no</td>\n",
       "      <td>good</td>\n",
       "      <td>no</td>\n",
       "      <td>no</td>\n",
       "      <td>ckd</td>\n",
       "    </tr>\n",
       "    <tr>\n",
       "      <th>1</th>\n",
       "      <td>7.0</td>\n",
       "      <td>50.0</td>\n",
       "      <td>1.020</td>\n",
       "      <td>4.0</td>\n",
       "      <td>0.0</td>\n",
       "      <td>NaN</td>\n",
       "      <td>normal</td>\n",
       "      <td>notpresent</td>\n",
       "      <td>notpresent</td>\n",
       "      <td>NaN</td>\n",
       "      <td>...</td>\n",
       "      <td>38</td>\n",
       "      <td>6000</td>\n",
       "      <td>NaN</td>\n",
       "      <td>no</td>\n",
       "      <td>no</td>\n",
       "      <td>no</td>\n",
       "      <td>good</td>\n",
       "      <td>no</td>\n",
       "      <td>no</td>\n",
       "      <td>ckd</td>\n",
       "    </tr>\n",
       "    <tr>\n",
       "      <th>2</th>\n",
       "      <td>62.0</td>\n",
       "      <td>80.0</td>\n",
       "      <td>1.010</td>\n",
       "      <td>2.0</td>\n",
       "      <td>3.0</td>\n",
       "      <td>normal</td>\n",
       "      <td>normal</td>\n",
       "      <td>notpresent</td>\n",
       "      <td>notpresent</td>\n",
       "      <td>423.0</td>\n",
       "      <td>...</td>\n",
       "      <td>31</td>\n",
       "      <td>7500</td>\n",
       "      <td>NaN</td>\n",
       "      <td>no</td>\n",
       "      <td>yes</td>\n",
       "      <td>no</td>\n",
       "      <td>poor</td>\n",
       "      <td>no</td>\n",
       "      <td>yes</td>\n",
       "      <td>ckd</td>\n",
       "    </tr>\n",
       "    <tr>\n",
       "      <th>3</th>\n",
       "      <td>48.0</td>\n",
       "      <td>70.0</td>\n",
       "      <td>1.005</td>\n",
       "      <td>4.0</td>\n",
       "      <td>0.0</td>\n",
       "      <td>normal</td>\n",
       "      <td>abnormal</td>\n",
       "      <td>present</td>\n",
       "      <td>notpresent</td>\n",
       "      <td>117.0</td>\n",
       "      <td>...</td>\n",
       "      <td>32</td>\n",
       "      <td>6700</td>\n",
       "      <td>3.9</td>\n",
       "      <td>yes</td>\n",
       "      <td>no</td>\n",
       "      <td>no</td>\n",
       "      <td>poor</td>\n",
       "      <td>yes</td>\n",
       "      <td>yes</td>\n",
       "      <td>ckd</td>\n",
       "    </tr>\n",
       "    <tr>\n",
       "      <th>4</th>\n",
       "      <td>51.0</td>\n",
       "      <td>80.0</td>\n",
       "      <td>1.010</td>\n",
       "      <td>2.0</td>\n",
       "      <td>0.0</td>\n",
       "      <td>normal</td>\n",
       "      <td>normal</td>\n",
       "      <td>notpresent</td>\n",
       "      <td>notpresent</td>\n",
       "      <td>106.0</td>\n",
       "      <td>...</td>\n",
       "      <td>35</td>\n",
       "      <td>7300</td>\n",
       "      <td>4.6</td>\n",
       "      <td>no</td>\n",
       "      <td>no</td>\n",
       "      <td>no</td>\n",
       "      <td>good</td>\n",
       "      <td>no</td>\n",
       "      <td>no</td>\n",
       "      <td>ckd</td>\n",
       "    </tr>\n",
       "  </tbody>\n",
       "</table>\n",
       "<p>5 rows × 25 columns</p>\n",
       "</div>"
      ],
      "text/plain": [
       "    age    bp     sg   al   su     rbc        pc         pcc          ba  \\\n",
       "0  48.0  80.0  1.020  1.0  0.0     NaN    normal  notpresent  notpresent   \n",
       "1   7.0  50.0  1.020  4.0  0.0     NaN    normal  notpresent  notpresent   \n",
       "2  62.0  80.0  1.010  2.0  3.0  normal    normal  notpresent  notpresent   \n",
       "3  48.0  70.0  1.005  4.0  0.0  normal  abnormal     present  notpresent   \n",
       "4  51.0  80.0  1.010  2.0  0.0  normal    normal  notpresent  notpresent   \n",
       "\n",
       "     bgr  ...  pcv  wbcc  rbcc  htn   dm cad appet   pe  ane class  \n",
       "0  121.0  ...   44  7800   5.2  yes  yes  no  good   no   no   ckd  \n",
       "1    NaN  ...   38  6000   NaN   no   no  no  good   no   no   ckd  \n",
       "2  423.0  ...   31  7500   NaN   no  yes  no  poor   no  yes   ckd  \n",
       "3  117.0  ...   32  6700   3.9  yes   no  no  poor  yes  yes   ckd  \n",
       "4  106.0  ...   35  7300   4.6   no   no  no  good   no   no   ckd  \n",
       "\n",
       "[5 rows x 25 columns]"
      ]
     },
     "execution_count": 2,
     "metadata": {},
     "output_type": "execute_result"
    }
   ],
   "source": [
    "dataset = pd.read_csv('chronic_kidney_disease.csv', na_values=[\"?\"], sep = ',')\n",
    "\n",
    "print(f\"Number of observations and features in the dataset: {dataset.shape}\")\n",
    "dataset.head()"
   ]
  },
  {
   "cell_type": "markdown",
   "metadata": {},
   "source": [
    "#### 2.C Dataset observation <a name=\"Datasetobservation\"></a> \n",
    "\n",
    "Before we begin touching the data, we will get an overview of it to make sure everything is being displayed correctly and see what sort of data preprocessing will need to be done. "
   ]
  },
  {
   "cell_type": "code",
   "execution_count": 3,
   "metadata": {},
   "outputs": [
    {
     "name": "stdout",
     "output_type": "stream",
     "text": [
      "The number of missing values for each feature:\n",
      "age        9\n",
      "bp        12\n",
      "sg        47\n",
      "al        46\n",
      "su        49\n",
      "rbc      152\n",
      "pc        65\n",
      "pcc        4\n",
      "ba         4\n",
      "bgr       44\n",
      "bu        19\n",
      "sc        17\n",
      "sod       87\n",
      "pot       88\n",
      "hemo      52\n",
      "pcv       70\n",
      "wbcc     105\n",
      "rbcc     130\n",
      "htn        2\n",
      "dm         2\n",
      "cad        2\n",
      "appet      1\n",
      "pe         1\n",
      "ane        1\n",
      "class      0\n",
      "dtype: int64\n"
     ]
    }
   ],
   "source": [
    "print(\"The number of missing values for each feature:\")\n",
    "print(dataset.isna().sum())"
   ]
  },
  {
   "cell_type": "code",
   "execution_count": 4,
   "metadata": {},
   "outputs": [
    {
     "data": {
      "text/plain": [
       "age      float64\n",
       "bp       float64\n",
       "sg       float64\n",
       "al       float64\n",
       "su       float64\n",
       "rbc       object\n",
       "pc        object\n",
       "pcc       object\n",
       "ba        object\n",
       "bgr      float64\n",
       "bu       float64\n",
       "sc       float64\n",
       "sod      float64\n",
       "pot      float64\n",
       "hemo     float64\n",
       "pcv       object\n",
       "wbcc      object\n",
       "rbcc      object\n",
       "htn       object\n",
       "dm        object\n",
       "cad       object\n",
       "appet     object\n",
       "pe        object\n",
       "ane       object\n",
       "class     object\n",
       "dtype: object"
      ]
     },
     "execution_count": 4,
     "metadata": {},
     "output_type": "execute_result"
    }
   ],
   "source": [
    "dataset.dtypes"
   ]
  },
  {
   "cell_type": "markdown",
   "metadata": {},
   "source": [
    "by comparing the data types to what they should be in the `chronic_kidney_disease.info` file we can see that the `pcv`, `wbcc` and `rbcc` features are listed as objects when they should be numerical. We can look further into these features to see why it has been listed as an `object` and not a `float64`."
   ]
  },
  {
   "cell_type": "code",
   "execution_count": 5,
   "metadata": {},
   "outputs": [
    {
     "name": "stdout",
     "output_type": "stream",
     "text": [
      "Column pcv:\n",
      "52      21\n",
      "41      21\n",
      "44      19\n",
      "48      19\n",
      "40      16\n",
      "43      14\n",
      "45      13\n",
      "42      13\n",
      "32      12\n",
      "36      12\n",
      "50      12\n",
      "33      12\n",
      "28      12\n",
      "37      11\n",
      "34      11\n",
      "29       9\n",
      "30       9\n",
      "46       9\n",
      "35       9\n",
      "31       8\n",
      "24       7\n",
      "39       7\n",
      "26       6\n",
      "38       5\n",
      "54       4\n",
      "47       4\n",
      "51       4\n",
      "53       4\n",
      "49       4\n",
      "22       3\n",
      "27       3\n",
      "25       3\n",
      "19       2\n",
      "23       2\n",
      "\\t?      1\n",
      "\\t43     1\n",
      "18       1\n",
      "14       1\n",
      "17       1\n",
      "9        1\n",
      "16       1\n",
      "21       1\n",
      "15       1\n",
      "20       1\n",
      "Name: pcv, dtype: int64 \n",
      "\n",
      "Column wbcc:\n",
      "9800     11\n",
      "6700     10\n",
      "9600      9\n",
      "9200      9\n",
      "7200      9\n",
      "         ..\n",
      "2600      1\n",
      "2200      1\n",
      "\\t?       1\n",
      "10800     1\n",
      "4100      1\n",
      "Name: wbcc, Length: 92, dtype: int64 \n",
      "\n",
      "Column rbcc:\n",
      "5.2    18\n",
      "4.5    16\n",
      "4.9    14\n",
      "4.7    11\n",
      "3.9    10\n",
      "5      10\n",
      "4.8    10\n",
      "4.6     9\n",
      "3.4     9\n",
      "5.9     8\n",
      "5.5     8\n",
      "3.7     8\n",
      "6.1     8\n",
      "5.8     7\n",
      "5.4     7\n",
      "5.3     7\n",
      "3.8     7\n",
      "4.2     6\n",
      "5.6     6\n",
      "4.3     6\n",
      "4       6\n",
      "3.2     5\n",
      "5.1     5\n",
      "4.1     5\n",
      "5.7     5\n",
      "4.4     5\n",
      "6.2     5\n",
      "6.4     5\n",
      "6.5     5\n",
      "6       4\n",
      "6.3     4\n",
      "3.6     4\n",
      "3       3\n",
      "3.5     3\n",
      "3.3     3\n",
      "2.6     2\n",
      "3.1     2\n",
      "2.5     2\n",
      "2.9     2\n",
      "2.8     2\n",
      "2.1     2\n",
      "2.7     2\n",
      "\\t?     1\n",
      "8       1\n",
      "2.4     1\n",
      "2.3     1\n",
      "Name: rbcc, dtype: int64 \n",
      "\n"
     ]
    }
   ],
   "source": [
    "wrong_type_cols = ['pcv','wbcc','rbcc']\n",
    "\n",
    "for wrong_type_cols in wrong_type_cols:\n",
    "    print('Column ' + wrong_type_cols + ':')\n",
    "    print(dataset[wrong_type_cols].value_counts(), '\\n')"
   ]
  },
  {
   "cell_type": "markdown",
   "metadata": {},
   "source": [
    "#### 2.D Correcting values<a name=\"Correctingvalues\"></a> \n",
    "\n",
    "We can see there are values that have a `\\t` in front of them. This is most likely caused by the way the data has been recorded. In this case, it seems that there is a leading tab space before the values, so when it is imported in to this notebook that tab space is recorded as part of the value. So we will go through these columns and strip the `\\t` from the values."
   ]
  },
  {
   "cell_type": "code",
   "execution_count": 6,
   "metadata": {},
   "outputs": [],
   "source": [
    "wrong_type_cols = ['pcv','wbcc','rbcc']\n",
    "\n",
    "for wrong_type_cols in wrong_type_cols:\n",
    "    dataset[wrong_type_cols] = dataset[wrong_type_cols].str.strip()"
   ]
  },
  {
   "cell_type": "code",
   "execution_count": 7,
   "metadata": {},
   "outputs": [
    {
     "name": "stdout",
     "output_type": "stream",
     "text": [
      "Column pcv:\n",
      "52    21\n",
      "41    21\n",
      "44    19\n",
      "48    19\n",
      "40    16\n",
      "43    15\n",
      "45    13\n",
      "42    13\n",
      "33    12\n",
      "28    12\n",
      "50    12\n",
      "32    12\n",
      "36    12\n",
      "37    11\n",
      "34    11\n",
      "29     9\n",
      "35     9\n",
      "46     9\n",
      "30     9\n",
      "31     8\n",
      "24     7\n",
      "39     7\n",
      "26     6\n",
      "38     5\n",
      "53     4\n",
      "47     4\n",
      "49     4\n",
      "54     4\n",
      "51     4\n",
      "27     3\n",
      "25     3\n",
      "22     3\n",
      "23     2\n",
      "19     2\n",
      "21     1\n",
      "9      1\n",
      "14     1\n",
      "18     1\n",
      "?      1\n",
      "20     1\n",
      "16     1\n",
      "15     1\n",
      "17     1\n",
      "Name: pcv, dtype: int64 \n",
      "\n",
      "Column wbcc:\n",
      "9800     11\n",
      "6700     10\n",
      "7200      9\n",
      "9600      9\n",
      "9200      9\n",
      "         ..\n",
      "2600      1\n",
      "10800     1\n",
      "12100     1\n",
      "4900      1\n",
      "4100      1\n",
      "Name: wbcc, Length: 90, dtype: int64 \n",
      "\n",
      "Column rbcc:\n",
      "5.2    18\n",
      "4.5    16\n",
      "4.9    14\n",
      "4.7    11\n",
      "4.8    10\n",
      "3.9    10\n",
      "5      10\n",
      "4.6     9\n",
      "3.4     9\n",
      "5.9     8\n",
      "6.1     8\n",
      "5.5     8\n",
      "3.7     8\n",
      "5.4     7\n",
      "5.8     7\n",
      "5.3     7\n",
      "3.8     7\n",
      "4.2     6\n",
      "5.6     6\n",
      "4.3     6\n",
      "4       6\n",
      "3.2     5\n",
      "5.1     5\n",
      "4.1     5\n",
      "5.7     5\n",
      "4.4     5\n",
      "6.2     5\n",
      "6.5     5\n",
      "6.4     5\n",
      "6       4\n",
      "6.3     4\n",
      "3.6     4\n",
      "3.5     3\n",
      "3.3     3\n",
      "3       3\n",
      "2.6     2\n",
      "2.8     2\n",
      "3.1     2\n",
      "2.5     2\n",
      "2.9     2\n",
      "2.1     2\n",
      "2.7     2\n",
      "8       1\n",
      "?       1\n",
      "2.4     1\n",
      "2.3     1\n",
      "Name: rbcc, dtype: int64 \n",
      "\n"
     ]
    }
   ],
   "source": [
    "wrong_type_cols = ['pcv','wbcc','rbcc']\n",
    "\n",
    "for wrong_type_cols in wrong_type_cols:\n",
    "    print('Column ' + wrong_type_cols + ':')\n",
    "    print(dataset[wrong_type_cols].value_counts(), '\\n')"
   ]
  },
  {
   "cell_type": "markdown",
   "metadata": {},
   "source": [
    "Now that the `\\t` has been removed there are a few `?` characters that didn't get turned into `NaN` when the file was imported so we will go ahead and convert those.  "
   ]
  },
  {
   "cell_type": "code",
   "execution_count": 8,
   "metadata": {},
   "outputs": [],
   "source": [
    "dataset = dataset.replace('?', np.nan)\n"
   ]
  },
  {
   "cell_type": "markdown",
   "metadata": {},
   "source": [
    "Now that we have fixed the string values and converted the `?` values in to `NaN` we can attempt to convert those features into there correct data type (numeric)."
   ]
  },
  {
   "cell_type": "code",
   "execution_count": 9,
   "metadata": {},
   "outputs": [
    {
     "data": {
      "text/plain": [
       "age      float64\n",
       "bp       float64\n",
       "sg       float64\n",
       "al       float64\n",
       "su       float64\n",
       "rbc       object\n",
       "pc        object\n",
       "pcc       object\n",
       "ba        object\n",
       "bgr      float64\n",
       "bu       float64\n",
       "sc       float64\n",
       "sod      float64\n",
       "pot      float64\n",
       "hemo     float64\n",
       "pcv      float64\n",
       "wbcc     float64\n",
       "rbcc     float64\n",
       "htn       object\n",
       "dm        object\n",
       "cad       object\n",
       "appet     object\n",
       "pe        object\n",
       "ane       object\n",
       "class     object\n",
       "dtype: object"
      ]
     },
     "execution_count": 9,
     "metadata": {},
     "output_type": "execute_result"
    }
   ],
   "source": [
    "wrong_type_cols = ['pcv','wbcc','rbcc']\n",
    "dataset[wrong_type_cols] = dataset[wrong_type_cols].astype(np.number)\n",
    "dataset.dtypes"
   ]
  },
  {
   "cell_type": "markdown",
   "metadata": {},
   "source": [
    "Now that the numerical features have been set to the correct data types we should check the catagorical data to see if they have the correct values."
   ]
  },
  {
   "cell_type": "code",
   "execution_count": 10,
   "metadata": {},
   "outputs": [
    {
     "name": "stdout",
     "output_type": "stream",
     "text": [
      "Column rbc:\n",
      "normal      201\n",
      "abnormal     47\n",
      "Name: rbc, dtype: int64 \n",
      "\n",
      "Column pc:\n",
      "normal      259\n",
      "abnormal     76\n",
      "Name: pc, dtype: int64 \n",
      "\n",
      "Column pcc:\n",
      "notpresent    354\n",
      "present        42\n",
      "Name: pcc, dtype: int64 \n",
      "\n",
      "Column ba:\n",
      "notpresent    374\n",
      "present        22\n",
      "Name: ba, dtype: int64 \n",
      "\n",
      "Column htn:\n",
      "no     251\n",
      "yes    147\n",
      "Name: htn, dtype: int64 \n",
      "\n",
      "Column dm:\n",
      "no       258\n",
      "yes      134\n",
      "\\tno       3\n",
      "\\tyes      2\n",
      " yes       1\n",
      "Name: dm, dtype: int64 \n",
      "\n",
      "Column cad:\n",
      "no      362\n",
      "yes      34\n",
      "\\tno      2\n",
      "Name: cad, dtype: int64 \n",
      "\n",
      "Column appet:\n",
      "good    317\n",
      "poor     82\n",
      "Name: appet, dtype: int64 \n",
      "\n",
      "Column pe:\n",
      "no     323\n",
      "yes     76\n",
      "Name: pe, dtype: int64 \n",
      "\n",
      "Column ane:\n",
      "no     339\n",
      "yes     60\n",
      "Name: ane, dtype: int64 \n",
      "\n",
      "Column class:\n",
      "ckd       248\n",
      "notckd    150\n",
      "ckd\\t       2\n",
      "Name: class, dtype: int64 \n",
      "\n"
     ]
    }
   ],
   "source": [
    "obj_type_cols = ['rbc','pc','pcc','ba','htn','dm','cad','appet','pe','ane','class']\n",
    "\n",
    "for obj_type_cols in obj_type_cols:\n",
    "    print('Column ' + obj_type_cols + ':')\n",
    "    print(dataset[obj_type_cols].value_counts(), '\\n')"
   ]
  },
  {
   "cell_type": "markdown",
   "metadata": {},
   "source": [
    "Again we seem to have the same problem where the `\\t` has been included in the values when importing the file. "
   ]
  },
  {
   "cell_type": "code",
   "execution_count": 11,
   "metadata": {},
   "outputs": [
    {
     "name": "stdout",
     "output_type": "stream",
     "text": [
      "\n",
      "Column rbc:\n",
      "normal      201\n",
      "abnormal     47\n",
      "Name: rbc, dtype: int64 \n",
      "\n",
      "\n",
      "Column pc:\n",
      "normal      259\n",
      "abnormal     76\n",
      "Name: pc, dtype: int64 \n",
      "\n",
      "\n",
      "Column pcc:\n",
      "notpresent    354\n",
      "present        42\n",
      "Name: pcc, dtype: int64 \n",
      "\n",
      "\n",
      "Column ba:\n",
      "notpresent    374\n",
      "present        22\n",
      "Name: ba, dtype: int64 \n",
      "\n",
      "\n",
      "Column htn:\n",
      "no     251\n",
      "yes    147\n",
      "Name: htn, dtype: int64 \n",
      "\n",
      "\n",
      "Column dm:\n",
      "no     261\n",
      "yes    137\n",
      "Name: dm, dtype: int64 \n",
      "\n",
      "\n",
      "Column cad:\n",
      "no     364\n",
      "yes     34\n",
      "Name: cad, dtype: int64 \n",
      "\n",
      "\n",
      "Column appet:\n",
      "good    317\n",
      "poor     82\n",
      "Name: appet, dtype: int64 \n",
      "\n",
      "\n",
      "Column pe:\n",
      "no     323\n",
      "yes     76\n",
      "Name: pe, dtype: int64 \n",
      "\n",
      "\n",
      "Column ane:\n",
      "no     339\n",
      "yes     60\n",
      "Name: ane, dtype: int64 \n",
      "\n",
      "\n",
      "Column class:\n",
      "ckd       250\n",
      "notckd    150\n",
      "Name: class, dtype: int64 \n",
      "\n"
     ]
    }
   ],
   "source": [
    "obj_type_cols = ['rbc','pc','pcc','ba','htn','dm','cad','appet','pe','ane','class']\n",
    "\n",
    "for obj_type_cols in obj_type_cols:\n",
    "    dataset[obj_type_cols] = dataset[obj_type_cols].str.strip()\n",
    "\n",
    "obj_type_cols = ['rbc','pc','pcc','ba','htn','dm','cad','appet','pe','ane','class']\n",
    "\n",
    "for obj_type_cols in obj_type_cols:\n",
    "    print('\\nColumn ' + obj_type_cols + ':')\n",
    "    print(dataset[obj_type_cols].value_counts(), '\\n')"
   ]
  },
  {
   "cell_type": "markdown",
   "metadata": {},
   "source": [
    "Now that the values have been stripped, we can see that each unique value in the observations are what they should be as per the `chronic_kidney_disease.info` file. \n",
    "\n",
    "#### 2.E Redundant features <a name= \"Redundantfeatures\"></a>\n",
    "\n",
    "Next, we should look to see if there are any redundant features, this can included if any features have an **ID-like** quality, This means that each observation has a unique value, **Constant features**, which is when two or more features have their values match throughout the observations and also **date** or **time** features.\n",
    "\n",
    "We can quickly remove any **ID-like** features with the following code:\n"
   ]
  },
  {
   "cell_type": "code",
   "execution_count": 12,
   "metadata": {},
   "outputs": [
    {
     "data": {
      "text/plain": [
       "(400, 25)"
      ]
     },
     "execution_count": 12,
     "metadata": {},
     "output_type": "execute_result"
    }
   ],
   "source": [
    "dataset = dataset.loc[:, dataset.nunique() != 1]\n",
    "dataset.shape"
   ]
  },
  {
   "cell_type": "markdown",
   "metadata": {},
   "source": [
    "As we can see there is still 25 features so there is no **ID-like** features.\n",
    "\n",
    "when looking for **constant features** we are looking for features that have the same amount of unique values as well as the same amount of those unique features. When looking at the features from this dataset earlier there isn't any features that fall under that definition, so we do not have to worry about **constant features**.\n",
    "\n",
    "Finally by looking through the `chronic_kidney_disease.info` file we know there is no **date** or **time** features.\n"
   ]
  },
  {
   "cell_type": "markdown",
   "metadata": {},
   "source": [
    "#### 2.F Missing values <a name=\"Missingvalues\"></a>\n",
    "\n",
    "As we are told in the `chronic_kidney_disease.info` file there are missing values so we will check each feature for them."
   ]
  },
  {
   "cell_type": "code",
   "execution_count": 13,
   "metadata": {
    "scrolled": false
   },
   "outputs": [
    {
     "name": "stdout",
     "output_type": "stream",
     "text": [
      "The number of missing values for each feature:\n",
      "age        9\n",
      "bp        12\n",
      "sg        47\n",
      "al        46\n",
      "su        49\n",
      "rbc      152\n",
      "pc        65\n",
      "pcc        4\n",
      "ba         4\n",
      "bgr       44\n",
      "bu        19\n",
      "sc        17\n",
      "sod       87\n",
      "pot       88\n",
      "hemo      52\n",
      "pcv       71\n",
      "wbcc     106\n",
      "rbcc     131\n",
      "htn        2\n",
      "dm         2\n",
      "cad        2\n",
      "appet      1\n",
      "pe         1\n",
      "ane        1\n",
      "class      0\n",
      "dtype: int64\n"
     ]
    }
   ],
   "source": [
    "print(\"The number of missing values for each feature:\")\n",
    "print(dataset.isna().sum())"
   ]
  },
  {
   "cell_type": "markdown",
   "metadata": {},
   "source": [
    "As we can see above, there is a lot of missing values throughout this dataset. Ranging from just 1 missing in the `appet`, `pe` and `ane` features and up to 152 in the `rbc` feature. The most important thing to notice here is, there are no missing values for the target feature `class`. This means that we can still use all the observations depending on how we plan to deal with the missing values in the rest of the features. \n",
    "\n",
    "The easiest way of dealing with missing values is to just remove the observation from the dataset, known as **complete case analysis**<sup>[2](#2)</sup>. When removing observations this way, it is important to note that this can introduce a bias into the dataset if the missing values are not distributed randomly throughout the dataset<sup>[2](#2)</sup>.   "
   ]
  },
  {
   "cell_type": "code",
   "execution_count": 14,
   "metadata": {
    "scrolled": true
   },
   "outputs": [
    {
     "name": "stdout",
     "output_type": "stream",
     "text": [
      "Dataset shape with missing values: (400, 25)\n",
      "Dataset shape where the observations have been dropped: (158, 25)\n"
     ]
    }
   ],
   "source": [
    "droppeddata=dataset.dropna(axis=0)\n",
    "print(f\"Dataset shape with missing values: {dataset.shape}\")\n",
    "print(f\"Dataset shape where the observations have been dropped: {droppeddata.shape}\") "
   ]
  },
  {
   "cell_type": "markdown",
   "metadata": {},
   "source": [
    "**Complete case analysis** removes 60.5% of the total observations from the dataset. Leaving us with 158 observations. Even though we are left with a much smaller dataset we can still use this with our models further down but for this project we are required to have at least 200 observations. so we will try some alternate ways of dealing with the missing values.\n",
    "One method is to check each feature and if there is over 60% of the values missing, then this feature should be removed<sup>[2](#2)</sup>.\n"
   ]
  },
  {
   "cell_type": "code",
   "execution_count": 15,
   "metadata": {},
   "outputs": [
    {
     "name": "stdout",
     "output_type": "stream",
     "text": [
      "The percentage of missing values for each feature:\n",
      "age       2.25\n",
      "bp        3.00\n",
      "sg       11.75\n",
      "al       11.50\n",
      "su       12.25\n",
      "rbc      38.00\n",
      "pc       16.25\n",
      "pcc       1.00\n",
      "ba        1.00\n",
      "bgr      11.00\n",
      "bu        4.75\n",
      "sc        4.25\n",
      "sod      21.75\n",
      "pot      22.00\n",
      "hemo     13.00\n",
      "pcv      17.75\n",
      "wbcc     26.50\n",
      "rbcc     32.75\n",
      "htn       0.50\n",
      "dm        0.50\n",
      "cad       0.50\n",
      "appet     0.25\n",
      "pe        0.25\n",
      "ane       0.25\n",
      "class     0.00\n",
      "dtype: float64\n"
     ]
    }
   ],
   "source": [
    "print(\"The percentage of missing values for each feature:\")\n",
    "print(dataset.isna().sum()/400*100)"
   ]
  },
  {
   "cell_type": "markdown",
   "metadata": {},
   "source": [
    "So we can see that the `rbc` feature has the highest missing values totalling 38%. This doesn't exceed the 60% threshold we use to determine if the feature should be removed, therefore removing the features is not the best option. \n",
    "\n",
    "This leaves us with the option of **Imputation**<sup>[2](#2)</sup>. **Imputation** replaces the missing values with plausible estimated values. For continuous features, the mean or median can be used and for categorical features the mode can be used. It is important to consider that if **imputation** replaces a large amount of data, it can shift the central tendency of the feature<sup>[2](#2)</sup>. So **imputation** should be considered carefully. It is recommended that if the feature is missing over 30% of it's values than **imputation** is to be used reluctantly and over 50%, it is advised against using it at all<sup>[2](#2)</sup>. As the features `rbc` and `rbcc` are both missing over 30% of it's values, we'll try and remove the observations where they are missing values in those two features.\n"
   ]
  },
  {
   "cell_type": "code",
   "execution_count": 16,
   "metadata": {},
   "outputs": [
    {
     "name": "stdout",
     "output_type": "stream",
     "text": [
      "The shape of the dataset when observations with missing values from the 'rbc' and 'rbcc' features are removed: (199, 25)\n"
     ]
    }
   ],
   "source": [
    "mask = (dataset['rbc'].isnull() | dataset['rbcc'].isnull())\n",
    "df = dataset.loc[~mask]\n",
    "print(f\"The shape of the dataset when observations with missing values from the 'rbc' and 'rbcc' features are removed: {df.shape}\")"
   ]
  },
  {
   "cell_type": "markdown",
   "metadata": {},
   "source": [
    "Unfortunately this leaves us again with just too few observations (we require 200). So as the feature `rbc` has the highest percentage of missing values, we will remove the observations that have missing values from that feature and the rest will use **imputation**. \n",
    "\n",
    "It should be noted that we are only doing this method of fixing missing values as we have a requirement as part of the course project (min. 200 observations), in most circumstances it is best to go with the simplest method. In this case it would be **Complete case analysis** (the removal of observations with missing values).\n"
   ]
  },
  {
   "cell_type": "code",
   "execution_count": 17,
   "metadata": {},
   "outputs": [
    {
     "name": "stdout",
     "output_type": "stream",
     "text": [
      "The shape of the dataset when observations with missing values from the 'rbc' feature are removed: (248, 25)\n",
      "\n",
      "The missing values for each feature:\n"
     ]
    },
    {
     "data": {
      "text/plain": [
       "age       4\n",
       "bp        7\n",
       "sg        2\n",
       "al        3\n",
       "su        3\n",
       "rbc       0\n",
       "pc        9\n",
       "pcc       3\n",
       "ba        3\n",
       "bgr      23\n",
       "bu       13\n",
       "sc       10\n",
       "sod      33\n",
       "pot      33\n",
       "hemo     22\n",
       "pcv      23\n",
       "wbcc     38\n",
       "rbcc     49\n",
       "htn       2\n",
       "dm        2\n",
       "cad       2\n",
       "appet     1\n",
       "pe        1\n",
       "ane       1\n",
       "class     0\n",
       "dtype: int64"
      ]
     },
     "execution_count": 17,
     "metadata": {},
     "output_type": "execute_result"
    }
   ],
   "source": [
    "mask = (dataset['rbc'].isnull())\n",
    "df = dataset.loc[~mask]\n",
    "print(f\"The shape of the dataset when observations with missing values from the 'rbc' feature are removed: {df.shape}\")\n",
    "print(\"\\nThe missing values for each feature:\")\n",
    "df.isna().sum()"
   ]
  },
  {
   "cell_type": "markdown",
   "metadata": {},
   "source": [
    "We can see now that we have enough observations (248) to continue using this dataset for the project. There are no longer any missing values in the `rbc` feature but there are still some missing in the rest. "
   ]
  },
  {
   "cell_type": "markdown",
   "metadata": {},
   "source": [
    "#### 2.G Imputation <a name= \"Imputation\"></a> \n",
    "\n",
    "The next step in dealing with the missing values in our case is to replace all the missing values. For numerical values we can use either the mean or the median (We will use the median for our data) and for catagorical we can use the mode. Part of this code was taken from the answers to assignment 1<sup>[3](#3)</sup>"
   ]
  },
  {
   "cell_type": "code",
   "execution_count": 18,
   "metadata": {},
   "outputs": [
    {
     "name": "stdout",
     "output_type": "stream",
     "text": [
      "Categorical Column rbc: Mode = normal\n",
      "Categorical Column pc: Mode = normal\n",
      "Categorical Column pcc: Mode = notpresent\n",
      "Categorical Column ba: Mode = notpresent\n",
      "Categorical Column htn: Mode = no\n",
      "Categorical Column dm: Mode = no\n",
      "Categorical Column cad: Mode = no\n",
      "Categorical Column appet: Mode = good\n",
      "Categorical Column pe: Mode = no\n",
      "Categorical Column ane: Mode = no\n",
      "Categorical Column class: Mode = notckd\n",
      "Numerical Column age: Median = 50.0\n",
      "Numerical Column bp: Median = 80.0\n",
      "Numerical Column sg: Median = 1.02\n",
      "Numerical Column al: Median = 0.0\n",
      "Numerical Column su: Median = 0.0\n",
      "Numerical Column bgr: Median = 119.0\n",
      "Numerical Column bu: Median = 40.0\n",
      "Numerical Column sc: Median = 1.15\n",
      "Numerical Column sod: Median = 139.0\n",
      "Numerical Column pot: Median = 4.5\n",
      "Numerical Column hemo: Median = 13.85\n",
      "Numerical Column pcv: Median = 42.0\n",
      "Numerical Column wbcc: Median = 7900.0\n",
      "Numerical Column rbcc: Median = 4.9\n"
     ]
    }
   ],
   "source": [
    "data_clean = df.copy()\n",
    "\n",
    "cat_col = df.columns[df.dtypes==object]\n",
    "num_col = df.columns[df.dtypes==float]\n",
    "\n",
    "for cat_col in cat_col:\n",
    "    mode = data_clean[cat_col].mode()[0]\n",
    "    print('Categorical Column ' + cat_col + ': Mode = ' + mode)\n",
    "    data_clean[cat_col] = data_clean[cat_col].fillna(mode)\n",
    "\n",
    "for num_col in num_col:\n",
    "    median = np.round(data_clean[num_col].median(), 3)\n",
    "    print('Numerical Column ' + num_col + ': Median = ' + str(median))\n",
    "    data_clean[num_col] = data_clean[num_col].fillna(median)"
   ]
  },
  {
   "cell_type": "code",
   "execution_count": 19,
   "metadata": {},
   "outputs": [
    {
     "data": {
      "text/plain": [
       "age      0\n",
       "bp       0\n",
       "sg       0\n",
       "al       0\n",
       "su       0\n",
       "rbc      0\n",
       "pc       0\n",
       "pcc      0\n",
       "ba       0\n",
       "bgr      0\n",
       "bu       0\n",
       "sc       0\n",
       "sod      0\n",
       "pot      0\n",
       "hemo     0\n",
       "pcv      0\n",
       "wbcc     0\n",
       "rbcc     0\n",
       "htn      0\n",
       "dm       0\n",
       "cad      0\n",
       "appet    0\n",
       "pe       0\n",
       "ane      0\n",
       "class    0\n",
       "dtype: int64"
      ]
     },
     "execution_count": 19,
     "metadata": {},
     "output_type": "execute_result"
    }
   ],
   "source": [
    "data_clean.isna().sum()"
   ]
  },
  {
   "cell_type": "markdown",
   "metadata": {},
   "source": [
    "As we can see now there are no more missing values.\n",
    "\n",
    "#### 2.H Encoding <a name='Encoding'></a>\n",
    "\n",
    "The dataframe we have created here: `data_clean`, will be used below in the data exploration section but to use the machine learning algorithms, one-hot-encoding of the categorical features needs to take place. We will start by creating a dataframe without the target feature `class` and make a separate dataframe with the target feature.\n"
   ]
  },
  {
   "cell_type": "code",
   "execution_count": 20,
   "metadata": {},
   "outputs": [],
   "source": [
    "data_clean_encoded = data_clean.drop(columns = 'class')\n",
    "\n",
    "data_target = data_clean['class']"
   ]
  },
  {
   "cell_type": "markdown",
   "metadata": {},
   "source": [
    "When we looked through our categorical features earlier and if we look at the descriptions of the feature in the `chronic_kidney_disease.info` file, we find that all the categorical features are binary. We can use this piece of code from assignment 1<sup>[3](#3)</sup> to one-hot-encode all the categorical features."
   ]
  },
  {
   "cell_type": "code",
   "execution_count": 21,
   "metadata": {},
   "outputs": [
    {
     "name": "stdout",
     "output_type": "stream",
     "text": [
      "(248, 24)\n"
     ]
    },
    {
     "data": {
      "text/html": [
       "<div>\n",
       "<style scoped>\n",
       "    .dataframe tbody tr th:only-of-type {\n",
       "        vertical-align: middle;\n",
       "    }\n",
       "\n",
       "    .dataframe tbody tr th {\n",
       "        vertical-align: top;\n",
       "    }\n",
       "\n",
       "    .dataframe thead th {\n",
       "        text-align: right;\n",
       "    }\n",
       "</style>\n",
       "<table border=\"1\" class=\"dataframe\">\n",
       "  <thead>\n",
       "    <tr style=\"text-align: right;\">\n",
       "      <th></th>\n",
       "      <th>age</th>\n",
       "      <th>bp</th>\n",
       "      <th>sg</th>\n",
       "      <th>al</th>\n",
       "      <th>su</th>\n",
       "      <th>rbc</th>\n",
       "      <th>pc</th>\n",
       "      <th>pcc</th>\n",
       "      <th>ba</th>\n",
       "      <th>bgr</th>\n",
       "      <th>...</th>\n",
       "      <th>hemo</th>\n",
       "      <th>pcv</th>\n",
       "      <th>wbcc</th>\n",
       "      <th>rbcc</th>\n",
       "      <th>htn</th>\n",
       "      <th>dm</th>\n",
       "      <th>cad</th>\n",
       "      <th>appet</th>\n",
       "      <th>pe</th>\n",
       "      <th>ane</th>\n",
       "    </tr>\n",
       "  </thead>\n",
       "  <tbody>\n",
       "    <tr>\n",
       "      <th>2</th>\n",
       "      <td>62.0</td>\n",
       "      <td>80.0</td>\n",
       "      <td>1.010</td>\n",
       "      <td>2.0</td>\n",
       "      <td>3.0</td>\n",
       "      <td>1</td>\n",
       "      <td>1</td>\n",
       "      <td>0</td>\n",
       "      <td>0</td>\n",
       "      <td>423.0</td>\n",
       "      <td>...</td>\n",
       "      <td>9.6</td>\n",
       "      <td>31.0</td>\n",
       "      <td>7500.0</td>\n",
       "      <td>4.9</td>\n",
       "      <td>0</td>\n",
       "      <td>1</td>\n",
       "      <td>0</td>\n",
       "      <td>1</td>\n",
       "      <td>0</td>\n",
       "      <td>1</td>\n",
       "    </tr>\n",
       "    <tr>\n",
       "      <th>3</th>\n",
       "      <td>48.0</td>\n",
       "      <td>70.0</td>\n",
       "      <td>1.005</td>\n",
       "      <td>4.0</td>\n",
       "      <td>0.0</td>\n",
       "      <td>1</td>\n",
       "      <td>0</td>\n",
       "      <td>1</td>\n",
       "      <td>0</td>\n",
       "      <td>117.0</td>\n",
       "      <td>...</td>\n",
       "      <td>11.2</td>\n",
       "      <td>32.0</td>\n",
       "      <td>6700.0</td>\n",
       "      <td>3.9</td>\n",
       "      <td>1</td>\n",
       "      <td>0</td>\n",
       "      <td>0</td>\n",
       "      <td>1</td>\n",
       "      <td>1</td>\n",
       "      <td>1</td>\n",
       "    </tr>\n",
       "    <tr>\n",
       "      <th>4</th>\n",
       "      <td>51.0</td>\n",
       "      <td>80.0</td>\n",
       "      <td>1.010</td>\n",
       "      <td>2.0</td>\n",
       "      <td>0.0</td>\n",
       "      <td>1</td>\n",
       "      <td>1</td>\n",
       "      <td>0</td>\n",
       "      <td>0</td>\n",
       "      <td>106.0</td>\n",
       "      <td>...</td>\n",
       "      <td>11.6</td>\n",
       "      <td>35.0</td>\n",
       "      <td>7300.0</td>\n",
       "      <td>4.6</td>\n",
       "      <td>0</td>\n",
       "      <td>0</td>\n",
       "      <td>0</td>\n",
       "      <td>0</td>\n",
       "      <td>0</td>\n",
       "      <td>0</td>\n",
       "    </tr>\n",
       "    <tr>\n",
       "      <th>7</th>\n",
       "      <td>24.0</td>\n",
       "      <td>80.0</td>\n",
       "      <td>1.015</td>\n",
       "      <td>2.0</td>\n",
       "      <td>4.0</td>\n",
       "      <td>1</td>\n",
       "      <td>0</td>\n",
       "      <td>0</td>\n",
       "      <td>0</td>\n",
       "      <td>410.0</td>\n",
       "      <td>...</td>\n",
       "      <td>12.4</td>\n",
       "      <td>44.0</td>\n",
       "      <td>6900.0</td>\n",
       "      <td>5.0</td>\n",
       "      <td>0</td>\n",
       "      <td>1</td>\n",
       "      <td>0</td>\n",
       "      <td>0</td>\n",
       "      <td>1</td>\n",
       "      <td>0</td>\n",
       "    </tr>\n",
       "    <tr>\n",
       "      <th>8</th>\n",
       "      <td>52.0</td>\n",
       "      <td>100.0</td>\n",
       "      <td>1.015</td>\n",
       "      <td>3.0</td>\n",
       "      <td>0.0</td>\n",
       "      <td>1</td>\n",
       "      <td>0</td>\n",
       "      <td>1</td>\n",
       "      <td>0</td>\n",
       "      <td>138.0</td>\n",
       "      <td>...</td>\n",
       "      <td>10.8</td>\n",
       "      <td>33.0</td>\n",
       "      <td>9600.0</td>\n",
       "      <td>4.0</td>\n",
       "      <td>1</td>\n",
       "      <td>1</td>\n",
       "      <td>0</td>\n",
       "      <td>0</td>\n",
       "      <td>0</td>\n",
       "      <td>1</td>\n",
       "    </tr>\n",
       "  </tbody>\n",
       "</table>\n",
       "<p>5 rows × 24 columns</p>\n",
       "</div>"
      ],
      "text/plain": [
       "    age     bp     sg   al   su  rbc  pc  pcc  ba    bgr  ...  hemo   pcv  \\\n",
       "2  62.0   80.0  1.010  2.0  3.0    1   1    0   0  423.0  ...   9.6  31.0   \n",
       "3  48.0   70.0  1.005  4.0  0.0    1   0    1   0  117.0  ...  11.2  32.0   \n",
       "4  51.0   80.0  1.010  2.0  0.0    1   1    0   0  106.0  ...  11.6  35.0   \n",
       "7  24.0   80.0  1.015  2.0  4.0    1   0    0   0  410.0  ...  12.4  44.0   \n",
       "8  52.0  100.0  1.015  3.0  0.0    1   0    1   0  138.0  ...  10.8  33.0   \n",
       "\n",
       "     wbcc  rbcc  htn  dm  cad  appet  pe  ane  \n",
       "2  7500.0   4.9    0   1    0      1   0    1  \n",
       "3  6700.0   3.9    1   0    0      1   1    1  \n",
       "4  7300.0   4.6    0   0    0      0   0    0  \n",
       "7  6900.0   5.0    0   1    0      0   1    0  \n",
       "8  9600.0   4.0    1   1    0      0   0    1  \n",
       "\n",
       "[5 rows x 24 columns]"
      ]
     },
     "execution_count": 21,
     "metadata": {},
     "output_type": "execute_result"
    }
   ],
   "source": [
    "cat_col = df.columns[df.dtypes==object]\n",
    "\n",
    "for col in cat_col:\n",
    "    if col == 'class':\n",
    "        continue\n",
    "    q = len(data_clean_encoded[col].unique())\n",
    "    if (q == 2):\n",
    "        data_clean_encoded[col] = pd.get_dummies(data_clean_encoded[col], drop_first=True)\n",
    "        \n",
    "print(data_clean_encoded.shape)\n",
    "\n",
    "data_clean_encoded.head()"
   ]
  },
  {
   "cell_type": "markdown",
   "metadata": {},
   "source": [
    "We now need to encode the target feature so that 1 corrosponds to the positive class (`ckd`) and 0 corrosponds to the negative class (`notckd`)."
   ]
  },
  {
   "cell_type": "code",
   "execution_count": 22,
   "metadata": {},
   "outputs": [
    {
     "name": "stdout",
     "output_type": "stream",
     "text": [
      "notckd    141\n",
      "ckd       107\n",
      "Name: class, dtype: int64 \n",
      "\n",
      "0    141\n",
      "1    107\n",
      "Name: class, dtype: int64\n"
     ]
    }
   ],
   "source": [
    "print(f\"{data_target.value_counts()} \\n\")\n",
    "\n",
    "\n",
    "target_mapping = {'notckd': 0, 'ckd': 1}\n",
    "data_target = data_target.replace(target_mapping)\n",
    "\n",
    "print(data_target.value_counts())"
   ]
  },
  {
   "cell_type": "markdown",
   "metadata": {},
   "source": [
    "#### 2.I Scaling <a name='Scaling'></a>\n",
    "\n",
    "Next, we need to normalise the data using scaling. For this project we will go with min-max scaling, which will be done usng the `scikit learn` module."
   ]
  },
  {
   "cell_type": "code",
   "execution_count": 23,
   "metadata": {},
   "outputs": [
    {
     "name": "stdout",
     "output_type": "stream",
     "text": [
      "(248, 24)\n"
     ]
    },
    {
     "data": {
      "text/html": [
       "<div>\n",
       "<style scoped>\n",
       "    .dataframe tbody tr th:only-of-type {\n",
       "        vertical-align: middle;\n",
       "    }\n",
       "\n",
       "    .dataframe tbody tr th {\n",
       "        vertical-align: top;\n",
       "    }\n",
       "\n",
       "    .dataframe thead th {\n",
       "        text-align: right;\n",
       "    }\n",
       "</style>\n",
       "<table border=\"1\" class=\"dataframe\">\n",
       "  <thead>\n",
       "    <tr style=\"text-align: right;\">\n",
       "      <th></th>\n",
       "      <th>age</th>\n",
       "      <th>bp</th>\n",
       "      <th>sg</th>\n",
       "      <th>al</th>\n",
       "      <th>su</th>\n",
       "      <th>rbc</th>\n",
       "      <th>pc</th>\n",
       "      <th>pcc</th>\n",
       "      <th>ba</th>\n",
       "      <th>bgr</th>\n",
       "      <th>...</th>\n",
       "      <th>hemo</th>\n",
       "      <th>pcv</th>\n",
       "      <th>wbcc</th>\n",
       "      <th>rbcc</th>\n",
       "      <th>htn</th>\n",
       "      <th>dm</th>\n",
       "      <th>cad</th>\n",
       "      <th>appet</th>\n",
       "      <th>pe</th>\n",
       "      <th>ane</th>\n",
       "    </tr>\n",
       "  </thead>\n",
       "  <tbody>\n",
       "    <tr>\n",
       "      <th>0</th>\n",
       "      <td>0.740741</td>\n",
       "      <td>0.500000</td>\n",
       "      <td>0.25</td>\n",
       "      <td>0.4</td>\n",
       "      <td>0.6</td>\n",
       "      <td>1.0</td>\n",
       "      <td>1.0</td>\n",
       "      <td>0.0</td>\n",
       "      <td>0.0</td>\n",
       "      <td>0.856838</td>\n",
       "      <td>...</td>\n",
       "      <td>0.442177</td>\n",
       "      <td>0.488889</td>\n",
       "      <td>0.219008</td>\n",
       "      <td>0.474576</td>\n",
       "      <td>0.0</td>\n",
       "      <td>1.0</td>\n",
       "      <td>0.0</td>\n",
       "      <td>1.0</td>\n",
       "      <td>0.0</td>\n",
       "      <td>1.0</td>\n",
       "    </tr>\n",
       "    <tr>\n",
       "      <th>1</th>\n",
       "      <td>0.567901</td>\n",
       "      <td>0.333333</td>\n",
       "      <td>0.00</td>\n",
       "      <td>0.8</td>\n",
       "      <td>0.0</td>\n",
       "      <td>1.0</td>\n",
       "      <td>0.0</td>\n",
       "      <td>1.0</td>\n",
       "      <td>0.0</td>\n",
       "      <td>0.202991</td>\n",
       "      <td>...</td>\n",
       "      <td>0.551020</td>\n",
       "      <td>0.511111</td>\n",
       "      <td>0.185950</td>\n",
       "      <td>0.305085</td>\n",
       "      <td>1.0</td>\n",
       "      <td>0.0</td>\n",
       "      <td>0.0</td>\n",
       "      <td>1.0</td>\n",
       "      <td>1.0</td>\n",
       "      <td>1.0</td>\n",
       "    </tr>\n",
       "    <tr>\n",
       "      <th>2</th>\n",
       "      <td>0.604938</td>\n",
       "      <td>0.500000</td>\n",
       "      <td>0.25</td>\n",
       "      <td>0.4</td>\n",
       "      <td>0.0</td>\n",
       "      <td>1.0</td>\n",
       "      <td>1.0</td>\n",
       "      <td>0.0</td>\n",
       "      <td>0.0</td>\n",
       "      <td>0.179487</td>\n",
       "      <td>...</td>\n",
       "      <td>0.578231</td>\n",
       "      <td>0.577778</td>\n",
       "      <td>0.210744</td>\n",
       "      <td>0.423729</td>\n",
       "      <td>0.0</td>\n",
       "      <td>0.0</td>\n",
       "      <td>0.0</td>\n",
       "      <td>0.0</td>\n",
       "      <td>0.0</td>\n",
       "      <td>0.0</td>\n",
       "    </tr>\n",
       "    <tr>\n",
       "      <th>3</th>\n",
       "      <td>0.271605</td>\n",
       "      <td>0.500000</td>\n",
       "      <td>0.50</td>\n",
       "      <td>0.4</td>\n",
       "      <td>0.8</td>\n",
       "      <td>1.0</td>\n",
       "      <td>0.0</td>\n",
       "      <td>0.0</td>\n",
       "      <td>0.0</td>\n",
       "      <td>0.829060</td>\n",
       "      <td>...</td>\n",
       "      <td>0.632653</td>\n",
       "      <td>0.777778</td>\n",
       "      <td>0.194215</td>\n",
       "      <td>0.491525</td>\n",
       "      <td>0.0</td>\n",
       "      <td>1.0</td>\n",
       "      <td>0.0</td>\n",
       "      <td>0.0</td>\n",
       "      <td>1.0</td>\n",
       "      <td>0.0</td>\n",
       "    </tr>\n",
       "    <tr>\n",
       "      <th>4</th>\n",
       "      <td>0.617284</td>\n",
       "      <td>0.833333</td>\n",
       "      <td>0.50</td>\n",
       "      <td>0.6</td>\n",
       "      <td>0.0</td>\n",
       "      <td>1.0</td>\n",
       "      <td>0.0</td>\n",
       "      <td>1.0</td>\n",
       "      <td>0.0</td>\n",
       "      <td>0.247863</td>\n",
       "      <td>...</td>\n",
       "      <td>0.523810</td>\n",
       "      <td>0.533333</td>\n",
       "      <td>0.305785</td>\n",
       "      <td>0.322034</td>\n",
       "      <td>1.0</td>\n",
       "      <td>1.0</td>\n",
       "      <td>0.0</td>\n",
       "      <td>0.0</td>\n",
       "      <td>0.0</td>\n",
       "      <td>1.0</td>\n",
       "    </tr>\n",
       "  </tbody>\n",
       "</table>\n",
       "<p>5 rows × 24 columns</p>\n",
       "</div>"
      ],
      "text/plain": [
       "        age        bp    sg   al   su  rbc   pc  pcc   ba       bgr  ...  \\\n",
       "0  0.740741  0.500000  0.25  0.4  0.6  1.0  1.0  0.0  0.0  0.856838  ...   \n",
       "1  0.567901  0.333333  0.00  0.8  0.0  1.0  0.0  1.0  0.0  0.202991  ...   \n",
       "2  0.604938  0.500000  0.25  0.4  0.0  1.0  1.0  0.0  0.0  0.179487  ...   \n",
       "3  0.271605  0.500000  0.50  0.4  0.8  1.0  0.0  0.0  0.0  0.829060  ...   \n",
       "4  0.617284  0.833333  0.50  0.6  0.0  1.0  0.0  1.0  0.0  0.247863  ...   \n",
       "\n",
       "       hemo       pcv      wbcc      rbcc  htn   dm  cad  appet   pe  ane  \n",
       "0  0.442177  0.488889  0.219008  0.474576  0.0  1.0  0.0    1.0  0.0  1.0  \n",
       "1  0.551020  0.511111  0.185950  0.305085  1.0  0.0  0.0    1.0  1.0  1.0  \n",
       "2  0.578231  0.577778  0.210744  0.423729  0.0  0.0  0.0    0.0  0.0  0.0  \n",
       "3  0.632653  0.777778  0.194215  0.491525  0.0  1.0  0.0    0.0  1.0  0.0  \n",
       "4  0.523810  0.533333  0.305785  0.322034  1.0  1.0  0.0    0.0  0.0  1.0  \n",
       "\n",
       "[5 rows x 24 columns]"
      ]
     },
     "execution_count": 23,
     "metadata": {},
     "output_type": "execute_result"
    }
   ],
   "source": [
    "data_clean_encoded_scale = data_clean_encoded.copy()\n",
    "col_names_data_clean_encoded_scale = data_clean_encoded_scale.columns\n",
    "\n",
    "data_clean_encoded_scale = preprocessing.MinMaxScaler().fit_transform(data_clean_encoded_scale)\n",
    "\n",
    "data_clean_encoded_scale_df = pd.DataFrame(data_clean_encoded_scale, columns=col_names_data_clean_encoded_scale)\n",
    "\n",
    "print(data_clean_encoded_scale_df.shape)\n",
    "\n",
    "data_clean_encoded_scale_df.head()"
   ]
  },
  {
   "cell_type": "markdown",
   "metadata": {},
   "source": [
    "Now that we have encoded all the categorical features and the target feature, and done min-max scaling. we need to add the target feature back into the scaled dataframe"
   ]
  },
  {
   "cell_type": "code",
   "execution_count": 24,
   "metadata": {
    "scrolled": true
   },
   "outputs": [
    {
     "data": {
      "text/html": [
       "<div>\n",
       "<style scoped>\n",
       "    .dataframe tbody tr th:only-of-type {\n",
       "        vertical-align: middle;\n",
       "    }\n",
       "\n",
       "    .dataframe tbody tr th {\n",
       "        vertical-align: top;\n",
       "    }\n",
       "\n",
       "    .dataframe thead th {\n",
       "        text-align: right;\n",
       "    }\n",
       "</style>\n",
       "<table border=\"1\" class=\"dataframe\">\n",
       "  <thead>\n",
       "    <tr style=\"text-align: right;\">\n",
       "      <th></th>\n",
       "      <th>age</th>\n",
       "      <th>bp</th>\n",
       "      <th>sg</th>\n",
       "      <th>al</th>\n",
       "      <th>su</th>\n",
       "      <th>rbc</th>\n",
       "      <th>pc</th>\n",
       "      <th>pcc</th>\n",
       "      <th>ba</th>\n",
       "      <th>bgr</th>\n",
       "      <th>...</th>\n",
       "      <th>pcv</th>\n",
       "      <th>wbcc</th>\n",
       "      <th>rbcc</th>\n",
       "      <th>htn</th>\n",
       "      <th>dm</th>\n",
       "      <th>cad</th>\n",
       "      <th>appet</th>\n",
       "      <th>pe</th>\n",
       "      <th>ane</th>\n",
       "      <th>target</th>\n",
       "    </tr>\n",
       "  </thead>\n",
       "  <tbody>\n",
       "    <tr>\n",
       "      <th>0</th>\n",
       "      <td>0.740741</td>\n",
       "      <td>0.500000</td>\n",
       "      <td>0.25</td>\n",
       "      <td>0.4</td>\n",
       "      <td>0.6</td>\n",
       "      <td>1.0</td>\n",
       "      <td>1.0</td>\n",
       "      <td>0.0</td>\n",
       "      <td>0.0</td>\n",
       "      <td>0.856838</td>\n",
       "      <td>...</td>\n",
       "      <td>0.488889</td>\n",
       "      <td>0.219008</td>\n",
       "      <td>0.474576</td>\n",
       "      <td>0.0</td>\n",
       "      <td>1.0</td>\n",
       "      <td>0.0</td>\n",
       "      <td>1.0</td>\n",
       "      <td>0.0</td>\n",
       "      <td>1.0</td>\n",
       "      <td>1</td>\n",
       "    </tr>\n",
       "    <tr>\n",
       "      <th>1</th>\n",
       "      <td>0.567901</td>\n",
       "      <td>0.333333</td>\n",
       "      <td>0.00</td>\n",
       "      <td>0.8</td>\n",
       "      <td>0.0</td>\n",
       "      <td>1.0</td>\n",
       "      <td>0.0</td>\n",
       "      <td>1.0</td>\n",
       "      <td>0.0</td>\n",
       "      <td>0.202991</td>\n",
       "      <td>...</td>\n",
       "      <td>0.511111</td>\n",
       "      <td>0.185950</td>\n",
       "      <td>0.305085</td>\n",
       "      <td>1.0</td>\n",
       "      <td>0.0</td>\n",
       "      <td>0.0</td>\n",
       "      <td>1.0</td>\n",
       "      <td>1.0</td>\n",
       "      <td>1.0</td>\n",
       "      <td>1</td>\n",
       "    </tr>\n",
       "    <tr>\n",
       "      <th>2</th>\n",
       "      <td>0.604938</td>\n",
       "      <td>0.500000</td>\n",
       "      <td>0.25</td>\n",
       "      <td>0.4</td>\n",
       "      <td>0.0</td>\n",
       "      <td>1.0</td>\n",
       "      <td>1.0</td>\n",
       "      <td>0.0</td>\n",
       "      <td>0.0</td>\n",
       "      <td>0.179487</td>\n",
       "      <td>...</td>\n",
       "      <td>0.577778</td>\n",
       "      <td>0.210744</td>\n",
       "      <td>0.423729</td>\n",
       "      <td>0.0</td>\n",
       "      <td>0.0</td>\n",
       "      <td>0.0</td>\n",
       "      <td>0.0</td>\n",
       "      <td>0.0</td>\n",
       "      <td>0.0</td>\n",
       "      <td>1</td>\n",
       "    </tr>\n",
       "    <tr>\n",
       "      <th>3</th>\n",
       "      <td>0.271605</td>\n",
       "      <td>0.500000</td>\n",
       "      <td>0.50</td>\n",
       "      <td>0.4</td>\n",
       "      <td>0.8</td>\n",
       "      <td>1.0</td>\n",
       "      <td>0.0</td>\n",
       "      <td>0.0</td>\n",
       "      <td>0.0</td>\n",
       "      <td>0.829060</td>\n",
       "      <td>...</td>\n",
       "      <td>0.777778</td>\n",
       "      <td>0.194215</td>\n",
       "      <td>0.491525</td>\n",
       "      <td>0.0</td>\n",
       "      <td>1.0</td>\n",
       "      <td>0.0</td>\n",
       "      <td>0.0</td>\n",
       "      <td>1.0</td>\n",
       "      <td>0.0</td>\n",
       "      <td>1</td>\n",
       "    </tr>\n",
       "    <tr>\n",
       "      <th>4</th>\n",
       "      <td>0.617284</td>\n",
       "      <td>0.833333</td>\n",
       "      <td>0.50</td>\n",
       "      <td>0.6</td>\n",
       "      <td>0.0</td>\n",
       "      <td>1.0</td>\n",
       "      <td>0.0</td>\n",
       "      <td>1.0</td>\n",
       "      <td>0.0</td>\n",
       "      <td>0.247863</td>\n",
       "      <td>...</td>\n",
       "      <td>0.533333</td>\n",
       "      <td>0.305785</td>\n",
       "      <td>0.322034</td>\n",
       "      <td>1.0</td>\n",
       "      <td>1.0</td>\n",
       "      <td>0.0</td>\n",
       "      <td>0.0</td>\n",
       "      <td>0.0</td>\n",
       "      <td>1.0</td>\n",
       "      <td>1</td>\n",
       "    </tr>\n",
       "  </tbody>\n",
       "</table>\n",
       "<p>5 rows × 25 columns</p>\n",
       "</div>"
      ],
      "text/plain": [
       "        age        bp    sg   al   su  rbc   pc  pcc   ba       bgr  ...  \\\n",
       "0  0.740741  0.500000  0.25  0.4  0.6  1.0  1.0  0.0  0.0  0.856838  ...   \n",
       "1  0.567901  0.333333  0.00  0.8  0.0  1.0  0.0  1.0  0.0  0.202991  ...   \n",
       "2  0.604938  0.500000  0.25  0.4  0.0  1.0  1.0  0.0  0.0  0.179487  ...   \n",
       "3  0.271605  0.500000  0.50  0.4  0.8  1.0  0.0  0.0  0.0  0.829060  ...   \n",
       "4  0.617284  0.833333  0.50  0.6  0.0  1.0  0.0  1.0  0.0  0.247863  ...   \n",
       "\n",
       "        pcv      wbcc      rbcc  htn   dm  cad  appet   pe  ane  target  \n",
       "0  0.488889  0.219008  0.474576  0.0  1.0  0.0    1.0  0.0  1.0       1  \n",
       "1  0.511111  0.185950  0.305085  1.0  0.0  0.0    1.0  1.0  1.0       1  \n",
       "2  0.577778  0.210744  0.423729  0.0  0.0  0.0    0.0  0.0  0.0       1  \n",
       "3  0.777778  0.194215  0.491525  0.0  1.0  0.0    0.0  1.0  0.0       1  \n",
       "4  0.533333  0.305785  0.322034  1.0  1.0  0.0    0.0  0.0  1.0       1  \n",
       "\n",
       "[5 rows x 25 columns]"
      ]
     },
     "execution_count": 24,
     "metadata": {},
     "output_type": "execute_result"
    }
   ],
   "source": [
    "data_clean_ml = data_clean_encoded_scale_df.assign(target = data_target.values)\n",
    "\n",
    "data_clean_ml.head()"
   ]
  },
  {
   "cell_type": "markdown",
   "metadata": {},
   "source": [
    "The dataset is now ready to be used with any of the various algorithims we plan on using. \n"
   ]
  },
  {
   "cell_type": "markdown",
   "metadata": {},
   "source": [
    "---\n",
    "\n",
    "### 3. Data exploration <a name='Dataexploration'></a>\n",
    "\n",
    "#### 3.A Summary statistics <a name='Summarystatistics'></a>\n",
    "\n",
    "Our first look into our dataset will begin with the summary statistics. This will provide us with a good overview of the data and can also highlight any unusual values in the dataset. The summary statistics are split into the numerical and categorical summaries for ease of viewing:"
   ]
  },
  {
   "cell_type": "code",
   "execution_count": 25,
   "metadata": {},
   "outputs": [
    {
     "name": "stdout",
     "output_type": "stream",
     "text": [
      "This is the numerical features summary statistics:\n"
     ]
    },
    {
     "data": {
      "text/html": [
       "<div>\n",
       "<style scoped>\n",
       "    .dataframe tbody tr th:only-of-type {\n",
       "        vertical-align: middle;\n",
       "    }\n",
       "\n",
       "    .dataframe tbody tr th {\n",
       "        vertical-align: top;\n",
       "    }\n",
       "\n",
       "    .dataframe thead th {\n",
       "        text-align: right;\n",
       "    }\n",
       "</style>\n",
       "<table border=\"1\" class=\"dataframe\">\n",
       "  <thead>\n",
       "    <tr style=\"text-align: right;\">\n",
       "      <th></th>\n",
       "      <th>age</th>\n",
       "      <th>bp</th>\n",
       "      <th>sg</th>\n",
       "      <th>al</th>\n",
       "      <th>su</th>\n",
       "      <th>bgr</th>\n",
       "      <th>bu</th>\n",
       "      <th>sc</th>\n",
       "      <th>sod</th>\n",
       "      <th>pot</th>\n",
       "      <th>hemo</th>\n",
       "      <th>pcv</th>\n",
       "      <th>wbcc</th>\n",
       "      <th>rbcc</th>\n",
       "    </tr>\n",
       "  </thead>\n",
       "  <tbody>\n",
       "    <tr>\n",
       "      <th>count</th>\n",
       "      <td>248.00</td>\n",
       "      <td>248.00</td>\n",
       "      <td>248.00</td>\n",
       "      <td>248.00</td>\n",
       "      <td>248.00</td>\n",
       "      <td>248.00</td>\n",
       "      <td>248.00</td>\n",
       "      <td>248.00</td>\n",
       "      <td>248.00</td>\n",
       "      <td>248.00</td>\n",
       "      <td>248.00</td>\n",
       "      <td>248.00</td>\n",
       "      <td>248.00</td>\n",
       "      <td>248.00</td>\n",
       "    </tr>\n",
       "    <tr>\n",
       "      <th>mean</th>\n",
       "      <td>49.22</td>\n",
       "      <td>75.16</td>\n",
       "      <td>1.02</td>\n",
       "      <td>1.03</td>\n",
       "      <td>0.33</td>\n",
       "      <td>138.08</td>\n",
       "      <td>56.95</td>\n",
       "      <td>2.69</td>\n",
       "      <td>138.56</td>\n",
       "      <td>4.71</td>\n",
       "      <td>13.20</td>\n",
       "      <td>40.47</td>\n",
       "      <td>8376.21</td>\n",
       "      <td>4.87</td>\n",
       "    </tr>\n",
       "    <tr>\n",
       "      <th>std</th>\n",
       "      <td>16.66</td>\n",
       "      <td>11.70</td>\n",
       "      <td>0.01</td>\n",
       "      <td>1.42</td>\n",
       "      <td>0.95</td>\n",
       "      <td>69.34</td>\n",
       "      <td>54.74</td>\n",
       "      <td>4.03</td>\n",
       "      <td>6.89</td>\n",
       "      <td>3.55</td>\n",
       "      <td>2.88</td>\n",
       "      <td>8.84</td>\n",
       "      <td>2908.59</td>\n",
       "      <td>0.91</td>\n",
       "    </tr>\n",
       "    <tr>\n",
       "      <th>min</th>\n",
       "      <td>2.00</td>\n",
       "      <td>50.00</td>\n",
       "      <td>1.00</td>\n",
       "      <td>0.00</td>\n",
       "      <td>0.00</td>\n",
       "      <td>22.00</td>\n",
       "      <td>1.50</td>\n",
       "      <td>0.40</td>\n",
       "      <td>111.00</td>\n",
       "      <td>2.50</td>\n",
       "      <td>3.10</td>\n",
       "      <td>9.00</td>\n",
       "      <td>2200.00</td>\n",
       "      <td>2.10</td>\n",
       "    </tr>\n",
       "    <tr>\n",
       "      <th>25%</th>\n",
       "      <td>38.00</td>\n",
       "      <td>70.00</td>\n",
       "      <td>1.01</td>\n",
       "      <td>0.00</td>\n",
       "      <td>0.00</td>\n",
       "      <td>100.00</td>\n",
       "      <td>26.75</td>\n",
       "      <td>0.80</td>\n",
       "      <td>135.00</td>\n",
       "      <td>3.90</td>\n",
       "      <td>11.10</td>\n",
       "      <td>34.75</td>\n",
       "      <td>6700.00</td>\n",
       "      <td>4.50</td>\n",
       "    </tr>\n",
       "    <tr>\n",
       "      <th>50%</th>\n",
       "      <td>50.00</td>\n",
       "      <td>80.00</td>\n",
       "      <td>1.02</td>\n",
       "      <td>0.00</td>\n",
       "      <td>0.00</td>\n",
       "      <td>119.00</td>\n",
       "      <td>40.00</td>\n",
       "      <td>1.15</td>\n",
       "      <td>139.00</td>\n",
       "      <td>4.50</td>\n",
       "      <td>13.85</td>\n",
       "      <td>42.00</td>\n",
       "      <td>7900.00</td>\n",
       "      <td>4.90</td>\n",
       "    </tr>\n",
       "    <tr>\n",
       "      <th>75%</th>\n",
       "      <td>61.25</td>\n",
       "      <td>80.00</td>\n",
       "      <td>1.02</td>\n",
       "      <td>2.00</td>\n",
       "      <td>0.00</td>\n",
       "      <td>137.25</td>\n",
       "      <td>53.00</td>\n",
       "      <td>2.35</td>\n",
       "      <td>142.00</td>\n",
       "      <td>4.90</td>\n",
       "      <td>15.20</td>\n",
       "      <td>47.00</td>\n",
       "      <td>9600.00</td>\n",
       "      <td>5.40</td>\n",
       "    </tr>\n",
       "    <tr>\n",
       "      <th>max</th>\n",
       "      <td>83.00</td>\n",
       "      <td>110.00</td>\n",
       "      <td>1.02</td>\n",
       "      <td>5.00</td>\n",
       "      <td>5.00</td>\n",
       "      <td>490.00</td>\n",
       "      <td>391.00</td>\n",
       "      <td>32.00</td>\n",
       "      <td>163.00</td>\n",
       "      <td>47.00</td>\n",
       "      <td>17.80</td>\n",
       "      <td>54.00</td>\n",
       "      <td>26400.00</td>\n",
       "      <td>8.00</td>\n",
       "    </tr>\n",
       "  </tbody>\n",
       "</table>\n",
       "</div>"
      ],
      "text/plain": [
       "          age      bp      sg      al      su     bgr      bu      sc     sod  \\\n",
       "count  248.00  248.00  248.00  248.00  248.00  248.00  248.00  248.00  248.00   \n",
       "mean    49.22   75.16    1.02    1.03    0.33  138.08   56.95    2.69  138.56   \n",
       "std     16.66   11.70    0.01    1.42    0.95   69.34   54.74    4.03    6.89   \n",
       "min      2.00   50.00    1.00    0.00    0.00   22.00    1.50    0.40  111.00   \n",
       "25%     38.00   70.00    1.01    0.00    0.00  100.00   26.75    0.80  135.00   \n",
       "50%     50.00   80.00    1.02    0.00    0.00  119.00   40.00    1.15  139.00   \n",
       "75%     61.25   80.00    1.02    2.00    0.00  137.25   53.00    2.35  142.00   \n",
       "max     83.00  110.00    1.02    5.00    5.00  490.00  391.00   32.00  163.00   \n",
       "\n",
       "          pot    hemo     pcv      wbcc    rbcc  \n",
       "count  248.00  248.00  248.00    248.00  248.00  \n",
       "mean     4.71   13.20   40.47   8376.21    4.87  \n",
       "std      3.55    2.88    8.84   2908.59    0.91  \n",
       "min      2.50    3.10    9.00   2200.00    2.10  \n",
       "25%      3.90   11.10   34.75   6700.00    4.50  \n",
       "50%      4.50   13.85   42.00   7900.00    4.90  \n",
       "75%      4.90   15.20   47.00   9600.00    5.40  \n",
       "max     47.00   17.80   54.00  26400.00    8.00  "
      ]
     },
     "execution_count": 25,
     "metadata": {},
     "output_type": "execute_result"
    }
   ],
   "source": [
    "print(\"This is the numerical features summary statistics:\")\n",
    "data_clean.describe(include = np.number).round(2)"
   ]
  },
  {
   "cell_type": "code",
   "execution_count": 26,
   "metadata": {
    "scrolled": true
   },
   "outputs": [
    {
     "name": "stdout",
     "output_type": "stream",
     "text": [
      "This is the categorical features summary statistics:\n"
     ]
    },
    {
     "data": {
      "text/html": [
       "<div>\n",
       "<style scoped>\n",
       "    .dataframe tbody tr th:only-of-type {\n",
       "        vertical-align: middle;\n",
       "    }\n",
       "\n",
       "    .dataframe tbody tr th {\n",
       "        vertical-align: top;\n",
       "    }\n",
       "\n",
       "    .dataframe thead th {\n",
       "        text-align: right;\n",
       "    }\n",
       "</style>\n",
       "<table border=\"1\" class=\"dataframe\">\n",
       "  <thead>\n",
       "    <tr style=\"text-align: right;\">\n",
       "      <th></th>\n",
       "      <th>rbc</th>\n",
       "      <th>pc</th>\n",
       "      <th>pcc</th>\n",
       "      <th>ba</th>\n",
       "      <th>htn</th>\n",
       "      <th>dm</th>\n",
       "      <th>cad</th>\n",
       "      <th>appet</th>\n",
       "      <th>pe</th>\n",
       "      <th>ane</th>\n",
       "      <th>class</th>\n",
       "    </tr>\n",
       "  </thead>\n",
       "  <tbody>\n",
       "    <tr>\n",
       "      <th>count</th>\n",
       "      <td>248</td>\n",
       "      <td>248</td>\n",
       "      <td>248</td>\n",
       "      <td>248</td>\n",
       "      <td>248</td>\n",
       "      <td>248</td>\n",
       "      <td>248</td>\n",
       "      <td>248</td>\n",
       "      <td>248</td>\n",
       "      <td>248</td>\n",
       "      <td>248</td>\n",
       "    </tr>\n",
       "    <tr>\n",
       "      <th>unique</th>\n",
       "      <td>2</td>\n",
       "      <td>2</td>\n",
       "      <td>2</td>\n",
       "      <td>2</td>\n",
       "      <td>2</td>\n",
       "      <td>2</td>\n",
       "      <td>2</td>\n",
       "      <td>2</td>\n",
       "      <td>2</td>\n",
       "      <td>2</td>\n",
       "      <td>2</td>\n",
       "    </tr>\n",
       "    <tr>\n",
       "      <th>top</th>\n",
       "      <td>normal</td>\n",
       "      <td>normal</td>\n",
       "      <td>notpresent</td>\n",
       "      <td>notpresent</td>\n",
       "      <td>no</td>\n",
       "      <td>no</td>\n",
       "      <td>no</td>\n",
       "      <td>good</td>\n",
       "      <td>no</td>\n",
       "      <td>no</td>\n",
       "      <td>notckd</td>\n",
       "    </tr>\n",
       "    <tr>\n",
       "      <th>freq</th>\n",
       "      <td>201</td>\n",
       "      <td>190</td>\n",
       "      <td>219</td>\n",
       "      <td>230</td>\n",
       "      <td>181</td>\n",
       "      <td>190</td>\n",
       "      <td>231</td>\n",
       "      <td>207</td>\n",
       "      <td>206</td>\n",
       "      <td>217</td>\n",
       "      <td>141</td>\n",
       "    </tr>\n",
       "  </tbody>\n",
       "</table>\n",
       "</div>"
      ],
      "text/plain": [
       "           rbc      pc         pcc          ba  htn   dm  cad appet   pe  ane  \\\n",
       "count      248     248         248         248  248  248  248   248  248  248   \n",
       "unique       2       2           2           2    2    2    2     2    2    2   \n",
       "top     normal  normal  notpresent  notpresent   no   no   no  good   no   no   \n",
       "freq       201     190         219         230  181  190  231   207  206  217   \n",
       "\n",
       "         class  \n",
       "count      248  \n",
       "unique       2  \n",
       "top     notckd  \n",
       "freq       141  "
      ]
     },
     "execution_count": 26,
     "metadata": {},
     "output_type": "execute_result"
    }
   ],
   "source": [
    "print(\"This is the categorical features summary statistics:\")\n",
    "data_clean.describe(include = np.object).round(2)"
   ]
  },
  {
   "cell_type": "markdown",
   "metadata": {},
   "source": [
    "The first thing we are looking at here is that the count on all features is the same this means that all the missing values have been accounted for and there is an equal amount of observations for each feature. Using the summary statistics we can look for unusual values. The best use of this is with the age feature. We can see that the max age recorded is `80` and the minimum is `2`. The max age is fine and not something that jumps out as odd but the min age of `2` seems a little odd so we can look further into it.\n",
    "\n",
    "#### 3.B Univariate visualisations <a name='Univariatevisualisations' ></a>"
   ]
  },
  {
   "cell_type": "code",
   "execution_count": 27,
   "metadata": {},
   "outputs": [
    {
     "data": {
      "text/html": [
       "\n",
       "<div id=\"altair-viz-6bdffd90059f4a8ba206d7ceb86ff5f6\"></div>\n",
       "<script type=\"text/javascript\">\n",
       "  (function(spec, embedOpt){\n",
       "    let outputDiv = document.currentScript.previousElementSibling;\n",
       "    if (outputDiv.id !== \"altair-viz-6bdffd90059f4a8ba206d7ceb86ff5f6\") {\n",
       "      outputDiv = document.getElementById(\"altair-viz-6bdffd90059f4a8ba206d7ceb86ff5f6\");\n",
       "    }\n",
       "    const paths = {\n",
       "      \"vega\": \"https://cdn.jsdelivr.net/npm//vega@5?noext\",\n",
       "      \"vega-lib\": \"https://cdn.jsdelivr.net/npm//vega-lib?noext\",\n",
       "      \"vega-lite\": \"https://cdn.jsdelivr.net/npm//vega-lite@4.8.1?noext\",\n",
       "      \"vega-embed\": \"https://cdn.jsdelivr.net/npm//vega-embed@6?noext\",\n",
       "    };\n",
       "\n",
       "    function loadScript(lib) {\n",
       "      return new Promise(function(resolve, reject) {\n",
       "        var s = document.createElement('script');\n",
       "        s.src = paths[lib];\n",
       "        s.async = true;\n",
       "        s.onload = () => resolve(paths[lib]);\n",
       "        s.onerror = () => reject(`Error loading script: ${paths[lib]}`);\n",
       "        document.getElementsByTagName(\"head\")[0].appendChild(s);\n",
       "      });\n",
       "    }\n",
       "\n",
       "    function showError(err) {\n",
       "      outputDiv.innerHTML = `<div class=\"error\" style=\"color:red;\">${err}</div>`;\n",
       "      throw err;\n",
       "    }\n",
       "\n",
       "    function displayChart(vegaEmbed) {\n",
       "      vegaEmbed(outputDiv, spec, embedOpt)\n",
       "        .catch(err => showError(`Javascript Error: ${err.message}<br>This usually means there's a typo in your chart specification. See the javascript console for the full traceback.`));\n",
       "    }\n",
       "\n",
       "    if(typeof define === \"function\" && define.amd) {\n",
       "      requirejs.config({paths});\n",
       "      require([\"vega-embed\"], displayChart, err => showError(`Error loading script: ${err.message}`));\n",
       "    } else if (typeof vegaEmbed === \"function\") {\n",
       "      displayChart(vegaEmbed);\n",
       "    } else {\n",
       "      loadScript(\"vega\")\n",
       "        .then(() => loadScript(\"vega-lite\"))\n",
       "        .then(() => loadScript(\"vega-embed\"))\n",
       "        .catch(showError)\n",
       "        .then(() => displayChart(vegaEmbed));\n",
       "    }\n",
       "  })({\"config\": {\"view\": {\"continuousWidth\": 400, \"continuousHeight\": 300}}, \"data\": {\"name\": \"data-23ab5fbbb8473b892a91b29fa85a1421\"}, \"mark\": \"bar\", \"encoding\": {\"x\": {\"type\": \"quantitative\", \"field\": \"age\"}, \"y\": {\"type\": \"quantitative\", \"aggregate\": \"count\"}}, \"title\": \"Total count of age\", \"$schema\": \"https://vega.github.io/schema/vega-lite/v4.8.1.json\", \"datasets\": {\"data-23ab5fbbb8473b892a91b29fa85a1421\": [{\"age\": 62.0, \"bp\": 80.0, \"sg\": 1.01, \"al\": 2.0, \"su\": 3.0, \"rbc\": \"normal\", \"pc\": \"normal\", \"pcc\": \"notpresent\", \"ba\": \"notpresent\", \"bgr\": 423.0, \"bu\": 53.0, \"sc\": 1.8, \"sod\": 139.0, \"pot\": 4.5, \"hemo\": 9.6, \"pcv\": 31.0, \"wbcc\": 7500.0, \"rbcc\": 4.9, \"htn\": \"no\", \"dm\": \"yes\", \"cad\": \"no\", \"appet\": \"poor\", \"pe\": \"no\", \"ane\": \"yes\", \"class\": \"ckd\"}, {\"age\": 48.0, \"bp\": 70.0, \"sg\": 1.005, \"al\": 4.0, \"su\": 0.0, \"rbc\": \"normal\", \"pc\": \"abnormal\", \"pcc\": \"present\", \"ba\": \"notpresent\", \"bgr\": 117.0, \"bu\": 56.0, \"sc\": 3.8, \"sod\": 111.0, \"pot\": 2.5, \"hemo\": 11.2, \"pcv\": 32.0, \"wbcc\": 6700.0, \"rbcc\": 3.9, \"htn\": \"yes\", \"dm\": \"no\", \"cad\": \"no\", \"appet\": \"poor\", \"pe\": \"yes\", \"ane\": \"yes\", \"class\": \"ckd\"}, {\"age\": 51.0, \"bp\": 80.0, \"sg\": 1.01, \"al\": 2.0, \"su\": 0.0, \"rbc\": \"normal\", \"pc\": \"normal\", \"pcc\": \"notpresent\", \"ba\": \"notpresent\", \"bgr\": 106.0, \"bu\": 26.0, \"sc\": 1.4, \"sod\": 139.0, \"pot\": 4.5, \"hemo\": 11.6, \"pcv\": 35.0, \"wbcc\": 7300.0, \"rbcc\": 4.6, \"htn\": \"no\", \"dm\": \"no\", \"cad\": \"no\", \"appet\": \"good\", \"pe\": \"no\", \"ane\": \"no\", \"class\": \"ckd\"}, {\"age\": 24.0, \"bp\": 80.0, \"sg\": 1.015, \"al\": 2.0, \"su\": 4.0, \"rbc\": \"normal\", \"pc\": \"abnormal\", \"pcc\": \"notpresent\", \"ba\": \"notpresent\", \"bgr\": 410.0, \"bu\": 31.0, \"sc\": 1.1, \"sod\": 139.0, \"pot\": 4.5, \"hemo\": 12.4, \"pcv\": 44.0, \"wbcc\": 6900.0, \"rbcc\": 5.0, \"htn\": \"no\", \"dm\": \"yes\", \"cad\": \"no\", \"appet\": \"good\", \"pe\": \"yes\", \"ane\": \"no\", \"class\": \"ckd\"}, {\"age\": 52.0, \"bp\": 100.0, \"sg\": 1.015, \"al\": 3.0, \"su\": 0.0, \"rbc\": \"normal\", \"pc\": \"abnormal\", \"pcc\": \"present\", \"ba\": \"notpresent\", \"bgr\": 138.0, \"bu\": 60.0, \"sc\": 1.9, \"sod\": 139.0, \"pot\": 4.5, \"hemo\": 10.8, \"pcv\": 33.0, \"wbcc\": 9600.0, \"rbcc\": 4.0, \"htn\": \"yes\", \"dm\": \"yes\", \"cad\": \"no\", \"appet\": \"good\", \"pe\": \"no\", \"ane\": \"yes\", \"class\": \"ckd\"}, {\"age\": 53.0, \"bp\": 90.0, \"sg\": 1.02, \"al\": 2.0, \"su\": 0.0, \"rbc\": \"abnormal\", \"pc\": \"abnormal\", \"pcc\": \"present\", \"ba\": \"notpresent\", \"bgr\": 70.0, \"bu\": 107.0, \"sc\": 7.2, \"sod\": 114.0, \"pot\": 3.7, \"hemo\": 9.5, \"pcv\": 29.0, \"wbcc\": 12100.0, \"rbcc\": 3.7, \"htn\": \"yes\", \"dm\": \"yes\", \"cad\": \"no\", \"appet\": \"poor\", \"pe\": \"no\", \"ane\": \"yes\", \"class\": \"ckd\"}, {\"age\": 63.0, \"bp\": 70.0, \"sg\": 1.01, \"al\": 3.0, \"su\": 0.0, \"rbc\": \"abnormal\", \"pc\": \"abnormal\", \"pcc\": \"present\", \"ba\": \"notpresent\", \"bgr\": 380.0, \"bu\": 60.0, \"sc\": 2.7, \"sod\": 131.0, \"pot\": 4.2, \"hemo\": 10.8, \"pcv\": 32.0, \"wbcc\": 4500.0, \"rbcc\": 3.8, \"htn\": \"yes\", \"dm\": \"yes\", \"cad\": \"no\", \"appet\": \"poor\", \"pe\": \"yes\", \"ane\": \"no\", \"class\": \"ckd\"}, {\"age\": 68.0, \"bp\": 80.0, \"sg\": 1.01, \"al\": 3.0, \"su\": 2.0, \"rbc\": \"normal\", \"pc\": \"abnormal\", \"pcc\": \"present\", \"ba\": \"present\", \"bgr\": 157.0, \"bu\": 90.0, \"sc\": 4.1, \"sod\": 130.0, \"pot\": 6.4, \"hemo\": 5.6, \"pcv\": 16.0, \"wbcc\": 11000.0, \"rbcc\": 2.6, \"htn\": \"yes\", \"dm\": \"yes\", \"cad\": \"yes\", \"appet\": \"poor\", \"pe\": \"yes\", \"ane\": \"no\", \"class\": \"ckd\"}, {\"age\": 61.0, \"bp\": 80.0, \"sg\": 1.015, \"al\": 2.0, \"su\": 0.0, \"rbc\": \"abnormal\", \"pc\": \"abnormal\", \"pcc\": \"notpresent\", \"ba\": \"notpresent\", \"bgr\": 173.0, \"bu\": 148.0, \"sc\": 3.9, \"sod\": 135.0, \"pot\": 5.2, \"hemo\": 7.7, \"pcv\": 24.0, \"wbcc\": 9200.0, \"rbcc\": 3.2, \"htn\": \"yes\", \"dm\": \"yes\", \"cad\": \"yes\", \"appet\": \"poor\", \"pe\": \"yes\", \"ane\": \"yes\", \"class\": \"ckd\"}, {\"age\": 48.0, \"bp\": 80.0, \"sg\": 1.025, \"al\": 4.0, \"su\": 0.0, \"rbc\": \"normal\", \"pc\": \"abnormal\", \"pcc\": \"notpresent\", \"ba\": \"notpresent\", \"bgr\": 95.0, \"bu\": 163.0, \"sc\": 7.7, \"sod\": 136.0, \"pot\": 3.8, \"hemo\": 9.8, \"pcv\": 32.0, \"wbcc\": 6900.0, \"rbcc\": 3.4, \"htn\": \"yes\", \"dm\": \"no\", \"cad\": \"no\", \"appet\": \"good\", \"pe\": \"no\", \"ane\": \"yes\", \"class\": \"ckd\"}, {\"age\": 42.0, \"bp\": 100.0, \"sg\": 1.015, \"al\": 4.0, \"su\": 0.0, \"rbc\": \"normal\", \"pc\": \"abnormal\", \"pcc\": \"notpresent\", \"ba\": \"present\", \"bgr\": 119.0, \"bu\": 50.0, \"sc\": 1.4, \"sod\": 129.0, \"pot\": 4.0, \"hemo\": 11.1, \"pcv\": 39.0, \"wbcc\": 8300.0, \"rbcc\": 4.6, \"htn\": \"yes\", \"dm\": \"no\", \"cad\": \"no\", \"appet\": \"poor\", \"pe\": \"no\", \"ane\": \"no\", \"class\": \"ckd\"}, {\"age\": 69.0, \"bp\": 70.0, \"sg\": 1.01, \"al\": 3.0, \"su\": 4.0, \"rbc\": \"normal\", \"pc\": \"abnormal\", \"pcc\": \"notpresent\", \"ba\": \"notpresent\", \"bgr\": 264.0, \"bu\": 87.0, \"sc\": 2.7, \"sod\": 130.0, \"pot\": 4.0, \"hemo\": 12.5, \"pcv\": 37.0, \"wbcc\": 9600.0, \"rbcc\": 4.1, \"htn\": \"yes\", \"dm\": \"yes\", \"cad\": \"yes\", \"appet\": \"good\", \"pe\": \"yes\", \"ane\": \"no\", \"class\": \"ckd\"}, {\"age\": 68.0, \"bp\": 70.0, \"sg\": 1.005, \"al\": 1.0, \"su\": 0.0, \"rbc\": \"abnormal\", \"pc\": \"abnormal\", \"pcc\": \"present\", \"ba\": \"notpresent\", \"bgr\": 119.0, \"bu\": 28.0, \"sc\": 1.4, \"sod\": 139.0, \"pot\": 4.5, \"hemo\": 12.9, \"pcv\": 38.0, \"wbcc\": 7900.0, \"rbcc\": 4.9, \"htn\": \"no\", \"dm\": \"no\", \"cad\": \"yes\", \"appet\": \"good\", \"pe\": \"no\", \"ane\": \"no\", \"class\": \"ckd\"}, {\"age\": 60.0, \"bp\": 100.0, \"sg\": 1.02, \"al\": 2.0, \"su\": 0.0, \"rbc\": \"abnormal\", \"pc\": \"abnormal\", \"pcc\": \"notpresent\", \"ba\": \"notpresent\", \"bgr\": 140.0, \"bu\": 55.0, \"sc\": 2.5, \"sod\": 139.0, \"pot\": 4.5, \"hemo\": 10.1, \"pcv\": 29.0, \"wbcc\": 7900.0, \"rbcc\": 4.9, \"htn\": \"yes\", \"dm\": \"no\", \"cad\": \"no\", \"appet\": \"poor\", \"pe\": \"no\", \"ane\": \"no\", \"class\": \"ckd\"}, {\"age\": 70.0, \"bp\": 70.0, \"sg\": 1.01, \"al\": 1.0, \"su\": 0.0, \"rbc\": \"normal\", \"pc\": \"normal\", \"pcc\": \"present\", \"ba\": \"present\", \"bgr\": 171.0, \"bu\": 153.0, \"sc\": 5.2, \"sod\": 139.0, \"pot\": 4.5, \"hemo\": 13.85, \"pcv\": 42.0, \"wbcc\": 7900.0, \"rbcc\": 4.9, \"htn\": \"no\", \"dm\": \"yes\", \"cad\": \"no\", \"appet\": \"poor\", \"pe\": \"no\", \"ane\": \"no\", \"class\": \"ckd\"}, {\"age\": 65.0, \"bp\": 90.0, \"sg\": 1.02, \"al\": 2.0, \"su\": 1.0, \"rbc\": \"abnormal\", \"pc\": \"normal\", \"pcc\": \"notpresent\", \"ba\": \"notpresent\", \"bgr\": 270.0, \"bu\": 39.0, \"sc\": 2.0, \"sod\": 139.0, \"pot\": 4.5, \"hemo\": 12.0, \"pcv\": 36.0, \"wbcc\": 9800.0, \"rbcc\": 4.9, \"htn\": \"yes\", \"dm\": \"yes\", \"cad\": \"no\", \"appet\": \"poor\", \"pe\": \"no\", \"ane\": \"yes\", \"class\": \"ckd\"}, {\"age\": 76.0, \"bp\": 70.0, \"sg\": 1.015, \"al\": 1.0, \"su\": 0.0, \"rbc\": \"normal\", \"pc\": \"normal\", \"pcc\": \"notpresent\", \"ba\": \"notpresent\", \"bgr\": 92.0, \"bu\": 29.0, \"sc\": 1.8, \"sod\": 133.0, \"pot\": 3.9, \"hemo\": 10.3, \"pcv\": 32.0, \"wbcc\": 7900.0, \"rbcc\": 4.9, \"htn\": \"yes\", \"dm\": \"no\", \"cad\": \"no\", \"appet\": \"good\", \"pe\": \"no\", \"ane\": \"no\", \"class\": \"ckd\"}, {\"age\": 69.0, \"bp\": 80.0, \"sg\": 1.02, \"al\": 3.0, \"su\": 0.0, \"rbc\": \"abnormal\", \"pc\": \"normal\", \"pcc\": \"notpresent\", \"ba\": \"notpresent\", \"bgr\": 119.0, \"bu\": 103.0, \"sc\": 4.1, \"sod\": 132.0, \"pot\": 5.9, \"hemo\": 12.5, \"pcv\": 42.0, \"wbcc\": 7900.0, \"rbcc\": 4.9, \"htn\": \"yes\", \"dm\": \"no\", \"cad\": \"no\", \"appet\": \"good\", \"pe\": \"no\", \"ane\": \"no\", \"class\": \"ckd\"}, {\"age\": 82.0, \"bp\": 80.0, \"sg\": 1.01, \"al\": 2.0, \"su\": 2.0, \"rbc\": \"normal\", \"pc\": \"normal\", \"pcc\": \"notpresent\", \"ba\": \"notpresent\", \"bgr\": 140.0, \"bu\": 70.0, \"sc\": 3.4, \"sod\": 136.0, \"pot\": 4.2, \"hemo\": 13.0, \"pcv\": 40.0, \"wbcc\": 9800.0, \"rbcc\": 4.2, \"htn\": \"yes\", \"dm\": \"yes\", \"cad\": \"no\", \"appet\": \"good\", \"pe\": \"no\", \"ane\": \"no\", \"class\": \"ckd\"}, {\"age\": 46.0, \"bp\": 90.0, \"sg\": 1.01, \"al\": 2.0, \"su\": 0.0, \"rbc\": \"normal\", \"pc\": \"abnormal\", \"pcc\": \"notpresent\", \"ba\": \"notpresent\", \"bgr\": 99.0, \"bu\": 80.0, \"sc\": 2.1, \"sod\": 139.0, \"pot\": 4.5, \"hemo\": 11.1, \"pcv\": 32.0, \"wbcc\": 9100.0, \"rbcc\": 4.1, \"htn\": \"yes\", \"dm\": \"no\", \"cad\": \"no\", \"appet\": \"good\", \"pe\": \"no\", \"ane\": \"no\", \"class\": \"ckd\"}, {\"age\": 35.0, \"bp\": 80.0, \"sg\": 1.01, \"al\": 1.0, \"su\": 0.0, \"rbc\": \"abnormal\", \"pc\": \"normal\", \"pcc\": \"notpresent\", \"ba\": \"notpresent\", \"bgr\": 79.0, \"bu\": 202.0, \"sc\": 10.8, \"sod\": 134.0, \"pot\": 3.4, \"hemo\": 7.9, \"pcv\": 24.0, \"wbcc\": 7900.0, \"rbcc\": 3.1, \"htn\": \"no\", \"dm\": \"yes\", \"cad\": \"no\", \"appet\": \"good\", \"pe\": \"no\", \"ane\": \"no\", \"class\": \"ckd\"}, {\"age\": 54.0, \"bp\": 80.0, \"sg\": 1.01, \"al\": 3.0, \"su\": 0.0, \"rbc\": \"abnormal\", \"pc\": \"abnormal\", \"pcc\": \"notpresent\", \"ba\": \"notpresent\", \"bgr\": 207.0, \"bu\": 77.0, \"sc\": 6.3, \"sod\": 134.0, \"pot\": 4.8, \"hemo\": 9.7, \"pcv\": 28.0, \"wbcc\": 7900.0, \"rbcc\": 4.9, \"htn\": \"yes\", \"dm\": \"yes\", \"cad\": \"no\", \"appet\": \"poor\", \"pe\": \"yes\", \"ane\": \"no\", \"class\": \"ckd\"}, {\"age\": 73.0, \"bp\": 70.0, \"sg\": 1.005, \"al\": 0.0, \"su\": 0.0, \"rbc\": \"normal\", \"pc\": \"normal\", \"pcc\": \"notpresent\", \"ba\": \"notpresent\", \"bgr\": 70.0, \"bu\": 32.0, \"sc\": 0.9, \"sod\": 125.0, \"pot\": 4.0, \"hemo\": 10.0, \"pcv\": 29.0, \"wbcc\": 18900.0, \"rbcc\": 3.5, \"htn\": \"yes\", \"dm\": \"yes\", \"cad\": \"no\", \"appet\": \"good\", \"pe\": \"yes\", \"ane\": \"no\", \"class\": \"ckd\"}, {\"age\": 60.0, \"bp\": 70.0, \"sg\": 1.01, \"al\": 2.0, \"su\": 0.0, \"rbc\": \"normal\", \"pc\": \"abnormal\", \"pcc\": \"present\", \"ba\": \"notpresent\", \"bgr\": 144.0, \"bu\": 72.0, \"sc\": 3.0, \"sod\": 139.0, \"pot\": 4.5, \"hemo\": 9.7, \"pcv\": 29.0, \"wbcc\": 21600.0, \"rbcc\": 3.5, \"htn\": \"yes\", \"dm\": \"yes\", \"cad\": \"no\", \"appet\": \"poor\", \"pe\": \"no\", \"ane\": \"yes\", \"class\": \"ckd\"}, {\"age\": 63.0, \"bp\": 80.0, \"sg\": 1.01, \"al\": 2.0, \"su\": 2.0, \"rbc\": \"normal\", \"pc\": \"normal\", \"pcc\": \"notpresent\", \"ba\": \"notpresent\", \"bgr\": 119.0, \"bu\": 40.0, \"sc\": 3.4, \"sod\": 136.0, \"pot\": 4.2, \"hemo\": 13.0, \"pcv\": 40.0, \"wbcc\": 9800.0, \"rbcc\": 4.2, \"htn\": \"yes\", \"dm\": \"no\", \"cad\": \"yes\", \"appet\": \"good\", \"pe\": \"no\", \"ane\": \"no\", \"class\": \"ckd\"}, {\"age\": 35.0, \"bp\": 80.0, \"sg\": 1.005, \"al\": 3.0, \"su\": 0.0, \"rbc\": \"abnormal\", \"pc\": \"normal\", \"pcc\": \"notpresent\", \"ba\": \"notpresent\", \"bgr\": 119.0, \"bu\": 40.0, \"sc\": 1.15, \"sod\": 139.0, \"pot\": 4.5, \"hemo\": 9.5, \"pcv\": 28.0, \"wbcc\": 7900.0, \"rbcc\": 4.9, \"htn\": \"no\", \"dm\": \"no\", \"cad\": \"no\", \"appet\": \"good\", \"pe\": \"yes\", \"ane\": \"no\", \"class\": \"ckd\"}, {\"age\": 76.0, \"bp\": 70.0, \"sg\": 1.015, \"al\": 3.0, \"su\": 4.0, \"rbc\": \"normal\", \"pc\": \"abnormal\", \"pcc\": \"present\", \"ba\": \"notpresent\", \"bgr\": 119.0, \"bu\": 164.0, \"sc\": 9.7, \"sod\": 131.0, \"pot\": 4.4, \"hemo\": 10.2, \"pcv\": 30.0, \"wbcc\": 11300.0, \"rbcc\": 3.4, \"htn\": \"yes\", \"dm\": \"yes\", \"cad\": \"yes\", \"appet\": \"poor\", \"pe\": \"yes\", \"ane\": \"no\", \"class\": \"ckd\"}, {\"age\": 73.0, \"bp\": 80.0, \"sg\": 1.02, \"al\": 2.0, \"su\": 0.0, \"rbc\": \"abnormal\", \"pc\": \"abnormal\", \"pcc\": \"notpresent\", \"ba\": \"notpresent\", \"bgr\": 253.0, \"bu\": 142.0, \"sc\": 4.6, \"sod\": 138.0, \"pot\": 5.8, \"hemo\": 10.5, \"pcv\": 33.0, \"wbcc\": 7200.0, \"rbcc\": 4.3, \"htn\": \"yes\", \"dm\": \"yes\", \"cad\": \"yes\", \"appet\": \"good\", \"pe\": \"no\", \"ane\": \"no\", \"class\": \"ckd\"}, {\"age\": 67.0, \"bp\": 80.0, \"sg\": 1.01, \"al\": 1.0, \"su\": 3.0, \"rbc\": \"normal\", \"pc\": \"abnormal\", \"pcc\": \"notpresent\", \"ba\": \"notpresent\", \"bgr\": 182.0, \"bu\": 391.0, \"sc\": 32.0, \"sod\": 163.0, \"pot\": 39.0, \"hemo\": 13.85, \"pcv\": 42.0, \"wbcc\": 7900.0, \"rbcc\": 4.9, \"htn\": \"no\", \"dm\": \"no\", \"cad\": \"no\", \"appet\": \"good\", \"pe\": \"yes\", \"ane\": \"no\", \"class\": \"ckd\"}, {\"age\": 46.0, \"bp\": 70.0, \"sg\": 1.015, \"al\": 1.0, \"su\": 0.0, \"rbc\": \"abnormal\", \"pc\": \"normal\", \"pcc\": \"notpresent\", \"ba\": \"notpresent\", \"bgr\": 150.0, \"bu\": 111.0, \"sc\": 6.1, \"sod\": 131.0, \"pot\": 3.7, \"hemo\": 7.5, \"pcv\": 27.0, \"wbcc\": 7900.0, \"rbcc\": 4.9, \"htn\": \"no\", \"dm\": \"no\", \"cad\": \"no\", \"appet\": \"good\", \"pe\": \"no\", \"ane\": \"yes\", \"class\": \"ckd\"}, {\"age\": 67.0, \"bp\": 70.0, \"sg\": 1.02, \"al\": 2.0, \"su\": 0.0, \"rbc\": \"abnormal\", \"pc\": \"normal\", \"pcc\": \"notpresent\", \"ba\": \"notpresent\", \"bgr\": 150.0, \"bu\": 55.0, \"sc\": 1.6, \"sod\": 131.0, \"pot\": 4.8, \"hemo\": 13.85, \"pcv\": 42.0, \"wbcc\": 7900.0, \"rbcc\": 4.9, \"htn\": \"yes\", \"dm\": \"yes\", \"cad\": \"no\", \"appet\": \"good\", \"pe\": \"yes\", \"ane\": \"no\", \"class\": \"ckd\"}, {\"age\": 45.0, \"bp\": 80.0, \"sg\": 1.02, \"al\": 3.0, \"su\": 0.0, \"rbc\": \"normal\", \"pc\": \"abnormal\", \"pcc\": \"notpresent\", \"ba\": \"notpresent\", \"bgr\": 425.0, \"bu\": 40.0, \"sc\": 1.15, \"sod\": 139.0, \"pot\": 4.5, \"hemo\": 13.85, \"pcv\": 42.0, \"wbcc\": 7900.0, \"rbcc\": 4.9, \"htn\": \"no\", \"dm\": \"no\", \"cad\": \"no\", \"appet\": \"poor\", \"pe\": \"no\", \"ane\": \"no\", \"class\": \"ckd\"}, {\"age\": 46.0, \"bp\": 60.0, \"sg\": 1.01, \"al\": 1.0, \"su\": 0.0, \"rbc\": \"normal\", \"pc\": \"normal\", \"pcc\": \"notpresent\", \"ba\": \"notpresent\", \"bgr\": 163.0, \"bu\": 92.0, \"sc\": 3.3, \"sod\": 141.0, \"pot\": 4.0, \"hemo\": 9.8, \"pcv\": 28.0, \"wbcc\": 14600.0, \"rbcc\": 3.2, \"htn\": \"yes\", \"dm\": \"yes\", \"cad\": \"no\", \"appet\": \"good\", \"pe\": \"no\", \"ane\": \"no\", \"class\": \"ckd\"}, {\"age\": 50.0, \"bp\": 100.0, \"sg\": 1.015, \"al\": 2.0, \"su\": 0.0, \"rbc\": \"abnormal\", \"pc\": \"abnormal\", \"pcc\": \"notpresent\", \"ba\": \"notpresent\", \"bgr\": 129.0, \"bu\": 107.0, \"sc\": 6.7, \"sod\": 132.0, \"pot\": 4.4, \"hemo\": 4.8, \"pcv\": 14.0, \"wbcc\": 6300.0, \"rbcc\": 4.9, \"htn\": \"yes\", \"dm\": \"no\", \"cad\": \"no\", \"appet\": \"good\", \"pe\": \"yes\", \"ane\": \"yes\", \"class\": \"ckd\"}, {\"age\": 56.0, \"bp\": 90.0, \"sg\": 1.015, \"al\": 2.0, \"su\": 0.0, \"rbc\": \"abnormal\", \"pc\": \"abnormal\", \"pcc\": \"notpresent\", \"ba\": \"notpresent\", \"bgr\": 129.0, \"bu\": 107.0, \"sc\": 6.7, \"sod\": 131.0, \"pot\": 4.8, \"hemo\": 9.1, \"pcv\": 29.0, \"wbcc\": 6400.0, \"rbcc\": 3.4, \"htn\": \"yes\", \"dm\": \"no\", \"cad\": \"no\", \"appet\": \"good\", \"pe\": \"no\", \"ane\": \"no\", \"class\": \"ckd\"}, {\"age\": 48.0, \"bp\": 80.0, \"sg\": 1.005, \"al\": 4.0, \"su\": 0.0, \"rbc\": \"abnormal\", \"pc\": \"abnormal\", \"pcc\": \"notpresent\", \"ba\": \"present\", \"bgr\": 133.0, \"bu\": 139.0, \"sc\": 8.5, \"sod\": 132.0, \"pot\": 5.5, \"hemo\": 10.3, \"pcv\": 36.0, \"wbcc\": 6200.0, \"rbcc\": 4.0, \"htn\": \"no\", \"dm\": \"yes\", \"cad\": \"no\", \"appet\": \"good\", \"pe\": \"yes\", \"ane\": \"no\", \"class\": \"ckd\"}, {\"age\": 48.0, \"bp\": 70.0, \"sg\": 1.015, \"al\": 1.0, \"su\": 0.0, \"rbc\": \"normal\", \"pc\": \"normal\", \"pcc\": \"notpresent\", \"ba\": \"notpresent\", \"bgr\": 127.0, \"bu\": 19.0, \"sc\": 1.0, \"sod\": 134.0, \"pot\": 3.6, \"hemo\": 13.85, \"pcv\": 42.0, \"wbcc\": 7900.0, \"rbcc\": 4.9, \"htn\": \"yes\", \"dm\": \"yes\", \"cad\": \"no\", \"appet\": \"good\", \"pe\": \"no\", \"ane\": \"no\", \"class\": \"ckd\"}, {\"age\": 59.0, \"bp\": 70.0, \"sg\": 1.01, \"al\": 3.0, \"su\": 0.0, \"rbc\": \"normal\", \"pc\": \"abnormal\", \"pcc\": \"notpresent\", \"ba\": \"notpresent\", \"bgr\": 76.0, \"bu\": 186.0, \"sc\": 15.0, \"sod\": 135.0, \"pot\": 7.6, \"hemo\": 7.1, \"pcv\": 22.0, \"wbcc\": 3800.0, \"rbcc\": 2.1, \"htn\": \"yes\", \"dm\": \"no\", \"cad\": \"no\", \"appet\": \"poor\", \"pe\": \"yes\", \"ane\": \"yes\", \"class\": \"ckd\"}, {\"age\": 70.0, \"bp\": 100.0, \"sg\": 1.005, \"al\": 1.0, \"su\": 0.0, \"rbc\": \"normal\", \"pc\": \"abnormal\", \"pcc\": \"present\", \"ba\": \"notpresent\", \"bgr\": 169.0, \"bu\": 47.0, \"sc\": 2.9, \"sod\": 139.0, \"pot\": 4.5, \"hemo\": 11.1, \"pcv\": 32.0, \"wbcc\": 5800.0, \"rbcc\": 5.0, \"htn\": \"yes\", \"dm\": \"yes\", \"cad\": \"no\", \"appet\": \"poor\", \"pe\": \"no\", \"ane\": \"no\", \"class\": \"ckd\"}, {\"age\": 63.0, \"bp\": 100.0, \"sg\": 1.01, \"al\": 2.0, \"su\": 2.0, \"rbc\": \"normal\", \"pc\": \"normal\", \"pcc\": \"notpresent\", \"ba\": \"present\", \"bgr\": 280.0, \"bu\": 35.0, \"sc\": 3.2, \"sod\": 143.0, \"pot\": 3.5, \"hemo\": 13.0, \"pcv\": 40.0, \"wbcc\": 9800.0, \"rbcc\": 4.2, \"htn\": \"yes\", \"dm\": \"no\", \"cad\": \"yes\", \"appet\": \"good\", \"pe\": \"no\", \"ane\": \"no\", \"class\": \"ckd\"}, {\"age\": 56.0, \"bp\": 70.0, \"sg\": 1.015, \"al\": 4.0, \"su\": 1.0, \"rbc\": \"abnormal\", \"pc\": \"normal\", \"pcc\": \"notpresent\", \"ba\": \"notpresent\", \"bgr\": 210.0, \"bu\": 26.0, \"sc\": 1.7, \"sod\": 136.0, \"pot\": 3.8, \"hemo\": 16.1, \"pcv\": 52.0, \"wbcc\": 12500.0, \"rbcc\": 5.6, \"htn\": \"no\", \"dm\": \"no\", \"cad\": \"no\", \"appet\": \"good\", \"pe\": \"no\", \"ane\": \"no\", \"class\": \"ckd\"}, {\"age\": 71.0, \"bp\": 70.0, \"sg\": 1.01, \"al\": 3.0, \"su\": 0.0, \"rbc\": \"normal\", \"pc\": \"abnormal\", \"pcc\": \"present\", \"ba\": \"present\", \"bgr\": 219.0, \"bu\": 82.0, \"sc\": 3.6, \"sod\": 133.0, \"pot\": 4.4, \"hemo\": 10.4, \"pcv\": 33.0, \"wbcc\": 5600.0, \"rbcc\": 3.6, \"htn\": \"yes\", \"dm\": \"yes\", \"cad\": \"yes\", \"appet\": \"good\", \"pe\": \"no\", \"ane\": \"no\", \"class\": \"ckd\"}, {\"age\": 73.0, \"bp\": 100.0, \"sg\": 1.01, \"al\": 3.0, \"su\": 2.0, \"rbc\": \"abnormal\", \"pc\": \"abnormal\", \"pcc\": \"present\", \"ba\": \"notpresent\", \"bgr\": 295.0, \"bu\": 90.0, \"sc\": 5.6, \"sod\": 140.0, \"pot\": 2.9, \"hemo\": 9.2, \"pcv\": 30.0, \"wbcc\": 7000.0, \"rbcc\": 3.2, \"htn\": \"yes\", \"dm\": \"yes\", \"cad\": \"yes\", \"appet\": \"poor\", \"pe\": \"no\", \"ane\": \"no\", \"class\": \"ckd\"}, {\"age\": 34.0, \"bp\": 70.0, \"sg\": 1.015, \"al\": 4.0, \"su\": 0.0, \"rbc\": \"abnormal\", \"pc\": \"abnormal\", \"pcc\": \"notpresent\", \"ba\": \"notpresent\", \"bgr\": 153.0, \"bu\": 22.0, \"sc\": 0.9, \"sod\": 133.0, \"pot\": 3.8, \"hemo\": 13.85, \"pcv\": 42.0, \"wbcc\": 7900.0, \"rbcc\": 4.9, \"htn\": \"no\", \"dm\": \"no\", \"cad\": \"no\", \"appet\": \"good\", \"pe\": \"yes\", \"ane\": \"no\", \"class\": \"ckd\"}, {\"age\": 76.0, \"bp\": 70.0, \"sg\": 1.015, \"al\": 2.0, \"su\": 0.0, \"rbc\": \"normal\", \"pc\": \"abnormal\", \"pcc\": \"present\", \"ba\": \"notpresent\", \"bgr\": 226.0, \"bu\": 217.0, \"sc\": 10.2, \"sod\": 139.0, \"pot\": 4.5, \"hemo\": 10.2, \"pcv\": 36.0, \"wbcc\": 12700.0, \"rbcc\": 4.2, \"htn\": \"yes\", \"dm\": \"no\", \"cad\": \"no\", \"appet\": \"poor\", \"pe\": \"yes\", \"ane\": \"yes\", \"class\": \"ckd\"}, {\"age\": 55.0, \"bp\": 100.0, \"sg\": 1.015, \"al\": 1.0, \"su\": 4.0, \"rbc\": \"normal\", \"pc\": \"normal\", \"pcc\": \"notpresent\", \"ba\": \"notpresent\", \"bgr\": 297.0, \"bu\": 53.0, \"sc\": 2.8, \"sod\": 139.0, \"pot\": 4.5, \"hemo\": 11.2, \"pcv\": 34.0, \"wbcc\": 13600.0, \"rbcc\": 4.4, \"htn\": \"yes\", \"dm\": \"yes\", \"cad\": \"no\", \"appet\": \"good\", \"pe\": \"no\", \"ane\": \"no\", \"class\": \"ckd\"}, {\"age\": 50.0, \"bp\": 60.0, \"sg\": 1.015, \"al\": 3.0, \"su\": 0.0, \"rbc\": \"abnormal\", \"pc\": \"abnormal\", \"pcc\": \"notpresent\", \"ba\": \"notpresent\", \"bgr\": 119.0, \"bu\": 34.0, \"sc\": 1.2, \"sod\": 139.0, \"pot\": 4.5, \"hemo\": 10.8, \"pcv\": 33.0, \"wbcc\": 7900.0, \"rbcc\": 4.9, \"htn\": \"no\", \"dm\": \"no\", \"cad\": \"no\", \"appet\": \"good\", \"pe\": \"no\", \"ane\": \"no\", \"class\": \"ckd\"}, {\"age\": 12.0, \"bp\": 60.0, \"sg\": 1.015, \"al\": 3.0, \"su\": 0.0, \"rbc\": \"abnormal\", \"pc\": \"abnormal\", \"pcc\": \"present\", \"ba\": \"notpresent\", \"bgr\": 119.0, \"bu\": 51.0, \"sc\": 1.8, \"sod\": 139.0, \"pot\": 4.5, \"hemo\": 12.1, \"pcv\": 42.0, \"wbcc\": 10300.0, \"rbcc\": 4.9, \"htn\": \"no\", \"dm\": \"no\", \"cad\": \"no\", \"appet\": \"good\", \"pe\": \"no\", \"ane\": \"no\", \"class\": \"ckd\"}, {\"age\": 50.0, \"bp\": 70.0, \"sg\": 1.015, \"al\": 4.0, \"su\": 0.0, \"rbc\": \"abnormal\", \"pc\": \"normal\", \"pcc\": \"notpresent\", \"ba\": \"notpresent\", \"bgr\": 104.0, \"bu\": 16.0, \"sc\": 0.5, \"sod\": 139.0, \"pot\": 4.5, \"hemo\": 13.85, \"pcv\": 42.0, \"wbcc\": 7900.0, \"rbcc\": 4.9, \"htn\": \"no\", \"dm\": \"no\", \"cad\": \"no\", \"appet\": \"good\", \"pe\": \"yes\", \"ane\": \"no\", \"class\": \"ckd\"}, {\"age\": 71.0, \"bp\": 60.0, \"sg\": 1.015, \"al\": 4.0, \"su\": 0.0, \"rbc\": \"normal\", \"pc\": \"normal\", \"pcc\": \"notpresent\", \"ba\": \"notpresent\", \"bgr\": 118.0, \"bu\": 125.0, \"sc\": 5.3, \"sod\": 136.0, \"pot\": 4.9, \"hemo\": 11.4, \"pcv\": 35.0, \"wbcc\": 15200.0, \"rbcc\": 4.3, \"htn\": \"yes\", \"dm\": \"yes\", \"cad\": \"no\", \"appet\": \"poor\", \"pe\": \"yes\", \"ane\": \"no\", \"class\": \"ckd\"}, {\"age\": 52.0, \"bp\": 90.0, \"sg\": 1.015, \"al\": 4.0, \"su\": 3.0, \"rbc\": \"normal\", \"pc\": \"abnormal\", \"pcc\": \"notpresent\", \"ba\": \"notpresent\", \"bgr\": 224.0, \"bu\": 166.0, \"sc\": 5.6, \"sod\": 133.0, \"pot\": 47.0, \"hemo\": 8.1, \"pcv\": 23.0, \"wbcc\": 5000.0, \"rbcc\": 2.9, \"htn\": \"yes\", \"dm\": \"yes\", \"cad\": \"no\", \"appet\": \"good\", \"pe\": \"no\", \"ane\": \"yes\", \"class\": \"ckd\"}, {\"age\": 50.0, \"bp\": 90.0, \"sg\": 1.01, \"al\": 2.0, \"su\": 0.0, \"rbc\": \"normal\", \"pc\": \"abnormal\", \"pcc\": \"present\", \"ba\": \"present\", \"bgr\": 128.0, \"bu\": 208.0, \"sc\": 9.2, \"sod\": 134.0, \"pot\": 4.8, \"hemo\": 8.2, \"pcv\": 22.0, \"wbcc\": 16300.0, \"rbcc\": 2.7, \"htn\": \"no\", \"dm\": \"no\", \"cad\": \"no\", \"appet\": \"poor\", \"pe\": \"yes\", \"ane\": \"yes\", \"class\": \"ckd\"}, {\"age\": 50.0, \"bp\": 80.0, \"sg\": 1.02, \"al\": 0.0, \"su\": 0.0, \"rbc\": \"normal\", \"pc\": \"normal\", \"pcc\": \"notpresent\", \"ba\": \"notpresent\", \"bgr\": 219.0, \"bu\": 176.0, \"sc\": 13.8, \"sod\": 136.0, \"pot\": 4.5, \"hemo\": 8.6, \"pcv\": 24.0, \"wbcc\": 13200.0, \"rbcc\": 2.7, \"htn\": \"yes\", \"dm\": \"no\", \"cad\": \"no\", \"appet\": \"good\", \"pe\": \"yes\", \"ane\": \"yes\", \"class\": \"ckd\"}, {\"age\": 70.0, \"bp\": 100.0, \"sg\": 1.015, \"al\": 4.0, \"su\": 0.0, \"rbc\": \"normal\", \"pc\": \"normal\", \"pcc\": \"notpresent\", \"ba\": \"notpresent\", \"bgr\": 118.0, \"bu\": 125.0, \"sc\": 5.3, \"sod\": 136.0, \"pot\": 4.9, \"hemo\": 12.0, \"pcv\": 37.0, \"wbcc\": 8400.0, \"rbcc\": 8.0, \"htn\": \"yes\", \"dm\": \"no\", \"cad\": \"no\", \"appet\": \"good\", \"pe\": \"no\", \"ane\": \"no\", \"class\": \"ckd\"}, {\"age\": 47.0, \"bp\": 100.0, \"sg\": 1.01, \"al\": 0.0, \"su\": 0.0, \"rbc\": \"normal\", \"pc\": \"normal\", \"pcc\": \"notpresent\", \"ba\": \"notpresent\", \"bgr\": 122.0, \"bu\": 40.0, \"sc\": 16.9, \"sod\": 138.0, \"pot\": 5.2, \"hemo\": 10.8, \"pcv\": 33.0, \"wbcc\": 10200.0, \"rbcc\": 3.8, \"htn\": \"no\", \"dm\": \"yes\", \"cad\": \"no\", \"appet\": \"good\", \"pe\": \"no\", \"ane\": \"no\", \"class\": \"ckd\"}, {\"age\": 45.0, \"bp\": 60.0, \"sg\": 1.01, \"al\": 2.0, \"su\": 0.0, \"rbc\": \"normal\", \"pc\": \"abnormal\", \"pcc\": \"present\", \"ba\": \"notpresent\", \"bgr\": 268.0, \"bu\": 86.0, \"sc\": 4.0, \"sod\": 134.0, \"pot\": 5.1, \"hemo\": 10.0, \"pcv\": 29.0, \"wbcc\": 9200.0, \"rbcc\": 4.9, \"htn\": \"yes\", \"dm\": \"yes\", \"cad\": \"no\", \"appet\": \"good\", \"pe\": \"no\", \"ane\": \"no\", \"class\": \"ckd\"}, {\"age\": 67.0, \"bp\": 70.0, \"sg\": 1.01, \"al\": 1.0, \"su\": 0.0, \"rbc\": \"normal\", \"pc\": \"normal\", \"pcc\": \"notpresent\", \"ba\": \"notpresent\", \"bgr\": 119.0, \"bu\": 106.0, \"sc\": 6.0, \"sod\": 137.0, \"pot\": 4.9, \"hemo\": 6.1, \"pcv\": 19.0, \"wbcc\": 6500.0, \"rbcc\": 4.9, \"htn\": \"yes\", \"dm\": \"no\", \"cad\": \"no\", \"appet\": \"good\", \"pe\": \"no\", \"ane\": \"yes\", \"class\": \"ckd\"}, {\"age\": 41.0, \"bp\": 80.0, \"sg\": 1.015, \"al\": 1.0, \"su\": 4.0, \"rbc\": \"abnormal\", \"pc\": \"normal\", \"pcc\": \"notpresent\", \"ba\": \"notpresent\", \"bgr\": 210.0, \"bu\": 165.0, \"sc\": 18.0, \"sod\": 135.0, \"pot\": 4.7, \"hemo\": 13.85, \"pcv\": 42.0, \"wbcc\": 7900.0, \"rbcc\": 4.9, \"htn\": \"no\", \"dm\": \"yes\", \"cad\": \"no\", \"appet\": \"good\", \"pe\": \"no\", \"ane\": \"no\", \"class\": \"ckd\"}, {\"age\": 60.0, \"bp\": 90.0, \"sg\": 1.01, \"al\": 2.0, \"su\": 0.0, \"rbc\": \"abnormal\", \"pc\": \"normal\", \"pcc\": \"notpresent\", \"ba\": \"notpresent\", \"bgr\": 105.0, \"bu\": 53.0, \"sc\": 2.3, \"sod\": 136.0, \"pot\": 5.2, \"hemo\": 11.1, \"pcv\": 33.0, \"wbcc\": 10500.0, \"rbcc\": 4.1, \"htn\": \"no\", \"dm\": \"no\", \"cad\": \"no\", \"appet\": \"good\", \"pe\": \"no\", \"ane\": \"no\", \"class\": \"ckd\"}, {\"age\": 57.0, \"bp\": 90.0, \"sg\": 1.015, \"al\": 5.0, \"su\": 0.0, \"rbc\": \"abnormal\", \"pc\": \"abnormal\", \"pcc\": \"notpresent\", \"ba\": \"present\", \"bgr\": 119.0, \"bu\": 322.0, \"sc\": 13.0, \"sod\": 126.0, \"pot\": 4.8, \"hemo\": 8.0, \"pcv\": 24.0, \"wbcc\": 4200.0, \"rbcc\": 3.3, \"htn\": \"yes\", \"dm\": \"yes\", \"cad\": \"yes\", \"appet\": \"poor\", \"pe\": \"yes\", \"ane\": \"yes\", \"class\": \"ckd\"}, {\"age\": 53.0, \"bp\": 100.0, \"sg\": 1.01, \"al\": 1.0, \"su\": 3.0, \"rbc\": \"abnormal\", \"pc\": \"normal\", \"pcc\": \"notpresent\", \"ba\": \"notpresent\", \"bgr\": 213.0, \"bu\": 23.0, \"sc\": 1.0, \"sod\": 139.0, \"pot\": 4.0, \"hemo\": 13.85, \"pcv\": 42.0, \"wbcc\": 7900.0, \"rbcc\": 4.9, \"htn\": \"no\", \"dm\": \"yes\", \"cad\": \"no\", \"appet\": \"good\", \"pe\": \"no\", \"ane\": \"no\", \"class\": \"ckd\"}, {\"age\": 60.0, \"bp\": 60.0, \"sg\": 1.01, \"al\": 3.0, \"su\": 1.0, \"rbc\": \"normal\", \"pc\": \"abnormal\", \"pcc\": \"present\", \"ba\": \"notpresent\", \"bgr\": 288.0, \"bu\": 36.0, \"sc\": 1.7, \"sod\": 130.0, \"pot\": 3.0, \"hemo\": 7.9, \"pcv\": 25.0, \"wbcc\": 15200.0, \"rbcc\": 3.0, \"htn\": \"yes\", \"dm\": \"no\", \"cad\": \"no\", \"appet\": \"poor\", \"pe\": \"no\", \"ane\": \"yes\", \"class\": \"ckd\"}, {\"age\": 65.0, \"bp\": 70.0, \"sg\": 1.02, \"al\": 1.0, \"su\": 0.0, \"rbc\": \"abnormal\", \"pc\": \"abnormal\", \"pcc\": \"notpresent\", \"ba\": \"notpresent\", \"bgr\": 139.0, \"bu\": 29.0, \"sc\": 1.0, \"sod\": 139.0, \"pot\": 4.5, \"hemo\": 10.5, \"pcv\": 32.0, \"wbcc\": 7900.0, \"rbcc\": 4.9, \"htn\": \"yes\", \"dm\": \"no\", \"cad\": \"no\", \"appet\": \"good\", \"pe\": \"yes\", \"ane\": \"no\", \"class\": \"ckd\"}, {\"age\": 8.0, \"bp\": 60.0, \"sg\": 1.025, \"al\": 3.0, \"su\": 0.0, \"rbc\": \"normal\", \"pc\": \"normal\", \"pcc\": \"notpresent\", \"ba\": \"notpresent\", \"bgr\": 78.0, \"bu\": 27.0, \"sc\": 0.9, \"sod\": 139.0, \"pot\": 4.5, \"hemo\": 12.3, \"pcv\": 41.0, \"wbcc\": 6700.0, \"rbcc\": 4.9, \"htn\": \"no\", \"dm\": \"no\", \"cad\": \"no\", \"appet\": \"poor\", \"pe\": \"yes\", \"ane\": \"no\", \"class\": \"ckd\"}, {\"age\": 55.0, \"bp\": 90.0, \"sg\": 1.01, \"al\": 2.0, \"su\": 1.0, \"rbc\": \"abnormal\", \"pc\": \"abnormal\", \"pcc\": \"notpresent\", \"ba\": \"notpresent\", \"bgr\": 273.0, \"bu\": 235.0, \"sc\": 14.2, \"sod\": 132.0, \"pot\": 3.4, \"hemo\": 8.3, \"pcv\": 22.0, \"wbcc\": 14600.0, \"rbcc\": 2.9, \"htn\": \"yes\", \"dm\": \"yes\", \"cad\": \"no\", \"appet\": \"poor\", \"pe\": \"yes\", \"ane\": \"yes\", \"class\": \"ckd\"}, {\"age\": 56.0, \"bp\": 90.0, \"sg\": 1.005, \"al\": 4.0, \"su\": 3.0, \"rbc\": \"abnormal\", \"pc\": \"abnormal\", \"pcc\": \"notpresent\", \"ba\": \"notpresent\", \"bgr\": 242.0, \"bu\": 132.0, \"sc\": 16.4, \"sod\": 140.0, \"pot\": 4.2, \"hemo\": 8.4, \"pcv\": 26.0, \"wbcc\": 7900.0, \"rbcc\": 3.0, \"htn\": \"yes\", \"dm\": \"yes\", \"cad\": \"no\", \"appet\": \"poor\", \"pe\": \"yes\", \"ane\": \"yes\", \"class\": \"ckd\"}, {\"age\": 50.0, \"bp\": 70.0, \"sg\": 1.02, \"al\": 3.0, \"su\": 0.0, \"rbc\": \"abnormal\", \"pc\": \"normal\", \"pcc\": \"present\", \"ba\": \"present\", \"bgr\": 123.0, \"bu\": 40.0, \"sc\": 1.8, \"sod\": 139.0, \"pot\": 4.5, \"hemo\": 11.1, \"pcv\": 36.0, \"wbcc\": 4700.0, \"rbcc\": 4.9, \"htn\": \"no\", \"dm\": \"no\", \"cad\": \"no\", \"appet\": \"good\", \"pe\": \"no\", \"ane\": \"no\", \"class\": \"ckd\"}, {\"age\": 62.0, \"bp\": 70.0, \"sg\": 1.025, \"al\": 3.0, \"su\": 0.0, \"rbc\": \"normal\", \"pc\": \"abnormal\", \"pcc\": \"notpresent\", \"ba\": \"notpresent\", \"bgr\": 122.0, \"bu\": 42.0, \"sc\": 1.7, \"sod\": 136.0, \"pot\": 4.7, \"hemo\": 12.6, \"pcv\": 39.0, \"wbcc\": 7900.0, \"rbcc\": 3.9, \"htn\": \"yes\", \"dm\": \"yes\", \"cad\": \"no\", \"appet\": \"good\", \"pe\": \"no\", \"ane\": \"no\", \"class\": \"ckd\"}, {\"age\": 71.0, \"bp\": 60.0, \"sg\": 1.02, \"al\": 3.0, \"su\": 2.0, \"rbc\": \"normal\", \"pc\": \"normal\", \"pcc\": \"present\", \"ba\": \"notpresent\", \"bgr\": 424.0, \"bu\": 48.0, \"sc\": 1.5, \"sod\": 132.0, \"pot\": 4.0, \"hemo\": 10.9, \"pcv\": 31.0, \"wbcc\": 7900.0, \"rbcc\": 4.9, \"htn\": \"yes\", \"dm\": \"yes\", \"cad\": \"yes\", \"appet\": \"good\", \"pe\": \"no\", \"ane\": \"no\", \"class\": \"ckd\"}, {\"age\": 59.0, \"bp\": 80.0, \"sg\": 1.01, \"al\": 1.0, \"su\": 0.0, \"rbc\": \"abnormal\", \"pc\": \"normal\", \"pcc\": \"notpresent\", \"ba\": \"notpresent\", \"bgr\": 303.0, \"bu\": 35.0, \"sc\": 1.3, \"sod\": 122.0, \"pot\": 3.5, \"hemo\": 10.4, \"pcv\": 35.0, \"wbcc\": 10900.0, \"rbcc\": 4.3, \"htn\": \"no\", \"dm\": \"yes\", \"cad\": \"no\", \"appet\": \"poor\", \"pe\": \"no\", \"ane\": \"no\", \"class\": \"ckd\"}, {\"age\": 62.0, \"bp\": 80.0, \"sg\": 1.015, \"al\": 3.0, \"su\": 0.0, \"rbc\": \"abnormal\", \"pc\": \"normal\", \"pcc\": \"notpresent\", \"ba\": \"notpresent\", \"bgr\": 119.0, \"bu\": 40.0, \"sc\": 1.15, \"sod\": 139.0, \"pot\": 4.5, \"hemo\": 14.3, \"pcv\": 42.0, \"wbcc\": 10200.0, \"rbcc\": 4.8, \"htn\": \"yes\", \"dm\": \"yes\", \"cad\": \"no\", \"appet\": \"good\", \"pe\": \"no\", \"ane\": \"no\", \"class\": \"ckd\"}, {\"age\": 34.0, \"bp\": 70.0, \"sg\": 1.02, \"al\": 0.0, \"su\": 0.0, \"rbc\": \"abnormal\", \"pc\": \"normal\", \"pcc\": \"notpresent\", \"ba\": \"notpresent\", \"bgr\": 139.0, \"bu\": 19.0, \"sc\": 0.9, \"sod\": 139.0, \"pot\": 4.5, \"hemo\": 12.7, \"pcv\": 42.0, \"wbcc\": 2200.0, \"rbcc\": 4.9, \"htn\": \"no\", \"dm\": \"no\", \"cad\": \"no\", \"appet\": \"poor\", \"pe\": \"no\", \"ane\": \"no\", \"class\": \"ckd\"}, {\"age\": 83.0, \"bp\": 70.0, \"sg\": 1.02, \"al\": 3.0, \"su\": 0.0, \"rbc\": \"normal\", \"pc\": \"normal\", \"pcc\": \"notpresent\", \"ba\": \"notpresent\", \"bgr\": 102.0, \"bu\": 60.0, \"sc\": 2.6, \"sod\": 115.0, \"pot\": 5.7, \"hemo\": 8.7, \"pcv\": 26.0, \"wbcc\": 12800.0, \"rbcc\": 3.1, \"htn\": \"yes\", \"dm\": \"no\", \"cad\": \"no\", \"appet\": \"poor\", \"pe\": \"no\", \"ane\": \"yes\", \"class\": \"ckd\"}, {\"age\": 17.0, \"bp\": 70.0, \"sg\": 1.015, \"al\": 1.0, \"su\": 0.0, \"rbc\": \"abnormal\", \"pc\": \"normal\", \"pcc\": \"notpresent\", \"ba\": \"notpresent\", \"bgr\": 22.0, \"bu\": 1.5, \"sc\": 7.3, \"sod\": 145.0, \"pot\": 2.8, \"hemo\": 13.1, \"pcv\": 41.0, \"wbcc\": 11200.0, \"rbcc\": 4.9, \"htn\": \"no\", \"dm\": \"no\", \"cad\": \"no\", \"appet\": \"good\", \"pe\": \"no\", \"ane\": \"no\", \"class\": \"ckd\"}, {\"age\": 21.0, \"bp\": 90.0, \"sg\": 1.01, \"al\": 4.0, \"su\": 0.0, \"rbc\": \"normal\", \"pc\": \"abnormal\", \"pcc\": \"present\", \"ba\": \"present\", \"bgr\": 107.0, \"bu\": 40.0, \"sc\": 1.7, \"sod\": 125.0, \"pot\": 3.5, \"hemo\": 8.3, \"pcv\": 23.0, \"wbcc\": 12400.0, \"rbcc\": 3.9, \"htn\": \"no\", \"dm\": \"no\", \"cad\": \"no\", \"appet\": \"good\", \"pe\": \"no\", \"ane\": \"yes\", \"class\": \"ckd\"}, {\"age\": 65.0, \"bp\": 80.0, \"sg\": 1.015, \"al\": 2.0, \"su\": 1.0, \"rbc\": \"normal\", \"pc\": \"normal\", \"pcc\": \"present\", \"ba\": \"notpresent\", \"bgr\": 215.0, \"bu\": 133.0, \"sc\": 2.5, \"sod\": 139.0, \"pot\": 4.5, \"hemo\": 13.2, \"pcv\": 41.0, \"wbcc\": 7900.0, \"rbcc\": 4.9, \"htn\": \"no\", \"dm\": \"yes\", \"cad\": \"no\", \"appet\": \"good\", \"pe\": \"no\", \"ane\": \"no\", \"class\": \"ckd\"}, {\"age\": 42.0, \"bp\": 90.0, \"sg\": 1.02, \"al\": 2.0, \"su\": 0.0, \"rbc\": \"abnormal\", \"pc\": \"abnormal\", \"pcc\": \"present\", \"ba\": \"notpresent\", \"bgr\": 93.0, \"bu\": 153.0, \"sc\": 2.7, \"sod\": 139.0, \"pot\": 4.3, \"hemo\": 9.8, \"pcv\": 34.0, \"wbcc\": 9800.0, \"rbcc\": 4.9, \"htn\": \"no\", \"dm\": \"no\", \"cad\": \"no\", \"appet\": \"poor\", \"pe\": \"yes\", \"ane\": \"yes\", \"class\": \"ckd\"}, {\"age\": 73.0, \"bp\": 90.0, \"sg\": 1.01, \"al\": 1.0, \"su\": 4.0, \"rbc\": \"abnormal\", \"pc\": \"abnormal\", \"pcc\": \"present\", \"ba\": \"notpresent\", \"bgr\": 234.0, \"bu\": 56.0, \"sc\": 1.9, \"sod\": 139.0, \"pot\": 4.5, \"hemo\": 10.3, \"pcv\": 28.0, \"wbcc\": 7900.0, \"rbcc\": 4.9, \"htn\": \"no\", \"dm\": \"yes\", \"cad\": \"no\", \"appet\": \"good\", \"pe\": \"no\", \"ane\": \"no\", \"class\": \"ckd\"}, {\"age\": 45.0, \"bp\": 70.0, \"sg\": 1.025, \"al\": 2.0, \"su\": 0.0, \"rbc\": \"normal\", \"pc\": \"abnormal\", \"pcc\": \"present\", \"ba\": \"notpresent\", \"bgr\": 117.0, \"bu\": 52.0, \"sc\": 2.2, \"sod\": 136.0, \"pot\": 3.8, \"hemo\": 10.0, \"pcv\": 30.0, \"wbcc\": 19100.0, \"rbcc\": 3.7, \"htn\": \"no\", \"dm\": \"no\", \"cad\": \"no\", \"appet\": \"good\", \"pe\": \"no\", \"ane\": \"no\", \"class\": \"ckd\"}, {\"age\": 8.0, \"bp\": 50.0, \"sg\": 1.02, \"al\": 4.0, \"su\": 0.0, \"rbc\": \"normal\", \"pc\": \"normal\", \"pcc\": \"notpresent\", \"ba\": \"notpresent\", \"bgr\": 119.0, \"bu\": 46.0, \"sc\": 1.0, \"sod\": 135.0, \"pot\": 3.8, \"hemo\": 13.85, \"pcv\": 42.0, \"wbcc\": 7900.0, \"rbcc\": 4.9, \"htn\": \"no\", \"dm\": \"no\", \"cad\": \"no\", \"appet\": \"good\", \"pe\": \"yes\", \"ane\": \"no\", \"class\": \"ckd\"}, {\"age\": 3.0, \"bp\": 80.0, \"sg\": 1.01, \"al\": 2.0, \"su\": 0.0, \"rbc\": \"normal\", \"pc\": \"normal\", \"pcc\": \"notpresent\", \"ba\": \"notpresent\", \"bgr\": 119.0, \"bu\": 22.0, \"sc\": 0.7, \"sod\": 139.0, \"pot\": 4.5, \"hemo\": 10.7, \"pcv\": 34.0, \"wbcc\": 12300.0, \"rbcc\": 4.9, \"htn\": \"no\", \"dm\": \"no\", \"cad\": \"no\", \"appet\": \"good\", \"pe\": \"no\", \"ane\": \"no\", \"class\": \"ckd\"}, {\"age\": 64.0, \"bp\": 60.0, \"sg\": 1.01, \"al\": 4.0, \"su\": 1.0, \"rbc\": \"abnormal\", \"pc\": \"abnormal\", \"pcc\": \"notpresent\", \"ba\": \"present\", \"bgr\": 239.0, \"bu\": 58.0, \"sc\": 4.3, \"sod\": 137.0, \"pot\": 5.4, \"hemo\": 9.5, \"pcv\": 29.0, \"wbcc\": 7500.0, \"rbcc\": 3.4, \"htn\": \"yes\", \"dm\": \"yes\", \"cad\": \"no\", \"appet\": \"poor\", \"pe\": \"yes\", \"ane\": \"no\", \"class\": \"ckd\"}, {\"age\": 6.0, \"bp\": 60.0, \"sg\": 1.01, \"al\": 4.0, \"su\": 0.0, \"rbc\": \"abnormal\", \"pc\": \"abnormal\", \"pcc\": \"notpresent\", \"ba\": \"present\", \"bgr\": 94.0, \"bu\": 67.0, \"sc\": 1.0, \"sod\": 135.0, \"pot\": 4.9, \"hemo\": 9.9, \"pcv\": 30.0, \"wbcc\": 16700.0, \"rbcc\": 4.8, \"htn\": \"no\", \"dm\": \"no\", \"cad\": \"no\", \"appet\": \"poor\", \"pe\": \"no\", \"ane\": \"no\", \"class\": \"ckd\"}, {\"age\": 50.0, \"bp\": 70.0, \"sg\": 1.01, \"al\": 3.0, \"su\": 0.0, \"rbc\": \"normal\", \"pc\": \"normal\", \"pcc\": \"notpresent\", \"ba\": \"notpresent\", \"bgr\": 110.0, \"bu\": 115.0, \"sc\": 6.0, \"sod\": 134.0, \"pot\": 2.7, \"hemo\": 9.1, \"pcv\": 26.0, \"wbcc\": 9200.0, \"rbcc\": 3.4, \"htn\": \"yes\", \"dm\": \"yes\", \"cad\": \"no\", \"appet\": \"poor\", \"pe\": \"no\", \"ane\": \"no\", \"class\": \"ckd\"}, {\"age\": 32.0, \"bp\": 90.0, \"sg\": 1.025, \"al\": 1.0, \"su\": 0.0, \"rbc\": \"abnormal\", \"pc\": \"abnormal\", \"pcc\": \"notpresent\", \"ba\": \"notpresent\", \"bgr\": 119.0, \"bu\": 223.0, \"sc\": 18.1, \"sod\": 113.0, \"pot\": 6.5, \"hemo\": 5.5, \"pcv\": 15.0, \"wbcc\": 2600.0, \"rbcc\": 2.8, \"htn\": \"yes\", \"dm\": \"yes\", \"cad\": \"no\", \"appet\": \"poor\", \"pe\": \"yes\", \"ane\": \"yes\", \"class\": \"ckd\"}, {\"age\": 70.0, \"bp\": 90.0, \"sg\": 1.02, \"al\": 2.0, \"su\": 1.0, \"rbc\": \"abnormal\", \"pc\": \"abnormal\", \"pcc\": \"notpresent\", \"ba\": \"present\", \"bgr\": 184.0, \"bu\": 98.6, \"sc\": 3.3, \"sod\": 138.0, \"pot\": 3.9, \"hemo\": 5.8, \"pcv\": 42.0, \"wbcc\": 7900.0, \"rbcc\": 4.9, \"htn\": \"yes\", \"dm\": \"yes\", \"cad\": \"yes\", \"appet\": \"poor\", \"pe\": \"no\", \"ane\": \"no\", \"class\": \"ckd\"}, {\"age\": 49.0, \"bp\": 100.0, \"sg\": 1.01, \"al\": 3.0, \"su\": 0.0, \"rbc\": \"abnormal\", \"pc\": \"abnormal\", \"pcc\": \"notpresent\", \"ba\": \"notpresent\", \"bgr\": 129.0, \"bu\": 158.0, \"sc\": 11.8, \"sod\": 122.0, \"pot\": 3.2, \"hemo\": 8.1, \"pcv\": 24.0, \"wbcc\": 9600.0, \"rbcc\": 3.5, \"htn\": \"yes\", \"dm\": \"yes\", \"cad\": \"no\", \"appet\": \"poor\", \"pe\": \"yes\", \"ane\": \"yes\", \"class\": \"ckd\"}, {\"age\": 59.0, \"bp\": 100.0, \"sg\": 1.02, \"al\": 4.0, \"su\": 2.0, \"rbc\": \"normal\", \"pc\": \"normal\", \"pcc\": \"notpresent\", \"ba\": \"notpresent\", \"bgr\": 252.0, \"bu\": 40.0, \"sc\": 3.2, \"sod\": 137.0, \"pot\": 4.7, \"hemo\": 11.2, \"pcv\": 30.0, \"wbcc\": 26400.0, \"rbcc\": 3.9, \"htn\": \"yes\", \"dm\": \"yes\", \"cad\": \"no\", \"appet\": \"poor\", \"pe\": \"yes\", \"ane\": \"no\", \"class\": \"ckd\"}, {\"age\": 65.0, \"bp\": 90.0, \"sg\": 1.01, \"al\": 4.0, \"su\": 2.0, \"rbc\": \"normal\", \"pc\": \"normal\", \"pcc\": \"notpresent\", \"ba\": \"notpresent\", \"bgr\": 172.0, \"bu\": 82.0, \"sc\": 13.5, \"sod\": 145.0, \"pot\": 6.3, \"hemo\": 8.8, \"pcv\": 31.0, \"wbcc\": 7900.0, \"rbcc\": 4.9, \"htn\": \"yes\", \"dm\": \"yes\", \"cad\": \"no\", \"appet\": \"good\", \"pe\": \"yes\", \"ane\": \"yes\", \"class\": \"ckd\"}, {\"age\": 59.0, \"bp\": 100.0, \"sg\": 1.015, \"al\": 4.0, \"su\": 2.0, \"rbc\": \"normal\", \"pc\": \"normal\", \"pcc\": \"notpresent\", \"ba\": \"notpresent\", \"bgr\": 255.0, \"bu\": 132.0, \"sc\": 12.8, \"sod\": 135.0, \"pot\": 5.7, \"hemo\": 7.3, \"pcv\": 20.0, \"wbcc\": 9800.0, \"rbcc\": 3.9, \"htn\": \"yes\", \"dm\": \"yes\", \"cad\": \"yes\", \"appet\": \"good\", \"pe\": \"no\", \"ane\": \"yes\", \"class\": \"ckd\"}, {\"age\": 40.0, \"bp\": 70.0, \"sg\": 1.015, \"al\": 3.0, \"su\": 4.0, \"rbc\": \"normal\", \"pc\": \"normal\", \"pcc\": \"notpresent\", \"ba\": \"notpresent\", \"bgr\": 253.0, \"bu\": 150.0, \"sc\": 11.9, \"sod\": 132.0, \"pot\": 5.6, \"hemo\": 10.9, \"pcv\": 31.0, \"wbcc\": 8800.0, \"rbcc\": 3.4, \"htn\": \"yes\", \"dm\": \"yes\", \"cad\": \"no\", \"appet\": \"poor\", \"pe\": \"yes\", \"ane\": \"no\", \"class\": \"ckd\"}, {\"age\": 55.0, \"bp\": 80.0, \"sg\": 1.01, \"al\": 3.0, \"su\": 1.0, \"rbc\": \"normal\", \"pc\": \"abnormal\", \"pcc\": \"present\", \"ba\": \"present\", \"bgr\": 214.0, \"bu\": 73.0, \"sc\": 3.9, \"sod\": 137.0, \"pot\": 4.9, \"hemo\": 10.9, \"pcv\": 34.0, \"wbcc\": 7400.0, \"rbcc\": 3.7, \"htn\": \"yes\", \"dm\": \"yes\", \"cad\": \"no\", \"appet\": \"good\", \"pe\": \"yes\", \"ane\": \"no\", \"class\": \"ckd\"}, {\"age\": 2.0, \"bp\": 80.0, \"sg\": 1.01, \"al\": 3.0, \"su\": 0.0, \"rbc\": \"normal\", \"pc\": \"abnormal\", \"pcc\": \"notpresent\", \"ba\": \"notpresent\", \"bgr\": 119.0, \"bu\": 40.0, \"sc\": 1.15, \"sod\": 139.0, \"pot\": 4.5, \"hemo\": 13.85, \"pcv\": 42.0, \"wbcc\": 7900.0, \"rbcc\": 4.9, \"htn\": \"no\", \"dm\": \"no\", \"cad\": \"no\", \"appet\": \"good\", \"pe\": \"yes\", \"ane\": \"no\", \"class\": \"ckd\"}, {\"age\": 66.0, \"bp\": 70.0, \"sg\": 1.02, \"al\": 1.0, \"su\": 0.0, \"rbc\": \"normal\", \"pc\": \"normal\", \"pcc\": \"notpresent\", \"ba\": \"notpresent\", \"bgr\": 248.0, \"bu\": 30.0, \"sc\": 1.7, \"sod\": 138.0, \"pot\": 5.3, \"hemo\": 13.85, \"pcv\": 42.0, \"wbcc\": 7900.0, \"rbcc\": 4.9, \"htn\": \"yes\", \"dm\": \"yes\", \"cad\": \"no\", \"appet\": \"good\", \"pe\": \"no\", \"ane\": \"no\", \"class\": \"ckd\"}, {\"age\": 60.0, \"bp\": 90.0, \"sg\": 1.01, \"al\": 3.0, \"su\": 5.0, \"rbc\": \"abnormal\", \"pc\": \"normal\", \"pcc\": \"notpresent\", \"ba\": \"present\", \"bgr\": 490.0, \"bu\": 95.0, \"sc\": 2.7, \"sod\": 131.0, \"pot\": 3.8, \"hemo\": 11.5, \"pcv\": 35.0, \"wbcc\": 12000.0, \"rbcc\": 4.5, \"htn\": \"yes\", \"dm\": \"yes\", \"cad\": \"no\", \"appet\": \"good\", \"pe\": \"no\", \"ane\": \"no\", \"class\": \"ckd\"}, {\"age\": 64.0, \"bp\": 100.0, \"sg\": 1.015, \"al\": 4.0, \"su\": 2.0, \"rbc\": \"abnormal\", \"pc\": \"abnormal\", \"pcc\": \"notpresent\", \"ba\": \"present\", \"bgr\": 163.0, \"bu\": 54.0, \"sc\": 7.2, \"sod\": 140.0, \"pot\": 4.6, \"hemo\": 7.9, \"pcv\": 26.0, \"wbcc\": 7500.0, \"rbcc\": 3.4, \"htn\": \"yes\", \"dm\": \"yes\", \"cad\": \"no\", \"appet\": \"good\", \"pe\": \"yes\", \"ane\": \"no\", \"class\": \"ckd\"}, {\"age\": 59.0, \"bp\": 50.0, \"sg\": 1.01, \"al\": 3.0, \"su\": 0.0, \"rbc\": \"normal\", \"pc\": \"abnormal\", \"pcc\": \"notpresent\", \"ba\": \"notpresent\", \"bgr\": 241.0, \"bu\": 191.0, \"sc\": 12.0, \"sod\": 114.0, \"pot\": 2.9, \"hemo\": 9.6, \"pcv\": 31.0, \"wbcc\": 15700.0, \"rbcc\": 3.8, \"htn\": \"no\", \"dm\": \"yes\", \"cad\": \"no\", \"appet\": \"good\", \"pe\": \"yes\", \"ane\": \"no\", \"class\": \"ckd\"}, {\"age\": 65.0, \"bp\": 60.0, \"sg\": 1.01, \"al\": 2.0, \"su\": 0.0, \"rbc\": \"normal\", \"pc\": \"abnormal\", \"pcc\": \"present\", \"ba\": \"notpresent\", \"bgr\": 192.0, \"bu\": 17.0, \"sc\": 1.7, \"sod\": 130.0, \"pot\": 4.3, \"hemo\": 13.85, \"pcv\": 42.0, \"wbcc\": 9500.0, \"rbcc\": 4.9, \"htn\": \"yes\", \"dm\": \"yes\", \"cad\": \"no\", \"appet\": \"poor\", \"pe\": \"no\", \"ane\": \"no\", \"class\": \"ckd\"}, {\"age\": 50.0, \"bp\": 90.0, \"sg\": 1.015, \"al\": 1.0, \"su\": 0.0, \"rbc\": \"abnormal\", \"pc\": \"abnormal\", \"pcc\": \"notpresent\", \"ba\": \"notpresent\", \"bgr\": 119.0, \"bu\": 40.0, \"sc\": 1.15, \"sod\": 139.0, \"pot\": 4.5, \"hemo\": 13.85, \"pcv\": 42.0, \"wbcc\": 7900.0, \"rbcc\": 4.9, \"htn\": \"no\", \"dm\": \"no\", \"cad\": \"no\", \"appet\": \"good\", \"pe\": \"yes\", \"ane\": \"no\", \"class\": \"ckd\"}, {\"age\": 51.0, \"bp\": 100.0, \"sg\": 1.015, \"al\": 2.0, \"su\": 0.0, \"rbc\": \"normal\", \"pc\": \"normal\", \"pcc\": \"notpresent\", \"ba\": \"present\", \"bgr\": 93.0, \"bu\": 20.0, \"sc\": 1.6, \"sod\": 146.0, \"pot\": 4.5, \"hemo\": 13.85, \"pcv\": 42.0, \"wbcc\": 7900.0, \"rbcc\": 4.9, \"htn\": \"no\", \"dm\": \"no\", \"cad\": \"no\", \"appet\": \"poor\", \"pe\": \"no\", \"ane\": \"no\", \"class\": \"ckd\"}, {\"age\": 37.0, \"bp\": 100.0, \"sg\": 1.01, \"al\": 0.0, \"su\": 0.0, \"rbc\": \"abnormal\", \"pc\": \"normal\", \"pcc\": \"notpresent\", \"ba\": \"notpresent\", \"bgr\": 119.0, \"bu\": 19.0, \"sc\": 1.3, \"sod\": 139.0, \"pot\": 4.5, \"hemo\": 15.0, \"pcv\": 44.0, \"wbcc\": 4100.0, \"rbcc\": 5.2, \"htn\": \"yes\", \"dm\": \"no\", \"cad\": \"no\", \"appet\": \"good\", \"pe\": \"no\", \"ane\": \"no\", \"class\": \"ckd\"}, {\"age\": 34.0, \"bp\": 90.0, \"sg\": 1.015, \"al\": 2.0, \"su\": 0.0, \"rbc\": \"normal\", \"pc\": \"normal\", \"pcc\": \"notpresent\", \"ba\": \"notpresent\", \"bgr\": 104.0, \"bu\": 50.0, \"sc\": 1.6, \"sod\": 137.0, \"pot\": 4.1, \"hemo\": 11.9, \"pcv\": 39.0, \"wbcc\": 7900.0, \"rbcc\": 4.9, \"htn\": \"no\", \"dm\": \"no\", \"cad\": \"no\", \"appet\": \"good\", \"pe\": \"no\", \"ane\": \"no\", \"class\": \"ckd\"}, {\"age\": 69.0, \"bp\": 70.0, \"sg\": 1.01, \"al\": 4.0, \"su\": 3.0, \"rbc\": \"normal\", \"pc\": \"abnormal\", \"pcc\": \"present\", \"ba\": \"present\", \"bgr\": 214.0, \"bu\": 96.0, \"sc\": 6.3, \"sod\": 120.0, \"pot\": 3.9, \"hemo\": 9.4, \"pcv\": 28.0, \"wbcc\": 11500.0, \"rbcc\": 3.3, \"htn\": \"yes\", \"dm\": \"yes\", \"cad\": \"yes\", \"appet\": \"good\", \"pe\": \"yes\", \"ane\": \"yes\", \"class\": \"ckd\"}, {\"age\": 48.0, \"bp\": 110.0, \"sg\": 1.015, \"al\": 3.0, \"su\": 0.0, \"rbc\": \"abnormal\", \"pc\": \"normal\", \"pcc\": \"present\", \"ba\": \"notpresent\", \"bgr\": 106.0, \"bu\": 215.0, \"sc\": 15.2, \"sod\": 120.0, \"pot\": 5.7, \"hemo\": 8.6, \"pcv\": 26.0, \"wbcc\": 5000.0, \"rbcc\": 2.5, \"htn\": \"yes\", \"dm\": \"no\", \"cad\": \"yes\", \"appet\": \"good\", \"pe\": \"no\", \"ane\": \"yes\", \"class\": \"ckd\"}, {\"age\": 54.0, \"bp\": 90.0, \"sg\": 1.025, \"al\": 1.0, \"su\": 0.0, \"rbc\": \"normal\", \"pc\": \"abnormal\", \"pcc\": \"notpresent\", \"ba\": \"notpresent\", \"bgr\": 150.0, \"bu\": 18.0, \"sc\": 1.2, \"sod\": 140.0, \"pot\": 4.2, \"hemo\": 13.85, \"pcv\": 42.0, \"wbcc\": 7900.0, \"rbcc\": 4.9, \"htn\": \"no\", \"dm\": \"no\", \"cad\": \"no\", \"appet\": \"poor\", \"pe\": \"yes\", \"ane\": \"yes\", \"class\": \"ckd\"}, {\"age\": 59.0, \"bp\": 70.0, \"sg\": 1.01, \"al\": 1.0, \"su\": 3.0, \"rbc\": \"abnormal\", \"pc\": \"abnormal\", \"pcc\": \"notpresent\", \"ba\": \"notpresent\", \"bgr\": 424.0, \"bu\": 55.0, \"sc\": 1.7, \"sod\": 138.0, \"pot\": 4.5, \"hemo\": 12.6, \"pcv\": 37.0, \"wbcc\": 10200.0, \"rbcc\": 4.1, \"htn\": \"yes\", \"dm\": \"yes\", \"cad\": \"yes\", \"appet\": \"good\", \"pe\": \"no\", \"ane\": \"no\", \"class\": \"ckd\"}, {\"age\": 56.0, \"bp\": 90.0, \"sg\": 1.01, \"al\": 4.0, \"su\": 1.0, \"rbc\": \"normal\", \"pc\": \"abnormal\", \"pcc\": \"present\", \"ba\": \"notpresent\", \"bgr\": 176.0, \"bu\": 309.0, \"sc\": 13.3, \"sod\": 124.0, \"pot\": 6.5, \"hemo\": 3.1, \"pcv\": 9.0, \"wbcc\": 5400.0, \"rbcc\": 2.1, \"htn\": \"yes\", \"dm\": \"yes\", \"cad\": \"no\", \"appet\": \"poor\", \"pe\": \"yes\", \"ane\": \"yes\", \"class\": \"ckd\"}, {\"age\": 40.0, \"bp\": 80.0, \"sg\": 1.025, \"al\": 0.0, \"su\": 0.0, \"rbc\": \"normal\", \"pc\": \"normal\", \"pcc\": \"notpresent\", \"ba\": \"notpresent\", \"bgr\": 140.0, \"bu\": 10.0, \"sc\": 1.2, \"sod\": 135.0, \"pot\": 5.0, \"hemo\": 15.0, \"pcv\": 48.0, \"wbcc\": 10400.0, \"rbcc\": 4.5, \"htn\": \"no\", \"dm\": \"no\", \"cad\": \"no\", \"appet\": \"good\", \"pe\": \"no\", \"ane\": \"no\", \"class\": \"notckd\"}, {\"age\": 23.0, \"bp\": 80.0, \"sg\": 1.025, \"al\": 0.0, \"su\": 0.0, \"rbc\": \"normal\", \"pc\": \"normal\", \"pcc\": \"notpresent\", \"ba\": \"notpresent\", \"bgr\": 70.0, \"bu\": 36.0, \"sc\": 1.0, \"sod\": 150.0, \"pot\": 4.6, \"hemo\": 17.0, \"pcv\": 52.0, \"wbcc\": 9800.0, \"rbcc\": 5.0, \"htn\": \"no\", \"dm\": \"no\", \"cad\": \"no\", \"appet\": \"good\", \"pe\": \"no\", \"ane\": \"no\", \"class\": \"notckd\"}, {\"age\": 45.0, \"bp\": 80.0, \"sg\": 1.025, \"al\": 0.0, \"su\": 0.0, \"rbc\": \"normal\", \"pc\": \"normal\", \"pcc\": \"notpresent\", \"ba\": \"notpresent\", \"bgr\": 82.0, \"bu\": 49.0, \"sc\": 0.6, \"sod\": 147.0, \"pot\": 4.4, \"hemo\": 15.9, \"pcv\": 46.0, \"wbcc\": 9100.0, \"rbcc\": 4.7, \"htn\": \"no\", \"dm\": \"no\", \"cad\": \"no\", \"appet\": \"good\", \"pe\": \"no\", \"ane\": \"no\", \"class\": \"notckd\"}, {\"age\": 57.0, \"bp\": 80.0, \"sg\": 1.025, \"al\": 0.0, \"su\": 0.0, \"rbc\": \"normal\", \"pc\": \"normal\", \"pcc\": \"notpresent\", \"ba\": \"notpresent\", \"bgr\": 119.0, \"bu\": 17.0, \"sc\": 1.2, \"sod\": 135.0, \"pot\": 4.7, \"hemo\": 15.4, \"pcv\": 42.0, \"wbcc\": 6200.0, \"rbcc\": 6.2, \"htn\": \"no\", \"dm\": \"no\", \"cad\": \"no\", \"appet\": \"good\", \"pe\": \"no\", \"ane\": \"no\", \"class\": \"notckd\"}, {\"age\": 51.0, \"bp\": 60.0, \"sg\": 1.025, \"al\": 0.0, \"su\": 0.0, \"rbc\": \"normal\", \"pc\": \"normal\", \"pcc\": \"notpresent\", \"ba\": \"notpresent\", \"bgr\": 99.0, \"bu\": 38.0, \"sc\": 0.8, \"sod\": 135.0, \"pot\": 3.7, \"hemo\": 13.0, \"pcv\": 49.0, \"wbcc\": 8300.0, \"rbcc\": 5.2, \"htn\": \"no\", \"dm\": \"no\", \"cad\": \"no\", \"appet\": \"good\", \"pe\": \"no\", \"ane\": \"no\", \"class\": \"notckd\"}, {\"age\": 34.0, \"bp\": 80.0, \"sg\": 1.025, \"al\": 0.0, \"su\": 0.0, \"rbc\": \"normal\", \"pc\": \"normal\", \"pcc\": \"notpresent\", \"ba\": \"notpresent\", \"bgr\": 121.0, \"bu\": 27.0, \"sc\": 1.2, \"sod\": 144.0, \"pot\": 3.9, \"hemo\": 13.6, \"pcv\": 52.0, \"wbcc\": 9200.0, \"rbcc\": 6.3, \"htn\": \"no\", \"dm\": \"no\", \"cad\": \"no\", \"appet\": \"good\", \"pe\": \"no\", \"ane\": \"no\", \"class\": \"notckd\"}, {\"age\": 60.0, \"bp\": 80.0, \"sg\": 1.025, \"al\": 0.0, \"su\": 0.0, \"rbc\": \"normal\", \"pc\": \"normal\", \"pcc\": \"notpresent\", \"ba\": \"notpresent\", \"bgr\": 131.0, \"bu\": 10.0, \"sc\": 0.5, \"sod\": 146.0, \"pot\": 5.0, \"hemo\": 14.5, \"pcv\": 41.0, \"wbcc\": 10700.0, \"rbcc\": 5.1, \"htn\": \"no\", \"dm\": \"no\", \"cad\": \"no\", \"appet\": \"good\", \"pe\": \"no\", \"ane\": \"no\", \"class\": \"notckd\"}, {\"age\": 38.0, \"bp\": 60.0, \"sg\": 1.02, \"al\": 0.0, \"su\": 0.0, \"rbc\": \"normal\", \"pc\": \"normal\", \"pcc\": \"notpresent\", \"ba\": \"notpresent\", \"bgr\": 91.0, \"bu\": 36.0, \"sc\": 0.7, \"sod\": 135.0, \"pot\": 3.7, \"hemo\": 14.0, \"pcv\": 46.0, \"wbcc\": 9100.0, \"rbcc\": 5.8, \"htn\": \"no\", \"dm\": \"no\", \"cad\": \"no\", \"appet\": \"good\", \"pe\": \"no\", \"ane\": \"no\", \"class\": \"notckd\"}, {\"age\": 42.0, \"bp\": 80.0, \"sg\": 1.02, \"al\": 0.0, \"su\": 0.0, \"rbc\": \"normal\", \"pc\": \"normal\", \"pcc\": \"notpresent\", \"ba\": \"notpresent\", \"bgr\": 98.0, \"bu\": 20.0, \"sc\": 0.5, \"sod\": 140.0, \"pot\": 3.5, \"hemo\": 13.9, \"pcv\": 44.0, \"wbcc\": 8400.0, \"rbcc\": 5.5, \"htn\": \"no\", \"dm\": \"no\", \"cad\": \"no\", \"appet\": \"good\", \"pe\": \"no\", \"ane\": \"no\", \"class\": \"notckd\"}, {\"age\": 35.0, \"bp\": 80.0, \"sg\": 1.02, \"al\": 0.0, \"su\": 0.0, \"rbc\": \"normal\", \"pc\": \"normal\", \"pcc\": \"notpresent\", \"ba\": \"notpresent\", \"bgr\": 104.0, \"bu\": 31.0, \"sc\": 1.2, \"sod\": 135.0, \"pot\": 5.0, \"hemo\": 16.1, \"pcv\": 45.0, \"wbcc\": 4300.0, \"rbcc\": 5.2, \"htn\": \"no\", \"dm\": \"no\", \"cad\": \"no\", \"appet\": \"good\", \"pe\": \"no\", \"ane\": \"no\", \"class\": \"notckd\"}, {\"age\": 30.0, \"bp\": 80.0, \"sg\": 1.02, \"al\": 0.0, \"su\": 0.0, \"rbc\": \"normal\", \"pc\": \"normal\", \"pcc\": \"notpresent\", \"ba\": \"notpresent\", \"bgr\": 131.0, \"bu\": 38.0, \"sc\": 1.0, \"sod\": 147.0, \"pot\": 3.8, \"hemo\": 14.1, \"pcv\": 45.0, \"wbcc\": 9400.0, \"rbcc\": 5.3, \"htn\": \"no\", \"dm\": \"no\", \"cad\": \"no\", \"appet\": \"good\", \"pe\": \"no\", \"ane\": \"no\", \"class\": \"notckd\"}, {\"age\": 49.0, \"bp\": 80.0, \"sg\": 1.02, \"al\": 0.0, \"su\": 0.0, \"rbc\": \"normal\", \"pc\": \"normal\", \"pcc\": \"notpresent\", \"ba\": \"notpresent\", \"bgr\": 122.0, \"bu\": 32.0, \"sc\": 1.2, \"sod\": 139.0, \"pot\": 3.9, \"hemo\": 17.0, \"pcv\": 41.0, \"wbcc\": 5600.0, \"rbcc\": 4.9, \"htn\": \"no\", \"dm\": \"no\", \"cad\": \"no\", \"appet\": \"good\", \"pe\": \"no\", \"ane\": \"no\", \"class\": \"notckd\"}, {\"age\": 55.0, \"bp\": 80.0, \"sg\": 1.02, \"al\": 0.0, \"su\": 0.0, \"rbc\": \"normal\", \"pc\": \"normal\", \"pcc\": \"notpresent\", \"ba\": \"notpresent\", \"bgr\": 118.0, \"bu\": 18.0, \"sc\": 0.9, \"sod\": 135.0, \"pot\": 3.6, \"hemo\": 15.5, \"pcv\": 43.0, \"wbcc\": 7200.0, \"rbcc\": 5.4, \"htn\": \"no\", \"dm\": \"no\", \"cad\": \"no\", \"appet\": \"good\", \"pe\": \"no\", \"ane\": \"no\", \"class\": \"notckd\"}, {\"age\": 45.0, \"bp\": 80.0, \"sg\": 1.02, \"al\": 0.0, \"su\": 0.0, \"rbc\": \"normal\", \"pc\": \"normal\", \"pcc\": \"notpresent\", \"ba\": \"notpresent\", \"bgr\": 117.0, \"bu\": 46.0, \"sc\": 1.2, \"sod\": 137.0, \"pot\": 5.0, \"hemo\": 16.2, \"pcv\": 45.0, \"wbcc\": 8600.0, \"rbcc\": 5.2, \"htn\": \"no\", \"dm\": \"no\", \"cad\": \"no\", \"appet\": \"good\", \"pe\": \"no\", \"ane\": \"no\", \"class\": \"notckd\"}, {\"age\": 42.0, \"bp\": 80.0, \"sg\": 1.02, \"al\": 0.0, \"su\": 0.0, \"rbc\": \"normal\", \"pc\": \"normal\", \"pcc\": \"notpresent\", \"ba\": \"notpresent\", \"bgr\": 132.0, \"bu\": 24.0, \"sc\": 0.7, \"sod\": 140.0, \"pot\": 4.1, \"hemo\": 14.4, \"pcv\": 50.0, \"wbcc\": 5000.0, \"rbcc\": 4.5, \"htn\": \"no\", \"dm\": \"no\", \"cad\": \"no\", \"appet\": \"good\", \"pe\": \"no\", \"ane\": \"no\", \"class\": \"notckd\"}, {\"age\": 50.0, \"bp\": 80.0, \"sg\": 1.02, \"al\": 0.0, \"su\": 0.0, \"rbc\": \"normal\", \"pc\": \"normal\", \"pcc\": \"notpresent\", \"ba\": \"notpresent\", \"bgr\": 97.0, \"bu\": 40.0, \"sc\": 0.6, \"sod\": 150.0, \"pot\": 4.5, \"hemo\": 14.2, \"pcv\": 48.0, \"wbcc\": 10500.0, \"rbcc\": 5.0, \"htn\": \"no\", \"dm\": \"no\", \"cad\": \"no\", \"appet\": \"good\", \"pe\": \"no\", \"ane\": \"no\", \"class\": \"notckd\"}, {\"age\": 55.0, \"bp\": 80.0, \"sg\": 1.02, \"al\": 0.0, \"su\": 0.0, \"rbc\": \"normal\", \"pc\": \"normal\", \"pcc\": \"notpresent\", \"ba\": \"notpresent\", \"bgr\": 133.0, \"bu\": 17.0, \"sc\": 1.2, \"sod\": 135.0, \"pot\": 4.8, \"hemo\": 13.2, \"pcv\": 41.0, \"wbcc\": 6800.0, \"rbcc\": 5.3, \"htn\": \"no\", \"dm\": \"no\", \"cad\": \"no\", \"appet\": \"good\", \"pe\": \"no\", \"ane\": \"no\", \"class\": \"notckd\"}, {\"age\": 48.0, \"bp\": 80.0, \"sg\": 1.025, \"al\": 0.0, \"su\": 0.0, \"rbc\": \"normal\", \"pc\": \"normal\", \"pcc\": \"notpresent\", \"ba\": \"notpresent\", \"bgr\": 122.0, \"bu\": 33.0, \"sc\": 0.9, \"sod\": 146.0, \"pot\": 3.9, \"hemo\": 13.9, \"pcv\": 48.0, \"wbcc\": 9500.0, \"rbcc\": 4.8, \"htn\": \"no\", \"dm\": \"no\", \"cad\": \"no\", \"appet\": \"good\", \"pe\": \"no\", \"ane\": \"no\", \"class\": \"notckd\"}, {\"age\": 25.0, \"bp\": 80.0, \"sg\": 1.025, \"al\": 0.0, \"su\": 0.0, \"rbc\": \"normal\", \"pc\": \"normal\", \"pcc\": \"notpresent\", \"ba\": \"notpresent\", \"bgr\": 121.0, \"bu\": 19.0, \"sc\": 1.2, \"sod\": 142.0, \"pot\": 4.9, \"hemo\": 15.0, \"pcv\": 48.0, \"wbcc\": 6900.0, \"rbcc\": 5.3, \"htn\": \"no\", \"dm\": \"no\", \"cad\": \"no\", \"appet\": \"good\", \"pe\": \"no\", \"ane\": \"no\", \"class\": \"notckd\"}, {\"age\": 23.0, \"bp\": 80.0, \"sg\": 1.025, \"al\": 0.0, \"su\": 0.0, \"rbc\": \"normal\", \"pc\": \"normal\", \"pcc\": \"notpresent\", \"ba\": \"notpresent\", \"bgr\": 111.0, \"bu\": 34.0, \"sc\": 1.1, \"sod\": 145.0, \"pot\": 4.0, \"hemo\": 14.3, \"pcv\": 41.0, \"wbcc\": 7200.0, \"rbcc\": 5.0, \"htn\": \"no\", \"dm\": \"no\", \"cad\": \"no\", \"appet\": \"good\", \"pe\": \"no\", \"ane\": \"no\", \"class\": \"notckd\"}, {\"age\": 30.0, \"bp\": 80.0, \"sg\": 1.025, \"al\": 0.0, \"su\": 0.0, \"rbc\": \"normal\", \"pc\": \"normal\", \"pcc\": \"notpresent\", \"ba\": \"notpresent\", \"bgr\": 96.0, \"bu\": 25.0, \"sc\": 0.5, \"sod\": 144.0, \"pot\": 4.8, \"hemo\": 13.8, \"pcv\": 42.0, \"wbcc\": 9000.0, \"rbcc\": 4.5, \"htn\": \"no\", \"dm\": \"no\", \"cad\": \"no\", \"appet\": \"good\", \"pe\": \"no\", \"ane\": \"no\", \"class\": \"notckd\"}, {\"age\": 56.0, \"bp\": 80.0, \"sg\": 1.025, \"al\": 0.0, \"su\": 0.0, \"rbc\": \"normal\", \"pc\": \"normal\", \"pcc\": \"notpresent\", \"ba\": \"notpresent\", \"bgr\": 139.0, \"bu\": 15.0, \"sc\": 1.2, \"sod\": 135.0, \"pot\": 5.0, \"hemo\": 14.8, \"pcv\": 42.0, \"wbcc\": 5600.0, \"rbcc\": 5.5, \"htn\": \"no\", \"dm\": \"no\", \"cad\": \"no\", \"appet\": \"good\", \"pe\": \"no\", \"ane\": \"no\", \"class\": \"notckd\"}, {\"age\": 47.0, \"bp\": 80.0, \"sg\": 1.02, \"al\": 0.0, \"su\": 0.0, \"rbc\": \"normal\", \"pc\": \"normal\", \"pcc\": \"notpresent\", \"ba\": \"notpresent\", \"bgr\": 95.0, \"bu\": 35.0, \"sc\": 0.9, \"sod\": 140.0, \"pot\": 4.1, \"hemo\": 13.85, \"pcv\": 42.0, \"wbcc\": 7900.0, \"rbcc\": 4.9, \"htn\": \"no\", \"dm\": \"no\", \"cad\": \"no\", \"appet\": \"good\", \"pe\": \"no\", \"ane\": \"no\", \"class\": \"notckd\"}, {\"age\": 19.0, \"bp\": 80.0, \"sg\": 1.02, \"al\": 0.0, \"su\": 0.0, \"rbc\": \"normal\", \"pc\": \"normal\", \"pcc\": \"notpresent\", \"ba\": \"notpresent\", \"bgr\": 107.0, \"bu\": 23.0, \"sc\": 0.7, \"sod\": 141.0, \"pot\": 4.2, \"hemo\": 14.4, \"pcv\": 44.0, \"wbcc\": 7900.0, \"rbcc\": 4.9, \"htn\": \"no\", \"dm\": \"no\", \"cad\": \"no\", \"appet\": \"good\", \"pe\": \"no\", \"ane\": \"no\", \"class\": \"notckd\"}, {\"age\": 52.0, \"bp\": 80.0, \"sg\": 1.02, \"al\": 0.0, \"su\": 0.0, \"rbc\": \"normal\", \"pc\": \"normal\", \"pcc\": \"notpresent\", \"ba\": \"notpresent\", \"bgr\": 125.0, \"bu\": 22.0, \"sc\": 1.2, \"sod\": 139.0, \"pot\": 4.6, \"hemo\": 16.5, \"pcv\": 43.0, \"wbcc\": 4700.0, \"rbcc\": 4.6, \"htn\": \"no\", \"dm\": \"no\", \"cad\": \"no\", \"appet\": \"good\", \"pe\": \"no\", \"ane\": \"no\", \"class\": \"notckd\"}, {\"age\": 20.0, \"bp\": 60.0, \"sg\": 1.025, \"al\": 0.0, \"su\": 0.0, \"rbc\": \"normal\", \"pc\": \"normal\", \"pcc\": \"notpresent\", \"ba\": \"notpresent\", \"bgr\": 119.0, \"bu\": 40.0, \"sc\": 1.15, \"sod\": 137.0, \"pot\": 4.7, \"hemo\": 14.0, \"pcv\": 41.0, \"wbcc\": 4500.0, \"rbcc\": 5.5, \"htn\": \"no\", \"dm\": \"no\", \"cad\": \"no\", \"appet\": \"good\", \"pe\": \"no\", \"ane\": \"no\", \"class\": \"notckd\"}, {\"age\": 46.0, \"bp\": 60.0, \"sg\": 1.025, \"al\": 0.0, \"su\": 0.0, \"rbc\": \"normal\", \"pc\": \"normal\", \"pcc\": \"notpresent\", \"ba\": \"notpresent\", \"bgr\": 123.0, \"bu\": 46.0, \"sc\": 1.0, \"sod\": 135.0, \"pot\": 5.0, \"hemo\": 15.7, \"pcv\": 50.0, \"wbcc\": 6300.0, \"rbcc\": 4.8, \"htn\": \"no\", \"dm\": \"no\", \"cad\": \"no\", \"appet\": \"good\", \"pe\": \"no\", \"ane\": \"no\", \"class\": \"notckd\"}, {\"age\": 48.0, \"bp\": 60.0, \"sg\": 1.02, \"al\": 0.0, \"su\": 0.0, \"rbc\": \"normal\", \"pc\": \"normal\", \"pcc\": \"notpresent\", \"ba\": \"notpresent\", \"bgr\": 112.0, \"bu\": 44.0, \"sc\": 1.2, \"sod\": 142.0, \"pot\": 4.9, \"hemo\": 14.5, \"pcv\": 44.0, \"wbcc\": 9400.0, \"rbcc\": 6.4, \"htn\": \"no\", \"dm\": \"no\", \"cad\": \"no\", \"appet\": \"good\", \"pe\": \"no\", \"ane\": \"no\", \"class\": \"notckd\"}, {\"age\": 24.0, \"bp\": 70.0, \"sg\": 1.025, \"al\": 0.0, \"su\": 0.0, \"rbc\": \"normal\", \"pc\": \"normal\", \"pcc\": \"notpresent\", \"ba\": \"notpresent\", \"bgr\": 140.0, \"bu\": 23.0, \"sc\": 0.6, \"sod\": 140.0, \"pot\": 4.7, \"hemo\": 16.3, \"pcv\": 48.0, \"wbcc\": 5800.0, \"rbcc\": 5.6, \"htn\": \"no\", \"dm\": \"no\", \"cad\": \"no\", \"appet\": \"good\", \"pe\": \"no\", \"ane\": \"no\", \"class\": \"notckd\"}, {\"age\": 55.0, \"bp\": 80.0, \"sg\": 1.025, \"al\": 0.0, \"su\": 0.0, \"rbc\": \"normal\", \"pc\": \"normal\", \"pcc\": \"notpresent\", \"ba\": \"notpresent\", \"bgr\": 130.0, \"bu\": 50.0, \"sc\": 1.2, \"sod\": 147.0, \"pot\": 5.0, \"hemo\": 15.5, \"pcv\": 41.0, \"wbcc\": 9100.0, \"rbcc\": 6.0, \"htn\": \"no\", \"dm\": \"no\", \"cad\": \"no\", \"appet\": \"good\", \"pe\": \"no\", \"ane\": \"no\", \"class\": \"notckd\"}, {\"age\": 20.0, \"bp\": 70.0, \"sg\": 1.02, \"al\": 0.0, \"su\": 0.0, \"rbc\": \"normal\", \"pc\": \"normal\", \"pcc\": \"notpresent\", \"ba\": \"notpresent\", \"bgr\": 123.0, \"bu\": 44.0, \"sc\": 1.0, \"sod\": 135.0, \"pot\": 3.8, \"hemo\": 14.6, \"pcv\": 44.0, \"wbcc\": 5500.0, \"rbcc\": 4.8, \"htn\": \"no\", \"dm\": \"no\", \"cad\": \"no\", \"appet\": \"good\", \"pe\": \"no\", \"ane\": \"no\", \"class\": \"notckd\"}, {\"age\": 60.0, \"bp\": 70.0, \"sg\": 1.02, \"al\": 0.0, \"su\": 0.0, \"rbc\": \"normal\", \"pc\": \"normal\", \"pcc\": \"notpresent\", \"ba\": \"notpresent\", \"bgr\": 119.0, \"bu\": 40.0, \"sc\": 1.15, \"sod\": 139.0, \"pot\": 4.5, \"hemo\": 16.4, \"pcv\": 43.0, \"wbcc\": 10800.0, \"rbcc\": 5.7, \"htn\": \"no\", \"dm\": \"no\", \"cad\": \"no\", \"appet\": \"good\", \"pe\": \"no\", \"ane\": \"no\", \"class\": \"notckd\"}, {\"age\": 33.0, \"bp\": 80.0, \"sg\": 1.025, \"al\": 0.0, \"su\": 0.0, \"rbc\": \"normal\", \"pc\": \"normal\", \"pcc\": \"notpresent\", \"ba\": \"notpresent\", \"bgr\": 100.0, \"bu\": 37.0, \"sc\": 1.2, \"sod\": 142.0, \"pot\": 4.0, \"hemo\": 16.9, \"pcv\": 52.0, \"wbcc\": 6700.0, \"rbcc\": 6.0, \"htn\": \"no\", \"dm\": \"no\", \"cad\": \"no\", \"appet\": \"good\", \"pe\": \"no\", \"ane\": \"no\", \"class\": \"notckd\"}, {\"age\": 66.0, \"bp\": 70.0, \"sg\": 1.02, \"al\": 0.0, \"su\": 0.0, \"rbc\": \"normal\", \"pc\": \"normal\", \"pcc\": \"notpresent\", \"ba\": \"notpresent\", \"bgr\": 94.0, \"bu\": 19.0, \"sc\": 0.7, \"sod\": 135.0, \"pot\": 3.9, \"hemo\": 16.0, \"pcv\": 41.0, \"wbcc\": 5300.0, \"rbcc\": 5.9, \"htn\": \"no\", \"dm\": \"no\", \"cad\": \"no\", \"appet\": \"good\", \"pe\": \"no\", \"ane\": \"no\", \"class\": \"notckd\"}, {\"age\": 71.0, \"bp\": 70.0, \"sg\": 1.02, \"al\": 0.0, \"su\": 0.0, \"rbc\": \"normal\", \"pc\": \"normal\", \"pcc\": \"notpresent\", \"ba\": \"notpresent\", \"bgr\": 81.0, \"bu\": 18.0, \"sc\": 0.8, \"sod\": 145.0, \"pot\": 5.0, \"hemo\": 14.7, \"pcv\": 44.0, \"wbcc\": 9800.0, \"rbcc\": 6.0, \"htn\": \"no\", \"dm\": \"no\", \"cad\": \"no\", \"appet\": \"good\", \"pe\": \"no\", \"ane\": \"no\", \"class\": \"notckd\"}, {\"age\": 39.0, \"bp\": 70.0, \"sg\": 1.025, \"al\": 0.0, \"su\": 0.0, \"rbc\": \"normal\", \"pc\": \"normal\", \"pcc\": \"notpresent\", \"ba\": \"notpresent\", \"bgr\": 124.0, \"bu\": 22.0, \"sc\": 0.6, \"sod\": 137.0, \"pot\": 3.8, \"hemo\": 13.4, \"pcv\": 43.0, \"wbcc\": 7900.0, \"rbcc\": 4.9, \"htn\": \"no\", \"dm\": \"no\", \"cad\": \"no\", \"appet\": \"good\", \"pe\": \"no\", \"ane\": \"no\", \"class\": \"notckd\"}, {\"age\": 56.0, \"bp\": 70.0, \"sg\": 1.025, \"al\": 0.0, \"su\": 0.0, \"rbc\": \"normal\", \"pc\": \"normal\", \"pcc\": \"notpresent\", \"ba\": \"notpresent\", \"bgr\": 70.0, \"bu\": 46.0, \"sc\": 1.2, \"sod\": 135.0, \"pot\": 4.9, \"hemo\": 15.9, \"pcv\": 50.0, \"wbcc\": 11000.0, \"rbcc\": 5.1, \"htn\": \"no\", \"dm\": \"no\", \"cad\": \"no\", \"appet\": \"good\", \"pe\": \"no\", \"ane\": \"no\", \"class\": \"notckd\"}, {\"age\": 42.0, \"bp\": 70.0, \"sg\": 1.02, \"al\": 0.0, \"su\": 0.0, \"rbc\": \"normal\", \"pc\": \"normal\", \"pcc\": \"notpresent\", \"ba\": \"notpresent\", \"bgr\": 93.0, \"bu\": 32.0, \"sc\": 0.9, \"sod\": 143.0, \"pot\": 4.7, \"hemo\": 16.6, \"pcv\": 43.0, \"wbcc\": 7100.0, \"rbcc\": 5.3, \"htn\": \"no\", \"dm\": \"no\", \"cad\": \"no\", \"appet\": \"good\", \"pe\": \"no\", \"ane\": \"no\", \"class\": \"notckd\"}, {\"age\": 47.0, \"bp\": 80.0, \"sg\": 1.025, \"al\": 0.0, \"su\": 0.0, \"rbc\": \"normal\", \"pc\": \"normal\", \"pcc\": \"notpresent\", \"ba\": \"notpresent\", \"bgr\": 124.0, \"bu\": 44.0, \"sc\": 1.0, \"sod\": 140.0, \"pot\": 4.9, \"hemo\": 14.9, \"pcv\": 41.0, \"wbcc\": 7000.0, \"rbcc\": 5.7, \"htn\": \"no\", \"dm\": \"no\", \"cad\": \"no\", \"appet\": \"good\", \"pe\": \"no\", \"ane\": \"no\", \"class\": \"notckd\"}, {\"age\": 30.0, \"bp\": 80.0, \"sg\": 1.02, \"al\": 0.0, \"su\": 0.0, \"rbc\": \"normal\", \"pc\": \"normal\", \"pcc\": \"notpresent\", \"ba\": \"notpresent\", \"bgr\": 89.0, \"bu\": 42.0, \"sc\": 0.5, \"sod\": 139.0, \"pot\": 5.0, \"hemo\": 16.7, \"pcv\": 52.0, \"wbcc\": 10200.0, \"rbcc\": 5.0, \"htn\": \"no\", \"dm\": \"no\", \"cad\": \"no\", \"appet\": \"good\", \"pe\": \"no\", \"ane\": \"no\", \"class\": \"notckd\"}, {\"age\": 50.0, \"bp\": 80.0, \"sg\": 1.02, \"al\": 0.0, \"su\": 0.0, \"rbc\": \"normal\", \"pc\": \"normal\", \"pcc\": \"notpresent\", \"ba\": \"notpresent\", \"bgr\": 92.0, \"bu\": 19.0, \"sc\": 1.2, \"sod\": 150.0, \"pot\": 4.8, \"hemo\": 14.9, \"pcv\": 48.0, \"wbcc\": 4700.0, \"rbcc\": 5.4, \"htn\": \"no\", \"dm\": \"no\", \"cad\": \"no\", \"appet\": \"good\", \"pe\": \"no\", \"ane\": \"no\", \"class\": \"notckd\"}, {\"age\": 75.0, \"bp\": 60.0, \"sg\": 1.02, \"al\": 0.0, \"su\": 0.0, \"rbc\": \"normal\", \"pc\": \"normal\", \"pcc\": \"notpresent\", \"ba\": \"notpresent\", \"bgr\": 110.0, \"bu\": 50.0, \"sc\": 0.7, \"sod\": 135.0, \"pot\": 5.0, \"hemo\": 14.3, \"pcv\": 40.0, \"wbcc\": 8300.0, \"rbcc\": 5.8, \"htn\": \"no\", \"dm\": \"no\", \"cad\": \"no\", \"appet\": \"good\", \"pe\": \"no\", \"ane\": \"no\", \"class\": \"notckd\"}, {\"age\": 41.0, \"bp\": 70.0, \"sg\": 1.02, \"al\": 0.0, \"su\": 0.0, \"rbc\": \"normal\", \"pc\": \"normal\", \"pcc\": \"notpresent\", \"ba\": \"notpresent\", \"bgr\": 125.0, \"bu\": 38.0, \"sc\": 0.6, \"sod\": 140.0, \"pot\": 5.0, \"hemo\": 16.8, \"pcv\": 41.0, \"wbcc\": 6300.0, \"rbcc\": 5.9, \"htn\": \"no\", \"dm\": \"no\", \"cad\": \"no\", \"appet\": \"good\", \"pe\": \"no\", \"ane\": \"no\", \"class\": \"notckd\"}, {\"age\": 53.0, \"bp\": 60.0, \"sg\": 1.025, \"al\": 0.0, \"su\": 0.0, \"rbc\": \"normal\", \"pc\": \"normal\", \"pcc\": \"notpresent\", \"ba\": \"notpresent\", \"bgr\": 116.0, \"bu\": 26.0, \"sc\": 1.0, \"sod\": 146.0, \"pot\": 4.9, \"hemo\": 15.8, \"pcv\": 45.0, \"wbcc\": 7700.0, \"rbcc\": 5.2, \"htn\": \"no\", \"dm\": \"no\", \"cad\": \"no\", \"appet\": \"good\", \"pe\": \"no\", \"ane\": \"no\", \"class\": \"notckd\"}, {\"age\": 34.0, \"bp\": 60.0, \"sg\": 1.02, \"al\": 0.0, \"su\": 0.0, \"rbc\": \"normal\", \"pc\": \"normal\", \"pcc\": \"notpresent\", \"ba\": \"notpresent\", \"bgr\": 91.0, \"bu\": 49.0, \"sc\": 1.2, \"sod\": 135.0, \"pot\": 4.5, \"hemo\": 13.5, \"pcv\": 48.0, \"wbcc\": 8600.0, \"rbcc\": 4.9, \"htn\": \"no\", \"dm\": \"no\", \"cad\": \"no\", \"appet\": \"good\", \"pe\": \"no\", \"ane\": \"no\", \"class\": \"notckd\"}, {\"age\": 73.0, \"bp\": 60.0, \"sg\": 1.02, \"al\": 0.0, \"su\": 0.0, \"rbc\": \"normal\", \"pc\": \"normal\", \"pcc\": \"notpresent\", \"ba\": \"notpresent\", \"bgr\": 127.0, \"bu\": 48.0, \"sc\": 0.5, \"sod\": 150.0, \"pot\": 3.5, \"hemo\": 15.1, \"pcv\": 52.0, \"wbcc\": 11000.0, \"rbcc\": 4.7, \"htn\": \"no\", \"dm\": \"no\", \"cad\": \"no\", \"appet\": \"good\", \"pe\": \"no\", \"ane\": \"no\", \"class\": \"notckd\"}, {\"age\": 45.0, \"bp\": 60.0, \"sg\": 1.02, \"al\": 0.0, \"su\": 0.0, \"rbc\": \"normal\", \"pc\": \"normal\", \"pcc\": \"notpresent\", \"ba\": \"notpresent\", \"bgr\": 114.0, \"bu\": 26.0, \"sc\": 0.7, \"sod\": 141.0, \"pot\": 4.2, \"hemo\": 15.0, \"pcv\": 43.0, \"wbcc\": 9200.0, \"rbcc\": 5.8, \"htn\": \"no\", \"dm\": \"no\", \"cad\": \"no\", \"appet\": \"good\", \"pe\": \"no\", \"ane\": \"no\", \"class\": \"notckd\"}, {\"age\": 44.0, \"bp\": 60.0, \"sg\": 1.025, \"al\": 0.0, \"su\": 0.0, \"rbc\": \"normal\", \"pc\": \"normal\", \"pcc\": \"notpresent\", \"ba\": \"notpresent\", \"bgr\": 96.0, \"bu\": 33.0, \"sc\": 0.9, \"sod\": 147.0, \"pot\": 4.5, \"hemo\": 16.9, \"pcv\": 41.0, \"wbcc\": 7200.0, \"rbcc\": 5.0, \"htn\": \"no\", \"dm\": \"no\", \"cad\": \"no\", \"appet\": \"good\", \"pe\": \"no\", \"ane\": \"no\", \"class\": \"notckd\"}, {\"age\": 29.0, \"bp\": 70.0, \"sg\": 1.02, \"al\": 0.0, \"su\": 0.0, \"rbc\": \"normal\", \"pc\": \"normal\", \"pcc\": \"notpresent\", \"ba\": \"notpresent\", \"bgr\": 127.0, \"bu\": 44.0, \"sc\": 1.2, \"sod\": 145.0, \"pot\": 5.0, \"hemo\": 14.8, \"pcv\": 48.0, \"wbcc\": 7900.0, \"rbcc\": 4.9, \"htn\": \"no\", \"dm\": \"no\", \"cad\": \"no\", \"appet\": \"good\", \"pe\": \"no\", \"ane\": \"no\", \"class\": \"notckd\"}, {\"age\": 55.0, \"bp\": 70.0, \"sg\": 1.02, \"al\": 0.0, \"su\": 0.0, \"rbc\": \"normal\", \"pc\": \"normal\", \"pcc\": \"notpresent\", \"ba\": \"notpresent\", \"bgr\": 107.0, \"bu\": 26.0, \"sc\": 1.1, \"sod\": 139.0, \"pot\": 4.5, \"hemo\": 17.0, \"pcv\": 50.0, \"wbcc\": 6700.0, \"rbcc\": 6.1, \"htn\": \"no\", \"dm\": \"no\", \"cad\": \"no\", \"appet\": \"good\", \"pe\": \"no\", \"ane\": \"no\", \"class\": \"notckd\"}, {\"age\": 33.0, \"bp\": 80.0, \"sg\": 1.025, \"al\": 0.0, \"su\": 0.0, \"rbc\": \"normal\", \"pc\": \"normal\", \"pcc\": \"notpresent\", \"ba\": \"notpresent\", \"bgr\": 128.0, \"bu\": 38.0, \"sc\": 0.6, \"sod\": 135.0, \"pot\": 3.9, \"hemo\": 13.1, \"pcv\": 45.0, \"wbcc\": 6200.0, \"rbcc\": 4.5, \"htn\": \"no\", \"dm\": \"no\", \"cad\": \"no\", \"appet\": \"good\", \"pe\": \"no\", \"ane\": \"no\", \"class\": \"notckd\"}, {\"age\": 41.0, \"bp\": 80.0, \"sg\": 1.02, \"al\": 0.0, \"su\": 0.0, \"rbc\": \"normal\", \"pc\": \"normal\", \"pcc\": \"notpresent\", \"ba\": \"notpresent\", \"bgr\": 122.0, \"bu\": 25.0, \"sc\": 0.8, \"sod\": 138.0, \"pot\": 5.0, \"hemo\": 17.1, \"pcv\": 41.0, \"wbcc\": 9100.0, \"rbcc\": 5.2, \"htn\": \"no\", \"dm\": \"no\", \"cad\": \"no\", \"appet\": \"good\", \"pe\": \"no\", \"ane\": \"no\", \"class\": \"notckd\"}, {\"age\": 52.0, \"bp\": 80.0, \"sg\": 1.02, \"al\": 0.0, \"su\": 0.0, \"rbc\": \"normal\", \"pc\": \"normal\", \"pcc\": \"notpresent\", \"ba\": \"notpresent\", \"bgr\": 128.0, \"bu\": 30.0, \"sc\": 1.2, \"sod\": 140.0, \"pot\": 4.5, \"hemo\": 15.2, \"pcv\": 52.0, \"wbcc\": 4300.0, \"rbcc\": 5.7, \"htn\": \"no\", \"dm\": \"no\", \"cad\": \"no\", \"appet\": \"good\", \"pe\": \"no\", \"ane\": \"no\", \"class\": \"notckd\"}, {\"age\": 47.0, \"bp\": 60.0, \"sg\": 1.02, \"al\": 0.0, \"su\": 0.0, \"rbc\": \"normal\", \"pc\": \"normal\", \"pcc\": \"notpresent\", \"ba\": \"notpresent\", \"bgr\": 137.0, \"bu\": 17.0, \"sc\": 0.5, \"sod\": 150.0, \"pot\": 3.5, \"hemo\": 13.6, \"pcv\": 44.0, \"wbcc\": 7900.0, \"rbcc\": 4.5, \"htn\": \"no\", \"dm\": \"no\", \"cad\": \"no\", \"appet\": \"good\", \"pe\": \"no\", \"ane\": \"no\", \"class\": \"notckd\"}, {\"age\": 43.0, \"bp\": 80.0, \"sg\": 1.025, \"al\": 0.0, \"su\": 0.0, \"rbc\": \"normal\", \"pc\": \"normal\", \"pcc\": \"notpresent\", \"ba\": \"notpresent\", \"bgr\": 81.0, \"bu\": 46.0, \"sc\": 0.6, \"sod\": 135.0, \"pot\": 4.9, \"hemo\": 13.9, \"pcv\": 48.0, \"wbcc\": 6900.0, \"rbcc\": 4.9, \"htn\": \"no\", \"dm\": \"no\", \"cad\": \"no\", \"appet\": \"good\", \"pe\": \"no\", \"ane\": \"no\", \"class\": \"notckd\"}, {\"age\": 46.0, \"bp\": 60.0, \"sg\": 1.02, \"al\": 0.0, \"su\": 0.0, \"rbc\": \"normal\", \"pc\": \"normal\", \"pcc\": \"notpresent\", \"ba\": \"notpresent\", \"bgr\": 102.0, \"bu\": 27.0, \"sc\": 0.7, \"sod\": 142.0, \"pot\": 4.9, \"hemo\": 13.2, \"pcv\": 44.0, \"wbcc\": 11000.0, \"rbcc\": 5.4, \"htn\": \"no\", \"dm\": \"no\", \"cad\": \"no\", \"appet\": \"good\", \"pe\": \"no\", \"ane\": \"no\", \"class\": \"notckd\"}, {\"age\": 56.0, \"bp\": 60.0, \"sg\": 1.025, \"al\": 0.0, \"su\": 0.0, \"rbc\": \"normal\", \"pc\": \"normal\", \"pcc\": \"notpresent\", \"ba\": \"notpresent\", \"bgr\": 132.0, \"bu\": 18.0, \"sc\": 1.1, \"sod\": 147.0, \"pot\": 4.7, \"hemo\": 13.7, \"pcv\": 45.0, \"wbcc\": 7500.0, \"rbcc\": 5.6, \"htn\": \"no\", \"dm\": \"no\", \"cad\": \"no\", \"appet\": \"good\", \"pe\": \"no\", \"ane\": \"no\", \"class\": \"notckd\"}, {\"age\": 80.0, \"bp\": 70.0, \"sg\": 1.02, \"al\": 0.0, \"su\": 0.0, \"rbc\": \"normal\", \"pc\": \"normal\", \"pcc\": \"notpresent\", \"ba\": \"notpresent\", \"bgr\": 119.0, \"bu\": 40.0, \"sc\": 1.15, \"sod\": 135.0, \"pot\": 4.1, \"hemo\": 15.3, \"pcv\": 48.0, \"wbcc\": 6300.0, \"rbcc\": 6.1, \"htn\": \"no\", \"dm\": \"no\", \"cad\": \"no\", \"appet\": \"good\", \"pe\": \"no\", \"ane\": \"no\", \"class\": \"notckd\"}, {\"age\": 55.0, \"bp\": 80.0, \"sg\": 1.02, \"al\": 0.0, \"su\": 0.0, \"rbc\": \"normal\", \"pc\": \"normal\", \"pcc\": \"notpresent\", \"ba\": \"notpresent\", \"bgr\": 104.0, \"bu\": 28.0, \"sc\": 0.9, \"sod\": 142.0, \"pot\": 4.8, \"hemo\": 17.3, \"pcv\": 52.0, \"wbcc\": 8200.0, \"rbcc\": 4.8, \"htn\": \"no\", \"dm\": \"no\", \"cad\": \"no\", \"appet\": \"good\", \"pe\": \"no\", \"ane\": \"no\", \"class\": \"notckd\"}, {\"age\": 39.0, \"bp\": 70.0, \"sg\": 1.025, \"al\": 0.0, \"su\": 0.0, \"rbc\": \"normal\", \"pc\": \"normal\", \"pcc\": \"notpresent\", \"ba\": \"notpresent\", \"bgr\": 131.0, \"bu\": 46.0, \"sc\": 0.6, \"sod\": 145.0, \"pot\": 5.0, \"hemo\": 15.6, \"pcv\": 41.0, \"wbcc\": 9400.0, \"rbcc\": 4.7, \"htn\": \"no\", \"dm\": \"no\", \"cad\": \"no\", \"appet\": \"good\", \"pe\": \"no\", \"ane\": \"no\", \"class\": \"notckd\"}, {\"age\": 44.0, \"bp\": 70.0, \"sg\": 1.025, \"al\": 0.0, \"su\": 0.0, \"rbc\": \"normal\", \"pc\": \"normal\", \"pcc\": \"notpresent\", \"ba\": \"notpresent\", \"bgr\": 119.0, \"bu\": 40.0, \"sc\": 1.15, \"sod\": 139.0, \"pot\": 4.5, \"hemo\": 13.8, \"pcv\": 48.0, \"wbcc\": 7800.0, \"rbcc\": 4.4, \"htn\": \"no\", \"dm\": \"no\", \"cad\": \"no\", \"appet\": \"good\", \"pe\": \"no\", \"ane\": \"no\", \"class\": \"notckd\"}, {\"age\": 35.0, \"bp\": 80.0, \"sg\": 1.02, \"al\": 0.0, \"su\": 0.0, \"rbc\": \"normal\", \"pc\": \"normal\", \"pcc\": \"notpresent\", \"ba\": \"notpresent\", \"bgr\": 99.0, \"bu\": 30.0, \"sc\": 0.5, \"sod\": 135.0, \"pot\": 4.9, \"hemo\": 15.4, \"pcv\": 48.0, \"wbcc\": 5000.0, \"rbcc\": 5.2, \"htn\": \"no\", \"dm\": \"no\", \"cad\": \"no\", \"appet\": \"good\", \"pe\": \"no\", \"ane\": \"no\", \"class\": \"notckd\"}, {\"age\": 58.0, \"bp\": 70.0, \"sg\": 1.02, \"al\": 0.0, \"su\": 0.0, \"rbc\": \"normal\", \"pc\": \"normal\", \"pcc\": \"notpresent\", \"ba\": \"notpresent\", \"bgr\": 102.0, \"bu\": 48.0, \"sc\": 1.2, \"sod\": 139.0, \"pot\": 4.3, \"hemo\": 15.0, \"pcv\": 40.0, \"wbcc\": 8100.0, \"rbcc\": 4.9, \"htn\": \"no\", \"dm\": \"no\", \"cad\": \"no\", \"appet\": \"good\", \"pe\": \"no\", \"ane\": \"no\", \"class\": \"notckd\"}, {\"age\": 61.0, \"bp\": 70.0, \"sg\": 1.025, \"al\": 0.0, \"su\": 0.0, \"rbc\": \"normal\", \"pc\": \"normal\", \"pcc\": \"notpresent\", \"ba\": \"notpresent\", \"bgr\": 120.0, \"bu\": 29.0, \"sc\": 0.7, \"sod\": 137.0, \"pot\": 3.5, \"hemo\": 17.4, \"pcv\": 52.0, \"wbcc\": 7000.0, \"rbcc\": 5.3, \"htn\": \"no\", \"dm\": \"no\", \"cad\": \"no\", \"appet\": \"good\", \"pe\": \"no\", \"ane\": \"no\", \"class\": \"notckd\"}, {\"age\": 30.0, \"bp\": 60.0, \"sg\": 1.02, \"al\": 0.0, \"su\": 0.0, \"rbc\": \"normal\", \"pc\": \"normal\", \"pcc\": \"notpresent\", \"ba\": \"notpresent\", \"bgr\": 138.0, \"bu\": 15.0, \"sc\": 1.1, \"sod\": 135.0, \"pot\": 4.4, \"hemo\": 13.85, \"pcv\": 42.0, \"wbcc\": 7900.0, \"rbcc\": 4.9, \"htn\": \"no\", \"dm\": \"no\", \"cad\": \"no\", \"appet\": \"good\", \"pe\": \"no\", \"ane\": \"no\", \"class\": \"notckd\"}, {\"age\": 57.0, \"bp\": 60.0, \"sg\": 1.02, \"al\": 0.0, \"su\": 0.0, \"rbc\": \"normal\", \"pc\": \"normal\", \"pcc\": \"notpresent\", \"ba\": \"notpresent\", \"bgr\": 105.0, \"bu\": 49.0, \"sc\": 1.2, \"sod\": 150.0, \"pot\": 4.7, \"hemo\": 15.7, \"pcv\": 44.0, \"wbcc\": 10400.0, \"rbcc\": 6.2, \"htn\": \"no\", \"dm\": \"no\", \"cad\": \"no\", \"appet\": \"good\", \"pe\": \"no\", \"ane\": \"no\", \"class\": \"notckd\"}, {\"age\": 65.0, \"bp\": 60.0, \"sg\": 1.02, \"al\": 0.0, \"su\": 0.0, \"rbc\": \"normal\", \"pc\": \"normal\", \"pcc\": \"notpresent\", \"ba\": \"notpresent\", \"bgr\": 109.0, \"bu\": 39.0, \"sc\": 1.0, \"sod\": 144.0, \"pot\": 3.5, \"hemo\": 13.9, \"pcv\": 48.0, \"wbcc\": 9600.0, \"rbcc\": 4.8, \"htn\": \"no\", \"dm\": \"no\", \"cad\": \"no\", \"appet\": \"good\", \"pe\": \"no\", \"ane\": \"no\", \"class\": \"notckd\"}, {\"age\": 43.0, \"bp\": 80.0, \"sg\": 1.025, \"al\": 0.0, \"su\": 0.0, \"rbc\": \"normal\", \"pc\": \"normal\", \"pcc\": \"notpresent\", \"ba\": \"notpresent\", \"bgr\": 130.0, \"bu\": 30.0, \"sc\": 1.1, \"sod\": 143.0, \"pot\": 5.0, \"hemo\": 15.9, \"pcv\": 45.0, \"wbcc\": 7800.0, \"rbcc\": 4.5, \"htn\": \"no\", \"dm\": \"no\", \"cad\": \"no\", \"appet\": \"good\", \"pe\": \"no\", \"ane\": \"no\", \"class\": \"notckd\"}, {\"age\": 40.0, \"bp\": 80.0, \"sg\": 1.02, \"al\": 0.0, \"su\": 0.0, \"rbc\": \"normal\", \"pc\": \"normal\", \"pcc\": \"notpresent\", \"ba\": \"notpresent\", \"bgr\": 119.0, \"bu\": 15.0, \"sc\": 0.7, \"sod\": 150.0, \"pot\": 4.9, \"hemo\": 13.85, \"pcv\": 42.0, \"wbcc\": 7900.0, \"rbcc\": 4.9, \"htn\": \"no\", \"dm\": \"no\", \"cad\": \"no\", \"appet\": \"good\", \"pe\": \"no\", \"ane\": \"no\", \"class\": \"notckd\"}, {\"age\": 58.0, \"bp\": 80.0, \"sg\": 1.02, \"al\": 0.0, \"su\": 0.0, \"rbc\": \"normal\", \"pc\": \"normal\", \"pcc\": \"notpresent\", \"ba\": \"notpresent\", \"bgr\": 100.0, \"bu\": 50.0, \"sc\": 1.2, \"sod\": 140.0, \"pot\": 3.5, \"hemo\": 14.0, \"pcv\": 50.0, \"wbcc\": 6700.0, \"rbcc\": 6.5, \"htn\": \"no\", \"dm\": \"no\", \"cad\": \"no\", \"appet\": \"good\", \"pe\": \"no\", \"ane\": \"no\", \"class\": \"notckd\"}, {\"age\": 47.0, \"bp\": 60.0, \"sg\": 1.02, \"al\": 0.0, \"su\": 0.0, \"rbc\": \"normal\", \"pc\": \"normal\", \"pcc\": \"notpresent\", \"ba\": \"notpresent\", \"bgr\": 109.0, \"bu\": 25.0, \"sc\": 1.1, \"sod\": 141.0, \"pot\": 4.7, \"hemo\": 15.8, \"pcv\": 41.0, \"wbcc\": 8300.0, \"rbcc\": 5.2, \"htn\": \"no\", \"dm\": \"no\", \"cad\": \"no\", \"appet\": \"good\", \"pe\": \"no\", \"ane\": \"no\", \"class\": \"notckd\"}, {\"age\": 30.0, \"bp\": 60.0, \"sg\": 1.025, \"al\": 0.0, \"su\": 0.0, \"rbc\": \"normal\", \"pc\": \"normal\", \"pcc\": \"notpresent\", \"ba\": \"notpresent\", \"bgr\": 120.0, \"bu\": 31.0, \"sc\": 0.8, \"sod\": 150.0, \"pot\": 4.6, \"hemo\": 13.4, \"pcv\": 44.0, \"wbcc\": 10700.0, \"rbcc\": 5.8, \"htn\": \"no\", \"dm\": \"no\", \"cad\": \"no\", \"appet\": \"good\", \"pe\": \"no\", \"ane\": \"no\", \"class\": \"notckd\"}, {\"age\": 28.0, \"bp\": 70.0, \"sg\": 1.02, \"al\": 0.0, \"su\": 0.0, \"rbc\": \"normal\", \"pc\": \"normal\", \"pcc\": \"notpresent\", \"ba\": \"notpresent\", \"bgr\": 131.0, \"bu\": 29.0, \"sc\": 0.6, \"sod\": 145.0, \"pot\": 4.9, \"hemo\": 13.85, \"pcv\": 45.0, \"wbcc\": 8600.0, \"rbcc\": 6.5, \"htn\": \"no\", \"dm\": \"no\", \"cad\": \"no\", \"appet\": \"good\", \"pe\": \"no\", \"ane\": \"no\", \"class\": \"notckd\"}, {\"age\": 33.0, \"bp\": 60.0, \"sg\": 1.025, \"al\": 0.0, \"su\": 0.0, \"rbc\": \"normal\", \"pc\": \"normal\", \"pcc\": \"notpresent\", \"ba\": \"notpresent\", \"bgr\": 80.0, \"bu\": 25.0, \"sc\": 0.9, \"sod\": 146.0, \"pot\": 3.5, \"hemo\": 14.1, \"pcv\": 48.0, \"wbcc\": 7800.0, \"rbcc\": 5.1, \"htn\": \"no\", \"dm\": \"no\", \"cad\": \"no\", \"appet\": \"good\", \"pe\": \"no\", \"ane\": \"no\", \"class\": \"notckd\"}, {\"age\": 43.0, \"bp\": 80.0, \"sg\": 1.02, \"al\": 0.0, \"su\": 0.0, \"rbc\": \"normal\", \"pc\": \"normal\", \"pcc\": \"notpresent\", \"ba\": \"notpresent\", \"bgr\": 114.0, \"bu\": 32.0, \"sc\": 1.1, \"sod\": 135.0, \"pot\": 3.9, \"hemo\": 13.85, \"pcv\": 42.0, \"wbcc\": 7900.0, \"rbcc\": 4.9, \"htn\": \"no\", \"dm\": \"no\", \"cad\": \"no\", \"appet\": \"good\", \"pe\": \"no\", \"ane\": \"no\", \"class\": \"notckd\"}, {\"age\": 59.0, \"bp\": 70.0, \"sg\": 1.025, \"al\": 0.0, \"su\": 0.0, \"rbc\": \"normal\", \"pc\": \"normal\", \"pcc\": \"notpresent\", \"ba\": \"notpresent\", \"bgr\": 130.0, \"bu\": 39.0, \"sc\": 0.7, \"sod\": 147.0, \"pot\": 4.7, \"hemo\": 13.5, \"pcv\": 46.0, \"wbcc\": 6700.0, \"rbcc\": 4.5, \"htn\": \"no\", \"dm\": \"no\", \"cad\": \"no\", \"appet\": \"good\", \"pe\": \"no\", \"ane\": \"no\", \"class\": \"notckd\"}, {\"age\": 34.0, \"bp\": 70.0, \"sg\": 1.025, \"al\": 0.0, \"su\": 0.0, \"rbc\": \"normal\", \"pc\": \"normal\", \"pcc\": \"notpresent\", \"ba\": \"notpresent\", \"bgr\": 119.0, \"bu\": 33.0, \"sc\": 1.0, \"sod\": 150.0, \"pot\": 5.0, \"hemo\": 15.3, \"pcv\": 44.0, \"wbcc\": 10500.0, \"rbcc\": 6.1, \"htn\": \"no\", \"dm\": \"no\", \"cad\": \"no\", \"appet\": \"good\", \"pe\": \"no\", \"ane\": \"no\", \"class\": \"notckd\"}, {\"age\": 23.0, \"bp\": 80.0, \"sg\": 1.02, \"al\": 0.0, \"su\": 0.0, \"rbc\": \"normal\", \"pc\": \"normal\", \"pcc\": \"notpresent\", \"ba\": \"notpresent\", \"bgr\": 99.0, \"bu\": 46.0, \"sc\": 1.2, \"sod\": 142.0, \"pot\": 4.0, \"hemo\": 17.7, \"pcv\": 46.0, \"wbcc\": 4300.0, \"rbcc\": 5.5, \"htn\": \"no\", \"dm\": \"no\", \"cad\": \"no\", \"appet\": \"good\", \"pe\": \"no\", \"ane\": \"no\", \"class\": \"notckd\"}, {\"age\": 24.0, \"bp\": 80.0, \"sg\": 1.025, \"al\": 0.0, \"su\": 0.0, \"rbc\": \"normal\", \"pc\": \"normal\", \"pcc\": \"notpresent\", \"ba\": \"notpresent\", \"bgr\": 125.0, \"bu\": 40.0, \"sc\": 1.15, \"sod\": 136.0, \"pot\": 3.5, \"hemo\": 15.4, \"pcv\": 43.0, \"wbcc\": 5600.0, \"rbcc\": 4.5, \"htn\": \"no\", \"dm\": \"no\", \"cad\": \"no\", \"appet\": \"good\", \"pe\": \"no\", \"ane\": \"no\", \"class\": \"notckd\"}, {\"age\": 60.0, \"bp\": 60.0, \"sg\": 1.02, \"al\": 0.0, \"su\": 0.0, \"rbc\": \"normal\", \"pc\": \"normal\", \"pcc\": \"notpresent\", \"ba\": \"notpresent\", \"bgr\": 134.0, \"bu\": 45.0, \"sc\": 0.5, \"sod\": 139.0, \"pot\": 4.8, \"hemo\": 14.2, \"pcv\": 48.0, \"wbcc\": 10700.0, \"rbcc\": 5.6, \"htn\": \"no\", \"dm\": \"no\", \"cad\": \"no\", \"appet\": \"good\", \"pe\": \"no\", \"ane\": \"no\", \"class\": \"notckd\"}, {\"age\": 25.0, \"bp\": 60.0, \"sg\": 1.02, \"al\": 0.0, \"su\": 0.0, \"rbc\": \"normal\", \"pc\": \"normal\", \"pcc\": \"notpresent\", \"ba\": \"notpresent\", \"bgr\": 119.0, \"bu\": 27.0, \"sc\": 0.5, \"sod\": 139.0, \"pot\": 4.5, \"hemo\": 15.2, \"pcv\": 40.0, \"wbcc\": 9200.0, \"rbcc\": 5.2, \"htn\": \"no\", \"dm\": \"no\", \"cad\": \"no\", \"appet\": \"good\", \"pe\": \"no\", \"ane\": \"no\", \"class\": \"notckd\"}, {\"age\": 44.0, \"bp\": 70.0, \"sg\": 1.025, \"al\": 0.0, \"su\": 0.0, \"rbc\": \"normal\", \"pc\": \"normal\", \"pcc\": \"notpresent\", \"ba\": \"notpresent\", \"bgr\": 92.0, \"bu\": 40.0, \"sc\": 0.9, \"sod\": 141.0, \"pot\": 4.9, \"hemo\": 14.0, \"pcv\": 52.0, \"wbcc\": 7500.0, \"rbcc\": 6.2, \"htn\": \"no\", \"dm\": \"no\", \"cad\": \"no\", \"appet\": \"good\", \"pe\": \"no\", \"ane\": \"no\", \"class\": \"notckd\"}, {\"age\": 62.0, \"bp\": 80.0, \"sg\": 1.02, \"al\": 0.0, \"su\": 0.0, \"rbc\": \"normal\", \"pc\": \"normal\", \"pcc\": \"notpresent\", \"ba\": \"notpresent\", \"bgr\": 132.0, \"bu\": 34.0, \"sc\": 0.8, \"sod\": 147.0, \"pot\": 3.5, \"hemo\": 17.8, \"pcv\": 44.0, \"wbcc\": 4700.0, \"rbcc\": 4.5, \"htn\": \"no\", \"dm\": \"no\", \"cad\": \"no\", \"appet\": \"good\", \"pe\": \"no\", \"ane\": \"no\", \"class\": \"notckd\"}, {\"age\": 25.0, \"bp\": 70.0, \"sg\": 1.02, \"al\": 0.0, \"su\": 0.0, \"rbc\": \"normal\", \"pc\": \"normal\", \"pcc\": \"notpresent\", \"ba\": \"notpresent\", \"bgr\": 88.0, \"bu\": 42.0, \"sc\": 0.5, \"sod\": 136.0, \"pot\": 3.5, \"hemo\": 13.3, \"pcv\": 48.0, \"wbcc\": 7000.0, \"rbcc\": 4.9, \"htn\": \"no\", \"dm\": \"no\", \"cad\": \"no\", \"appet\": \"good\", \"pe\": \"no\", \"ane\": \"no\", \"class\": \"notckd\"}, {\"age\": 32.0, \"bp\": 70.0, \"sg\": 1.025, \"al\": 0.0, \"su\": 0.0, \"rbc\": \"normal\", \"pc\": \"normal\", \"pcc\": \"notpresent\", \"ba\": \"notpresent\", \"bgr\": 100.0, \"bu\": 29.0, \"sc\": 1.1, \"sod\": 142.0, \"pot\": 4.5, \"hemo\": 14.3, \"pcv\": 43.0, \"wbcc\": 6700.0, \"rbcc\": 5.9, \"htn\": \"no\", \"dm\": \"no\", \"cad\": \"no\", \"appet\": \"good\", \"pe\": \"no\", \"ane\": \"no\", \"class\": \"notckd\"}, {\"age\": 63.0, \"bp\": 70.0, \"sg\": 1.025, \"al\": 0.0, \"su\": 0.0, \"rbc\": \"normal\", \"pc\": \"normal\", \"pcc\": \"notpresent\", \"ba\": \"notpresent\", \"bgr\": 130.0, \"bu\": 37.0, \"sc\": 0.9, \"sod\": 150.0, \"pot\": 5.0, \"hemo\": 13.4, \"pcv\": 41.0, \"wbcc\": 7300.0, \"rbcc\": 4.7, \"htn\": \"no\", \"dm\": \"no\", \"cad\": \"no\", \"appet\": \"good\", \"pe\": \"no\", \"ane\": \"no\", \"class\": \"notckd\"}, {\"age\": 44.0, \"bp\": 60.0, \"sg\": 1.02, \"al\": 0.0, \"su\": 0.0, \"rbc\": \"normal\", \"pc\": \"normal\", \"pcc\": \"notpresent\", \"ba\": \"notpresent\", \"bgr\": 95.0, \"bu\": 46.0, \"sc\": 0.5, \"sod\": 138.0, \"pot\": 4.2, \"hemo\": 15.0, \"pcv\": 50.0, \"wbcc\": 7700.0, \"rbcc\": 6.3, \"htn\": \"no\", \"dm\": \"no\", \"cad\": \"no\", \"appet\": \"good\", \"pe\": \"no\", \"ane\": \"no\", \"class\": \"notckd\"}, {\"age\": 37.0, \"bp\": 60.0, \"sg\": 1.025, \"al\": 0.0, \"su\": 0.0, \"rbc\": \"normal\", \"pc\": \"normal\", \"pcc\": \"notpresent\", \"ba\": \"notpresent\", \"bgr\": 111.0, \"bu\": 35.0, \"sc\": 0.8, \"sod\": 135.0, \"pot\": 4.1, \"hemo\": 16.2, \"pcv\": 50.0, \"wbcc\": 5500.0, \"rbcc\": 5.7, \"htn\": \"no\", \"dm\": \"no\", \"cad\": \"no\", \"appet\": \"good\", \"pe\": \"no\", \"ane\": \"no\", \"class\": \"notckd\"}, {\"age\": 64.0, \"bp\": 60.0, \"sg\": 1.02, \"al\": 0.0, \"su\": 0.0, \"rbc\": \"normal\", \"pc\": \"normal\", \"pcc\": \"notpresent\", \"ba\": \"notpresent\", \"bgr\": 106.0, \"bu\": 27.0, \"sc\": 0.7, \"sod\": 150.0, \"pot\": 3.3, \"hemo\": 14.4, \"pcv\": 42.0, \"wbcc\": 8100.0, \"rbcc\": 4.7, \"htn\": \"no\", \"dm\": \"no\", \"cad\": \"no\", \"appet\": \"good\", \"pe\": \"no\", \"ane\": \"no\", \"class\": \"notckd\"}, {\"age\": 22.0, \"bp\": 60.0, \"sg\": 1.025, \"al\": 0.0, \"su\": 0.0, \"rbc\": \"normal\", \"pc\": \"normal\", \"pcc\": \"notpresent\", \"ba\": \"notpresent\", \"bgr\": 97.0, \"bu\": 18.0, \"sc\": 1.2, \"sod\": 138.0, \"pot\": 4.3, \"hemo\": 13.5, \"pcv\": 42.0, \"wbcc\": 7900.0, \"rbcc\": 6.4, \"htn\": \"no\", \"dm\": \"no\", \"cad\": \"no\", \"appet\": \"good\", \"pe\": \"no\", \"ane\": \"no\", \"class\": \"notckd\"}, {\"age\": 33.0, \"bp\": 60.0, \"sg\": 1.02, \"al\": 0.0, \"su\": 0.0, \"rbc\": \"normal\", \"pc\": \"normal\", \"pcc\": \"notpresent\", \"ba\": \"notpresent\", \"bgr\": 130.0, \"bu\": 41.0, \"sc\": 0.9, \"sod\": 141.0, \"pot\": 4.4, \"hemo\": 15.5, \"pcv\": 52.0, \"wbcc\": 4300.0, \"rbcc\": 5.8, \"htn\": \"no\", \"dm\": \"no\", \"cad\": \"no\", \"appet\": \"good\", \"pe\": \"no\", \"ane\": \"no\", \"class\": \"notckd\"}, {\"age\": 43.0, \"bp\": 60.0, \"sg\": 1.025, \"al\": 0.0, \"su\": 0.0, \"rbc\": \"normal\", \"pc\": \"normal\", \"pcc\": \"notpresent\", \"ba\": \"notpresent\", \"bgr\": 108.0, \"bu\": 25.0, \"sc\": 1.0, \"sod\": 144.0, \"pot\": 5.0, \"hemo\": 17.8, \"pcv\": 43.0, \"wbcc\": 7200.0, \"rbcc\": 5.5, \"htn\": \"no\", \"dm\": \"no\", \"cad\": \"no\", \"appet\": \"good\", \"pe\": \"no\", \"ane\": \"no\", \"class\": \"notckd\"}, {\"age\": 38.0, \"bp\": 80.0, \"sg\": 1.02, \"al\": 0.0, \"su\": 0.0, \"rbc\": \"normal\", \"pc\": \"normal\", \"pcc\": \"notpresent\", \"ba\": \"notpresent\", \"bgr\": 99.0, \"bu\": 19.0, \"sc\": 0.5, \"sod\": 147.0, \"pot\": 3.5, \"hemo\": 13.6, \"pcv\": 44.0, \"wbcc\": 7300.0, \"rbcc\": 6.4, \"htn\": \"no\", \"dm\": \"no\", \"cad\": \"no\", \"appet\": \"good\", \"pe\": \"no\", \"ane\": \"no\", \"class\": \"notckd\"}, {\"age\": 29.0, \"bp\": 80.0, \"sg\": 1.02, \"al\": 0.0, \"su\": 0.0, \"rbc\": \"normal\", \"pc\": \"normal\", \"pcc\": \"notpresent\", \"ba\": \"notpresent\", \"bgr\": 83.0, \"bu\": 49.0, \"sc\": 0.9, \"sod\": 139.0, \"pot\": 3.3, \"hemo\": 17.5, \"pcv\": 40.0, \"wbcc\": 9900.0, \"rbcc\": 4.7, \"htn\": \"no\", \"dm\": \"no\", \"cad\": \"no\", \"appet\": \"good\", \"pe\": \"no\", \"ane\": \"no\", \"class\": \"notckd\"}, {\"age\": 37.0, \"bp\": 60.0, \"sg\": 1.02, \"al\": 0.0, \"su\": 0.0, \"rbc\": \"normal\", \"pc\": \"normal\", \"pcc\": \"notpresent\", \"ba\": \"notpresent\", \"bgr\": 109.0, \"bu\": 47.0, \"sc\": 1.1, \"sod\": 141.0, \"pot\": 4.9, \"hemo\": 15.0, \"pcv\": 48.0, \"wbcc\": 7000.0, \"rbcc\": 5.2, \"htn\": \"no\", \"dm\": \"no\", \"cad\": \"no\", \"appet\": \"good\", \"pe\": \"no\", \"ane\": \"no\", \"class\": \"notckd\"}, {\"age\": 39.0, \"bp\": 60.0, \"sg\": 1.02, \"al\": 0.0, \"su\": 0.0, \"rbc\": \"normal\", \"pc\": \"normal\", \"pcc\": \"notpresent\", \"ba\": \"notpresent\", \"bgr\": 86.0, \"bu\": 37.0, \"sc\": 0.6, \"sod\": 150.0, \"pot\": 5.0, \"hemo\": 13.6, \"pcv\": 51.0, \"wbcc\": 5800.0, \"rbcc\": 4.5, \"htn\": \"no\", \"dm\": \"no\", \"cad\": \"no\", \"appet\": \"good\", \"pe\": \"no\", \"ane\": \"no\", \"class\": \"notckd\"}, {\"age\": 32.0, \"bp\": 60.0, \"sg\": 1.025, \"al\": 0.0, \"su\": 0.0, \"rbc\": \"normal\", \"pc\": \"normal\", \"pcc\": \"notpresent\", \"ba\": \"notpresent\", \"bgr\": 102.0, \"bu\": 17.0, \"sc\": 0.4, \"sod\": 147.0, \"pot\": 4.7, \"hemo\": 14.6, \"pcv\": 41.0, \"wbcc\": 6800.0, \"rbcc\": 5.1, \"htn\": \"no\", \"dm\": \"no\", \"cad\": \"no\", \"appet\": \"good\", \"pe\": \"no\", \"ane\": \"no\", \"class\": \"notckd\"}, {\"age\": 23.0, \"bp\": 60.0, \"sg\": 1.02, \"al\": 0.0, \"su\": 0.0, \"rbc\": \"normal\", \"pc\": \"normal\", \"pcc\": \"notpresent\", \"ba\": \"notpresent\", \"bgr\": 95.0, \"bu\": 24.0, \"sc\": 0.8, \"sod\": 145.0, \"pot\": 5.0, \"hemo\": 15.0, \"pcv\": 52.0, \"wbcc\": 6300.0, \"rbcc\": 4.6, \"htn\": \"no\", \"dm\": \"no\", \"cad\": \"no\", \"appet\": \"good\", \"pe\": \"no\", \"ane\": \"no\", \"class\": \"notckd\"}, {\"age\": 34.0, \"bp\": 70.0, \"sg\": 1.025, \"al\": 0.0, \"su\": 0.0, \"rbc\": \"normal\", \"pc\": \"normal\", \"pcc\": \"notpresent\", \"ba\": \"notpresent\", \"bgr\": 87.0, \"bu\": 38.0, \"sc\": 0.5, \"sod\": 144.0, \"pot\": 4.8, \"hemo\": 17.1, \"pcv\": 47.0, \"wbcc\": 7400.0, \"rbcc\": 6.1, \"htn\": \"no\", \"dm\": \"no\", \"cad\": \"no\", \"appet\": \"good\", \"pe\": \"no\", \"ane\": \"no\", \"class\": \"notckd\"}, {\"age\": 66.0, \"bp\": 70.0, \"sg\": 1.025, \"al\": 0.0, \"su\": 0.0, \"rbc\": \"normal\", \"pc\": \"normal\", \"pcc\": \"notpresent\", \"ba\": \"notpresent\", \"bgr\": 107.0, \"bu\": 16.0, \"sc\": 1.1, \"sod\": 140.0, \"pot\": 3.6, \"hemo\": 13.6, \"pcv\": 42.0, \"wbcc\": 11000.0, \"rbcc\": 4.9, \"htn\": \"no\", \"dm\": \"no\", \"cad\": \"no\", \"appet\": \"good\", \"pe\": \"no\", \"ane\": \"no\", \"class\": \"notckd\"}, {\"age\": 47.0, \"bp\": 60.0, \"sg\": 1.02, \"al\": 0.0, \"su\": 0.0, \"rbc\": \"normal\", \"pc\": \"normal\", \"pcc\": \"notpresent\", \"ba\": \"notpresent\", \"bgr\": 117.0, \"bu\": 22.0, \"sc\": 1.2, \"sod\": 138.0, \"pot\": 3.5, \"hemo\": 13.0, \"pcv\": 45.0, \"wbcc\": 5200.0, \"rbcc\": 5.6, \"htn\": \"no\", \"dm\": \"no\", \"cad\": \"no\", \"appet\": \"good\", \"pe\": \"no\", \"ane\": \"no\", \"class\": \"notckd\"}, {\"age\": 74.0, \"bp\": 60.0, \"sg\": 1.02, \"al\": 0.0, \"su\": 0.0, \"rbc\": \"normal\", \"pc\": \"normal\", \"pcc\": \"notpresent\", \"ba\": \"notpresent\", \"bgr\": 88.0, \"bu\": 50.0, \"sc\": 0.6, \"sod\": 147.0, \"pot\": 3.7, \"hemo\": 17.2, \"pcv\": 53.0, \"wbcc\": 6000.0, \"rbcc\": 4.5, \"htn\": \"no\", \"dm\": \"no\", \"cad\": \"no\", \"appet\": \"good\", \"pe\": \"no\", \"ane\": \"no\", \"class\": \"notckd\"}, {\"age\": 35.0, \"bp\": 60.0, \"sg\": 1.025, \"al\": 0.0, \"su\": 0.0, \"rbc\": \"normal\", \"pc\": \"normal\", \"pcc\": \"notpresent\", \"ba\": \"notpresent\", \"bgr\": 105.0, \"bu\": 39.0, \"sc\": 0.5, \"sod\": 135.0, \"pot\": 3.9, \"hemo\": 14.7, \"pcv\": 43.0, \"wbcc\": 5800.0, \"rbcc\": 6.2, \"htn\": \"no\", \"dm\": \"no\", \"cad\": \"no\", \"appet\": \"good\", \"pe\": \"no\", \"ane\": \"no\", \"class\": \"notckd\"}, {\"age\": 29.0, \"bp\": 80.0, \"sg\": 1.02, \"al\": 0.0, \"su\": 0.0, \"rbc\": \"normal\", \"pc\": \"normal\", \"pcc\": \"notpresent\", \"ba\": \"notpresent\", \"bgr\": 70.0, \"bu\": 16.0, \"sc\": 0.7, \"sod\": 138.0, \"pot\": 3.5, \"hemo\": 13.7, \"pcv\": 54.0, \"wbcc\": 5400.0, \"rbcc\": 5.8, \"htn\": \"no\", \"dm\": \"no\", \"cad\": \"no\", \"appet\": \"good\", \"pe\": \"no\", \"ane\": \"no\", \"class\": \"notckd\"}, {\"age\": 33.0, \"bp\": 80.0, \"sg\": 1.025, \"al\": 0.0, \"su\": 0.0, \"rbc\": \"normal\", \"pc\": \"normal\", \"pcc\": \"notpresent\", \"ba\": \"notpresent\", \"bgr\": 89.0, \"bu\": 19.0, \"sc\": 1.1, \"sod\": 144.0, \"pot\": 5.0, \"hemo\": 15.0, \"pcv\": 40.0, \"wbcc\": 10300.0, \"rbcc\": 4.8, \"htn\": \"no\", \"dm\": \"no\", \"cad\": \"no\", \"appet\": \"good\", \"pe\": \"no\", \"ane\": \"no\", \"class\": \"notckd\"}, {\"age\": 67.0, \"bp\": 80.0, \"sg\": 1.025, \"al\": 0.0, \"su\": 0.0, \"rbc\": \"normal\", \"pc\": \"normal\", \"pcc\": \"notpresent\", \"ba\": \"notpresent\", \"bgr\": 99.0, \"bu\": 40.0, \"sc\": 0.5, \"sod\": 139.0, \"pot\": 4.5, \"hemo\": 17.8, \"pcv\": 44.0, \"wbcc\": 5900.0, \"rbcc\": 5.2, \"htn\": \"no\", \"dm\": \"no\", \"cad\": \"no\", \"appet\": \"good\", \"pe\": \"no\", \"ane\": \"no\", \"class\": \"notckd\"}, {\"age\": 73.0, \"bp\": 80.0, \"sg\": 1.025, \"al\": 0.0, \"su\": 0.0, \"rbc\": \"normal\", \"pc\": \"normal\", \"pcc\": \"notpresent\", \"ba\": \"notpresent\", \"bgr\": 118.0, \"bu\": 44.0, \"sc\": 0.7, \"sod\": 137.0, \"pot\": 3.5, \"hemo\": 14.8, \"pcv\": 45.0, \"wbcc\": 9300.0, \"rbcc\": 4.7, \"htn\": \"no\", \"dm\": \"no\", \"cad\": \"no\", \"appet\": \"good\", \"pe\": \"no\", \"ane\": \"no\", \"class\": \"notckd\"}, {\"age\": 24.0, \"bp\": 80.0, \"sg\": 1.02, \"al\": 0.0, \"su\": 0.0, \"rbc\": \"normal\", \"pc\": \"normal\", \"pcc\": \"notpresent\", \"ba\": \"notpresent\", \"bgr\": 93.0, \"bu\": 46.0, \"sc\": 1.0, \"sod\": 145.0, \"pot\": 3.5, \"hemo\": 13.85, \"pcv\": 42.0, \"wbcc\": 10700.0, \"rbcc\": 6.3, \"htn\": \"no\", \"dm\": \"no\", \"cad\": \"no\", \"appet\": \"good\", \"pe\": \"no\", \"ane\": \"no\", \"class\": \"notckd\"}, {\"age\": 60.0, \"bp\": 80.0, \"sg\": 1.025, \"al\": 0.0, \"su\": 0.0, \"rbc\": \"normal\", \"pc\": \"normal\", \"pcc\": \"notpresent\", \"ba\": \"notpresent\", \"bgr\": 81.0, \"bu\": 15.0, \"sc\": 0.5, \"sod\": 141.0, \"pot\": 3.6, \"hemo\": 15.0, \"pcv\": 46.0, \"wbcc\": 10500.0, \"rbcc\": 5.3, \"htn\": \"no\", \"dm\": \"no\", \"cad\": \"no\", \"appet\": \"good\", \"pe\": \"no\", \"ane\": \"no\", \"class\": \"notckd\"}, {\"age\": 68.0, \"bp\": 60.0, \"sg\": 1.025, \"al\": 0.0, \"su\": 0.0, \"rbc\": \"normal\", \"pc\": \"normal\", \"pcc\": \"notpresent\", \"ba\": \"notpresent\", \"bgr\": 125.0, \"bu\": 41.0, \"sc\": 1.1, \"sod\": 139.0, \"pot\": 3.8, \"hemo\": 17.4, \"pcv\": 50.0, \"wbcc\": 6700.0, \"rbcc\": 6.1, \"htn\": \"no\", \"dm\": \"no\", \"cad\": \"no\", \"appet\": \"good\", \"pe\": \"no\", \"ane\": \"no\", \"class\": \"notckd\"}, {\"age\": 30.0, \"bp\": 80.0, \"sg\": 1.025, \"al\": 0.0, \"su\": 0.0, \"rbc\": \"normal\", \"pc\": \"normal\", \"pcc\": \"notpresent\", \"ba\": \"notpresent\", \"bgr\": 82.0, \"bu\": 42.0, \"sc\": 0.7, \"sod\": 146.0, \"pot\": 5.0, \"hemo\": 14.9, \"pcv\": 45.0, \"wbcc\": 9400.0, \"rbcc\": 5.9, \"htn\": \"no\", \"dm\": \"no\", \"cad\": \"no\", \"appet\": \"good\", \"pe\": \"no\", \"ane\": \"no\", \"class\": \"notckd\"}, {\"age\": 75.0, \"bp\": 70.0, \"sg\": 1.02, \"al\": 0.0, \"su\": 0.0, \"rbc\": \"normal\", \"pc\": \"normal\", \"pcc\": \"notpresent\", \"ba\": \"notpresent\", \"bgr\": 107.0, \"bu\": 48.0, \"sc\": 0.8, \"sod\": 144.0, \"pot\": 3.5, \"hemo\": 13.6, \"pcv\": 46.0, \"wbcc\": 10300.0, \"rbcc\": 4.8, \"htn\": \"no\", \"dm\": \"no\", \"cad\": \"no\", \"appet\": \"good\", \"pe\": \"no\", \"ane\": \"no\", \"class\": \"notckd\"}, {\"age\": 69.0, \"bp\": 70.0, \"sg\": 1.02, \"al\": 0.0, \"su\": 0.0, \"rbc\": \"normal\", \"pc\": \"normal\", \"pcc\": \"notpresent\", \"ba\": \"notpresent\", \"bgr\": 83.0, \"bu\": 42.0, \"sc\": 1.2, \"sod\": 139.0, \"pot\": 3.7, \"hemo\": 16.2, \"pcv\": 50.0, \"wbcc\": 9300.0, \"rbcc\": 5.4, \"htn\": \"no\", \"dm\": \"no\", \"cad\": \"no\", \"appet\": \"good\", \"pe\": \"no\", \"ane\": \"no\", \"class\": \"notckd\"}, {\"age\": 28.0, \"bp\": 60.0, \"sg\": 1.025, \"al\": 0.0, \"su\": 0.0, \"rbc\": \"normal\", \"pc\": \"normal\", \"pcc\": \"notpresent\", \"ba\": \"notpresent\", \"bgr\": 79.0, \"bu\": 50.0, \"sc\": 0.5, \"sod\": 145.0, \"pot\": 5.0, \"hemo\": 17.6, \"pcv\": 51.0, \"wbcc\": 6500.0, \"rbcc\": 5.0, \"htn\": \"no\", \"dm\": \"no\", \"cad\": \"no\", \"appet\": \"good\", \"pe\": \"no\", \"ane\": \"no\", \"class\": \"notckd\"}, {\"age\": 72.0, \"bp\": 60.0, \"sg\": 1.02, \"al\": 0.0, \"su\": 0.0, \"rbc\": \"normal\", \"pc\": \"normal\", \"pcc\": \"notpresent\", \"ba\": \"notpresent\", \"bgr\": 109.0, \"bu\": 26.0, \"sc\": 0.9, \"sod\": 150.0, \"pot\": 4.9, \"hemo\": 15.0, \"pcv\": 52.0, \"wbcc\": 10500.0, \"rbcc\": 5.5, \"htn\": \"no\", \"dm\": \"no\", \"cad\": \"no\", \"appet\": \"good\", \"pe\": \"no\", \"ane\": \"no\", \"class\": \"notckd\"}, {\"age\": 61.0, \"bp\": 70.0, \"sg\": 1.025, \"al\": 0.0, \"su\": 0.0, \"rbc\": \"normal\", \"pc\": \"normal\", \"pcc\": \"notpresent\", \"ba\": \"notpresent\", \"bgr\": 133.0, \"bu\": 38.0, \"sc\": 1.0, \"sod\": 142.0, \"pot\": 3.6, \"hemo\": 13.7, \"pcv\": 47.0, \"wbcc\": 9200.0, \"rbcc\": 4.9, \"htn\": \"no\", \"dm\": \"no\", \"cad\": \"no\", \"appet\": \"good\", \"pe\": \"no\", \"ane\": \"no\", \"class\": \"notckd\"}, {\"age\": 79.0, \"bp\": 80.0, \"sg\": 1.025, \"al\": 0.0, \"su\": 0.0, \"rbc\": \"normal\", \"pc\": \"normal\", \"pcc\": \"notpresent\", \"ba\": \"notpresent\", \"bgr\": 111.0, \"bu\": 44.0, \"sc\": 1.2, \"sod\": 146.0, \"pot\": 3.6, \"hemo\": 16.3, \"pcv\": 40.0, \"wbcc\": 8000.0, \"rbcc\": 6.4, \"htn\": \"no\", \"dm\": \"no\", \"cad\": \"no\", \"appet\": \"good\", \"pe\": \"no\", \"ane\": \"no\", \"class\": \"notckd\"}, {\"age\": 70.0, \"bp\": 80.0, \"sg\": 1.02, \"al\": 0.0, \"su\": 0.0, \"rbc\": \"normal\", \"pc\": \"normal\", \"pcc\": \"notpresent\", \"ba\": \"notpresent\", \"bgr\": 74.0, \"bu\": 41.0, \"sc\": 0.5, \"sod\": 143.0, \"pot\": 4.5, \"hemo\": 15.1, \"pcv\": 48.0, \"wbcc\": 9700.0, \"rbcc\": 5.6, \"htn\": \"no\", \"dm\": \"no\", \"cad\": \"no\", \"appet\": \"good\", \"pe\": \"no\", \"ane\": \"no\", \"class\": \"notckd\"}, {\"age\": 58.0, \"bp\": 70.0, \"sg\": 1.025, \"al\": 0.0, \"su\": 0.0, \"rbc\": \"normal\", \"pc\": \"normal\", \"pcc\": \"notpresent\", \"ba\": \"notpresent\", \"bgr\": 88.0, \"bu\": 16.0, \"sc\": 1.1, \"sod\": 147.0, \"pot\": 3.5, \"hemo\": 16.4, \"pcv\": 53.0, \"wbcc\": 9100.0, \"rbcc\": 5.2, \"htn\": \"no\", \"dm\": \"no\", \"cad\": \"no\", \"appet\": \"good\", \"pe\": \"no\", \"ane\": \"no\", \"class\": \"notckd\"}, {\"age\": 64.0, \"bp\": 70.0, \"sg\": 1.02, \"al\": 0.0, \"su\": 0.0, \"rbc\": \"normal\", \"pc\": \"normal\", \"pcc\": \"notpresent\", \"ba\": \"notpresent\", \"bgr\": 97.0, \"bu\": 27.0, \"sc\": 0.7, \"sod\": 145.0, \"pot\": 4.8, \"hemo\": 13.8, \"pcv\": 49.0, \"wbcc\": 6400.0, \"rbcc\": 4.8, \"htn\": \"no\", \"dm\": \"no\", \"cad\": \"no\", \"appet\": \"good\", \"pe\": \"no\", \"ane\": \"no\", \"class\": \"notckd\"}, {\"age\": 71.0, \"bp\": 60.0, \"sg\": 1.025, \"al\": 0.0, \"su\": 0.0, \"rbc\": \"normal\", \"pc\": \"normal\", \"pcc\": \"notpresent\", \"ba\": \"notpresent\", \"bgr\": 119.0, \"bu\": 40.0, \"sc\": 0.9, \"sod\": 140.0, \"pot\": 4.8, \"hemo\": 15.2, \"pcv\": 42.0, \"wbcc\": 7700.0, \"rbcc\": 5.5, \"htn\": \"no\", \"dm\": \"no\", \"cad\": \"no\", \"appet\": \"good\", \"pe\": \"no\", \"ane\": \"no\", \"class\": \"notckd\"}, {\"age\": 62.0, \"bp\": 80.0, \"sg\": 1.025, \"al\": 0.0, \"su\": 0.0, \"rbc\": \"normal\", \"pc\": \"normal\", \"pcc\": \"notpresent\", \"ba\": \"notpresent\", \"bgr\": 78.0, \"bu\": 45.0, \"sc\": 0.6, \"sod\": 138.0, \"pot\": 3.5, \"hemo\": 16.1, \"pcv\": 50.0, \"wbcc\": 5400.0, \"rbcc\": 5.7, \"htn\": \"no\", \"dm\": \"no\", \"cad\": \"no\", \"appet\": \"good\", \"pe\": \"no\", \"ane\": \"no\", \"class\": \"notckd\"}, {\"age\": 59.0, \"bp\": 60.0, \"sg\": 1.02, \"al\": 0.0, \"su\": 0.0, \"rbc\": \"normal\", \"pc\": \"normal\", \"pcc\": \"notpresent\", \"ba\": \"notpresent\", \"bgr\": 113.0, \"bu\": 23.0, \"sc\": 1.1, \"sod\": 139.0, \"pot\": 3.5, \"hemo\": 15.3, \"pcv\": 54.0, \"wbcc\": 6500.0, \"rbcc\": 4.9, \"htn\": \"no\", \"dm\": \"no\", \"cad\": \"no\", \"appet\": \"good\", \"pe\": \"no\", \"ane\": \"no\", \"class\": \"notckd\"}, {\"age\": 48.0, \"bp\": 80.0, \"sg\": 1.025, \"al\": 0.0, \"su\": 0.0, \"rbc\": \"normal\", \"pc\": \"normal\", \"pcc\": \"notpresent\", \"ba\": \"notpresent\", \"bgr\": 75.0, \"bu\": 22.0, \"sc\": 0.8, \"sod\": 137.0, \"pot\": 5.0, \"hemo\": 16.8, \"pcv\": 51.0, \"wbcc\": 6000.0, \"rbcc\": 6.5, \"htn\": \"no\", \"dm\": \"no\", \"cad\": \"no\", \"appet\": \"good\", \"pe\": \"no\", \"ane\": \"no\", \"class\": \"notckd\"}, {\"age\": 80.0, \"bp\": 80.0, \"sg\": 1.025, \"al\": 0.0, \"su\": 0.0, \"rbc\": \"normal\", \"pc\": \"normal\", \"pcc\": \"notpresent\", \"ba\": \"notpresent\", \"bgr\": 119.0, \"bu\": 46.0, \"sc\": 0.7, \"sod\": 141.0, \"pot\": 4.9, \"hemo\": 13.9, \"pcv\": 49.0, \"wbcc\": 5100.0, \"rbcc\": 5.0, \"htn\": \"no\", \"dm\": \"no\", \"cad\": \"no\", \"appet\": \"good\", \"pe\": \"no\", \"ane\": \"no\", \"class\": \"notckd\"}, {\"age\": 57.0, \"bp\": 60.0, \"sg\": 1.02, \"al\": 0.0, \"su\": 0.0, \"rbc\": \"normal\", \"pc\": \"normal\", \"pcc\": \"notpresent\", \"ba\": \"notpresent\", \"bgr\": 132.0, \"bu\": 18.0, \"sc\": 1.1, \"sod\": 150.0, \"pot\": 4.7, \"hemo\": 15.4, \"pcv\": 42.0, \"wbcc\": 11000.0, \"rbcc\": 4.5, \"htn\": \"no\", \"dm\": \"no\", \"cad\": \"no\", \"appet\": \"good\", \"pe\": \"no\", \"ane\": \"no\", \"class\": \"notckd\"}, {\"age\": 63.0, \"bp\": 70.0, \"sg\": 1.02, \"al\": 0.0, \"su\": 0.0, \"rbc\": \"normal\", \"pc\": \"normal\", \"pcc\": \"notpresent\", \"ba\": \"notpresent\", \"bgr\": 113.0, \"bu\": 25.0, \"sc\": 0.6, \"sod\": 146.0, \"pot\": 4.9, \"hemo\": 16.5, \"pcv\": 52.0, \"wbcc\": 8000.0, \"rbcc\": 5.1, \"htn\": \"no\", \"dm\": \"no\", \"cad\": \"no\", \"appet\": \"good\", \"pe\": \"no\", \"ane\": \"no\", \"class\": \"notckd\"}, {\"age\": 46.0, \"bp\": 70.0, \"sg\": 1.025, \"al\": 0.0, \"su\": 0.0, \"rbc\": \"normal\", \"pc\": \"normal\", \"pcc\": \"notpresent\", \"ba\": \"notpresent\", \"bgr\": 100.0, \"bu\": 47.0, \"sc\": 0.5, \"sod\": 142.0, \"pot\": 3.5, \"hemo\": 16.4, \"pcv\": 43.0, \"wbcc\": 5700.0, \"rbcc\": 6.5, \"htn\": \"no\", \"dm\": \"no\", \"cad\": \"no\", \"appet\": \"good\", \"pe\": \"no\", \"ane\": \"no\", \"class\": \"notckd\"}, {\"age\": 15.0, \"bp\": 80.0, \"sg\": 1.025, \"al\": 0.0, \"su\": 0.0, \"rbc\": \"normal\", \"pc\": \"normal\", \"pcc\": \"notpresent\", \"ba\": \"notpresent\", \"bgr\": 93.0, \"bu\": 17.0, \"sc\": 0.9, \"sod\": 136.0, \"pot\": 3.9, \"hemo\": 16.7, \"pcv\": 50.0, \"wbcc\": 6200.0, \"rbcc\": 5.2, \"htn\": \"no\", \"dm\": \"no\", \"cad\": \"no\", \"appet\": \"good\", \"pe\": \"no\", \"ane\": \"no\", \"class\": \"notckd\"}, {\"age\": 51.0, \"bp\": 80.0, \"sg\": 1.02, \"al\": 0.0, \"su\": 0.0, \"rbc\": \"normal\", \"pc\": \"normal\", \"pcc\": \"notpresent\", \"ba\": \"notpresent\", \"bgr\": 94.0, \"bu\": 15.0, \"sc\": 1.2, \"sod\": 144.0, \"pot\": 3.7, \"hemo\": 15.5, \"pcv\": 46.0, \"wbcc\": 9500.0, \"rbcc\": 6.4, \"htn\": \"no\", \"dm\": \"no\", \"cad\": \"no\", \"appet\": \"good\", \"pe\": \"no\", \"ane\": \"no\", \"class\": \"notckd\"}, {\"age\": 41.0, \"bp\": 80.0, \"sg\": 1.025, \"al\": 0.0, \"su\": 0.0, \"rbc\": \"normal\", \"pc\": \"normal\", \"pcc\": \"notpresent\", \"ba\": \"notpresent\", \"bgr\": 112.0, \"bu\": 48.0, \"sc\": 0.7, \"sod\": 140.0, \"pot\": 5.0, \"hemo\": 17.0, \"pcv\": 52.0, \"wbcc\": 7200.0, \"rbcc\": 5.8, \"htn\": \"no\", \"dm\": \"no\", \"cad\": \"no\", \"appet\": \"good\", \"pe\": \"no\", \"ane\": \"no\", \"class\": \"notckd\"}, {\"age\": 52.0, \"bp\": 80.0, \"sg\": 1.025, \"al\": 0.0, \"su\": 0.0, \"rbc\": \"normal\", \"pc\": \"normal\", \"pcc\": \"notpresent\", \"ba\": \"notpresent\", \"bgr\": 99.0, \"bu\": 25.0, \"sc\": 0.8, \"sod\": 135.0, \"pot\": 3.7, \"hemo\": 15.0, \"pcv\": 52.0, \"wbcc\": 6300.0, \"rbcc\": 5.3, \"htn\": \"no\", \"dm\": \"no\", \"cad\": \"no\", \"appet\": \"good\", \"pe\": \"no\", \"ane\": \"no\", \"class\": \"notckd\"}, {\"age\": 36.0, \"bp\": 80.0, \"sg\": 1.025, \"al\": 0.0, \"su\": 0.0, \"rbc\": \"normal\", \"pc\": \"normal\", \"pcc\": \"notpresent\", \"ba\": \"notpresent\", \"bgr\": 85.0, \"bu\": 16.0, \"sc\": 1.1, \"sod\": 142.0, \"pot\": 4.1, \"hemo\": 15.6, \"pcv\": 44.0, \"wbcc\": 5800.0, \"rbcc\": 6.3, \"htn\": \"no\", \"dm\": \"no\", \"cad\": \"no\", \"appet\": \"good\", \"pe\": \"no\", \"ane\": \"no\", \"class\": \"notckd\"}, {\"age\": 57.0, \"bp\": 80.0, \"sg\": 1.02, \"al\": 0.0, \"su\": 0.0, \"rbc\": \"normal\", \"pc\": \"normal\", \"pcc\": \"notpresent\", \"ba\": \"notpresent\", \"bgr\": 133.0, \"bu\": 48.0, \"sc\": 1.2, \"sod\": 147.0, \"pot\": 4.3, \"hemo\": 14.8, \"pcv\": 46.0, \"wbcc\": 6600.0, \"rbcc\": 5.5, \"htn\": \"no\", \"dm\": \"no\", \"cad\": \"no\", \"appet\": \"good\", \"pe\": \"no\", \"ane\": \"no\", \"class\": \"notckd\"}, {\"age\": 43.0, \"bp\": 60.0, \"sg\": 1.025, \"al\": 0.0, \"su\": 0.0, \"rbc\": \"normal\", \"pc\": \"normal\", \"pcc\": \"notpresent\", \"ba\": \"notpresent\", \"bgr\": 117.0, \"bu\": 45.0, \"sc\": 0.7, \"sod\": 141.0, \"pot\": 4.4, \"hemo\": 13.0, \"pcv\": 54.0, \"wbcc\": 7400.0, \"rbcc\": 5.4, \"htn\": \"no\", \"dm\": \"no\", \"cad\": \"no\", \"appet\": \"good\", \"pe\": \"no\", \"ane\": \"no\", \"class\": \"notckd\"}, {\"age\": 50.0, \"bp\": 80.0, \"sg\": 1.02, \"al\": 0.0, \"su\": 0.0, \"rbc\": \"normal\", \"pc\": \"normal\", \"pcc\": \"notpresent\", \"ba\": \"notpresent\", \"bgr\": 137.0, \"bu\": 46.0, \"sc\": 0.8, \"sod\": 139.0, \"pot\": 5.0, \"hemo\": 14.1, \"pcv\": 45.0, \"wbcc\": 9500.0, \"rbcc\": 4.6, \"htn\": \"no\", \"dm\": \"no\", \"cad\": \"no\", \"appet\": \"good\", \"pe\": \"no\", \"ane\": \"no\", \"class\": \"notckd\"}, {\"age\": 55.0, \"bp\": 80.0, \"sg\": 1.02, \"al\": 0.0, \"su\": 0.0, \"rbc\": \"normal\", \"pc\": \"normal\", \"pcc\": \"notpresent\", \"ba\": \"notpresent\", \"bgr\": 140.0, \"bu\": 49.0, \"sc\": 0.5, \"sod\": 150.0, \"pot\": 4.9, \"hemo\": 15.7, \"pcv\": 47.0, \"wbcc\": 6700.0, \"rbcc\": 4.9, \"htn\": \"no\", \"dm\": \"no\", \"cad\": \"no\", \"appet\": \"good\", \"pe\": \"no\", \"ane\": \"no\", \"class\": \"notckd\"}, {\"age\": 42.0, \"bp\": 70.0, \"sg\": 1.025, \"al\": 0.0, \"su\": 0.0, \"rbc\": \"normal\", \"pc\": \"normal\", \"pcc\": \"notpresent\", \"ba\": \"notpresent\", \"bgr\": 75.0, \"bu\": 31.0, \"sc\": 1.2, \"sod\": 141.0, \"pot\": 3.5, \"hemo\": 16.5, \"pcv\": 54.0, \"wbcc\": 7800.0, \"rbcc\": 6.2, \"htn\": \"no\", \"dm\": \"no\", \"cad\": \"no\", \"appet\": \"good\", \"pe\": \"no\", \"ane\": \"no\", \"class\": \"notckd\"}, {\"age\": 12.0, \"bp\": 80.0, \"sg\": 1.02, \"al\": 0.0, \"su\": 0.0, \"rbc\": \"normal\", \"pc\": \"normal\", \"pcc\": \"notpresent\", \"ba\": \"notpresent\", \"bgr\": 100.0, \"bu\": 26.0, \"sc\": 0.6, \"sod\": 137.0, \"pot\": 4.4, \"hemo\": 15.8, \"pcv\": 49.0, \"wbcc\": 6600.0, \"rbcc\": 5.4, \"htn\": \"no\", \"dm\": \"no\", \"cad\": \"no\", \"appet\": \"good\", \"pe\": \"no\", \"ane\": \"no\", \"class\": \"notckd\"}, {\"age\": 17.0, \"bp\": 60.0, \"sg\": 1.025, \"al\": 0.0, \"su\": 0.0, \"rbc\": \"normal\", \"pc\": \"normal\", \"pcc\": \"notpresent\", \"ba\": \"notpresent\", \"bgr\": 114.0, \"bu\": 50.0, \"sc\": 1.0, \"sod\": 135.0, \"pot\": 4.9, \"hemo\": 14.2, \"pcv\": 51.0, \"wbcc\": 7200.0, \"rbcc\": 5.9, \"htn\": \"no\", \"dm\": \"no\", \"cad\": \"no\", \"appet\": \"good\", \"pe\": \"no\", \"ane\": \"no\", \"class\": \"notckd\"}, {\"age\": 58.0, \"bp\": 80.0, \"sg\": 1.025, \"al\": 0.0, \"su\": 0.0, \"rbc\": \"normal\", \"pc\": \"normal\", \"pcc\": \"notpresent\", \"ba\": \"notpresent\", \"bgr\": 131.0, \"bu\": 18.0, \"sc\": 1.1, \"sod\": 141.0, \"pot\": 3.5, \"hemo\": 15.8, \"pcv\": 53.0, \"wbcc\": 6800.0, \"rbcc\": 6.1, \"htn\": \"no\", \"dm\": \"no\", \"cad\": \"no\", \"appet\": \"good\", \"pe\": \"no\", \"ane\": \"no\", \"class\": \"notckd\"}]}}, {\"mode\": \"vega-lite\"});\n",
       "</script>"
      ],
      "text/plain": [
       "alt.Chart(...)"
      ]
     },
     "execution_count": 27,
     "metadata": {},
     "output_type": "execute_result"
    }
   ],
   "source": [
    "alt.Chart(data_clean, title='Total count of age').mark_bar().encode(x='age', y='count()')"
   ]
  },
  {
   "cell_type": "markdown",
   "metadata": {},
   "source": [
    "Looking at the histogram above we can see that there are quite a few counts of ages on the lower end. So in terms of the min age being 2, we wouldn't consider that unreasonable as they may have tested patients of that age. We can also see that the `Age` feature is left skewed. \n",
    "\n",
    "When we were dealing with missing values, we decided to completely remove all the observations of the `rbc` feature that were missing, since the `rbc` feature had 38% of it's observations missing values. It was also the one feature missing the most values. The second highest feature missing values was the `rbcc` feature. This feature was missing 32.75% of its value but we decided to use the median to replace those values. Let's have a look at the histogram for that feature and see what kind of effect it has had on our dataset.\n"
   ]
  },
  {
   "cell_type": "code",
   "execution_count": 28,
   "metadata": {
    "scrolled": true
   },
   "outputs": [
    {
     "data": {
      "text/html": [
       "\n",
       "<div id=\"altair-viz-249ec072392b49f7a9789591b9a65c63\"></div>\n",
       "<script type=\"text/javascript\">\n",
       "  (function(spec, embedOpt){\n",
       "    let outputDiv = document.currentScript.previousElementSibling;\n",
       "    if (outputDiv.id !== \"altair-viz-249ec072392b49f7a9789591b9a65c63\") {\n",
       "      outputDiv = document.getElementById(\"altair-viz-249ec072392b49f7a9789591b9a65c63\");\n",
       "    }\n",
       "    const paths = {\n",
       "      \"vega\": \"https://cdn.jsdelivr.net/npm//vega@5?noext\",\n",
       "      \"vega-lib\": \"https://cdn.jsdelivr.net/npm//vega-lib?noext\",\n",
       "      \"vega-lite\": \"https://cdn.jsdelivr.net/npm//vega-lite@4.8.1?noext\",\n",
       "      \"vega-embed\": \"https://cdn.jsdelivr.net/npm//vega-embed@6?noext\",\n",
       "    };\n",
       "\n",
       "    function loadScript(lib) {\n",
       "      return new Promise(function(resolve, reject) {\n",
       "        var s = document.createElement('script');\n",
       "        s.src = paths[lib];\n",
       "        s.async = true;\n",
       "        s.onload = () => resolve(paths[lib]);\n",
       "        s.onerror = () => reject(`Error loading script: ${paths[lib]}`);\n",
       "        document.getElementsByTagName(\"head\")[0].appendChild(s);\n",
       "      });\n",
       "    }\n",
       "\n",
       "    function showError(err) {\n",
       "      outputDiv.innerHTML = `<div class=\"error\" style=\"color:red;\">${err}</div>`;\n",
       "      throw err;\n",
       "    }\n",
       "\n",
       "    function displayChart(vegaEmbed) {\n",
       "      vegaEmbed(outputDiv, spec, embedOpt)\n",
       "        .catch(err => showError(`Javascript Error: ${err.message}<br>This usually means there's a typo in your chart specification. See the javascript console for the full traceback.`));\n",
       "    }\n",
       "\n",
       "    if(typeof define === \"function\" && define.amd) {\n",
       "      requirejs.config({paths});\n",
       "      require([\"vega-embed\"], displayChart, err => showError(`Error loading script: ${err.message}`));\n",
       "    } else if (typeof vegaEmbed === \"function\") {\n",
       "      displayChart(vegaEmbed);\n",
       "    } else {\n",
       "      loadScript(\"vega\")\n",
       "        .then(() => loadScript(\"vega-lite\"))\n",
       "        .then(() => loadScript(\"vega-embed\"))\n",
       "        .catch(showError)\n",
       "        .then(() => displayChart(vegaEmbed));\n",
       "    }\n",
       "  })({\"config\": {\"view\": {\"continuousWidth\": 400, \"continuousHeight\": 300}}, \"data\": {\"name\": \"data-23ab5fbbb8473b892a91b29fa85a1421\"}, \"mark\": \"bar\", \"encoding\": {\"x\": {\"type\": \"quantitative\", \"field\": \"rbcc\"}, \"y\": {\"type\": \"quantitative\", \"aggregate\": \"count\"}}, \"title\": \"Total count of red blood cells million per cubic millimeter\", \"$schema\": \"https://vega.github.io/schema/vega-lite/v4.8.1.json\", \"datasets\": {\"data-23ab5fbbb8473b892a91b29fa85a1421\": [{\"age\": 62.0, \"bp\": 80.0, \"sg\": 1.01, \"al\": 2.0, \"su\": 3.0, \"rbc\": \"normal\", \"pc\": \"normal\", \"pcc\": \"notpresent\", \"ba\": \"notpresent\", \"bgr\": 423.0, \"bu\": 53.0, \"sc\": 1.8, \"sod\": 139.0, \"pot\": 4.5, \"hemo\": 9.6, \"pcv\": 31.0, \"wbcc\": 7500.0, \"rbcc\": 4.9, \"htn\": \"no\", \"dm\": \"yes\", \"cad\": \"no\", \"appet\": \"poor\", \"pe\": \"no\", \"ane\": \"yes\", \"class\": \"ckd\"}, {\"age\": 48.0, \"bp\": 70.0, \"sg\": 1.005, \"al\": 4.0, \"su\": 0.0, \"rbc\": \"normal\", \"pc\": \"abnormal\", \"pcc\": \"present\", \"ba\": \"notpresent\", \"bgr\": 117.0, \"bu\": 56.0, \"sc\": 3.8, \"sod\": 111.0, \"pot\": 2.5, \"hemo\": 11.2, \"pcv\": 32.0, \"wbcc\": 6700.0, \"rbcc\": 3.9, \"htn\": \"yes\", \"dm\": \"no\", \"cad\": \"no\", \"appet\": \"poor\", \"pe\": \"yes\", \"ane\": \"yes\", \"class\": \"ckd\"}, {\"age\": 51.0, \"bp\": 80.0, \"sg\": 1.01, \"al\": 2.0, \"su\": 0.0, \"rbc\": \"normal\", \"pc\": \"normal\", \"pcc\": \"notpresent\", \"ba\": \"notpresent\", \"bgr\": 106.0, \"bu\": 26.0, \"sc\": 1.4, \"sod\": 139.0, \"pot\": 4.5, \"hemo\": 11.6, \"pcv\": 35.0, \"wbcc\": 7300.0, \"rbcc\": 4.6, \"htn\": \"no\", \"dm\": \"no\", \"cad\": \"no\", \"appet\": \"good\", \"pe\": \"no\", \"ane\": \"no\", \"class\": \"ckd\"}, {\"age\": 24.0, \"bp\": 80.0, \"sg\": 1.015, \"al\": 2.0, \"su\": 4.0, \"rbc\": \"normal\", \"pc\": \"abnormal\", \"pcc\": \"notpresent\", \"ba\": \"notpresent\", \"bgr\": 410.0, \"bu\": 31.0, \"sc\": 1.1, \"sod\": 139.0, \"pot\": 4.5, \"hemo\": 12.4, \"pcv\": 44.0, \"wbcc\": 6900.0, \"rbcc\": 5.0, \"htn\": \"no\", \"dm\": \"yes\", \"cad\": \"no\", \"appet\": \"good\", \"pe\": \"yes\", \"ane\": \"no\", \"class\": \"ckd\"}, {\"age\": 52.0, \"bp\": 100.0, \"sg\": 1.015, \"al\": 3.0, \"su\": 0.0, \"rbc\": \"normal\", \"pc\": \"abnormal\", \"pcc\": \"present\", \"ba\": \"notpresent\", \"bgr\": 138.0, \"bu\": 60.0, \"sc\": 1.9, \"sod\": 139.0, \"pot\": 4.5, \"hemo\": 10.8, \"pcv\": 33.0, \"wbcc\": 9600.0, \"rbcc\": 4.0, \"htn\": \"yes\", \"dm\": \"yes\", \"cad\": \"no\", \"appet\": \"good\", \"pe\": \"no\", \"ane\": \"yes\", \"class\": \"ckd\"}, {\"age\": 53.0, \"bp\": 90.0, \"sg\": 1.02, \"al\": 2.0, \"su\": 0.0, \"rbc\": \"abnormal\", \"pc\": \"abnormal\", \"pcc\": \"present\", \"ba\": \"notpresent\", \"bgr\": 70.0, \"bu\": 107.0, \"sc\": 7.2, \"sod\": 114.0, \"pot\": 3.7, \"hemo\": 9.5, \"pcv\": 29.0, \"wbcc\": 12100.0, \"rbcc\": 3.7, \"htn\": \"yes\", \"dm\": \"yes\", \"cad\": \"no\", \"appet\": \"poor\", \"pe\": \"no\", \"ane\": \"yes\", \"class\": \"ckd\"}, {\"age\": 63.0, \"bp\": 70.0, \"sg\": 1.01, \"al\": 3.0, \"su\": 0.0, \"rbc\": \"abnormal\", \"pc\": \"abnormal\", \"pcc\": \"present\", \"ba\": \"notpresent\", \"bgr\": 380.0, \"bu\": 60.0, \"sc\": 2.7, \"sod\": 131.0, \"pot\": 4.2, \"hemo\": 10.8, \"pcv\": 32.0, \"wbcc\": 4500.0, \"rbcc\": 3.8, \"htn\": \"yes\", \"dm\": \"yes\", \"cad\": \"no\", \"appet\": \"poor\", \"pe\": \"yes\", \"ane\": \"no\", \"class\": \"ckd\"}, {\"age\": 68.0, \"bp\": 80.0, \"sg\": 1.01, \"al\": 3.0, \"su\": 2.0, \"rbc\": \"normal\", \"pc\": \"abnormal\", \"pcc\": \"present\", \"ba\": \"present\", \"bgr\": 157.0, \"bu\": 90.0, \"sc\": 4.1, \"sod\": 130.0, \"pot\": 6.4, \"hemo\": 5.6, \"pcv\": 16.0, \"wbcc\": 11000.0, \"rbcc\": 2.6, \"htn\": \"yes\", \"dm\": \"yes\", \"cad\": \"yes\", \"appet\": \"poor\", \"pe\": \"yes\", \"ane\": \"no\", \"class\": \"ckd\"}, {\"age\": 61.0, \"bp\": 80.0, \"sg\": 1.015, \"al\": 2.0, \"su\": 0.0, \"rbc\": \"abnormal\", \"pc\": \"abnormal\", \"pcc\": \"notpresent\", \"ba\": \"notpresent\", \"bgr\": 173.0, \"bu\": 148.0, \"sc\": 3.9, \"sod\": 135.0, \"pot\": 5.2, \"hemo\": 7.7, \"pcv\": 24.0, \"wbcc\": 9200.0, \"rbcc\": 3.2, \"htn\": \"yes\", \"dm\": \"yes\", \"cad\": \"yes\", \"appet\": \"poor\", \"pe\": \"yes\", \"ane\": \"yes\", \"class\": \"ckd\"}, {\"age\": 48.0, \"bp\": 80.0, \"sg\": 1.025, \"al\": 4.0, \"su\": 0.0, \"rbc\": \"normal\", \"pc\": \"abnormal\", \"pcc\": \"notpresent\", \"ba\": \"notpresent\", \"bgr\": 95.0, \"bu\": 163.0, \"sc\": 7.7, \"sod\": 136.0, \"pot\": 3.8, \"hemo\": 9.8, \"pcv\": 32.0, \"wbcc\": 6900.0, \"rbcc\": 3.4, \"htn\": \"yes\", \"dm\": \"no\", \"cad\": \"no\", \"appet\": \"good\", \"pe\": \"no\", \"ane\": \"yes\", \"class\": \"ckd\"}, {\"age\": 42.0, \"bp\": 100.0, \"sg\": 1.015, \"al\": 4.0, \"su\": 0.0, \"rbc\": \"normal\", \"pc\": \"abnormal\", \"pcc\": \"notpresent\", \"ba\": \"present\", \"bgr\": 119.0, \"bu\": 50.0, \"sc\": 1.4, \"sod\": 129.0, \"pot\": 4.0, \"hemo\": 11.1, \"pcv\": 39.0, \"wbcc\": 8300.0, \"rbcc\": 4.6, \"htn\": \"yes\", \"dm\": \"no\", \"cad\": \"no\", \"appet\": \"poor\", \"pe\": \"no\", \"ane\": \"no\", \"class\": \"ckd\"}, {\"age\": 69.0, \"bp\": 70.0, \"sg\": 1.01, \"al\": 3.0, \"su\": 4.0, \"rbc\": \"normal\", \"pc\": \"abnormal\", \"pcc\": \"notpresent\", \"ba\": \"notpresent\", \"bgr\": 264.0, \"bu\": 87.0, \"sc\": 2.7, \"sod\": 130.0, \"pot\": 4.0, \"hemo\": 12.5, \"pcv\": 37.0, \"wbcc\": 9600.0, \"rbcc\": 4.1, \"htn\": \"yes\", \"dm\": \"yes\", \"cad\": \"yes\", \"appet\": \"good\", \"pe\": \"yes\", \"ane\": \"no\", \"class\": \"ckd\"}, {\"age\": 68.0, \"bp\": 70.0, \"sg\": 1.005, \"al\": 1.0, \"su\": 0.0, \"rbc\": \"abnormal\", \"pc\": \"abnormal\", \"pcc\": \"present\", \"ba\": \"notpresent\", \"bgr\": 119.0, \"bu\": 28.0, \"sc\": 1.4, \"sod\": 139.0, \"pot\": 4.5, \"hemo\": 12.9, \"pcv\": 38.0, \"wbcc\": 7900.0, \"rbcc\": 4.9, \"htn\": \"no\", \"dm\": \"no\", \"cad\": \"yes\", \"appet\": \"good\", \"pe\": \"no\", \"ane\": \"no\", \"class\": \"ckd\"}, {\"age\": 60.0, \"bp\": 100.0, \"sg\": 1.02, \"al\": 2.0, \"su\": 0.0, \"rbc\": \"abnormal\", \"pc\": \"abnormal\", \"pcc\": \"notpresent\", \"ba\": \"notpresent\", \"bgr\": 140.0, \"bu\": 55.0, \"sc\": 2.5, \"sod\": 139.0, \"pot\": 4.5, \"hemo\": 10.1, \"pcv\": 29.0, \"wbcc\": 7900.0, \"rbcc\": 4.9, \"htn\": \"yes\", \"dm\": \"no\", \"cad\": \"no\", \"appet\": \"poor\", \"pe\": \"no\", \"ane\": \"no\", \"class\": \"ckd\"}, {\"age\": 70.0, \"bp\": 70.0, \"sg\": 1.01, \"al\": 1.0, \"su\": 0.0, \"rbc\": \"normal\", \"pc\": \"normal\", \"pcc\": \"present\", \"ba\": \"present\", \"bgr\": 171.0, \"bu\": 153.0, \"sc\": 5.2, \"sod\": 139.0, \"pot\": 4.5, \"hemo\": 13.85, \"pcv\": 42.0, \"wbcc\": 7900.0, \"rbcc\": 4.9, \"htn\": \"no\", \"dm\": \"yes\", \"cad\": \"no\", \"appet\": \"poor\", \"pe\": \"no\", \"ane\": \"no\", \"class\": \"ckd\"}, {\"age\": 65.0, \"bp\": 90.0, \"sg\": 1.02, \"al\": 2.0, \"su\": 1.0, \"rbc\": \"abnormal\", \"pc\": \"normal\", \"pcc\": \"notpresent\", \"ba\": \"notpresent\", \"bgr\": 270.0, \"bu\": 39.0, \"sc\": 2.0, \"sod\": 139.0, \"pot\": 4.5, \"hemo\": 12.0, \"pcv\": 36.0, \"wbcc\": 9800.0, \"rbcc\": 4.9, \"htn\": \"yes\", \"dm\": \"yes\", \"cad\": \"no\", \"appet\": \"poor\", \"pe\": \"no\", \"ane\": \"yes\", \"class\": \"ckd\"}, {\"age\": 76.0, \"bp\": 70.0, \"sg\": 1.015, \"al\": 1.0, \"su\": 0.0, \"rbc\": \"normal\", \"pc\": \"normal\", \"pcc\": \"notpresent\", \"ba\": \"notpresent\", \"bgr\": 92.0, \"bu\": 29.0, \"sc\": 1.8, \"sod\": 133.0, \"pot\": 3.9, \"hemo\": 10.3, \"pcv\": 32.0, \"wbcc\": 7900.0, \"rbcc\": 4.9, \"htn\": \"yes\", \"dm\": \"no\", \"cad\": \"no\", \"appet\": \"good\", \"pe\": \"no\", \"ane\": \"no\", \"class\": \"ckd\"}, {\"age\": 69.0, \"bp\": 80.0, \"sg\": 1.02, \"al\": 3.0, \"su\": 0.0, \"rbc\": \"abnormal\", \"pc\": \"normal\", \"pcc\": \"notpresent\", \"ba\": \"notpresent\", \"bgr\": 119.0, \"bu\": 103.0, \"sc\": 4.1, \"sod\": 132.0, \"pot\": 5.9, \"hemo\": 12.5, \"pcv\": 42.0, \"wbcc\": 7900.0, \"rbcc\": 4.9, \"htn\": \"yes\", \"dm\": \"no\", \"cad\": \"no\", \"appet\": \"good\", \"pe\": \"no\", \"ane\": \"no\", \"class\": \"ckd\"}, {\"age\": 82.0, \"bp\": 80.0, \"sg\": 1.01, \"al\": 2.0, \"su\": 2.0, \"rbc\": \"normal\", \"pc\": \"normal\", \"pcc\": \"notpresent\", \"ba\": \"notpresent\", \"bgr\": 140.0, \"bu\": 70.0, \"sc\": 3.4, \"sod\": 136.0, \"pot\": 4.2, \"hemo\": 13.0, \"pcv\": 40.0, \"wbcc\": 9800.0, \"rbcc\": 4.2, \"htn\": \"yes\", \"dm\": \"yes\", \"cad\": \"no\", \"appet\": \"good\", \"pe\": \"no\", \"ane\": \"no\", \"class\": \"ckd\"}, {\"age\": 46.0, \"bp\": 90.0, \"sg\": 1.01, \"al\": 2.0, \"su\": 0.0, \"rbc\": \"normal\", \"pc\": \"abnormal\", \"pcc\": \"notpresent\", \"ba\": \"notpresent\", \"bgr\": 99.0, \"bu\": 80.0, \"sc\": 2.1, \"sod\": 139.0, \"pot\": 4.5, \"hemo\": 11.1, \"pcv\": 32.0, \"wbcc\": 9100.0, \"rbcc\": 4.1, \"htn\": \"yes\", \"dm\": \"no\", \"cad\": \"no\", \"appet\": \"good\", \"pe\": \"no\", \"ane\": \"no\", \"class\": \"ckd\"}, {\"age\": 35.0, \"bp\": 80.0, \"sg\": 1.01, \"al\": 1.0, \"su\": 0.0, \"rbc\": \"abnormal\", \"pc\": \"normal\", \"pcc\": \"notpresent\", \"ba\": \"notpresent\", \"bgr\": 79.0, \"bu\": 202.0, \"sc\": 10.8, \"sod\": 134.0, \"pot\": 3.4, \"hemo\": 7.9, \"pcv\": 24.0, \"wbcc\": 7900.0, \"rbcc\": 3.1, \"htn\": \"no\", \"dm\": \"yes\", \"cad\": \"no\", \"appet\": \"good\", \"pe\": \"no\", \"ane\": \"no\", \"class\": \"ckd\"}, {\"age\": 54.0, \"bp\": 80.0, \"sg\": 1.01, \"al\": 3.0, \"su\": 0.0, \"rbc\": \"abnormal\", \"pc\": \"abnormal\", \"pcc\": \"notpresent\", \"ba\": \"notpresent\", \"bgr\": 207.0, \"bu\": 77.0, \"sc\": 6.3, \"sod\": 134.0, \"pot\": 4.8, \"hemo\": 9.7, \"pcv\": 28.0, \"wbcc\": 7900.0, \"rbcc\": 4.9, \"htn\": \"yes\", \"dm\": \"yes\", \"cad\": \"no\", \"appet\": \"poor\", \"pe\": \"yes\", \"ane\": \"no\", \"class\": \"ckd\"}, {\"age\": 73.0, \"bp\": 70.0, \"sg\": 1.005, \"al\": 0.0, \"su\": 0.0, \"rbc\": \"normal\", \"pc\": \"normal\", \"pcc\": \"notpresent\", \"ba\": \"notpresent\", \"bgr\": 70.0, \"bu\": 32.0, \"sc\": 0.9, \"sod\": 125.0, \"pot\": 4.0, \"hemo\": 10.0, \"pcv\": 29.0, \"wbcc\": 18900.0, \"rbcc\": 3.5, \"htn\": \"yes\", \"dm\": \"yes\", \"cad\": \"no\", \"appet\": \"good\", \"pe\": \"yes\", \"ane\": \"no\", \"class\": \"ckd\"}, {\"age\": 60.0, \"bp\": 70.0, \"sg\": 1.01, \"al\": 2.0, \"su\": 0.0, \"rbc\": \"normal\", \"pc\": \"abnormal\", \"pcc\": \"present\", \"ba\": \"notpresent\", \"bgr\": 144.0, \"bu\": 72.0, \"sc\": 3.0, \"sod\": 139.0, \"pot\": 4.5, \"hemo\": 9.7, \"pcv\": 29.0, \"wbcc\": 21600.0, \"rbcc\": 3.5, \"htn\": \"yes\", \"dm\": \"yes\", \"cad\": \"no\", \"appet\": \"poor\", \"pe\": \"no\", \"ane\": \"yes\", \"class\": \"ckd\"}, {\"age\": 63.0, \"bp\": 80.0, \"sg\": 1.01, \"al\": 2.0, \"su\": 2.0, \"rbc\": \"normal\", \"pc\": \"normal\", \"pcc\": \"notpresent\", \"ba\": \"notpresent\", \"bgr\": 119.0, \"bu\": 40.0, \"sc\": 3.4, \"sod\": 136.0, \"pot\": 4.2, \"hemo\": 13.0, \"pcv\": 40.0, \"wbcc\": 9800.0, \"rbcc\": 4.2, \"htn\": \"yes\", \"dm\": \"no\", \"cad\": \"yes\", \"appet\": \"good\", \"pe\": \"no\", \"ane\": \"no\", \"class\": \"ckd\"}, {\"age\": 35.0, \"bp\": 80.0, \"sg\": 1.005, \"al\": 3.0, \"su\": 0.0, \"rbc\": \"abnormal\", \"pc\": \"normal\", \"pcc\": \"notpresent\", \"ba\": \"notpresent\", \"bgr\": 119.0, \"bu\": 40.0, \"sc\": 1.15, \"sod\": 139.0, \"pot\": 4.5, \"hemo\": 9.5, \"pcv\": 28.0, \"wbcc\": 7900.0, \"rbcc\": 4.9, \"htn\": \"no\", \"dm\": \"no\", \"cad\": \"no\", \"appet\": \"good\", \"pe\": \"yes\", \"ane\": \"no\", \"class\": \"ckd\"}, {\"age\": 76.0, \"bp\": 70.0, \"sg\": 1.015, \"al\": 3.0, \"su\": 4.0, \"rbc\": \"normal\", \"pc\": \"abnormal\", \"pcc\": \"present\", \"ba\": \"notpresent\", \"bgr\": 119.0, \"bu\": 164.0, \"sc\": 9.7, \"sod\": 131.0, \"pot\": 4.4, \"hemo\": 10.2, \"pcv\": 30.0, \"wbcc\": 11300.0, \"rbcc\": 3.4, \"htn\": \"yes\", \"dm\": \"yes\", \"cad\": \"yes\", \"appet\": \"poor\", \"pe\": \"yes\", \"ane\": \"no\", \"class\": \"ckd\"}, {\"age\": 73.0, \"bp\": 80.0, \"sg\": 1.02, \"al\": 2.0, \"su\": 0.0, \"rbc\": \"abnormal\", \"pc\": \"abnormal\", \"pcc\": \"notpresent\", \"ba\": \"notpresent\", \"bgr\": 253.0, \"bu\": 142.0, \"sc\": 4.6, \"sod\": 138.0, \"pot\": 5.8, \"hemo\": 10.5, \"pcv\": 33.0, \"wbcc\": 7200.0, \"rbcc\": 4.3, \"htn\": \"yes\", \"dm\": \"yes\", \"cad\": \"yes\", \"appet\": \"good\", \"pe\": \"no\", \"ane\": \"no\", \"class\": \"ckd\"}, {\"age\": 67.0, \"bp\": 80.0, \"sg\": 1.01, \"al\": 1.0, \"su\": 3.0, \"rbc\": \"normal\", \"pc\": \"abnormal\", \"pcc\": \"notpresent\", \"ba\": \"notpresent\", \"bgr\": 182.0, \"bu\": 391.0, \"sc\": 32.0, \"sod\": 163.0, \"pot\": 39.0, \"hemo\": 13.85, \"pcv\": 42.0, \"wbcc\": 7900.0, \"rbcc\": 4.9, \"htn\": \"no\", \"dm\": \"no\", \"cad\": \"no\", \"appet\": \"good\", \"pe\": \"yes\", \"ane\": \"no\", \"class\": \"ckd\"}, {\"age\": 46.0, \"bp\": 70.0, \"sg\": 1.015, \"al\": 1.0, \"su\": 0.0, \"rbc\": \"abnormal\", \"pc\": \"normal\", \"pcc\": \"notpresent\", \"ba\": \"notpresent\", \"bgr\": 150.0, \"bu\": 111.0, \"sc\": 6.1, \"sod\": 131.0, \"pot\": 3.7, \"hemo\": 7.5, \"pcv\": 27.0, \"wbcc\": 7900.0, \"rbcc\": 4.9, \"htn\": \"no\", \"dm\": \"no\", \"cad\": \"no\", \"appet\": \"good\", \"pe\": \"no\", \"ane\": \"yes\", \"class\": \"ckd\"}, {\"age\": 67.0, \"bp\": 70.0, \"sg\": 1.02, \"al\": 2.0, \"su\": 0.0, \"rbc\": \"abnormal\", \"pc\": \"normal\", \"pcc\": \"notpresent\", \"ba\": \"notpresent\", \"bgr\": 150.0, \"bu\": 55.0, \"sc\": 1.6, \"sod\": 131.0, \"pot\": 4.8, \"hemo\": 13.85, \"pcv\": 42.0, \"wbcc\": 7900.0, \"rbcc\": 4.9, \"htn\": \"yes\", \"dm\": \"yes\", \"cad\": \"no\", \"appet\": \"good\", \"pe\": \"yes\", \"ane\": \"no\", \"class\": \"ckd\"}, {\"age\": 45.0, \"bp\": 80.0, \"sg\": 1.02, \"al\": 3.0, \"su\": 0.0, \"rbc\": \"normal\", \"pc\": \"abnormal\", \"pcc\": \"notpresent\", \"ba\": \"notpresent\", \"bgr\": 425.0, \"bu\": 40.0, \"sc\": 1.15, \"sod\": 139.0, \"pot\": 4.5, \"hemo\": 13.85, \"pcv\": 42.0, \"wbcc\": 7900.0, \"rbcc\": 4.9, \"htn\": \"no\", \"dm\": \"no\", \"cad\": \"no\", \"appet\": \"poor\", \"pe\": \"no\", \"ane\": \"no\", \"class\": \"ckd\"}, {\"age\": 46.0, \"bp\": 60.0, \"sg\": 1.01, \"al\": 1.0, \"su\": 0.0, \"rbc\": \"normal\", \"pc\": \"normal\", \"pcc\": \"notpresent\", \"ba\": \"notpresent\", \"bgr\": 163.0, \"bu\": 92.0, \"sc\": 3.3, \"sod\": 141.0, \"pot\": 4.0, \"hemo\": 9.8, \"pcv\": 28.0, \"wbcc\": 14600.0, \"rbcc\": 3.2, \"htn\": \"yes\", \"dm\": \"yes\", \"cad\": \"no\", \"appet\": \"good\", \"pe\": \"no\", \"ane\": \"no\", \"class\": \"ckd\"}, {\"age\": 50.0, \"bp\": 100.0, \"sg\": 1.015, \"al\": 2.0, \"su\": 0.0, \"rbc\": \"abnormal\", \"pc\": \"abnormal\", \"pcc\": \"notpresent\", \"ba\": \"notpresent\", \"bgr\": 129.0, \"bu\": 107.0, \"sc\": 6.7, \"sod\": 132.0, \"pot\": 4.4, \"hemo\": 4.8, \"pcv\": 14.0, \"wbcc\": 6300.0, \"rbcc\": 4.9, \"htn\": \"yes\", \"dm\": \"no\", \"cad\": \"no\", \"appet\": \"good\", \"pe\": \"yes\", \"ane\": \"yes\", \"class\": \"ckd\"}, {\"age\": 56.0, \"bp\": 90.0, \"sg\": 1.015, \"al\": 2.0, \"su\": 0.0, \"rbc\": \"abnormal\", \"pc\": \"abnormal\", \"pcc\": \"notpresent\", \"ba\": \"notpresent\", \"bgr\": 129.0, \"bu\": 107.0, \"sc\": 6.7, \"sod\": 131.0, \"pot\": 4.8, \"hemo\": 9.1, \"pcv\": 29.0, \"wbcc\": 6400.0, \"rbcc\": 3.4, \"htn\": \"yes\", \"dm\": \"no\", \"cad\": \"no\", \"appet\": \"good\", \"pe\": \"no\", \"ane\": \"no\", \"class\": \"ckd\"}, {\"age\": 48.0, \"bp\": 80.0, \"sg\": 1.005, \"al\": 4.0, \"su\": 0.0, \"rbc\": \"abnormal\", \"pc\": \"abnormal\", \"pcc\": \"notpresent\", \"ba\": \"present\", \"bgr\": 133.0, \"bu\": 139.0, \"sc\": 8.5, \"sod\": 132.0, \"pot\": 5.5, \"hemo\": 10.3, \"pcv\": 36.0, \"wbcc\": 6200.0, \"rbcc\": 4.0, \"htn\": \"no\", \"dm\": \"yes\", \"cad\": \"no\", \"appet\": \"good\", \"pe\": \"yes\", \"ane\": \"no\", \"class\": \"ckd\"}, {\"age\": 48.0, \"bp\": 70.0, \"sg\": 1.015, \"al\": 1.0, \"su\": 0.0, \"rbc\": \"normal\", \"pc\": \"normal\", \"pcc\": \"notpresent\", \"ba\": \"notpresent\", \"bgr\": 127.0, \"bu\": 19.0, \"sc\": 1.0, \"sod\": 134.0, \"pot\": 3.6, \"hemo\": 13.85, \"pcv\": 42.0, \"wbcc\": 7900.0, \"rbcc\": 4.9, \"htn\": \"yes\", \"dm\": \"yes\", \"cad\": \"no\", \"appet\": \"good\", \"pe\": \"no\", \"ane\": \"no\", \"class\": \"ckd\"}, {\"age\": 59.0, \"bp\": 70.0, \"sg\": 1.01, \"al\": 3.0, \"su\": 0.0, \"rbc\": \"normal\", \"pc\": \"abnormal\", \"pcc\": \"notpresent\", \"ba\": \"notpresent\", \"bgr\": 76.0, \"bu\": 186.0, \"sc\": 15.0, \"sod\": 135.0, \"pot\": 7.6, \"hemo\": 7.1, \"pcv\": 22.0, \"wbcc\": 3800.0, \"rbcc\": 2.1, \"htn\": \"yes\", \"dm\": \"no\", \"cad\": \"no\", \"appet\": \"poor\", \"pe\": \"yes\", \"ane\": \"yes\", \"class\": \"ckd\"}, {\"age\": 70.0, \"bp\": 100.0, \"sg\": 1.005, \"al\": 1.0, \"su\": 0.0, \"rbc\": \"normal\", \"pc\": \"abnormal\", \"pcc\": \"present\", \"ba\": \"notpresent\", \"bgr\": 169.0, \"bu\": 47.0, \"sc\": 2.9, \"sod\": 139.0, \"pot\": 4.5, \"hemo\": 11.1, \"pcv\": 32.0, \"wbcc\": 5800.0, \"rbcc\": 5.0, \"htn\": \"yes\", \"dm\": \"yes\", \"cad\": \"no\", \"appet\": \"poor\", \"pe\": \"no\", \"ane\": \"no\", \"class\": \"ckd\"}, {\"age\": 63.0, \"bp\": 100.0, \"sg\": 1.01, \"al\": 2.0, \"su\": 2.0, \"rbc\": \"normal\", \"pc\": \"normal\", \"pcc\": \"notpresent\", \"ba\": \"present\", \"bgr\": 280.0, \"bu\": 35.0, \"sc\": 3.2, \"sod\": 143.0, \"pot\": 3.5, \"hemo\": 13.0, \"pcv\": 40.0, \"wbcc\": 9800.0, \"rbcc\": 4.2, \"htn\": \"yes\", \"dm\": \"no\", \"cad\": \"yes\", \"appet\": \"good\", \"pe\": \"no\", \"ane\": \"no\", \"class\": \"ckd\"}, {\"age\": 56.0, \"bp\": 70.0, \"sg\": 1.015, \"al\": 4.0, \"su\": 1.0, \"rbc\": \"abnormal\", \"pc\": \"normal\", \"pcc\": \"notpresent\", \"ba\": \"notpresent\", \"bgr\": 210.0, \"bu\": 26.0, \"sc\": 1.7, \"sod\": 136.0, \"pot\": 3.8, \"hemo\": 16.1, \"pcv\": 52.0, \"wbcc\": 12500.0, \"rbcc\": 5.6, \"htn\": \"no\", \"dm\": \"no\", \"cad\": \"no\", \"appet\": \"good\", \"pe\": \"no\", \"ane\": \"no\", \"class\": \"ckd\"}, {\"age\": 71.0, \"bp\": 70.0, \"sg\": 1.01, \"al\": 3.0, \"su\": 0.0, \"rbc\": \"normal\", \"pc\": \"abnormal\", \"pcc\": \"present\", \"ba\": \"present\", \"bgr\": 219.0, \"bu\": 82.0, \"sc\": 3.6, \"sod\": 133.0, \"pot\": 4.4, \"hemo\": 10.4, \"pcv\": 33.0, \"wbcc\": 5600.0, \"rbcc\": 3.6, \"htn\": \"yes\", \"dm\": \"yes\", \"cad\": \"yes\", \"appet\": \"good\", \"pe\": \"no\", \"ane\": \"no\", \"class\": \"ckd\"}, {\"age\": 73.0, \"bp\": 100.0, \"sg\": 1.01, \"al\": 3.0, \"su\": 2.0, \"rbc\": \"abnormal\", \"pc\": \"abnormal\", \"pcc\": \"present\", \"ba\": \"notpresent\", \"bgr\": 295.0, \"bu\": 90.0, \"sc\": 5.6, \"sod\": 140.0, \"pot\": 2.9, \"hemo\": 9.2, \"pcv\": 30.0, \"wbcc\": 7000.0, \"rbcc\": 3.2, \"htn\": \"yes\", \"dm\": \"yes\", \"cad\": \"yes\", \"appet\": \"poor\", \"pe\": \"no\", \"ane\": \"no\", \"class\": \"ckd\"}, {\"age\": 34.0, \"bp\": 70.0, \"sg\": 1.015, \"al\": 4.0, \"su\": 0.0, \"rbc\": \"abnormal\", \"pc\": \"abnormal\", \"pcc\": \"notpresent\", \"ba\": \"notpresent\", \"bgr\": 153.0, \"bu\": 22.0, \"sc\": 0.9, \"sod\": 133.0, \"pot\": 3.8, \"hemo\": 13.85, \"pcv\": 42.0, \"wbcc\": 7900.0, \"rbcc\": 4.9, \"htn\": \"no\", \"dm\": \"no\", \"cad\": \"no\", \"appet\": \"good\", \"pe\": \"yes\", \"ane\": \"no\", \"class\": \"ckd\"}, {\"age\": 76.0, \"bp\": 70.0, \"sg\": 1.015, \"al\": 2.0, \"su\": 0.0, \"rbc\": \"normal\", \"pc\": \"abnormal\", \"pcc\": \"present\", \"ba\": \"notpresent\", \"bgr\": 226.0, \"bu\": 217.0, \"sc\": 10.2, \"sod\": 139.0, \"pot\": 4.5, \"hemo\": 10.2, \"pcv\": 36.0, \"wbcc\": 12700.0, \"rbcc\": 4.2, \"htn\": \"yes\", \"dm\": \"no\", \"cad\": \"no\", \"appet\": \"poor\", \"pe\": \"yes\", \"ane\": \"yes\", \"class\": \"ckd\"}, {\"age\": 55.0, \"bp\": 100.0, \"sg\": 1.015, \"al\": 1.0, \"su\": 4.0, \"rbc\": \"normal\", \"pc\": \"normal\", \"pcc\": \"notpresent\", \"ba\": \"notpresent\", \"bgr\": 297.0, \"bu\": 53.0, \"sc\": 2.8, \"sod\": 139.0, \"pot\": 4.5, \"hemo\": 11.2, \"pcv\": 34.0, \"wbcc\": 13600.0, \"rbcc\": 4.4, \"htn\": \"yes\", \"dm\": \"yes\", \"cad\": \"no\", \"appet\": \"good\", \"pe\": \"no\", \"ane\": \"no\", \"class\": \"ckd\"}, {\"age\": 50.0, \"bp\": 60.0, \"sg\": 1.015, \"al\": 3.0, \"su\": 0.0, \"rbc\": \"abnormal\", \"pc\": \"abnormal\", \"pcc\": \"notpresent\", \"ba\": \"notpresent\", \"bgr\": 119.0, \"bu\": 34.0, \"sc\": 1.2, \"sod\": 139.0, \"pot\": 4.5, \"hemo\": 10.8, \"pcv\": 33.0, \"wbcc\": 7900.0, \"rbcc\": 4.9, \"htn\": \"no\", \"dm\": \"no\", \"cad\": \"no\", \"appet\": \"good\", \"pe\": \"no\", \"ane\": \"no\", \"class\": \"ckd\"}, {\"age\": 12.0, \"bp\": 60.0, \"sg\": 1.015, \"al\": 3.0, \"su\": 0.0, \"rbc\": \"abnormal\", \"pc\": \"abnormal\", \"pcc\": \"present\", \"ba\": \"notpresent\", \"bgr\": 119.0, \"bu\": 51.0, \"sc\": 1.8, \"sod\": 139.0, \"pot\": 4.5, \"hemo\": 12.1, \"pcv\": 42.0, \"wbcc\": 10300.0, \"rbcc\": 4.9, \"htn\": \"no\", \"dm\": \"no\", \"cad\": \"no\", \"appet\": \"good\", \"pe\": \"no\", \"ane\": \"no\", \"class\": \"ckd\"}, {\"age\": 50.0, \"bp\": 70.0, \"sg\": 1.015, \"al\": 4.0, \"su\": 0.0, \"rbc\": \"abnormal\", \"pc\": \"normal\", \"pcc\": \"notpresent\", \"ba\": \"notpresent\", \"bgr\": 104.0, \"bu\": 16.0, \"sc\": 0.5, \"sod\": 139.0, \"pot\": 4.5, \"hemo\": 13.85, \"pcv\": 42.0, \"wbcc\": 7900.0, \"rbcc\": 4.9, \"htn\": \"no\", \"dm\": \"no\", \"cad\": \"no\", \"appet\": \"good\", \"pe\": \"yes\", \"ane\": \"no\", \"class\": \"ckd\"}, {\"age\": 71.0, \"bp\": 60.0, \"sg\": 1.015, \"al\": 4.0, \"su\": 0.0, \"rbc\": \"normal\", \"pc\": \"normal\", \"pcc\": \"notpresent\", \"ba\": \"notpresent\", \"bgr\": 118.0, \"bu\": 125.0, \"sc\": 5.3, \"sod\": 136.0, \"pot\": 4.9, \"hemo\": 11.4, \"pcv\": 35.0, \"wbcc\": 15200.0, \"rbcc\": 4.3, \"htn\": \"yes\", \"dm\": \"yes\", \"cad\": \"no\", \"appet\": \"poor\", \"pe\": \"yes\", \"ane\": \"no\", \"class\": \"ckd\"}, {\"age\": 52.0, \"bp\": 90.0, \"sg\": 1.015, \"al\": 4.0, \"su\": 3.0, \"rbc\": \"normal\", \"pc\": \"abnormal\", \"pcc\": \"notpresent\", \"ba\": \"notpresent\", \"bgr\": 224.0, \"bu\": 166.0, \"sc\": 5.6, \"sod\": 133.0, \"pot\": 47.0, \"hemo\": 8.1, \"pcv\": 23.0, \"wbcc\": 5000.0, \"rbcc\": 2.9, \"htn\": \"yes\", \"dm\": \"yes\", \"cad\": \"no\", \"appet\": \"good\", \"pe\": \"no\", \"ane\": \"yes\", \"class\": \"ckd\"}, {\"age\": 50.0, \"bp\": 90.0, \"sg\": 1.01, \"al\": 2.0, \"su\": 0.0, \"rbc\": \"normal\", \"pc\": \"abnormal\", \"pcc\": \"present\", \"ba\": \"present\", \"bgr\": 128.0, \"bu\": 208.0, \"sc\": 9.2, \"sod\": 134.0, \"pot\": 4.8, \"hemo\": 8.2, \"pcv\": 22.0, \"wbcc\": 16300.0, \"rbcc\": 2.7, \"htn\": \"no\", \"dm\": \"no\", \"cad\": \"no\", \"appet\": \"poor\", \"pe\": \"yes\", \"ane\": \"yes\", \"class\": \"ckd\"}, {\"age\": 50.0, \"bp\": 80.0, \"sg\": 1.02, \"al\": 0.0, \"su\": 0.0, \"rbc\": \"normal\", \"pc\": \"normal\", \"pcc\": \"notpresent\", \"ba\": \"notpresent\", \"bgr\": 219.0, \"bu\": 176.0, \"sc\": 13.8, \"sod\": 136.0, \"pot\": 4.5, \"hemo\": 8.6, \"pcv\": 24.0, \"wbcc\": 13200.0, \"rbcc\": 2.7, \"htn\": \"yes\", \"dm\": \"no\", \"cad\": \"no\", \"appet\": \"good\", \"pe\": \"yes\", \"ane\": \"yes\", \"class\": \"ckd\"}, {\"age\": 70.0, \"bp\": 100.0, \"sg\": 1.015, \"al\": 4.0, \"su\": 0.0, \"rbc\": \"normal\", \"pc\": \"normal\", \"pcc\": \"notpresent\", \"ba\": \"notpresent\", \"bgr\": 118.0, \"bu\": 125.0, \"sc\": 5.3, \"sod\": 136.0, \"pot\": 4.9, \"hemo\": 12.0, \"pcv\": 37.0, \"wbcc\": 8400.0, \"rbcc\": 8.0, \"htn\": \"yes\", \"dm\": \"no\", \"cad\": \"no\", \"appet\": \"good\", \"pe\": \"no\", \"ane\": \"no\", \"class\": \"ckd\"}, {\"age\": 47.0, \"bp\": 100.0, \"sg\": 1.01, \"al\": 0.0, \"su\": 0.0, \"rbc\": \"normal\", \"pc\": \"normal\", \"pcc\": \"notpresent\", \"ba\": \"notpresent\", \"bgr\": 122.0, \"bu\": 40.0, \"sc\": 16.9, \"sod\": 138.0, \"pot\": 5.2, \"hemo\": 10.8, \"pcv\": 33.0, \"wbcc\": 10200.0, \"rbcc\": 3.8, \"htn\": \"no\", \"dm\": \"yes\", \"cad\": \"no\", \"appet\": \"good\", \"pe\": \"no\", \"ane\": \"no\", \"class\": \"ckd\"}, {\"age\": 45.0, \"bp\": 60.0, \"sg\": 1.01, \"al\": 2.0, \"su\": 0.0, \"rbc\": \"normal\", \"pc\": \"abnormal\", \"pcc\": \"present\", \"ba\": \"notpresent\", \"bgr\": 268.0, \"bu\": 86.0, \"sc\": 4.0, \"sod\": 134.0, \"pot\": 5.1, \"hemo\": 10.0, \"pcv\": 29.0, \"wbcc\": 9200.0, \"rbcc\": 4.9, \"htn\": \"yes\", \"dm\": \"yes\", \"cad\": \"no\", \"appet\": \"good\", \"pe\": \"no\", \"ane\": \"no\", \"class\": \"ckd\"}, {\"age\": 67.0, \"bp\": 70.0, \"sg\": 1.01, \"al\": 1.0, \"su\": 0.0, \"rbc\": \"normal\", \"pc\": \"normal\", \"pcc\": \"notpresent\", \"ba\": \"notpresent\", \"bgr\": 119.0, \"bu\": 106.0, \"sc\": 6.0, \"sod\": 137.0, \"pot\": 4.9, \"hemo\": 6.1, \"pcv\": 19.0, \"wbcc\": 6500.0, \"rbcc\": 4.9, \"htn\": \"yes\", \"dm\": \"no\", \"cad\": \"no\", \"appet\": \"good\", \"pe\": \"no\", \"ane\": \"yes\", \"class\": \"ckd\"}, {\"age\": 41.0, \"bp\": 80.0, \"sg\": 1.015, \"al\": 1.0, \"su\": 4.0, \"rbc\": \"abnormal\", \"pc\": \"normal\", \"pcc\": \"notpresent\", \"ba\": \"notpresent\", \"bgr\": 210.0, \"bu\": 165.0, \"sc\": 18.0, \"sod\": 135.0, \"pot\": 4.7, \"hemo\": 13.85, \"pcv\": 42.0, \"wbcc\": 7900.0, \"rbcc\": 4.9, \"htn\": \"no\", \"dm\": \"yes\", \"cad\": \"no\", \"appet\": \"good\", \"pe\": \"no\", \"ane\": \"no\", \"class\": \"ckd\"}, {\"age\": 60.0, \"bp\": 90.0, \"sg\": 1.01, \"al\": 2.0, \"su\": 0.0, \"rbc\": \"abnormal\", \"pc\": \"normal\", \"pcc\": \"notpresent\", \"ba\": \"notpresent\", \"bgr\": 105.0, \"bu\": 53.0, \"sc\": 2.3, \"sod\": 136.0, \"pot\": 5.2, \"hemo\": 11.1, \"pcv\": 33.0, \"wbcc\": 10500.0, \"rbcc\": 4.1, \"htn\": \"no\", \"dm\": \"no\", \"cad\": \"no\", \"appet\": \"good\", \"pe\": \"no\", \"ane\": \"no\", \"class\": \"ckd\"}, {\"age\": 57.0, \"bp\": 90.0, \"sg\": 1.015, \"al\": 5.0, \"su\": 0.0, \"rbc\": \"abnormal\", \"pc\": \"abnormal\", \"pcc\": \"notpresent\", \"ba\": \"present\", \"bgr\": 119.0, \"bu\": 322.0, \"sc\": 13.0, \"sod\": 126.0, \"pot\": 4.8, \"hemo\": 8.0, \"pcv\": 24.0, \"wbcc\": 4200.0, \"rbcc\": 3.3, \"htn\": \"yes\", \"dm\": \"yes\", \"cad\": \"yes\", \"appet\": \"poor\", \"pe\": \"yes\", \"ane\": \"yes\", \"class\": \"ckd\"}, {\"age\": 53.0, \"bp\": 100.0, \"sg\": 1.01, \"al\": 1.0, \"su\": 3.0, \"rbc\": \"abnormal\", \"pc\": \"normal\", \"pcc\": \"notpresent\", \"ba\": \"notpresent\", \"bgr\": 213.0, \"bu\": 23.0, \"sc\": 1.0, \"sod\": 139.0, \"pot\": 4.0, \"hemo\": 13.85, \"pcv\": 42.0, \"wbcc\": 7900.0, \"rbcc\": 4.9, \"htn\": \"no\", \"dm\": \"yes\", \"cad\": \"no\", \"appet\": \"good\", \"pe\": \"no\", \"ane\": \"no\", \"class\": \"ckd\"}, {\"age\": 60.0, \"bp\": 60.0, \"sg\": 1.01, \"al\": 3.0, \"su\": 1.0, \"rbc\": \"normal\", \"pc\": \"abnormal\", \"pcc\": \"present\", \"ba\": \"notpresent\", \"bgr\": 288.0, \"bu\": 36.0, \"sc\": 1.7, \"sod\": 130.0, \"pot\": 3.0, \"hemo\": 7.9, \"pcv\": 25.0, \"wbcc\": 15200.0, \"rbcc\": 3.0, \"htn\": \"yes\", \"dm\": \"no\", \"cad\": \"no\", \"appet\": \"poor\", \"pe\": \"no\", \"ane\": \"yes\", \"class\": \"ckd\"}, {\"age\": 65.0, \"bp\": 70.0, \"sg\": 1.02, \"al\": 1.0, \"su\": 0.0, \"rbc\": \"abnormal\", \"pc\": \"abnormal\", \"pcc\": \"notpresent\", \"ba\": \"notpresent\", \"bgr\": 139.0, \"bu\": 29.0, \"sc\": 1.0, \"sod\": 139.0, \"pot\": 4.5, \"hemo\": 10.5, \"pcv\": 32.0, \"wbcc\": 7900.0, \"rbcc\": 4.9, \"htn\": \"yes\", \"dm\": \"no\", \"cad\": \"no\", \"appet\": \"good\", \"pe\": \"yes\", \"ane\": \"no\", \"class\": \"ckd\"}, {\"age\": 8.0, \"bp\": 60.0, \"sg\": 1.025, \"al\": 3.0, \"su\": 0.0, \"rbc\": \"normal\", \"pc\": \"normal\", \"pcc\": \"notpresent\", \"ba\": \"notpresent\", \"bgr\": 78.0, \"bu\": 27.0, \"sc\": 0.9, \"sod\": 139.0, \"pot\": 4.5, \"hemo\": 12.3, \"pcv\": 41.0, \"wbcc\": 6700.0, \"rbcc\": 4.9, \"htn\": \"no\", \"dm\": \"no\", \"cad\": \"no\", \"appet\": \"poor\", \"pe\": \"yes\", \"ane\": \"no\", \"class\": \"ckd\"}, {\"age\": 55.0, \"bp\": 90.0, \"sg\": 1.01, \"al\": 2.0, \"su\": 1.0, \"rbc\": \"abnormal\", \"pc\": \"abnormal\", \"pcc\": \"notpresent\", \"ba\": \"notpresent\", \"bgr\": 273.0, \"bu\": 235.0, \"sc\": 14.2, \"sod\": 132.0, \"pot\": 3.4, \"hemo\": 8.3, \"pcv\": 22.0, \"wbcc\": 14600.0, \"rbcc\": 2.9, \"htn\": \"yes\", \"dm\": \"yes\", \"cad\": \"no\", \"appet\": \"poor\", \"pe\": \"yes\", \"ane\": \"yes\", \"class\": \"ckd\"}, {\"age\": 56.0, \"bp\": 90.0, \"sg\": 1.005, \"al\": 4.0, \"su\": 3.0, \"rbc\": \"abnormal\", \"pc\": \"abnormal\", \"pcc\": \"notpresent\", \"ba\": \"notpresent\", \"bgr\": 242.0, \"bu\": 132.0, \"sc\": 16.4, \"sod\": 140.0, \"pot\": 4.2, \"hemo\": 8.4, \"pcv\": 26.0, \"wbcc\": 7900.0, \"rbcc\": 3.0, \"htn\": \"yes\", \"dm\": \"yes\", \"cad\": \"no\", \"appet\": \"poor\", \"pe\": \"yes\", \"ane\": \"yes\", \"class\": \"ckd\"}, {\"age\": 50.0, \"bp\": 70.0, \"sg\": 1.02, \"al\": 3.0, \"su\": 0.0, \"rbc\": \"abnormal\", \"pc\": \"normal\", \"pcc\": \"present\", \"ba\": \"present\", \"bgr\": 123.0, \"bu\": 40.0, \"sc\": 1.8, \"sod\": 139.0, \"pot\": 4.5, \"hemo\": 11.1, \"pcv\": 36.0, \"wbcc\": 4700.0, \"rbcc\": 4.9, \"htn\": \"no\", \"dm\": \"no\", \"cad\": \"no\", \"appet\": \"good\", \"pe\": \"no\", \"ane\": \"no\", \"class\": \"ckd\"}, {\"age\": 62.0, \"bp\": 70.0, \"sg\": 1.025, \"al\": 3.0, \"su\": 0.0, \"rbc\": \"normal\", \"pc\": \"abnormal\", \"pcc\": \"notpresent\", \"ba\": \"notpresent\", \"bgr\": 122.0, \"bu\": 42.0, \"sc\": 1.7, \"sod\": 136.0, \"pot\": 4.7, \"hemo\": 12.6, \"pcv\": 39.0, \"wbcc\": 7900.0, \"rbcc\": 3.9, \"htn\": \"yes\", \"dm\": \"yes\", \"cad\": \"no\", \"appet\": \"good\", \"pe\": \"no\", \"ane\": \"no\", \"class\": \"ckd\"}, {\"age\": 71.0, \"bp\": 60.0, \"sg\": 1.02, \"al\": 3.0, \"su\": 2.0, \"rbc\": \"normal\", \"pc\": \"normal\", \"pcc\": \"present\", \"ba\": \"notpresent\", \"bgr\": 424.0, \"bu\": 48.0, \"sc\": 1.5, \"sod\": 132.0, \"pot\": 4.0, \"hemo\": 10.9, \"pcv\": 31.0, \"wbcc\": 7900.0, \"rbcc\": 4.9, \"htn\": \"yes\", \"dm\": \"yes\", \"cad\": \"yes\", \"appet\": \"good\", \"pe\": \"no\", \"ane\": \"no\", \"class\": \"ckd\"}, {\"age\": 59.0, \"bp\": 80.0, \"sg\": 1.01, \"al\": 1.0, \"su\": 0.0, \"rbc\": \"abnormal\", \"pc\": \"normal\", \"pcc\": \"notpresent\", \"ba\": \"notpresent\", \"bgr\": 303.0, \"bu\": 35.0, \"sc\": 1.3, \"sod\": 122.0, \"pot\": 3.5, \"hemo\": 10.4, \"pcv\": 35.0, \"wbcc\": 10900.0, \"rbcc\": 4.3, \"htn\": \"no\", \"dm\": \"yes\", \"cad\": \"no\", \"appet\": \"poor\", \"pe\": \"no\", \"ane\": \"no\", \"class\": \"ckd\"}, {\"age\": 62.0, \"bp\": 80.0, \"sg\": 1.015, \"al\": 3.0, \"su\": 0.0, \"rbc\": \"abnormal\", \"pc\": \"normal\", \"pcc\": \"notpresent\", \"ba\": \"notpresent\", \"bgr\": 119.0, \"bu\": 40.0, \"sc\": 1.15, \"sod\": 139.0, \"pot\": 4.5, \"hemo\": 14.3, \"pcv\": 42.0, \"wbcc\": 10200.0, \"rbcc\": 4.8, \"htn\": \"yes\", \"dm\": \"yes\", \"cad\": \"no\", \"appet\": \"good\", \"pe\": \"no\", \"ane\": \"no\", \"class\": \"ckd\"}, {\"age\": 34.0, \"bp\": 70.0, \"sg\": 1.02, \"al\": 0.0, \"su\": 0.0, \"rbc\": \"abnormal\", \"pc\": \"normal\", \"pcc\": \"notpresent\", \"ba\": \"notpresent\", \"bgr\": 139.0, \"bu\": 19.0, \"sc\": 0.9, \"sod\": 139.0, \"pot\": 4.5, \"hemo\": 12.7, \"pcv\": 42.0, \"wbcc\": 2200.0, \"rbcc\": 4.9, \"htn\": \"no\", \"dm\": \"no\", \"cad\": \"no\", \"appet\": \"poor\", \"pe\": \"no\", \"ane\": \"no\", \"class\": \"ckd\"}, {\"age\": 83.0, \"bp\": 70.0, \"sg\": 1.02, \"al\": 3.0, \"su\": 0.0, \"rbc\": \"normal\", \"pc\": \"normal\", \"pcc\": \"notpresent\", \"ba\": \"notpresent\", \"bgr\": 102.0, \"bu\": 60.0, \"sc\": 2.6, \"sod\": 115.0, \"pot\": 5.7, \"hemo\": 8.7, \"pcv\": 26.0, \"wbcc\": 12800.0, \"rbcc\": 3.1, \"htn\": \"yes\", \"dm\": \"no\", \"cad\": \"no\", \"appet\": \"poor\", \"pe\": \"no\", \"ane\": \"yes\", \"class\": \"ckd\"}, {\"age\": 17.0, \"bp\": 70.0, \"sg\": 1.015, \"al\": 1.0, \"su\": 0.0, \"rbc\": \"abnormal\", \"pc\": \"normal\", \"pcc\": \"notpresent\", \"ba\": \"notpresent\", \"bgr\": 22.0, \"bu\": 1.5, \"sc\": 7.3, \"sod\": 145.0, \"pot\": 2.8, \"hemo\": 13.1, \"pcv\": 41.0, \"wbcc\": 11200.0, \"rbcc\": 4.9, \"htn\": \"no\", \"dm\": \"no\", \"cad\": \"no\", \"appet\": \"good\", \"pe\": \"no\", \"ane\": \"no\", \"class\": \"ckd\"}, {\"age\": 21.0, \"bp\": 90.0, \"sg\": 1.01, \"al\": 4.0, \"su\": 0.0, \"rbc\": \"normal\", \"pc\": \"abnormal\", \"pcc\": \"present\", \"ba\": \"present\", \"bgr\": 107.0, \"bu\": 40.0, \"sc\": 1.7, \"sod\": 125.0, \"pot\": 3.5, \"hemo\": 8.3, \"pcv\": 23.0, \"wbcc\": 12400.0, \"rbcc\": 3.9, \"htn\": \"no\", \"dm\": \"no\", \"cad\": \"no\", \"appet\": \"good\", \"pe\": \"no\", \"ane\": \"yes\", \"class\": \"ckd\"}, {\"age\": 65.0, \"bp\": 80.0, \"sg\": 1.015, \"al\": 2.0, \"su\": 1.0, \"rbc\": \"normal\", \"pc\": \"normal\", \"pcc\": \"present\", \"ba\": \"notpresent\", \"bgr\": 215.0, \"bu\": 133.0, \"sc\": 2.5, \"sod\": 139.0, \"pot\": 4.5, \"hemo\": 13.2, \"pcv\": 41.0, \"wbcc\": 7900.0, \"rbcc\": 4.9, \"htn\": \"no\", \"dm\": \"yes\", \"cad\": \"no\", \"appet\": \"good\", \"pe\": \"no\", \"ane\": \"no\", \"class\": \"ckd\"}, {\"age\": 42.0, \"bp\": 90.0, \"sg\": 1.02, \"al\": 2.0, \"su\": 0.0, \"rbc\": \"abnormal\", \"pc\": \"abnormal\", \"pcc\": \"present\", \"ba\": \"notpresent\", \"bgr\": 93.0, \"bu\": 153.0, \"sc\": 2.7, \"sod\": 139.0, \"pot\": 4.3, \"hemo\": 9.8, \"pcv\": 34.0, \"wbcc\": 9800.0, \"rbcc\": 4.9, \"htn\": \"no\", \"dm\": \"no\", \"cad\": \"no\", \"appet\": \"poor\", \"pe\": \"yes\", \"ane\": \"yes\", \"class\": \"ckd\"}, {\"age\": 73.0, \"bp\": 90.0, \"sg\": 1.01, \"al\": 1.0, \"su\": 4.0, \"rbc\": \"abnormal\", \"pc\": \"abnormal\", \"pcc\": \"present\", \"ba\": \"notpresent\", \"bgr\": 234.0, \"bu\": 56.0, \"sc\": 1.9, \"sod\": 139.0, \"pot\": 4.5, \"hemo\": 10.3, \"pcv\": 28.0, \"wbcc\": 7900.0, \"rbcc\": 4.9, \"htn\": \"no\", \"dm\": \"yes\", \"cad\": \"no\", \"appet\": \"good\", \"pe\": \"no\", \"ane\": \"no\", \"class\": \"ckd\"}, {\"age\": 45.0, \"bp\": 70.0, \"sg\": 1.025, \"al\": 2.0, \"su\": 0.0, \"rbc\": \"normal\", \"pc\": \"abnormal\", \"pcc\": \"present\", \"ba\": \"notpresent\", \"bgr\": 117.0, \"bu\": 52.0, \"sc\": 2.2, \"sod\": 136.0, \"pot\": 3.8, \"hemo\": 10.0, \"pcv\": 30.0, \"wbcc\": 19100.0, \"rbcc\": 3.7, \"htn\": \"no\", \"dm\": \"no\", \"cad\": \"no\", \"appet\": \"good\", \"pe\": \"no\", \"ane\": \"no\", \"class\": \"ckd\"}, {\"age\": 8.0, \"bp\": 50.0, \"sg\": 1.02, \"al\": 4.0, \"su\": 0.0, \"rbc\": \"normal\", \"pc\": \"normal\", \"pcc\": \"notpresent\", \"ba\": \"notpresent\", \"bgr\": 119.0, \"bu\": 46.0, \"sc\": 1.0, \"sod\": 135.0, \"pot\": 3.8, \"hemo\": 13.85, \"pcv\": 42.0, \"wbcc\": 7900.0, \"rbcc\": 4.9, \"htn\": \"no\", \"dm\": \"no\", \"cad\": \"no\", \"appet\": \"good\", \"pe\": \"yes\", \"ane\": \"no\", \"class\": \"ckd\"}, {\"age\": 3.0, \"bp\": 80.0, \"sg\": 1.01, \"al\": 2.0, \"su\": 0.0, \"rbc\": \"normal\", \"pc\": \"normal\", \"pcc\": \"notpresent\", \"ba\": \"notpresent\", \"bgr\": 119.0, \"bu\": 22.0, \"sc\": 0.7, \"sod\": 139.0, \"pot\": 4.5, \"hemo\": 10.7, \"pcv\": 34.0, \"wbcc\": 12300.0, \"rbcc\": 4.9, \"htn\": \"no\", \"dm\": \"no\", \"cad\": \"no\", \"appet\": \"good\", \"pe\": \"no\", \"ane\": \"no\", \"class\": \"ckd\"}, {\"age\": 64.0, \"bp\": 60.0, \"sg\": 1.01, \"al\": 4.0, \"su\": 1.0, \"rbc\": \"abnormal\", \"pc\": \"abnormal\", \"pcc\": \"notpresent\", \"ba\": \"present\", \"bgr\": 239.0, \"bu\": 58.0, \"sc\": 4.3, \"sod\": 137.0, \"pot\": 5.4, \"hemo\": 9.5, \"pcv\": 29.0, \"wbcc\": 7500.0, \"rbcc\": 3.4, \"htn\": \"yes\", \"dm\": \"yes\", \"cad\": \"no\", \"appet\": \"poor\", \"pe\": \"yes\", \"ane\": \"no\", \"class\": \"ckd\"}, {\"age\": 6.0, \"bp\": 60.0, \"sg\": 1.01, \"al\": 4.0, \"su\": 0.0, \"rbc\": \"abnormal\", \"pc\": \"abnormal\", \"pcc\": \"notpresent\", \"ba\": \"present\", \"bgr\": 94.0, \"bu\": 67.0, \"sc\": 1.0, \"sod\": 135.0, \"pot\": 4.9, \"hemo\": 9.9, \"pcv\": 30.0, \"wbcc\": 16700.0, \"rbcc\": 4.8, \"htn\": \"no\", \"dm\": \"no\", \"cad\": \"no\", \"appet\": \"poor\", \"pe\": \"no\", \"ane\": \"no\", \"class\": \"ckd\"}, {\"age\": 50.0, \"bp\": 70.0, \"sg\": 1.01, \"al\": 3.0, \"su\": 0.0, \"rbc\": \"normal\", \"pc\": \"normal\", \"pcc\": \"notpresent\", \"ba\": \"notpresent\", \"bgr\": 110.0, \"bu\": 115.0, \"sc\": 6.0, \"sod\": 134.0, \"pot\": 2.7, \"hemo\": 9.1, \"pcv\": 26.0, \"wbcc\": 9200.0, \"rbcc\": 3.4, \"htn\": \"yes\", \"dm\": \"yes\", \"cad\": \"no\", \"appet\": \"poor\", \"pe\": \"no\", \"ane\": \"no\", \"class\": \"ckd\"}, {\"age\": 32.0, \"bp\": 90.0, \"sg\": 1.025, \"al\": 1.0, \"su\": 0.0, \"rbc\": \"abnormal\", \"pc\": \"abnormal\", \"pcc\": \"notpresent\", \"ba\": \"notpresent\", \"bgr\": 119.0, \"bu\": 223.0, \"sc\": 18.1, \"sod\": 113.0, \"pot\": 6.5, \"hemo\": 5.5, \"pcv\": 15.0, \"wbcc\": 2600.0, \"rbcc\": 2.8, \"htn\": \"yes\", \"dm\": \"yes\", \"cad\": \"no\", \"appet\": \"poor\", \"pe\": \"yes\", \"ane\": \"yes\", \"class\": \"ckd\"}, {\"age\": 70.0, \"bp\": 90.0, \"sg\": 1.02, \"al\": 2.0, \"su\": 1.0, \"rbc\": \"abnormal\", \"pc\": \"abnormal\", \"pcc\": \"notpresent\", \"ba\": \"present\", \"bgr\": 184.0, \"bu\": 98.6, \"sc\": 3.3, \"sod\": 138.0, \"pot\": 3.9, \"hemo\": 5.8, \"pcv\": 42.0, \"wbcc\": 7900.0, \"rbcc\": 4.9, \"htn\": \"yes\", \"dm\": \"yes\", \"cad\": \"yes\", \"appet\": \"poor\", \"pe\": \"no\", \"ane\": \"no\", \"class\": \"ckd\"}, {\"age\": 49.0, \"bp\": 100.0, \"sg\": 1.01, \"al\": 3.0, \"su\": 0.0, \"rbc\": \"abnormal\", \"pc\": \"abnormal\", \"pcc\": \"notpresent\", \"ba\": \"notpresent\", \"bgr\": 129.0, \"bu\": 158.0, \"sc\": 11.8, \"sod\": 122.0, \"pot\": 3.2, \"hemo\": 8.1, \"pcv\": 24.0, \"wbcc\": 9600.0, \"rbcc\": 3.5, \"htn\": \"yes\", \"dm\": \"yes\", \"cad\": \"no\", \"appet\": \"poor\", \"pe\": \"yes\", \"ane\": \"yes\", \"class\": \"ckd\"}, {\"age\": 59.0, \"bp\": 100.0, \"sg\": 1.02, \"al\": 4.0, \"su\": 2.0, \"rbc\": \"normal\", \"pc\": \"normal\", \"pcc\": \"notpresent\", \"ba\": \"notpresent\", \"bgr\": 252.0, \"bu\": 40.0, \"sc\": 3.2, \"sod\": 137.0, \"pot\": 4.7, \"hemo\": 11.2, \"pcv\": 30.0, \"wbcc\": 26400.0, \"rbcc\": 3.9, \"htn\": \"yes\", \"dm\": \"yes\", \"cad\": \"no\", \"appet\": \"poor\", \"pe\": \"yes\", \"ane\": \"no\", \"class\": \"ckd\"}, {\"age\": 65.0, \"bp\": 90.0, \"sg\": 1.01, \"al\": 4.0, \"su\": 2.0, \"rbc\": \"normal\", \"pc\": \"normal\", \"pcc\": \"notpresent\", \"ba\": \"notpresent\", \"bgr\": 172.0, \"bu\": 82.0, \"sc\": 13.5, \"sod\": 145.0, \"pot\": 6.3, \"hemo\": 8.8, \"pcv\": 31.0, \"wbcc\": 7900.0, \"rbcc\": 4.9, \"htn\": \"yes\", \"dm\": \"yes\", \"cad\": \"no\", \"appet\": \"good\", \"pe\": \"yes\", \"ane\": \"yes\", \"class\": \"ckd\"}, {\"age\": 59.0, \"bp\": 100.0, \"sg\": 1.015, \"al\": 4.0, \"su\": 2.0, \"rbc\": \"normal\", \"pc\": \"normal\", \"pcc\": \"notpresent\", \"ba\": \"notpresent\", \"bgr\": 255.0, \"bu\": 132.0, \"sc\": 12.8, \"sod\": 135.0, \"pot\": 5.7, \"hemo\": 7.3, \"pcv\": 20.0, \"wbcc\": 9800.0, \"rbcc\": 3.9, \"htn\": \"yes\", \"dm\": \"yes\", \"cad\": \"yes\", \"appet\": \"good\", \"pe\": \"no\", \"ane\": \"yes\", \"class\": \"ckd\"}, {\"age\": 40.0, \"bp\": 70.0, \"sg\": 1.015, \"al\": 3.0, \"su\": 4.0, \"rbc\": \"normal\", \"pc\": \"normal\", \"pcc\": \"notpresent\", \"ba\": \"notpresent\", \"bgr\": 253.0, \"bu\": 150.0, \"sc\": 11.9, \"sod\": 132.0, \"pot\": 5.6, \"hemo\": 10.9, \"pcv\": 31.0, \"wbcc\": 8800.0, \"rbcc\": 3.4, \"htn\": \"yes\", \"dm\": \"yes\", \"cad\": \"no\", \"appet\": \"poor\", \"pe\": \"yes\", \"ane\": \"no\", \"class\": \"ckd\"}, {\"age\": 55.0, \"bp\": 80.0, \"sg\": 1.01, \"al\": 3.0, \"su\": 1.0, \"rbc\": \"normal\", \"pc\": \"abnormal\", \"pcc\": \"present\", \"ba\": \"present\", \"bgr\": 214.0, \"bu\": 73.0, \"sc\": 3.9, \"sod\": 137.0, \"pot\": 4.9, \"hemo\": 10.9, \"pcv\": 34.0, \"wbcc\": 7400.0, \"rbcc\": 3.7, \"htn\": \"yes\", \"dm\": \"yes\", \"cad\": \"no\", \"appet\": \"good\", \"pe\": \"yes\", \"ane\": \"no\", \"class\": \"ckd\"}, {\"age\": 2.0, \"bp\": 80.0, \"sg\": 1.01, \"al\": 3.0, \"su\": 0.0, \"rbc\": \"normal\", \"pc\": \"abnormal\", \"pcc\": \"notpresent\", \"ba\": \"notpresent\", \"bgr\": 119.0, \"bu\": 40.0, \"sc\": 1.15, \"sod\": 139.0, \"pot\": 4.5, \"hemo\": 13.85, \"pcv\": 42.0, \"wbcc\": 7900.0, \"rbcc\": 4.9, \"htn\": \"no\", \"dm\": \"no\", \"cad\": \"no\", \"appet\": \"good\", \"pe\": \"yes\", \"ane\": \"no\", \"class\": \"ckd\"}, {\"age\": 66.0, \"bp\": 70.0, \"sg\": 1.02, \"al\": 1.0, \"su\": 0.0, \"rbc\": \"normal\", \"pc\": \"normal\", \"pcc\": \"notpresent\", \"ba\": \"notpresent\", \"bgr\": 248.0, \"bu\": 30.0, \"sc\": 1.7, \"sod\": 138.0, \"pot\": 5.3, \"hemo\": 13.85, \"pcv\": 42.0, \"wbcc\": 7900.0, \"rbcc\": 4.9, \"htn\": \"yes\", \"dm\": \"yes\", \"cad\": \"no\", \"appet\": \"good\", \"pe\": \"no\", \"ane\": \"no\", \"class\": \"ckd\"}, {\"age\": 60.0, \"bp\": 90.0, \"sg\": 1.01, \"al\": 3.0, \"su\": 5.0, \"rbc\": \"abnormal\", \"pc\": \"normal\", \"pcc\": \"notpresent\", \"ba\": \"present\", \"bgr\": 490.0, \"bu\": 95.0, \"sc\": 2.7, \"sod\": 131.0, \"pot\": 3.8, \"hemo\": 11.5, \"pcv\": 35.0, \"wbcc\": 12000.0, \"rbcc\": 4.5, \"htn\": \"yes\", \"dm\": \"yes\", \"cad\": \"no\", \"appet\": \"good\", \"pe\": \"no\", \"ane\": \"no\", \"class\": \"ckd\"}, {\"age\": 64.0, \"bp\": 100.0, \"sg\": 1.015, \"al\": 4.0, \"su\": 2.0, \"rbc\": \"abnormal\", \"pc\": \"abnormal\", \"pcc\": \"notpresent\", \"ba\": \"present\", \"bgr\": 163.0, \"bu\": 54.0, \"sc\": 7.2, \"sod\": 140.0, \"pot\": 4.6, \"hemo\": 7.9, \"pcv\": 26.0, \"wbcc\": 7500.0, \"rbcc\": 3.4, \"htn\": \"yes\", \"dm\": \"yes\", \"cad\": \"no\", \"appet\": \"good\", \"pe\": \"yes\", \"ane\": \"no\", \"class\": \"ckd\"}, {\"age\": 59.0, \"bp\": 50.0, \"sg\": 1.01, \"al\": 3.0, \"su\": 0.0, \"rbc\": \"normal\", \"pc\": \"abnormal\", \"pcc\": \"notpresent\", \"ba\": \"notpresent\", \"bgr\": 241.0, \"bu\": 191.0, \"sc\": 12.0, \"sod\": 114.0, \"pot\": 2.9, \"hemo\": 9.6, \"pcv\": 31.0, \"wbcc\": 15700.0, \"rbcc\": 3.8, \"htn\": \"no\", \"dm\": \"yes\", \"cad\": \"no\", \"appet\": \"good\", \"pe\": \"yes\", \"ane\": \"no\", \"class\": \"ckd\"}, {\"age\": 65.0, \"bp\": 60.0, \"sg\": 1.01, \"al\": 2.0, \"su\": 0.0, \"rbc\": \"normal\", \"pc\": \"abnormal\", \"pcc\": \"present\", \"ba\": \"notpresent\", \"bgr\": 192.0, \"bu\": 17.0, \"sc\": 1.7, \"sod\": 130.0, \"pot\": 4.3, \"hemo\": 13.85, \"pcv\": 42.0, \"wbcc\": 9500.0, \"rbcc\": 4.9, \"htn\": \"yes\", \"dm\": \"yes\", \"cad\": \"no\", \"appet\": \"poor\", \"pe\": \"no\", \"ane\": \"no\", \"class\": \"ckd\"}, {\"age\": 50.0, \"bp\": 90.0, \"sg\": 1.015, \"al\": 1.0, \"su\": 0.0, \"rbc\": \"abnormal\", \"pc\": \"abnormal\", \"pcc\": \"notpresent\", \"ba\": \"notpresent\", \"bgr\": 119.0, \"bu\": 40.0, \"sc\": 1.15, \"sod\": 139.0, \"pot\": 4.5, \"hemo\": 13.85, \"pcv\": 42.0, \"wbcc\": 7900.0, \"rbcc\": 4.9, \"htn\": \"no\", \"dm\": \"no\", \"cad\": \"no\", \"appet\": \"good\", \"pe\": \"yes\", \"ane\": \"no\", \"class\": \"ckd\"}, {\"age\": 51.0, \"bp\": 100.0, \"sg\": 1.015, \"al\": 2.0, \"su\": 0.0, \"rbc\": \"normal\", \"pc\": \"normal\", \"pcc\": \"notpresent\", \"ba\": \"present\", \"bgr\": 93.0, \"bu\": 20.0, \"sc\": 1.6, \"sod\": 146.0, \"pot\": 4.5, \"hemo\": 13.85, \"pcv\": 42.0, \"wbcc\": 7900.0, \"rbcc\": 4.9, \"htn\": \"no\", \"dm\": \"no\", \"cad\": \"no\", \"appet\": \"poor\", \"pe\": \"no\", \"ane\": \"no\", \"class\": \"ckd\"}, {\"age\": 37.0, \"bp\": 100.0, \"sg\": 1.01, \"al\": 0.0, \"su\": 0.0, \"rbc\": \"abnormal\", \"pc\": \"normal\", \"pcc\": \"notpresent\", \"ba\": \"notpresent\", \"bgr\": 119.0, \"bu\": 19.0, \"sc\": 1.3, \"sod\": 139.0, \"pot\": 4.5, \"hemo\": 15.0, \"pcv\": 44.0, \"wbcc\": 4100.0, \"rbcc\": 5.2, \"htn\": \"yes\", \"dm\": \"no\", \"cad\": \"no\", \"appet\": \"good\", \"pe\": \"no\", \"ane\": \"no\", \"class\": \"ckd\"}, {\"age\": 34.0, \"bp\": 90.0, \"sg\": 1.015, \"al\": 2.0, \"su\": 0.0, \"rbc\": \"normal\", \"pc\": \"normal\", \"pcc\": \"notpresent\", \"ba\": \"notpresent\", \"bgr\": 104.0, \"bu\": 50.0, \"sc\": 1.6, \"sod\": 137.0, \"pot\": 4.1, \"hemo\": 11.9, \"pcv\": 39.0, \"wbcc\": 7900.0, \"rbcc\": 4.9, \"htn\": \"no\", \"dm\": \"no\", \"cad\": \"no\", \"appet\": \"good\", \"pe\": \"no\", \"ane\": \"no\", \"class\": \"ckd\"}, {\"age\": 69.0, \"bp\": 70.0, \"sg\": 1.01, \"al\": 4.0, \"su\": 3.0, \"rbc\": \"normal\", \"pc\": \"abnormal\", \"pcc\": \"present\", \"ba\": \"present\", \"bgr\": 214.0, \"bu\": 96.0, \"sc\": 6.3, \"sod\": 120.0, \"pot\": 3.9, \"hemo\": 9.4, \"pcv\": 28.0, \"wbcc\": 11500.0, \"rbcc\": 3.3, \"htn\": \"yes\", \"dm\": \"yes\", \"cad\": \"yes\", \"appet\": \"good\", \"pe\": \"yes\", \"ane\": \"yes\", \"class\": \"ckd\"}, {\"age\": 48.0, \"bp\": 110.0, \"sg\": 1.015, \"al\": 3.0, \"su\": 0.0, \"rbc\": \"abnormal\", \"pc\": \"normal\", \"pcc\": \"present\", \"ba\": \"notpresent\", \"bgr\": 106.0, \"bu\": 215.0, \"sc\": 15.2, \"sod\": 120.0, \"pot\": 5.7, \"hemo\": 8.6, \"pcv\": 26.0, \"wbcc\": 5000.0, \"rbcc\": 2.5, \"htn\": \"yes\", \"dm\": \"no\", \"cad\": \"yes\", \"appet\": \"good\", \"pe\": \"no\", \"ane\": \"yes\", \"class\": \"ckd\"}, {\"age\": 54.0, \"bp\": 90.0, \"sg\": 1.025, \"al\": 1.0, \"su\": 0.0, \"rbc\": \"normal\", \"pc\": \"abnormal\", \"pcc\": \"notpresent\", \"ba\": \"notpresent\", \"bgr\": 150.0, \"bu\": 18.0, \"sc\": 1.2, \"sod\": 140.0, \"pot\": 4.2, \"hemo\": 13.85, \"pcv\": 42.0, \"wbcc\": 7900.0, \"rbcc\": 4.9, \"htn\": \"no\", \"dm\": \"no\", \"cad\": \"no\", \"appet\": \"poor\", \"pe\": \"yes\", \"ane\": \"yes\", \"class\": \"ckd\"}, {\"age\": 59.0, \"bp\": 70.0, \"sg\": 1.01, \"al\": 1.0, \"su\": 3.0, \"rbc\": \"abnormal\", \"pc\": \"abnormal\", \"pcc\": \"notpresent\", \"ba\": \"notpresent\", \"bgr\": 424.0, \"bu\": 55.0, \"sc\": 1.7, \"sod\": 138.0, \"pot\": 4.5, \"hemo\": 12.6, \"pcv\": 37.0, \"wbcc\": 10200.0, \"rbcc\": 4.1, \"htn\": \"yes\", \"dm\": \"yes\", \"cad\": \"yes\", \"appet\": \"good\", \"pe\": \"no\", \"ane\": \"no\", \"class\": \"ckd\"}, {\"age\": 56.0, \"bp\": 90.0, \"sg\": 1.01, \"al\": 4.0, \"su\": 1.0, \"rbc\": \"normal\", \"pc\": \"abnormal\", \"pcc\": \"present\", \"ba\": \"notpresent\", \"bgr\": 176.0, \"bu\": 309.0, \"sc\": 13.3, \"sod\": 124.0, \"pot\": 6.5, \"hemo\": 3.1, \"pcv\": 9.0, \"wbcc\": 5400.0, \"rbcc\": 2.1, \"htn\": \"yes\", \"dm\": \"yes\", \"cad\": \"no\", \"appet\": \"poor\", \"pe\": \"yes\", \"ane\": \"yes\", \"class\": \"ckd\"}, {\"age\": 40.0, \"bp\": 80.0, \"sg\": 1.025, \"al\": 0.0, \"su\": 0.0, \"rbc\": \"normal\", \"pc\": \"normal\", \"pcc\": \"notpresent\", \"ba\": \"notpresent\", \"bgr\": 140.0, \"bu\": 10.0, \"sc\": 1.2, \"sod\": 135.0, \"pot\": 5.0, \"hemo\": 15.0, \"pcv\": 48.0, \"wbcc\": 10400.0, \"rbcc\": 4.5, \"htn\": \"no\", \"dm\": \"no\", \"cad\": \"no\", \"appet\": \"good\", \"pe\": \"no\", \"ane\": \"no\", \"class\": \"notckd\"}, {\"age\": 23.0, \"bp\": 80.0, \"sg\": 1.025, \"al\": 0.0, \"su\": 0.0, \"rbc\": \"normal\", \"pc\": \"normal\", \"pcc\": \"notpresent\", \"ba\": \"notpresent\", \"bgr\": 70.0, \"bu\": 36.0, \"sc\": 1.0, \"sod\": 150.0, \"pot\": 4.6, \"hemo\": 17.0, \"pcv\": 52.0, \"wbcc\": 9800.0, \"rbcc\": 5.0, \"htn\": \"no\", \"dm\": \"no\", \"cad\": \"no\", \"appet\": \"good\", \"pe\": \"no\", \"ane\": \"no\", \"class\": \"notckd\"}, {\"age\": 45.0, \"bp\": 80.0, \"sg\": 1.025, \"al\": 0.0, \"su\": 0.0, \"rbc\": \"normal\", \"pc\": \"normal\", \"pcc\": \"notpresent\", \"ba\": \"notpresent\", \"bgr\": 82.0, \"bu\": 49.0, \"sc\": 0.6, \"sod\": 147.0, \"pot\": 4.4, \"hemo\": 15.9, \"pcv\": 46.0, \"wbcc\": 9100.0, \"rbcc\": 4.7, \"htn\": \"no\", \"dm\": \"no\", \"cad\": \"no\", \"appet\": \"good\", \"pe\": \"no\", \"ane\": \"no\", \"class\": \"notckd\"}, {\"age\": 57.0, \"bp\": 80.0, \"sg\": 1.025, \"al\": 0.0, \"su\": 0.0, \"rbc\": \"normal\", \"pc\": \"normal\", \"pcc\": \"notpresent\", \"ba\": \"notpresent\", \"bgr\": 119.0, \"bu\": 17.0, \"sc\": 1.2, \"sod\": 135.0, \"pot\": 4.7, \"hemo\": 15.4, \"pcv\": 42.0, \"wbcc\": 6200.0, \"rbcc\": 6.2, \"htn\": \"no\", \"dm\": \"no\", \"cad\": \"no\", \"appet\": \"good\", \"pe\": \"no\", \"ane\": \"no\", \"class\": \"notckd\"}, {\"age\": 51.0, \"bp\": 60.0, \"sg\": 1.025, \"al\": 0.0, \"su\": 0.0, \"rbc\": \"normal\", \"pc\": \"normal\", \"pcc\": \"notpresent\", \"ba\": \"notpresent\", \"bgr\": 99.0, \"bu\": 38.0, \"sc\": 0.8, \"sod\": 135.0, \"pot\": 3.7, \"hemo\": 13.0, \"pcv\": 49.0, \"wbcc\": 8300.0, \"rbcc\": 5.2, \"htn\": \"no\", \"dm\": \"no\", \"cad\": \"no\", \"appet\": \"good\", \"pe\": \"no\", \"ane\": \"no\", \"class\": \"notckd\"}, {\"age\": 34.0, \"bp\": 80.0, \"sg\": 1.025, \"al\": 0.0, \"su\": 0.0, \"rbc\": \"normal\", \"pc\": \"normal\", \"pcc\": \"notpresent\", \"ba\": \"notpresent\", \"bgr\": 121.0, \"bu\": 27.0, \"sc\": 1.2, \"sod\": 144.0, \"pot\": 3.9, \"hemo\": 13.6, \"pcv\": 52.0, \"wbcc\": 9200.0, \"rbcc\": 6.3, \"htn\": \"no\", \"dm\": \"no\", \"cad\": \"no\", \"appet\": \"good\", \"pe\": \"no\", \"ane\": \"no\", \"class\": \"notckd\"}, {\"age\": 60.0, \"bp\": 80.0, \"sg\": 1.025, \"al\": 0.0, \"su\": 0.0, \"rbc\": \"normal\", \"pc\": \"normal\", \"pcc\": \"notpresent\", \"ba\": \"notpresent\", \"bgr\": 131.0, \"bu\": 10.0, \"sc\": 0.5, \"sod\": 146.0, \"pot\": 5.0, \"hemo\": 14.5, \"pcv\": 41.0, \"wbcc\": 10700.0, \"rbcc\": 5.1, \"htn\": \"no\", \"dm\": \"no\", \"cad\": \"no\", \"appet\": \"good\", \"pe\": \"no\", \"ane\": \"no\", \"class\": \"notckd\"}, {\"age\": 38.0, \"bp\": 60.0, \"sg\": 1.02, \"al\": 0.0, \"su\": 0.0, \"rbc\": \"normal\", \"pc\": \"normal\", \"pcc\": \"notpresent\", \"ba\": \"notpresent\", \"bgr\": 91.0, \"bu\": 36.0, \"sc\": 0.7, \"sod\": 135.0, \"pot\": 3.7, \"hemo\": 14.0, \"pcv\": 46.0, \"wbcc\": 9100.0, \"rbcc\": 5.8, \"htn\": \"no\", \"dm\": \"no\", \"cad\": \"no\", \"appet\": \"good\", \"pe\": \"no\", \"ane\": \"no\", \"class\": \"notckd\"}, {\"age\": 42.0, \"bp\": 80.0, \"sg\": 1.02, \"al\": 0.0, \"su\": 0.0, \"rbc\": \"normal\", \"pc\": \"normal\", \"pcc\": \"notpresent\", \"ba\": \"notpresent\", \"bgr\": 98.0, \"bu\": 20.0, \"sc\": 0.5, \"sod\": 140.0, \"pot\": 3.5, \"hemo\": 13.9, \"pcv\": 44.0, \"wbcc\": 8400.0, \"rbcc\": 5.5, \"htn\": \"no\", \"dm\": \"no\", \"cad\": \"no\", \"appet\": \"good\", \"pe\": \"no\", \"ane\": \"no\", \"class\": \"notckd\"}, {\"age\": 35.0, \"bp\": 80.0, \"sg\": 1.02, \"al\": 0.0, \"su\": 0.0, \"rbc\": \"normal\", \"pc\": \"normal\", \"pcc\": \"notpresent\", \"ba\": \"notpresent\", \"bgr\": 104.0, \"bu\": 31.0, \"sc\": 1.2, \"sod\": 135.0, \"pot\": 5.0, \"hemo\": 16.1, \"pcv\": 45.0, \"wbcc\": 4300.0, \"rbcc\": 5.2, \"htn\": \"no\", \"dm\": \"no\", \"cad\": \"no\", \"appet\": \"good\", \"pe\": \"no\", \"ane\": \"no\", \"class\": \"notckd\"}, {\"age\": 30.0, \"bp\": 80.0, \"sg\": 1.02, \"al\": 0.0, \"su\": 0.0, \"rbc\": \"normal\", \"pc\": \"normal\", \"pcc\": \"notpresent\", \"ba\": \"notpresent\", \"bgr\": 131.0, \"bu\": 38.0, \"sc\": 1.0, \"sod\": 147.0, \"pot\": 3.8, \"hemo\": 14.1, \"pcv\": 45.0, \"wbcc\": 9400.0, \"rbcc\": 5.3, \"htn\": \"no\", \"dm\": \"no\", \"cad\": \"no\", \"appet\": \"good\", \"pe\": \"no\", \"ane\": \"no\", \"class\": \"notckd\"}, {\"age\": 49.0, \"bp\": 80.0, \"sg\": 1.02, \"al\": 0.0, \"su\": 0.0, \"rbc\": \"normal\", \"pc\": \"normal\", \"pcc\": \"notpresent\", \"ba\": \"notpresent\", \"bgr\": 122.0, \"bu\": 32.0, \"sc\": 1.2, \"sod\": 139.0, \"pot\": 3.9, \"hemo\": 17.0, \"pcv\": 41.0, \"wbcc\": 5600.0, \"rbcc\": 4.9, \"htn\": \"no\", \"dm\": \"no\", \"cad\": \"no\", \"appet\": \"good\", \"pe\": \"no\", \"ane\": \"no\", \"class\": \"notckd\"}, {\"age\": 55.0, \"bp\": 80.0, \"sg\": 1.02, \"al\": 0.0, \"su\": 0.0, \"rbc\": \"normal\", \"pc\": \"normal\", \"pcc\": \"notpresent\", \"ba\": \"notpresent\", \"bgr\": 118.0, \"bu\": 18.0, \"sc\": 0.9, \"sod\": 135.0, \"pot\": 3.6, \"hemo\": 15.5, \"pcv\": 43.0, \"wbcc\": 7200.0, \"rbcc\": 5.4, \"htn\": \"no\", \"dm\": \"no\", \"cad\": \"no\", \"appet\": \"good\", \"pe\": \"no\", \"ane\": \"no\", \"class\": \"notckd\"}, {\"age\": 45.0, \"bp\": 80.0, \"sg\": 1.02, \"al\": 0.0, \"su\": 0.0, \"rbc\": \"normal\", \"pc\": \"normal\", \"pcc\": \"notpresent\", \"ba\": \"notpresent\", \"bgr\": 117.0, \"bu\": 46.0, \"sc\": 1.2, \"sod\": 137.0, \"pot\": 5.0, \"hemo\": 16.2, \"pcv\": 45.0, \"wbcc\": 8600.0, \"rbcc\": 5.2, \"htn\": \"no\", \"dm\": \"no\", \"cad\": \"no\", \"appet\": \"good\", \"pe\": \"no\", \"ane\": \"no\", \"class\": \"notckd\"}, {\"age\": 42.0, \"bp\": 80.0, \"sg\": 1.02, \"al\": 0.0, \"su\": 0.0, \"rbc\": \"normal\", \"pc\": \"normal\", \"pcc\": \"notpresent\", \"ba\": \"notpresent\", \"bgr\": 132.0, \"bu\": 24.0, \"sc\": 0.7, \"sod\": 140.0, \"pot\": 4.1, \"hemo\": 14.4, \"pcv\": 50.0, \"wbcc\": 5000.0, \"rbcc\": 4.5, \"htn\": \"no\", \"dm\": \"no\", \"cad\": \"no\", \"appet\": \"good\", \"pe\": \"no\", \"ane\": \"no\", \"class\": \"notckd\"}, {\"age\": 50.0, \"bp\": 80.0, \"sg\": 1.02, \"al\": 0.0, \"su\": 0.0, \"rbc\": \"normal\", \"pc\": \"normal\", \"pcc\": \"notpresent\", \"ba\": \"notpresent\", \"bgr\": 97.0, \"bu\": 40.0, \"sc\": 0.6, \"sod\": 150.0, \"pot\": 4.5, \"hemo\": 14.2, \"pcv\": 48.0, \"wbcc\": 10500.0, \"rbcc\": 5.0, \"htn\": \"no\", \"dm\": \"no\", \"cad\": \"no\", \"appet\": \"good\", \"pe\": \"no\", \"ane\": \"no\", \"class\": \"notckd\"}, {\"age\": 55.0, \"bp\": 80.0, \"sg\": 1.02, \"al\": 0.0, \"su\": 0.0, \"rbc\": \"normal\", \"pc\": \"normal\", \"pcc\": \"notpresent\", \"ba\": \"notpresent\", \"bgr\": 133.0, \"bu\": 17.0, \"sc\": 1.2, \"sod\": 135.0, \"pot\": 4.8, \"hemo\": 13.2, \"pcv\": 41.0, \"wbcc\": 6800.0, \"rbcc\": 5.3, \"htn\": \"no\", \"dm\": \"no\", \"cad\": \"no\", \"appet\": \"good\", \"pe\": \"no\", \"ane\": \"no\", \"class\": \"notckd\"}, {\"age\": 48.0, \"bp\": 80.0, \"sg\": 1.025, \"al\": 0.0, \"su\": 0.0, \"rbc\": \"normal\", \"pc\": \"normal\", \"pcc\": \"notpresent\", \"ba\": \"notpresent\", \"bgr\": 122.0, \"bu\": 33.0, \"sc\": 0.9, \"sod\": 146.0, \"pot\": 3.9, \"hemo\": 13.9, \"pcv\": 48.0, \"wbcc\": 9500.0, \"rbcc\": 4.8, \"htn\": \"no\", \"dm\": \"no\", \"cad\": \"no\", \"appet\": \"good\", \"pe\": \"no\", \"ane\": \"no\", \"class\": \"notckd\"}, {\"age\": 25.0, \"bp\": 80.0, \"sg\": 1.025, \"al\": 0.0, \"su\": 0.0, \"rbc\": \"normal\", \"pc\": \"normal\", \"pcc\": \"notpresent\", \"ba\": \"notpresent\", \"bgr\": 121.0, \"bu\": 19.0, \"sc\": 1.2, \"sod\": 142.0, \"pot\": 4.9, \"hemo\": 15.0, \"pcv\": 48.0, \"wbcc\": 6900.0, \"rbcc\": 5.3, \"htn\": \"no\", \"dm\": \"no\", \"cad\": \"no\", \"appet\": \"good\", \"pe\": \"no\", \"ane\": \"no\", \"class\": \"notckd\"}, {\"age\": 23.0, \"bp\": 80.0, \"sg\": 1.025, \"al\": 0.0, \"su\": 0.0, \"rbc\": \"normal\", \"pc\": \"normal\", \"pcc\": \"notpresent\", \"ba\": \"notpresent\", \"bgr\": 111.0, \"bu\": 34.0, \"sc\": 1.1, \"sod\": 145.0, \"pot\": 4.0, \"hemo\": 14.3, \"pcv\": 41.0, \"wbcc\": 7200.0, \"rbcc\": 5.0, \"htn\": \"no\", \"dm\": \"no\", \"cad\": \"no\", \"appet\": \"good\", \"pe\": \"no\", \"ane\": \"no\", \"class\": \"notckd\"}, {\"age\": 30.0, \"bp\": 80.0, \"sg\": 1.025, \"al\": 0.0, \"su\": 0.0, \"rbc\": \"normal\", \"pc\": \"normal\", \"pcc\": \"notpresent\", \"ba\": \"notpresent\", \"bgr\": 96.0, \"bu\": 25.0, \"sc\": 0.5, \"sod\": 144.0, \"pot\": 4.8, \"hemo\": 13.8, \"pcv\": 42.0, \"wbcc\": 9000.0, \"rbcc\": 4.5, \"htn\": \"no\", \"dm\": \"no\", \"cad\": \"no\", \"appet\": \"good\", \"pe\": \"no\", \"ane\": \"no\", \"class\": \"notckd\"}, {\"age\": 56.0, \"bp\": 80.0, \"sg\": 1.025, \"al\": 0.0, \"su\": 0.0, \"rbc\": \"normal\", \"pc\": \"normal\", \"pcc\": \"notpresent\", \"ba\": \"notpresent\", \"bgr\": 139.0, \"bu\": 15.0, \"sc\": 1.2, \"sod\": 135.0, \"pot\": 5.0, \"hemo\": 14.8, \"pcv\": 42.0, \"wbcc\": 5600.0, \"rbcc\": 5.5, \"htn\": \"no\", \"dm\": \"no\", \"cad\": \"no\", \"appet\": \"good\", \"pe\": \"no\", \"ane\": \"no\", \"class\": \"notckd\"}, {\"age\": 47.0, \"bp\": 80.0, \"sg\": 1.02, \"al\": 0.0, \"su\": 0.0, \"rbc\": \"normal\", \"pc\": \"normal\", \"pcc\": \"notpresent\", \"ba\": \"notpresent\", \"bgr\": 95.0, \"bu\": 35.0, \"sc\": 0.9, \"sod\": 140.0, \"pot\": 4.1, \"hemo\": 13.85, \"pcv\": 42.0, \"wbcc\": 7900.0, \"rbcc\": 4.9, \"htn\": \"no\", \"dm\": \"no\", \"cad\": \"no\", \"appet\": \"good\", \"pe\": \"no\", \"ane\": \"no\", \"class\": \"notckd\"}, {\"age\": 19.0, \"bp\": 80.0, \"sg\": 1.02, \"al\": 0.0, \"su\": 0.0, \"rbc\": \"normal\", \"pc\": \"normal\", \"pcc\": \"notpresent\", \"ba\": \"notpresent\", \"bgr\": 107.0, \"bu\": 23.0, \"sc\": 0.7, \"sod\": 141.0, \"pot\": 4.2, \"hemo\": 14.4, \"pcv\": 44.0, \"wbcc\": 7900.0, \"rbcc\": 4.9, \"htn\": \"no\", \"dm\": \"no\", \"cad\": \"no\", \"appet\": \"good\", \"pe\": \"no\", \"ane\": \"no\", \"class\": \"notckd\"}, {\"age\": 52.0, \"bp\": 80.0, \"sg\": 1.02, \"al\": 0.0, \"su\": 0.0, \"rbc\": \"normal\", \"pc\": \"normal\", \"pcc\": \"notpresent\", \"ba\": \"notpresent\", \"bgr\": 125.0, \"bu\": 22.0, \"sc\": 1.2, \"sod\": 139.0, \"pot\": 4.6, \"hemo\": 16.5, \"pcv\": 43.0, \"wbcc\": 4700.0, \"rbcc\": 4.6, \"htn\": \"no\", \"dm\": \"no\", \"cad\": \"no\", \"appet\": \"good\", \"pe\": \"no\", \"ane\": \"no\", \"class\": \"notckd\"}, {\"age\": 20.0, \"bp\": 60.0, \"sg\": 1.025, \"al\": 0.0, \"su\": 0.0, \"rbc\": \"normal\", \"pc\": \"normal\", \"pcc\": \"notpresent\", \"ba\": \"notpresent\", \"bgr\": 119.0, \"bu\": 40.0, \"sc\": 1.15, \"sod\": 137.0, \"pot\": 4.7, \"hemo\": 14.0, \"pcv\": 41.0, \"wbcc\": 4500.0, \"rbcc\": 5.5, \"htn\": \"no\", \"dm\": \"no\", \"cad\": \"no\", \"appet\": \"good\", \"pe\": \"no\", \"ane\": \"no\", \"class\": \"notckd\"}, {\"age\": 46.0, \"bp\": 60.0, \"sg\": 1.025, \"al\": 0.0, \"su\": 0.0, \"rbc\": \"normal\", \"pc\": \"normal\", \"pcc\": \"notpresent\", \"ba\": \"notpresent\", \"bgr\": 123.0, \"bu\": 46.0, \"sc\": 1.0, \"sod\": 135.0, \"pot\": 5.0, \"hemo\": 15.7, \"pcv\": 50.0, \"wbcc\": 6300.0, \"rbcc\": 4.8, \"htn\": \"no\", \"dm\": \"no\", \"cad\": \"no\", \"appet\": \"good\", \"pe\": \"no\", \"ane\": \"no\", \"class\": \"notckd\"}, {\"age\": 48.0, \"bp\": 60.0, \"sg\": 1.02, \"al\": 0.0, \"su\": 0.0, \"rbc\": \"normal\", \"pc\": \"normal\", \"pcc\": \"notpresent\", \"ba\": \"notpresent\", \"bgr\": 112.0, \"bu\": 44.0, \"sc\": 1.2, \"sod\": 142.0, \"pot\": 4.9, \"hemo\": 14.5, \"pcv\": 44.0, \"wbcc\": 9400.0, \"rbcc\": 6.4, \"htn\": \"no\", \"dm\": \"no\", \"cad\": \"no\", \"appet\": \"good\", \"pe\": \"no\", \"ane\": \"no\", \"class\": \"notckd\"}, {\"age\": 24.0, \"bp\": 70.0, \"sg\": 1.025, \"al\": 0.0, \"su\": 0.0, \"rbc\": \"normal\", \"pc\": \"normal\", \"pcc\": \"notpresent\", \"ba\": \"notpresent\", \"bgr\": 140.0, \"bu\": 23.0, \"sc\": 0.6, \"sod\": 140.0, \"pot\": 4.7, \"hemo\": 16.3, \"pcv\": 48.0, \"wbcc\": 5800.0, \"rbcc\": 5.6, \"htn\": \"no\", \"dm\": \"no\", \"cad\": \"no\", \"appet\": \"good\", \"pe\": \"no\", \"ane\": \"no\", \"class\": \"notckd\"}, {\"age\": 55.0, \"bp\": 80.0, \"sg\": 1.025, \"al\": 0.0, \"su\": 0.0, \"rbc\": \"normal\", \"pc\": \"normal\", \"pcc\": \"notpresent\", \"ba\": \"notpresent\", \"bgr\": 130.0, \"bu\": 50.0, \"sc\": 1.2, \"sod\": 147.0, \"pot\": 5.0, \"hemo\": 15.5, \"pcv\": 41.0, \"wbcc\": 9100.0, \"rbcc\": 6.0, \"htn\": \"no\", \"dm\": \"no\", \"cad\": \"no\", \"appet\": \"good\", \"pe\": \"no\", \"ane\": \"no\", \"class\": \"notckd\"}, {\"age\": 20.0, \"bp\": 70.0, \"sg\": 1.02, \"al\": 0.0, \"su\": 0.0, \"rbc\": \"normal\", \"pc\": \"normal\", \"pcc\": \"notpresent\", \"ba\": \"notpresent\", \"bgr\": 123.0, \"bu\": 44.0, \"sc\": 1.0, \"sod\": 135.0, \"pot\": 3.8, \"hemo\": 14.6, \"pcv\": 44.0, \"wbcc\": 5500.0, \"rbcc\": 4.8, \"htn\": \"no\", \"dm\": \"no\", \"cad\": \"no\", \"appet\": \"good\", \"pe\": \"no\", \"ane\": \"no\", \"class\": \"notckd\"}, {\"age\": 60.0, \"bp\": 70.0, \"sg\": 1.02, \"al\": 0.0, \"su\": 0.0, \"rbc\": \"normal\", \"pc\": \"normal\", \"pcc\": \"notpresent\", \"ba\": \"notpresent\", \"bgr\": 119.0, \"bu\": 40.0, \"sc\": 1.15, \"sod\": 139.0, \"pot\": 4.5, \"hemo\": 16.4, \"pcv\": 43.0, \"wbcc\": 10800.0, \"rbcc\": 5.7, \"htn\": \"no\", \"dm\": \"no\", \"cad\": \"no\", \"appet\": \"good\", \"pe\": \"no\", \"ane\": \"no\", \"class\": \"notckd\"}, {\"age\": 33.0, \"bp\": 80.0, \"sg\": 1.025, \"al\": 0.0, \"su\": 0.0, \"rbc\": \"normal\", \"pc\": \"normal\", \"pcc\": \"notpresent\", \"ba\": \"notpresent\", \"bgr\": 100.0, \"bu\": 37.0, \"sc\": 1.2, \"sod\": 142.0, \"pot\": 4.0, \"hemo\": 16.9, \"pcv\": 52.0, \"wbcc\": 6700.0, \"rbcc\": 6.0, \"htn\": \"no\", \"dm\": \"no\", \"cad\": \"no\", \"appet\": \"good\", \"pe\": \"no\", \"ane\": \"no\", \"class\": \"notckd\"}, {\"age\": 66.0, \"bp\": 70.0, \"sg\": 1.02, \"al\": 0.0, \"su\": 0.0, \"rbc\": \"normal\", \"pc\": \"normal\", \"pcc\": \"notpresent\", \"ba\": \"notpresent\", \"bgr\": 94.0, \"bu\": 19.0, \"sc\": 0.7, \"sod\": 135.0, \"pot\": 3.9, \"hemo\": 16.0, \"pcv\": 41.0, \"wbcc\": 5300.0, \"rbcc\": 5.9, \"htn\": \"no\", \"dm\": \"no\", \"cad\": \"no\", \"appet\": \"good\", \"pe\": \"no\", \"ane\": \"no\", \"class\": \"notckd\"}, {\"age\": 71.0, \"bp\": 70.0, \"sg\": 1.02, \"al\": 0.0, \"su\": 0.0, \"rbc\": \"normal\", \"pc\": \"normal\", \"pcc\": \"notpresent\", \"ba\": \"notpresent\", \"bgr\": 81.0, \"bu\": 18.0, \"sc\": 0.8, \"sod\": 145.0, \"pot\": 5.0, \"hemo\": 14.7, \"pcv\": 44.0, \"wbcc\": 9800.0, \"rbcc\": 6.0, \"htn\": \"no\", \"dm\": \"no\", \"cad\": \"no\", \"appet\": \"good\", \"pe\": \"no\", \"ane\": \"no\", \"class\": \"notckd\"}, {\"age\": 39.0, \"bp\": 70.0, \"sg\": 1.025, \"al\": 0.0, \"su\": 0.0, \"rbc\": \"normal\", \"pc\": \"normal\", \"pcc\": \"notpresent\", \"ba\": \"notpresent\", \"bgr\": 124.0, \"bu\": 22.0, \"sc\": 0.6, \"sod\": 137.0, \"pot\": 3.8, \"hemo\": 13.4, \"pcv\": 43.0, \"wbcc\": 7900.0, \"rbcc\": 4.9, \"htn\": \"no\", \"dm\": \"no\", \"cad\": \"no\", \"appet\": \"good\", \"pe\": \"no\", \"ane\": \"no\", \"class\": \"notckd\"}, {\"age\": 56.0, \"bp\": 70.0, \"sg\": 1.025, \"al\": 0.0, \"su\": 0.0, \"rbc\": \"normal\", \"pc\": \"normal\", \"pcc\": \"notpresent\", \"ba\": \"notpresent\", \"bgr\": 70.0, \"bu\": 46.0, \"sc\": 1.2, \"sod\": 135.0, \"pot\": 4.9, \"hemo\": 15.9, \"pcv\": 50.0, \"wbcc\": 11000.0, \"rbcc\": 5.1, \"htn\": \"no\", \"dm\": \"no\", \"cad\": \"no\", \"appet\": \"good\", \"pe\": \"no\", \"ane\": \"no\", \"class\": \"notckd\"}, {\"age\": 42.0, \"bp\": 70.0, \"sg\": 1.02, \"al\": 0.0, \"su\": 0.0, \"rbc\": \"normal\", \"pc\": \"normal\", \"pcc\": \"notpresent\", \"ba\": \"notpresent\", \"bgr\": 93.0, \"bu\": 32.0, \"sc\": 0.9, \"sod\": 143.0, \"pot\": 4.7, \"hemo\": 16.6, \"pcv\": 43.0, \"wbcc\": 7100.0, \"rbcc\": 5.3, \"htn\": \"no\", \"dm\": \"no\", \"cad\": \"no\", \"appet\": \"good\", \"pe\": \"no\", \"ane\": \"no\", \"class\": \"notckd\"}, {\"age\": 47.0, \"bp\": 80.0, \"sg\": 1.025, \"al\": 0.0, \"su\": 0.0, \"rbc\": \"normal\", \"pc\": \"normal\", \"pcc\": \"notpresent\", \"ba\": \"notpresent\", \"bgr\": 124.0, \"bu\": 44.0, \"sc\": 1.0, \"sod\": 140.0, \"pot\": 4.9, \"hemo\": 14.9, \"pcv\": 41.0, \"wbcc\": 7000.0, \"rbcc\": 5.7, \"htn\": \"no\", \"dm\": \"no\", \"cad\": \"no\", \"appet\": \"good\", \"pe\": \"no\", \"ane\": \"no\", \"class\": \"notckd\"}, {\"age\": 30.0, \"bp\": 80.0, \"sg\": 1.02, \"al\": 0.0, \"su\": 0.0, \"rbc\": \"normal\", \"pc\": \"normal\", \"pcc\": \"notpresent\", \"ba\": \"notpresent\", \"bgr\": 89.0, \"bu\": 42.0, \"sc\": 0.5, \"sod\": 139.0, \"pot\": 5.0, \"hemo\": 16.7, \"pcv\": 52.0, \"wbcc\": 10200.0, \"rbcc\": 5.0, \"htn\": \"no\", \"dm\": \"no\", \"cad\": \"no\", \"appet\": \"good\", \"pe\": \"no\", \"ane\": \"no\", \"class\": \"notckd\"}, {\"age\": 50.0, \"bp\": 80.0, \"sg\": 1.02, \"al\": 0.0, \"su\": 0.0, \"rbc\": \"normal\", \"pc\": \"normal\", \"pcc\": \"notpresent\", \"ba\": \"notpresent\", \"bgr\": 92.0, \"bu\": 19.0, \"sc\": 1.2, \"sod\": 150.0, \"pot\": 4.8, \"hemo\": 14.9, \"pcv\": 48.0, \"wbcc\": 4700.0, \"rbcc\": 5.4, \"htn\": \"no\", \"dm\": \"no\", \"cad\": \"no\", \"appet\": \"good\", \"pe\": \"no\", \"ane\": \"no\", \"class\": \"notckd\"}, {\"age\": 75.0, \"bp\": 60.0, \"sg\": 1.02, \"al\": 0.0, \"su\": 0.0, \"rbc\": \"normal\", \"pc\": \"normal\", \"pcc\": \"notpresent\", \"ba\": \"notpresent\", \"bgr\": 110.0, \"bu\": 50.0, \"sc\": 0.7, \"sod\": 135.0, \"pot\": 5.0, \"hemo\": 14.3, \"pcv\": 40.0, \"wbcc\": 8300.0, \"rbcc\": 5.8, \"htn\": \"no\", \"dm\": \"no\", \"cad\": \"no\", \"appet\": \"good\", \"pe\": \"no\", \"ane\": \"no\", \"class\": \"notckd\"}, {\"age\": 41.0, \"bp\": 70.0, \"sg\": 1.02, \"al\": 0.0, \"su\": 0.0, \"rbc\": \"normal\", \"pc\": \"normal\", \"pcc\": \"notpresent\", \"ba\": \"notpresent\", \"bgr\": 125.0, \"bu\": 38.0, \"sc\": 0.6, \"sod\": 140.0, \"pot\": 5.0, \"hemo\": 16.8, \"pcv\": 41.0, \"wbcc\": 6300.0, \"rbcc\": 5.9, \"htn\": \"no\", \"dm\": \"no\", \"cad\": \"no\", \"appet\": \"good\", \"pe\": \"no\", \"ane\": \"no\", \"class\": \"notckd\"}, {\"age\": 53.0, \"bp\": 60.0, \"sg\": 1.025, \"al\": 0.0, \"su\": 0.0, \"rbc\": \"normal\", \"pc\": \"normal\", \"pcc\": \"notpresent\", \"ba\": \"notpresent\", \"bgr\": 116.0, \"bu\": 26.0, \"sc\": 1.0, \"sod\": 146.0, \"pot\": 4.9, \"hemo\": 15.8, \"pcv\": 45.0, \"wbcc\": 7700.0, \"rbcc\": 5.2, \"htn\": \"no\", \"dm\": \"no\", \"cad\": \"no\", \"appet\": \"good\", \"pe\": \"no\", \"ane\": \"no\", \"class\": \"notckd\"}, {\"age\": 34.0, \"bp\": 60.0, \"sg\": 1.02, \"al\": 0.0, \"su\": 0.0, \"rbc\": \"normal\", \"pc\": \"normal\", \"pcc\": \"notpresent\", \"ba\": \"notpresent\", \"bgr\": 91.0, \"bu\": 49.0, \"sc\": 1.2, \"sod\": 135.0, \"pot\": 4.5, \"hemo\": 13.5, \"pcv\": 48.0, \"wbcc\": 8600.0, \"rbcc\": 4.9, \"htn\": \"no\", \"dm\": \"no\", \"cad\": \"no\", \"appet\": \"good\", \"pe\": \"no\", \"ane\": \"no\", \"class\": \"notckd\"}, {\"age\": 73.0, \"bp\": 60.0, \"sg\": 1.02, \"al\": 0.0, \"su\": 0.0, \"rbc\": \"normal\", \"pc\": \"normal\", \"pcc\": \"notpresent\", \"ba\": \"notpresent\", \"bgr\": 127.0, \"bu\": 48.0, \"sc\": 0.5, \"sod\": 150.0, \"pot\": 3.5, \"hemo\": 15.1, \"pcv\": 52.0, \"wbcc\": 11000.0, \"rbcc\": 4.7, \"htn\": \"no\", \"dm\": \"no\", \"cad\": \"no\", \"appet\": \"good\", \"pe\": \"no\", \"ane\": \"no\", \"class\": \"notckd\"}, {\"age\": 45.0, \"bp\": 60.0, \"sg\": 1.02, \"al\": 0.0, \"su\": 0.0, \"rbc\": \"normal\", \"pc\": \"normal\", \"pcc\": \"notpresent\", \"ba\": \"notpresent\", \"bgr\": 114.0, \"bu\": 26.0, \"sc\": 0.7, \"sod\": 141.0, \"pot\": 4.2, \"hemo\": 15.0, \"pcv\": 43.0, \"wbcc\": 9200.0, \"rbcc\": 5.8, \"htn\": \"no\", \"dm\": \"no\", \"cad\": \"no\", \"appet\": \"good\", \"pe\": \"no\", \"ane\": \"no\", \"class\": \"notckd\"}, {\"age\": 44.0, \"bp\": 60.0, \"sg\": 1.025, \"al\": 0.0, \"su\": 0.0, \"rbc\": \"normal\", \"pc\": \"normal\", \"pcc\": \"notpresent\", \"ba\": \"notpresent\", \"bgr\": 96.0, \"bu\": 33.0, \"sc\": 0.9, \"sod\": 147.0, \"pot\": 4.5, \"hemo\": 16.9, \"pcv\": 41.0, \"wbcc\": 7200.0, \"rbcc\": 5.0, \"htn\": \"no\", \"dm\": \"no\", \"cad\": \"no\", \"appet\": \"good\", \"pe\": \"no\", \"ane\": \"no\", \"class\": \"notckd\"}, {\"age\": 29.0, \"bp\": 70.0, \"sg\": 1.02, \"al\": 0.0, \"su\": 0.0, \"rbc\": \"normal\", \"pc\": \"normal\", \"pcc\": \"notpresent\", \"ba\": \"notpresent\", \"bgr\": 127.0, \"bu\": 44.0, \"sc\": 1.2, \"sod\": 145.0, \"pot\": 5.0, \"hemo\": 14.8, \"pcv\": 48.0, \"wbcc\": 7900.0, \"rbcc\": 4.9, \"htn\": \"no\", \"dm\": \"no\", \"cad\": \"no\", \"appet\": \"good\", \"pe\": \"no\", \"ane\": \"no\", \"class\": \"notckd\"}, {\"age\": 55.0, \"bp\": 70.0, \"sg\": 1.02, \"al\": 0.0, \"su\": 0.0, \"rbc\": \"normal\", \"pc\": \"normal\", \"pcc\": \"notpresent\", \"ba\": \"notpresent\", \"bgr\": 107.0, \"bu\": 26.0, \"sc\": 1.1, \"sod\": 139.0, \"pot\": 4.5, \"hemo\": 17.0, \"pcv\": 50.0, \"wbcc\": 6700.0, \"rbcc\": 6.1, \"htn\": \"no\", \"dm\": \"no\", \"cad\": \"no\", \"appet\": \"good\", \"pe\": \"no\", \"ane\": \"no\", \"class\": \"notckd\"}, {\"age\": 33.0, \"bp\": 80.0, \"sg\": 1.025, \"al\": 0.0, \"su\": 0.0, \"rbc\": \"normal\", \"pc\": \"normal\", \"pcc\": \"notpresent\", \"ba\": \"notpresent\", \"bgr\": 128.0, \"bu\": 38.0, \"sc\": 0.6, \"sod\": 135.0, \"pot\": 3.9, \"hemo\": 13.1, \"pcv\": 45.0, \"wbcc\": 6200.0, \"rbcc\": 4.5, \"htn\": \"no\", \"dm\": \"no\", \"cad\": \"no\", \"appet\": \"good\", \"pe\": \"no\", \"ane\": \"no\", \"class\": \"notckd\"}, {\"age\": 41.0, \"bp\": 80.0, \"sg\": 1.02, \"al\": 0.0, \"su\": 0.0, \"rbc\": \"normal\", \"pc\": \"normal\", \"pcc\": \"notpresent\", \"ba\": \"notpresent\", \"bgr\": 122.0, \"bu\": 25.0, \"sc\": 0.8, \"sod\": 138.0, \"pot\": 5.0, \"hemo\": 17.1, \"pcv\": 41.0, \"wbcc\": 9100.0, \"rbcc\": 5.2, \"htn\": \"no\", \"dm\": \"no\", \"cad\": \"no\", \"appet\": \"good\", \"pe\": \"no\", \"ane\": \"no\", \"class\": \"notckd\"}, {\"age\": 52.0, \"bp\": 80.0, \"sg\": 1.02, \"al\": 0.0, \"su\": 0.0, \"rbc\": \"normal\", \"pc\": \"normal\", \"pcc\": \"notpresent\", \"ba\": \"notpresent\", \"bgr\": 128.0, \"bu\": 30.0, \"sc\": 1.2, \"sod\": 140.0, \"pot\": 4.5, \"hemo\": 15.2, \"pcv\": 52.0, \"wbcc\": 4300.0, \"rbcc\": 5.7, \"htn\": \"no\", \"dm\": \"no\", \"cad\": \"no\", \"appet\": \"good\", \"pe\": \"no\", \"ane\": \"no\", \"class\": \"notckd\"}, {\"age\": 47.0, \"bp\": 60.0, \"sg\": 1.02, \"al\": 0.0, \"su\": 0.0, \"rbc\": \"normal\", \"pc\": \"normal\", \"pcc\": \"notpresent\", \"ba\": \"notpresent\", \"bgr\": 137.0, \"bu\": 17.0, \"sc\": 0.5, \"sod\": 150.0, \"pot\": 3.5, \"hemo\": 13.6, \"pcv\": 44.0, \"wbcc\": 7900.0, \"rbcc\": 4.5, \"htn\": \"no\", \"dm\": \"no\", \"cad\": \"no\", \"appet\": \"good\", \"pe\": \"no\", \"ane\": \"no\", \"class\": \"notckd\"}, {\"age\": 43.0, \"bp\": 80.0, \"sg\": 1.025, \"al\": 0.0, \"su\": 0.0, \"rbc\": \"normal\", \"pc\": \"normal\", \"pcc\": \"notpresent\", \"ba\": \"notpresent\", \"bgr\": 81.0, \"bu\": 46.0, \"sc\": 0.6, \"sod\": 135.0, \"pot\": 4.9, \"hemo\": 13.9, \"pcv\": 48.0, \"wbcc\": 6900.0, \"rbcc\": 4.9, \"htn\": \"no\", \"dm\": \"no\", \"cad\": \"no\", \"appet\": \"good\", \"pe\": \"no\", \"ane\": \"no\", \"class\": \"notckd\"}, {\"age\": 46.0, \"bp\": 60.0, \"sg\": 1.02, \"al\": 0.0, \"su\": 0.0, \"rbc\": \"normal\", \"pc\": \"normal\", \"pcc\": \"notpresent\", \"ba\": \"notpresent\", \"bgr\": 102.0, \"bu\": 27.0, \"sc\": 0.7, \"sod\": 142.0, \"pot\": 4.9, \"hemo\": 13.2, \"pcv\": 44.0, \"wbcc\": 11000.0, \"rbcc\": 5.4, \"htn\": \"no\", \"dm\": \"no\", \"cad\": \"no\", \"appet\": \"good\", \"pe\": \"no\", \"ane\": \"no\", \"class\": \"notckd\"}, {\"age\": 56.0, \"bp\": 60.0, \"sg\": 1.025, \"al\": 0.0, \"su\": 0.0, \"rbc\": \"normal\", \"pc\": \"normal\", \"pcc\": \"notpresent\", \"ba\": \"notpresent\", \"bgr\": 132.0, \"bu\": 18.0, \"sc\": 1.1, \"sod\": 147.0, \"pot\": 4.7, \"hemo\": 13.7, \"pcv\": 45.0, \"wbcc\": 7500.0, \"rbcc\": 5.6, \"htn\": \"no\", \"dm\": \"no\", \"cad\": \"no\", \"appet\": \"good\", \"pe\": \"no\", \"ane\": \"no\", \"class\": \"notckd\"}, {\"age\": 80.0, \"bp\": 70.0, \"sg\": 1.02, \"al\": 0.0, \"su\": 0.0, \"rbc\": \"normal\", \"pc\": \"normal\", \"pcc\": \"notpresent\", \"ba\": \"notpresent\", \"bgr\": 119.0, \"bu\": 40.0, \"sc\": 1.15, \"sod\": 135.0, \"pot\": 4.1, \"hemo\": 15.3, \"pcv\": 48.0, \"wbcc\": 6300.0, \"rbcc\": 6.1, \"htn\": \"no\", \"dm\": \"no\", \"cad\": \"no\", \"appet\": \"good\", \"pe\": \"no\", \"ane\": \"no\", \"class\": \"notckd\"}, {\"age\": 55.0, \"bp\": 80.0, \"sg\": 1.02, \"al\": 0.0, \"su\": 0.0, \"rbc\": \"normal\", \"pc\": \"normal\", \"pcc\": \"notpresent\", \"ba\": \"notpresent\", \"bgr\": 104.0, \"bu\": 28.0, \"sc\": 0.9, \"sod\": 142.0, \"pot\": 4.8, \"hemo\": 17.3, \"pcv\": 52.0, \"wbcc\": 8200.0, \"rbcc\": 4.8, \"htn\": \"no\", \"dm\": \"no\", \"cad\": \"no\", \"appet\": \"good\", \"pe\": \"no\", \"ane\": \"no\", \"class\": \"notckd\"}, {\"age\": 39.0, \"bp\": 70.0, \"sg\": 1.025, \"al\": 0.0, \"su\": 0.0, \"rbc\": \"normal\", \"pc\": \"normal\", \"pcc\": \"notpresent\", \"ba\": \"notpresent\", \"bgr\": 131.0, \"bu\": 46.0, \"sc\": 0.6, \"sod\": 145.0, \"pot\": 5.0, \"hemo\": 15.6, \"pcv\": 41.0, \"wbcc\": 9400.0, \"rbcc\": 4.7, \"htn\": \"no\", \"dm\": \"no\", \"cad\": \"no\", \"appet\": \"good\", \"pe\": \"no\", \"ane\": \"no\", \"class\": \"notckd\"}, {\"age\": 44.0, \"bp\": 70.0, \"sg\": 1.025, \"al\": 0.0, \"su\": 0.0, \"rbc\": \"normal\", \"pc\": \"normal\", \"pcc\": \"notpresent\", \"ba\": \"notpresent\", \"bgr\": 119.0, \"bu\": 40.0, \"sc\": 1.15, \"sod\": 139.0, \"pot\": 4.5, \"hemo\": 13.8, \"pcv\": 48.0, \"wbcc\": 7800.0, \"rbcc\": 4.4, \"htn\": \"no\", \"dm\": \"no\", \"cad\": \"no\", \"appet\": \"good\", \"pe\": \"no\", \"ane\": \"no\", \"class\": \"notckd\"}, {\"age\": 35.0, \"bp\": 80.0, \"sg\": 1.02, \"al\": 0.0, \"su\": 0.0, \"rbc\": \"normal\", \"pc\": \"normal\", \"pcc\": \"notpresent\", \"ba\": \"notpresent\", \"bgr\": 99.0, \"bu\": 30.0, \"sc\": 0.5, \"sod\": 135.0, \"pot\": 4.9, \"hemo\": 15.4, \"pcv\": 48.0, \"wbcc\": 5000.0, \"rbcc\": 5.2, \"htn\": \"no\", \"dm\": \"no\", \"cad\": \"no\", \"appet\": \"good\", \"pe\": \"no\", \"ane\": \"no\", \"class\": \"notckd\"}, {\"age\": 58.0, \"bp\": 70.0, \"sg\": 1.02, \"al\": 0.0, \"su\": 0.0, \"rbc\": \"normal\", \"pc\": \"normal\", \"pcc\": \"notpresent\", \"ba\": \"notpresent\", \"bgr\": 102.0, \"bu\": 48.0, \"sc\": 1.2, \"sod\": 139.0, \"pot\": 4.3, \"hemo\": 15.0, \"pcv\": 40.0, \"wbcc\": 8100.0, \"rbcc\": 4.9, \"htn\": \"no\", \"dm\": \"no\", \"cad\": \"no\", \"appet\": \"good\", \"pe\": \"no\", \"ane\": \"no\", \"class\": \"notckd\"}, {\"age\": 61.0, \"bp\": 70.0, \"sg\": 1.025, \"al\": 0.0, \"su\": 0.0, \"rbc\": \"normal\", \"pc\": \"normal\", \"pcc\": \"notpresent\", \"ba\": \"notpresent\", \"bgr\": 120.0, \"bu\": 29.0, \"sc\": 0.7, \"sod\": 137.0, \"pot\": 3.5, \"hemo\": 17.4, \"pcv\": 52.0, \"wbcc\": 7000.0, \"rbcc\": 5.3, \"htn\": \"no\", \"dm\": \"no\", \"cad\": \"no\", \"appet\": \"good\", \"pe\": \"no\", \"ane\": \"no\", \"class\": \"notckd\"}, {\"age\": 30.0, \"bp\": 60.0, \"sg\": 1.02, \"al\": 0.0, \"su\": 0.0, \"rbc\": \"normal\", \"pc\": \"normal\", \"pcc\": \"notpresent\", \"ba\": \"notpresent\", \"bgr\": 138.0, \"bu\": 15.0, \"sc\": 1.1, \"sod\": 135.0, \"pot\": 4.4, \"hemo\": 13.85, \"pcv\": 42.0, \"wbcc\": 7900.0, \"rbcc\": 4.9, \"htn\": \"no\", \"dm\": \"no\", \"cad\": \"no\", \"appet\": \"good\", \"pe\": \"no\", \"ane\": \"no\", \"class\": \"notckd\"}, {\"age\": 57.0, \"bp\": 60.0, \"sg\": 1.02, \"al\": 0.0, \"su\": 0.0, \"rbc\": \"normal\", \"pc\": \"normal\", \"pcc\": \"notpresent\", \"ba\": \"notpresent\", \"bgr\": 105.0, \"bu\": 49.0, \"sc\": 1.2, \"sod\": 150.0, \"pot\": 4.7, \"hemo\": 15.7, \"pcv\": 44.0, \"wbcc\": 10400.0, \"rbcc\": 6.2, \"htn\": \"no\", \"dm\": \"no\", \"cad\": \"no\", \"appet\": \"good\", \"pe\": \"no\", \"ane\": \"no\", \"class\": \"notckd\"}, {\"age\": 65.0, \"bp\": 60.0, \"sg\": 1.02, \"al\": 0.0, \"su\": 0.0, \"rbc\": \"normal\", \"pc\": \"normal\", \"pcc\": \"notpresent\", \"ba\": \"notpresent\", \"bgr\": 109.0, \"bu\": 39.0, \"sc\": 1.0, \"sod\": 144.0, \"pot\": 3.5, \"hemo\": 13.9, \"pcv\": 48.0, \"wbcc\": 9600.0, \"rbcc\": 4.8, \"htn\": \"no\", \"dm\": \"no\", \"cad\": \"no\", \"appet\": \"good\", \"pe\": \"no\", \"ane\": \"no\", \"class\": \"notckd\"}, {\"age\": 43.0, \"bp\": 80.0, \"sg\": 1.025, \"al\": 0.0, \"su\": 0.0, \"rbc\": \"normal\", \"pc\": \"normal\", \"pcc\": \"notpresent\", \"ba\": \"notpresent\", \"bgr\": 130.0, \"bu\": 30.0, \"sc\": 1.1, \"sod\": 143.0, \"pot\": 5.0, \"hemo\": 15.9, \"pcv\": 45.0, \"wbcc\": 7800.0, \"rbcc\": 4.5, \"htn\": \"no\", \"dm\": \"no\", \"cad\": \"no\", \"appet\": \"good\", \"pe\": \"no\", \"ane\": \"no\", \"class\": \"notckd\"}, {\"age\": 40.0, \"bp\": 80.0, \"sg\": 1.02, \"al\": 0.0, \"su\": 0.0, \"rbc\": \"normal\", \"pc\": \"normal\", \"pcc\": \"notpresent\", \"ba\": \"notpresent\", \"bgr\": 119.0, \"bu\": 15.0, \"sc\": 0.7, \"sod\": 150.0, \"pot\": 4.9, \"hemo\": 13.85, \"pcv\": 42.0, \"wbcc\": 7900.0, \"rbcc\": 4.9, \"htn\": \"no\", \"dm\": \"no\", \"cad\": \"no\", \"appet\": \"good\", \"pe\": \"no\", \"ane\": \"no\", \"class\": \"notckd\"}, {\"age\": 58.0, \"bp\": 80.0, \"sg\": 1.02, \"al\": 0.0, \"su\": 0.0, \"rbc\": \"normal\", \"pc\": \"normal\", \"pcc\": \"notpresent\", \"ba\": \"notpresent\", \"bgr\": 100.0, \"bu\": 50.0, \"sc\": 1.2, \"sod\": 140.0, \"pot\": 3.5, \"hemo\": 14.0, \"pcv\": 50.0, \"wbcc\": 6700.0, \"rbcc\": 6.5, \"htn\": \"no\", \"dm\": \"no\", \"cad\": \"no\", \"appet\": \"good\", \"pe\": \"no\", \"ane\": \"no\", \"class\": \"notckd\"}, {\"age\": 47.0, \"bp\": 60.0, \"sg\": 1.02, \"al\": 0.0, \"su\": 0.0, \"rbc\": \"normal\", \"pc\": \"normal\", \"pcc\": \"notpresent\", \"ba\": \"notpresent\", \"bgr\": 109.0, \"bu\": 25.0, \"sc\": 1.1, \"sod\": 141.0, \"pot\": 4.7, \"hemo\": 15.8, \"pcv\": 41.0, \"wbcc\": 8300.0, \"rbcc\": 5.2, \"htn\": \"no\", \"dm\": \"no\", \"cad\": \"no\", \"appet\": \"good\", \"pe\": \"no\", \"ane\": \"no\", \"class\": \"notckd\"}, {\"age\": 30.0, \"bp\": 60.0, \"sg\": 1.025, \"al\": 0.0, \"su\": 0.0, \"rbc\": \"normal\", \"pc\": \"normal\", \"pcc\": \"notpresent\", \"ba\": \"notpresent\", \"bgr\": 120.0, \"bu\": 31.0, \"sc\": 0.8, \"sod\": 150.0, \"pot\": 4.6, \"hemo\": 13.4, \"pcv\": 44.0, \"wbcc\": 10700.0, \"rbcc\": 5.8, \"htn\": \"no\", \"dm\": \"no\", \"cad\": \"no\", \"appet\": \"good\", \"pe\": \"no\", \"ane\": \"no\", \"class\": \"notckd\"}, {\"age\": 28.0, \"bp\": 70.0, \"sg\": 1.02, \"al\": 0.0, \"su\": 0.0, \"rbc\": \"normal\", \"pc\": \"normal\", \"pcc\": \"notpresent\", \"ba\": \"notpresent\", \"bgr\": 131.0, \"bu\": 29.0, \"sc\": 0.6, \"sod\": 145.0, \"pot\": 4.9, \"hemo\": 13.85, \"pcv\": 45.0, \"wbcc\": 8600.0, \"rbcc\": 6.5, \"htn\": \"no\", \"dm\": \"no\", \"cad\": \"no\", \"appet\": \"good\", \"pe\": \"no\", \"ane\": \"no\", \"class\": \"notckd\"}, {\"age\": 33.0, \"bp\": 60.0, \"sg\": 1.025, \"al\": 0.0, \"su\": 0.0, \"rbc\": \"normal\", \"pc\": \"normal\", \"pcc\": \"notpresent\", \"ba\": \"notpresent\", \"bgr\": 80.0, \"bu\": 25.0, \"sc\": 0.9, \"sod\": 146.0, \"pot\": 3.5, \"hemo\": 14.1, \"pcv\": 48.0, \"wbcc\": 7800.0, \"rbcc\": 5.1, \"htn\": \"no\", \"dm\": \"no\", \"cad\": \"no\", \"appet\": \"good\", \"pe\": \"no\", \"ane\": \"no\", \"class\": \"notckd\"}, {\"age\": 43.0, \"bp\": 80.0, \"sg\": 1.02, \"al\": 0.0, \"su\": 0.0, \"rbc\": \"normal\", \"pc\": \"normal\", \"pcc\": \"notpresent\", \"ba\": \"notpresent\", \"bgr\": 114.0, \"bu\": 32.0, \"sc\": 1.1, \"sod\": 135.0, \"pot\": 3.9, \"hemo\": 13.85, \"pcv\": 42.0, \"wbcc\": 7900.0, \"rbcc\": 4.9, \"htn\": \"no\", \"dm\": \"no\", \"cad\": \"no\", \"appet\": \"good\", \"pe\": \"no\", \"ane\": \"no\", \"class\": \"notckd\"}, {\"age\": 59.0, \"bp\": 70.0, \"sg\": 1.025, \"al\": 0.0, \"su\": 0.0, \"rbc\": \"normal\", \"pc\": \"normal\", \"pcc\": \"notpresent\", \"ba\": \"notpresent\", \"bgr\": 130.0, \"bu\": 39.0, \"sc\": 0.7, \"sod\": 147.0, \"pot\": 4.7, \"hemo\": 13.5, \"pcv\": 46.0, \"wbcc\": 6700.0, \"rbcc\": 4.5, \"htn\": \"no\", \"dm\": \"no\", \"cad\": \"no\", \"appet\": \"good\", \"pe\": \"no\", \"ane\": \"no\", \"class\": \"notckd\"}, {\"age\": 34.0, \"bp\": 70.0, \"sg\": 1.025, \"al\": 0.0, \"su\": 0.0, \"rbc\": \"normal\", \"pc\": \"normal\", \"pcc\": \"notpresent\", \"ba\": \"notpresent\", \"bgr\": 119.0, \"bu\": 33.0, \"sc\": 1.0, \"sod\": 150.0, \"pot\": 5.0, \"hemo\": 15.3, \"pcv\": 44.0, \"wbcc\": 10500.0, \"rbcc\": 6.1, \"htn\": \"no\", \"dm\": \"no\", \"cad\": \"no\", \"appet\": \"good\", \"pe\": \"no\", \"ane\": \"no\", \"class\": \"notckd\"}, {\"age\": 23.0, \"bp\": 80.0, \"sg\": 1.02, \"al\": 0.0, \"su\": 0.0, \"rbc\": \"normal\", \"pc\": \"normal\", \"pcc\": \"notpresent\", \"ba\": \"notpresent\", \"bgr\": 99.0, \"bu\": 46.0, \"sc\": 1.2, \"sod\": 142.0, \"pot\": 4.0, \"hemo\": 17.7, \"pcv\": 46.0, \"wbcc\": 4300.0, \"rbcc\": 5.5, \"htn\": \"no\", \"dm\": \"no\", \"cad\": \"no\", \"appet\": \"good\", \"pe\": \"no\", \"ane\": \"no\", \"class\": \"notckd\"}, {\"age\": 24.0, \"bp\": 80.0, \"sg\": 1.025, \"al\": 0.0, \"su\": 0.0, \"rbc\": \"normal\", \"pc\": \"normal\", \"pcc\": \"notpresent\", \"ba\": \"notpresent\", \"bgr\": 125.0, \"bu\": 40.0, \"sc\": 1.15, \"sod\": 136.0, \"pot\": 3.5, \"hemo\": 15.4, \"pcv\": 43.0, \"wbcc\": 5600.0, \"rbcc\": 4.5, \"htn\": \"no\", \"dm\": \"no\", \"cad\": \"no\", \"appet\": \"good\", \"pe\": \"no\", \"ane\": \"no\", \"class\": \"notckd\"}, {\"age\": 60.0, \"bp\": 60.0, \"sg\": 1.02, \"al\": 0.0, \"su\": 0.0, \"rbc\": \"normal\", \"pc\": \"normal\", \"pcc\": \"notpresent\", \"ba\": \"notpresent\", \"bgr\": 134.0, \"bu\": 45.0, \"sc\": 0.5, \"sod\": 139.0, \"pot\": 4.8, \"hemo\": 14.2, \"pcv\": 48.0, \"wbcc\": 10700.0, \"rbcc\": 5.6, \"htn\": \"no\", \"dm\": \"no\", \"cad\": \"no\", \"appet\": \"good\", \"pe\": \"no\", \"ane\": \"no\", \"class\": \"notckd\"}, {\"age\": 25.0, \"bp\": 60.0, \"sg\": 1.02, \"al\": 0.0, \"su\": 0.0, \"rbc\": \"normal\", \"pc\": \"normal\", \"pcc\": \"notpresent\", \"ba\": \"notpresent\", \"bgr\": 119.0, \"bu\": 27.0, \"sc\": 0.5, \"sod\": 139.0, \"pot\": 4.5, \"hemo\": 15.2, \"pcv\": 40.0, \"wbcc\": 9200.0, \"rbcc\": 5.2, \"htn\": \"no\", \"dm\": \"no\", \"cad\": \"no\", \"appet\": \"good\", \"pe\": \"no\", \"ane\": \"no\", \"class\": \"notckd\"}, {\"age\": 44.0, \"bp\": 70.0, \"sg\": 1.025, \"al\": 0.0, \"su\": 0.0, \"rbc\": \"normal\", \"pc\": \"normal\", \"pcc\": \"notpresent\", \"ba\": \"notpresent\", \"bgr\": 92.0, \"bu\": 40.0, \"sc\": 0.9, \"sod\": 141.0, \"pot\": 4.9, \"hemo\": 14.0, \"pcv\": 52.0, \"wbcc\": 7500.0, \"rbcc\": 6.2, \"htn\": \"no\", \"dm\": \"no\", \"cad\": \"no\", \"appet\": \"good\", \"pe\": \"no\", \"ane\": \"no\", \"class\": \"notckd\"}, {\"age\": 62.0, \"bp\": 80.0, \"sg\": 1.02, \"al\": 0.0, \"su\": 0.0, \"rbc\": \"normal\", \"pc\": \"normal\", \"pcc\": \"notpresent\", \"ba\": \"notpresent\", \"bgr\": 132.0, \"bu\": 34.0, \"sc\": 0.8, \"sod\": 147.0, \"pot\": 3.5, \"hemo\": 17.8, \"pcv\": 44.0, \"wbcc\": 4700.0, \"rbcc\": 4.5, \"htn\": \"no\", \"dm\": \"no\", \"cad\": \"no\", \"appet\": \"good\", \"pe\": \"no\", \"ane\": \"no\", \"class\": \"notckd\"}, {\"age\": 25.0, \"bp\": 70.0, \"sg\": 1.02, \"al\": 0.0, \"su\": 0.0, \"rbc\": \"normal\", \"pc\": \"normal\", \"pcc\": \"notpresent\", \"ba\": \"notpresent\", \"bgr\": 88.0, \"bu\": 42.0, \"sc\": 0.5, \"sod\": 136.0, \"pot\": 3.5, \"hemo\": 13.3, \"pcv\": 48.0, \"wbcc\": 7000.0, \"rbcc\": 4.9, \"htn\": \"no\", \"dm\": \"no\", \"cad\": \"no\", \"appet\": \"good\", \"pe\": \"no\", \"ane\": \"no\", \"class\": \"notckd\"}, {\"age\": 32.0, \"bp\": 70.0, \"sg\": 1.025, \"al\": 0.0, \"su\": 0.0, \"rbc\": \"normal\", \"pc\": \"normal\", \"pcc\": \"notpresent\", \"ba\": \"notpresent\", \"bgr\": 100.0, \"bu\": 29.0, \"sc\": 1.1, \"sod\": 142.0, \"pot\": 4.5, \"hemo\": 14.3, \"pcv\": 43.0, \"wbcc\": 6700.0, \"rbcc\": 5.9, \"htn\": \"no\", \"dm\": \"no\", \"cad\": \"no\", \"appet\": \"good\", \"pe\": \"no\", \"ane\": \"no\", \"class\": \"notckd\"}, {\"age\": 63.0, \"bp\": 70.0, \"sg\": 1.025, \"al\": 0.0, \"su\": 0.0, \"rbc\": \"normal\", \"pc\": \"normal\", \"pcc\": \"notpresent\", \"ba\": \"notpresent\", \"bgr\": 130.0, \"bu\": 37.0, \"sc\": 0.9, \"sod\": 150.0, \"pot\": 5.0, \"hemo\": 13.4, \"pcv\": 41.0, \"wbcc\": 7300.0, \"rbcc\": 4.7, \"htn\": \"no\", \"dm\": \"no\", \"cad\": \"no\", \"appet\": \"good\", \"pe\": \"no\", \"ane\": \"no\", \"class\": \"notckd\"}, {\"age\": 44.0, \"bp\": 60.0, \"sg\": 1.02, \"al\": 0.0, \"su\": 0.0, \"rbc\": \"normal\", \"pc\": \"normal\", \"pcc\": \"notpresent\", \"ba\": \"notpresent\", \"bgr\": 95.0, \"bu\": 46.0, \"sc\": 0.5, \"sod\": 138.0, \"pot\": 4.2, \"hemo\": 15.0, \"pcv\": 50.0, \"wbcc\": 7700.0, \"rbcc\": 6.3, \"htn\": \"no\", \"dm\": \"no\", \"cad\": \"no\", \"appet\": \"good\", \"pe\": \"no\", \"ane\": \"no\", \"class\": \"notckd\"}, {\"age\": 37.0, \"bp\": 60.0, \"sg\": 1.025, \"al\": 0.0, \"su\": 0.0, \"rbc\": \"normal\", \"pc\": \"normal\", \"pcc\": \"notpresent\", \"ba\": \"notpresent\", \"bgr\": 111.0, \"bu\": 35.0, \"sc\": 0.8, \"sod\": 135.0, \"pot\": 4.1, \"hemo\": 16.2, \"pcv\": 50.0, \"wbcc\": 5500.0, \"rbcc\": 5.7, \"htn\": \"no\", \"dm\": \"no\", \"cad\": \"no\", \"appet\": \"good\", \"pe\": \"no\", \"ane\": \"no\", \"class\": \"notckd\"}, {\"age\": 64.0, \"bp\": 60.0, \"sg\": 1.02, \"al\": 0.0, \"su\": 0.0, \"rbc\": \"normal\", \"pc\": \"normal\", \"pcc\": \"notpresent\", \"ba\": \"notpresent\", \"bgr\": 106.0, \"bu\": 27.0, \"sc\": 0.7, \"sod\": 150.0, \"pot\": 3.3, \"hemo\": 14.4, \"pcv\": 42.0, \"wbcc\": 8100.0, \"rbcc\": 4.7, \"htn\": \"no\", \"dm\": \"no\", \"cad\": \"no\", \"appet\": \"good\", \"pe\": \"no\", \"ane\": \"no\", \"class\": \"notckd\"}, {\"age\": 22.0, \"bp\": 60.0, \"sg\": 1.025, \"al\": 0.0, \"su\": 0.0, \"rbc\": \"normal\", \"pc\": \"normal\", \"pcc\": \"notpresent\", \"ba\": \"notpresent\", \"bgr\": 97.0, \"bu\": 18.0, \"sc\": 1.2, \"sod\": 138.0, \"pot\": 4.3, \"hemo\": 13.5, \"pcv\": 42.0, \"wbcc\": 7900.0, \"rbcc\": 6.4, \"htn\": \"no\", \"dm\": \"no\", \"cad\": \"no\", \"appet\": \"good\", \"pe\": \"no\", \"ane\": \"no\", \"class\": \"notckd\"}, {\"age\": 33.0, \"bp\": 60.0, \"sg\": 1.02, \"al\": 0.0, \"su\": 0.0, \"rbc\": \"normal\", \"pc\": \"normal\", \"pcc\": \"notpresent\", \"ba\": \"notpresent\", \"bgr\": 130.0, \"bu\": 41.0, \"sc\": 0.9, \"sod\": 141.0, \"pot\": 4.4, \"hemo\": 15.5, \"pcv\": 52.0, \"wbcc\": 4300.0, \"rbcc\": 5.8, \"htn\": \"no\", \"dm\": \"no\", \"cad\": \"no\", \"appet\": \"good\", \"pe\": \"no\", \"ane\": \"no\", \"class\": \"notckd\"}, {\"age\": 43.0, \"bp\": 60.0, \"sg\": 1.025, \"al\": 0.0, \"su\": 0.0, \"rbc\": \"normal\", \"pc\": \"normal\", \"pcc\": \"notpresent\", \"ba\": \"notpresent\", \"bgr\": 108.0, \"bu\": 25.0, \"sc\": 1.0, \"sod\": 144.0, \"pot\": 5.0, \"hemo\": 17.8, \"pcv\": 43.0, \"wbcc\": 7200.0, \"rbcc\": 5.5, \"htn\": \"no\", \"dm\": \"no\", \"cad\": \"no\", \"appet\": \"good\", \"pe\": \"no\", \"ane\": \"no\", \"class\": \"notckd\"}, {\"age\": 38.0, \"bp\": 80.0, \"sg\": 1.02, \"al\": 0.0, \"su\": 0.0, \"rbc\": \"normal\", \"pc\": \"normal\", \"pcc\": \"notpresent\", \"ba\": \"notpresent\", \"bgr\": 99.0, \"bu\": 19.0, \"sc\": 0.5, \"sod\": 147.0, \"pot\": 3.5, \"hemo\": 13.6, \"pcv\": 44.0, \"wbcc\": 7300.0, \"rbcc\": 6.4, \"htn\": \"no\", \"dm\": \"no\", \"cad\": \"no\", \"appet\": \"good\", \"pe\": \"no\", \"ane\": \"no\", \"class\": \"notckd\"}, {\"age\": 29.0, \"bp\": 80.0, \"sg\": 1.02, \"al\": 0.0, \"su\": 0.0, \"rbc\": \"normal\", \"pc\": \"normal\", \"pcc\": \"notpresent\", \"ba\": \"notpresent\", \"bgr\": 83.0, \"bu\": 49.0, \"sc\": 0.9, \"sod\": 139.0, \"pot\": 3.3, \"hemo\": 17.5, \"pcv\": 40.0, \"wbcc\": 9900.0, \"rbcc\": 4.7, \"htn\": \"no\", \"dm\": \"no\", \"cad\": \"no\", \"appet\": \"good\", \"pe\": \"no\", \"ane\": \"no\", \"class\": \"notckd\"}, {\"age\": 37.0, \"bp\": 60.0, \"sg\": 1.02, \"al\": 0.0, \"su\": 0.0, \"rbc\": \"normal\", \"pc\": \"normal\", \"pcc\": \"notpresent\", \"ba\": \"notpresent\", \"bgr\": 109.0, \"bu\": 47.0, \"sc\": 1.1, \"sod\": 141.0, \"pot\": 4.9, \"hemo\": 15.0, \"pcv\": 48.0, \"wbcc\": 7000.0, \"rbcc\": 5.2, \"htn\": \"no\", \"dm\": \"no\", \"cad\": \"no\", \"appet\": \"good\", \"pe\": \"no\", \"ane\": \"no\", \"class\": \"notckd\"}, {\"age\": 39.0, \"bp\": 60.0, \"sg\": 1.02, \"al\": 0.0, \"su\": 0.0, \"rbc\": \"normal\", \"pc\": \"normal\", \"pcc\": \"notpresent\", \"ba\": \"notpresent\", \"bgr\": 86.0, \"bu\": 37.0, \"sc\": 0.6, \"sod\": 150.0, \"pot\": 5.0, \"hemo\": 13.6, \"pcv\": 51.0, \"wbcc\": 5800.0, \"rbcc\": 4.5, \"htn\": \"no\", \"dm\": \"no\", \"cad\": \"no\", \"appet\": \"good\", \"pe\": \"no\", \"ane\": \"no\", \"class\": \"notckd\"}, {\"age\": 32.0, \"bp\": 60.0, \"sg\": 1.025, \"al\": 0.0, \"su\": 0.0, \"rbc\": \"normal\", \"pc\": \"normal\", \"pcc\": \"notpresent\", \"ba\": \"notpresent\", \"bgr\": 102.0, \"bu\": 17.0, \"sc\": 0.4, \"sod\": 147.0, \"pot\": 4.7, \"hemo\": 14.6, \"pcv\": 41.0, \"wbcc\": 6800.0, \"rbcc\": 5.1, \"htn\": \"no\", \"dm\": \"no\", \"cad\": \"no\", \"appet\": \"good\", \"pe\": \"no\", \"ane\": \"no\", \"class\": \"notckd\"}, {\"age\": 23.0, \"bp\": 60.0, \"sg\": 1.02, \"al\": 0.0, \"su\": 0.0, \"rbc\": \"normal\", \"pc\": \"normal\", \"pcc\": \"notpresent\", \"ba\": \"notpresent\", \"bgr\": 95.0, \"bu\": 24.0, \"sc\": 0.8, \"sod\": 145.0, \"pot\": 5.0, \"hemo\": 15.0, \"pcv\": 52.0, \"wbcc\": 6300.0, \"rbcc\": 4.6, \"htn\": \"no\", \"dm\": \"no\", \"cad\": \"no\", \"appet\": \"good\", \"pe\": \"no\", \"ane\": \"no\", \"class\": \"notckd\"}, {\"age\": 34.0, \"bp\": 70.0, \"sg\": 1.025, \"al\": 0.0, \"su\": 0.0, \"rbc\": \"normal\", \"pc\": \"normal\", \"pcc\": \"notpresent\", \"ba\": \"notpresent\", \"bgr\": 87.0, \"bu\": 38.0, \"sc\": 0.5, \"sod\": 144.0, \"pot\": 4.8, \"hemo\": 17.1, \"pcv\": 47.0, \"wbcc\": 7400.0, \"rbcc\": 6.1, \"htn\": \"no\", \"dm\": \"no\", \"cad\": \"no\", \"appet\": \"good\", \"pe\": \"no\", \"ane\": \"no\", \"class\": \"notckd\"}, {\"age\": 66.0, \"bp\": 70.0, \"sg\": 1.025, \"al\": 0.0, \"su\": 0.0, \"rbc\": \"normal\", \"pc\": \"normal\", \"pcc\": \"notpresent\", \"ba\": \"notpresent\", \"bgr\": 107.0, \"bu\": 16.0, \"sc\": 1.1, \"sod\": 140.0, \"pot\": 3.6, \"hemo\": 13.6, \"pcv\": 42.0, \"wbcc\": 11000.0, \"rbcc\": 4.9, \"htn\": \"no\", \"dm\": \"no\", \"cad\": \"no\", \"appet\": \"good\", \"pe\": \"no\", \"ane\": \"no\", \"class\": \"notckd\"}, {\"age\": 47.0, \"bp\": 60.0, \"sg\": 1.02, \"al\": 0.0, \"su\": 0.0, \"rbc\": \"normal\", \"pc\": \"normal\", \"pcc\": \"notpresent\", \"ba\": \"notpresent\", \"bgr\": 117.0, \"bu\": 22.0, \"sc\": 1.2, \"sod\": 138.0, \"pot\": 3.5, \"hemo\": 13.0, \"pcv\": 45.0, \"wbcc\": 5200.0, \"rbcc\": 5.6, \"htn\": \"no\", \"dm\": \"no\", \"cad\": \"no\", \"appet\": \"good\", \"pe\": \"no\", \"ane\": \"no\", \"class\": \"notckd\"}, {\"age\": 74.0, \"bp\": 60.0, \"sg\": 1.02, \"al\": 0.0, \"su\": 0.0, \"rbc\": \"normal\", \"pc\": \"normal\", \"pcc\": \"notpresent\", \"ba\": \"notpresent\", \"bgr\": 88.0, \"bu\": 50.0, \"sc\": 0.6, \"sod\": 147.0, \"pot\": 3.7, \"hemo\": 17.2, \"pcv\": 53.0, \"wbcc\": 6000.0, \"rbcc\": 4.5, \"htn\": \"no\", \"dm\": \"no\", \"cad\": \"no\", \"appet\": \"good\", \"pe\": \"no\", \"ane\": \"no\", \"class\": \"notckd\"}, {\"age\": 35.0, \"bp\": 60.0, \"sg\": 1.025, \"al\": 0.0, \"su\": 0.0, \"rbc\": \"normal\", \"pc\": \"normal\", \"pcc\": \"notpresent\", \"ba\": \"notpresent\", \"bgr\": 105.0, \"bu\": 39.0, \"sc\": 0.5, \"sod\": 135.0, \"pot\": 3.9, \"hemo\": 14.7, \"pcv\": 43.0, \"wbcc\": 5800.0, \"rbcc\": 6.2, \"htn\": \"no\", \"dm\": \"no\", \"cad\": \"no\", \"appet\": \"good\", \"pe\": \"no\", \"ane\": \"no\", \"class\": \"notckd\"}, {\"age\": 29.0, \"bp\": 80.0, \"sg\": 1.02, \"al\": 0.0, \"su\": 0.0, \"rbc\": \"normal\", \"pc\": \"normal\", \"pcc\": \"notpresent\", \"ba\": \"notpresent\", \"bgr\": 70.0, \"bu\": 16.0, \"sc\": 0.7, \"sod\": 138.0, \"pot\": 3.5, \"hemo\": 13.7, \"pcv\": 54.0, \"wbcc\": 5400.0, \"rbcc\": 5.8, \"htn\": \"no\", \"dm\": \"no\", \"cad\": \"no\", \"appet\": \"good\", \"pe\": \"no\", \"ane\": \"no\", \"class\": \"notckd\"}, {\"age\": 33.0, \"bp\": 80.0, \"sg\": 1.025, \"al\": 0.0, \"su\": 0.0, \"rbc\": \"normal\", \"pc\": \"normal\", \"pcc\": \"notpresent\", \"ba\": \"notpresent\", \"bgr\": 89.0, \"bu\": 19.0, \"sc\": 1.1, \"sod\": 144.0, \"pot\": 5.0, \"hemo\": 15.0, \"pcv\": 40.0, \"wbcc\": 10300.0, \"rbcc\": 4.8, \"htn\": \"no\", \"dm\": \"no\", \"cad\": \"no\", \"appet\": \"good\", \"pe\": \"no\", \"ane\": \"no\", \"class\": \"notckd\"}, {\"age\": 67.0, \"bp\": 80.0, \"sg\": 1.025, \"al\": 0.0, \"su\": 0.0, \"rbc\": \"normal\", \"pc\": \"normal\", \"pcc\": \"notpresent\", \"ba\": \"notpresent\", \"bgr\": 99.0, \"bu\": 40.0, \"sc\": 0.5, \"sod\": 139.0, \"pot\": 4.5, \"hemo\": 17.8, \"pcv\": 44.0, \"wbcc\": 5900.0, \"rbcc\": 5.2, \"htn\": \"no\", \"dm\": \"no\", \"cad\": \"no\", \"appet\": \"good\", \"pe\": \"no\", \"ane\": \"no\", \"class\": \"notckd\"}, {\"age\": 73.0, \"bp\": 80.0, \"sg\": 1.025, \"al\": 0.0, \"su\": 0.0, \"rbc\": \"normal\", \"pc\": \"normal\", \"pcc\": \"notpresent\", \"ba\": \"notpresent\", \"bgr\": 118.0, \"bu\": 44.0, \"sc\": 0.7, \"sod\": 137.0, \"pot\": 3.5, \"hemo\": 14.8, \"pcv\": 45.0, \"wbcc\": 9300.0, \"rbcc\": 4.7, \"htn\": \"no\", \"dm\": \"no\", \"cad\": \"no\", \"appet\": \"good\", \"pe\": \"no\", \"ane\": \"no\", \"class\": \"notckd\"}, {\"age\": 24.0, \"bp\": 80.0, \"sg\": 1.02, \"al\": 0.0, \"su\": 0.0, \"rbc\": \"normal\", \"pc\": \"normal\", \"pcc\": \"notpresent\", \"ba\": \"notpresent\", \"bgr\": 93.0, \"bu\": 46.0, \"sc\": 1.0, \"sod\": 145.0, \"pot\": 3.5, \"hemo\": 13.85, \"pcv\": 42.0, \"wbcc\": 10700.0, \"rbcc\": 6.3, \"htn\": \"no\", \"dm\": \"no\", \"cad\": \"no\", \"appet\": \"good\", \"pe\": \"no\", \"ane\": \"no\", \"class\": \"notckd\"}, {\"age\": 60.0, \"bp\": 80.0, \"sg\": 1.025, \"al\": 0.0, \"su\": 0.0, \"rbc\": \"normal\", \"pc\": \"normal\", \"pcc\": \"notpresent\", \"ba\": \"notpresent\", \"bgr\": 81.0, \"bu\": 15.0, \"sc\": 0.5, \"sod\": 141.0, \"pot\": 3.6, \"hemo\": 15.0, \"pcv\": 46.0, \"wbcc\": 10500.0, \"rbcc\": 5.3, \"htn\": \"no\", \"dm\": \"no\", \"cad\": \"no\", \"appet\": \"good\", \"pe\": \"no\", \"ane\": \"no\", \"class\": \"notckd\"}, {\"age\": 68.0, \"bp\": 60.0, \"sg\": 1.025, \"al\": 0.0, \"su\": 0.0, \"rbc\": \"normal\", \"pc\": \"normal\", \"pcc\": \"notpresent\", \"ba\": \"notpresent\", \"bgr\": 125.0, \"bu\": 41.0, \"sc\": 1.1, \"sod\": 139.0, \"pot\": 3.8, \"hemo\": 17.4, \"pcv\": 50.0, \"wbcc\": 6700.0, \"rbcc\": 6.1, \"htn\": \"no\", \"dm\": \"no\", \"cad\": \"no\", \"appet\": \"good\", \"pe\": \"no\", \"ane\": \"no\", \"class\": \"notckd\"}, {\"age\": 30.0, \"bp\": 80.0, \"sg\": 1.025, \"al\": 0.0, \"su\": 0.0, \"rbc\": \"normal\", \"pc\": \"normal\", \"pcc\": \"notpresent\", \"ba\": \"notpresent\", \"bgr\": 82.0, \"bu\": 42.0, \"sc\": 0.7, \"sod\": 146.0, \"pot\": 5.0, \"hemo\": 14.9, \"pcv\": 45.0, \"wbcc\": 9400.0, \"rbcc\": 5.9, \"htn\": \"no\", \"dm\": \"no\", \"cad\": \"no\", \"appet\": \"good\", \"pe\": \"no\", \"ane\": \"no\", \"class\": \"notckd\"}, {\"age\": 75.0, \"bp\": 70.0, \"sg\": 1.02, \"al\": 0.0, \"su\": 0.0, \"rbc\": \"normal\", \"pc\": \"normal\", \"pcc\": \"notpresent\", \"ba\": \"notpresent\", \"bgr\": 107.0, \"bu\": 48.0, \"sc\": 0.8, \"sod\": 144.0, \"pot\": 3.5, \"hemo\": 13.6, \"pcv\": 46.0, \"wbcc\": 10300.0, \"rbcc\": 4.8, \"htn\": \"no\", \"dm\": \"no\", \"cad\": \"no\", \"appet\": \"good\", \"pe\": \"no\", \"ane\": \"no\", \"class\": \"notckd\"}, {\"age\": 69.0, \"bp\": 70.0, \"sg\": 1.02, \"al\": 0.0, \"su\": 0.0, \"rbc\": \"normal\", \"pc\": \"normal\", \"pcc\": \"notpresent\", \"ba\": \"notpresent\", \"bgr\": 83.0, \"bu\": 42.0, \"sc\": 1.2, \"sod\": 139.0, \"pot\": 3.7, \"hemo\": 16.2, \"pcv\": 50.0, \"wbcc\": 9300.0, \"rbcc\": 5.4, \"htn\": \"no\", \"dm\": \"no\", \"cad\": \"no\", \"appet\": \"good\", \"pe\": \"no\", \"ane\": \"no\", \"class\": \"notckd\"}, {\"age\": 28.0, \"bp\": 60.0, \"sg\": 1.025, \"al\": 0.0, \"su\": 0.0, \"rbc\": \"normal\", \"pc\": \"normal\", \"pcc\": \"notpresent\", \"ba\": \"notpresent\", \"bgr\": 79.0, \"bu\": 50.0, \"sc\": 0.5, \"sod\": 145.0, \"pot\": 5.0, \"hemo\": 17.6, \"pcv\": 51.0, \"wbcc\": 6500.0, \"rbcc\": 5.0, \"htn\": \"no\", \"dm\": \"no\", \"cad\": \"no\", \"appet\": \"good\", \"pe\": \"no\", \"ane\": \"no\", \"class\": \"notckd\"}, {\"age\": 72.0, \"bp\": 60.0, \"sg\": 1.02, \"al\": 0.0, \"su\": 0.0, \"rbc\": \"normal\", \"pc\": \"normal\", \"pcc\": \"notpresent\", \"ba\": \"notpresent\", \"bgr\": 109.0, \"bu\": 26.0, \"sc\": 0.9, \"sod\": 150.0, \"pot\": 4.9, \"hemo\": 15.0, \"pcv\": 52.0, \"wbcc\": 10500.0, \"rbcc\": 5.5, \"htn\": \"no\", \"dm\": \"no\", \"cad\": \"no\", \"appet\": \"good\", \"pe\": \"no\", \"ane\": \"no\", \"class\": \"notckd\"}, {\"age\": 61.0, \"bp\": 70.0, \"sg\": 1.025, \"al\": 0.0, \"su\": 0.0, \"rbc\": \"normal\", \"pc\": \"normal\", \"pcc\": \"notpresent\", \"ba\": \"notpresent\", \"bgr\": 133.0, \"bu\": 38.0, \"sc\": 1.0, \"sod\": 142.0, \"pot\": 3.6, \"hemo\": 13.7, \"pcv\": 47.0, \"wbcc\": 9200.0, \"rbcc\": 4.9, \"htn\": \"no\", \"dm\": \"no\", \"cad\": \"no\", \"appet\": \"good\", \"pe\": \"no\", \"ane\": \"no\", \"class\": \"notckd\"}, {\"age\": 79.0, \"bp\": 80.0, \"sg\": 1.025, \"al\": 0.0, \"su\": 0.0, \"rbc\": \"normal\", \"pc\": \"normal\", \"pcc\": \"notpresent\", \"ba\": \"notpresent\", \"bgr\": 111.0, \"bu\": 44.0, \"sc\": 1.2, \"sod\": 146.0, \"pot\": 3.6, \"hemo\": 16.3, \"pcv\": 40.0, \"wbcc\": 8000.0, \"rbcc\": 6.4, \"htn\": \"no\", \"dm\": \"no\", \"cad\": \"no\", \"appet\": \"good\", \"pe\": \"no\", \"ane\": \"no\", \"class\": \"notckd\"}, {\"age\": 70.0, \"bp\": 80.0, \"sg\": 1.02, \"al\": 0.0, \"su\": 0.0, \"rbc\": \"normal\", \"pc\": \"normal\", \"pcc\": \"notpresent\", \"ba\": \"notpresent\", \"bgr\": 74.0, \"bu\": 41.0, \"sc\": 0.5, \"sod\": 143.0, \"pot\": 4.5, \"hemo\": 15.1, \"pcv\": 48.0, \"wbcc\": 9700.0, \"rbcc\": 5.6, \"htn\": \"no\", \"dm\": \"no\", \"cad\": \"no\", \"appet\": \"good\", \"pe\": \"no\", \"ane\": \"no\", \"class\": \"notckd\"}, {\"age\": 58.0, \"bp\": 70.0, \"sg\": 1.025, \"al\": 0.0, \"su\": 0.0, \"rbc\": \"normal\", \"pc\": \"normal\", \"pcc\": \"notpresent\", \"ba\": \"notpresent\", \"bgr\": 88.0, \"bu\": 16.0, \"sc\": 1.1, \"sod\": 147.0, \"pot\": 3.5, \"hemo\": 16.4, \"pcv\": 53.0, \"wbcc\": 9100.0, \"rbcc\": 5.2, \"htn\": \"no\", \"dm\": \"no\", \"cad\": \"no\", \"appet\": \"good\", \"pe\": \"no\", \"ane\": \"no\", \"class\": \"notckd\"}, {\"age\": 64.0, \"bp\": 70.0, \"sg\": 1.02, \"al\": 0.0, \"su\": 0.0, \"rbc\": \"normal\", \"pc\": \"normal\", \"pcc\": \"notpresent\", \"ba\": \"notpresent\", \"bgr\": 97.0, \"bu\": 27.0, \"sc\": 0.7, \"sod\": 145.0, \"pot\": 4.8, \"hemo\": 13.8, \"pcv\": 49.0, \"wbcc\": 6400.0, \"rbcc\": 4.8, \"htn\": \"no\", \"dm\": \"no\", \"cad\": \"no\", \"appet\": \"good\", \"pe\": \"no\", \"ane\": \"no\", \"class\": \"notckd\"}, {\"age\": 71.0, \"bp\": 60.0, \"sg\": 1.025, \"al\": 0.0, \"su\": 0.0, \"rbc\": \"normal\", \"pc\": \"normal\", \"pcc\": \"notpresent\", \"ba\": \"notpresent\", \"bgr\": 119.0, \"bu\": 40.0, \"sc\": 0.9, \"sod\": 140.0, \"pot\": 4.8, \"hemo\": 15.2, \"pcv\": 42.0, \"wbcc\": 7700.0, \"rbcc\": 5.5, \"htn\": \"no\", \"dm\": \"no\", \"cad\": \"no\", \"appet\": \"good\", \"pe\": \"no\", \"ane\": \"no\", \"class\": \"notckd\"}, {\"age\": 62.0, \"bp\": 80.0, \"sg\": 1.025, \"al\": 0.0, \"su\": 0.0, \"rbc\": \"normal\", \"pc\": \"normal\", \"pcc\": \"notpresent\", \"ba\": \"notpresent\", \"bgr\": 78.0, \"bu\": 45.0, \"sc\": 0.6, \"sod\": 138.0, \"pot\": 3.5, \"hemo\": 16.1, \"pcv\": 50.0, \"wbcc\": 5400.0, \"rbcc\": 5.7, \"htn\": \"no\", \"dm\": \"no\", \"cad\": \"no\", \"appet\": \"good\", \"pe\": \"no\", \"ane\": \"no\", \"class\": \"notckd\"}, {\"age\": 59.0, \"bp\": 60.0, \"sg\": 1.02, \"al\": 0.0, \"su\": 0.0, \"rbc\": \"normal\", \"pc\": \"normal\", \"pcc\": \"notpresent\", \"ba\": \"notpresent\", \"bgr\": 113.0, \"bu\": 23.0, \"sc\": 1.1, \"sod\": 139.0, \"pot\": 3.5, \"hemo\": 15.3, \"pcv\": 54.0, \"wbcc\": 6500.0, \"rbcc\": 4.9, \"htn\": \"no\", \"dm\": \"no\", \"cad\": \"no\", \"appet\": \"good\", \"pe\": \"no\", \"ane\": \"no\", \"class\": \"notckd\"}, {\"age\": 48.0, \"bp\": 80.0, \"sg\": 1.025, \"al\": 0.0, \"su\": 0.0, \"rbc\": \"normal\", \"pc\": \"normal\", \"pcc\": \"notpresent\", \"ba\": \"notpresent\", \"bgr\": 75.0, \"bu\": 22.0, \"sc\": 0.8, \"sod\": 137.0, \"pot\": 5.0, \"hemo\": 16.8, \"pcv\": 51.0, \"wbcc\": 6000.0, \"rbcc\": 6.5, \"htn\": \"no\", \"dm\": \"no\", \"cad\": \"no\", \"appet\": \"good\", \"pe\": \"no\", \"ane\": \"no\", \"class\": \"notckd\"}, {\"age\": 80.0, \"bp\": 80.0, \"sg\": 1.025, \"al\": 0.0, \"su\": 0.0, \"rbc\": \"normal\", \"pc\": \"normal\", \"pcc\": \"notpresent\", \"ba\": \"notpresent\", \"bgr\": 119.0, \"bu\": 46.0, \"sc\": 0.7, \"sod\": 141.0, \"pot\": 4.9, \"hemo\": 13.9, \"pcv\": 49.0, \"wbcc\": 5100.0, \"rbcc\": 5.0, \"htn\": \"no\", \"dm\": \"no\", \"cad\": \"no\", \"appet\": \"good\", \"pe\": \"no\", \"ane\": \"no\", \"class\": \"notckd\"}, {\"age\": 57.0, \"bp\": 60.0, \"sg\": 1.02, \"al\": 0.0, \"su\": 0.0, \"rbc\": \"normal\", \"pc\": \"normal\", \"pcc\": \"notpresent\", \"ba\": \"notpresent\", \"bgr\": 132.0, \"bu\": 18.0, \"sc\": 1.1, \"sod\": 150.0, \"pot\": 4.7, \"hemo\": 15.4, \"pcv\": 42.0, \"wbcc\": 11000.0, \"rbcc\": 4.5, \"htn\": \"no\", \"dm\": \"no\", \"cad\": \"no\", \"appet\": \"good\", \"pe\": \"no\", \"ane\": \"no\", \"class\": \"notckd\"}, {\"age\": 63.0, \"bp\": 70.0, \"sg\": 1.02, \"al\": 0.0, \"su\": 0.0, \"rbc\": \"normal\", \"pc\": \"normal\", \"pcc\": \"notpresent\", \"ba\": \"notpresent\", \"bgr\": 113.0, \"bu\": 25.0, \"sc\": 0.6, \"sod\": 146.0, \"pot\": 4.9, \"hemo\": 16.5, \"pcv\": 52.0, \"wbcc\": 8000.0, \"rbcc\": 5.1, \"htn\": \"no\", \"dm\": \"no\", \"cad\": \"no\", \"appet\": \"good\", \"pe\": \"no\", \"ane\": \"no\", \"class\": \"notckd\"}, {\"age\": 46.0, \"bp\": 70.0, \"sg\": 1.025, \"al\": 0.0, \"su\": 0.0, \"rbc\": \"normal\", \"pc\": \"normal\", \"pcc\": \"notpresent\", \"ba\": \"notpresent\", \"bgr\": 100.0, \"bu\": 47.0, \"sc\": 0.5, \"sod\": 142.0, \"pot\": 3.5, \"hemo\": 16.4, \"pcv\": 43.0, \"wbcc\": 5700.0, \"rbcc\": 6.5, \"htn\": \"no\", \"dm\": \"no\", \"cad\": \"no\", \"appet\": \"good\", \"pe\": \"no\", \"ane\": \"no\", \"class\": \"notckd\"}, {\"age\": 15.0, \"bp\": 80.0, \"sg\": 1.025, \"al\": 0.0, \"su\": 0.0, \"rbc\": \"normal\", \"pc\": \"normal\", \"pcc\": \"notpresent\", \"ba\": \"notpresent\", \"bgr\": 93.0, \"bu\": 17.0, \"sc\": 0.9, \"sod\": 136.0, \"pot\": 3.9, \"hemo\": 16.7, \"pcv\": 50.0, \"wbcc\": 6200.0, \"rbcc\": 5.2, \"htn\": \"no\", \"dm\": \"no\", \"cad\": \"no\", \"appet\": \"good\", \"pe\": \"no\", \"ane\": \"no\", \"class\": \"notckd\"}, {\"age\": 51.0, \"bp\": 80.0, \"sg\": 1.02, \"al\": 0.0, \"su\": 0.0, \"rbc\": \"normal\", \"pc\": \"normal\", \"pcc\": \"notpresent\", \"ba\": \"notpresent\", \"bgr\": 94.0, \"bu\": 15.0, \"sc\": 1.2, \"sod\": 144.0, \"pot\": 3.7, \"hemo\": 15.5, \"pcv\": 46.0, \"wbcc\": 9500.0, \"rbcc\": 6.4, \"htn\": \"no\", \"dm\": \"no\", \"cad\": \"no\", \"appet\": \"good\", \"pe\": \"no\", \"ane\": \"no\", \"class\": \"notckd\"}, {\"age\": 41.0, \"bp\": 80.0, \"sg\": 1.025, \"al\": 0.0, \"su\": 0.0, \"rbc\": \"normal\", \"pc\": \"normal\", \"pcc\": \"notpresent\", \"ba\": \"notpresent\", \"bgr\": 112.0, \"bu\": 48.0, \"sc\": 0.7, \"sod\": 140.0, \"pot\": 5.0, \"hemo\": 17.0, \"pcv\": 52.0, \"wbcc\": 7200.0, \"rbcc\": 5.8, \"htn\": \"no\", \"dm\": \"no\", \"cad\": \"no\", \"appet\": \"good\", \"pe\": \"no\", \"ane\": \"no\", \"class\": \"notckd\"}, {\"age\": 52.0, \"bp\": 80.0, \"sg\": 1.025, \"al\": 0.0, \"su\": 0.0, \"rbc\": \"normal\", \"pc\": \"normal\", \"pcc\": \"notpresent\", \"ba\": \"notpresent\", \"bgr\": 99.0, \"bu\": 25.0, \"sc\": 0.8, \"sod\": 135.0, \"pot\": 3.7, \"hemo\": 15.0, \"pcv\": 52.0, \"wbcc\": 6300.0, \"rbcc\": 5.3, \"htn\": \"no\", \"dm\": \"no\", \"cad\": \"no\", \"appet\": \"good\", \"pe\": \"no\", \"ane\": \"no\", \"class\": \"notckd\"}, {\"age\": 36.0, \"bp\": 80.0, \"sg\": 1.025, \"al\": 0.0, \"su\": 0.0, \"rbc\": \"normal\", \"pc\": \"normal\", \"pcc\": \"notpresent\", \"ba\": \"notpresent\", \"bgr\": 85.0, \"bu\": 16.0, \"sc\": 1.1, \"sod\": 142.0, \"pot\": 4.1, \"hemo\": 15.6, \"pcv\": 44.0, \"wbcc\": 5800.0, \"rbcc\": 6.3, \"htn\": \"no\", \"dm\": \"no\", \"cad\": \"no\", \"appet\": \"good\", \"pe\": \"no\", \"ane\": \"no\", \"class\": \"notckd\"}, {\"age\": 57.0, \"bp\": 80.0, \"sg\": 1.02, \"al\": 0.0, \"su\": 0.0, \"rbc\": \"normal\", \"pc\": \"normal\", \"pcc\": \"notpresent\", \"ba\": \"notpresent\", \"bgr\": 133.0, \"bu\": 48.0, \"sc\": 1.2, \"sod\": 147.0, \"pot\": 4.3, \"hemo\": 14.8, \"pcv\": 46.0, \"wbcc\": 6600.0, \"rbcc\": 5.5, \"htn\": \"no\", \"dm\": \"no\", \"cad\": \"no\", \"appet\": \"good\", \"pe\": \"no\", \"ane\": \"no\", \"class\": \"notckd\"}, {\"age\": 43.0, \"bp\": 60.0, \"sg\": 1.025, \"al\": 0.0, \"su\": 0.0, \"rbc\": \"normal\", \"pc\": \"normal\", \"pcc\": \"notpresent\", \"ba\": \"notpresent\", \"bgr\": 117.0, \"bu\": 45.0, \"sc\": 0.7, \"sod\": 141.0, \"pot\": 4.4, \"hemo\": 13.0, \"pcv\": 54.0, \"wbcc\": 7400.0, \"rbcc\": 5.4, \"htn\": \"no\", \"dm\": \"no\", \"cad\": \"no\", \"appet\": \"good\", \"pe\": \"no\", \"ane\": \"no\", \"class\": \"notckd\"}, {\"age\": 50.0, \"bp\": 80.0, \"sg\": 1.02, \"al\": 0.0, \"su\": 0.0, \"rbc\": \"normal\", \"pc\": \"normal\", \"pcc\": \"notpresent\", \"ba\": \"notpresent\", \"bgr\": 137.0, \"bu\": 46.0, \"sc\": 0.8, \"sod\": 139.0, \"pot\": 5.0, \"hemo\": 14.1, \"pcv\": 45.0, \"wbcc\": 9500.0, \"rbcc\": 4.6, \"htn\": \"no\", \"dm\": \"no\", \"cad\": \"no\", \"appet\": \"good\", \"pe\": \"no\", \"ane\": \"no\", \"class\": \"notckd\"}, {\"age\": 55.0, \"bp\": 80.0, \"sg\": 1.02, \"al\": 0.0, \"su\": 0.0, \"rbc\": \"normal\", \"pc\": \"normal\", \"pcc\": \"notpresent\", \"ba\": \"notpresent\", \"bgr\": 140.0, \"bu\": 49.0, \"sc\": 0.5, \"sod\": 150.0, \"pot\": 4.9, \"hemo\": 15.7, \"pcv\": 47.0, \"wbcc\": 6700.0, \"rbcc\": 4.9, \"htn\": \"no\", \"dm\": \"no\", \"cad\": \"no\", \"appet\": \"good\", \"pe\": \"no\", \"ane\": \"no\", \"class\": \"notckd\"}, {\"age\": 42.0, \"bp\": 70.0, \"sg\": 1.025, \"al\": 0.0, \"su\": 0.0, \"rbc\": \"normal\", \"pc\": \"normal\", \"pcc\": \"notpresent\", \"ba\": \"notpresent\", \"bgr\": 75.0, \"bu\": 31.0, \"sc\": 1.2, \"sod\": 141.0, \"pot\": 3.5, \"hemo\": 16.5, \"pcv\": 54.0, \"wbcc\": 7800.0, \"rbcc\": 6.2, \"htn\": \"no\", \"dm\": \"no\", \"cad\": \"no\", \"appet\": \"good\", \"pe\": \"no\", \"ane\": \"no\", \"class\": \"notckd\"}, {\"age\": 12.0, \"bp\": 80.0, \"sg\": 1.02, \"al\": 0.0, \"su\": 0.0, \"rbc\": \"normal\", \"pc\": \"normal\", \"pcc\": \"notpresent\", \"ba\": \"notpresent\", \"bgr\": 100.0, \"bu\": 26.0, \"sc\": 0.6, \"sod\": 137.0, \"pot\": 4.4, \"hemo\": 15.8, \"pcv\": 49.0, \"wbcc\": 6600.0, \"rbcc\": 5.4, \"htn\": \"no\", \"dm\": \"no\", \"cad\": \"no\", \"appet\": \"good\", \"pe\": \"no\", \"ane\": \"no\", \"class\": \"notckd\"}, {\"age\": 17.0, \"bp\": 60.0, \"sg\": 1.025, \"al\": 0.0, \"su\": 0.0, \"rbc\": \"normal\", \"pc\": \"normal\", \"pcc\": \"notpresent\", \"ba\": \"notpresent\", \"bgr\": 114.0, \"bu\": 50.0, \"sc\": 1.0, \"sod\": 135.0, \"pot\": 4.9, \"hemo\": 14.2, \"pcv\": 51.0, \"wbcc\": 7200.0, \"rbcc\": 5.9, \"htn\": \"no\", \"dm\": \"no\", \"cad\": \"no\", \"appet\": \"good\", \"pe\": \"no\", \"ane\": \"no\", \"class\": \"notckd\"}, {\"age\": 58.0, \"bp\": 80.0, \"sg\": 1.025, \"al\": 0.0, \"su\": 0.0, \"rbc\": \"normal\", \"pc\": \"normal\", \"pcc\": \"notpresent\", \"ba\": \"notpresent\", \"bgr\": 131.0, \"bu\": 18.0, \"sc\": 1.1, \"sod\": 141.0, \"pot\": 3.5, \"hemo\": 15.8, \"pcv\": 53.0, \"wbcc\": 6800.0, \"rbcc\": 6.1, \"htn\": \"no\", \"dm\": \"no\", \"cad\": \"no\", \"appet\": \"good\", \"pe\": \"no\", \"ane\": \"no\", \"class\": \"notckd\"}]}}, {\"mode\": \"vega-lite\"});\n",
       "</script>"
      ],
      "text/plain": [
       "alt.Chart(...)"
      ]
     },
     "execution_count": 28,
     "metadata": {},
     "output_type": "execute_result"
    }
   ],
   "source": [
    "alt.Chart(data_clean, title='Total count of red blood cells million per cubic millimeter').mark_bar().encode(x='rbcc', y='count()')"
   ]
  },
  {
   "cell_type": "markdown",
   "metadata": {},
   "source": [
    "As you can see there is a huge spike in values at 4.9, to approximately 60 counts. This shows that replacing values when a significant amount of values are missing can cause some unusual behavours in the features."
   ]
  },
  {
   "cell_type": "markdown",
   "metadata": {},
   "source": [
    "#### 3.C Bivariant visualisations <a name= 'bivariantvisualisations' ></a>\n",
    "    \n",
    "When exploring bivariant data visualisations, if there's no particular features you want to compare, it can be easier to start out with a scatter matrix. With a scatter matrix you can see all the variable compared with each other all displayed at once and then you can begin to focus on the ones that seem interesting. A scatter matrix doesn't work that well with categorical features expecially not binary features, so they have been excluded from this scatter matrix."
   ]
  },
  {
   "cell_type": "code",
   "execution_count": 29,
   "metadata": {
    "scrolled": true
   },
   "outputs": [
    {
     "data": {
      "text/html": [
       "\n",
       "<div id=\"altair-viz-40c8bce00d63452194883bb7557d9a29\"></div>\n",
       "<script type=\"text/javascript\">\n",
       "  (function(spec, embedOpt){\n",
       "    let outputDiv = document.currentScript.previousElementSibling;\n",
       "    if (outputDiv.id !== \"altair-viz-40c8bce00d63452194883bb7557d9a29\") {\n",
       "      outputDiv = document.getElementById(\"altair-viz-40c8bce00d63452194883bb7557d9a29\");\n",
       "    }\n",
       "    const paths = {\n",
       "      \"vega\": \"https://cdn.jsdelivr.net/npm//vega@5?noext\",\n",
       "      \"vega-lib\": \"https://cdn.jsdelivr.net/npm//vega-lib?noext\",\n",
       "      \"vega-lite\": \"https://cdn.jsdelivr.net/npm//vega-lite@4.8.1?noext\",\n",
       "      \"vega-embed\": \"https://cdn.jsdelivr.net/npm//vega-embed@6?noext\",\n",
       "    };\n",
       "\n",
       "    function loadScript(lib) {\n",
       "      return new Promise(function(resolve, reject) {\n",
       "        var s = document.createElement('script');\n",
       "        s.src = paths[lib];\n",
       "        s.async = true;\n",
       "        s.onload = () => resolve(paths[lib]);\n",
       "        s.onerror = () => reject(`Error loading script: ${paths[lib]}`);\n",
       "        document.getElementsByTagName(\"head\")[0].appendChild(s);\n",
       "      });\n",
       "    }\n",
       "\n",
       "    function showError(err) {\n",
       "      outputDiv.innerHTML = `<div class=\"error\" style=\"color:red;\">${err}</div>`;\n",
       "      throw err;\n",
       "    }\n",
       "\n",
       "    function displayChart(vegaEmbed) {\n",
       "      vegaEmbed(outputDiv, spec, embedOpt)\n",
       "        .catch(err => showError(`Javascript Error: ${err.message}<br>This usually means there's a typo in your chart specification. See the javascript console for the full traceback.`));\n",
       "    }\n",
       "\n",
       "    if(typeof define === \"function\" && define.amd) {\n",
       "      requirejs.config({paths});\n",
       "      require([\"vega-embed\"], displayChart, err => showError(`Error loading script: ${err.message}`));\n",
       "    } else if (typeof vegaEmbed === \"function\") {\n",
       "      displayChart(vegaEmbed);\n",
       "    } else {\n",
       "      loadScript(\"vega\")\n",
       "        .then(() => loadScript(\"vega-lite\"))\n",
       "        .then(() => loadScript(\"vega-embed\"))\n",
       "        .catch(showError)\n",
       "        .then(() => displayChart(vegaEmbed));\n",
       "    }\n",
       "  })({\"config\": {\"view\": {\"continuousWidth\": 400, \"continuousHeight\": 300}}, \"repeat\": {\"column\": [\"rbcc\", \"wbcc\", \"pcv\", \"hemo\", \"pot\", \"sod\", \"sc\", \"bu\", \"bgr\", \"su\", \"al\", \"sg\", \"bp\", \"age\"], \"row\": [\"age\", \"bp\", \"sg\", \"al\", \"su\", \"bgr\", \"bu\", \"sc\", \"sod\", \"pot\", \"hemo\", \"pcv\", \"wbcc\", \"rbcc\"]}, \"spec\": {\"data\": {\"name\": \"data-23ab5fbbb8473b892a91b29fa85a1421\"}, \"mark\": \"circle\", \"encoding\": {\"color\": {\"type\": \"nominal\", \"field\": \"Origin\"}, \"x\": {\"type\": \"quantitative\", \"field\": {\"repeat\": \"column\"}}, \"y\": {\"type\": \"quantitative\", \"field\": {\"repeat\": \"row\"}}}, \"height\": 20, \"selection\": {\"selector001\": {\"type\": \"interval\", \"bind\": \"scales\", \"encodings\": [\"x\", \"y\"]}}, \"width\": 20}, \"$schema\": \"https://vega.github.io/schema/vega-lite/v4.8.1.json\", \"datasets\": {\"data-23ab5fbbb8473b892a91b29fa85a1421\": [{\"age\": 62.0, \"bp\": 80.0, \"sg\": 1.01, \"al\": 2.0, \"su\": 3.0, \"rbc\": \"normal\", \"pc\": \"normal\", \"pcc\": \"notpresent\", \"ba\": \"notpresent\", \"bgr\": 423.0, \"bu\": 53.0, \"sc\": 1.8, \"sod\": 139.0, \"pot\": 4.5, \"hemo\": 9.6, \"pcv\": 31.0, \"wbcc\": 7500.0, \"rbcc\": 4.9, \"htn\": \"no\", \"dm\": \"yes\", \"cad\": \"no\", \"appet\": \"poor\", \"pe\": \"no\", \"ane\": \"yes\", \"class\": \"ckd\"}, {\"age\": 48.0, \"bp\": 70.0, \"sg\": 1.005, \"al\": 4.0, \"su\": 0.0, \"rbc\": \"normal\", \"pc\": \"abnormal\", \"pcc\": \"present\", \"ba\": \"notpresent\", \"bgr\": 117.0, \"bu\": 56.0, \"sc\": 3.8, \"sod\": 111.0, \"pot\": 2.5, \"hemo\": 11.2, \"pcv\": 32.0, \"wbcc\": 6700.0, \"rbcc\": 3.9, \"htn\": \"yes\", \"dm\": \"no\", \"cad\": \"no\", \"appet\": \"poor\", \"pe\": \"yes\", \"ane\": \"yes\", \"class\": \"ckd\"}, {\"age\": 51.0, \"bp\": 80.0, \"sg\": 1.01, \"al\": 2.0, \"su\": 0.0, \"rbc\": \"normal\", \"pc\": \"normal\", \"pcc\": \"notpresent\", \"ba\": \"notpresent\", \"bgr\": 106.0, \"bu\": 26.0, \"sc\": 1.4, \"sod\": 139.0, \"pot\": 4.5, \"hemo\": 11.6, \"pcv\": 35.0, \"wbcc\": 7300.0, \"rbcc\": 4.6, \"htn\": \"no\", \"dm\": \"no\", \"cad\": \"no\", \"appet\": \"good\", \"pe\": \"no\", \"ane\": \"no\", \"class\": \"ckd\"}, {\"age\": 24.0, \"bp\": 80.0, \"sg\": 1.015, \"al\": 2.0, \"su\": 4.0, \"rbc\": \"normal\", \"pc\": \"abnormal\", \"pcc\": \"notpresent\", \"ba\": \"notpresent\", \"bgr\": 410.0, \"bu\": 31.0, \"sc\": 1.1, \"sod\": 139.0, \"pot\": 4.5, \"hemo\": 12.4, \"pcv\": 44.0, \"wbcc\": 6900.0, \"rbcc\": 5.0, \"htn\": \"no\", \"dm\": \"yes\", \"cad\": \"no\", \"appet\": \"good\", \"pe\": \"yes\", \"ane\": \"no\", \"class\": \"ckd\"}, {\"age\": 52.0, \"bp\": 100.0, \"sg\": 1.015, \"al\": 3.0, \"su\": 0.0, \"rbc\": \"normal\", \"pc\": \"abnormal\", \"pcc\": \"present\", \"ba\": \"notpresent\", \"bgr\": 138.0, \"bu\": 60.0, \"sc\": 1.9, \"sod\": 139.0, \"pot\": 4.5, \"hemo\": 10.8, \"pcv\": 33.0, \"wbcc\": 9600.0, \"rbcc\": 4.0, \"htn\": \"yes\", \"dm\": \"yes\", \"cad\": \"no\", \"appet\": \"good\", \"pe\": \"no\", \"ane\": \"yes\", \"class\": \"ckd\"}, {\"age\": 53.0, \"bp\": 90.0, \"sg\": 1.02, \"al\": 2.0, \"su\": 0.0, \"rbc\": \"abnormal\", \"pc\": \"abnormal\", \"pcc\": \"present\", \"ba\": \"notpresent\", \"bgr\": 70.0, \"bu\": 107.0, \"sc\": 7.2, \"sod\": 114.0, \"pot\": 3.7, \"hemo\": 9.5, \"pcv\": 29.0, \"wbcc\": 12100.0, \"rbcc\": 3.7, \"htn\": \"yes\", \"dm\": \"yes\", \"cad\": \"no\", \"appet\": \"poor\", \"pe\": \"no\", \"ane\": \"yes\", \"class\": \"ckd\"}, {\"age\": 63.0, \"bp\": 70.0, \"sg\": 1.01, \"al\": 3.0, \"su\": 0.0, \"rbc\": \"abnormal\", \"pc\": \"abnormal\", \"pcc\": \"present\", \"ba\": \"notpresent\", \"bgr\": 380.0, \"bu\": 60.0, \"sc\": 2.7, \"sod\": 131.0, \"pot\": 4.2, \"hemo\": 10.8, \"pcv\": 32.0, \"wbcc\": 4500.0, \"rbcc\": 3.8, \"htn\": \"yes\", \"dm\": \"yes\", \"cad\": \"no\", \"appet\": \"poor\", \"pe\": \"yes\", \"ane\": \"no\", \"class\": \"ckd\"}, {\"age\": 68.0, \"bp\": 80.0, \"sg\": 1.01, \"al\": 3.0, \"su\": 2.0, \"rbc\": \"normal\", \"pc\": \"abnormal\", \"pcc\": \"present\", \"ba\": \"present\", \"bgr\": 157.0, \"bu\": 90.0, \"sc\": 4.1, \"sod\": 130.0, \"pot\": 6.4, \"hemo\": 5.6, \"pcv\": 16.0, \"wbcc\": 11000.0, \"rbcc\": 2.6, \"htn\": \"yes\", \"dm\": \"yes\", \"cad\": \"yes\", \"appet\": \"poor\", \"pe\": \"yes\", \"ane\": \"no\", \"class\": \"ckd\"}, {\"age\": 61.0, \"bp\": 80.0, \"sg\": 1.015, \"al\": 2.0, \"su\": 0.0, \"rbc\": \"abnormal\", \"pc\": \"abnormal\", \"pcc\": \"notpresent\", \"ba\": \"notpresent\", \"bgr\": 173.0, \"bu\": 148.0, \"sc\": 3.9, \"sod\": 135.0, \"pot\": 5.2, \"hemo\": 7.7, \"pcv\": 24.0, \"wbcc\": 9200.0, \"rbcc\": 3.2, \"htn\": \"yes\", \"dm\": \"yes\", \"cad\": \"yes\", \"appet\": \"poor\", \"pe\": \"yes\", \"ane\": \"yes\", \"class\": \"ckd\"}, {\"age\": 48.0, \"bp\": 80.0, \"sg\": 1.025, \"al\": 4.0, \"su\": 0.0, \"rbc\": \"normal\", \"pc\": \"abnormal\", \"pcc\": \"notpresent\", \"ba\": \"notpresent\", \"bgr\": 95.0, \"bu\": 163.0, \"sc\": 7.7, \"sod\": 136.0, \"pot\": 3.8, \"hemo\": 9.8, \"pcv\": 32.0, \"wbcc\": 6900.0, \"rbcc\": 3.4, \"htn\": \"yes\", \"dm\": \"no\", \"cad\": \"no\", \"appet\": \"good\", \"pe\": \"no\", \"ane\": \"yes\", \"class\": \"ckd\"}, {\"age\": 42.0, \"bp\": 100.0, \"sg\": 1.015, \"al\": 4.0, \"su\": 0.0, \"rbc\": \"normal\", \"pc\": \"abnormal\", \"pcc\": \"notpresent\", \"ba\": \"present\", \"bgr\": 119.0, \"bu\": 50.0, \"sc\": 1.4, \"sod\": 129.0, \"pot\": 4.0, \"hemo\": 11.1, \"pcv\": 39.0, \"wbcc\": 8300.0, \"rbcc\": 4.6, \"htn\": \"yes\", \"dm\": \"no\", \"cad\": \"no\", \"appet\": \"poor\", \"pe\": \"no\", \"ane\": \"no\", \"class\": \"ckd\"}, {\"age\": 69.0, \"bp\": 70.0, \"sg\": 1.01, \"al\": 3.0, \"su\": 4.0, \"rbc\": \"normal\", \"pc\": \"abnormal\", \"pcc\": \"notpresent\", \"ba\": \"notpresent\", \"bgr\": 264.0, \"bu\": 87.0, \"sc\": 2.7, \"sod\": 130.0, \"pot\": 4.0, \"hemo\": 12.5, \"pcv\": 37.0, \"wbcc\": 9600.0, \"rbcc\": 4.1, \"htn\": \"yes\", \"dm\": \"yes\", \"cad\": \"yes\", \"appet\": \"good\", \"pe\": \"yes\", \"ane\": \"no\", \"class\": \"ckd\"}, {\"age\": 68.0, \"bp\": 70.0, \"sg\": 1.005, \"al\": 1.0, \"su\": 0.0, \"rbc\": \"abnormal\", \"pc\": \"abnormal\", \"pcc\": \"present\", \"ba\": \"notpresent\", \"bgr\": 119.0, \"bu\": 28.0, \"sc\": 1.4, \"sod\": 139.0, \"pot\": 4.5, \"hemo\": 12.9, \"pcv\": 38.0, \"wbcc\": 7900.0, \"rbcc\": 4.9, \"htn\": \"no\", \"dm\": \"no\", \"cad\": \"yes\", \"appet\": \"good\", \"pe\": \"no\", \"ane\": \"no\", \"class\": \"ckd\"}, {\"age\": 60.0, \"bp\": 100.0, \"sg\": 1.02, \"al\": 2.0, \"su\": 0.0, \"rbc\": \"abnormal\", \"pc\": \"abnormal\", \"pcc\": \"notpresent\", \"ba\": \"notpresent\", \"bgr\": 140.0, \"bu\": 55.0, \"sc\": 2.5, \"sod\": 139.0, \"pot\": 4.5, \"hemo\": 10.1, \"pcv\": 29.0, \"wbcc\": 7900.0, \"rbcc\": 4.9, \"htn\": \"yes\", \"dm\": \"no\", \"cad\": \"no\", \"appet\": \"poor\", \"pe\": \"no\", \"ane\": \"no\", \"class\": \"ckd\"}, {\"age\": 70.0, \"bp\": 70.0, \"sg\": 1.01, \"al\": 1.0, \"su\": 0.0, \"rbc\": \"normal\", \"pc\": \"normal\", \"pcc\": \"present\", \"ba\": \"present\", \"bgr\": 171.0, \"bu\": 153.0, \"sc\": 5.2, \"sod\": 139.0, \"pot\": 4.5, \"hemo\": 13.85, \"pcv\": 42.0, \"wbcc\": 7900.0, \"rbcc\": 4.9, \"htn\": \"no\", \"dm\": \"yes\", \"cad\": \"no\", \"appet\": \"poor\", \"pe\": \"no\", \"ane\": \"no\", \"class\": \"ckd\"}, {\"age\": 65.0, \"bp\": 90.0, \"sg\": 1.02, \"al\": 2.0, \"su\": 1.0, \"rbc\": \"abnormal\", \"pc\": \"normal\", \"pcc\": \"notpresent\", \"ba\": \"notpresent\", \"bgr\": 270.0, \"bu\": 39.0, \"sc\": 2.0, \"sod\": 139.0, \"pot\": 4.5, \"hemo\": 12.0, \"pcv\": 36.0, \"wbcc\": 9800.0, \"rbcc\": 4.9, \"htn\": \"yes\", \"dm\": \"yes\", \"cad\": \"no\", \"appet\": \"poor\", \"pe\": \"no\", \"ane\": \"yes\", \"class\": \"ckd\"}, {\"age\": 76.0, \"bp\": 70.0, \"sg\": 1.015, \"al\": 1.0, \"su\": 0.0, \"rbc\": \"normal\", \"pc\": \"normal\", \"pcc\": \"notpresent\", \"ba\": \"notpresent\", \"bgr\": 92.0, \"bu\": 29.0, \"sc\": 1.8, \"sod\": 133.0, \"pot\": 3.9, \"hemo\": 10.3, \"pcv\": 32.0, \"wbcc\": 7900.0, \"rbcc\": 4.9, \"htn\": \"yes\", \"dm\": \"no\", \"cad\": \"no\", \"appet\": \"good\", \"pe\": \"no\", \"ane\": \"no\", \"class\": \"ckd\"}, {\"age\": 69.0, \"bp\": 80.0, \"sg\": 1.02, \"al\": 3.0, \"su\": 0.0, \"rbc\": \"abnormal\", \"pc\": \"normal\", \"pcc\": \"notpresent\", \"ba\": \"notpresent\", \"bgr\": 119.0, \"bu\": 103.0, \"sc\": 4.1, \"sod\": 132.0, \"pot\": 5.9, \"hemo\": 12.5, \"pcv\": 42.0, \"wbcc\": 7900.0, \"rbcc\": 4.9, \"htn\": \"yes\", \"dm\": \"no\", \"cad\": \"no\", \"appet\": \"good\", \"pe\": \"no\", \"ane\": \"no\", \"class\": \"ckd\"}, {\"age\": 82.0, \"bp\": 80.0, \"sg\": 1.01, \"al\": 2.0, \"su\": 2.0, \"rbc\": \"normal\", \"pc\": \"normal\", \"pcc\": \"notpresent\", \"ba\": \"notpresent\", \"bgr\": 140.0, \"bu\": 70.0, \"sc\": 3.4, \"sod\": 136.0, \"pot\": 4.2, \"hemo\": 13.0, \"pcv\": 40.0, \"wbcc\": 9800.0, \"rbcc\": 4.2, \"htn\": \"yes\", \"dm\": \"yes\", \"cad\": \"no\", \"appet\": \"good\", \"pe\": \"no\", \"ane\": \"no\", \"class\": \"ckd\"}, {\"age\": 46.0, \"bp\": 90.0, \"sg\": 1.01, \"al\": 2.0, \"su\": 0.0, \"rbc\": \"normal\", \"pc\": \"abnormal\", \"pcc\": \"notpresent\", \"ba\": \"notpresent\", \"bgr\": 99.0, \"bu\": 80.0, \"sc\": 2.1, \"sod\": 139.0, \"pot\": 4.5, \"hemo\": 11.1, \"pcv\": 32.0, \"wbcc\": 9100.0, \"rbcc\": 4.1, \"htn\": \"yes\", \"dm\": \"no\", \"cad\": \"no\", \"appet\": \"good\", \"pe\": \"no\", \"ane\": \"no\", \"class\": \"ckd\"}, {\"age\": 35.0, \"bp\": 80.0, \"sg\": 1.01, \"al\": 1.0, \"su\": 0.0, \"rbc\": \"abnormal\", \"pc\": \"normal\", \"pcc\": \"notpresent\", \"ba\": \"notpresent\", \"bgr\": 79.0, \"bu\": 202.0, \"sc\": 10.8, \"sod\": 134.0, \"pot\": 3.4, \"hemo\": 7.9, \"pcv\": 24.0, \"wbcc\": 7900.0, \"rbcc\": 3.1, \"htn\": \"no\", \"dm\": \"yes\", \"cad\": \"no\", \"appet\": \"good\", \"pe\": \"no\", \"ane\": \"no\", \"class\": \"ckd\"}, {\"age\": 54.0, \"bp\": 80.0, \"sg\": 1.01, \"al\": 3.0, \"su\": 0.0, \"rbc\": \"abnormal\", \"pc\": \"abnormal\", \"pcc\": \"notpresent\", \"ba\": \"notpresent\", \"bgr\": 207.0, \"bu\": 77.0, \"sc\": 6.3, \"sod\": 134.0, \"pot\": 4.8, \"hemo\": 9.7, \"pcv\": 28.0, \"wbcc\": 7900.0, \"rbcc\": 4.9, \"htn\": \"yes\", \"dm\": \"yes\", \"cad\": \"no\", \"appet\": \"poor\", \"pe\": \"yes\", \"ane\": \"no\", \"class\": \"ckd\"}, {\"age\": 73.0, \"bp\": 70.0, \"sg\": 1.005, \"al\": 0.0, \"su\": 0.0, \"rbc\": \"normal\", \"pc\": \"normal\", \"pcc\": \"notpresent\", \"ba\": \"notpresent\", \"bgr\": 70.0, \"bu\": 32.0, \"sc\": 0.9, \"sod\": 125.0, \"pot\": 4.0, \"hemo\": 10.0, \"pcv\": 29.0, \"wbcc\": 18900.0, \"rbcc\": 3.5, \"htn\": \"yes\", \"dm\": \"yes\", \"cad\": \"no\", \"appet\": \"good\", \"pe\": \"yes\", \"ane\": \"no\", \"class\": \"ckd\"}, {\"age\": 60.0, \"bp\": 70.0, \"sg\": 1.01, \"al\": 2.0, \"su\": 0.0, \"rbc\": \"normal\", \"pc\": \"abnormal\", \"pcc\": \"present\", \"ba\": \"notpresent\", \"bgr\": 144.0, \"bu\": 72.0, \"sc\": 3.0, \"sod\": 139.0, \"pot\": 4.5, \"hemo\": 9.7, \"pcv\": 29.0, \"wbcc\": 21600.0, \"rbcc\": 3.5, \"htn\": \"yes\", \"dm\": \"yes\", \"cad\": \"no\", \"appet\": \"poor\", \"pe\": \"no\", \"ane\": \"yes\", \"class\": \"ckd\"}, {\"age\": 63.0, \"bp\": 80.0, \"sg\": 1.01, \"al\": 2.0, \"su\": 2.0, \"rbc\": \"normal\", \"pc\": \"normal\", \"pcc\": \"notpresent\", \"ba\": \"notpresent\", \"bgr\": 119.0, \"bu\": 40.0, \"sc\": 3.4, \"sod\": 136.0, \"pot\": 4.2, \"hemo\": 13.0, \"pcv\": 40.0, \"wbcc\": 9800.0, \"rbcc\": 4.2, \"htn\": \"yes\", \"dm\": \"no\", \"cad\": \"yes\", \"appet\": \"good\", \"pe\": \"no\", \"ane\": \"no\", \"class\": \"ckd\"}, {\"age\": 35.0, \"bp\": 80.0, \"sg\": 1.005, \"al\": 3.0, \"su\": 0.0, \"rbc\": \"abnormal\", \"pc\": \"normal\", \"pcc\": \"notpresent\", \"ba\": \"notpresent\", \"bgr\": 119.0, \"bu\": 40.0, \"sc\": 1.15, \"sod\": 139.0, \"pot\": 4.5, \"hemo\": 9.5, \"pcv\": 28.0, \"wbcc\": 7900.0, \"rbcc\": 4.9, \"htn\": \"no\", \"dm\": \"no\", \"cad\": \"no\", \"appet\": \"good\", \"pe\": \"yes\", \"ane\": \"no\", \"class\": \"ckd\"}, {\"age\": 76.0, \"bp\": 70.0, \"sg\": 1.015, \"al\": 3.0, \"su\": 4.0, \"rbc\": \"normal\", \"pc\": \"abnormal\", \"pcc\": \"present\", \"ba\": \"notpresent\", \"bgr\": 119.0, \"bu\": 164.0, \"sc\": 9.7, \"sod\": 131.0, \"pot\": 4.4, \"hemo\": 10.2, \"pcv\": 30.0, \"wbcc\": 11300.0, \"rbcc\": 3.4, \"htn\": \"yes\", \"dm\": \"yes\", \"cad\": \"yes\", \"appet\": \"poor\", \"pe\": \"yes\", \"ane\": \"no\", \"class\": \"ckd\"}, {\"age\": 73.0, \"bp\": 80.0, \"sg\": 1.02, \"al\": 2.0, \"su\": 0.0, \"rbc\": \"abnormal\", \"pc\": \"abnormal\", \"pcc\": \"notpresent\", \"ba\": \"notpresent\", \"bgr\": 253.0, \"bu\": 142.0, \"sc\": 4.6, \"sod\": 138.0, \"pot\": 5.8, \"hemo\": 10.5, \"pcv\": 33.0, \"wbcc\": 7200.0, \"rbcc\": 4.3, \"htn\": \"yes\", \"dm\": \"yes\", \"cad\": \"yes\", \"appet\": \"good\", \"pe\": \"no\", \"ane\": \"no\", \"class\": \"ckd\"}, {\"age\": 67.0, \"bp\": 80.0, \"sg\": 1.01, \"al\": 1.0, \"su\": 3.0, \"rbc\": \"normal\", \"pc\": \"abnormal\", \"pcc\": \"notpresent\", \"ba\": \"notpresent\", \"bgr\": 182.0, \"bu\": 391.0, \"sc\": 32.0, \"sod\": 163.0, \"pot\": 39.0, \"hemo\": 13.85, \"pcv\": 42.0, \"wbcc\": 7900.0, \"rbcc\": 4.9, \"htn\": \"no\", \"dm\": \"no\", \"cad\": \"no\", \"appet\": \"good\", \"pe\": \"yes\", \"ane\": \"no\", \"class\": \"ckd\"}, {\"age\": 46.0, \"bp\": 70.0, \"sg\": 1.015, \"al\": 1.0, \"su\": 0.0, \"rbc\": \"abnormal\", \"pc\": \"normal\", \"pcc\": \"notpresent\", \"ba\": \"notpresent\", \"bgr\": 150.0, \"bu\": 111.0, \"sc\": 6.1, \"sod\": 131.0, \"pot\": 3.7, \"hemo\": 7.5, \"pcv\": 27.0, \"wbcc\": 7900.0, \"rbcc\": 4.9, \"htn\": \"no\", \"dm\": \"no\", \"cad\": \"no\", \"appet\": \"good\", \"pe\": \"no\", \"ane\": \"yes\", \"class\": \"ckd\"}, {\"age\": 67.0, \"bp\": 70.0, \"sg\": 1.02, \"al\": 2.0, \"su\": 0.0, \"rbc\": \"abnormal\", \"pc\": \"normal\", \"pcc\": \"notpresent\", \"ba\": \"notpresent\", \"bgr\": 150.0, \"bu\": 55.0, \"sc\": 1.6, \"sod\": 131.0, \"pot\": 4.8, \"hemo\": 13.85, \"pcv\": 42.0, \"wbcc\": 7900.0, \"rbcc\": 4.9, \"htn\": \"yes\", \"dm\": \"yes\", \"cad\": \"no\", \"appet\": \"good\", \"pe\": \"yes\", \"ane\": \"no\", \"class\": \"ckd\"}, {\"age\": 45.0, \"bp\": 80.0, \"sg\": 1.02, \"al\": 3.0, \"su\": 0.0, \"rbc\": \"normal\", \"pc\": \"abnormal\", \"pcc\": \"notpresent\", \"ba\": \"notpresent\", \"bgr\": 425.0, \"bu\": 40.0, \"sc\": 1.15, \"sod\": 139.0, \"pot\": 4.5, \"hemo\": 13.85, \"pcv\": 42.0, \"wbcc\": 7900.0, \"rbcc\": 4.9, \"htn\": \"no\", \"dm\": \"no\", \"cad\": \"no\", \"appet\": \"poor\", \"pe\": \"no\", \"ane\": \"no\", \"class\": \"ckd\"}, {\"age\": 46.0, \"bp\": 60.0, \"sg\": 1.01, \"al\": 1.0, \"su\": 0.0, \"rbc\": \"normal\", \"pc\": \"normal\", \"pcc\": \"notpresent\", \"ba\": \"notpresent\", \"bgr\": 163.0, \"bu\": 92.0, \"sc\": 3.3, \"sod\": 141.0, \"pot\": 4.0, \"hemo\": 9.8, \"pcv\": 28.0, \"wbcc\": 14600.0, \"rbcc\": 3.2, \"htn\": \"yes\", \"dm\": \"yes\", \"cad\": \"no\", \"appet\": \"good\", \"pe\": \"no\", \"ane\": \"no\", \"class\": \"ckd\"}, {\"age\": 50.0, \"bp\": 100.0, \"sg\": 1.015, \"al\": 2.0, \"su\": 0.0, \"rbc\": \"abnormal\", \"pc\": \"abnormal\", \"pcc\": \"notpresent\", \"ba\": \"notpresent\", \"bgr\": 129.0, \"bu\": 107.0, \"sc\": 6.7, \"sod\": 132.0, \"pot\": 4.4, \"hemo\": 4.8, \"pcv\": 14.0, \"wbcc\": 6300.0, \"rbcc\": 4.9, \"htn\": \"yes\", \"dm\": \"no\", \"cad\": \"no\", \"appet\": \"good\", \"pe\": \"yes\", \"ane\": \"yes\", \"class\": \"ckd\"}, {\"age\": 56.0, \"bp\": 90.0, \"sg\": 1.015, \"al\": 2.0, \"su\": 0.0, \"rbc\": \"abnormal\", \"pc\": \"abnormal\", \"pcc\": \"notpresent\", \"ba\": \"notpresent\", \"bgr\": 129.0, \"bu\": 107.0, \"sc\": 6.7, \"sod\": 131.0, \"pot\": 4.8, \"hemo\": 9.1, \"pcv\": 29.0, \"wbcc\": 6400.0, \"rbcc\": 3.4, \"htn\": \"yes\", \"dm\": \"no\", \"cad\": \"no\", \"appet\": \"good\", \"pe\": \"no\", \"ane\": \"no\", \"class\": \"ckd\"}, {\"age\": 48.0, \"bp\": 80.0, \"sg\": 1.005, \"al\": 4.0, \"su\": 0.0, \"rbc\": \"abnormal\", \"pc\": \"abnormal\", \"pcc\": \"notpresent\", \"ba\": \"present\", \"bgr\": 133.0, \"bu\": 139.0, \"sc\": 8.5, \"sod\": 132.0, \"pot\": 5.5, \"hemo\": 10.3, \"pcv\": 36.0, \"wbcc\": 6200.0, \"rbcc\": 4.0, \"htn\": \"no\", \"dm\": \"yes\", \"cad\": \"no\", \"appet\": \"good\", \"pe\": \"yes\", \"ane\": \"no\", \"class\": \"ckd\"}, {\"age\": 48.0, \"bp\": 70.0, \"sg\": 1.015, \"al\": 1.0, \"su\": 0.0, \"rbc\": \"normal\", \"pc\": \"normal\", \"pcc\": \"notpresent\", \"ba\": \"notpresent\", \"bgr\": 127.0, \"bu\": 19.0, \"sc\": 1.0, \"sod\": 134.0, \"pot\": 3.6, \"hemo\": 13.85, \"pcv\": 42.0, \"wbcc\": 7900.0, \"rbcc\": 4.9, \"htn\": \"yes\", \"dm\": \"yes\", \"cad\": \"no\", \"appet\": \"good\", \"pe\": \"no\", \"ane\": \"no\", \"class\": \"ckd\"}, {\"age\": 59.0, \"bp\": 70.0, \"sg\": 1.01, \"al\": 3.0, \"su\": 0.0, \"rbc\": \"normal\", \"pc\": \"abnormal\", \"pcc\": \"notpresent\", \"ba\": \"notpresent\", \"bgr\": 76.0, \"bu\": 186.0, \"sc\": 15.0, \"sod\": 135.0, \"pot\": 7.6, \"hemo\": 7.1, \"pcv\": 22.0, \"wbcc\": 3800.0, \"rbcc\": 2.1, \"htn\": \"yes\", \"dm\": \"no\", \"cad\": \"no\", \"appet\": \"poor\", \"pe\": \"yes\", \"ane\": \"yes\", \"class\": \"ckd\"}, {\"age\": 70.0, \"bp\": 100.0, \"sg\": 1.005, \"al\": 1.0, \"su\": 0.0, \"rbc\": \"normal\", \"pc\": \"abnormal\", \"pcc\": \"present\", \"ba\": \"notpresent\", \"bgr\": 169.0, \"bu\": 47.0, \"sc\": 2.9, \"sod\": 139.0, \"pot\": 4.5, \"hemo\": 11.1, \"pcv\": 32.0, \"wbcc\": 5800.0, \"rbcc\": 5.0, \"htn\": \"yes\", \"dm\": \"yes\", \"cad\": \"no\", \"appet\": \"poor\", \"pe\": \"no\", \"ane\": \"no\", \"class\": \"ckd\"}, {\"age\": 63.0, \"bp\": 100.0, \"sg\": 1.01, \"al\": 2.0, \"su\": 2.0, \"rbc\": \"normal\", \"pc\": \"normal\", \"pcc\": \"notpresent\", \"ba\": \"present\", \"bgr\": 280.0, \"bu\": 35.0, \"sc\": 3.2, \"sod\": 143.0, \"pot\": 3.5, \"hemo\": 13.0, \"pcv\": 40.0, \"wbcc\": 9800.0, \"rbcc\": 4.2, \"htn\": \"yes\", \"dm\": \"no\", \"cad\": \"yes\", \"appet\": \"good\", \"pe\": \"no\", \"ane\": \"no\", \"class\": \"ckd\"}, {\"age\": 56.0, \"bp\": 70.0, \"sg\": 1.015, \"al\": 4.0, \"su\": 1.0, \"rbc\": \"abnormal\", \"pc\": \"normal\", \"pcc\": \"notpresent\", \"ba\": \"notpresent\", \"bgr\": 210.0, \"bu\": 26.0, \"sc\": 1.7, \"sod\": 136.0, \"pot\": 3.8, \"hemo\": 16.1, \"pcv\": 52.0, \"wbcc\": 12500.0, \"rbcc\": 5.6, \"htn\": \"no\", \"dm\": \"no\", \"cad\": \"no\", \"appet\": \"good\", \"pe\": \"no\", \"ane\": \"no\", \"class\": \"ckd\"}, {\"age\": 71.0, \"bp\": 70.0, \"sg\": 1.01, \"al\": 3.0, \"su\": 0.0, \"rbc\": \"normal\", \"pc\": \"abnormal\", \"pcc\": \"present\", \"ba\": \"present\", \"bgr\": 219.0, \"bu\": 82.0, \"sc\": 3.6, \"sod\": 133.0, \"pot\": 4.4, \"hemo\": 10.4, \"pcv\": 33.0, \"wbcc\": 5600.0, \"rbcc\": 3.6, \"htn\": \"yes\", \"dm\": \"yes\", \"cad\": \"yes\", \"appet\": \"good\", \"pe\": \"no\", \"ane\": \"no\", \"class\": \"ckd\"}, {\"age\": 73.0, \"bp\": 100.0, \"sg\": 1.01, \"al\": 3.0, \"su\": 2.0, \"rbc\": \"abnormal\", \"pc\": \"abnormal\", \"pcc\": \"present\", \"ba\": \"notpresent\", \"bgr\": 295.0, \"bu\": 90.0, \"sc\": 5.6, \"sod\": 140.0, \"pot\": 2.9, \"hemo\": 9.2, \"pcv\": 30.0, \"wbcc\": 7000.0, \"rbcc\": 3.2, \"htn\": \"yes\", \"dm\": \"yes\", \"cad\": \"yes\", \"appet\": \"poor\", \"pe\": \"no\", \"ane\": \"no\", \"class\": \"ckd\"}, {\"age\": 34.0, \"bp\": 70.0, \"sg\": 1.015, \"al\": 4.0, \"su\": 0.0, \"rbc\": \"abnormal\", \"pc\": \"abnormal\", \"pcc\": \"notpresent\", \"ba\": \"notpresent\", \"bgr\": 153.0, \"bu\": 22.0, \"sc\": 0.9, \"sod\": 133.0, \"pot\": 3.8, \"hemo\": 13.85, \"pcv\": 42.0, \"wbcc\": 7900.0, \"rbcc\": 4.9, \"htn\": \"no\", \"dm\": \"no\", \"cad\": \"no\", \"appet\": \"good\", \"pe\": \"yes\", \"ane\": \"no\", \"class\": \"ckd\"}, {\"age\": 76.0, \"bp\": 70.0, \"sg\": 1.015, \"al\": 2.0, \"su\": 0.0, \"rbc\": \"normal\", \"pc\": \"abnormal\", \"pcc\": \"present\", \"ba\": \"notpresent\", \"bgr\": 226.0, \"bu\": 217.0, \"sc\": 10.2, \"sod\": 139.0, \"pot\": 4.5, \"hemo\": 10.2, \"pcv\": 36.0, \"wbcc\": 12700.0, \"rbcc\": 4.2, \"htn\": \"yes\", \"dm\": \"no\", \"cad\": \"no\", \"appet\": \"poor\", \"pe\": \"yes\", \"ane\": \"yes\", \"class\": \"ckd\"}, {\"age\": 55.0, \"bp\": 100.0, \"sg\": 1.015, \"al\": 1.0, \"su\": 4.0, \"rbc\": \"normal\", \"pc\": \"normal\", \"pcc\": \"notpresent\", \"ba\": \"notpresent\", \"bgr\": 297.0, \"bu\": 53.0, \"sc\": 2.8, \"sod\": 139.0, \"pot\": 4.5, \"hemo\": 11.2, \"pcv\": 34.0, \"wbcc\": 13600.0, \"rbcc\": 4.4, \"htn\": \"yes\", \"dm\": \"yes\", \"cad\": \"no\", \"appet\": \"good\", \"pe\": \"no\", \"ane\": \"no\", \"class\": \"ckd\"}, {\"age\": 50.0, \"bp\": 60.0, \"sg\": 1.015, \"al\": 3.0, \"su\": 0.0, \"rbc\": \"abnormal\", \"pc\": \"abnormal\", \"pcc\": \"notpresent\", \"ba\": \"notpresent\", \"bgr\": 119.0, \"bu\": 34.0, \"sc\": 1.2, \"sod\": 139.0, \"pot\": 4.5, \"hemo\": 10.8, \"pcv\": 33.0, \"wbcc\": 7900.0, \"rbcc\": 4.9, \"htn\": \"no\", \"dm\": \"no\", \"cad\": \"no\", \"appet\": \"good\", \"pe\": \"no\", \"ane\": \"no\", \"class\": \"ckd\"}, {\"age\": 12.0, \"bp\": 60.0, \"sg\": 1.015, \"al\": 3.0, \"su\": 0.0, \"rbc\": \"abnormal\", \"pc\": \"abnormal\", \"pcc\": \"present\", \"ba\": \"notpresent\", \"bgr\": 119.0, \"bu\": 51.0, \"sc\": 1.8, \"sod\": 139.0, \"pot\": 4.5, \"hemo\": 12.1, \"pcv\": 42.0, \"wbcc\": 10300.0, \"rbcc\": 4.9, \"htn\": \"no\", \"dm\": \"no\", \"cad\": \"no\", \"appet\": \"good\", \"pe\": \"no\", \"ane\": \"no\", \"class\": \"ckd\"}, {\"age\": 50.0, \"bp\": 70.0, \"sg\": 1.015, \"al\": 4.0, \"su\": 0.0, \"rbc\": \"abnormal\", \"pc\": \"normal\", \"pcc\": \"notpresent\", \"ba\": \"notpresent\", \"bgr\": 104.0, \"bu\": 16.0, \"sc\": 0.5, \"sod\": 139.0, \"pot\": 4.5, \"hemo\": 13.85, \"pcv\": 42.0, \"wbcc\": 7900.0, \"rbcc\": 4.9, \"htn\": \"no\", \"dm\": \"no\", \"cad\": \"no\", \"appet\": \"good\", \"pe\": \"yes\", \"ane\": \"no\", \"class\": \"ckd\"}, {\"age\": 71.0, \"bp\": 60.0, \"sg\": 1.015, \"al\": 4.0, \"su\": 0.0, \"rbc\": \"normal\", \"pc\": \"normal\", \"pcc\": \"notpresent\", \"ba\": \"notpresent\", \"bgr\": 118.0, \"bu\": 125.0, \"sc\": 5.3, \"sod\": 136.0, \"pot\": 4.9, \"hemo\": 11.4, \"pcv\": 35.0, \"wbcc\": 15200.0, \"rbcc\": 4.3, \"htn\": \"yes\", \"dm\": \"yes\", \"cad\": \"no\", \"appet\": \"poor\", \"pe\": \"yes\", \"ane\": \"no\", \"class\": \"ckd\"}, {\"age\": 52.0, \"bp\": 90.0, \"sg\": 1.015, \"al\": 4.0, \"su\": 3.0, \"rbc\": \"normal\", \"pc\": \"abnormal\", \"pcc\": \"notpresent\", \"ba\": \"notpresent\", \"bgr\": 224.0, \"bu\": 166.0, \"sc\": 5.6, \"sod\": 133.0, \"pot\": 47.0, \"hemo\": 8.1, \"pcv\": 23.0, \"wbcc\": 5000.0, \"rbcc\": 2.9, \"htn\": \"yes\", \"dm\": \"yes\", \"cad\": \"no\", \"appet\": \"good\", \"pe\": \"no\", \"ane\": \"yes\", \"class\": \"ckd\"}, {\"age\": 50.0, \"bp\": 90.0, \"sg\": 1.01, \"al\": 2.0, \"su\": 0.0, \"rbc\": \"normal\", \"pc\": \"abnormal\", \"pcc\": \"present\", \"ba\": \"present\", \"bgr\": 128.0, \"bu\": 208.0, \"sc\": 9.2, \"sod\": 134.0, \"pot\": 4.8, \"hemo\": 8.2, \"pcv\": 22.0, \"wbcc\": 16300.0, \"rbcc\": 2.7, \"htn\": \"no\", \"dm\": \"no\", \"cad\": \"no\", \"appet\": \"poor\", \"pe\": \"yes\", \"ane\": \"yes\", \"class\": \"ckd\"}, {\"age\": 50.0, \"bp\": 80.0, \"sg\": 1.02, \"al\": 0.0, \"su\": 0.0, \"rbc\": \"normal\", \"pc\": \"normal\", \"pcc\": \"notpresent\", \"ba\": \"notpresent\", \"bgr\": 219.0, \"bu\": 176.0, \"sc\": 13.8, \"sod\": 136.0, \"pot\": 4.5, \"hemo\": 8.6, \"pcv\": 24.0, \"wbcc\": 13200.0, \"rbcc\": 2.7, \"htn\": \"yes\", \"dm\": \"no\", \"cad\": \"no\", \"appet\": \"good\", \"pe\": \"yes\", \"ane\": \"yes\", \"class\": \"ckd\"}, {\"age\": 70.0, \"bp\": 100.0, \"sg\": 1.015, \"al\": 4.0, \"su\": 0.0, \"rbc\": \"normal\", \"pc\": \"normal\", \"pcc\": \"notpresent\", \"ba\": \"notpresent\", \"bgr\": 118.0, \"bu\": 125.0, \"sc\": 5.3, \"sod\": 136.0, \"pot\": 4.9, \"hemo\": 12.0, \"pcv\": 37.0, \"wbcc\": 8400.0, \"rbcc\": 8.0, \"htn\": \"yes\", \"dm\": \"no\", \"cad\": \"no\", \"appet\": \"good\", \"pe\": \"no\", \"ane\": \"no\", \"class\": \"ckd\"}, {\"age\": 47.0, \"bp\": 100.0, \"sg\": 1.01, \"al\": 0.0, \"su\": 0.0, \"rbc\": \"normal\", \"pc\": \"normal\", \"pcc\": \"notpresent\", \"ba\": \"notpresent\", \"bgr\": 122.0, \"bu\": 40.0, \"sc\": 16.9, \"sod\": 138.0, \"pot\": 5.2, \"hemo\": 10.8, \"pcv\": 33.0, \"wbcc\": 10200.0, \"rbcc\": 3.8, \"htn\": \"no\", \"dm\": \"yes\", \"cad\": \"no\", \"appet\": \"good\", \"pe\": \"no\", \"ane\": \"no\", \"class\": \"ckd\"}, {\"age\": 45.0, \"bp\": 60.0, \"sg\": 1.01, \"al\": 2.0, \"su\": 0.0, \"rbc\": \"normal\", \"pc\": \"abnormal\", \"pcc\": \"present\", \"ba\": \"notpresent\", \"bgr\": 268.0, \"bu\": 86.0, \"sc\": 4.0, \"sod\": 134.0, \"pot\": 5.1, \"hemo\": 10.0, \"pcv\": 29.0, \"wbcc\": 9200.0, \"rbcc\": 4.9, \"htn\": \"yes\", \"dm\": \"yes\", \"cad\": \"no\", \"appet\": \"good\", \"pe\": \"no\", \"ane\": \"no\", \"class\": \"ckd\"}, {\"age\": 67.0, \"bp\": 70.0, \"sg\": 1.01, \"al\": 1.0, \"su\": 0.0, \"rbc\": \"normal\", \"pc\": \"normal\", \"pcc\": \"notpresent\", \"ba\": \"notpresent\", \"bgr\": 119.0, \"bu\": 106.0, \"sc\": 6.0, \"sod\": 137.0, \"pot\": 4.9, \"hemo\": 6.1, \"pcv\": 19.0, \"wbcc\": 6500.0, \"rbcc\": 4.9, \"htn\": \"yes\", \"dm\": \"no\", \"cad\": \"no\", \"appet\": \"good\", \"pe\": \"no\", \"ane\": \"yes\", \"class\": \"ckd\"}, {\"age\": 41.0, \"bp\": 80.0, \"sg\": 1.015, \"al\": 1.0, \"su\": 4.0, \"rbc\": \"abnormal\", \"pc\": \"normal\", \"pcc\": \"notpresent\", \"ba\": \"notpresent\", \"bgr\": 210.0, \"bu\": 165.0, \"sc\": 18.0, \"sod\": 135.0, \"pot\": 4.7, \"hemo\": 13.85, \"pcv\": 42.0, \"wbcc\": 7900.0, \"rbcc\": 4.9, \"htn\": \"no\", \"dm\": \"yes\", \"cad\": \"no\", \"appet\": \"good\", \"pe\": \"no\", \"ane\": \"no\", \"class\": \"ckd\"}, {\"age\": 60.0, \"bp\": 90.0, \"sg\": 1.01, \"al\": 2.0, \"su\": 0.0, \"rbc\": \"abnormal\", \"pc\": \"normal\", \"pcc\": \"notpresent\", \"ba\": \"notpresent\", \"bgr\": 105.0, \"bu\": 53.0, \"sc\": 2.3, \"sod\": 136.0, \"pot\": 5.2, \"hemo\": 11.1, \"pcv\": 33.0, \"wbcc\": 10500.0, \"rbcc\": 4.1, \"htn\": \"no\", \"dm\": \"no\", \"cad\": \"no\", \"appet\": \"good\", \"pe\": \"no\", \"ane\": \"no\", \"class\": \"ckd\"}, {\"age\": 57.0, \"bp\": 90.0, \"sg\": 1.015, \"al\": 5.0, \"su\": 0.0, \"rbc\": \"abnormal\", \"pc\": \"abnormal\", \"pcc\": \"notpresent\", \"ba\": \"present\", \"bgr\": 119.0, \"bu\": 322.0, \"sc\": 13.0, \"sod\": 126.0, \"pot\": 4.8, \"hemo\": 8.0, \"pcv\": 24.0, \"wbcc\": 4200.0, \"rbcc\": 3.3, \"htn\": \"yes\", \"dm\": \"yes\", \"cad\": \"yes\", \"appet\": \"poor\", \"pe\": \"yes\", \"ane\": \"yes\", \"class\": \"ckd\"}, {\"age\": 53.0, \"bp\": 100.0, \"sg\": 1.01, \"al\": 1.0, \"su\": 3.0, \"rbc\": \"abnormal\", \"pc\": \"normal\", \"pcc\": \"notpresent\", \"ba\": \"notpresent\", \"bgr\": 213.0, \"bu\": 23.0, \"sc\": 1.0, \"sod\": 139.0, \"pot\": 4.0, \"hemo\": 13.85, \"pcv\": 42.0, \"wbcc\": 7900.0, \"rbcc\": 4.9, \"htn\": \"no\", \"dm\": \"yes\", \"cad\": \"no\", \"appet\": \"good\", \"pe\": \"no\", \"ane\": \"no\", \"class\": \"ckd\"}, {\"age\": 60.0, \"bp\": 60.0, \"sg\": 1.01, \"al\": 3.0, \"su\": 1.0, \"rbc\": \"normal\", \"pc\": \"abnormal\", \"pcc\": \"present\", \"ba\": \"notpresent\", \"bgr\": 288.0, \"bu\": 36.0, \"sc\": 1.7, \"sod\": 130.0, \"pot\": 3.0, \"hemo\": 7.9, \"pcv\": 25.0, \"wbcc\": 15200.0, \"rbcc\": 3.0, \"htn\": \"yes\", \"dm\": \"no\", \"cad\": \"no\", \"appet\": \"poor\", \"pe\": \"no\", \"ane\": \"yes\", \"class\": \"ckd\"}, {\"age\": 65.0, \"bp\": 70.0, \"sg\": 1.02, \"al\": 1.0, \"su\": 0.0, \"rbc\": \"abnormal\", \"pc\": \"abnormal\", \"pcc\": \"notpresent\", \"ba\": \"notpresent\", \"bgr\": 139.0, \"bu\": 29.0, \"sc\": 1.0, \"sod\": 139.0, \"pot\": 4.5, \"hemo\": 10.5, \"pcv\": 32.0, \"wbcc\": 7900.0, \"rbcc\": 4.9, \"htn\": \"yes\", \"dm\": \"no\", \"cad\": \"no\", \"appet\": \"good\", \"pe\": \"yes\", \"ane\": \"no\", \"class\": \"ckd\"}, {\"age\": 8.0, \"bp\": 60.0, \"sg\": 1.025, \"al\": 3.0, \"su\": 0.0, \"rbc\": \"normal\", \"pc\": \"normal\", \"pcc\": \"notpresent\", \"ba\": \"notpresent\", \"bgr\": 78.0, \"bu\": 27.0, \"sc\": 0.9, \"sod\": 139.0, \"pot\": 4.5, \"hemo\": 12.3, \"pcv\": 41.0, \"wbcc\": 6700.0, \"rbcc\": 4.9, \"htn\": \"no\", \"dm\": \"no\", \"cad\": \"no\", \"appet\": \"poor\", \"pe\": \"yes\", \"ane\": \"no\", \"class\": \"ckd\"}, {\"age\": 55.0, \"bp\": 90.0, \"sg\": 1.01, \"al\": 2.0, \"su\": 1.0, \"rbc\": \"abnormal\", \"pc\": \"abnormal\", \"pcc\": \"notpresent\", \"ba\": \"notpresent\", \"bgr\": 273.0, \"bu\": 235.0, \"sc\": 14.2, \"sod\": 132.0, \"pot\": 3.4, \"hemo\": 8.3, \"pcv\": 22.0, \"wbcc\": 14600.0, \"rbcc\": 2.9, \"htn\": \"yes\", \"dm\": \"yes\", \"cad\": \"no\", \"appet\": \"poor\", \"pe\": \"yes\", \"ane\": \"yes\", \"class\": \"ckd\"}, {\"age\": 56.0, \"bp\": 90.0, \"sg\": 1.005, \"al\": 4.0, \"su\": 3.0, \"rbc\": \"abnormal\", \"pc\": \"abnormal\", \"pcc\": \"notpresent\", \"ba\": \"notpresent\", \"bgr\": 242.0, \"bu\": 132.0, \"sc\": 16.4, \"sod\": 140.0, \"pot\": 4.2, \"hemo\": 8.4, \"pcv\": 26.0, \"wbcc\": 7900.0, \"rbcc\": 3.0, \"htn\": \"yes\", \"dm\": \"yes\", \"cad\": \"no\", \"appet\": \"poor\", \"pe\": \"yes\", \"ane\": \"yes\", \"class\": \"ckd\"}, {\"age\": 50.0, \"bp\": 70.0, \"sg\": 1.02, \"al\": 3.0, \"su\": 0.0, \"rbc\": \"abnormal\", \"pc\": \"normal\", \"pcc\": \"present\", \"ba\": \"present\", \"bgr\": 123.0, \"bu\": 40.0, \"sc\": 1.8, \"sod\": 139.0, \"pot\": 4.5, \"hemo\": 11.1, \"pcv\": 36.0, \"wbcc\": 4700.0, \"rbcc\": 4.9, \"htn\": \"no\", \"dm\": \"no\", \"cad\": \"no\", \"appet\": \"good\", \"pe\": \"no\", \"ane\": \"no\", \"class\": \"ckd\"}, {\"age\": 62.0, \"bp\": 70.0, \"sg\": 1.025, \"al\": 3.0, \"su\": 0.0, \"rbc\": \"normal\", \"pc\": \"abnormal\", \"pcc\": \"notpresent\", \"ba\": \"notpresent\", \"bgr\": 122.0, \"bu\": 42.0, \"sc\": 1.7, \"sod\": 136.0, \"pot\": 4.7, \"hemo\": 12.6, \"pcv\": 39.0, \"wbcc\": 7900.0, \"rbcc\": 3.9, \"htn\": \"yes\", \"dm\": \"yes\", \"cad\": \"no\", \"appet\": \"good\", \"pe\": \"no\", \"ane\": \"no\", \"class\": \"ckd\"}, {\"age\": 71.0, \"bp\": 60.0, \"sg\": 1.02, \"al\": 3.0, \"su\": 2.0, \"rbc\": \"normal\", \"pc\": \"normal\", \"pcc\": \"present\", \"ba\": \"notpresent\", \"bgr\": 424.0, \"bu\": 48.0, \"sc\": 1.5, \"sod\": 132.0, \"pot\": 4.0, \"hemo\": 10.9, \"pcv\": 31.0, \"wbcc\": 7900.0, \"rbcc\": 4.9, \"htn\": \"yes\", \"dm\": \"yes\", \"cad\": \"yes\", \"appet\": \"good\", \"pe\": \"no\", \"ane\": \"no\", \"class\": \"ckd\"}, {\"age\": 59.0, \"bp\": 80.0, \"sg\": 1.01, \"al\": 1.0, \"su\": 0.0, \"rbc\": \"abnormal\", \"pc\": \"normal\", \"pcc\": \"notpresent\", \"ba\": \"notpresent\", \"bgr\": 303.0, \"bu\": 35.0, \"sc\": 1.3, \"sod\": 122.0, \"pot\": 3.5, \"hemo\": 10.4, \"pcv\": 35.0, \"wbcc\": 10900.0, \"rbcc\": 4.3, \"htn\": \"no\", \"dm\": \"yes\", \"cad\": \"no\", \"appet\": \"poor\", \"pe\": \"no\", \"ane\": \"no\", \"class\": \"ckd\"}, {\"age\": 62.0, \"bp\": 80.0, \"sg\": 1.015, \"al\": 3.0, \"su\": 0.0, \"rbc\": \"abnormal\", \"pc\": \"normal\", \"pcc\": \"notpresent\", \"ba\": \"notpresent\", \"bgr\": 119.0, \"bu\": 40.0, \"sc\": 1.15, \"sod\": 139.0, \"pot\": 4.5, \"hemo\": 14.3, \"pcv\": 42.0, \"wbcc\": 10200.0, \"rbcc\": 4.8, \"htn\": \"yes\", \"dm\": \"yes\", \"cad\": \"no\", \"appet\": \"good\", \"pe\": \"no\", \"ane\": \"no\", \"class\": \"ckd\"}, {\"age\": 34.0, \"bp\": 70.0, \"sg\": 1.02, \"al\": 0.0, \"su\": 0.0, \"rbc\": \"abnormal\", \"pc\": \"normal\", \"pcc\": \"notpresent\", \"ba\": \"notpresent\", \"bgr\": 139.0, \"bu\": 19.0, \"sc\": 0.9, \"sod\": 139.0, \"pot\": 4.5, \"hemo\": 12.7, \"pcv\": 42.0, \"wbcc\": 2200.0, \"rbcc\": 4.9, \"htn\": \"no\", \"dm\": \"no\", \"cad\": \"no\", \"appet\": \"poor\", \"pe\": \"no\", \"ane\": \"no\", \"class\": \"ckd\"}, {\"age\": 83.0, \"bp\": 70.0, \"sg\": 1.02, \"al\": 3.0, \"su\": 0.0, \"rbc\": \"normal\", \"pc\": \"normal\", \"pcc\": \"notpresent\", \"ba\": \"notpresent\", \"bgr\": 102.0, \"bu\": 60.0, \"sc\": 2.6, \"sod\": 115.0, \"pot\": 5.7, \"hemo\": 8.7, \"pcv\": 26.0, \"wbcc\": 12800.0, \"rbcc\": 3.1, \"htn\": \"yes\", \"dm\": \"no\", \"cad\": \"no\", \"appet\": \"poor\", \"pe\": \"no\", \"ane\": \"yes\", \"class\": \"ckd\"}, {\"age\": 17.0, \"bp\": 70.0, \"sg\": 1.015, \"al\": 1.0, \"su\": 0.0, \"rbc\": \"abnormal\", \"pc\": \"normal\", \"pcc\": \"notpresent\", \"ba\": \"notpresent\", \"bgr\": 22.0, \"bu\": 1.5, \"sc\": 7.3, \"sod\": 145.0, \"pot\": 2.8, \"hemo\": 13.1, \"pcv\": 41.0, \"wbcc\": 11200.0, \"rbcc\": 4.9, \"htn\": \"no\", \"dm\": \"no\", \"cad\": \"no\", \"appet\": \"good\", \"pe\": \"no\", \"ane\": \"no\", \"class\": \"ckd\"}, {\"age\": 21.0, \"bp\": 90.0, \"sg\": 1.01, \"al\": 4.0, \"su\": 0.0, \"rbc\": \"normal\", \"pc\": \"abnormal\", \"pcc\": \"present\", \"ba\": \"present\", \"bgr\": 107.0, \"bu\": 40.0, \"sc\": 1.7, \"sod\": 125.0, \"pot\": 3.5, \"hemo\": 8.3, \"pcv\": 23.0, \"wbcc\": 12400.0, \"rbcc\": 3.9, \"htn\": \"no\", \"dm\": \"no\", \"cad\": \"no\", \"appet\": \"good\", \"pe\": \"no\", \"ane\": \"yes\", \"class\": \"ckd\"}, {\"age\": 65.0, \"bp\": 80.0, \"sg\": 1.015, \"al\": 2.0, \"su\": 1.0, \"rbc\": \"normal\", \"pc\": \"normal\", \"pcc\": \"present\", \"ba\": \"notpresent\", \"bgr\": 215.0, \"bu\": 133.0, \"sc\": 2.5, \"sod\": 139.0, \"pot\": 4.5, \"hemo\": 13.2, \"pcv\": 41.0, \"wbcc\": 7900.0, \"rbcc\": 4.9, \"htn\": \"no\", \"dm\": \"yes\", \"cad\": \"no\", \"appet\": \"good\", \"pe\": \"no\", \"ane\": \"no\", \"class\": \"ckd\"}, {\"age\": 42.0, \"bp\": 90.0, \"sg\": 1.02, \"al\": 2.0, \"su\": 0.0, \"rbc\": \"abnormal\", \"pc\": \"abnormal\", \"pcc\": \"present\", \"ba\": \"notpresent\", \"bgr\": 93.0, \"bu\": 153.0, \"sc\": 2.7, \"sod\": 139.0, \"pot\": 4.3, \"hemo\": 9.8, \"pcv\": 34.0, \"wbcc\": 9800.0, \"rbcc\": 4.9, \"htn\": \"no\", \"dm\": \"no\", \"cad\": \"no\", \"appet\": \"poor\", \"pe\": \"yes\", \"ane\": \"yes\", \"class\": \"ckd\"}, {\"age\": 73.0, \"bp\": 90.0, \"sg\": 1.01, \"al\": 1.0, \"su\": 4.0, \"rbc\": \"abnormal\", \"pc\": \"abnormal\", \"pcc\": \"present\", \"ba\": \"notpresent\", \"bgr\": 234.0, \"bu\": 56.0, \"sc\": 1.9, \"sod\": 139.0, \"pot\": 4.5, \"hemo\": 10.3, \"pcv\": 28.0, \"wbcc\": 7900.0, \"rbcc\": 4.9, \"htn\": \"no\", \"dm\": \"yes\", \"cad\": \"no\", \"appet\": \"good\", \"pe\": \"no\", \"ane\": \"no\", \"class\": \"ckd\"}, {\"age\": 45.0, \"bp\": 70.0, \"sg\": 1.025, \"al\": 2.0, \"su\": 0.0, \"rbc\": \"normal\", \"pc\": \"abnormal\", \"pcc\": \"present\", \"ba\": \"notpresent\", \"bgr\": 117.0, \"bu\": 52.0, \"sc\": 2.2, \"sod\": 136.0, \"pot\": 3.8, \"hemo\": 10.0, \"pcv\": 30.0, \"wbcc\": 19100.0, \"rbcc\": 3.7, \"htn\": \"no\", \"dm\": \"no\", \"cad\": \"no\", \"appet\": \"good\", \"pe\": \"no\", \"ane\": \"no\", \"class\": \"ckd\"}, {\"age\": 8.0, \"bp\": 50.0, \"sg\": 1.02, \"al\": 4.0, \"su\": 0.0, \"rbc\": \"normal\", \"pc\": \"normal\", \"pcc\": \"notpresent\", \"ba\": \"notpresent\", \"bgr\": 119.0, \"bu\": 46.0, \"sc\": 1.0, \"sod\": 135.0, \"pot\": 3.8, \"hemo\": 13.85, \"pcv\": 42.0, \"wbcc\": 7900.0, \"rbcc\": 4.9, \"htn\": \"no\", \"dm\": \"no\", \"cad\": \"no\", \"appet\": \"good\", \"pe\": \"yes\", \"ane\": \"no\", \"class\": \"ckd\"}, {\"age\": 3.0, \"bp\": 80.0, \"sg\": 1.01, \"al\": 2.0, \"su\": 0.0, \"rbc\": \"normal\", \"pc\": \"normal\", \"pcc\": \"notpresent\", \"ba\": \"notpresent\", \"bgr\": 119.0, \"bu\": 22.0, \"sc\": 0.7, \"sod\": 139.0, \"pot\": 4.5, \"hemo\": 10.7, \"pcv\": 34.0, \"wbcc\": 12300.0, \"rbcc\": 4.9, \"htn\": \"no\", \"dm\": \"no\", \"cad\": \"no\", \"appet\": \"good\", \"pe\": \"no\", \"ane\": \"no\", \"class\": \"ckd\"}, {\"age\": 64.0, \"bp\": 60.0, \"sg\": 1.01, \"al\": 4.0, \"su\": 1.0, \"rbc\": \"abnormal\", \"pc\": \"abnormal\", \"pcc\": \"notpresent\", \"ba\": \"present\", \"bgr\": 239.0, \"bu\": 58.0, \"sc\": 4.3, \"sod\": 137.0, \"pot\": 5.4, \"hemo\": 9.5, \"pcv\": 29.0, \"wbcc\": 7500.0, \"rbcc\": 3.4, \"htn\": \"yes\", \"dm\": \"yes\", \"cad\": \"no\", \"appet\": \"poor\", \"pe\": \"yes\", \"ane\": \"no\", \"class\": \"ckd\"}, {\"age\": 6.0, \"bp\": 60.0, \"sg\": 1.01, \"al\": 4.0, \"su\": 0.0, \"rbc\": \"abnormal\", \"pc\": \"abnormal\", \"pcc\": \"notpresent\", \"ba\": \"present\", \"bgr\": 94.0, \"bu\": 67.0, \"sc\": 1.0, \"sod\": 135.0, \"pot\": 4.9, \"hemo\": 9.9, \"pcv\": 30.0, \"wbcc\": 16700.0, \"rbcc\": 4.8, \"htn\": \"no\", \"dm\": \"no\", \"cad\": \"no\", \"appet\": \"poor\", \"pe\": \"no\", \"ane\": \"no\", \"class\": \"ckd\"}, {\"age\": 50.0, \"bp\": 70.0, \"sg\": 1.01, \"al\": 3.0, \"su\": 0.0, \"rbc\": \"normal\", \"pc\": \"normal\", \"pcc\": \"notpresent\", \"ba\": \"notpresent\", \"bgr\": 110.0, \"bu\": 115.0, \"sc\": 6.0, \"sod\": 134.0, \"pot\": 2.7, \"hemo\": 9.1, \"pcv\": 26.0, \"wbcc\": 9200.0, \"rbcc\": 3.4, \"htn\": \"yes\", \"dm\": \"yes\", \"cad\": \"no\", \"appet\": \"poor\", \"pe\": \"no\", \"ane\": \"no\", \"class\": \"ckd\"}, {\"age\": 32.0, \"bp\": 90.0, \"sg\": 1.025, \"al\": 1.0, \"su\": 0.0, \"rbc\": \"abnormal\", \"pc\": \"abnormal\", \"pcc\": \"notpresent\", \"ba\": \"notpresent\", \"bgr\": 119.0, \"bu\": 223.0, \"sc\": 18.1, \"sod\": 113.0, \"pot\": 6.5, \"hemo\": 5.5, \"pcv\": 15.0, \"wbcc\": 2600.0, \"rbcc\": 2.8, \"htn\": \"yes\", \"dm\": \"yes\", \"cad\": \"no\", \"appet\": \"poor\", \"pe\": \"yes\", \"ane\": \"yes\", \"class\": \"ckd\"}, {\"age\": 70.0, \"bp\": 90.0, \"sg\": 1.02, \"al\": 2.0, \"su\": 1.0, \"rbc\": \"abnormal\", \"pc\": \"abnormal\", \"pcc\": \"notpresent\", \"ba\": \"present\", \"bgr\": 184.0, \"bu\": 98.6, \"sc\": 3.3, \"sod\": 138.0, \"pot\": 3.9, \"hemo\": 5.8, \"pcv\": 42.0, \"wbcc\": 7900.0, \"rbcc\": 4.9, \"htn\": \"yes\", \"dm\": \"yes\", \"cad\": \"yes\", \"appet\": \"poor\", \"pe\": \"no\", \"ane\": \"no\", \"class\": \"ckd\"}, {\"age\": 49.0, \"bp\": 100.0, \"sg\": 1.01, \"al\": 3.0, \"su\": 0.0, \"rbc\": \"abnormal\", \"pc\": \"abnormal\", \"pcc\": \"notpresent\", \"ba\": \"notpresent\", \"bgr\": 129.0, \"bu\": 158.0, \"sc\": 11.8, \"sod\": 122.0, \"pot\": 3.2, \"hemo\": 8.1, \"pcv\": 24.0, \"wbcc\": 9600.0, \"rbcc\": 3.5, \"htn\": \"yes\", \"dm\": \"yes\", \"cad\": \"no\", \"appet\": \"poor\", \"pe\": \"yes\", \"ane\": \"yes\", \"class\": \"ckd\"}, {\"age\": 59.0, \"bp\": 100.0, \"sg\": 1.02, \"al\": 4.0, \"su\": 2.0, \"rbc\": \"normal\", \"pc\": \"normal\", \"pcc\": \"notpresent\", \"ba\": \"notpresent\", \"bgr\": 252.0, \"bu\": 40.0, \"sc\": 3.2, \"sod\": 137.0, \"pot\": 4.7, \"hemo\": 11.2, \"pcv\": 30.0, \"wbcc\": 26400.0, \"rbcc\": 3.9, \"htn\": \"yes\", \"dm\": \"yes\", \"cad\": \"no\", \"appet\": \"poor\", \"pe\": \"yes\", \"ane\": \"no\", \"class\": \"ckd\"}, {\"age\": 65.0, \"bp\": 90.0, \"sg\": 1.01, \"al\": 4.0, \"su\": 2.0, \"rbc\": \"normal\", \"pc\": \"normal\", \"pcc\": \"notpresent\", \"ba\": \"notpresent\", \"bgr\": 172.0, \"bu\": 82.0, \"sc\": 13.5, \"sod\": 145.0, \"pot\": 6.3, \"hemo\": 8.8, \"pcv\": 31.0, \"wbcc\": 7900.0, \"rbcc\": 4.9, \"htn\": \"yes\", \"dm\": \"yes\", \"cad\": \"no\", \"appet\": \"good\", \"pe\": \"yes\", \"ane\": \"yes\", \"class\": \"ckd\"}, {\"age\": 59.0, \"bp\": 100.0, \"sg\": 1.015, \"al\": 4.0, \"su\": 2.0, \"rbc\": \"normal\", \"pc\": \"normal\", \"pcc\": \"notpresent\", \"ba\": \"notpresent\", \"bgr\": 255.0, \"bu\": 132.0, \"sc\": 12.8, \"sod\": 135.0, \"pot\": 5.7, \"hemo\": 7.3, \"pcv\": 20.0, \"wbcc\": 9800.0, \"rbcc\": 3.9, \"htn\": \"yes\", \"dm\": \"yes\", \"cad\": \"yes\", \"appet\": \"good\", \"pe\": \"no\", \"ane\": \"yes\", \"class\": \"ckd\"}, {\"age\": 40.0, \"bp\": 70.0, \"sg\": 1.015, \"al\": 3.0, \"su\": 4.0, \"rbc\": \"normal\", \"pc\": \"normal\", \"pcc\": \"notpresent\", \"ba\": \"notpresent\", \"bgr\": 253.0, \"bu\": 150.0, \"sc\": 11.9, \"sod\": 132.0, \"pot\": 5.6, \"hemo\": 10.9, \"pcv\": 31.0, \"wbcc\": 8800.0, \"rbcc\": 3.4, \"htn\": \"yes\", \"dm\": \"yes\", \"cad\": \"no\", \"appet\": \"poor\", \"pe\": \"yes\", \"ane\": \"no\", \"class\": \"ckd\"}, {\"age\": 55.0, \"bp\": 80.0, \"sg\": 1.01, \"al\": 3.0, \"su\": 1.0, \"rbc\": \"normal\", \"pc\": \"abnormal\", \"pcc\": \"present\", \"ba\": \"present\", \"bgr\": 214.0, \"bu\": 73.0, \"sc\": 3.9, \"sod\": 137.0, \"pot\": 4.9, \"hemo\": 10.9, \"pcv\": 34.0, \"wbcc\": 7400.0, \"rbcc\": 3.7, \"htn\": \"yes\", \"dm\": \"yes\", \"cad\": \"no\", \"appet\": \"good\", \"pe\": \"yes\", \"ane\": \"no\", \"class\": \"ckd\"}, {\"age\": 2.0, \"bp\": 80.0, \"sg\": 1.01, \"al\": 3.0, \"su\": 0.0, \"rbc\": \"normal\", \"pc\": \"abnormal\", \"pcc\": \"notpresent\", \"ba\": \"notpresent\", \"bgr\": 119.0, \"bu\": 40.0, \"sc\": 1.15, \"sod\": 139.0, \"pot\": 4.5, \"hemo\": 13.85, \"pcv\": 42.0, \"wbcc\": 7900.0, \"rbcc\": 4.9, \"htn\": \"no\", \"dm\": \"no\", \"cad\": \"no\", \"appet\": \"good\", \"pe\": \"yes\", \"ane\": \"no\", \"class\": \"ckd\"}, {\"age\": 66.0, \"bp\": 70.0, \"sg\": 1.02, \"al\": 1.0, \"su\": 0.0, \"rbc\": \"normal\", \"pc\": \"normal\", \"pcc\": \"notpresent\", \"ba\": \"notpresent\", \"bgr\": 248.0, \"bu\": 30.0, \"sc\": 1.7, \"sod\": 138.0, \"pot\": 5.3, \"hemo\": 13.85, \"pcv\": 42.0, \"wbcc\": 7900.0, \"rbcc\": 4.9, \"htn\": \"yes\", \"dm\": \"yes\", \"cad\": \"no\", \"appet\": \"good\", \"pe\": \"no\", \"ane\": \"no\", \"class\": \"ckd\"}, {\"age\": 60.0, \"bp\": 90.0, \"sg\": 1.01, \"al\": 3.0, \"su\": 5.0, \"rbc\": \"abnormal\", \"pc\": \"normal\", \"pcc\": \"notpresent\", \"ba\": \"present\", \"bgr\": 490.0, \"bu\": 95.0, \"sc\": 2.7, \"sod\": 131.0, \"pot\": 3.8, \"hemo\": 11.5, \"pcv\": 35.0, \"wbcc\": 12000.0, \"rbcc\": 4.5, \"htn\": \"yes\", \"dm\": \"yes\", \"cad\": \"no\", \"appet\": \"good\", \"pe\": \"no\", \"ane\": \"no\", \"class\": \"ckd\"}, {\"age\": 64.0, \"bp\": 100.0, \"sg\": 1.015, \"al\": 4.0, \"su\": 2.0, \"rbc\": \"abnormal\", \"pc\": \"abnormal\", \"pcc\": \"notpresent\", \"ba\": \"present\", \"bgr\": 163.0, \"bu\": 54.0, \"sc\": 7.2, \"sod\": 140.0, \"pot\": 4.6, \"hemo\": 7.9, \"pcv\": 26.0, \"wbcc\": 7500.0, \"rbcc\": 3.4, \"htn\": \"yes\", \"dm\": \"yes\", \"cad\": \"no\", \"appet\": \"good\", \"pe\": \"yes\", \"ane\": \"no\", \"class\": \"ckd\"}, {\"age\": 59.0, \"bp\": 50.0, \"sg\": 1.01, \"al\": 3.0, \"su\": 0.0, \"rbc\": \"normal\", \"pc\": \"abnormal\", \"pcc\": \"notpresent\", \"ba\": \"notpresent\", \"bgr\": 241.0, \"bu\": 191.0, \"sc\": 12.0, \"sod\": 114.0, \"pot\": 2.9, \"hemo\": 9.6, \"pcv\": 31.0, \"wbcc\": 15700.0, \"rbcc\": 3.8, \"htn\": \"no\", \"dm\": \"yes\", \"cad\": \"no\", \"appet\": \"good\", \"pe\": \"yes\", \"ane\": \"no\", \"class\": \"ckd\"}, {\"age\": 65.0, \"bp\": 60.0, \"sg\": 1.01, \"al\": 2.0, \"su\": 0.0, \"rbc\": \"normal\", \"pc\": \"abnormal\", \"pcc\": \"present\", \"ba\": \"notpresent\", \"bgr\": 192.0, \"bu\": 17.0, \"sc\": 1.7, \"sod\": 130.0, \"pot\": 4.3, \"hemo\": 13.85, \"pcv\": 42.0, \"wbcc\": 9500.0, \"rbcc\": 4.9, \"htn\": \"yes\", \"dm\": \"yes\", \"cad\": \"no\", \"appet\": \"poor\", \"pe\": \"no\", \"ane\": \"no\", \"class\": \"ckd\"}, {\"age\": 50.0, \"bp\": 90.0, \"sg\": 1.015, \"al\": 1.0, \"su\": 0.0, \"rbc\": \"abnormal\", \"pc\": \"abnormal\", \"pcc\": \"notpresent\", \"ba\": \"notpresent\", \"bgr\": 119.0, \"bu\": 40.0, \"sc\": 1.15, \"sod\": 139.0, \"pot\": 4.5, \"hemo\": 13.85, \"pcv\": 42.0, \"wbcc\": 7900.0, \"rbcc\": 4.9, \"htn\": \"no\", \"dm\": \"no\", \"cad\": \"no\", \"appet\": \"good\", \"pe\": \"yes\", \"ane\": \"no\", \"class\": \"ckd\"}, {\"age\": 51.0, \"bp\": 100.0, \"sg\": 1.015, \"al\": 2.0, \"su\": 0.0, \"rbc\": \"normal\", \"pc\": \"normal\", \"pcc\": \"notpresent\", \"ba\": \"present\", \"bgr\": 93.0, \"bu\": 20.0, \"sc\": 1.6, \"sod\": 146.0, \"pot\": 4.5, \"hemo\": 13.85, \"pcv\": 42.0, \"wbcc\": 7900.0, \"rbcc\": 4.9, \"htn\": \"no\", \"dm\": \"no\", \"cad\": \"no\", \"appet\": \"poor\", \"pe\": \"no\", \"ane\": \"no\", \"class\": \"ckd\"}, {\"age\": 37.0, \"bp\": 100.0, \"sg\": 1.01, \"al\": 0.0, \"su\": 0.0, \"rbc\": \"abnormal\", \"pc\": \"normal\", \"pcc\": \"notpresent\", \"ba\": \"notpresent\", \"bgr\": 119.0, \"bu\": 19.0, \"sc\": 1.3, \"sod\": 139.0, \"pot\": 4.5, \"hemo\": 15.0, \"pcv\": 44.0, \"wbcc\": 4100.0, \"rbcc\": 5.2, \"htn\": \"yes\", \"dm\": \"no\", \"cad\": \"no\", \"appet\": \"good\", \"pe\": \"no\", \"ane\": \"no\", \"class\": \"ckd\"}, {\"age\": 34.0, \"bp\": 90.0, \"sg\": 1.015, \"al\": 2.0, \"su\": 0.0, \"rbc\": \"normal\", \"pc\": \"normal\", \"pcc\": \"notpresent\", \"ba\": \"notpresent\", \"bgr\": 104.0, \"bu\": 50.0, \"sc\": 1.6, \"sod\": 137.0, \"pot\": 4.1, \"hemo\": 11.9, \"pcv\": 39.0, \"wbcc\": 7900.0, \"rbcc\": 4.9, \"htn\": \"no\", \"dm\": \"no\", \"cad\": \"no\", \"appet\": \"good\", \"pe\": \"no\", \"ane\": \"no\", \"class\": \"ckd\"}, {\"age\": 69.0, \"bp\": 70.0, \"sg\": 1.01, \"al\": 4.0, \"su\": 3.0, \"rbc\": \"normal\", \"pc\": \"abnormal\", \"pcc\": \"present\", \"ba\": \"present\", \"bgr\": 214.0, \"bu\": 96.0, \"sc\": 6.3, \"sod\": 120.0, \"pot\": 3.9, \"hemo\": 9.4, \"pcv\": 28.0, \"wbcc\": 11500.0, \"rbcc\": 3.3, \"htn\": \"yes\", \"dm\": \"yes\", \"cad\": \"yes\", \"appet\": \"good\", \"pe\": \"yes\", \"ane\": \"yes\", \"class\": \"ckd\"}, {\"age\": 48.0, \"bp\": 110.0, \"sg\": 1.015, \"al\": 3.0, \"su\": 0.0, \"rbc\": \"abnormal\", \"pc\": \"normal\", \"pcc\": \"present\", \"ba\": \"notpresent\", \"bgr\": 106.0, \"bu\": 215.0, \"sc\": 15.2, \"sod\": 120.0, \"pot\": 5.7, \"hemo\": 8.6, \"pcv\": 26.0, \"wbcc\": 5000.0, \"rbcc\": 2.5, \"htn\": \"yes\", \"dm\": \"no\", \"cad\": \"yes\", \"appet\": \"good\", \"pe\": \"no\", \"ane\": \"yes\", \"class\": \"ckd\"}, {\"age\": 54.0, \"bp\": 90.0, \"sg\": 1.025, \"al\": 1.0, \"su\": 0.0, \"rbc\": \"normal\", \"pc\": \"abnormal\", \"pcc\": \"notpresent\", \"ba\": \"notpresent\", \"bgr\": 150.0, \"bu\": 18.0, \"sc\": 1.2, \"sod\": 140.0, \"pot\": 4.2, \"hemo\": 13.85, \"pcv\": 42.0, \"wbcc\": 7900.0, \"rbcc\": 4.9, \"htn\": \"no\", \"dm\": \"no\", \"cad\": \"no\", \"appet\": \"poor\", \"pe\": \"yes\", \"ane\": \"yes\", \"class\": \"ckd\"}, {\"age\": 59.0, \"bp\": 70.0, \"sg\": 1.01, \"al\": 1.0, \"su\": 3.0, \"rbc\": \"abnormal\", \"pc\": \"abnormal\", \"pcc\": \"notpresent\", \"ba\": \"notpresent\", \"bgr\": 424.0, \"bu\": 55.0, \"sc\": 1.7, \"sod\": 138.0, \"pot\": 4.5, \"hemo\": 12.6, \"pcv\": 37.0, \"wbcc\": 10200.0, \"rbcc\": 4.1, \"htn\": \"yes\", \"dm\": \"yes\", \"cad\": \"yes\", \"appet\": \"good\", \"pe\": \"no\", \"ane\": \"no\", \"class\": \"ckd\"}, {\"age\": 56.0, \"bp\": 90.0, \"sg\": 1.01, \"al\": 4.0, \"su\": 1.0, \"rbc\": \"normal\", \"pc\": \"abnormal\", \"pcc\": \"present\", \"ba\": \"notpresent\", \"bgr\": 176.0, \"bu\": 309.0, \"sc\": 13.3, \"sod\": 124.0, \"pot\": 6.5, \"hemo\": 3.1, \"pcv\": 9.0, \"wbcc\": 5400.0, \"rbcc\": 2.1, \"htn\": \"yes\", \"dm\": \"yes\", \"cad\": \"no\", \"appet\": \"poor\", \"pe\": \"yes\", \"ane\": \"yes\", \"class\": \"ckd\"}, {\"age\": 40.0, \"bp\": 80.0, \"sg\": 1.025, \"al\": 0.0, \"su\": 0.0, \"rbc\": \"normal\", \"pc\": \"normal\", \"pcc\": \"notpresent\", \"ba\": \"notpresent\", \"bgr\": 140.0, \"bu\": 10.0, \"sc\": 1.2, \"sod\": 135.0, \"pot\": 5.0, \"hemo\": 15.0, \"pcv\": 48.0, \"wbcc\": 10400.0, \"rbcc\": 4.5, \"htn\": \"no\", \"dm\": \"no\", \"cad\": \"no\", \"appet\": \"good\", \"pe\": \"no\", \"ane\": \"no\", \"class\": \"notckd\"}, {\"age\": 23.0, \"bp\": 80.0, \"sg\": 1.025, \"al\": 0.0, \"su\": 0.0, \"rbc\": \"normal\", \"pc\": \"normal\", \"pcc\": \"notpresent\", \"ba\": \"notpresent\", \"bgr\": 70.0, \"bu\": 36.0, \"sc\": 1.0, \"sod\": 150.0, \"pot\": 4.6, \"hemo\": 17.0, \"pcv\": 52.0, \"wbcc\": 9800.0, \"rbcc\": 5.0, \"htn\": \"no\", \"dm\": \"no\", \"cad\": \"no\", \"appet\": \"good\", \"pe\": \"no\", \"ane\": \"no\", \"class\": \"notckd\"}, {\"age\": 45.0, \"bp\": 80.0, \"sg\": 1.025, \"al\": 0.0, \"su\": 0.0, \"rbc\": \"normal\", \"pc\": \"normal\", \"pcc\": \"notpresent\", \"ba\": \"notpresent\", \"bgr\": 82.0, \"bu\": 49.0, \"sc\": 0.6, \"sod\": 147.0, \"pot\": 4.4, \"hemo\": 15.9, \"pcv\": 46.0, \"wbcc\": 9100.0, \"rbcc\": 4.7, \"htn\": \"no\", \"dm\": \"no\", \"cad\": \"no\", \"appet\": \"good\", \"pe\": \"no\", \"ane\": \"no\", \"class\": \"notckd\"}, {\"age\": 57.0, \"bp\": 80.0, \"sg\": 1.025, \"al\": 0.0, \"su\": 0.0, \"rbc\": \"normal\", \"pc\": \"normal\", \"pcc\": \"notpresent\", \"ba\": \"notpresent\", \"bgr\": 119.0, \"bu\": 17.0, \"sc\": 1.2, \"sod\": 135.0, \"pot\": 4.7, \"hemo\": 15.4, \"pcv\": 42.0, \"wbcc\": 6200.0, \"rbcc\": 6.2, \"htn\": \"no\", \"dm\": \"no\", \"cad\": \"no\", \"appet\": \"good\", \"pe\": \"no\", \"ane\": \"no\", \"class\": \"notckd\"}, {\"age\": 51.0, \"bp\": 60.0, \"sg\": 1.025, \"al\": 0.0, \"su\": 0.0, \"rbc\": \"normal\", \"pc\": \"normal\", \"pcc\": \"notpresent\", \"ba\": \"notpresent\", \"bgr\": 99.0, \"bu\": 38.0, \"sc\": 0.8, \"sod\": 135.0, \"pot\": 3.7, \"hemo\": 13.0, \"pcv\": 49.0, \"wbcc\": 8300.0, \"rbcc\": 5.2, \"htn\": \"no\", \"dm\": \"no\", \"cad\": \"no\", \"appet\": \"good\", \"pe\": \"no\", \"ane\": \"no\", \"class\": \"notckd\"}, {\"age\": 34.0, \"bp\": 80.0, \"sg\": 1.025, \"al\": 0.0, \"su\": 0.0, \"rbc\": \"normal\", \"pc\": \"normal\", \"pcc\": \"notpresent\", \"ba\": \"notpresent\", \"bgr\": 121.0, \"bu\": 27.0, \"sc\": 1.2, \"sod\": 144.0, \"pot\": 3.9, \"hemo\": 13.6, \"pcv\": 52.0, \"wbcc\": 9200.0, \"rbcc\": 6.3, \"htn\": \"no\", \"dm\": \"no\", \"cad\": \"no\", \"appet\": \"good\", \"pe\": \"no\", \"ane\": \"no\", \"class\": \"notckd\"}, {\"age\": 60.0, \"bp\": 80.0, \"sg\": 1.025, \"al\": 0.0, \"su\": 0.0, \"rbc\": \"normal\", \"pc\": \"normal\", \"pcc\": \"notpresent\", \"ba\": \"notpresent\", \"bgr\": 131.0, \"bu\": 10.0, \"sc\": 0.5, \"sod\": 146.0, \"pot\": 5.0, \"hemo\": 14.5, \"pcv\": 41.0, \"wbcc\": 10700.0, \"rbcc\": 5.1, \"htn\": \"no\", \"dm\": \"no\", \"cad\": \"no\", \"appet\": \"good\", \"pe\": \"no\", \"ane\": \"no\", \"class\": \"notckd\"}, {\"age\": 38.0, \"bp\": 60.0, \"sg\": 1.02, \"al\": 0.0, \"su\": 0.0, \"rbc\": \"normal\", \"pc\": \"normal\", \"pcc\": \"notpresent\", \"ba\": \"notpresent\", \"bgr\": 91.0, \"bu\": 36.0, \"sc\": 0.7, \"sod\": 135.0, \"pot\": 3.7, \"hemo\": 14.0, \"pcv\": 46.0, \"wbcc\": 9100.0, \"rbcc\": 5.8, \"htn\": \"no\", \"dm\": \"no\", \"cad\": \"no\", \"appet\": \"good\", \"pe\": \"no\", \"ane\": \"no\", \"class\": \"notckd\"}, {\"age\": 42.0, \"bp\": 80.0, \"sg\": 1.02, \"al\": 0.0, \"su\": 0.0, \"rbc\": \"normal\", \"pc\": \"normal\", \"pcc\": \"notpresent\", \"ba\": \"notpresent\", \"bgr\": 98.0, \"bu\": 20.0, \"sc\": 0.5, \"sod\": 140.0, \"pot\": 3.5, \"hemo\": 13.9, \"pcv\": 44.0, \"wbcc\": 8400.0, \"rbcc\": 5.5, \"htn\": \"no\", \"dm\": \"no\", \"cad\": \"no\", \"appet\": \"good\", \"pe\": \"no\", \"ane\": \"no\", \"class\": \"notckd\"}, {\"age\": 35.0, \"bp\": 80.0, \"sg\": 1.02, \"al\": 0.0, \"su\": 0.0, \"rbc\": \"normal\", \"pc\": \"normal\", \"pcc\": \"notpresent\", \"ba\": \"notpresent\", \"bgr\": 104.0, \"bu\": 31.0, \"sc\": 1.2, \"sod\": 135.0, \"pot\": 5.0, \"hemo\": 16.1, \"pcv\": 45.0, \"wbcc\": 4300.0, \"rbcc\": 5.2, \"htn\": \"no\", \"dm\": \"no\", \"cad\": \"no\", \"appet\": \"good\", \"pe\": \"no\", \"ane\": \"no\", \"class\": \"notckd\"}, {\"age\": 30.0, \"bp\": 80.0, \"sg\": 1.02, \"al\": 0.0, \"su\": 0.0, \"rbc\": \"normal\", \"pc\": \"normal\", \"pcc\": \"notpresent\", \"ba\": \"notpresent\", \"bgr\": 131.0, \"bu\": 38.0, \"sc\": 1.0, \"sod\": 147.0, \"pot\": 3.8, \"hemo\": 14.1, \"pcv\": 45.0, \"wbcc\": 9400.0, \"rbcc\": 5.3, \"htn\": \"no\", \"dm\": \"no\", \"cad\": \"no\", \"appet\": \"good\", \"pe\": \"no\", \"ane\": \"no\", \"class\": \"notckd\"}, {\"age\": 49.0, \"bp\": 80.0, \"sg\": 1.02, \"al\": 0.0, \"su\": 0.0, \"rbc\": \"normal\", \"pc\": \"normal\", \"pcc\": \"notpresent\", \"ba\": \"notpresent\", \"bgr\": 122.0, \"bu\": 32.0, \"sc\": 1.2, \"sod\": 139.0, \"pot\": 3.9, \"hemo\": 17.0, \"pcv\": 41.0, \"wbcc\": 5600.0, \"rbcc\": 4.9, \"htn\": \"no\", \"dm\": \"no\", \"cad\": \"no\", \"appet\": \"good\", \"pe\": \"no\", \"ane\": \"no\", \"class\": \"notckd\"}, {\"age\": 55.0, \"bp\": 80.0, \"sg\": 1.02, \"al\": 0.0, \"su\": 0.0, \"rbc\": \"normal\", \"pc\": \"normal\", \"pcc\": \"notpresent\", \"ba\": \"notpresent\", \"bgr\": 118.0, \"bu\": 18.0, \"sc\": 0.9, \"sod\": 135.0, \"pot\": 3.6, \"hemo\": 15.5, \"pcv\": 43.0, \"wbcc\": 7200.0, \"rbcc\": 5.4, \"htn\": \"no\", \"dm\": \"no\", \"cad\": \"no\", \"appet\": \"good\", \"pe\": \"no\", \"ane\": \"no\", \"class\": \"notckd\"}, {\"age\": 45.0, \"bp\": 80.0, \"sg\": 1.02, \"al\": 0.0, \"su\": 0.0, \"rbc\": \"normal\", \"pc\": \"normal\", \"pcc\": \"notpresent\", \"ba\": \"notpresent\", \"bgr\": 117.0, \"bu\": 46.0, \"sc\": 1.2, \"sod\": 137.0, \"pot\": 5.0, \"hemo\": 16.2, \"pcv\": 45.0, \"wbcc\": 8600.0, \"rbcc\": 5.2, \"htn\": \"no\", \"dm\": \"no\", \"cad\": \"no\", \"appet\": \"good\", \"pe\": \"no\", \"ane\": \"no\", \"class\": \"notckd\"}, {\"age\": 42.0, \"bp\": 80.0, \"sg\": 1.02, \"al\": 0.0, \"su\": 0.0, \"rbc\": \"normal\", \"pc\": \"normal\", \"pcc\": \"notpresent\", \"ba\": \"notpresent\", \"bgr\": 132.0, \"bu\": 24.0, \"sc\": 0.7, \"sod\": 140.0, \"pot\": 4.1, \"hemo\": 14.4, \"pcv\": 50.0, \"wbcc\": 5000.0, \"rbcc\": 4.5, \"htn\": \"no\", \"dm\": \"no\", \"cad\": \"no\", \"appet\": \"good\", \"pe\": \"no\", \"ane\": \"no\", \"class\": \"notckd\"}, {\"age\": 50.0, \"bp\": 80.0, \"sg\": 1.02, \"al\": 0.0, \"su\": 0.0, \"rbc\": \"normal\", \"pc\": \"normal\", \"pcc\": \"notpresent\", \"ba\": \"notpresent\", \"bgr\": 97.0, \"bu\": 40.0, \"sc\": 0.6, \"sod\": 150.0, \"pot\": 4.5, \"hemo\": 14.2, \"pcv\": 48.0, \"wbcc\": 10500.0, \"rbcc\": 5.0, \"htn\": \"no\", \"dm\": \"no\", \"cad\": \"no\", \"appet\": \"good\", \"pe\": \"no\", \"ane\": \"no\", \"class\": \"notckd\"}, {\"age\": 55.0, \"bp\": 80.0, \"sg\": 1.02, \"al\": 0.0, \"su\": 0.0, \"rbc\": \"normal\", \"pc\": \"normal\", \"pcc\": \"notpresent\", \"ba\": \"notpresent\", \"bgr\": 133.0, \"bu\": 17.0, \"sc\": 1.2, \"sod\": 135.0, \"pot\": 4.8, \"hemo\": 13.2, \"pcv\": 41.0, \"wbcc\": 6800.0, \"rbcc\": 5.3, \"htn\": \"no\", \"dm\": \"no\", \"cad\": \"no\", \"appet\": \"good\", \"pe\": \"no\", \"ane\": \"no\", \"class\": \"notckd\"}, {\"age\": 48.0, \"bp\": 80.0, \"sg\": 1.025, \"al\": 0.0, \"su\": 0.0, \"rbc\": \"normal\", \"pc\": \"normal\", \"pcc\": \"notpresent\", \"ba\": \"notpresent\", \"bgr\": 122.0, \"bu\": 33.0, \"sc\": 0.9, \"sod\": 146.0, \"pot\": 3.9, \"hemo\": 13.9, \"pcv\": 48.0, \"wbcc\": 9500.0, \"rbcc\": 4.8, \"htn\": \"no\", \"dm\": \"no\", \"cad\": \"no\", \"appet\": \"good\", \"pe\": \"no\", \"ane\": \"no\", \"class\": \"notckd\"}, {\"age\": 25.0, \"bp\": 80.0, \"sg\": 1.025, \"al\": 0.0, \"su\": 0.0, \"rbc\": \"normal\", \"pc\": \"normal\", \"pcc\": \"notpresent\", \"ba\": \"notpresent\", \"bgr\": 121.0, \"bu\": 19.0, \"sc\": 1.2, \"sod\": 142.0, \"pot\": 4.9, \"hemo\": 15.0, \"pcv\": 48.0, \"wbcc\": 6900.0, \"rbcc\": 5.3, \"htn\": \"no\", \"dm\": \"no\", \"cad\": \"no\", \"appet\": \"good\", \"pe\": \"no\", \"ane\": \"no\", \"class\": \"notckd\"}, {\"age\": 23.0, \"bp\": 80.0, \"sg\": 1.025, \"al\": 0.0, \"su\": 0.0, \"rbc\": \"normal\", \"pc\": \"normal\", \"pcc\": \"notpresent\", \"ba\": \"notpresent\", \"bgr\": 111.0, \"bu\": 34.0, \"sc\": 1.1, \"sod\": 145.0, \"pot\": 4.0, \"hemo\": 14.3, \"pcv\": 41.0, \"wbcc\": 7200.0, \"rbcc\": 5.0, \"htn\": \"no\", \"dm\": \"no\", \"cad\": \"no\", \"appet\": \"good\", \"pe\": \"no\", \"ane\": \"no\", \"class\": \"notckd\"}, {\"age\": 30.0, \"bp\": 80.0, \"sg\": 1.025, \"al\": 0.0, \"su\": 0.0, \"rbc\": \"normal\", \"pc\": \"normal\", \"pcc\": \"notpresent\", \"ba\": \"notpresent\", \"bgr\": 96.0, \"bu\": 25.0, \"sc\": 0.5, \"sod\": 144.0, \"pot\": 4.8, \"hemo\": 13.8, \"pcv\": 42.0, \"wbcc\": 9000.0, \"rbcc\": 4.5, \"htn\": \"no\", \"dm\": \"no\", \"cad\": \"no\", \"appet\": \"good\", \"pe\": \"no\", \"ane\": \"no\", \"class\": \"notckd\"}, {\"age\": 56.0, \"bp\": 80.0, \"sg\": 1.025, \"al\": 0.0, \"su\": 0.0, \"rbc\": \"normal\", \"pc\": \"normal\", \"pcc\": \"notpresent\", \"ba\": \"notpresent\", \"bgr\": 139.0, \"bu\": 15.0, \"sc\": 1.2, \"sod\": 135.0, \"pot\": 5.0, \"hemo\": 14.8, \"pcv\": 42.0, \"wbcc\": 5600.0, \"rbcc\": 5.5, \"htn\": \"no\", \"dm\": \"no\", \"cad\": \"no\", \"appet\": \"good\", \"pe\": \"no\", \"ane\": \"no\", \"class\": \"notckd\"}, {\"age\": 47.0, \"bp\": 80.0, \"sg\": 1.02, \"al\": 0.0, \"su\": 0.0, \"rbc\": \"normal\", \"pc\": \"normal\", \"pcc\": \"notpresent\", \"ba\": \"notpresent\", \"bgr\": 95.0, \"bu\": 35.0, \"sc\": 0.9, \"sod\": 140.0, \"pot\": 4.1, \"hemo\": 13.85, \"pcv\": 42.0, \"wbcc\": 7900.0, \"rbcc\": 4.9, \"htn\": \"no\", \"dm\": \"no\", \"cad\": \"no\", \"appet\": \"good\", \"pe\": \"no\", \"ane\": \"no\", \"class\": \"notckd\"}, {\"age\": 19.0, \"bp\": 80.0, \"sg\": 1.02, \"al\": 0.0, \"su\": 0.0, \"rbc\": \"normal\", \"pc\": \"normal\", \"pcc\": \"notpresent\", \"ba\": \"notpresent\", \"bgr\": 107.0, \"bu\": 23.0, \"sc\": 0.7, \"sod\": 141.0, \"pot\": 4.2, \"hemo\": 14.4, \"pcv\": 44.0, \"wbcc\": 7900.0, \"rbcc\": 4.9, \"htn\": \"no\", \"dm\": \"no\", \"cad\": \"no\", \"appet\": \"good\", \"pe\": \"no\", \"ane\": \"no\", \"class\": \"notckd\"}, {\"age\": 52.0, \"bp\": 80.0, \"sg\": 1.02, \"al\": 0.0, \"su\": 0.0, \"rbc\": \"normal\", \"pc\": \"normal\", \"pcc\": \"notpresent\", \"ba\": \"notpresent\", \"bgr\": 125.0, \"bu\": 22.0, \"sc\": 1.2, \"sod\": 139.0, \"pot\": 4.6, \"hemo\": 16.5, \"pcv\": 43.0, \"wbcc\": 4700.0, \"rbcc\": 4.6, \"htn\": \"no\", \"dm\": \"no\", \"cad\": \"no\", \"appet\": \"good\", \"pe\": \"no\", \"ane\": \"no\", \"class\": \"notckd\"}, {\"age\": 20.0, \"bp\": 60.0, \"sg\": 1.025, \"al\": 0.0, \"su\": 0.0, \"rbc\": \"normal\", \"pc\": \"normal\", \"pcc\": \"notpresent\", \"ba\": \"notpresent\", \"bgr\": 119.0, \"bu\": 40.0, \"sc\": 1.15, \"sod\": 137.0, \"pot\": 4.7, \"hemo\": 14.0, \"pcv\": 41.0, \"wbcc\": 4500.0, \"rbcc\": 5.5, \"htn\": \"no\", \"dm\": \"no\", \"cad\": \"no\", \"appet\": \"good\", \"pe\": \"no\", \"ane\": \"no\", \"class\": \"notckd\"}, {\"age\": 46.0, \"bp\": 60.0, \"sg\": 1.025, \"al\": 0.0, \"su\": 0.0, \"rbc\": \"normal\", \"pc\": \"normal\", \"pcc\": \"notpresent\", \"ba\": \"notpresent\", \"bgr\": 123.0, \"bu\": 46.0, \"sc\": 1.0, \"sod\": 135.0, \"pot\": 5.0, \"hemo\": 15.7, \"pcv\": 50.0, \"wbcc\": 6300.0, \"rbcc\": 4.8, \"htn\": \"no\", \"dm\": \"no\", \"cad\": \"no\", \"appet\": \"good\", \"pe\": \"no\", \"ane\": \"no\", \"class\": \"notckd\"}, {\"age\": 48.0, \"bp\": 60.0, \"sg\": 1.02, \"al\": 0.0, \"su\": 0.0, \"rbc\": \"normal\", \"pc\": \"normal\", \"pcc\": \"notpresent\", \"ba\": \"notpresent\", \"bgr\": 112.0, \"bu\": 44.0, \"sc\": 1.2, \"sod\": 142.0, \"pot\": 4.9, \"hemo\": 14.5, \"pcv\": 44.0, \"wbcc\": 9400.0, \"rbcc\": 6.4, \"htn\": \"no\", \"dm\": \"no\", \"cad\": \"no\", \"appet\": \"good\", \"pe\": \"no\", \"ane\": \"no\", \"class\": \"notckd\"}, {\"age\": 24.0, \"bp\": 70.0, \"sg\": 1.025, \"al\": 0.0, \"su\": 0.0, \"rbc\": \"normal\", \"pc\": \"normal\", \"pcc\": \"notpresent\", \"ba\": \"notpresent\", \"bgr\": 140.0, \"bu\": 23.0, \"sc\": 0.6, \"sod\": 140.0, \"pot\": 4.7, \"hemo\": 16.3, \"pcv\": 48.0, \"wbcc\": 5800.0, \"rbcc\": 5.6, \"htn\": \"no\", \"dm\": \"no\", \"cad\": \"no\", \"appet\": \"good\", \"pe\": \"no\", \"ane\": \"no\", \"class\": \"notckd\"}, {\"age\": 55.0, \"bp\": 80.0, \"sg\": 1.025, \"al\": 0.0, \"su\": 0.0, \"rbc\": \"normal\", \"pc\": \"normal\", \"pcc\": \"notpresent\", \"ba\": \"notpresent\", \"bgr\": 130.0, \"bu\": 50.0, \"sc\": 1.2, \"sod\": 147.0, \"pot\": 5.0, \"hemo\": 15.5, \"pcv\": 41.0, \"wbcc\": 9100.0, \"rbcc\": 6.0, \"htn\": \"no\", \"dm\": \"no\", \"cad\": \"no\", \"appet\": \"good\", \"pe\": \"no\", \"ane\": \"no\", \"class\": \"notckd\"}, {\"age\": 20.0, \"bp\": 70.0, \"sg\": 1.02, \"al\": 0.0, \"su\": 0.0, \"rbc\": \"normal\", \"pc\": \"normal\", \"pcc\": \"notpresent\", \"ba\": \"notpresent\", \"bgr\": 123.0, \"bu\": 44.0, \"sc\": 1.0, \"sod\": 135.0, \"pot\": 3.8, \"hemo\": 14.6, \"pcv\": 44.0, \"wbcc\": 5500.0, \"rbcc\": 4.8, \"htn\": \"no\", \"dm\": \"no\", \"cad\": \"no\", \"appet\": \"good\", \"pe\": \"no\", \"ane\": \"no\", \"class\": \"notckd\"}, {\"age\": 60.0, \"bp\": 70.0, \"sg\": 1.02, \"al\": 0.0, \"su\": 0.0, \"rbc\": \"normal\", \"pc\": \"normal\", \"pcc\": \"notpresent\", \"ba\": \"notpresent\", \"bgr\": 119.0, \"bu\": 40.0, \"sc\": 1.15, \"sod\": 139.0, \"pot\": 4.5, \"hemo\": 16.4, \"pcv\": 43.0, \"wbcc\": 10800.0, \"rbcc\": 5.7, \"htn\": \"no\", \"dm\": \"no\", \"cad\": \"no\", \"appet\": \"good\", \"pe\": \"no\", \"ane\": \"no\", \"class\": \"notckd\"}, {\"age\": 33.0, \"bp\": 80.0, \"sg\": 1.025, \"al\": 0.0, \"su\": 0.0, \"rbc\": \"normal\", \"pc\": \"normal\", \"pcc\": \"notpresent\", \"ba\": \"notpresent\", \"bgr\": 100.0, \"bu\": 37.0, \"sc\": 1.2, \"sod\": 142.0, \"pot\": 4.0, \"hemo\": 16.9, \"pcv\": 52.0, \"wbcc\": 6700.0, \"rbcc\": 6.0, \"htn\": \"no\", \"dm\": \"no\", \"cad\": \"no\", \"appet\": \"good\", \"pe\": \"no\", \"ane\": \"no\", \"class\": \"notckd\"}, {\"age\": 66.0, \"bp\": 70.0, \"sg\": 1.02, \"al\": 0.0, \"su\": 0.0, \"rbc\": \"normal\", \"pc\": \"normal\", \"pcc\": \"notpresent\", \"ba\": \"notpresent\", \"bgr\": 94.0, \"bu\": 19.0, \"sc\": 0.7, \"sod\": 135.0, \"pot\": 3.9, \"hemo\": 16.0, \"pcv\": 41.0, \"wbcc\": 5300.0, \"rbcc\": 5.9, \"htn\": \"no\", \"dm\": \"no\", \"cad\": \"no\", \"appet\": \"good\", \"pe\": \"no\", \"ane\": \"no\", \"class\": \"notckd\"}, {\"age\": 71.0, \"bp\": 70.0, \"sg\": 1.02, \"al\": 0.0, \"su\": 0.0, \"rbc\": \"normal\", \"pc\": \"normal\", \"pcc\": \"notpresent\", \"ba\": \"notpresent\", \"bgr\": 81.0, \"bu\": 18.0, \"sc\": 0.8, \"sod\": 145.0, \"pot\": 5.0, \"hemo\": 14.7, \"pcv\": 44.0, \"wbcc\": 9800.0, \"rbcc\": 6.0, \"htn\": \"no\", \"dm\": \"no\", \"cad\": \"no\", \"appet\": \"good\", \"pe\": \"no\", \"ane\": \"no\", \"class\": \"notckd\"}, {\"age\": 39.0, \"bp\": 70.0, \"sg\": 1.025, \"al\": 0.0, \"su\": 0.0, \"rbc\": \"normal\", \"pc\": \"normal\", \"pcc\": \"notpresent\", \"ba\": \"notpresent\", \"bgr\": 124.0, \"bu\": 22.0, \"sc\": 0.6, \"sod\": 137.0, \"pot\": 3.8, \"hemo\": 13.4, \"pcv\": 43.0, \"wbcc\": 7900.0, \"rbcc\": 4.9, \"htn\": \"no\", \"dm\": \"no\", \"cad\": \"no\", \"appet\": \"good\", \"pe\": \"no\", \"ane\": \"no\", \"class\": \"notckd\"}, {\"age\": 56.0, \"bp\": 70.0, \"sg\": 1.025, \"al\": 0.0, \"su\": 0.0, \"rbc\": \"normal\", \"pc\": \"normal\", \"pcc\": \"notpresent\", \"ba\": \"notpresent\", \"bgr\": 70.0, \"bu\": 46.0, \"sc\": 1.2, \"sod\": 135.0, \"pot\": 4.9, \"hemo\": 15.9, \"pcv\": 50.0, \"wbcc\": 11000.0, \"rbcc\": 5.1, \"htn\": \"no\", \"dm\": \"no\", \"cad\": \"no\", \"appet\": \"good\", \"pe\": \"no\", \"ane\": \"no\", \"class\": \"notckd\"}, {\"age\": 42.0, \"bp\": 70.0, \"sg\": 1.02, \"al\": 0.0, \"su\": 0.0, \"rbc\": \"normal\", \"pc\": \"normal\", \"pcc\": \"notpresent\", \"ba\": \"notpresent\", \"bgr\": 93.0, \"bu\": 32.0, \"sc\": 0.9, \"sod\": 143.0, \"pot\": 4.7, \"hemo\": 16.6, \"pcv\": 43.0, \"wbcc\": 7100.0, \"rbcc\": 5.3, \"htn\": \"no\", \"dm\": \"no\", \"cad\": \"no\", \"appet\": \"good\", \"pe\": \"no\", \"ane\": \"no\", \"class\": \"notckd\"}, {\"age\": 47.0, \"bp\": 80.0, \"sg\": 1.025, \"al\": 0.0, \"su\": 0.0, \"rbc\": \"normal\", \"pc\": \"normal\", \"pcc\": \"notpresent\", \"ba\": \"notpresent\", \"bgr\": 124.0, \"bu\": 44.0, \"sc\": 1.0, \"sod\": 140.0, \"pot\": 4.9, \"hemo\": 14.9, \"pcv\": 41.0, \"wbcc\": 7000.0, \"rbcc\": 5.7, \"htn\": \"no\", \"dm\": \"no\", \"cad\": \"no\", \"appet\": \"good\", \"pe\": \"no\", \"ane\": \"no\", \"class\": \"notckd\"}, {\"age\": 30.0, \"bp\": 80.0, \"sg\": 1.02, \"al\": 0.0, \"su\": 0.0, \"rbc\": \"normal\", \"pc\": \"normal\", \"pcc\": \"notpresent\", \"ba\": \"notpresent\", \"bgr\": 89.0, \"bu\": 42.0, \"sc\": 0.5, \"sod\": 139.0, \"pot\": 5.0, \"hemo\": 16.7, \"pcv\": 52.0, \"wbcc\": 10200.0, \"rbcc\": 5.0, \"htn\": \"no\", \"dm\": \"no\", \"cad\": \"no\", \"appet\": \"good\", \"pe\": \"no\", \"ane\": \"no\", \"class\": \"notckd\"}, {\"age\": 50.0, \"bp\": 80.0, \"sg\": 1.02, \"al\": 0.0, \"su\": 0.0, \"rbc\": \"normal\", \"pc\": \"normal\", \"pcc\": \"notpresent\", \"ba\": \"notpresent\", \"bgr\": 92.0, \"bu\": 19.0, \"sc\": 1.2, \"sod\": 150.0, \"pot\": 4.8, \"hemo\": 14.9, \"pcv\": 48.0, \"wbcc\": 4700.0, \"rbcc\": 5.4, \"htn\": \"no\", \"dm\": \"no\", \"cad\": \"no\", \"appet\": \"good\", \"pe\": \"no\", \"ane\": \"no\", \"class\": \"notckd\"}, {\"age\": 75.0, \"bp\": 60.0, \"sg\": 1.02, \"al\": 0.0, \"su\": 0.0, \"rbc\": \"normal\", \"pc\": \"normal\", \"pcc\": \"notpresent\", \"ba\": \"notpresent\", \"bgr\": 110.0, \"bu\": 50.0, \"sc\": 0.7, \"sod\": 135.0, \"pot\": 5.0, \"hemo\": 14.3, \"pcv\": 40.0, \"wbcc\": 8300.0, \"rbcc\": 5.8, \"htn\": \"no\", \"dm\": \"no\", \"cad\": \"no\", \"appet\": \"good\", \"pe\": \"no\", \"ane\": \"no\", \"class\": \"notckd\"}, {\"age\": 41.0, \"bp\": 70.0, \"sg\": 1.02, \"al\": 0.0, \"su\": 0.0, \"rbc\": \"normal\", \"pc\": \"normal\", \"pcc\": \"notpresent\", \"ba\": \"notpresent\", \"bgr\": 125.0, \"bu\": 38.0, \"sc\": 0.6, \"sod\": 140.0, \"pot\": 5.0, \"hemo\": 16.8, \"pcv\": 41.0, \"wbcc\": 6300.0, \"rbcc\": 5.9, \"htn\": \"no\", \"dm\": \"no\", \"cad\": \"no\", \"appet\": \"good\", \"pe\": \"no\", \"ane\": \"no\", \"class\": \"notckd\"}, {\"age\": 53.0, \"bp\": 60.0, \"sg\": 1.025, \"al\": 0.0, \"su\": 0.0, \"rbc\": \"normal\", \"pc\": \"normal\", \"pcc\": \"notpresent\", \"ba\": \"notpresent\", \"bgr\": 116.0, \"bu\": 26.0, \"sc\": 1.0, \"sod\": 146.0, \"pot\": 4.9, \"hemo\": 15.8, \"pcv\": 45.0, \"wbcc\": 7700.0, \"rbcc\": 5.2, \"htn\": \"no\", \"dm\": \"no\", \"cad\": \"no\", \"appet\": \"good\", \"pe\": \"no\", \"ane\": \"no\", \"class\": \"notckd\"}, {\"age\": 34.0, \"bp\": 60.0, \"sg\": 1.02, \"al\": 0.0, \"su\": 0.0, \"rbc\": \"normal\", \"pc\": \"normal\", \"pcc\": \"notpresent\", \"ba\": \"notpresent\", \"bgr\": 91.0, \"bu\": 49.0, \"sc\": 1.2, \"sod\": 135.0, \"pot\": 4.5, \"hemo\": 13.5, \"pcv\": 48.0, \"wbcc\": 8600.0, \"rbcc\": 4.9, \"htn\": \"no\", \"dm\": \"no\", \"cad\": \"no\", \"appet\": \"good\", \"pe\": \"no\", \"ane\": \"no\", \"class\": \"notckd\"}, {\"age\": 73.0, \"bp\": 60.0, \"sg\": 1.02, \"al\": 0.0, \"su\": 0.0, \"rbc\": \"normal\", \"pc\": \"normal\", \"pcc\": \"notpresent\", \"ba\": \"notpresent\", \"bgr\": 127.0, \"bu\": 48.0, \"sc\": 0.5, \"sod\": 150.0, \"pot\": 3.5, \"hemo\": 15.1, \"pcv\": 52.0, \"wbcc\": 11000.0, \"rbcc\": 4.7, \"htn\": \"no\", \"dm\": \"no\", \"cad\": \"no\", \"appet\": \"good\", \"pe\": \"no\", \"ane\": \"no\", \"class\": \"notckd\"}, {\"age\": 45.0, \"bp\": 60.0, \"sg\": 1.02, \"al\": 0.0, \"su\": 0.0, \"rbc\": \"normal\", \"pc\": \"normal\", \"pcc\": \"notpresent\", \"ba\": \"notpresent\", \"bgr\": 114.0, \"bu\": 26.0, \"sc\": 0.7, \"sod\": 141.0, \"pot\": 4.2, \"hemo\": 15.0, \"pcv\": 43.0, \"wbcc\": 9200.0, \"rbcc\": 5.8, \"htn\": \"no\", \"dm\": \"no\", \"cad\": \"no\", \"appet\": \"good\", \"pe\": \"no\", \"ane\": \"no\", \"class\": \"notckd\"}, {\"age\": 44.0, \"bp\": 60.0, \"sg\": 1.025, \"al\": 0.0, \"su\": 0.0, \"rbc\": \"normal\", \"pc\": \"normal\", \"pcc\": \"notpresent\", \"ba\": \"notpresent\", \"bgr\": 96.0, \"bu\": 33.0, \"sc\": 0.9, \"sod\": 147.0, \"pot\": 4.5, \"hemo\": 16.9, \"pcv\": 41.0, \"wbcc\": 7200.0, \"rbcc\": 5.0, \"htn\": \"no\", \"dm\": \"no\", \"cad\": \"no\", \"appet\": \"good\", \"pe\": \"no\", \"ane\": \"no\", \"class\": \"notckd\"}, {\"age\": 29.0, \"bp\": 70.0, \"sg\": 1.02, \"al\": 0.0, \"su\": 0.0, \"rbc\": \"normal\", \"pc\": \"normal\", \"pcc\": \"notpresent\", \"ba\": \"notpresent\", \"bgr\": 127.0, \"bu\": 44.0, \"sc\": 1.2, \"sod\": 145.0, \"pot\": 5.0, \"hemo\": 14.8, \"pcv\": 48.0, \"wbcc\": 7900.0, \"rbcc\": 4.9, \"htn\": \"no\", \"dm\": \"no\", \"cad\": \"no\", \"appet\": \"good\", \"pe\": \"no\", \"ane\": \"no\", \"class\": \"notckd\"}, {\"age\": 55.0, \"bp\": 70.0, \"sg\": 1.02, \"al\": 0.0, \"su\": 0.0, \"rbc\": \"normal\", \"pc\": \"normal\", \"pcc\": \"notpresent\", \"ba\": \"notpresent\", \"bgr\": 107.0, \"bu\": 26.0, \"sc\": 1.1, \"sod\": 139.0, \"pot\": 4.5, \"hemo\": 17.0, \"pcv\": 50.0, \"wbcc\": 6700.0, \"rbcc\": 6.1, \"htn\": \"no\", \"dm\": \"no\", \"cad\": \"no\", \"appet\": \"good\", \"pe\": \"no\", \"ane\": \"no\", \"class\": \"notckd\"}, {\"age\": 33.0, \"bp\": 80.0, \"sg\": 1.025, \"al\": 0.0, \"su\": 0.0, \"rbc\": \"normal\", \"pc\": \"normal\", \"pcc\": \"notpresent\", \"ba\": \"notpresent\", \"bgr\": 128.0, \"bu\": 38.0, \"sc\": 0.6, \"sod\": 135.0, \"pot\": 3.9, \"hemo\": 13.1, \"pcv\": 45.0, \"wbcc\": 6200.0, \"rbcc\": 4.5, \"htn\": \"no\", \"dm\": \"no\", \"cad\": \"no\", \"appet\": \"good\", \"pe\": \"no\", \"ane\": \"no\", \"class\": \"notckd\"}, {\"age\": 41.0, \"bp\": 80.0, \"sg\": 1.02, \"al\": 0.0, \"su\": 0.0, \"rbc\": \"normal\", \"pc\": \"normal\", \"pcc\": \"notpresent\", \"ba\": \"notpresent\", \"bgr\": 122.0, \"bu\": 25.0, \"sc\": 0.8, \"sod\": 138.0, \"pot\": 5.0, \"hemo\": 17.1, \"pcv\": 41.0, \"wbcc\": 9100.0, \"rbcc\": 5.2, \"htn\": \"no\", \"dm\": \"no\", \"cad\": \"no\", \"appet\": \"good\", \"pe\": \"no\", \"ane\": \"no\", \"class\": \"notckd\"}, {\"age\": 52.0, \"bp\": 80.0, \"sg\": 1.02, \"al\": 0.0, \"su\": 0.0, \"rbc\": \"normal\", \"pc\": \"normal\", \"pcc\": \"notpresent\", \"ba\": \"notpresent\", \"bgr\": 128.0, \"bu\": 30.0, \"sc\": 1.2, \"sod\": 140.0, \"pot\": 4.5, \"hemo\": 15.2, \"pcv\": 52.0, \"wbcc\": 4300.0, \"rbcc\": 5.7, \"htn\": \"no\", \"dm\": \"no\", \"cad\": \"no\", \"appet\": \"good\", \"pe\": \"no\", \"ane\": \"no\", \"class\": \"notckd\"}, {\"age\": 47.0, \"bp\": 60.0, \"sg\": 1.02, \"al\": 0.0, \"su\": 0.0, \"rbc\": \"normal\", \"pc\": \"normal\", \"pcc\": \"notpresent\", \"ba\": \"notpresent\", \"bgr\": 137.0, \"bu\": 17.0, \"sc\": 0.5, \"sod\": 150.0, \"pot\": 3.5, \"hemo\": 13.6, \"pcv\": 44.0, \"wbcc\": 7900.0, \"rbcc\": 4.5, \"htn\": \"no\", \"dm\": \"no\", \"cad\": \"no\", \"appet\": \"good\", \"pe\": \"no\", \"ane\": \"no\", \"class\": \"notckd\"}, {\"age\": 43.0, \"bp\": 80.0, \"sg\": 1.025, \"al\": 0.0, \"su\": 0.0, \"rbc\": \"normal\", \"pc\": \"normal\", \"pcc\": \"notpresent\", \"ba\": \"notpresent\", \"bgr\": 81.0, \"bu\": 46.0, \"sc\": 0.6, \"sod\": 135.0, \"pot\": 4.9, \"hemo\": 13.9, \"pcv\": 48.0, \"wbcc\": 6900.0, \"rbcc\": 4.9, \"htn\": \"no\", \"dm\": \"no\", \"cad\": \"no\", \"appet\": \"good\", \"pe\": \"no\", \"ane\": \"no\", \"class\": \"notckd\"}, {\"age\": 46.0, \"bp\": 60.0, \"sg\": 1.02, \"al\": 0.0, \"su\": 0.0, \"rbc\": \"normal\", \"pc\": \"normal\", \"pcc\": \"notpresent\", \"ba\": \"notpresent\", \"bgr\": 102.0, \"bu\": 27.0, \"sc\": 0.7, \"sod\": 142.0, \"pot\": 4.9, \"hemo\": 13.2, \"pcv\": 44.0, \"wbcc\": 11000.0, \"rbcc\": 5.4, \"htn\": \"no\", \"dm\": \"no\", \"cad\": \"no\", \"appet\": \"good\", \"pe\": \"no\", \"ane\": \"no\", \"class\": \"notckd\"}, {\"age\": 56.0, \"bp\": 60.0, \"sg\": 1.025, \"al\": 0.0, \"su\": 0.0, \"rbc\": \"normal\", \"pc\": \"normal\", \"pcc\": \"notpresent\", \"ba\": \"notpresent\", \"bgr\": 132.0, \"bu\": 18.0, \"sc\": 1.1, \"sod\": 147.0, \"pot\": 4.7, \"hemo\": 13.7, \"pcv\": 45.0, \"wbcc\": 7500.0, \"rbcc\": 5.6, \"htn\": \"no\", \"dm\": \"no\", \"cad\": \"no\", \"appet\": \"good\", \"pe\": \"no\", \"ane\": \"no\", \"class\": \"notckd\"}, {\"age\": 80.0, \"bp\": 70.0, \"sg\": 1.02, \"al\": 0.0, \"su\": 0.0, \"rbc\": \"normal\", \"pc\": \"normal\", \"pcc\": \"notpresent\", \"ba\": \"notpresent\", \"bgr\": 119.0, \"bu\": 40.0, \"sc\": 1.15, \"sod\": 135.0, \"pot\": 4.1, \"hemo\": 15.3, \"pcv\": 48.0, \"wbcc\": 6300.0, \"rbcc\": 6.1, \"htn\": \"no\", \"dm\": \"no\", \"cad\": \"no\", \"appet\": \"good\", \"pe\": \"no\", \"ane\": \"no\", \"class\": \"notckd\"}, {\"age\": 55.0, \"bp\": 80.0, \"sg\": 1.02, \"al\": 0.0, \"su\": 0.0, \"rbc\": \"normal\", \"pc\": \"normal\", \"pcc\": \"notpresent\", \"ba\": \"notpresent\", \"bgr\": 104.0, \"bu\": 28.0, \"sc\": 0.9, \"sod\": 142.0, \"pot\": 4.8, \"hemo\": 17.3, \"pcv\": 52.0, \"wbcc\": 8200.0, \"rbcc\": 4.8, \"htn\": \"no\", \"dm\": \"no\", \"cad\": \"no\", \"appet\": \"good\", \"pe\": \"no\", \"ane\": \"no\", \"class\": \"notckd\"}, {\"age\": 39.0, \"bp\": 70.0, \"sg\": 1.025, \"al\": 0.0, \"su\": 0.0, \"rbc\": \"normal\", \"pc\": \"normal\", \"pcc\": \"notpresent\", \"ba\": \"notpresent\", \"bgr\": 131.0, \"bu\": 46.0, \"sc\": 0.6, \"sod\": 145.0, \"pot\": 5.0, \"hemo\": 15.6, \"pcv\": 41.0, \"wbcc\": 9400.0, \"rbcc\": 4.7, \"htn\": \"no\", \"dm\": \"no\", \"cad\": \"no\", \"appet\": \"good\", \"pe\": \"no\", \"ane\": \"no\", \"class\": \"notckd\"}, {\"age\": 44.0, \"bp\": 70.0, \"sg\": 1.025, \"al\": 0.0, \"su\": 0.0, \"rbc\": \"normal\", \"pc\": \"normal\", \"pcc\": \"notpresent\", \"ba\": \"notpresent\", \"bgr\": 119.0, \"bu\": 40.0, \"sc\": 1.15, \"sod\": 139.0, \"pot\": 4.5, \"hemo\": 13.8, \"pcv\": 48.0, \"wbcc\": 7800.0, \"rbcc\": 4.4, \"htn\": \"no\", \"dm\": \"no\", \"cad\": \"no\", \"appet\": \"good\", \"pe\": \"no\", \"ane\": \"no\", \"class\": \"notckd\"}, {\"age\": 35.0, \"bp\": 80.0, \"sg\": 1.02, \"al\": 0.0, \"su\": 0.0, \"rbc\": \"normal\", \"pc\": \"normal\", \"pcc\": \"notpresent\", \"ba\": \"notpresent\", \"bgr\": 99.0, \"bu\": 30.0, \"sc\": 0.5, \"sod\": 135.0, \"pot\": 4.9, \"hemo\": 15.4, \"pcv\": 48.0, \"wbcc\": 5000.0, \"rbcc\": 5.2, \"htn\": \"no\", \"dm\": \"no\", \"cad\": \"no\", \"appet\": \"good\", \"pe\": \"no\", \"ane\": \"no\", \"class\": \"notckd\"}, {\"age\": 58.0, \"bp\": 70.0, \"sg\": 1.02, \"al\": 0.0, \"su\": 0.0, \"rbc\": \"normal\", \"pc\": \"normal\", \"pcc\": \"notpresent\", \"ba\": \"notpresent\", \"bgr\": 102.0, \"bu\": 48.0, \"sc\": 1.2, \"sod\": 139.0, \"pot\": 4.3, \"hemo\": 15.0, \"pcv\": 40.0, \"wbcc\": 8100.0, \"rbcc\": 4.9, \"htn\": \"no\", \"dm\": \"no\", \"cad\": \"no\", \"appet\": \"good\", \"pe\": \"no\", \"ane\": \"no\", \"class\": \"notckd\"}, {\"age\": 61.0, \"bp\": 70.0, \"sg\": 1.025, \"al\": 0.0, \"su\": 0.0, \"rbc\": \"normal\", \"pc\": \"normal\", \"pcc\": \"notpresent\", \"ba\": \"notpresent\", \"bgr\": 120.0, \"bu\": 29.0, \"sc\": 0.7, \"sod\": 137.0, \"pot\": 3.5, \"hemo\": 17.4, \"pcv\": 52.0, \"wbcc\": 7000.0, \"rbcc\": 5.3, \"htn\": \"no\", \"dm\": \"no\", \"cad\": \"no\", \"appet\": \"good\", \"pe\": \"no\", \"ane\": \"no\", \"class\": \"notckd\"}, {\"age\": 30.0, \"bp\": 60.0, \"sg\": 1.02, \"al\": 0.0, \"su\": 0.0, \"rbc\": \"normal\", \"pc\": \"normal\", \"pcc\": \"notpresent\", \"ba\": \"notpresent\", \"bgr\": 138.0, \"bu\": 15.0, \"sc\": 1.1, \"sod\": 135.0, \"pot\": 4.4, \"hemo\": 13.85, \"pcv\": 42.0, \"wbcc\": 7900.0, \"rbcc\": 4.9, \"htn\": \"no\", \"dm\": \"no\", \"cad\": \"no\", \"appet\": \"good\", \"pe\": \"no\", \"ane\": \"no\", \"class\": \"notckd\"}, {\"age\": 57.0, \"bp\": 60.0, \"sg\": 1.02, \"al\": 0.0, \"su\": 0.0, \"rbc\": \"normal\", \"pc\": \"normal\", \"pcc\": \"notpresent\", \"ba\": \"notpresent\", \"bgr\": 105.0, \"bu\": 49.0, \"sc\": 1.2, \"sod\": 150.0, \"pot\": 4.7, \"hemo\": 15.7, \"pcv\": 44.0, \"wbcc\": 10400.0, \"rbcc\": 6.2, \"htn\": \"no\", \"dm\": \"no\", \"cad\": \"no\", \"appet\": \"good\", \"pe\": \"no\", \"ane\": \"no\", \"class\": \"notckd\"}, {\"age\": 65.0, \"bp\": 60.0, \"sg\": 1.02, \"al\": 0.0, \"su\": 0.0, \"rbc\": \"normal\", \"pc\": \"normal\", \"pcc\": \"notpresent\", \"ba\": \"notpresent\", \"bgr\": 109.0, \"bu\": 39.0, \"sc\": 1.0, \"sod\": 144.0, \"pot\": 3.5, \"hemo\": 13.9, \"pcv\": 48.0, \"wbcc\": 9600.0, \"rbcc\": 4.8, \"htn\": \"no\", \"dm\": \"no\", \"cad\": \"no\", \"appet\": \"good\", \"pe\": \"no\", \"ane\": \"no\", \"class\": \"notckd\"}, {\"age\": 43.0, \"bp\": 80.0, \"sg\": 1.025, \"al\": 0.0, \"su\": 0.0, \"rbc\": \"normal\", \"pc\": \"normal\", \"pcc\": \"notpresent\", \"ba\": \"notpresent\", \"bgr\": 130.0, \"bu\": 30.0, \"sc\": 1.1, \"sod\": 143.0, \"pot\": 5.0, \"hemo\": 15.9, \"pcv\": 45.0, \"wbcc\": 7800.0, \"rbcc\": 4.5, \"htn\": \"no\", \"dm\": \"no\", \"cad\": \"no\", \"appet\": \"good\", \"pe\": \"no\", \"ane\": \"no\", \"class\": \"notckd\"}, {\"age\": 40.0, \"bp\": 80.0, \"sg\": 1.02, \"al\": 0.0, \"su\": 0.0, \"rbc\": \"normal\", \"pc\": \"normal\", \"pcc\": \"notpresent\", \"ba\": \"notpresent\", \"bgr\": 119.0, \"bu\": 15.0, \"sc\": 0.7, \"sod\": 150.0, \"pot\": 4.9, \"hemo\": 13.85, \"pcv\": 42.0, \"wbcc\": 7900.0, \"rbcc\": 4.9, \"htn\": \"no\", \"dm\": \"no\", \"cad\": \"no\", \"appet\": \"good\", \"pe\": \"no\", \"ane\": \"no\", \"class\": \"notckd\"}, {\"age\": 58.0, \"bp\": 80.0, \"sg\": 1.02, \"al\": 0.0, \"su\": 0.0, \"rbc\": \"normal\", \"pc\": \"normal\", \"pcc\": \"notpresent\", \"ba\": \"notpresent\", \"bgr\": 100.0, \"bu\": 50.0, \"sc\": 1.2, \"sod\": 140.0, \"pot\": 3.5, \"hemo\": 14.0, \"pcv\": 50.0, \"wbcc\": 6700.0, \"rbcc\": 6.5, \"htn\": \"no\", \"dm\": \"no\", \"cad\": \"no\", \"appet\": \"good\", \"pe\": \"no\", \"ane\": \"no\", \"class\": \"notckd\"}, {\"age\": 47.0, \"bp\": 60.0, \"sg\": 1.02, \"al\": 0.0, \"su\": 0.0, \"rbc\": \"normal\", \"pc\": \"normal\", \"pcc\": \"notpresent\", \"ba\": \"notpresent\", \"bgr\": 109.0, \"bu\": 25.0, \"sc\": 1.1, \"sod\": 141.0, \"pot\": 4.7, \"hemo\": 15.8, \"pcv\": 41.0, \"wbcc\": 8300.0, \"rbcc\": 5.2, \"htn\": \"no\", \"dm\": \"no\", \"cad\": \"no\", \"appet\": \"good\", \"pe\": \"no\", \"ane\": \"no\", \"class\": \"notckd\"}, {\"age\": 30.0, \"bp\": 60.0, \"sg\": 1.025, \"al\": 0.0, \"su\": 0.0, \"rbc\": \"normal\", \"pc\": \"normal\", \"pcc\": \"notpresent\", \"ba\": \"notpresent\", \"bgr\": 120.0, \"bu\": 31.0, \"sc\": 0.8, \"sod\": 150.0, \"pot\": 4.6, \"hemo\": 13.4, \"pcv\": 44.0, \"wbcc\": 10700.0, \"rbcc\": 5.8, \"htn\": \"no\", \"dm\": \"no\", \"cad\": \"no\", \"appet\": \"good\", \"pe\": \"no\", \"ane\": \"no\", \"class\": \"notckd\"}, {\"age\": 28.0, \"bp\": 70.0, \"sg\": 1.02, \"al\": 0.0, \"su\": 0.0, \"rbc\": \"normal\", \"pc\": \"normal\", \"pcc\": \"notpresent\", \"ba\": \"notpresent\", \"bgr\": 131.0, \"bu\": 29.0, \"sc\": 0.6, \"sod\": 145.0, \"pot\": 4.9, \"hemo\": 13.85, \"pcv\": 45.0, \"wbcc\": 8600.0, \"rbcc\": 6.5, \"htn\": \"no\", \"dm\": \"no\", \"cad\": \"no\", \"appet\": \"good\", \"pe\": \"no\", \"ane\": \"no\", \"class\": \"notckd\"}, {\"age\": 33.0, \"bp\": 60.0, \"sg\": 1.025, \"al\": 0.0, \"su\": 0.0, \"rbc\": \"normal\", \"pc\": \"normal\", \"pcc\": \"notpresent\", \"ba\": \"notpresent\", \"bgr\": 80.0, \"bu\": 25.0, \"sc\": 0.9, \"sod\": 146.0, \"pot\": 3.5, \"hemo\": 14.1, \"pcv\": 48.0, \"wbcc\": 7800.0, \"rbcc\": 5.1, \"htn\": \"no\", \"dm\": \"no\", \"cad\": \"no\", \"appet\": \"good\", \"pe\": \"no\", \"ane\": \"no\", \"class\": \"notckd\"}, {\"age\": 43.0, \"bp\": 80.0, \"sg\": 1.02, \"al\": 0.0, \"su\": 0.0, \"rbc\": \"normal\", \"pc\": \"normal\", \"pcc\": \"notpresent\", \"ba\": \"notpresent\", \"bgr\": 114.0, \"bu\": 32.0, \"sc\": 1.1, \"sod\": 135.0, \"pot\": 3.9, \"hemo\": 13.85, \"pcv\": 42.0, \"wbcc\": 7900.0, \"rbcc\": 4.9, \"htn\": \"no\", \"dm\": \"no\", \"cad\": \"no\", \"appet\": \"good\", \"pe\": \"no\", \"ane\": \"no\", \"class\": \"notckd\"}, {\"age\": 59.0, \"bp\": 70.0, \"sg\": 1.025, \"al\": 0.0, \"su\": 0.0, \"rbc\": \"normal\", \"pc\": \"normal\", \"pcc\": \"notpresent\", \"ba\": \"notpresent\", \"bgr\": 130.0, \"bu\": 39.0, \"sc\": 0.7, \"sod\": 147.0, \"pot\": 4.7, \"hemo\": 13.5, \"pcv\": 46.0, \"wbcc\": 6700.0, \"rbcc\": 4.5, \"htn\": \"no\", \"dm\": \"no\", \"cad\": \"no\", \"appet\": \"good\", \"pe\": \"no\", \"ane\": \"no\", \"class\": \"notckd\"}, {\"age\": 34.0, \"bp\": 70.0, \"sg\": 1.025, \"al\": 0.0, \"su\": 0.0, \"rbc\": \"normal\", \"pc\": \"normal\", \"pcc\": \"notpresent\", \"ba\": \"notpresent\", \"bgr\": 119.0, \"bu\": 33.0, \"sc\": 1.0, \"sod\": 150.0, \"pot\": 5.0, \"hemo\": 15.3, \"pcv\": 44.0, \"wbcc\": 10500.0, \"rbcc\": 6.1, \"htn\": \"no\", \"dm\": \"no\", \"cad\": \"no\", \"appet\": \"good\", \"pe\": \"no\", \"ane\": \"no\", \"class\": \"notckd\"}, {\"age\": 23.0, \"bp\": 80.0, \"sg\": 1.02, \"al\": 0.0, \"su\": 0.0, \"rbc\": \"normal\", \"pc\": \"normal\", \"pcc\": \"notpresent\", \"ba\": \"notpresent\", \"bgr\": 99.0, \"bu\": 46.0, \"sc\": 1.2, \"sod\": 142.0, \"pot\": 4.0, \"hemo\": 17.7, \"pcv\": 46.0, \"wbcc\": 4300.0, \"rbcc\": 5.5, \"htn\": \"no\", \"dm\": \"no\", \"cad\": \"no\", \"appet\": \"good\", \"pe\": \"no\", \"ane\": \"no\", \"class\": \"notckd\"}, {\"age\": 24.0, \"bp\": 80.0, \"sg\": 1.025, \"al\": 0.0, \"su\": 0.0, \"rbc\": \"normal\", \"pc\": \"normal\", \"pcc\": \"notpresent\", \"ba\": \"notpresent\", \"bgr\": 125.0, \"bu\": 40.0, \"sc\": 1.15, \"sod\": 136.0, \"pot\": 3.5, \"hemo\": 15.4, \"pcv\": 43.0, \"wbcc\": 5600.0, \"rbcc\": 4.5, \"htn\": \"no\", \"dm\": \"no\", \"cad\": \"no\", \"appet\": \"good\", \"pe\": \"no\", \"ane\": \"no\", \"class\": \"notckd\"}, {\"age\": 60.0, \"bp\": 60.0, \"sg\": 1.02, \"al\": 0.0, \"su\": 0.0, \"rbc\": \"normal\", \"pc\": \"normal\", \"pcc\": \"notpresent\", \"ba\": \"notpresent\", \"bgr\": 134.0, \"bu\": 45.0, \"sc\": 0.5, \"sod\": 139.0, \"pot\": 4.8, \"hemo\": 14.2, \"pcv\": 48.0, \"wbcc\": 10700.0, \"rbcc\": 5.6, \"htn\": \"no\", \"dm\": \"no\", \"cad\": \"no\", \"appet\": \"good\", \"pe\": \"no\", \"ane\": \"no\", \"class\": \"notckd\"}, {\"age\": 25.0, \"bp\": 60.0, \"sg\": 1.02, \"al\": 0.0, \"su\": 0.0, \"rbc\": \"normal\", \"pc\": \"normal\", \"pcc\": \"notpresent\", \"ba\": \"notpresent\", \"bgr\": 119.0, \"bu\": 27.0, \"sc\": 0.5, \"sod\": 139.0, \"pot\": 4.5, \"hemo\": 15.2, \"pcv\": 40.0, \"wbcc\": 9200.0, \"rbcc\": 5.2, \"htn\": \"no\", \"dm\": \"no\", \"cad\": \"no\", \"appet\": \"good\", \"pe\": \"no\", \"ane\": \"no\", \"class\": \"notckd\"}, {\"age\": 44.0, \"bp\": 70.0, \"sg\": 1.025, \"al\": 0.0, \"su\": 0.0, \"rbc\": \"normal\", \"pc\": \"normal\", \"pcc\": \"notpresent\", \"ba\": \"notpresent\", \"bgr\": 92.0, \"bu\": 40.0, \"sc\": 0.9, \"sod\": 141.0, \"pot\": 4.9, \"hemo\": 14.0, \"pcv\": 52.0, \"wbcc\": 7500.0, \"rbcc\": 6.2, \"htn\": \"no\", \"dm\": \"no\", \"cad\": \"no\", \"appet\": \"good\", \"pe\": \"no\", \"ane\": \"no\", \"class\": \"notckd\"}, {\"age\": 62.0, \"bp\": 80.0, \"sg\": 1.02, \"al\": 0.0, \"su\": 0.0, \"rbc\": \"normal\", \"pc\": \"normal\", \"pcc\": \"notpresent\", \"ba\": \"notpresent\", \"bgr\": 132.0, \"bu\": 34.0, \"sc\": 0.8, \"sod\": 147.0, \"pot\": 3.5, \"hemo\": 17.8, \"pcv\": 44.0, \"wbcc\": 4700.0, \"rbcc\": 4.5, \"htn\": \"no\", \"dm\": \"no\", \"cad\": \"no\", \"appet\": \"good\", \"pe\": \"no\", \"ane\": \"no\", \"class\": \"notckd\"}, {\"age\": 25.0, \"bp\": 70.0, \"sg\": 1.02, \"al\": 0.0, \"su\": 0.0, \"rbc\": \"normal\", \"pc\": \"normal\", \"pcc\": \"notpresent\", \"ba\": \"notpresent\", \"bgr\": 88.0, \"bu\": 42.0, \"sc\": 0.5, \"sod\": 136.0, \"pot\": 3.5, \"hemo\": 13.3, \"pcv\": 48.0, \"wbcc\": 7000.0, \"rbcc\": 4.9, \"htn\": \"no\", \"dm\": \"no\", \"cad\": \"no\", \"appet\": \"good\", \"pe\": \"no\", \"ane\": \"no\", \"class\": \"notckd\"}, {\"age\": 32.0, \"bp\": 70.0, \"sg\": 1.025, \"al\": 0.0, \"su\": 0.0, \"rbc\": \"normal\", \"pc\": \"normal\", \"pcc\": \"notpresent\", \"ba\": \"notpresent\", \"bgr\": 100.0, \"bu\": 29.0, \"sc\": 1.1, \"sod\": 142.0, \"pot\": 4.5, \"hemo\": 14.3, \"pcv\": 43.0, \"wbcc\": 6700.0, \"rbcc\": 5.9, \"htn\": \"no\", \"dm\": \"no\", \"cad\": \"no\", \"appet\": \"good\", \"pe\": \"no\", \"ane\": \"no\", \"class\": \"notckd\"}, {\"age\": 63.0, \"bp\": 70.0, \"sg\": 1.025, \"al\": 0.0, \"su\": 0.0, \"rbc\": \"normal\", \"pc\": \"normal\", \"pcc\": \"notpresent\", \"ba\": \"notpresent\", \"bgr\": 130.0, \"bu\": 37.0, \"sc\": 0.9, \"sod\": 150.0, \"pot\": 5.0, \"hemo\": 13.4, \"pcv\": 41.0, \"wbcc\": 7300.0, \"rbcc\": 4.7, \"htn\": \"no\", \"dm\": \"no\", \"cad\": \"no\", \"appet\": \"good\", \"pe\": \"no\", \"ane\": \"no\", \"class\": \"notckd\"}, {\"age\": 44.0, \"bp\": 60.0, \"sg\": 1.02, \"al\": 0.0, \"su\": 0.0, \"rbc\": \"normal\", \"pc\": \"normal\", \"pcc\": \"notpresent\", \"ba\": \"notpresent\", \"bgr\": 95.0, \"bu\": 46.0, \"sc\": 0.5, \"sod\": 138.0, \"pot\": 4.2, \"hemo\": 15.0, \"pcv\": 50.0, \"wbcc\": 7700.0, \"rbcc\": 6.3, \"htn\": \"no\", \"dm\": \"no\", \"cad\": \"no\", \"appet\": \"good\", \"pe\": \"no\", \"ane\": \"no\", \"class\": \"notckd\"}, {\"age\": 37.0, \"bp\": 60.0, \"sg\": 1.025, \"al\": 0.0, \"su\": 0.0, \"rbc\": \"normal\", \"pc\": \"normal\", \"pcc\": \"notpresent\", \"ba\": \"notpresent\", \"bgr\": 111.0, \"bu\": 35.0, \"sc\": 0.8, \"sod\": 135.0, \"pot\": 4.1, \"hemo\": 16.2, \"pcv\": 50.0, \"wbcc\": 5500.0, \"rbcc\": 5.7, \"htn\": \"no\", \"dm\": \"no\", \"cad\": \"no\", \"appet\": \"good\", \"pe\": \"no\", \"ane\": \"no\", \"class\": \"notckd\"}, {\"age\": 64.0, \"bp\": 60.0, \"sg\": 1.02, \"al\": 0.0, \"su\": 0.0, \"rbc\": \"normal\", \"pc\": \"normal\", \"pcc\": \"notpresent\", \"ba\": \"notpresent\", \"bgr\": 106.0, \"bu\": 27.0, \"sc\": 0.7, \"sod\": 150.0, \"pot\": 3.3, \"hemo\": 14.4, \"pcv\": 42.0, \"wbcc\": 8100.0, \"rbcc\": 4.7, \"htn\": \"no\", \"dm\": \"no\", \"cad\": \"no\", \"appet\": \"good\", \"pe\": \"no\", \"ane\": \"no\", \"class\": \"notckd\"}, {\"age\": 22.0, \"bp\": 60.0, \"sg\": 1.025, \"al\": 0.0, \"su\": 0.0, \"rbc\": \"normal\", \"pc\": \"normal\", \"pcc\": \"notpresent\", \"ba\": \"notpresent\", \"bgr\": 97.0, \"bu\": 18.0, \"sc\": 1.2, \"sod\": 138.0, \"pot\": 4.3, \"hemo\": 13.5, \"pcv\": 42.0, \"wbcc\": 7900.0, \"rbcc\": 6.4, \"htn\": \"no\", \"dm\": \"no\", \"cad\": \"no\", \"appet\": \"good\", \"pe\": \"no\", \"ane\": \"no\", \"class\": \"notckd\"}, {\"age\": 33.0, \"bp\": 60.0, \"sg\": 1.02, \"al\": 0.0, \"su\": 0.0, \"rbc\": \"normal\", \"pc\": \"normal\", \"pcc\": \"notpresent\", \"ba\": \"notpresent\", \"bgr\": 130.0, \"bu\": 41.0, \"sc\": 0.9, \"sod\": 141.0, \"pot\": 4.4, \"hemo\": 15.5, \"pcv\": 52.0, \"wbcc\": 4300.0, \"rbcc\": 5.8, \"htn\": \"no\", \"dm\": \"no\", \"cad\": \"no\", \"appet\": \"good\", \"pe\": \"no\", \"ane\": \"no\", \"class\": \"notckd\"}, {\"age\": 43.0, \"bp\": 60.0, \"sg\": 1.025, \"al\": 0.0, \"su\": 0.0, \"rbc\": \"normal\", \"pc\": \"normal\", \"pcc\": \"notpresent\", \"ba\": \"notpresent\", \"bgr\": 108.0, \"bu\": 25.0, \"sc\": 1.0, \"sod\": 144.0, \"pot\": 5.0, \"hemo\": 17.8, \"pcv\": 43.0, \"wbcc\": 7200.0, \"rbcc\": 5.5, \"htn\": \"no\", \"dm\": \"no\", \"cad\": \"no\", \"appet\": \"good\", \"pe\": \"no\", \"ane\": \"no\", \"class\": \"notckd\"}, {\"age\": 38.0, \"bp\": 80.0, \"sg\": 1.02, \"al\": 0.0, \"su\": 0.0, \"rbc\": \"normal\", \"pc\": \"normal\", \"pcc\": \"notpresent\", \"ba\": \"notpresent\", \"bgr\": 99.0, \"bu\": 19.0, \"sc\": 0.5, \"sod\": 147.0, \"pot\": 3.5, \"hemo\": 13.6, \"pcv\": 44.0, \"wbcc\": 7300.0, \"rbcc\": 6.4, \"htn\": \"no\", \"dm\": \"no\", \"cad\": \"no\", \"appet\": \"good\", \"pe\": \"no\", \"ane\": \"no\", \"class\": \"notckd\"}, {\"age\": 29.0, \"bp\": 80.0, \"sg\": 1.02, \"al\": 0.0, \"su\": 0.0, \"rbc\": \"normal\", \"pc\": \"normal\", \"pcc\": \"notpresent\", \"ba\": \"notpresent\", \"bgr\": 83.0, \"bu\": 49.0, \"sc\": 0.9, \"sod\": 139.0, \"pot\": 3.3, \"hemo\": 17.5, \"pcv\": 40.0, \"wbcc\": 9900.0, \"rbcc\": 4.7, \"htn\": \"no\", \"dm\": \"no\", \"cad\": \"no\", \"appet\": \"good\", \"pe\": \"no\", \"ane\": \"no\", \"class\": \"notckd\"}, {\"age\": 37.0, \"bp\": 60.0, \"sg\": 1.02, \"al\": 0.0, \"su\": 0.0, \"rbc\": \"normal\", \"pc\": \"normal\", \"pcc\": \"notpresent\", \"ba\": \"notpresent\", \"bgr\": 109.0, \"bu\": 47.0, \"sc\": 1.1, \"sod\": 141.0, \"pot\": 4.9, \"hemo\": 15.0, \"pcv\": 48.0, \"wbcc\": 7000.0, \"rbcc\": 5.2, \"htn\": \"no\", \"dm\": \"no\", \"cad\": \"no\", \"appet\": \"good\", \"pe\": \"no\", \"ane\": \"no\", \"class\": \"notckd\"}, {\"age\": 39.0, \"bp\": 60.0, \"sg\": 1.02, \"al\": 0.0, \"su\": 0.0, \"rbc\": \"normal\", \"pc\": \"normal\", \"pcc\": \"notpresent\", \"ba\": \"notpresent\", \"bgr\": 86.0, \"bu\": 37.0, \"sc\": 0.6, \"sod\": 150.0, \"pot\": 5.0, \"hemo\": 13.6, \"pcv\": 51.0, \"wbcc\": 5800.0, \"rbcc\": 4.5, \"htn\": \"no\", \"dm\": \"no\", \"cad\": \"no\", \"appet\": \"good\", \"pe\": \"no\", \"ane\": \"no\", \"class\": \"notckd\"}, {\"age\": 32.0, \"bp\": 60.0, \"sg\": 1.025, \"al\": 0.0, \"su\": 0.0, \"rbc\": \"normal\", \"pc\": \"normal\", \"pcc\": \"notpresent\", \"ba\": \"notpresent\", \"bgr\": 102.0, \"bu\": 17.0, \"sc\": 0.4, \"sod\": 147.0, \"pot\": 4.7, \"hemo\": 14.6, \"pcv\": 41.0, \"wbcc\": 6800.0, \"rbcc\": 5.1, \"htn\": \"no\", \"dm\": \"no\", \"cad\": \"no\", \"appet\": \"good\", \"pe\": \"no\", \"ane\": \"no\", \"class\": \"notckd\"}, {\"age\": 23.0, \"bp\": 60.0, \"sg\": 1.02, \"al\": 0.0, \"su\": 0.0, \"rbc\": \"normal\", \"pc\": \"normal\", \"pcc\": \"notpresent\", \"ba\": \"notpresent\", \"bgr\": 95.0, \"bu\": 24.0, \"sc\": 0.8, \"sod\": 145.0, \"pot\": 5.0, \"hemo\": 15.0, \"pcv\": 52.0, \"wbcc\": 6300.0, \"rbcc\": 4.6, \"htn\": \"no\", \"dm\": \"no\", \"cad\": \"no\", \"appet\": \"good\", \"pe\": \"no\", \"ane\": \"no\", \"class\": \"notckd\"}, {\"age\": 34.0, \"bp\": 70.0, \"sg\": 1.025, \"al\": 0.0, \"su\": 0.0, \"rbc\": \"normal\", \"pc\": \"normal\", \"pcc\": \"notpresent\", \"ba\": \"notpresent\", \"bgr\": 87.0, \"bu\": 38.0, \"sc\": 0.5, \"sod\": 144.0, \"pot\": 4.8, \"hemo\": 17.1, \"pcv\": 47.0, \"wbcc\": 7400.0, \"rbcc\": 6.1, \"htn\": \"no\", \"dm\": \"no\", \"cad\": \"no\", \"appet\": \"good\", \"pe\": \"no\", \"ane\": \"no\", \"class\": \"notckd\"}, {\"age\": 66.0, \"bp\": 70.0, \"sg\": 1.025, \"al\": 0.0, \"su\": 0.0, \"rbc\": \"normal\", \"pc\": \"normal\", \"pcc\": \"notpresent\", \"ba\": \"notpresent\", \"bgr\": 107.0, \"bu\": 16.0, \"sc\": 1.1, \"sod\": 140.0, \"pot\": 3.6, \"hemo\": 13.6, \"pcv\": 42.0, \"wbcc\": 11000.0, \"rbcc\": 4.9, \"htn\": \"no\", \"dm\": \"no\", \"cad\": \"no\", \"appet\": \"good\", \"pe\": \"no\", \"ane\": \"no\", \"class\": \"notckd\"}, {\"age\": 47.0, \"bp\": 60.0, \"sg\": 1.02, \"al\": 0.0, \"su\": 0.0, \"rbc\": \"normal\", \"pc\": \"normal\", \"pcc\": \"notpresent\", \"ba\": \"notpresent\", \"bgr\": 117.0, \"bu\": 22.0, \"sc\": 1.2, \"sod\": 138.0, \"pot\": 3.5, \"hemo\": 13.0, \"pcv\": 45.0, \"wbcc\": 5200.0, \"rbcc\": 5.6, \"htn\": \"no\", \"dm\": \"no\", \"cad\": \"no\", \"appet\": \"good\", \"pe\": \"no\", \"ane\": \"no\", \"class\": \"notckd\"}, {\"age\": 74.0, \"bp\": 60.0, \"sg\": 1.02, \"al\": 0.0, \"su\": 0.0, \"rbc\": \"normal\", \"pc\": \"normal\", \"pcc\": \"notpresent\", \"ba\": \"notpresent\", \"bgr\": 88.0, \"bu\": 50.0, \"sc\": 0.6, \"sod\": 147.0, \"pot\": 3.7, \"hemo\": 17.2, \"pcv\": 53.0, \"wbcc\": 6000.0, \"rbcc\": 4.5, \"htn\": \"no\", \"dm\": \"no\", \"cad\": \"no\", \"appet\": \"good\", \"pe\": \"no\", \"ane\": \"no\", \"class\": \"notckd\"}, {\"age\": 35.0, \"bp\": 60.0, \"sg\": 1.025, \"al\": 0.0, \"su\": 0.0, \"rbc\": \"normal\", \"pc\": \"normal\", \"pcc\": \"notpresent\", \"ba\": \"notpresent\", \"bgr\": 105.0, \"bu\": 39.0, \"sc\": 0.5, \"sod\": 135.0, \"pot\": 3.9, \"hemo\": 14.7, \"pcv\": 43.0, \"wbcc\": 5800.0, \"rbcc\": 6.2, \"htn\": \"no\", \"dm\": \"no\", \"cad\": \"no\", \"appet\": \"good\", \"pe\": \"no\", \"ane\": \"no\", \"class\": \"notckd\"}, {\"age\": 29.0, \"bp\": 80.0, \"sg\": 1.02, \"al\": 0.0, \"su\": 0.0, \"rbc\": \"normal\", \"pc\": \"normal\", \"pcc\": \"notpresent\", \"ba\": \"notpresent\", \"bgr\": 70.0, \"bu\": 16.0, \"sc\": 0.7, \"sod\": 138.0, \"pot\": 3.5, \"hemo\": 13.7, \"pcv\": 54.0, \"wbcc\": 5400.0, \"rbcc\": 5.8, \"htn\": \"no\", \"dm\": \"no\", \"cad\": \"no\", \"appet\": \"good\", \"pe\": \"no\", \"ane\": \"no\", \"class\": \"notckd\"}, {\"age\": 33.0, \"bp\": 80.0, \"sg\": 1.025, \"al\": 0.0, \"su\": 0.0, \"rbc\": \"normal\", \"pc\": \"normal\", \"pcc\": \"notpresent\", \"ba\": \"notpresent\", \"bgr\": 89.0, \"bu\": 19.0, \"sc\": 1.1, \"sod\": 144.0, \"pot\": 5.0, \"hemo\": 15.0, \"pcv\": 40.0, \"wbcc\": 10300.0, \"rbcc\": 4.8, \"htn\": \"no\", \"dm\": \"no\", \"cad\": \"no\", \"appet\": \"good\", \"pe\": \"no\", \"ane\": \"no\", \"class\": \"notckd\"}, {\"age\": 67.0, \"bp\": 80.0, \"sg\": 1.025, \"al\": 0.0, \"su\": 0.0, \"rbc\": \"normal\", \"pc\": \"normal\", \"pcc\": \"notpresent\", \"ba\": \"notpresent\", \"bgr\": 99.0, \"bu\": 40.0, \"sc\": 0.5, \"sod\": 139.0, \"pot\": 4.5, \"hemo\": 17.8, \"pcv\": 44.0, \"wbcc\": 5900.0, \"rbcc\": 5.2, \"htn\": \"no\", \"dm\": \"no\", \"cad\": \"no\", \"appet\": \"good\", \"pe\": \"no\", \"ane\": \"no\", \"class\": \"notckd\"}, {\"age\": 73.0, \"bp\": 80.0, \"sg\": 1.025, \"al\": 0.0, \"su\": 0.0, \"rbc\": \"normal\", \"pc\": \"normal\", \"pcc\": \"notpresent\", \"ba\": \"notpresent\", \"bgr\": 118.0, \"bu\": 44.0, \"sc\": 0.7, \"sod\": 137.0, \"pot\": 3.5, \"hemo\": 14.8, \"pcv\": 45.0, \"wbcc\": 9300.0, \"rbcc\": 4.7, \"htn\": \"no\", \"dm\": \"no\", \"cad\": \"no\", \"appet\": \"good\", \"pe\": \"no\", \"ane\": \"no\", \"class\": \"notckd\"}, {\"age\": 24.0, \"bp\": 80.0, \"sg\": 1.02, \"al\": 0.0, \"su\": 0.0, \"rbc\": \"normal\", \"pc\": \"normal\", \"pcc\": \"notpresent\", \"ba\": \"notpresent\", \"bgr\": 93.0, \"bu\": 46.0, \"sc\": 1.0, \"sod\": 145.0, \"pot\": 3.5, \"hemo\": 13.85, \"pcv\": 42.0, \"wbcc\": 10700.0, \"rbcc\": 6.3, \"htn\": \"no\", \"dm\": \"no\", \"cad\": \"no\", \"appet\": \"good\", \"pe\": \"no\", \"ane\": \"no\", \"class\": \"notckd\"}, {\"age\": 60.0, \"bp\": 80.0, \"sg\": 1.025, \"al\": 0.0, \"su\": 0.0, \"rbc\": \"normal\", \"pc\": \"normal\", \"pcc\": \"notpresent\", \"ba\": \"notpresent\", \"bgr\": 81.0, \"bu\": 15.0, \"sc\": 0.5, \"sod\": 141.0, \"pot\": 3.6, \"hemo\": 15.0, \"pcv\": 46.0, \"wbcc\": 10500.0, \"rbcc\": 5.3, \"htn\": \"no\", \"dm\": \"no\", \"cad\": \"no\", \"appet\": \"good\", \"pe\": \"no\", \"ane\": \"no\", \"class\": \"notckd\"}, {\"age\": 68.0, \"bp\": 60.0, \"sg\": 1.025, \"al\": 0.0, \"su\": 0.0, \"rbc\": \"normal\", \"pc\": \"normal\", \"pcc\": \"notpresent\", \"ba\": \"notpresent\", \"bgr\": 125.0, \"bu\": 41.0, \"sc\": 1.1, \"sod\": 139.0, \"pot\": 3.8, \"hemo\": 17.4, \"pcv\": 50.0, \"wbcc\": 6700.0, \"rbcc\": 6.1, \"htn\": \"no\", \"dm\": \"no\", \"cad\": \"no\", \"appet\": \"good\", \"pe\": \"no\", \"ane\": \"no\", \"class\": \"notckd\"}, {\"age\": 30.0, \"bp\": 80.0, \"sg\": 1.025, \"al\": 0.0, \"su\": 0.0, \"rbc\": \"normal\", \"pc\": \"normal\", \"pcc\": \"notpresent\", \"ba\": \"notpresent\", \"bgr\": 82.0, \"bu\": 42.0, \"sc\": 0.7, \"sod\": 146.0, \"pot\": 5.0, \"hemo\": 14.9, \"pcv\": 45.0, \"wbcc\": 9400.0, \"rbcc\": 5.9, \"htn\": \"no\", \"dm\": \"no\", \"cad\": \"no\", \"appet\": \"good\", \"pe\": \"no\", \"ane\": \"no\", \"class\": \"notckd\"}, {\"age\": 75.0, \"bp\": 70.0, \"sg\": 1.02, \"al\": 0.0, \"su\": 0.0, \"rbc\": \"normal\", \"pc\": \"normal\", \"pcc\": \"notpresent\", \"ba\": \"notpresent\", \"bgr\": 107.0, \"bu\": 48.0, \"sc\": 0.8, \"sod\": 144.0, \"pot\": 3.5, \"hemo\": 13.6, \"pcv\": 46.0, \"wbcc\": 10300.0, \"rbcc\": 4.8, \"htn\": \"no\", \"dm\": \"no\", \"cad\": \"no\", \"appet\": \"good\", \"pe\": \"no\", \"ane\": \"no\", \"class\": \"notckd\"}, {\"age\": 69.0, \"bp\": 70.0, \"sg\": 1.02, \"al\": 0.0, \"su\": 0.0, \"rbc\": \"normal\", \"pc\": \"normal\", \"pcc\": \"notpresent\", \"ba\": \"notpresent\", \"bgr\": 83.0, \"bu\": 42.0, \"sc\": 1.2, \"sod\": 139.0, \"pot\": 3.7, \"hemo\": 16.2, \"pcv\": 50.0, \"wbcc\": 9300.0, \"rbcc\": 5.4, \"htn\": \"no\", \"dm\": \"no\", \"cad\": \"no\", \"appet\": \"good\", \"pe\": \"no\", \"ane\": \"no\", \"class\": \"notckd\"}, {\"age\": 28.0, \"bp\": 60.0, \"sg\": 1.025, \"al\": 0.0, \"su\": 0.0, \"rbc\": \"normal\", \"pc\": \"normal\", \"pcc\": \"notpresent\", \"ba\": \"notpresent\", \"bgr\": 79.0, \"bu\": 50.0, \"sc\": 0.5, \"sod\": 145.0, \"pot\": 5.0, \"hemo\": 17.6, \"pcv\": 51.0, \"wbcc\": 6500.0, \"rbcc\": 5.0, \"htn\": \"no\", \"dm\": \"no\", \"cad\": \"no\", \"appet\": \"good\", \"pe\": \"no\", \"ane\": \"no\", \"class\": \"notckd\"}, {\"age\": 72.0, \"bp\": 60.0, \"sg\": 1.02, \"al\": 0.0, \"su\": 0.0, \"rbc\": \"normal\", \"pc\": \"normal\", \"pcc\": \"notpresent\", \"ba\": \"notpresent\", \"bgr\": 109.0, \"bu\": 26.0, \"sc\": 0.9, \"sod\": 150.0, \"pot\": 4.9, \"hemo\": 15.0, \"pcv\": 52.0, \"wbcc\": 10500.0, \"rbcc\": 5.5, \"htn\": \"no\", \"dm\": \"no\", \"cad\": \"no\", \"appet\": \"good\", \"pe\": \"no\", \"ane\": \"no\", \"class\": \"notckd\"}, {\"age\": 61.0, \"bp\": 70.0, \"sg\": 1.025, \"al\": 0.0, \"su\": 0.0, \"rbc\": \"normal\", \"pc\": \"normal\", \"pcc\": \"notpresent\", \"ba\": \"notpresent\", \"bgr\": 133.0, \"bu\": 38.0, \"sc\": 1.0, \"sod\": 142.0, \"pot\": 3.6, \"hemo\": 13.7, \"pcv\": 47.0, \"wbcc\": 9200.0, \"rbcc\": 4.9, \"htn\": \"no\", \"dm\": \"no\", \"cad\": \"no\", \"appet\": \"good\", \"pe\": \"no\", \"ane\": \"no\", \"class\": \"notckd\"}, {\"age\": 79.0, \"bp\": 80.0, \"sg\": 1.025, \"al\": 0.0, \"su\": 0.0, \"rbc\": \"normal\", \"pc\": \"normal\", \"pcc\": \"notpresent\", \"ba\": \"notpresent\", \"bgr\": 111.0, \"bu\": 44.0, \"sc\": 1.2, \"sod\": 146.0, \"pot\": 3.6, \"hemo\": 16.3, \"pcv\": 40.0, \"wbcc\": 8000.0, \"rbcc\": 6.4, \"htn\": \"no\", \"dm\": \"no\", \"cad\": \"no\", \"appet\": \"good\", \"pe\": \"no\", \"ane\": \"no\", \"class\": \"notckd\"}, {\"age\": 70.0, \"bp\": 80.0, \"sg\": 1.02, \"al\": 0.0, \"su\": 0.0, \"rbc\": \"normal\", \"pc\": \"normal\", \"pcc\": \"notpresent\", \"ba\": \"notpresent\", \"bgr\": 74.0, \"bu\": 41.0, \"sc\": 0.5, \"sod\": 143.0, \"pot\": 4.5, \"hemo\": 15.1, \"pcv\": 48.0, \"wbcc\": 9700.0, \"rbcc\": 5.6, \"htn\": \"no\", \"dm\": \"no\", \"cad\": \"no\", \"appet\": \"good\", \"pe\": \"no\", \"ane\": \"no\", \"class\": \"notckd\"}, {\"age\": 58.0, \"bp\": 70.0, \"sg\": 1.025, \"al\": 0.0, \"su\": 0.0, \"rbc\": \"normal\", \"pc\": \"normal\", \"pcc\": \"notpresent\", \"ba\": \"notpresent\", \"bgr\": 88.0, \"bu\": 16.0, \"sc\": 1.1, \"sod\": 147.0, \"pot\": 3.5, \"hemo\": 16.4, \"pcv\": 53.0, \"wbcc\": 9100.0, \"rbcc\": 5.2, \"htn\": \"no\", \"dm\": \"no\", \"cad\": \"no\", \"appet\": \"good\", \"pe\": \"no\", \"ane\": \"no\", \"class\": \"notckd\"}, {\"age\": 64.0, \"bp\": 70.0, \"sg\": 1.02, \"al\": 0.0, \"su\": 0.0, \"rbc\": \"normal\", \"pc\": \"normal\", \"pcc\": \"notpresent\", \"ba\": \"notpresent\", \"bgr\": 97.0, \"bu\": 27.0, \"sc\": 0.7, \"sod\": 145.0, \"pot\": 4.8, \"hemo\": 13.8, \"pcv\": 49.0, \"wbcc\": 6400.0, \"rbcc\": 4.8, \"htn\": \"no\", \"dm\": \"no\", \"cad\": \"no\", \"appet\": \"good\", \"pe\": \"no\", \"ane\": \"no\", \"class\": \"notckd\"}, {\"age\": 71.0, \"bp\": 60.0, \"sg\": 1.025, \"al\": 0.0, \"su\": 0.0, \"rbc\": \"normal\", \"pc\": \"normal\", \"pcc\": \"notpresent\", \"ba\": \"notpresent\", \"bgr\": 119.0, \"bu\": 40.0, \"sc\": 0.9, \"sod\": 140.0, \"pot\": 4.8, \"hemo\": 15.2, \"pcv\": 42.0, \"wbcc\": 7700.0, \"rbcc\": 5.5, \"htn\": \"no\", \"dm\": \"no\", \"cad\": \"no\", \"appet\": \"good\", \"pe\": \"no\", \"ane\": \"no\", \"class\": \"notckd\"}, {\"age\": 62.0, \"bp\": 80.0, \"sg\": 1.025, \"al\": 0.0, \"su\": 0.0, \"rbc\": \"normal\", \"pc\": \"normal\", \"pcc\": \"notpresent\", \"ba\": \"notpresent\", \"bgr\": 78.0, \"bu\": 45.0, \"sc\": 0.6, \"sod\": 138.0, \"pot\": 3.5, \"hemo\": 16.1, \"pcv\": 50.0, \"wbcc\": 5400.0, \"rbcc\": 5.7, \"htn\": \"no\", \"dm\": \"no\", \"cad\": \"no\", \"appet\": \"good\", \"pe\": \"no\", \"ane\": \"no\", \"class\": \"notckd\"}, {\"age\": 59.0, \"bp\": 60.0, \"sg\": 1.02, \"al\": 0.0, \"su\": 0.0, \"rbc\": \"normal\", \"pc\": \"normal\", \"pcc\": \"notpresent\", \"ba\": \"notpresent\", \"bgr\": 113.0, \"bu\": 23.0, \"sc\": 1.1, \"sod\": 139.0, \"pot\": 3.5, \"hemo\": 15.3, \"pcv\": 54.0, \"wbcc\": 6500.0, \"rbcc\": 4.9, \"htn\": \"no\", \"dm\": \"no\", \"cad\": \"no\", \"appet\": \"good\", \"pe\": \"no\", \"ane\": \"no\", \"class\": \"notckd\"}, {\"age\": 48.0, \"bp\": 80.0, \"sg\": 1.025, \"al\": 0.0, \"su\": 0.0, \"rbc\": \"normal\", \"pc\": \"normal\", \"pcc\": \"notpresent\", \"ba\": \"notpresent\", \"bgr\": 75.0, \"bu\": 22.0, \"sc\": 0.8, \"sod\": 137.0, \"pot\": 5.0, \"hemo\": 16.8, \"pcv\": 51.0, \"wbcc\": 6000.0, \"rbcc\": 6.5, \"htn\": \"no\", \"dm\": \"no\", \"cad\": \"no\", \"appet\": \"good\", \"pe\": \"no\", \"ane\": \"no\", \"class\": \"notckd\"}, {\"age\": 80.0, \"bp\": 80.0, \"sg\": 1.025, \"al\": 0.0, \"su\": 0.0, \"rbc\": \"normal\", \"pc\": \"normal\", \"pcc\": \"notpresent\", \"ba\": \"notpresent\", \"bgr\": 119.0, \"bu\": 46.0, \"sc\": 0.7, \"sod\": 141.0, \"pot\": 4.9, \"hemo\": 13.9, \"pcv\": 49.0, \"wbcc\": 5100.0, \"rbcc\": 5.0, \"htn\": \"no\", \"dm\": \"no\", \"cad\": \"no\", \"appet\": \"good\", \"pe\": \"no\", \"ane\": \"no\", \"class\": \"notckd\"}, {\"age\": 57.0, \"bp\": 60.0, \"sg\": 1.02, \"al\": 0.0, \"su\": 0.0, \"rbc\": \"normal\", \"pc\": \"normal\", \"pcc\": \"notpresent\", \"ba\": \"notpresent\", \"bgr\": 132.0, \"bu\": 18.0, \"sc\": 1.1, \"sod\": 150.0, \"pot\": 4.7, \"hemo\": 15.4, \"pcv\": 42.0, \"wbcc\": 11000.0, \"rbcc\": 4.5, \"htn\": \"no\", \"dm\": \"no\", \"cad\": \"no\", \"appet\": \"good\", \"pe\": \"no\", \"ane\": \"no\", \"class\": \"notckd\"}, {\"age\": 63.0, \"bp\": 70.0, \"sg\": 1.02, \"al\": 0.0, \"su\": 0.0, \"rbc\": \"normal\", \"pc\": \"normal\", \"pcc\": \"notpresent\", \"ba\": \"notpresent\", \"bgr\": 113.0, \"bu\": 25.0, \"sc\": 0.6, \"sod\": 146.0, \"pot\": 4.9, \"hemo\": 16.5, \"pcv\": 52.0, \"wbcc\": 8000.0, \"rbcc\": 5.1, \"htn\": \"no\", \"dm\": \"no\", \"cad\": \"no\", \"appet\": \"good\", \"pe\": \"no\", \"ane\": \"no\", \"class\": \"notckd\"}, {\"age\": 46.0, \"bp\": 70.0, \"sg\": 1.025, \"al\": 0.0, \"su\": 0.0, \"rbc\": \"normal\", \"pc\": \"normal\", \"pcc\": \"notpresent\", \"ba\": \"notpresent\", \"bgr\": 100.0, \"bu\": 47.0, \"sc\": 0.5, \"sod\": 142.0, \"pot\": 3.5, \"hemo\": 16.4, \"pcv\": 43.0, \"wbcc\": 5700.0, \"rbcc\": 6.5, \"htn\": \"no\", \"dm\": \"no\", \"cad\": \"no\", \"appet\": \"good\", \"pe\": \"no\", \"ane\": \"no\", \"class\": \"notckd\"}, {\"age\": 15.0, \"bp\": 80.0, \"sg\": 1.025, \"al\": 0.0, \"su\": 0.0, \"rbc\": \"normal\", \"pc\": \"normal\", \"pcc\": \"notpresent\", \"ba\": \"notpresent\", \"bgr\": 93.0, \"bu\": 17.0, \"sc\": 0.9, \"sod\": 136.0, \"pot\": 3.9, \"hemo\": 16.7, \"pcv\": 50.0, \"wbcc\": 6200.0, \"rbcc\": 5.2, \"htn\": \"no\", \"dm\": \"no\", \"cad\": \"no\", \"appet\": \"good\", \"pe\": \"no\", \"ane\": \"no\", \"class\": \"notckd\"}, {\"age\": 51.0, \"bp\": 80.0, \"sg\": 1.02, \"al\": 0.0, \"su\": 0.0, \"rbc\": \"normal\", \"pc\": \"normal\", \"pcc\": \"notpresent\", \"ba\": \"notpresent\", \"bgr\": 94.0, \"bu\": 15.0, \"sc\": 1.2, \"sod\": 144.0, \"pot\": 3.7, \"hemo\": 15.5, \"pcv\": 46.0, \"wbcc\": 9500.0, \"rbcc\": 6.4, \"htn\": \"no\", \"dm\": \"no\", \"cad\": \"no\", \"appet\": \"good\", \"pe\": \"no\", \"ane\": \"no\", \"class\": \"notckd\"}, {\"age\": 41.0, \"bp\": 80.0, \"sg\": 1.025, \"al\": 0.0, \"su\": 0.0, \"rbc\": \"normal\", \"pc\": \"normal\", \"pcc\": \"notpresent\", \"ba\": \"notpresent\", \"bgr\": 112.0, \"bu\": 48.0, \"sc\": 0.7, \"sod\": 140.0, \"pot\": 5.0, \"hemo\": 17.0, \"pcv\": 52.0, \"wbcc\": 7200.0, \"rbcc\": 5.8, \"htn\": \"no\", \"dm\": \"no\", \"cad\": \"no\", \"appet\": \"good\", \"pe\": \"no\", \"ane\": \"no\", \"class\": \"notckd\"}, {\"age\": 52.0, \"bp\": 80.0, \"sg\": 1.025, \"al\": 0.0, \"su\": 0.0, \"rbc\": \"normal\", \"pc\": \"normal\", \"pcc\": \"notpresent\", \"ba\": \"notpresent\", \"bgr\": 99.0, \"bu\": 25.0, \"sc\": 0.8, \"sod\": 135.0, \"pot\": 3.7, \"hemo\": 15.0, \"pcv\": 52.0, \"wbcc\": 6300.0, \"rbcc\": 5.3, \"htn\": \"no\", \"dm\": \"no\", \"cad\": \"no\", \"appet\": \"good\", \"pe\": \"no\", \"ane\": \"no\", \"class\": \"notckd\"}, {\"age\": 36.0, \"bp\": 80.0, \"sg\": 1.025, \"al\": 0.0, \"su\": 0.0, \"rbc\": \"normal\", \"pc\": \"normal\", \"pcc\": \"notpresent\", \"ba\": \"notpresent\", \"bgr\": 85.0, \"bu\": 16.0, \"sc\": 1.1, \"sod\": 142.0, \"pot\": 4.1, \"hemo\": 15.6, \"pcv\": 44.0, \"wbcc\": 5800.0, \"rbcc\": 6.3, \"htn\": \"no\", \"dm\": \"no\", \"cad\": \"no\", \"appet\": \"good\", \"pe\": \"no\", \"ane\": \"no\", \"class\": \"notckd\"}, {\"age\": 57.0, \"bp\": 80.0, \"sg\": 1.02, \"al\": 0.0, \"su\": 0.0, \"rbc\": \"normal\", \"pc\": \"normal\", \"pcc\": \"notpresent\", \"ba\": \"notpresent\", \"bgr\": 133.0, \"bu\": 48.0, \"sc\": 1.2, \"sod\": 147.0, \"pot\": 4.3, \"hemo\": 14.8, \"pcv\": 46.0, \"wbcc\": 6600.0, \"rbcc\": 5.5, \"htn\": \"no\", \"dm\": \"no\", \"cad\": \"no\", \"appet\": \"good\", \"pe\": \"no\", \"ane\": \"no\", \"class\": \"notckd\"}, {\"age\": 43.0, \"bp\": 60.0, \"sg\": 1.025, \"al\": 0.0, \"su\": 0.0, \"rbc\": \"normal\", \"pc\": \"normal\", \"pcc\": \"notpresent\", \"ba\": \"notpresent\", \"bgr\": 117.0, \"bu\": 45.0, \"sc\": 0.7, \"sod\": 141.0, \"pot\": 4.4, \"hemo\": 13.0, \"pcv\": 54.0, \"wbcc\": 7400.0, \"rbcc\": 5.4, \"htn\": \"no\", \"dm\": \"no\", \"cad\": \"no\", \"appet\": \"good\", \"pe\": \"no\", \"ane\": \"no\", \"class\": \"notckd\"}, {\"age\": 50.0, \"bp\": 80.0, \"sg\": 1.02, \"al\": 0.0, \"su\": 0.0, \"rbc\": \"normal\", \"pc\": \"normal\", \"pcc\": \"notpresent\", \"ba\": \"notpresent\", \"bgr\": 137.0, \"bu\": 46.0, \"sc\": 0.8, \"sod\": 139.0, \"pot\": 5.0, \"hemo\": 14.1, \"pcv\": 45.0, \"wbcc\": 9500.0, \"rbcc\": 4.6, \"htn\": \"no\", \"dm\": \"no\", \"cad\": \"no\", \"appet\": \"good\", \"pe\": \"no\", \"ane\": \"no\", \"class\": \"notckd\"}, {\"age\": 55.0, \"bp\": 80.0, \"sg\": 1.02, \"al\": 0.0, \"su\": 0.0, \"rbc\": \"normal\", \"pc\": \"normal\", \"pcc\": \"notpresent\", \"ba\": \"notpresent\", \"bgr\": 140.0, \"bu\": 49.0, \"sc\": 0.5, \"sod\": 150.0, \"pot\": 4.9, \"hemo\": 15.7, \"pcv\": 47.0, \"wbcc\": 6700.0, \"rbcc\": 4.9, \"htn\": \"no\", \"dm\": \"no\", \"cad\": \"no\", \"appet\": \"good\", \"pe\": \"no\", \"ane\": \"no\", \"class\": \"notckd\"}, {\"age\": 42.0, \"bp\": 70.0, \"sg\": 1.025, \"al\": 0.0, \"su\": 0.0, \"rbc\": \"normal\", \"pc\": \"normal\", \"pcc\": \"notpresent\", \"ba\": \"notpresent\", \"bgr\": 75.0, \"bu\": 31.0, \"sc\": 1.2, \"sod\": 141.0, \"pot\": 3.5, \"hemo\": 16.5, \"pcv\": 54.0, \"wbcc\": 7800.0, \"rbcc\": 6.2, \"htn\": \"no\", \"dm\": \"no\", \"cad\": \"no\", \"appet\": \"good\", \"pe\": \"no\", \"ane\": \"no\", \"class\": \"notckd\"}, {\"age\": 12.0, \"bp\": 80.0, \"sg\": 1.02, \"al\": 0.0, \"su\": 0.0, \"rbc\": \"normal\", \"pc\": \"normal\", \"pcc\": \"notpresent\", \"ba\": \"notpresent\", \"bgr\": 100.0, \"bu\": 26.0, \"sc\": 0.6, \"sod\": 137.0, \"pot\": 4.4, \"hemo\": 15.8, \"pcv\": 49.0, \"wbcc\": 6600.0, \"rbcc\": 5.4, \"htn\": \"no\", \"dm\": \"no\", \"cad\": \"no\", \"appet\": \"good\", \"pe\": \"no\", \"ane\": \"no\", \"class\": \"notckd\"}, {\"age\": 17.0, \"bp\": 60.0, \"sg\": 1.025, \"al\": 0.0, \"su\": 0.0, \"rbc\": \"normal\", \"pc\": \"normal\", \"pcc\": \"notpresent\", \"ba\": \"notpresent\", \"bgr\": 114.0, \"bu\": 50.0, \"sc\": 1.0, \"sod\": 135.0, \"pot\": 4.9, \"hemo\": 14.2, \"pcv\": 51.0, \"wbcc\": 7200.0, \"rbcc\": 5.9, \"htn\": \"no\", \"dm\": \"no\", \"cad\": \"no\", \"appet\": \"good\", \"pe\": \"no\", \"ane\": \"no\", \"class\": \"notckd\"}, {\"age\": 58.0, \"bp\": 80.0, \"sg\": 1.025, \"al\": 0.0, \"su\": 0.0, \"rbc\": \"normal\", \"pc\": \"normal\", \"pcc\": \"notpresent\", \"ba\": \"notpresent\", \"bgr\": 131.0, \"bu\": 18.0, \"sc\": 1.1, \"sod\": 141.0, \"pot\": 3.5, \"hemo\": 15.8, \"pcv\": 53.0, \"wbcc\": 6800.0, \"rbcc\": 6.1, \"htn\": \"no\", \"dm\": \"no\", \"cad\": \"no\", \"appet\": \"good\", \"pe\": \"no\", \"ane\": \"no\", \"class\": \"notckd\"}]}}, {\"mode\": \"vega-lite\"});\n",
       "</script>"
      ],
      "text/plain": [
       "alt.RepeatChart(...)"
      ]
     },
     "execution_count": 29,
     "metadata": {},
     "output_type": "execute_result"
    }
   ],
   "source": [
    "alt.Chart(data_clean).mark_circle().encode(\n",
    "    alt.X(alt.repeat(\"column\"), type='quantitative'),\n",
    "    alt.Y(alt.repeat(\"row\"), type='quantitative'),\n",
    "    color='Origin:N'\n",
    ").properties(\n",
    "    width=20,\n",
    "    height=20\n",
    ").repeat(\n",
    "    row=['age', 'bp','sg','al','su','bgr','bu','sc','sod','pot','hemo','pcv','wbcc','rbcc'],\n",
    "    column=['rbcc', 'wbcc','pcv','hemo','pot','sod', 'sc','bu','bgr','su','al','sg','bp','age']\n",
    ").interactive()"
   ]
  },
  {
   "cell_type": "markdown",
   "metadata": {},
   "source": [
    "Unfortunatly with with so many features being compared with each other a scatter matrix can become unweidly. But we can still see some interesting scatter plots that we can focus in on. One in particular is the `pcv` vs `hemo` scatter plot."
   ]
  },
  {
   "cell_type": "code",
   "execution_count": 30,
   "metadata": {
    "scrolled": true
   },
   "outputs": [
    {
     "data": {
      "text/html": [
       "\n",
       "<div id=\"altair-viz-5622a7e38b9c4e4ca4e5c435d74d793a\"></div>\n",
       "<script type=\"text/javascript\">\n",
       "  (function(spec, embedOpt){\n",
       "    let outputDiv = document.currentScript.previousElementSibling;\n",
       "    if (outputDiv.id !== \"altair-viz-5622a7e38b9c4e4ca4e5c435d74d793a\") {\n",
       "      outputDiv = document.getElementById(\"altair-viz-5622a7e38b9c4e4ca4e5c435d74d793a\");\n",
       "    }\n",
       "    const paths = {\n",
       "      \"vega\": \"https://cdn.jsdelivr.net/npm//vega@5?noext\",\n",
       "      \"vega-lib\": \"https://cdn.jsdelivr.net/npm//vega-lib?noext\",\n",
       "      \"vega-lite\": \"https://cdn.jsdelivr.net/npm//vega-lite@4.8.1?noext\",\n",
       "      \"vega-embed\": \"https://cdn.jsdelivr.net/npm//vega-embed@6?noext\",\n",
       "    };\n",
       "\n",
       "    function loadScript(lib) {\n",
       "      return new Promise(function(resolve, reject) {\n",
       "        var s = document.createElement('script');\n",
       "        s.src = paths[lib];\n",
       "        s.async = true;\n",
       "        s.onload = () => resolve(paths[lib]);\n",
       "        s.onerror = () => reject(`Error loading script: ${paths[lib]}`);\n",
       "        document.getElementsByTagName(\"head\")[0].appendChild(s);\n",
       "      });\n",
       "    }\n",
       "\n",
       "    function showError(err) {\n",
       "      outputDiv.innerHTML = `<div class=\"error\" style=\"color:red;\">${err}</div>`;\n",
       "      throw err;\n",
       "    }\n",
       "\n",
       "    function displayChart(vegaEmbed) {\n",
       "      vegaEmbed(outputDiv, spec, embedOpt)\n",
       "        .catch(err => showError(`Javascript Error: ${err.message}<br>This usually means there's a typo in your chart specification. See the javascript console for the full traceback.`));\n",
       "    }\n",
       "\n",
       "    if(typeof define === \"function\" && define.amd) {\n",
       "      requirejs.config({paths});\n",
       "      require([\"vega-embed\"], displayChart, err => showError(`Error loading script: ${err.message}`));\n",
       "    } else if (typeof vegaEmbed === \"function\") {\n",
       "      displayChart(vegaEmbed);\n",
       "    } else {\n",
       "      loadScript(\"vega\")\n",
       "        .then(() => loadScript(\"vega-lite\"))\n",
       "        .then(() => loadScript(\"vega-embed\"))\n",
       "        .catch(showError)\n",
       "        .then(() => displayChart(vegaEmbed));\n",
       "    }\n",
       "  })({\"config\": {\"view\": {\"continuousWidth\": 400, \"continuousHeight\": 300}}, \"data\": {\"name\": \"data-23ab5fbbb8473b892a91b29fa85a1421\"}, \"mark\": \"point\", \"encoding\": {\"x\": {\"type\": \"quantitative\", \"field\": \"pcv\"}, \"y\": {\"type\": \"quantitative\", \"field\": \"hemo\"}}, \"title\": \"Hemoglobin vs packed cell volume\", \"$schema\": \"https://vega.github.io/schema/vega-lite/v4.8.1.json\", \"datasets\": {\"data-23ab5fbbb8473b892a91b29fa85a1421\": [{\"age\": 62.0, \"bp\": 80.0, \"sg\": 1.01, \"al\": 2.0, \"su\": 3.0, \"rbc\": \"normal\", \"pc\": \"normal\", \"pcc\": \"notpresent\", \"ba\": \"notpresent\", \"bgr\": 423.0, \"bu\": 53.0, \"sc\": 1.8, \"sod\": 139.0, \"pot\": 4.5, \"hemo\": 9.6, \"pcv\": 31.0, \"wbcc\": 7500.0, \"rbcc\": 4.9, \"htn\": \"no\", \"dm\": \"yes\", \"cad\": \"no\", \"appet\": \"poor\", \"pe\": \"no\", \"ane\": \"yes\", \"class\": \"ckd\"}, {\"age\": 48.0, \"bp\": 70.0, \"sg\": 1.005, \"al\": 4.0, \"su\": 0.0, \"rbc\": \"normal\", \"pc\": \"abnormal\", \"pcc\": \"present\", \"ba\": \"notpresent\", \"bgr\": 117.0, \"bu\": 56.0, \"sc\": 3.8, \"sod\": 111.0, \"pot\": 2.5, \"hemo\": 11.2, \"pcv\": 32.0, \"wbcc\": 6700.0, \"rbcc\": 3.9, \"htn\": \"yes\", \"dm\": \"no\", \"cad\": \"no\", \"appet\": \"poor\", \"pe\": \"yes\", \"ane\": \"yes\", \"class\": \"ckd\"}, {\"age\": 51.0, \"bp\": 80.0, \"sg\": 1.01, \"al\": 2.0, \"su\": 0.0, \"rbc\": \"normal\", \"pc\": \"normal\", \"pcc\": \"notpresent\", \"ba\": \"notpresent\", \"bgr\": 106.0, \"bu\": 26.0, \"sc\": 1.4, \"sod\": 139.0, \"pot\": 4.5, \"hemo\": 11.6, \"pcv\": 35.0, \"wbcc\": 7300.0, \"rbcc\": 4.6, \"htn\": \"no\", \"dm\": \"no\", \"cad\": \"no\", \"appet\": \"good\", \"pe\": \"no\", \"ane\": \"no\", \"class\": \"ckd\"}, {\"age\": 24.0, \"bp\": 80.0, \"sg\": 1.015, \"al\": 2.0, \"su\": 4.0, \"rbc\": \"normal\", \"pc\": \"abnormal\", \"pcc\": \"notpresent\", \"ba\": \"notpresent\", \"bgr\": 410.0, \"bu\": 31.0, \"sc\": 1.1, \"sod\": 139.0, \"pot\": 4.5, \"hemo\": 12.4, \"pcv\": 44.0, \"wbcc\": 6900.0, \"rbcc\": 5.0, \"htn\": \"no\", \"dm\": \"yes\", \"cad\": \"no\", \"appet\": \"good\", \"pe\": \"yes\", \"ane\": \"no\", \"class\": \"ckd\"}, {\"age\": 52.0, \"bp\": 100.0, \"sg\": 1.015, \"al\": 3.0, \"su\": 0.0, \"rbc\": \"normal\", \"pc\": \"abnormal\", \"pcc\": \"present\", \"ba\": \"notpresent\", \"bgr\": 138.0, \"bu\": 60.0, \"sc\": 1.9, \"sod\": 139.0, \"pot\": 4.5, \"hemo\": 10.8, \"pcv\": 33.0, \"wbcc\": 9600.0, \"rbcc\": 4.0, \"htn\": \"yes\", \"dm\": \"yes\", \"cad\": \"no\", \"appet\": \"good\", \"pe\": \"no\", \"ane\": \"yes\", \"class\": \"ckd\"}, {\"age\": 53.0, \"bp\": 90.0, \"sg\": 1.02, \"al\": 2.0, \"su\": 0.0, \"rbc\": \"abnormal\", \"pc\": \"abnormal\", \"pcc\": \"present\", \"ba\": \"notpresent\", \"bgr\": 70.0, \"bu\": 107.0, \"sc\": 7.2, \"sod\": 114.0, \"pot\": 3.7, \"hemo\": 9.5, \"pcv\": 29.0, \"wbcc\": 12100.0, \"rbcc\": 3.7, \"htn\": \"yes\", \"dm\": \"yes\", \"cad\": \"no\", \"appet\": \"poor\", \"pe\": \"no\", \"ane\": \"yes\", \"class\": \"ckd\"}, {\"age\": 63.0, \"bp\": 70.0, \"sg\": 1.01, \"al\": 3.0, \"su\": 0.0, \"rbc\": \"abnormal\", \"pc\": \"abnormal\", \"pcc\": \"present\", \"ba\": \"notpresent\", \"bgr\": 380.0, \"bu\": 60.0, \"sc\": 2.7, \"sod\": 131.0, \"pot\": 4.2, \"hemo\": 10.8, \"pcv\": 32.0, \"wbcc\": 4500.0, \"rbcc\": 3.8, \"htn\": \"yes\", \"dm\": \"yes\", \"cad\": \"no\", \"appet\": \"poor\", \"pe\": \"yes\", \"ane\": \"no\", \"class\": \"ckd\"}, {\"age\": 68.0, \"bp\": 80.0, \"sg\": 1.01, \"al\": 3.0, \"su\": 2.0, \"rbc\": \"normal\", \"pc\": \"abnormal\", \"pcc\": \"present\", \"ba\": \"present\", \"bgr\": 157.0, \"bu\": 90.0, \"sc\": 4.1, \"sod\": 130.0, \"pot\": 6.4, \"hemo\": 5.6, \"pcv\": 16.0, \"wbcc\": 11000.0, \"rbcc\": 2.6, \"htn\": \"yes\", \"dm\": \"yes\", \"cad\": \"yes\", \"appet\": \"poor\", \"pe\": \"yes\", \"ane\": \"no\", \"class\": \"ckd\"}, {\"age\": 61.0, \"bp\": 80.0, \"sg\": 1.015, \"al\": 2.0, \"su\": 0.0, \"rbc\": \"abnormal\", \"pc\": \"abnormal\", \"pcc\": \"notpresent\", \"ba\": \"notpresent\", \"bgr\": 173.0, \"bu\": 148.0, \"sc\": 3.9, \"sod\": 135.0, \"pot\": 5.2, \"hemo\": 7.7, \"pcv\": 24.0, \"wbcc\": 9200.0, \"rbcc\": 3.2, \"htn\": \"yes\", \"dm\": \"yes\", \"cad\": \"yes\", \"appet\": \"poor\", \"pe\": \"yes\", \"ane\": \"yes\", \"class\": \"ckd\"}, {\"age\": 48.0, \"bp\": 80.0, \"sg\": 1.025, \"al\": 4.0, \"su\": 0.0, \"rbc\": \"normal\", \"pc\": \"abnormal\", \"pcc\": \"notpresent\", \"ba\": \"notpresent\", \"bgr\": 95.0, \"bu\": 163.0, \"sc\": 7.7, \"sod\": 136.0, \"pot\": 3.8, \"hemo\": 9.8, \"pcv\": 32.0, \"wbcc\": 6900.0, \"rbcc\": 3.4, \"htn\": \"yes\", \"dm\": \"no\", \"cad\": \"no\", \"appet\": \"good\", \"pe\": \"no\", \"ane\": \"yes\", \"class\": \"ckd\"}, {\"age\": 42.0, \"bp\": 100.0, \"sg\": 1.015, \"al\": 4.0, \"su\": 0.0, \"rbc\": \"normal\", \"pc\": \"abnormal\", \"pcc\": \"notpresent\", \"ba\": \"present\", \"bgr\": 119.0, \"bu\": 50.0, \"sc\": 1.4, \"sod\": 129.0, \"pot\": 4.0, \"hemo\": 11.1, \"pcv\": 39.0, \"wbcc\": 8300.0, \"rbcc\": 4.6, \"htn\": \"yes\", \"dm\": \"no\", \"cad\": \"no\", \"appet\": \"poor\", \"pe\": \"no\", \"ane\": \"no\", \"class\": \"ckd\"}, {\"age\": 69.0, \"bp\": 70.0, \"sg\": 1.01, \"al\": 3.0, \"su\": 4.0, \"rbc\": \"normal\", \"pc\": \"abnormal\", \"pcc\": \"notpresent\", \"ba\": \"notpresent\", \"bgr\": 264.0, \"bu\": 87.0, \"sc\": 2.7, \"sod\": 130.0, \"pot\": 4.0, \"hemo\": 12.5, \"pcv\": 37.0, \"wbcc\": 9600.0, \"rbcc\": 4.1, \"htn\": \"yes\", \"dm\": \"yes\", \"cad\": \"yes\", \"appet\": \"good\", \"pe\": \"yes\", \"ane\": \"no\", \"class\": \"ckd\"}, {\"age\": 68.0, \"bp\": 70.0, \"sg\": 1.005, \"al\": 1.0, \"su\": 0.0, \"rbc\": \"abnormal\", \"pc\": \"abnormal\", \"pcc\": \"present\", \"ba\": \"notpresent\", \"bgr\": 119.0, \"bu\": 28.0, \"sc\": 1.4, \"sod\": 139.0, \"pot\": 4.5, \"hemo\": 12.9, \"pcv\": 38.0, \"wbcc\": 7900.0, \"rbcc\": 4.9, \"htn\": \"no\", \"dm\": \"no\", \"cad\": \"yes\", \"appet\": \"good\", \"pe\": \"no\", \"ane\": \"no\", \"class\": \"ckd\"}, {\"age\": 60.0, \"bp\": 100.0, \"sg\": 1.02, \"al\": 2.0, \"su\": 0.0, \"rbc\": \"abnormal\", \"pc\": \"abnormal\", \"pcc\": \"notpresent\", \"ba\": \"notpresent\", \"bgr\": 140.0, \"bu\": 55.0, \"sc\": 2.5, \"sod\": 139.0, \"pot\": 4.5, \"hemo\": 10.1, \"pcv\": 29.0, \"wbcc\": 7900.0, \"rbcc\": 4.9, \"htn\": \"yes\", \"dm\": \"no\", \"cad\": \"no\", \"appet\": \"poor\", \"pe\": \"no\", \"ane\": \"no\", \"class\": \"ckd\"}, {\"age\": 70.0, \"bp\": 70.0, \"sg\": 1.01, \"al\": 1.0, \"su\": 0.0, \"rbc\": \"normal\", \"pc\": \"normal\", \"pcc\": \"present\", \"ba\": \"present\", \"bgr\": 171.0, \"bu\": 153.0, \"sc\": 5.2, \"sod\": 139.0, \"pot\": 4.5, \"hemo\": 13.85, \"pcv\": 42.0, \"wbcc\": 7900.0, \"rbcc\": 4.9, \"htn\": \"no\", \"dm\": \"yes\", \"cad\": \"no\", \"appet\": \"poor\", \"pe\": \"no\", \"ane\": \"no\", \"class\": \"ckd\"}, {\"age\": 65.0, \"bp\": 90.0, \"sg\": 1.02, \"al\": 2.0, \"su\": 1.0, \"rbc\": \"abnormal\", \"pc\": \"normal\", \"pcc\": \"notpresent\", \"ba\": \"notpresent\", \"bgr\": 270.0, \"bu\": 39.0, \"sc\": 2.0, \"sod\": 139.0, \"pot\": 4.5, \"hemo\": 12.0, \"pcv\": 36.0, \"wbcc\": 9800.0, \"rbcc\": 4.9, \"htn\": \"yes\", \"dm\": \"yes\", \"cad\": \"no\", \"appet\": \"poor\", \"pe\": \"no\", \"ane\": \"yes\", \"class\": \"ckd\"}, {\"age\": 76.0, \"bp\": 70.0, \"sg\": 1.015, \"al\": 1.0, \"su\": 0.0, \"rbc\": \"normal\", \"pc\": \"normal\", \"pcc\": \"notpresent\", \"ba\": \"notpresent\", \"bgr\": 92.0, \"bu\": 29.0, \"sc\": 1.8, \"sod\": 133.0, \"pot\": 3.9, \"hemo\": 10.3, \"pcv\": 32.0, \"wbcc\": 7900.0, \"rbcc\": 4.9, \"htn\": \"yes\", \"dm\": \"no\", \"cad\": \"no\", \"appet\": \"good\", \"pe\": \"no\", \"ane\": \"no\", \"class\": \"ckd\"}, {\"age\": 69.0, \"bp\": 80.0, \"sg\": 1.02, \"al\": 3.0, \"su\": 0.0, \"rbc\": \"abnormal\", \"pc\": \"normal\", \"pcc\": \"notpresent\", \"ba\": \"notpresent\", \"bgr\": 119.0, \"bu\": 103.0, \"sc\": 4.1, \"sod\": 132.0, \"pot\": 5.9, \"hemo\": 12.5, \"pcv\": 42.0, \"wbcc\": 7900.0, \"rbcc\": 4.9, \"htn\": \"yes\", \"dm\": \"no\", \"cad\": \"no\", \"appet\": \"good\", \"pe\": \"no\", \"ane\": \"no\", \"class\": \"ckd\"}, {\"age\": 82.0, \"bp\": 80.0, \"sg\": 1.01, \"al\": 2.0, \"su\": 2.0, \"rbc\": \"normal\", \"pc\": \"normal\", \"pcc\": \"notpresent\", \"ba\": \"notpresent\", \"bgr\": 140.0, \"bu\": 70.0, \"sc\": 3.4, \"sod\": 136.0, \"pot\": 4.2, \"hemo\": 13.0, \"pcv\": 40.0, \"wbcc\": 9800.0, \"rbcc\": 4.2, \"htn\": \"yes\", \"dm\": \"yes\", \"cad\": \"no\", \"appet\": \"good\", \"pe\": \"no\", \"ane\": \"no\", \"class\": \"ckd\"}, {\"age\": 46.0, \"bp\": 90.0, \"sg\": 1.01, \"al\": 2.0, \"su\": 0.0, \"rbc\": \"normal\", \"pc\": \"abnormal\", \"pcc\": \"notpresent\", \"ba\": \"notpresent\", \"bgr\": 99.0, \"bu\": 80.0, \"sc\": 2.1, \"sod\": 139.0, \"pot\": 4.5, \"hemo\": 11.1, \"pcv\": 32.0, \"wbcc\": 9100.0, \"rbcc\": 4.1, \"htn\": \"yes\", \"dm\": \"no\", \"cad\": \"no\", \"appet\": \"good\", \"pe\": \"no\", \"ane\": \"no\", \"class\": \"ckd\"}, {\"age\": 35.0, \"bp\": 80.0, \"sg\": 1.01, \"al\": 1.0, \"su\": 0.0, \"rbc\": \"abnormal\", \"pc\": \"normal\", \"pcc\": \"notpresent\", \"ba\": \"notpresent\", \"bgr\": 79.0, \"bu\": 202.0, \"sc\": 10.8, \"sod\": 134.0, \"pot\": 3.4, \"hemo\": 7.9, \"pcv\": 24.0, \"wbcc\": 7900.0, \"rbcc\": 3.1, \"htn\": \"no\", \"dm\": \"yes\", \"cad\": \"no\", \"appet\": \"good\", \"pe\": \"no\", \"ane\": \"no\", \"class\": \"ckd\"}, {\"age\": 54.0, \"bp\": 80.0, \"sg\": 1.01, \"al\": 3.0, \"su\": 0.0, \"rbc\": \"abnormal\", \"pc\": \"abnormal\", \"pcc\": \"notpresent\", \"ba\": \"notpresent\", \"bgr\": 207.0, \"bu\": 77.0, \"sc\": 6.3, \"sod\": 134.0, \"pot\": 4.8, \"hemo\": 9.7, \"pcv\": 28.0, \"wbcc\": 7900.0, \"rbcc\": 4.9, \"htn\": \"yes\", \"dm\": \"yes\", \"cad\": \"no\", \"appet\": \"poor\", \"pe\": \"yes\", \"ane\": \"no\", \"class\": \"ckd\"}, {\"age\": 73.0, \"bp\": 70.0, \"sg\": 1.005, \"al\": 0.0, \"su\": 0.0, \"rbc\": \"normal\", \"pc\": \"normal\", \"pcc\": \"notpresent\", \"ba\": \"notpresent\", \"bgr\": 70.0, \"bu\": 32.0, \"sc\": 0.9, \"sod\": 125.0, \"pot\": 4.0, \"hemo\": 10.0, \"pcv\": 29.0, \"wbcc\": 18900.0, \"rbcc\": 3.5, \"htn\": \"yes\", \"dm\": \"yes\", \"cad\": \"no\", \"appet\": \"good\", \"pe\": \"yes\", \"ane\": \"no\", \"class\": \"ckd\"}, {\"age\": 60.0, \"bp\": 70.0, \"sg\": 1.01, \"al\": 2.0, \"su\": 0.0, \"rbc\": \"normal\", \"pc\": \"abnormal\", \"pcc\": \"present\", \"ba\": \"notpresent\", \"bgr\": 144.0, \"bu\": 72.0, \"sc\": 3.0, \"sod\": 139.0, \"pot\": 4.5, \"hemo\": 9.7, \"pcv\": 29.0, \"wbcc\": 21600.0, \"rbcc\": 3.5, \"htn\": \"yes\", \"dm\": \"yes\", \"cad\": \"no\", \"appet\": \"poor\", \"pe\": \"no\", \"ane\": \"yes\", \"class\": \"ckd\"}, {\"age\": 63.0, \"bp\": 80.0, \"sg\": 1.01, \"al\": 2.0, \"su\": 2.0, \"rbc\": \"normal\", \"pc\": \"normal\", \"pcc\": \"notpresent\", \"ba\": \"notpresent\", \"bgr\": 119.0, \"bu\": 40.0, \"sc\": 3.4, \"sod\": 136.0, \"pot\": 4.2, \"hemo\": 13.0, \"pcv\": 40.0, \"wbcc\": 9800.0, \"rbcc\": 4.2, \"htn\": \"yes\", \"dm\": \"no\", \"cad\": \"yes\", \"appet\": \"good\", \"pe\": \"no\", \"ane\": \"no\", \"class\": \"ckd\"}, {\"age\": 35.0, \"bp\": 80.0, \"sg\": 1.005, \"al\": 3.0, \"su\": 0.0, \"rbc\": \"abnormal\", \"pc\": \"normal\", \"pcc\": \"notpresent\", \"ba\": \"notpresent\", \"bgr\": 119.0, \"bu\": 40.0, \"sc\": 1.15, \"sod\": 139.0, \"pot\": 4.5, \"hemo\": 9.5, \"pcv\": 28.0, \"wbcc\": 7900.0, \"rbcc\": 4.9, \"htn\": \"no\", \"dm\": \"no\", \"cad\": \"no\", \"appet\": \"good\", \"pe\": \"yes\", \"ane\": \"no\", \"class\": \"ckd\"}, {\"age\": 76.0, \"bp\": 70.0, \"sg\": 1.015, \"al\": 3.0, \"su\": 4.0, \"rbc\": \"normal\", \"pc\": \"abnormal\", \"pcc\": \"present\", \"ba\": \"notpresent\", \"bgr\": 119.0, \"bu\": 164.0, \"sc\": 9.7, \"sod\": 131.0, \"pot\": 4.4, \"hemo\": 10.2, \"pcv\": 30.0, \"wbcc\": 11300.0, \"rbcc\": 3.4, \"htn\": \"yes\", \"dm\": \"yes\", \"cad\": \"yes\", \"appet\": \"poor\", \"pe\": \"yes\", \"ane\": \"no\", \"class\": \"ckd\"}, {\"age\": 73.0, \"bp\": 80.0, \"sg\": 1.02, \"al\": 2.0, \"su\": 0.0, \"rbc\": \"abnormal\", \"pc\": \"abnormal\", \"pcc\": \"notpresent\", \"ba\": \"notpresent\", \"bgr\": 253.0, \"bu\": 142.0, \"sc\": 4.6, \"sod\": 138.0, \"pot\": 5.8, \"hemo\": 10.5, \"pcv\": 33.0, \"wbcc\": 7200.0, \"rbcc\": 4.3, \"htn\": \"yes\", \"dm\": \"yes\", \"cad\": \"yes\", \"appet\": \"good\", \"pe\": \"no\", \"ane\": \"no\", \"class\": \"ckd\"}, {\"age\": 67.0, \"bp\": 80.0, \"sg\": 1.01, \"al\": 1.0, \"su\": 3.0, \"rbc\": \"normal\", \"pc\": \"abnormal\", \"pcc\": \"notpresent\", \"ba\": \"notpresent\", \"bgr\": 182.0, \"bu\": 391.0, \"sc\": 32.0, \"sod\": 163.0, \"pot\": 39.0, \"hemo\": 13.85, \"pcv\": 42.0, \"wbcc\": 7900.0, \"rbcc\": 4.9, \"htn\": \"no\", \"dm\": \"no\", \"cad\": \"no\", \"appet\": \"good\", \"pe\": \"yes\", \"ane\": \"no\", \"class\": \"ckd\"}, {\"age\": 46.0, \"bp\": 70.0, \"sg\": 1.015, \"al\": 1.0, \"su\": 0.0, \"rbc\": \"abnormal\", \"pc\": \"normal\", \"pcc\": \"notpresent\", \"ba\": \"notpresent\", \"bgr\": 150.0, \"bu\": 111.0, \"sc\": 6.1, \"sod\": 131.0, \"pot\": 3.7, \"hemo\": 7.5, \"pcv\": 27.0, \"wbcc\": 7900.0, \"rbcc\": 4.9, \"htn\": \"no\", \"dm\": \"no\", \"cad\": \"no\", \"appet\": \"good\", \"pe\": \"no\", \"ane\": \"yes\", \"class\": \"ckd\"}, {\"age\": 67.0, \"bp\": 70.0, \"sg\": 1.02, \"al\": 2.0, \"su\": 0.0, \"rbc\": \"abnormal\", \"pc\": \"normal\", \"pcc\": \"notpresent\", \"ba\": \"notpresent\", \"bgr\": 150.0, \"bu\": 55.0, \"sc\": 1.6, \"sod\": 131.0, \"pot\": 4.8, \"hemo\": 13.85, \"pcv\": 42.0, \"wbcc\": 7900.0, \"rbcc\": 4.9, \"htn\": \"yes\", \"dm\": \"yes\", \"cad\": \"no\", \"appet\": \"good\", \"pe\": \"yes\", \"ane\": \"no\", \"class\": \"ckd\"}, {\"age\": 45.0, \"bp\": 80.0, \"sg\": 1.02, \"al\": 3.0, \"su\": 0.0, \"rbc\": \"normal\", \"pc\": \"abnormal\", \"pcc\": \"notpresent\", \"ba\": \"notpresent\", \"bgr\": 425.0, \"bu\": 40.0, \"sc\": 1.15, \"sod\": 139.0, \"pot\": 4.5, \"hemo\": 13.85, \"pcv\": 42.0, \"wbcc\": 7900.0, \"rbcc\": 4.9, \"htn\": \"no\", \"dm\": \"no\", \"cad\": \"no\", \"appet\": \"poor\", \"pe\": \"no\", \"ane\": \"no\", \"class\": \"ckd\"}, {\"age\": 46.0, \"bp\": 60.0, \"sg\": 1.01, \"al\": 1.0, \"su\": 0.0, \"rbc\": \"normal\", \"pc\": \"normal\", \"pcc\": \"notpresent\", \"ba\": \"notpresent\", \"bgr\": 163.0, \"bu\": 92.0, \"sc\": 3.3, \"sod\": 141.0, \"pot\": 4.0, \"hemo\": 9.8, \"pcv\": 28.0, \"wbcc\": 14600.0, \"rbcc\": 3.2, \"htn\": \"yes\", \"dm\": \"yes\", \"cad\": \"no\", \"appet\": \"good\", \"pe\": \"no\", \"ane\": \"no\", \"class\": \"ckd\"}, {\"age\": 50.0, \"bp\": 100.0, \"sg\": 1.015, \"al\": 2.0, \"su\": 0.0, \"rbc\": \"abnormal\", \"pc\": \"abnormal\", \"pcc\": \"notpresent\", \"ba\": \"notpresent\", \"bgr\": 129.0, \"bu\": 107.0, \"sc\": 6.7, \"sod\": 132.0, \"pot\": 4.4, \"hemo\": 4.8, \"pcv\": 14.0, \"wbcc\": 6300.0, \"rbcc\": 4.9, \"htn\": \"yes\", \"dm\": \"no\", \"cad\": \"no\", \"appet\": \"good\", \"pe\": \"yes\", \"ane\": \"yes\", \"class\": \"ckd\"}, {\"age\": 56.0, \"bp\": 90.0, \"sg\": 1.015, \"al\": 2.0, \"su\": 0.0, \"rbc\": \"abnormal\", \"pc\": \"abnormal\", \"pcc\": \"notpresent\", \"ba\": \"notpresent\", \"bgr\": 129.0, \"bu\": 107.0, \"sc\": 6.7, \"sod\": 131.0, \"pot\": 4.8, \"hemo\": 9.1, \"pcv\": 29.0, \"wbcc\": 6400.0, \"rbcc\": 3.4, \"htn\": \"yes\", \"dm\": \"no\", \"cad\": \"no\", \"appet\": \"good\", \"pe\": \"no\", \"ane\": \"no\", \"class\": \"ckd\"}, {\"age\": 48.0, \"bp\": 80.0, \"sg\": 1.005, \"al\": 4.0, \"su\": 0.0, \"rbc\": \"abnormal\", \"pc\": \"abnormal\", \"pcc\": \"notpresent\", \"ba\": \"present\", \"bgr\": 133.0, \"bu\": 139.0, \"sc\": 8.5, \"sod\": 132.0, \"pot\": 5.5, \"hemo\": 10.3, \"pcv\": 36.0, \"wbcc\": 6200.0, \"rbcc\": 4.0, \"htn\": \"no\", \"dm\": \"yes\", \"cad\": \"no\", \"appet\": \"good\", \"pe\": \"yes\", \"ane\": \"no\", \"class\": \"ckd\"}, {\"age\": 48.0, \"bp\": 70.0, \"sg\": 1.015, \"al\": 1.0, \"su\": 0.0, \"rbc\": \"normal\", \"pc\": \"normal\", \"pcc\": \"notpresent\", \"ba\": \"notpresent\", \"bgr\": 127.0, \"bu\": 19.0, \"sc\": 1.0, \"sod\": 134.0, \"pot\": 3.6, \"hemo\": 13.85, \"pcv\": 42.0, \"wbcc\": 7900.0, \"rbcc\": 4.9, \"htn\": \"yes\", \"dm\": \"yes\", \"cad\": \"no\", \"appet\": \"good\", \"pe\": \"no\", \"ane\": \"no\", \"class\": \"ckd\"}, {\"age\": 59.0, \"bp\": 70.0, \"sg\": 1.01, \"al\": 3.0, \"su\": 0.0, \"rbc\": \"normal\", \"pc\": \"abnormal\", \"pcc\": \"notpresent\", \"ba\": \"notpresent\", \"bgr\": 76.0, \"bu\": 186.0, \"sc\": 15.0, \"sod\": 135.0, \"pot\": 7.6, \"hemo\": 7.1, \"pcv\": 22.0, \"wbcc\": 3800.0, \"rbcc\": 2.1, \"htn\": \"yes\", \"dm\": \"no\", \"cad\": \"no\", \"appet\": \"poor\", \"pe\": \"yes\", \"ane\": \"yes\", \"class\": \"ckd\"}, {\"age\": 70.0, \"bp\": 100.0, \"sg\": 1.005, \"al\": 1.0, \"su\": 0.0, \"rbc\": \"normal\", \"pc\": \"abnormal\", \"pcc\": \"present\", \"ba\": \"notpresent\", \"bgr\": 169.0, \"bu\": 47.0, \"sc\": 2.9, \"sod\": 139.0, \"pot\": 4.5, \"hemo\": 11.1, \"pcv\": 32.0, \"wbcc\": 5800.0, \"rbcc\": 5.0, \"htn\": \"yes\", \"dm\": \"yes\", \"cad\": \"no\", \"appet\": \"poor\", \"pe\": \"no\", \"ane\": \"no\", \"class\": \"ckd\"}, {\"age\": 63.0, \"bp\": 100.0, \"sg\": 1.01, \"al\": 2.0, \"su\": 2.0, \"rbc\": \"normal\", \"pc\": \"normal\", \"pcc\": \"notpresent\", \"ba\": \"present\", \"bgr\": 280.0, \"bu\": 35.0, \"sc\": 3.2, \"sod\": 143.0, \"pot\": 3.5, \"hemo\": 13.0, \"pcv\": 40.0, \"wbcc\": 9800.0, \"rbcc\": 4.2, \"htn\": \"yes\", \"dm\": \"no\", \"cad\": \"yes\", \"appet\": \"good\", \"pe\": \"no\", \"ane\": \"no\", \"class\": \"ckd\"}, {\"age\": 56.0, \"bp\": 70.0, \"sg\": 1.015, \"al\": 4.0, \"su\": 1.0, \"rbc\": \"abnormal\", \"pc\": \"normal\", \"pcc\": \"notpresent\", \"ba\": \"notpresent\", \"bgr\": 210.0, \"bu\": 26.0, \"sc\": 1.7, \"sod\": 136.0, \"pot\": 3.8, \"hemo\": 16.1, \"pcv\": 52.0, \"wbcc\": 12500.0, \"rbcc\": 5.6, \"htn\": \"no\", \"dm\": \"no\", \"cad\": \"no\", \"appet\": \"good\", \"pe\": \"no\", \"ane\": \"no\", \"class\": \"ckd\"}, {\"age\": 71.0, \"bp\": 70.0, \"sg\": 1.01, \"al\": 3.0, \"su\": 0.0, \"rbc\": \"normal\", \"pc\": \"abnormal\", \"pcc\": \"present\", \"ba\": \"present\", \"bgr\": 219.0, \"bu\": 82.0, \"sc\": 3.6, \"sod\": 133.0, \"pot\": 4.4, \"hemo\": 10.4, \"pcv\": 33.0, \"wbcc\": 5600.0, \"rbcc\": 3.6, \"htn\": \"yes\", \"dm\": \"yes\", \"cad\": \"yes\", \"appet\": \"good\", \"pe\": \"no\", \"ane\": \"no\", \"class\": \"ckd\"}, {\"age\": 73.0, \"bp\": 100.0, \"sg\": 1.01, \"al\": 3.0, \"su\": 2.0, \"rbc\": \"abnormal\", \"pc\": \"abnormal\", \"pcc\": \"present\", \"ba\": \"notpresent\", \"bgr\": 295.0, \"bu\": 90.0, \"sc\": 5.6, \"sod\": 140.0, \"pot\": 2.9, \"hemo\": 9.2, \"pcv\": 30.0, \"wbcc\": 7000.0, \"rbcc\": 3.2, \"htn\": \"yes\", \"dm\": \"yes\", \"cad\": \"yes\", \"appet\": \"poor\", \"pe\": \"no\", \"ane\": \"no\", \"class\": \"ckd\"}, {\"age\": 34.0, \"bp\": 70.0, \"sg\": 1.015, \"al\": 4.0, \"su\": 0.0, \"rbc\": \"abnormal\", \"pc\": \"abnormal\", \"pcc\": \"notpresent\", \"ba\": \"notpresent\", \"bgr\": 153.0, \"bu\": 22.0, \"sc\": 0.9, \"sod\": 133.0, \"pot\": 3.8, \"hemo\": 13.85, \"pcv\": 42.0, \"wbcc\": 7900.0, \"rbcc\": 4.9, \"htn\": \"no\", \"dm\": \"no\", \"cad\": \"no\", \"appet\": \"good\", \"pe\": \"yes\", \"ane\": \"no\", \"class\": \"ckd\"}, {\"age\": 76.0, \"bp\": 70.0, \"sg\": 1.015, \"al\": 2.0, \"su\": 0.0, \"rbc\": \"normal\", \"pc\": \"abnormal\", \"pcc\": \"present\", \"ba\": \"notpresent\", \"bgr\": 226.0, \"bu\": 217.0, \"sc\": 10.2, \"sod\": 139.0, \"pot\": 4.5, \"hemo\": 10.2, \"pcv\": 36.0, \"wbcc\": 12700.0, \"rbcc\": 4.2, \"htn\": \"yes\", \"dm\": \"no\", \"cad\": \"no\", \"appet\": \"poor\", \"pe\": \"yes\", \"ane\": \"yes\", \"class\": \"ckd\"}, {\"age\": 55.0, \"bp\": 100.0, \"sg\": 1.015, \"al\": 1.0, \"su\": 4.0, \"rbc\": \"normal\", \"pc\": \"normal\", \"pcc\": \"notpresent\", \"ba\": \"notpresent\", \"bgr\": 297.0, \"bu\": 53.0, \"sc\": 2.8, \"sod\": 139.0, \"pot\": 4.5, \"hemo\": 11.2, \"pcv\": 34.0, \"wbcc\": 13600.0, \"rbcc\": 4.4, \"htn\": \"yes\", \"dm\": \"yes\", \"cad\": \"no\", \"appet\": \"good\", \"pe\": \"no\", \"ane\": \"no\", \"class\": \"ckd\"}, {\"age\": 50.0, \"bp\": 60.0, \"sg\": 1.015, \"al\": 3.0, \"su\": 0.0, \"rbc\": \"abnormal\", \"pc\": \"abnormal\", \"pcc\": \"notpresent\", \"ba\": \"notpresent\", \"bgr\": 119.0, \"bu\": 34.0, \"sc\": 1.2, \"sod\": 139.0, \"pot\": 4.5, \"hemo\": 10.8, \"pcv\": 33.0, \"wbcc\": 7900.0, \"rbcc\": 4.9, \"htn\": \"no\", \"dm\": \"no\", \"cad\": \"no\", \"appet\": \"good\", \"pe\": \"no\", \"ane\": \"no\", \"class\": \"ckd\"}, {\"age\": 12.0, \"bp\": 60.0, \"sg\": 1.015, \"al\": 3.0, \"su\": 0.0, \"rbc\": \"abnormal\", \"pc\": \"abnormal\", \"pcc\": \"present\", \"ba\": \"notpresent\", \"bgr\": 119.0, \"bu\": 51.0, \"sc\": 1.8, \"sod\": 139.0, \"pot\": 4.5, \"hemo\": 12.1, \"pcv\": 42.0, \"wbcc\": 10300.0, \"rbcc\": 4.9, \"htn\": \"no\", \"dm\": \"no\", \"cad\": \"no\", \"appet\": \"good\", \"pe\": \"no\", \"ane\": \"no\", \"class\": \"ckd\"}, {\"age\": 50.0, \"bp\": 70.0, \"sg\": 1.015, \"al\": 4.0, \"su\": 0.0, \"rbc\": \"abnormal\", \"pc\": \"normal\", \"pcc\": \"notpresent\", \"ba\": \"notpresent\", \"bgr\": 104.0, \"bu\": 16.0, \"sc\": 0.5, \"sod\": 139.0, \"pot\": 4.5, \"hemo\": 13.85, \"pcv\": 42.0, \"wbcc\": 7900.0, \"rbcc\": 4.9, \"htn\": \"no\", \"dm\": \"no\", \"cad\": \"no\", \"appet\": \"good\", \"pe\": \"yes\", \"ane\": \"no\", \"class\": \"ckd\"}, {\"age\": 71.0, \"bp\": 60.0, \"sg\": 1.015, \"al\": 4.0, \"su\": 0.0, \"rbc\": \"normal\", \"pc\": \"normal\", \"pcc\": \"notpresent\", \"ba\": \"notpresent\", \"bgr\": 118.0, \"bu\": 125.0, \"sc\": 5.3, \"sod\": 136.0, \"pot\": 4.9, \"hemo\": 11.4, \"pcv\": 35.0, \"wbcc\": 15200.0, \"rbcc\": 4.3, \"htn\": \"yes\", \"dm\": \"yes\", \"cad\": \"no\", \"appet\": \"poor\", \"pe\": \"yes\", \"ane\": \"no\", \"class\": \"ckd\"}, {\"age\": 52.0, \"bp\": 90.0, \"sg\": 1.015, \"al\": 4.0, \"su\": 3.0, \"rbc\": \"normal\", \"pc\": \"abnormal\", \"pcc\": \"notpresent\", \"ba\": \"notpresent\", \"bgr\": 224.0, \"bu\": 166.0, \"sc\": 5.6, \"sod\": 133.0, \"pot\": 47.0, \"hemo\": 8.1, \"pcv\": 23.0, \"wbcc\": 5000.0, \"rbcc\": 2.9, \"htn\": \"yes\", \"dm\": \"yes\", \"cad\": \"no\", \"appet\": \"good\", \"pe\": \"no\", \"ane\": \"yes\", \"class\": \"ckd\"}, {\"age\": 50.0, \"bp\": 90.0, \"sg\": 1.01, \"al\": 2.0, \"su\": 0.0, \"rbc\": \"normal\", \"pc\": \"abnormal\", \"pcc\": \"present\", \"ba\": \"present\", \"bgr\": 128.0, \"bu\": 208.0, \"sc\": 9.2, \"sod\": 134.0, \"pot\": 4.8, \"hemo\": 8.2, \"pcv\": 22.0, \"wbcc\": 16300.0, \"rbcc\": 2.7, \"htn\": \"no\", \"dm\": \"no\", \"cad\": \"no\", \"appet\": \"poor\", \"pe\": \"yes\", \"ane\": \"yes\", \"class\": \"ckd\"}, {\"age\": 50.0, \"bp\": 80.0, \"sg\": 1.02, \"al\": 0.0, \"su\": 0.0, \"rbc\": \"normal\", \"pc\": \"normal\", \"pcc\": \"notpresent\", \"ba\": \"notpresent\", \"bgr\": 219.0, \"bu\": 176.0, \"sc\": 13.8, \"sod\": 136.0, \"pot\": 4.5, \"hemo\": 8.6, \"pcv\": 24.0, \"wbcc\": 13200.0, \"rbcc\": 2.7, \"htn\": \"yes\", \"dm\": \"no\", \"cad\": \"no\", \"appet\": \"good\", \"pe\": \"yes\", \"ane\": \"yes\", \"class\": \"ckd\"}, {\"age\": 70.0, \"bp\": 100.0, \"sg\": 1.015, \"al\": 4.0, \"su\": 0.0, \"rbc\": \"normal\", \"pc\": \"normal\", \"pcc\": \"notpresent\", \"ba\": \"notpresent\", \"bgr\": 118.0, \"bu\": 125.0, \"sc\": 5.3, \"sod\": 136.0, \"pot\": 4.9, \"hemo\": 12.0, \"pcv\": 37.0, \"wbcc\": 8400.0, \"rbcc\": 8.0, \"htn\": \"yes\", \"dm\": \"no\", \"cad\": \"no\", \"appet\": \"good\", \"pe\": \"no\", \"ane\": \"no\", \"class\": \"ckd\"}, {\"age\": 47.0, \"bp\": 100.0, \"sg\": 1.01, \"al\": 0.0, \"su\": 0.0, \"rbc\": \"normal\", \"pc\": \"normal\", \"pcc\": \"notpresent\", \"ba\": \"notpresent\", \"bgr\": 122.0, \"bu\": 40.0, \"sc\": 16.9, \"sod\": 138.0, \"pot\": 5.2, \"hemo\": 10.8, \"pcv\": 33.0, \"wbcc\": 10200.0, \"rbcc\": 3.8, \"htn\": \"no\", \"dm\": \"yes\", \"cad\": \"no\", \"appet\": \"good\", \"pe\": \"no\", \"ane\": \"no\", \"class\": \"ckd\"}, {\"age\": 45.0, \"bp\": 60.0, \"sg\": 1.01, \"al\": 2.0, \"su\": 0.0, \"rbc\": \"normal\", \"pc\": \"abnormal\", \"pcc\": \"present\", \"ba\": \"notpresent\", \"bgr\": 268.0, \"bu\": 86.0, \"sc\": 4.0, \"sod\": 134.0, \"pot\": 5.1, \"hemo\": 10.0, \"pcv\": 29.0, \"wbcc\": 9200.0, \"rbcc\": 4.9, \"htn\": \"yes\", \"dm\": \"yes\", \"cad\": \"no\", \"appet\": \"good\", \"pe\": \"no\", \"ane\": \"no\", \"class\": \"ckd\"}, {\"age\": 67.0, \"bp\": 70.0, \"sg\": 1.01, \"al\": 1.0, \"su\": 0.0, \"rbc\": \"normal\", \"pc\": \"normal\", \"pcc\": \"notpresent\", \"ba\": \"notpresent\", \"bgr\": 119.0, \"bu\": 106.0, \"sc\": 6.0, \"sod\": 137.0, \"pot\": 4.9, \"hemo\": 6.1, \"pcv\": 19.0, \"wbcc\": 6500.0, \"rbcc\": 4.9, \"htn\": \"yes\", \"dm\": \"no\", \"cad\": \"no\", \"appet\": \"good\", \"pe\": \"no\", \"ane\": \"yes\", \"class\": \"ckd\"}, {\"age\": 41.0, \"bp\": 80.0, \"sg\": 1.015, \"al\": 1.0, \"su\": 4.0, \"rbc\": \"abnormal\", \"pc\": \"normal\", \"pcc\": \"notpresent\", \"ba\": \"notpresent\", \"bgr\": 210.0, \"bu\": 165.0, \"sc\": 18.0, \"sod\": 135.0, \"pot\": 4.7, \"hemo\": 13.85, \"pcv\": 42.0, \"wbcc\": 7900.0, \"rbcc\": 4.9, \"htn\": \"no\", \"dm\": \"yes\", \"cad\": \"no\", \"appet\": \"good\", \"pe\": \"no\", \"ane\": \"no\", \"class\": \"ckd\"}, {\"age\": 60.0, \"bp\": 90.0, \"sg\": 1.01, \"al\": 2.0, \"su\": 0.0, \"rbc\": \"abnormal\", \"pc\": \"normal\", \"pcc\": \"notpresent\", \"ba\": \"notpresent\", \"bgr\": 105.0, \"bu\": 53.0, \"sc\": 2.3, \"sod\": 136.0, \"pot\": 5.2, \"hemo\": 11.1, \"pcv\": 33.0, \"wbcc\": 10500.0, \"rbcc\": 4.1, \"htn\": \"no\", \"dm\": \"no\", \"cad\": \"no\", \"appet\": \"good\", \"pe\": \"no\", \"ane\": \"no\", \"class\": \"ckd\"}, {\"age\": 57.0, \"bp\": 90.0, \"sg\": 1.015, \"al\": 5.0, \"su\": 0.0, \"rbc\": \"abnormal\", \"pc\": \"abnormal\", \"pcc\": \"notpresent\", \"ba\": \"present\", \"bgr\": 119.0, \"bu\": 322.0, \"sc\": 13.0, \"sod\": 126.0, \"pot\": 4.8, \"hemo\": 8.0, \"pcv\": 24.0, \"wbcc\": 4200.0, \"rbcc\": 3.3, \"htn\": \"yes\", \"dm\": \"yes\", \"cad\": \"yes\", \"appet\": \"poor\", \"pe\": \"yes\", \"ane\": \"yes\", \"class\": \"ckd\"}, {\"age\": 53.0, \"bp\": 100.0, \"sg\": 1.01, \"al\": 1.0, \"su\": 3.0, \"rbc\": \"abnormal\", \"pc\": \"normal\", \"pcc\": \"notpresent\", \"ba\": \"notpresent\", \"bgr\": 213.0, \"bu\": 23.0, \"sc\": 1.0, \"sod\": 139.0, \"pot\": 4.0, \"hemo\": 13.85, \"pcv\": 42.0, \"wbcc\": 7900.0, \"rbcc\": 4.9, \"htn\": \"no\", \"dm\": \"yes\", \"cad\": \"no\", \"appet\": \"good\", \"pe\": \"no\", \"ane\": \"no\", \"class\": \"ckd\"}, {\"age\": 60.0, \"bp\": 60.0, \"sg\": 1.01, \"al\": 3.0, \"su\": 1.0, \"rbc\": \"normal\", \"pc\": \"abnormal\", \"pcc\": \"present\", \"ba\": \"notpresent\", \"bgr\": 288.0, \"bu\": 36.0, \"sc\": 1.7, \"sod\": 130.0, \"pot\": 3.0, \"hemo\": 7.9, \"pcv\": 25.0, \"wbcc\": 15200.0, \"rbcc\": 3.0, \"htn\": \"yes\", \"dm\": \"no\", \"cad\": \"no\", \"appet\": \"poor\", \"pe\": \"no\", \"ane\": \"yes\", \"class\": \"ckd\"}, {\"age\": 65.0, \"bp\": 70.0, \"sg\": 1.02, \"al\": 1.0, \"su\": 0.0, \"rbc\": \"abnormal\", \"pc\": \"abnormal\", \"pcc\": \"notpresent\", \"ba\": \"notpresent\", \"bgr\": 139.0, \"bu\": 29.0, \"sc\": 1.0, \"sod\": 139.0, \"pot\": 4.5, \"hemo\": 10.5, \"pcv\": 32.0, \"wbcc\": 7900.0, \"rbcc\": 4.9, \"htn\": \"yes\", \"dm\": \"no\", \"cad\": \"no\", \"appet\": \"good\", \"pe\": \"yes\", \"ane\": \"no\", \"class\": \"ckd\"}, {\"age\": 8.0, \"bp\": 60.0, \"sg\": 1.025, \"al\": 3.0, \"su\": 0.0, \"rbc\": \"normal\", \"pc\": \"normal\", \"pcc\": \"notpresent\", \"ba\": \"notpresent\", \"bgr\": 78.0, \"bu\": 27.0, \"sc\": 0.9, \"sod\": 139.0, \"pot\": 4.5, \"hemo\": 12.3, \"pcv\": 41.0, \"wbcc\": 6700.0, \"rbcc\": 4.9, \"htn\": \"no\", \"dm\": \"no\", \"cad\": \"no\", \"appet\": \"poor\", \"pe\": \"yes\", \"ane\": \"no\", \"class\": \"ckd\"}, {\"age\": 55.0, \"bp\": 90.0, \"sg\": 1.01, \"al\": 2.0, \"su\": 1.0, \"rbc\": \"abnormal\", \"pc\": \"abnormal\", \"pcc\": \"notpresent\", \"ba\": \"notpresent\", \"bgr\": 273.0, \"bu\": 235.0, \"sc\": 14.2, \"sod\": 132.0, \"pot\": 3.4, \"hemo\": 8.3, \"pcv\": 22.0, \"wbcc\": 14600.0, \"rbcc\": 2.9, \"htn\": \"yes\", \"dm\": \"yes\", \"cad\": \"no\", \"appet\": \"poor\", \"pe\": \"yes\", \"ane\": \"yes\", \"class\": \"ckd\"}, {\"age\": 56.0, \"bp\": 90.0, \"sg\": 1.005, \"al\": 4.0, \"su\": 3.0, \"rbc\": \"abnormal\", \"pc\": \"abnormal\", \"pcc\": \"notpresent\", \"ba\": \"notpresent\", \"bgr\": 242.0, \"bu\": 132.0, \"sc\": 16.4, \"sod\": 140.0, \"pot\": 4.2, \"hemo\": 8.4, \"pcv\": 26.0, \"wbcc\": 7900.0, \"rbcc\": 3.0, \"htn\": \"yes\", \"dm\": \"yes\", \"cad\": \"no\", \"appet\": \"poor\", \"pe\": \"yes\", \"ane\": \"yes\", \"class\": \"ckd\"}, {\"age\": 50.0, \"bp\": 70.0, \"sg\": 1.02, \"al\": 3.0, \"su\": 0.0, \"rbc\": \"abnormal\", \"pc\": \"normal\", \"pcc\": \"present\", \"ba\": \"present\", \"bgr\": 123.0, \"bu\": 40.0, \"sc\": 1.8, \"sod\": 139.0, \"pot\": 4.5, \"hemo\": 11.1, \"pcv\": 36.0, \"wbcc\": 4700.0, \"rbcc\": 4.9, \"htn\": \"no\", \"dm\": \"no\", \"cad\": \"no\", \"appet\": \"good\", \"pe\": \"no\", \"ane\": \"no\", \"class\": \"ckd\"}, {\"age\": 62.0, \"bp\": 70.0, \"sg\": 1.025, \"al\": 3.0, \"su\": 0.0, \"rbc\": \"normal\", \"pc\": \"abnormal\", \"pcc\": \"notpresent\", \"ba\": \"notpresent\", \"bgr\": 122.0, \"bu\": 42.0, \"sc\": 1.7, \"sod\": 136.0, \"pot\": 4.7, \"hemo\": 12.6, \"pcv\": 39.0, \"wbcc\": 7900.0, \"rbcc\": 3.9, \"htn\": \"yes\", \"dm\": \"yes\", \"cad\": \"no\", \"appet\": \"good\", \"pe\": \"no\", \"ane\": \"no\", \"class\": \"ckd\"}, {\"age\": 71.0, \"bp\": 60.0, \"sg\": 1.02, \"al\": 3.0, \"su\": 2.0, \"rbc\": \"normal\", \"pc\": \"normal\", \"pcc\": \"present\", \"ba\": \"notpresent\", \"bgr\": 424.0, \"bu\": 48.0, \"sc\": 1.5, \"sod\": 132.0, \"pot\": 4.0, \"hemo\": 10.9, \"pcv\": 31.0, \"wbcc\": 7900.0, \"rbcc\": 4.9, \"htn\": \"yes\", \"dm\": \"yes\", \"cad\": \"yes\", \"appet\": \"good\", \"pe\": \"no\", \"ane\": \"no\", \"class\": \"ckd\"}, {\"age\": 59.0, \"bp\": 80.0, \"sg\": 1.01, \"al\": 1.0, \"su\": 0.0, \"rbc\": \"abnormal\", \"pc\": \"normal\", \"pcc\": \"notpresent\", \"ba\": \"notpresent\", \"bgr\": 303.0, \"bu\": 35.0, \"sc\": 1.3, \"sod\": 122.0, \"pot\": 3.5, \"hemo\": 10.4, \"pcv\": 35.0, \"wbcc\": 10900.0, \"rbcc\": 4.3, \"htn\": \"no\", \"dm\": \"yes\", \"cad\": \"no\", \"appet\": \"poor\", \"pe\": \"no\", \"ane\": \"no\", \"class\": \"ckd\"}, {\"age\": 62.0, \"bp\": 80.0, \"sg\": 1.015, \"al\": 3.0, \"su\": 0.0, \"rbc\": \"abnormal\", \"pc\": \"normal\", \"pcc\": \"notpresent\", \"ba\": \"notpresent\", \"bgr\": 119.0, \"bu\": 40.0, \"sc\": 1.15, \"sod\": 139.0, \"pot\": 4.5, \"hemo\": 14.3, \"pcv\": 42.0, \"wbcc\": 10200.0, \"rbcc\": 4.8, \"htn\": \"yes\", \"dm\": \"yes\", \"cad\": \"no\", \"appet\": \"good\", \"pe\": \"no\", \"ane\": \"no\", \"class\": \"ckd\"}, {\"age\": 34.0, \"bp\": 70.0, \"sg\": 1.02, \"al\": 0.0, \"su\": 0.0, \"rbc\": \"abnormal\", \"pc\": \"normal\", \"pcc\": \"notpresent\", \"ba\": \"notpresent\", \"bgr\": 139.0, \"bu\": 19.0, \"sc\": 0.9, \"sod\": 139.0, \"pot\": 4.5, \"hemo\": 12.7, \"pcv\": 42.0, \"wbcc\": 2200.0, \"rbcc\": 4.9, \"htn\": \"no\", \"dm\": \"no\", \"cad\": \"no\", \"appet\": \"poor\", \"pe\": \"no\", \"ane\": \"no\", \"class\": \"ckd\"}, {\"age\": 83.0, \"bp\": 70.0, \"sg\": 1.02, \"al\": 3.0, \"su\": 0.0, \"rbc\": \"normal\", \"pc\": \"normal\", \"pcc\": \"notpresent\", \"ba\": \"notpresent\", \"bgr\": 102.0, \"bu\": 60.0, \"sc\": 2.6, \"sod\": 115.0, \"pot\": 5.7, \"hemo\": 8.7, \"pcv\": 26.0, \"wbcc\": 12800.0, \"rbcc\": 3.1, \"htn\": \"yes\", \"dm\": \"no\", \"cad\": \"no\", \"appet\": \"poor\", \"pe\": \"no\", \"ane\": \"yes\", \"class\": \"ckd\"}, {\"age\": 17.0, \"bp\": 70.0, \"sg\": 1.015, \"al\": 1.0, \"su\": 0.0, \"rbc\": \"abnormal\", \"pc\": \"normal\", \"pcc\": \"notpresent\", \"ba\": \"notpresent\", \"bgr\": 22.0, \"bu\": 1.5, \"sc\": 7.3, \"sod\": 145.0, \"pot\": 2.8, \"hemo\": 13.1, \"pcv\": 41.0, \"wbcc\": 11200.0, \"rbcc\": 4.9, \"htn\": \"no\", \"dm\": \"no\", \"cad\": \"no\", \"appet\": \"good\", \"pe\": \"no\", \"ane\": \"no\", \"class\": \"ckd\"}, {\"age\": 21.0, \"bp\": 90.0, \"sg\": 1.01, \"al\": 4.0, \"su\": 0.0, \"rbc\": \"normal\", \"pc\": \"abnormal\", \"pcc\": \"present\", \"ba\": \"present\", \"bgr\": 107.0, \"bu\": 40.0, \"sc\": 1.7, \"sod\": 125.0, \"pot\": 3.5, \"hemo\": 8.3, \"pcv\": 23.0, \"wbcc\": 12400.0, \"rbcc\": 3.9, \"htn\": \"no\", \"dm\": \"no\", \"cad\": \"no\", \"appet\": \"good\", \"pe\": \"no\", \"ane\": \"yes\", \"class\": \"ckd\"}, {\"age\": 65.0, \"bp\": 80.0, \"sg\": 1.015, \"al\": 2.0, \"su\": 1.0, \"rbc\": \"normal\", \"pc\": \"normal\", \"pcc\": \"present\", \"ba\": \"notpresent\", \"bgr\": 215.0, \"bu\": 133.0, \"sc\": 2.5, \"sod\": 139.0, \"pot\": 4.5, \"hemo\": 13.2, \"pcv\": 41.0, \"wbcc\": 7900.0, \"rbcc\": 4.9, \"htn\": \"no\", \"dm\": \"yes\", \"cad\": \"no\", \"appet\": \"good\", \"pe\": \"no\", \"ane\": \"no\", \"class\": \"ckd\"}, {\"age\": 42.0, \"bp\": 90.0, \"sg\": 1.02, \"al\": 2.0, \"su\": 0.0, \"rbc\": \"abnormal\", \"pc\": \"abnormal\", \"pcc\": \"present\", \"ba\": \"notpresent\", \"bgr\": 93.0, \"bu\": 153.0, \"sc\": 2.7, \"sod\": 139.0, \"pot\": 4.3, \"hemo\": 9.8, \"pcv\": 34.0, \"wbcc\": 9800.0, \"rbcc\": 4.9, \"htn\": \"no\", \"dm\": \"no\", \"cad\": \"no\", \"appet\": \"poor\", \"pe\": \"yes\", \"ane\": \"yes\", \"class\": \"ckd\"}, {\"age\": 73.0, \"bp\": 90.0, \"sg\": 1.01, \"al\": 1.0, \"su\": 4.0, \"rbc\": \"abnormal\", \"pc\": \"abnormal\", \"pcc\": \"present\", \"ba\": \"notpresent\", \"bgr\": 234.0, \"bu\": 56.0, \"sc\": 1.9, \"sod\": 139.0, \"pot\": 4.5, \"hemo\": 10.3, \"pcv\": 28.0, \"wbcc\": 7900.0, \"rbcc\": 4.9, \"htn\": \"no\", \"dm\": \"yes\", \"cad\": \"no\", \"appet\": \"good\", \"pe\": \"no\", \"ane\": \"no\", \"class\": \"ckd\"}, {\"age\": 45.0, \"bp\": 70.0, \"sg\": 1.025, \"al\": 2.0, \"su\": 0.0, \"rbc\": \"normal\", \"pc\": \"abnormal\", \"pcc\": \"present\", \"ba\": \"notpresent\", \"bgr\": 117.0, \"bu\": 52.0, \"sc\": 2.2, \"sod\": 136.0, \"pot\": 3.8, \"hemo\": 10.0, \"pcv\": 30.0, \"wbcc\": 19100.0, \"rbcc\": 3.7, \"htn\": \"no\", \"dm\": \"no\", \"cad\": \"no\", \"appet\": \"good\", \"pe\": \"no\", \"ane\": \"no\", \"class\": \"ckd\"}, {\"age\": 8.0, \"bp\": 50.0, \"sg\": 1.02, \"al\": 4.0, \"su\": 0.0, \"rbc\": \"normal\", \"pc\": \"normal\", \"pcc\": \"notpresent\", \"ba\": \"notpresent\", \"bgr\": 119.0, \"bu\": 46.0, \"sc\": 1.0, \"sod\": 135.0, \"pot\": 3.8, \"hemo\": 13.85, \"pcv\": 42.0, \"wbcc\": 7900.0, \"rbcc\": 4.9, \"htn\": \"no\", \"dm\": \"no\", \"cad\": \"no\", \"appet\": \"good\", \"pe\": \"yes\", \"ane\": \"no\", \"class\": \"ckd\"}, {\"age\": 3.0, \"bp\": 80.0, \"sg\": 1.01, \"al\": 2.0, \"su\": 0.0, \"rbc\": \"normal\", \"pc\": \"normal\", \"pcc\": \"notpresent\", \"ba\": \"notpresent\", \"bgr\": 119.0, \"bu\": 22.0, \"sc\": 0.7, \"sod\": 139.0, \"pot\": 4.5, \"hemo\": 10.7, \"pcv\": 34.0, \"wbcc\": 12300.0, \"rbcc\": 4.9, \"htn\": \"no\", \"dm\": \"no\", \"cad\": \"no\", \"appet\": \"good\", \"pe\": \"no\", \"ane\": \"no\", \"class\": \"ckd\"}, {\"age\": 64.0, \"bp\": 60.0, \"sg\": 1.01, \"al\": 4.0, \"su\": 1.0, \"rbc\": \"abnormal\", \"pc\": \"abnormal\", \"pcc\": \"notpresent\", \"ba\": \"present\", \"bgr\": 239.0, \"bu\": 58.0, \"sc\": 4.3, \"sod\": 137.0, \"pot\": 5.4, \"hemo\": 9.5, \"pcv\": 29.0, \"wbcc\": 7500.0, \"rbcc\": 3.4, \"htn\": \"yes\", \"dm\": \"yes\", \"cad\": \"no\", \"appet\": \"poor\", \"pe\": \"yes\", \"ane\": \"no\", \"class\": \"ckd\"}, {\"age\": 6.0, \"bp\": 60.0, \"sg\": 1.01, \"al\": 4.0, \"su\": 0.0, \"rbc\": \"abnormal\", \"pc\": \"abnormal\", \"pcc\": \"notpresent\", \"ba\": \"present\", \"bgr\": 94.0, \"bu\": 67.0, \"sc\": 1.0, \"sod\": 135.0, \"pot\": 4.9, \"hemo\": 9.9, \"pcv\": 30.0, \"wbcc\": 16700.0, \"rbcc\": 4.8, \"htn\": \"no\", \"dm\": \"no\", \"cad\": \"no\", \"appet\": \"poor\", \"pe\": \"no\", \"ane\": \"no\", \"class\": \"ckd\"}, {\"age\": 50.0, \"bp\": 70.0, \"sg\": 1.01, \"al\": 3.0, \"su\": 0.0, \"rbc\": \"normal\", \"pc\": \"normal\", \"pcc\": \"notpresent\", \"ba\": \"notpresent\", \"bgr\": 110.0, \"bu\": 115.0, \"sc\": 6.0, \"sod\": 134.0, \"pot\": 2.7, \"hemo\": 9.1, \"pcv\": 26.0, \"wbcc\": 9200.0, \"rbcc\": 3.4, \"htn\": \"yes\", \"dm\": \"yes\", \"cad\": \"no\", \"appet\": \"poor\", \"pe\": \"no\", \"ane\": \"no\", \"class\": \"ckd\"}, {\"age\": 32.0, \"bp\": 90.0, \"sg\": 1.025, \"al\": 1.0, \"su\": 0.0, \"rbc\": \"abnormal\", \"pc\": \"abnormal\", \"pcc\": \"notpresent\", \"ba\": \"notpresent\", \"bgr\": 119.0, \"bu\": 223.0, \"sc\": 18.1, \"sod\": 113.0, \"pot\": 6.5, \"hemo\": 5.5, \"pcv\": 15.0, \"wbcc\": 2600.0, \"rbcc\": 2.8, \"htn\": \"yes\", \"dm\": \"yes\", \"cad\": \"no\", \"appet\": \"poor\", \"pe\": \"yes\", \"ane\": \"yes\", \"class\": \"ckd\"}, {\"age\": 70.0, \"bp\": 90.0, \"sg\": 1.02, \"al\": 2.0, \"su\": 1.0, \"rbc\": \"abnormal\", \"pc\": \"abnormal\", \"pcc\": \"notpresent\", \"ba\": \"present\", \"bgr\": 184.0, \"bu\": 98.6, \"sc\": 3.3, \"sod\": 138.0, \"pot\": 3.9, \"hemo\": 5.8, \"pcv\": 42.0, \"wbcc\": 7900.0, \"rbcc\": 4.9, \"htn\": \"yes\", \"dm\": \"yes\", \"cad\": \"yes\", \"appet\": \"poor\", \"pe\": \"no\", \"ane\": \"no\", \"class\": \"ckd\"}, {\"age\": 49.0, \"bp\": 100.0, \"sg\": 1.01, \"al\": 3.0, \"su\": 0.0, \"rbc\": \"abnormal\", \"pc\": \"abnormal\", \"pcc\": \"notpresent\", \"ba\": \"notpresent\", \"bgr\": 129.0, \"bu\": 158.0, \"sc\": 11.8, \"sod\": 122.0, \"pot\": 3.2, \"hemo\": 8.1, \"pcv\": 24.0, \"wbcc\": 9600.0, \"rbcc\": 3.5, \"htn\": \"yes\", \"dm\": \"yes\", \"cad\": \"no\", \"appet\": \"poor\", \"pe\": \"yes\", \"ane\": \"yes\", \"class\": \"ckd\"}, {\"age\": 59.0, \"bp\": 100.0, \"sg\": 1.02, \"al\": 4.0, \"su\": 2.0, \"rbc\": \"normal\", \"pc\": \"normal\", \"pcc\": \"notpresent\", \"ba\": \"notpresent\", \"bgr\": 252.0, \"bu\": 40.0, \"sc\": 3.2, \"sod\": 137.0, \"pot\": 4.7, \"hemo\": 11.2, \"pcv\": 30.0, \"wbcc\": 26400.0, \"rbcc\": 3.9, \"htn\": \"yes\", \"dm\": \"yes\", \"cad\": \"no\", \"appet\": \"poor\", \"pe\": \"yes\", \"ane\": \"no\", \"class\": \"ckd\"}, {\"age\": 65.0, \"bp\": 90.0, \"sg\": 1.01, \"al\": 4.0, \"su\": 2.0, \"rbc\": \"normal\", \"pc\": \"normal\", \"pcc\": \"notpresent\", \"ba\": \"notpresent\", \"bgr\": 172.0, \"bu\": 82.0, \"sc\": 13.5, \"sod\": 145.0, \"pot\": 6.3, \"hemo\": 8.8, \"pcv\": 31.0, \"wbcc\": 7900.0, \"rbcc\": 4.9, \"htn\": \"yes\", \"dm\": \"yes\", \"cad\": \"no\", \"appet\": \"good\", \"pe\": \"yes\", \"ane\": \"yes\", \"class\": \"ckd\"}, {\"age\": 59.0, \"bp\": 100.0, \"sg\": 1.015, \"al\": 4.0, \"su\": 2.0, \"rbc\": \"normal\", \"pc\": \"normal\", \"pcc\": \"notpresent\", \"ba\": \"notpresent\", \"bgr\": 255.0, \"bu\": 132.0, \"sc\": 12.8, \"sod\": 135.0, \"pot\": 5.7, \"hemo\": 7.3, \"pcv\": 20.0, \"wbcc\": 9800.0, \"rbcc\": 3.9, \"htn\": \"yes\", \"dm\": \"yes\", \"cad\": \"yes\", \"appet\": \"good\", \"pe\": \"no\", \"ane\": \"yes\", \"class\": \"ckd\"}, {\"age\": 40.0, \"bp\": 70.0, \"sg\": 1.015, \"al\": 3.0, \"su\": 4.0, \"rbc\": \"normal\", \"pc\": \"normal\", \"pcc\": \"notpresent\", \"ba\": \"notpresent\", \"bgr\": 253.0, \"bu\": 150.0, \"sc\": 11.9, \"sod\": 132.0, \"pot\": 5.6, \"hemo\": 10.9, \"pcv\": 31.0, \"wbcc\": 8800.0, \"rbcc\": 3.4, \"htn\": \"yes\", \"dm\": \"yes\", \"cad\": \"no\", \"appet\": \"poor\", \"pe\": \"yes\", \"ane\": \"no\", \"class\": \"ckd\"}, {\"age\": 55.0, \"bp\": 80.0, \"sg\": 1.01, \"al\": 3.0, \"su\": 1.0, \"rbc\": \"normal\", \"pc\": \"abnormal\", \"pcc\": \"present\", \"ba\": \"present\", \"bgr\": 214.0, \"bu\": 73.0, \"sc\": 3.9, \"sod\": 137.0, \"pot\": 4.9, \"hemo\": 10.9, \"pcv\": 34.0, \"wbcc\": 7400.0, \"rbcc\": 3.7, \"htn\": \"yes\", \"dm\": \"yes\", \"cad\": \"no\", \"appet\": \"good\", \"pe\": \"yes\", \"ane\": \"no\", \"class\": \"ckd\"}, {\"age\": 2.0, \"bp\": 80.0, \"sg\": 1.01, \"al\": 3.0, \"su\": 0.0, \"rbc\": \"normal\", \"pc\": \"abnormal\", \"pcc\": \"notpresent\", \"ba\": \"notpresent\", \"bgr\": 119.0, \"bu\": 40.0, \"sc\": 1.15, \"sod\": 139.0, \"pot\": 4.5, \"hemo\": 13.85, \"pcv\": 42.0, \"wbcc\": 7900.0, \"rbcc\": 4.9, \"htn\": \"no\", \"dm\": \"no\", \"cad\": \"no\", \"appet\": \"good\", \"pe\": \"yes\", \"ane\": \"no\", \"class\": \"ckd\"}, {\"age\": 66.0, \"bp\": 70.0, \"sg\": 1.02, \"al\": 1.0, \"su\": 0.0, \"rbc\": \"normal\", \"pc\": \"normal\", \"pcc\": \"notpresent\", \"ba\": \"notpresent\", \"bgr\": 248.0, \"bu\": 30.0, \"sc\": 1.7, \"sod\": 138.0, \"pot\": 5.3, \"hemo\": 13.85, \"pcv\": 42.0, \"wbcc\": 7900.0, \"rbcc\": 4.9, \"htn\": \"yes\", \"dm\": \"yes\", \"cad\": \"no\", \"appet\": \"good\", \"pe\": \"no\", \"ane\": \"no\", \"class\": \"ckd\"}, {\"age\": 60.0, \"bp\": 90.0, \"sg\": 1.01, \"al\": 3.0, \"su\": 5.0, \"rbc\": \"abnormal\", \"pc\": \"normal\", \"pcc\": \"notpresent\", \"ba\": \"present\", \"bgr\": 490.0, \"bu\": 95.0, \"sc\": 2.7, \"sod\": 131.0, \"pot\": 3.8, \"hemo\": 11.5, \"pcv\": 35.0, \"wbcc\": 12000.0, \"rbcc\": 4.5, \"htn\": \"yes\", \"dm\": \"yes\", \"cad\": \"no\", \"appet\": \"good\", \"pe\": \"no\", \"ane\": \"no\", \"class\": \"ckd\"}, {\"age\": 64.0, \"bp\": 100.0, \"sg\": 1.015, \"al\": 4.0, \"su\": 2.0, \"rbc\": \"abnormal\", \"pc\": \"abnormal\", \"pcc\": \"notpresent\", \"ba\": \"present\", \"bgr\": 163.0, \"bu\": 54.0, \"sc\": 7.2, \"sod\": 140.0, \"pot\": 4.6, \"hemo\": 7.9, \"pcv\": 26.0, \"wbcc\": 7500.0, \"rbcc\": 3.4, \"htn\": \"yes\", \"dm\": \"yes\", \"cad\": \"no\", \"appet\": \"good\", \"pe\": \"yes\", \"ane\": \"no\", \"class\": \"ckd\"}, {\"age\": 59.0, \"bp\": 50.0, \"sg\": 1.01, \"al\": 3.0, \"su\": 0.0, \"rbc\": \"normal\", \"pc\": \"abnormal\", \"pcc\": \"notpresent\", \"ba\": \"notpresent\", \"bgr\": 241.0, \"bu\": 191.0, \"sc\": 12.0, \"sod\": 114.0, \"pot\": 2.9, \"hemo\": 9.6, \"pcv\": 31.0, \"wbcc\": 15700.0, \"rbcc\": 3.8, \"htn\": \"no\", \"dm\": \"yes\", \"cad\": \"no\", \"appet\": \"good\", \"pe\": \"yes\", \"ane\": \"no\", \"class\": \"ckd\"}, {\"age\": 65.0, \"bp\": 60.0, \"sg\": 1.01, \"al\": 2.0, \"su\": 0.0, \"rbc\": \"normal\", \"pc\": \"abnormal\", \"pcc\": \"present\", \"ba\": \"notpresent\", \"bgr\": 192.0, \"bu\": 17.0, \"sc\": 1.7, \"sod\": 130.0, \"pot\": 4.3, \"hemo\": 13.85, \"pcv\": 42.0, \"wbcc\": 9500.0, \"rbcc\": 4.9, \"htn\": \"yes\", \"dm\": \"yes\", \"cad\": \"no\", \"appet\": \"poor\", \"pe\": \"no\", \"ane\": \"no\", \"class\": \"ckd\"}, {\"age\": 50.0, \"bp\": 90.0, \"sg\": 1.015, \"al\": 1.0, \"su\": 0.0, \"rbc\": \"abnormal\", \"pc\": \"abnormal\", \"pcc\": \"notpresent\", \"ba\": \"notpresent\", \"bgr\": 119.0, \"bu\": 40.0, \"sc\": 1.15, \"sod\": 139.0, \"pot\": 4.5, \"hemo\": 13.85, \"pcv\": 42.0, \"wbcc\": 7900.0, \"rbcc\": 4.9, \"htn\": \"no\", \"dm\": \"no\", \"cad\": \"no\", \"appet\": \"good\", \"pe\": \"yes\", \"ane\": \"no\", \"class\": \"ckd\"}, {\"age\": 51.0, \"bp\": 100.0, \"sg\": 1.015, \"al\": 2.0, \"su\": 0.0, \"rbc\": \"normal\", \"pc\": \"normal\", \"pcc\": \"notpresent\", \"ba\": \"present\", \"bgr\": 93.0, \"bu\": 20.0, \"sc\": 1.6, \"sod\": 146.0, \"pot\": 4.5, \"hemo\": 13.85, \"pcv\": 42.0, \"wbcc\": 7900.0, \"rbcc\": 4.9, \"htn\": \"no\", \"dm\": \"no\", \"cad\": \"no\", \"appet\": \"poor\", \"pe\": \"no\", \"ane\": \"no\", \"class\": \"ckd\"}, {\"age\": 37.0, \"bp\": 100.0, \"sg\": 1.01, \"al\": 0.0, \"su\": 0.0, \"rbc\": \"abnormal\", \"pc\": \"normal\", \"pcc\": \"notpresent\", \"ba\": \"notpresent\", \"bgr\": 119.0, \"bu\": 19.0, \"sc\": 1.3, \"sod\": 139.0, \"pot\": 4.5, \"hemo\": 15.0, \"pcv\": 44.0, \"wbcc\": 4100.0, \"rbcc\": 5.2, \"htn\": \"yes\", \"dm\": \"no\", \"cad\": \"no\", \"appet\": \"good\", \"pe\": \"no\", \"ane\": \"no\", \"class\": \"ckd\"}, {\"age\": 34.0, \"bp\": 90.0, \"sg\": 1.015, \"al\": 2.0, \"su\": 0.0, \"rbc\": \"normal\", \"pc\": \"normal\", \"pcc\": \"notpresent\", \"ba\": \"notpresent\", \"bgr\": 104.0, \"bu\": 50.0, \"sc\": 1.6, \"sod\": 137.0, \"pot\": 4.1, \"hemo\": 11.9, \"pcv\": 39.0, \"wbcc\": 7900.0, \"rbcc\": 4.9, \"htn\": \"no\", \"dm\": \"no\", \"cad\": \"no\", \"appet\": \"good\", \"pe\": \"no\", \"ane\": \"no\", \"class\": \"ckd\"}, {\"age\": 69.0, \"bp\": 70.0, \"sg\": 1.01, \"al\": 4.0, \"su\": 3.0, \"rbc\": \"normal\", \"pc\": \"abnormal\", \"pcc\": \"present\", \"ba\": \"present\", \"bgr\": 214.0, \"bu\": 96.0, \"sc\": 6.3, \"sod\": 120.0, \"pot\": 3.9, \"hemo\": 9.4, \"pcv\": 28.0, \"wbcc\": 11500.0, \"rbcc\": 3.3, \"htn\": \"yes\", \"dm\": \"yes\", \"cad\": \"yes\", \"appet\": \"good\", \"pe\": \"yes\", \"ane\": \"yes\", \"class\": \"ckd\"}, {\"age\": 48.0, \"bp\": 110.0, \"sg\": 1.015, \"al\": 3.0, \"su\": 0.0, \"rbc\": \"abnormal\", \"pc\": \"normal\", \"pcc\": \"present\", \"ba\": \"notpresent\", \"bgr\": 106.0, \"bu\": 215.0, \"sc\": 15.2, \"sod\": 120.0, \"pot\": 5.7, \"hemo\": 8.6, \"pcv\": 26.0, \"wbcc\": 5000.0, \"rbcc\": 2.5, \"htn\": \"yes\", \"dm\": \"no\", \"cad\": \"yes\", \"appet\": \"good\", \"pe\": \"no\", \"ane\": \"yes\", \"class\": \"ckd\"}, {\"age\": 54.0, \"bp\": 90.0, \"sg\": 1.025, \"al\": 1.0, \"su\": 0.0, \"rbc\": \"normal\", \"pc\": \"abnormal\", \"pcc\": \"notpresent\", \"ba\": \"notpresent\", \"bgr\": 150.0, \"bu\": 18.0, \"sc\": 1.2, \"sod\": 140.0, \"pot\": 4.2, \"hemo\": 13.85, \"pcv\": 42.0, \"wbcc\": 7900.0, \"rbcc\": 4.9, \"htn\": \"no\", \"dm\": \"no\", \"cad\": \"no\", \"appet\": \"poor\", \"pe\": \"yes\", \"ane\": \"yes\", \"class\": \"ckd\"}, {\"age\": 59.0, \"bp\": 70.0, \"sg\": 1.01, \"al\": 1.0, \"su\": 3.0, \"rbc\": \"abnormal\", \"pc\": \"abnormal\", \"pcc\": \"notpresent\", \"ba\": \"notpresent\", \"bgr\": 424.0, \"bu\": 55.0, \"sc\": 1.7, \"sod\": 138.0, \"pot\": 4.5, \"hemo\": 12.6, \"pcv\": 37.0, \"wbcc\": 10200.0, \"rbcc\": 4.1, \"htn\": \"yes\", \"dm\": \"yes\", \"cad\": \"yes\", \"appet\": \"good\", \"pe\": \"no\", \"ane\": \"no\", \"class\": \"ckd\"}, {\"age\": 56.0, \"bp\": 90.0, \"sg\": 1.01, \"al\": 4.0, \"su\": 1.0, \"rbc\": \"normal\", \"pc\": \"abnormal\", \"pcc\": \"present\", \"ba\": \"notpresent\", \"bgr\": 176.0, \"bu\": 309.0, \"sc\": 13.3, \"sod\": 124.0, \"pot\": 6.5, \"hemo\": 3.1, \"pcv\": 9.0, \"wbcc\": 5400.0, \"rbcc\": 2.1, \"htn\": \"yes\", \"dm\": \"yes\", \"cad\": \"no\", \"appet\": \"poor\", \"pe\": \"yes\", \"ane\": \"yes\", \"class\": \"ckd\"}, {\"age\": 40.0, \"bp\": 80.0, \"sg\": 1.025, \"al\": 0.0, \"su\": 0.0, \"rbc\": \"normal\", \"pc\": \"normal\", \"pcc\": \"notpresent\", \"ba\": \"notpresent\", \"bgr\": 140.0, \"bu\": 10.0, \"sc\": 1.2, \"sod\": 135.0, \"pot\": 5.0, \"hemo\": 15.0, \"pcv\": 48.0, \"wbcc\": 10400.0, \"rbcc\": 4.5, \"htn\": \"no\", \"dm\": \"no\", \"cad\": \"no\", \"appet\": \"good\", \"pe\": \"no\", \"ane\": \"no\", \"class\": \"notckd\"}, {\"age\": 23.0, \"bp\": 80.0, \"sg\": 1.025, \"al\": 0.0, \"su\": 0.0, \"rbc\": \"normal\", \"pc\": \"normal\", \"pcc\": \"notpresent\", \"ba\": \"notpresent\", \"bgr\": 70.0, \"bu\": 36.0, \"sc\": 1.0, \"sod\": 150.0, \"pot\": 4.6, \"hemo\": 17.0, \"pcv\": 52.0, \"wbcc\": 9800.0, \"rbcc\": 5.0, \"htn\": \"no\", \"dm\": \"no\", \"cad\": \"no\", \"appet\": \"good\", \"pe\": \"no\", \"ane\": \"no\", \"class\": \"notckd\"}, {\"age\": 45.0, \"bp\": 80.0, \"sg\": 1.025, \"al\": 0.0, \"su\": 0.0, \"rbc\": \"normal\", \"pc\": \"normal\", \"pcc\": \"notpresent\", \"ba\": \"notpresent\", \"bgr\": 82.0, \"bu\": 49.0, \"sc\": 0.6, \"sod\": 147.0, \"pot\": 4.4, \"hemo\": 15.9, \"pcv\": 46.0, \"wbcc\": 9100.0, \"rbcc\": 4.7, \"htn\": \"no\", \"dm\": \"no\", \"cad\": \"no\", \"appet\": \"good\", \"pe\": \"no\", \"ane\": \"no\", \"class\": \"notckd\"}, {\"age\": 57.0, \"bp\": 80.0, \"sg\": 1.025, \"al\": 0.0, \"su\": 0.0, \"rbc\": \"normal\", \"pc\": \"normal\", \"pcc\": \"notpresent\", \"ba\": \"notpresent\", \"bgr\": 119.0, \"bu\": 17.0, \"sc\": 1.2, \"sod\": 135.0, \"pot\": 4.7, \"hemo\": 15.4, \"pcv\": 42.0, \"wbcc\": 6200.0, \"rbcc\": 6.2, \"htn\": \"no\", \"dm\": \"no\", \"cad\": \"no\", \"appet\": \"good\", \"pe\": \"no\", \"ane\": \"no\", \"class\": \"notckd\"}, {\"age\": 51.0, \"bp\": 60.0, \"sg\": 1.025, \"al\": 0.0, \"su\": 0.0, \"rbc\": \"normal\", \"pc\": \"normal\", \"pcc\": \"notpresent\", \"ba\": \"notpresent\", \"bgr\": 99.0, \"bu\": 38.0, \"sc\": 0.8, \"sod\": 135.0, \"pot\": 3.7, \"hemo\": 13.0, \"pcv\": 49.0, \"wbcc\": 8300.0, \"rbcc\": 5.2, \"htn\": \"no\", \"dm\": \"no\", \"cad\": \"no\", \"appet\": \"good\", \"pe\": \"no\", \"ane\": \"no\", \"class\": \"notckd\"}, {\"age\": 34.0, \"bp\": 80.0, \"sg\": 1.025, \"al\": 0.0, \"su\": 0.0, \"rbc\": \"normal\", \"pc\": \"normal\", \"pcc\": \"notpresent\", \"ba\": \"notpresent\", \"bgr\": 121.0, \"bu\": 27.0, \"sc\": 1.2, \"sod\": 144.0, \"pot\": 3.9, \"hemo\": 13.6, \"pcv\": 52.0, \"wbcc\": 9200.0, \"rbcc\": 6.3, \"htn\": \"no\", \"dm\": \"no\", \"cad\": \"no\", \"appet\": \"good\", \"pe\": \"no\", \"ane\": \"no\", \"class\": \"notckd\"}, {\"age\": 60.0, \"bp\": 80.0, \"sg\": 1.025, \"al\": 0.0, \"su\": 0.0, \"rbc\": \"normal\", \"pc\": \"normal\", \"pcc\": \"notpresent\", \"ba\": \"notpresent\", \"bgr\": 131.0, \"bu\": 10.0, \"sc\": 0.5, \"sod\": 146.0, \"pot\": 5.0, \"hemo\": 14.5, \"pcv\": 41.0, \"wbcc\": 10700.0, \"rbcc\": 5.1, \"htn\": \"no\", \"dm\": \"no\", \"cad\": \"no\", \"appet\": \"good\", \"pe\": \"no\", \"ane\": \"no\", \"class\": \"notckd\"}, {\"age\": 38.0, \"bp\": 60.0, \"sg\": 1.02, \"al\": 0.0, \"su\": 0.0, \"rbc\": \"normal\", \"pc\": \"normal\", \"pcc\": \"notpresent\", \"ba\": \"notpresent\", \"bgr\": 91.0, \"bu\": 36.0, \"sc\": 0.7, \"sod\": 135.0, \"pot\": 3.7, \"hemo\": 14.0, \"pcv\": 46.0, \"wbcc\": 9100.0, \"rbcc\": 5.8, \"htn\": \"no\", \"dm\": \"no\", \"cad\": \"no\", \"appet\": \"good\", \"pe\": \"no\", \"ane\": \"no\", \"class\": \"notckd\"}, {\"age\": 42.0, \"bp\": 80.0, \"sg\": 1.02, \"al\": 0.0, \"su\": 0.0, \"rbc\": \"normal\", \"pc\": \"normal\", \"pcc\": \"notpresent\", \"ba\": \"notpresent\", \"bgr\": 98.0, \"bu\": 20.0, \"sc\": 0.5, \"sod\": 140.0, \"pot\": 3.5, \"hemo\": 13.9, \"pcv\": 44.0, \"wbcc\": 8400.0, \"rbcc\": 5.5, \"htn\": \"no\", \"dm\": \"no\", \"cad\": \"no\", \"appet\": \"good\", \"pe\": \"no\", \"ane\": \"no\", \"class\": \"notckd\"}, {\"age\": 35.0, \"bp\": 80.0, \"sg\": 1.02, \"al\": 0.0, \"su\": 0.0, \"rbc\": \"normal\", \"pc\": \"normal\", \"pcc\": \"notpresent\", \"ba\": \"notpresent\", \"bgr\": 104.0, \"bu\": 31.0, \"sc\": 1.2, \"sod\": 135.0, \"pot\": 5.0, \"hemo\": 16.1, \"pcv\": 45.0, \"wbcc\": 4300.0, \"rbcc\": 5.2, \"htn\": \"no\", \"dm\": \"no\", \"cad\": \"no\", \"appet\": \"good\", \"pe\": \"no\", \"ane\": \"no\", \"class\": \"notckd\"}, {\"age\": 30.0, \"bp\": 80.0, \"sg\": 1.02, \"al\": 0.0, \"su\": 0.0, \"rbc\": \"normal\", \"pc\": \"normal\", \"pcc\": \"notpresent\", \"ba\": \"notpresent\", \"bgr\": 131.0, \"bu\": 38.0, \"sc\": 1.0, \"sod\": 147.0, \"pot\": 3.8, \"hemo\": 14.1, \"pcv\": 45.0, \"wbcc\": 9400.0, \"rbcc\": 5.3, \"htn\": \"no\", \"dm\": \"no\", \"cad\": \"no\", \"appet\": \"good\", \"pe\": \"no\", \"ane\": \"no\", \"class\": \"notckd\"}, {\"age\": 49.0, \"bp\": 80.0, \"sg\": 1.02, \"al\": 0.0, \"su\": 0.0, \"rbc\": \"normal\", \"pc\": \"normal\", \"pcc\": \"notpresent\", \"ba\": \"notpresent\", \"bgr\": 122.0, \"bu\": 32.0, \"sc\": 1.2, \"sod\": 139.0, \"pot\": 3.9, \"hemo\": 17.0, \"pcv\": 41.0, \"wbcc\": 5600.0, \"rbcc\": 4.9, \"htn\": \"no\", \"dm\": \"no\", \"cad\": \"no\", \"appet\": \"good\", \"pe\": \"no\", \"ane\": \"no\", \"class\": \"notckd\"}, {\"age\": 55.0, \"bp\": 80.0, \"sg\": 1.02, \"al\": 0.0, \"su\": 0.0, \"rbc\": \"normal\", \"pc\": \"normal\", \"pcc\": \"notpresent\", \"ba\": \"notpresent\", \"bgr\": 118.0, \"bu\": 18.0, \"sc\": 0.9, \"sod\": 135.0, \"pot\": 3.6, \"hemo\": 15.5, \"pcv\": 43.0, \"wbcc\": 7200.0, \"rbcc\": 5.4, \"htn\": \"no\", \"dm\": \"no\", \"cad\": \"no\", \"appet\": \"good\", \"pe\": \"no\", \"ane\": \"no\", \"class\": \"notckd\"}, {\"age\": 45.0, \"bp\": 80.0, \"sg\": 1.02, \"al\": 0.0, \"su\": 0.0, \"rbc\": \"normal\", \"pc\": \"normal\", \"pcc\": \"notpresent\", \"ba\": \"notpresent\", \"bgr\": 117.0, \"bu\": 46.0, \"sc\": 1.2, \"sod\": 137.0, \"pot\": 5.0, \"hemo\": 16.2, \"pcv\": 45.0, \"wbcc\": 8600.0, \"rbcc\": 5.2, \"htn\": \"no\", \"dm\": \"no\", \"cad\": \"no\", \"appet\": \"good\", \"pe\": \"no\", \"ane\": \"no\", \"class\": \"notckd\"}, {\"age\": 42.0, \"bp\": 80.0, \"sg\": 1.02, \"al\": 0.0, \"su\": 0.0, \"rbc\": \"normal\", \"pc\": \"normal\", \"pcc\": \"notpresent\", \"ba\": \"notpresent\", \"bgr\": 132.0, \"bu\": 24.0, \"sc\": 0.7, \"sod\": 140.0, \"pot\": 4.1, \"hemo\": 14.4, \"pcv\": 50.0, \"wbcc\": 5000.0, \"rbcc\": 4.5, \"htn\": \"no\", \"dm\": \"no\", \"cad\": \"no\", \"appet\": \"good\", \"pe\": \"no\", \"ane\": \"no\", \"class\": \"notckd\"}, {\"age\": 50.0, \"bp\": 80.0, \"sg\": 1.02, \"al\": 0.0, \"su\": 0.0, \"rbc\": \"normal\", \"pc\": \"normal\", \"pcc\": \"notpresent\", \"ba\": \"notpresent\", \"bgr\": 97.0, \"bu\": 40.0, \"sc\": 0.6, \"sod\": 150.0, \"pot\": 4.5, \"hemo\": 14.2, \"pcv\": 48.0, \"wbcc\": 10500.0, \"rbcc\": 5.0, \"htn\": \"no\", \"dm\": \"no\", \"cad\": \"no\", \"appet\": \"good\", \"pe\": \"no\", \"ane\": \"no\", \"class\": \"notckd\"}, {\"age\": 55.0, \"bp\": 80.0, \"sg\": 1.02, \"al\": 0.0, \"su\": 0.0, \"rbc\": \"normal\", \"pc\": \"normal\", \"pcc\": \"notpresent\", \"ba\": \"notpresent\", \"bgr\": 133.0, \"bu\": 17.0, \"sc\": 1.2, \"sod\": 135.0, \"pot\": 4.8, \"hemo\": 13.2, \"pcv\": 41.0, \"wbcc\": 6800.0, \"rbcc\": 5.3, \"htn\": \"no\", \"dm\": \"no\", \"cad\": \"no\", \"appet\": \"good\", \"pe\": \"no\", \"ane\": \"no\", \"class\": \"notckd\"}, {\"age\": 48.0, \"bp\": 80.0, \"sg\": 1.025, \"al\": 0.0, \"su\": 0.0, \"rbc\": \"normal\", \"pc\": \"normal\", \"pcc\": \"notpresent\", \"ba\": \"notpresent\", \"bgr\": 122.0, \"bu\": 33.0, \"sc\": 0.9, \"sod\": 146.0, \"pot\": 3.9, \"hemo\": 13.9, \"pcv\": 48.0, \"wbcc\": 9500.0, \"rbcc\": 4.8, \"htn\": \"no\", \"dm\": \"no\", \"cad\": \"no\", \"appet\": \"good\", \"pe\": \"no\", \"ane\": \"no\", \"class\": \"notckd\"}, {\"age\": 25.0, \"bp\": 80.0, \"sg\": 1.025, \"al\": 0.0, \"su\": 0.0, \"rbc\": \"normal\", \"pc\": \"normal\", \"pcc\": \"notpresent\", \"ba\": \"notpresent\", \"bgr\": 121.0, \"bu\": 19.0, \"sc\": 1.2, \"sod\": 142.0, \"pot\": 4.9, \"hemo\": 15.0, \"pcv\": 48.0, \"wbcc\": 6900.0, \"rbcc\": 5.3, \"htn\": \"no\", \"dm\": \"no\", \"cad\": \"no\", \"appet\": \"good\", \"pe\": \"no\", \"ane\": \"no\", \"class\": \"notckd\"}, {\"age\": 23.0, \"bp\": 80.0, \"sg\": 1.025, \"al\": 0.0, \"su\": 0.0, \"rbc\": \"normal\", \"pc\": \"normal\", \"pcc\": \"notpresent\", \"ba\": \"notpresent\", \"bgr\": 111.0, \"bu\": 34.0, \"sc\": 1.1, \"sod\": 145.0, \"pot\": 4.0, \"hemo\": 14.3, \"pcv\": 41.0, \"wbcc\": 7200.0, \"rbcc\": 5.0, \"htn\": \"no\", \"dm\": \"no\", \"cad\": \"no\", \"appet\": \"good\", \"pe\": \"no\", \"ane\": \"no\", \"class\": \"notckd\"}, {\"age\": 30.0, \"bp\": 80.0, \"sg\": 1.025, \"al\": 0.0, \"su\": 0.0, \"rbc\": \"normal\", \"pc\": \"normal\", \"pcc\": \"notpresent\", \"ba\": \"notpresent\", \"bgr\": 96.0, \"bu\": 25.0, \"sc\": 0.5, \"sod\": 144.0, \"pot\": 4.8, \"hemo\": 13.8, \"pcv\": 42.0, \"wbcc\": 9000.0, \"rbcc\": 4.5, \"htn\": \"no\", \"dm\": \"no\", \"cad\": \"no\", \"appet\": \"good\", \"pe\": \"no\", \"ane\": \"no\", \"class\": \"notckd\"}, {\"age\": 56.0, \"bp\": 80.0, \"sg\": 1.025, \"al\": 0.0, \"su\": 0.0, \"rbc\": \"normal\", \"pc\": \"normal\", \"pcc\": \"notpresent\", \"ba\": \"notpresent\", \"bgr\": 139.0, \"bu\": 15.0, \"sc\": 1.2, \"sod\": 135.0, \"pot\": 5.0, \"hemo\": 14.8, \"pcv\": 42.0, \"wbcc\": 5600.0, \"rbcc\": 5.5, \"htn\": \"no\", \"dm\": \"no\", \"cad\": \"no\", \"appet\": \"good\", \"pe\": \"no\", \"ane\": \"no\", \"class\": \"notckd\"}, {\"age\": 47.0, \"bp\": 80.0, \"sg\": 1.02, \"al\": 0.0, \"su\": 0.0, \"rbc\": \"normal\", \"pc\": \"normal\", \"pcc\": \"notpresent\", \"ba\": \"notpresent\", \"bgr\": 95.0, \"bu\": 35.0, \"sc\": 0.9, \"sod\": 140.0, \"pot\": 4.1, \"hemo\": 13.85, \"pcv\": 42.0, \"wbcc\": 7900.0, \"rbcc\": 4.9, \"htn\": \"no\", \"dm\": \"no\", \"cad\": \"no\", \"appet\": \"good\", \"pe\": \"no\", \"ane\": \"no\", \"class\": \"notckd\"}, {\"age\": 19.0, \"bp\": 80.0, \"sg\": 1.02, \"al\": 0.0, \"su\": 0.0, \"rbc\": \"normal\", \"pc\": \"normal\", \"pcc\": \"notpresent\", \"ba\": \"notpresent\", \"bgr\": 107.0, \"bu\": 23.0, \"sc\": 0.7, \"sod\": 141.0, \"pot\": 4.2, \"hemo\": 14.4, \"pcv\": 44.0, \"wbcc\": 7900.0, \"rbcc\": 4.9, \"htn\": \"no\", \"dm\": \"no\", \"cad\": \"no\", \"appet\": \"good\", \"pe\": \"no\", \"ane\": \"no\", \"class\": \"notckd\"}, {\"age\": 52.0, \"bp\": 80.0, \"sg\": 1.02, \"al\": 0.0, \"su\": 0.0, \"rbc\": \"normal\", \"pc\": \"normal\", \"pcc\": \"notpresent\", \"ba\": \"notpresent\", \"bgr\": 125.0, \"bu\": 22.0, \"sc\": 1.2, \"sod\": 139.0, \"pot\": 4.6, \"hemo\": 16.5, \"pcv\": 43.0, \"wbcc\": 4700.0, \"rbcc\": 4.6, \"htn\": \"no\", \"dm\": \"no\", \"cad\": \"no\", \"appet\": \"good\", \"pe\": \"no\", \"ane\": \"no\", \"class\": \"notckd\"}, {\"age\": 20.0, \"bp\": 60.0, \"sg\": 1.025, \"al\": 0.0, \"su\": 0.0, \"rbc\": \"normal\", \"pc\": \"normal\", \"pcc\": \"notpresent\", \"ba\": \"notpresent\", \"bgr\": 119.0, \"bu\": 40.0, \"sc\": 1.15, \"sod\": 137.0, \"pot\": 4.7, \"hemo\": 14.0, \"pcv\": 41.0, \"wbcc\": 4500.0, \"rbcc\": 5.5, \"htn\": \"no\", \"dm\": \"no\", \"cad\": \"no\", \"appet\": \"good\", \"pe\": \"no\", \"ane\": \"no\", \"class\": \"notckd\"}, {\"age\": 46.0, \"bp\": 60.0, \"sg\": 1.025, \"al\": 0.0, \"su\": 0.0, \"rbc\": \"normal\", \"pc\": \"normal\", \"pcc\": \"notpresent\", \"ba\": \"notpresent\", \"bgr\": 123.0, \"bu\": 46.0, \"sc\": 1.0, \"sod\": 135.0, \"pot\": 5.0, \"hemo\": 15.7, \"pcv\": 50.0, \"wbcc\": 6300.0, \"rbcc\": 4.8, \"htn\": \"no\", \"dm\": \"no\", \"cad\": \"no\", \"appet\": \"good\", \"pe\": \"no\", \"ane\": \"no\", \"class\": \"notckd\"}, {\"age\": 48.0, \"bp\": 60.0, \"sg\": 1.02, \"al\": 0.0, \"su\": 0.0, \"rbc\": \"normal\", \"pc\": \"normal\", \"pcc\": \"notpresent\", \"ba\": \"notpresent\", \"bgr\": 112.0, \"bu\": 44.0, \"sc\": 1.2, \"sod\": 142.0, \"pot\": 4.9, \"hemo\": 14.5, \"pcv\": 44.0, \"wbcc\": 9400.0, \"rbcc\": 6.4, \"htn\": \"no\", \"dm\": \"no\", \"cad\": \"no\", \"appet\": \"good\", \"pe\": \"no\", \"ane\": \"no\", \"class\": \"notckd\"}, {\"age\": 24.0, \"bp\": 70.0, \"sg\": 1.025, \"al\": 0.0, \"su\": 0.0, \"rbc\": \"normal\", \"pc\": \"normal\", \"pcc\": \"notpresent\", \"ba\": \"notpresent\", \"bgr\": 140.0, \"bu\": 23.0, \"sc\": 0.6, \"sod\": 140.0, \"pot\": 4.7, \"hemo\": 16.3, \"pcv\": 48.0, \"wbcc\": 5800.0, \"rbcc\": 5.6, \"htn\": \"no\", \"dm\": \"no\", \"cad\": \"no\", \"appet\": \"good\", \"pe\": \"no\", \"ane\": \"no\", \"class\": \"notckd\"}, {\"age\": 55.0, \"bp\": 80.0, \"sg\": 1.025, \"al\": 0.0, \"su\": 0.0, \"rbc\": \"normal\", \"pc\": \"normal\", \"pcc\": \"notpresent\", \"ba\": \"notpresent\", \"bgr\": 130.0, \"bu\": 50.0, \"sc\": 1.2, \"sod\": 147.0, \"pot\": 5.0, \"hemo\": 15.5, \"pcv\": 41.0, \"wbcc\": 9100.0, \"rbcc\": 6.0, \"htn\": \"no\", \"dm\": \"no\", \"cad\": \"no\", \"appet\": \"good\", \"pe\": \"no\", \"ane\": \"no\", \"class\": \"notckd\"}, {\"age\": 20.0, \"bp\": 70.0, \"sg\": 1.02, \"al\": 0.0, \"su\": 0.0, \"rbc\": \"normal\", \"pc\": \"normal\", \"pcc\": \"notpresent\", \"ba\": \"notpresent\", \"bgr\": 123.0, \"bu\": 44.0, \"sc\": 1.0, \"sod\": 135.0, \"pot\": 3.8, \"hemo\": 14.6, \"pcv\": 44.0, \"wbcc\": 5500.0, \"rbcc\": 4.8, \"htn\": \"no\", \"dm\": \"no\", \"cad\": \"no\", \"appet\": \"good\", \"pe\": \"no\", \"ane\": \"no\", \"class\": \"notckd\"}, {\"age\": 60.0, \"bp\": 70.0, \"sg\": 1.02, \"al\": 0.0, \"su\": 0.0, \"rbc\": \"normal\", \"pc\": \"normal\", \"pcc\": \"notpresent\", \"ba\": \"notpresent\", \"bgr\": 119.0, \"bu\": 40.0, \"sc\": 1.15, \"sod\": 139.0, \"pot\": 4.5, \"hemo\": 16.4, \"pcv\": 43.0, \"wbcc\": 10800.0, \"rbcc\": 5.7, \"htn\": \"no\", \"dm\": \"no\", \"cad\": \"no\", \"appet\": \"good\", \"pe\": \"no\", \"ane\": \"no\", \"class\": \"notckd\"}, {\"age\": 33.0, \"bp\": 80.0, \"sg\": 1.025, \"al\": 0.0, \"su\": 0.0, \"rbc\": \"normal\", \"pc\": \"normal\", \"pcc\": \"notpresent\", \"ba\": \"notpresent\", \"bgr\": 100.0, \"bu\": 37.0, \"sc\": 1.2, \"sod\": 142.0, \"pot\": 4.0, \"hemo\": 16.9, \"pcv\": 52.0, \"wbcc\": 6700.0, \"rbcc\": 6.0, \"htn\": \"no\", \"dm\": \"no\", \"cad\": \"no\", \"appet\": \"good\", \"pe\": \"no\", \"ane\": \"no\", \"class\": \"notckd\"}, {\"age\": 66.0, \"bp\": 70.0, \"sg\": 1.02, \"al\": 0.0, \"su\": 0.0, \"rbc\": \"normal\", \"pc\": \"normal\", \"pcc\": \"notpresent\", \"ba\": \"notpresent\", \"bgr\": 94.0, \"bu\": 19.0, \"sc\": 0.7, \"sod\": 135.0, \"pot\": 3.9, \"hemo\": 16.0, \"pcv\": 41.0, \"wbcc\": 5300.0, \"rbcc\": 5.9, \"htn\": \"no\", \"dm\": \"no\", \"cad\": \"no\", \"appet\": \"good\", \"pe\": \"no\", \"ane\": \"no\", \"class\": \"notckd\"}, {\"age\": 71.0, \"bp\": 70.0, \"sg\": 1.02, \"al\": 0.0, \"su\": 0.0, \"rbc\": \"normal\", \"pc\": \"normal\", \"pcc\": \"notpresent\", \"ba\": \"notpresent\", \"bgr\": 81.0, \"bu\": 18.0, \"sc\": 0.8, \"sod\": 145.0, \"pot\": 5.0, \"hemo\": 14.7, \"pcv\": 44.0, \"wbcc\": 9800.0, \"rbcc\": 6.0, \"htn\": \"no\", \"dm\": \"no\", \"cad\": \"no\", \"appet\": \"good\", \"pe\": \"no\", \"ane\": \"no\", \"class\": \"notckd\"}, {\"age\": 39.0, \"bp\": 70.0, \"sg\": 1.025, \"al\": 0.0, \"su\": 0.0, \"rbc\": \"normal\", \"pc\": \"normal\", \"pcc\": \"notpresent\", \"ba\": \"notpresent\", \"bgr\": 124.0, \"bu\": 22.0, \"sc\": 0.6, \"sod\": 137.0, \"pot\": 3.8, \"hemo\": 13.4, \"pcv\": 43.0, \"wbcc\": 7900.0, \"rbcc\": 4.9, \"htn\": \"no\", \"dm\": \"no\", \"cad\": \"no\", \"appet\": \"good\", \"pe\": \"no\", \"ane\": \"no\", \"class\": \"notckd\"}, {\"age\": 56.0, \"bp\": 70.0, \"sg\": 1.025, \"al\": 0.0, \"su\": 0.0, \"rbc\": \"normal\", \"pc\": \"normal\", \"pcc\": \"notpresent\", \"ba\": \"notpresent\", \"bgr\": 70.0, \"bu\": 46.0, \"sc\": 1.2, \"sod\": 135.0, \"pot\": 4.9, \"hemo\": 15.9, \"pcv\": 50.0, \"wbcc\": 11000.0, \"rbcc\": 5.1, \"htn\": \"no\", \"dm\": \"no\", \"cad\": \"no\", \"appet\": \"good\", \"pe\": \"no\", \"ane\": \"no\", \"class\": \"notckd\"}, {\"age\": 42.0, \"bp\": 70.0, \"sg\": 1.02, \"al\": 0.0, \"su\": 0.0, \"rbc\": \"normal\", \"pc\": \"normal\", \"pcc\": \"notpresent\", \"ba\": \"notpresent\", \"bgr\": 93.0, \"bu\": 32.0, \"sc\": 0.9, \"sod\": 143.0, \"pot\": 4.7, \"hemo\": 16.6, \"pcv\": 43.0, \"wbcc\": 7100.0, \"rbcc\": 5.3, \"htn\": \"no\", \"dm\": \"no\", \"cad\": \"no\", \"appet\": \"good\", \"pe\": \"no\", \"ane\": \"no\", \"class\": \"notckd\"}, {\"age\": 47.0, \"bp\": 80.0, \"sg\": 1.025, \"al\": 0.0, \"su\": 0.0, \"rbc\": \"normal\", \"pc\": \"normal\", \"pcc\": \"notpresent\", \"ba\": \"notpresent\", \"bgr\": 124.0, \"bu\": 44.0, \"sc\": 1.0, \"sod\": 140.0, \"pot\": 4.9, \"hemo\": 14.9, \"pcv\": 41.0, \"wbcc\": 7000.0, \"rbcc\": 5.7, \"htn\": \"no\", \"dm\": \"no\", \"cad\": \"no\", \"appet\": \"good\", \"pe\": \"no\", \"ane\": \"no\", \"class\": \"notckd\"}, {\"age\": 30.0, \"bp\": 80.0, \"sg\": 1.02, \"al\": 0.0, \"su\": 0.0, \"rbc\": \"normal\", \"pc\": \"normal\", \"pcc\": \"notpresent\", \"ba\": \"notpresent\", \"bgr\": 89.0, \"bu\": 42.0, \"sc\": 0.5, \"sod\": 139.0, \"pot\": 5.0, \"hemo\": 16.7, \"pcv\": 52.0, \"wbcc\": 10200.0, \"rbcc\": 5.0, \"htn\": \"no\", \"dm\": \"no\", \"cad\": \"no\", \"appet\": \"good\", \"pe\": \"no\", \"ane\": \"no\", \"class\": \"notckd\"}, {\"age\": 50.0, \"bp\": 80.0, \"sg\": 1.02, \"al\": 0.0, \"su\": 0.0, \"rbc\": \"normal\", \"pc\": \"normal\", \"pcc\": \"notpresent\", \"ba\": \"notpresent\", \"bgr\": 92.0, \"bu\": 19.0, \"sc\": 1.2, \"sod\": 150.0, \"pot\": 4.8, \"hemo\": 14.9, \"pcv\": 48.0, \"wbcc\": 4700.0, \"rbcc\": 5.4, \"htn\": \"no\", \"dm\": \"no\", \"cad\": \"no\", \"appet\": \"good\", \"pe\": \"no\", \"ane\": \"no\", \"class\": \"notckd\"}, {\"age\": 75.0, \"bp\": 60.0, \"sg\": 1.02, \"al\": 0.0, \"su\": 0.0, \"rbc\": \"normal\", \"pc\": \"normal\", \"pcc\": \"notpresent\", \"ba\": \"notpresent\", \"bgr\": 110.0, \"bu\": 50.0, \"sc\": 0.7, \"sod\": 135.0, \"pot\": 5.0, \"hemo\": 14.3, \"pcv\": 40.0, \"wbcc\": 8300.0, \"rbcc\": 5.8, \"htn\": \"no\", \"dm\": \"no\", \"cad\": \"no\", \"appet\": \"good\", \"pe\": \"no\", \"ane\": \"no\", \"class\": \"notckd\"}, {\"age\": 41.0, \"bp\": 70.0, \"sg\": 1.02, \"al\": 0.0, \"su\": 0.0, \"rbc\": \"normal\", \"pc\": \"normal\", \"pcc\": \"notpresent\", \"ba\": \"notpresent\", \"bgr\": 125.0, \"bu\": 38.0, \"sc\": 0.6, \"sod\": 140.0, \"pot\": 5.0, \"hemo\": 16.8, \"pcv\": 41.0, \"wbcc\": 6300.0, \"rbcc\": 5.9, \"htn\": \"no\", \"dm\": \"no\", \"cad\": \"no\", \"appet\": \"good\", \"pe\": \"no\", \"ane\": \"no\", \"class\": \"notckd\"}, {\"age\": 53.0, \"bp\": 60.0, \"sg\": 1.025, \"al\": 0.0, \"su\": 0.0, \"rbc\": \"normal\", \"pc\": \"normal\", \"pcc\": \"notpresent\", \"ba\": \"notpresent\", \"bgr\": 116.0, \"bu\": 26.0, \"sc\": 1.0, \"sod\": 146.0, \"pot\": 4.9, \"hemo\": 15.8, \"pcv\": 45.0, \"wbcc\": 7700.0, \"rbcc\": 5.2, \"htn\": \"no\", \"dm\": \"no\", \"cad\": \"no\", \"appet\": \"good\", \"pe\": \"no\", \"ane\": \"no\", \"class\": \"notckd\"}, {\"age\": 34.0, \"bp\": 60.0, \"sg\": 1.02, \"al\": 0.0, \"su\": 0.0, \"rbc\": \"normal\", \"pc\": \"normal\", \"pcc\": \"notpresent\", \"ba\": \"notpresent\", \"bgr\": 91.0, \"bu\": 49.0, \"sc\": 1.2, \"sod\": 135.0, \"pot\": 4.5, \"hemo\": 13.5, \"pcv\": 48.0, \"wbcc\": 8600.0, \"rbcc\": 4.9, \"htn\": \"no\", \"dm\": \"no\", \"cad\": \"no\", \"appet\": \"good\", \"pe\": \"no\", \"ane\": \"no\", \"class\": \"notckd\"}, {\"age\": 73.0, \"bp\": 60.0, \"sg\": 1.02, \"al\": 0.0, \"su\": 0.0, \"rbc\": \"normal\", \"pc\": \"normal\", \"pcc\": \"notpresent\", \"ba\": \"notpresent\", \"bgr\": 127.0, \"bu\": 48.0, \"sc\": 0.5, \"sod\": 150.0, \"pot\": 3.5, \"hemo\": 15.1, \"pcv\": 52.0, \"wbcc\": 11000.0, \"rbcc\": 4.7, \"htn\": \"no\", \"dm\": \"no\", \"cad\": \"no\", \"appet\": \"good\", \"pe\": \"no\", \"ane\": \"no\", \"class\": \"notckd\"}, {\"age\": 45.0, \"bp\": 60.0, \"sg\": 1.02, \"al\": 0.0, \"su\": 0.0, \"rbc\": \"normal\", \"pc\": \"normal\", \"pcc\": \"notpresent\", \"ba\": \"notpresent\", \"bgr\": 114.0, \"bu\": 26.0, \"sc\": 0.7, \"sod\": 141.0, \"pot\": 4.2, \"hemo\": 15.0, \"pcv\": 43.0, \"wbcc\": 9200.0, \"rbcc\": 5.8, \"htn\": \"no\", \"dm\": \"no\", \"cad\": \"no\", \"appet\": \"good\", \"pe\": \"no\", \"ane\": \"no\", \"class\": \"notckd\"}, {\"age\": 44.0, \"bp\": 60.0, \"sg\": 1.025, \"al\": 0.0, \"su\": 0.0, \"rbc\": \"normal\", \"pc\": \"normal\", \"pcc\": \"notpresent\", \"ba\": \"notpresent\", \"bgr\": 96.0, \"bu\": 33.0, \"sc\": 0.9, \"sod\": 147.0, \"pot\": 4.5, \"hemo\": 16.9, \"pcv\": 41.0, \"wbcc\": 7200.0, \"rbcc\": 5.0, \"htn\": \"no\", \"dm\": \"no\", \"cad\": \"no\", \"appet\": \"good\", \"pe\": \"no\", \"ane\": \"no\", \"class\": \"notckd\"}, {\"age\": 29.0, \"bp\": 70.0, \"sg\": 1.02, \"al\": 0.0, \"su\": 0.0, \"rbc\": \"normal\", \"pc\": \"normal\", \"pcc\": \"notpresent\", \"ba\": \"notpresent\", \"bgr\": 127.0, \"bu\": 44.0, \"sc\": 1.2, \"sod\": 145.0, \"pot\": 5.0, \"hemo\": 14.8, \"pcv\": 48.0, \"wbcc\": 7900.0, \"rbcc\": 4.9, \"htn\": \"no\", \"dm\": \"no\", \"cad\": \"no\", \"appet\": \"good\", \"pe\": \"no\", \"ane\": \"no\", \"class\": \"notckd\"}, {\"age\": 55.0, \"bp\": 70.0, \"sg\": 1.02, \"al\": 0.0, \"su\": 0.0, \"rbc\": \"normal\", \"pc\": \"normal\", \"pcc\": \"notpresent\", \"ba\": \"notpresent\", \"bgr\": 107.0, \"bu\": 26.0, \"sc\": 1.1, \"sod\": 139.0, \"pot\": 4.5, \"hemo\": 17.0, \"pcv\": 50.0, \"wbcc\": 6700.0, \"rbcc\": 6.1, \"htn\": \"no\", \"dm\": \"no\", \"cad\": \"no\", \"appet\": \"good\", \"pe\": \"no\", \"ane\": \"no\", \"class\": \"notckd\"}, {\"age\": 33.0, \"bp\": 80.0, \"sg\": 1.025, \"al\": 0.0, \"su\": 0.0, \"rbc\": \"normal\", \"pc\": \"normal\", \"pcc\": \"notpresent\", \"ba\": \"notpresent\", \"bgr\": 128.0, \"bu\": 38.0, \"sc\": 0.6, \"sod\": 135.0, \"pot\": 3.9, \"hemo\": 13.1, \"pcv\": 45.0, \"wbcc\": 6200.0, \"rbcc\": 4.5, \"htn\": \"no\", \"dm\": \"no\", \"cad\": \"no\", \"appet\": \"good\", \"pe\": \"no\", \"ane\": \"no\", \"class\": \"notckd\"}, {\"age\": 41.0, \"bp\": 80.0, \"sg\": 1.02, \"al\": 0.0, \"su\": 0.0, \"rbc\": \"normal\", \"pc\": \"normal\", \"pcc\": \"notpresent\", \"ba\": \"notpresent\", \"bgr\": 122.0, \"bu\": 25.0, \"sc\": 0.8, \"sod\": 138.0, \"pot\": 5.0, \"hemo\": 17.1, \"pcv\": 41.0, \"wbcc\": 9100.0, \"rbcc\": 5.2, \"htn\": \"no\", \"dm\": \"no\", \"cad\": \"no\", \"appet\": \"good\", \"pe\": \"no\", \"ane\": \"no\", \"class\": \"notckd\"}, {\"age\": 52.0, \"bp\": 80.0, \"sg\": 1.02, \"al\": 0.0, \"su\": 0.0, \"rbc\": \"normal\", \"pc\": \"normal\", \"pcc\": \"notpresent\", \"ba\": \"notpresent\", \"bgr\": 128.0, \"bu\": 30.0, \"sc\": 1.2, \"sod\": 140.0, \"pot\": 4.5, \"hemo\": 15.2, \"pcv\": 52.0, \"wbcc\": 4300.0, \"rbcc\": 5.7, \"htn\": \"no\", \"dm\": \"no\", \"cad\": \"no\", \"appet\": \"good\", \"pe\": \"no\", \"ane\": \"no\", \"class\": \"notckd\"}, {\"age\": 47.0, \"bp\": 60.0, \"sg\": 1.02, \"al\": 0.0, \"su\": 0.0, \"rbc\": \"normal\", \"pc\": \"normal\", \"pcc\": \"notpresent\", \"ba\": \"notpresent\", \"bgr\": 137.0, \"bu\": 17.0, \"sc\": 0.5, \"sod\": 150.0, \"pot\": 3.5, \"hemo\": 13.6, \"pcv\": 44.0, \"wbcc\": 7900.0, \"rbcc\": 4.5, \"htn\": \"no\", \"dm\": \"no\", \"cad\": \"no\", \"appet\": \"good\", \"pe\": \"no\", \"ane\": \"no\", \"class\": \"notckd\"}, {\"age\": 43.0, \"bp\": 80.0, \"sg\": 1.025, \"al\": 0.0, \"su\": 0.0, \"rbc\": \"normal\", \"pc\": \"normal\", \"pcc\": \"notpresent\", \"ba\": \"notpresent\", \"bgr\": 81.0, \"bu\": 46.0, \"sc\": 0.6, \"sod\": 135.0, \"pot\": 4.9, \"hemo\": 13.9, \"pcv\": 48.0, \"wbcc\": 6900.0, \"rbcc\": 4.9, \"htn\": \"no\", \"dm\": \"no\", \"cad\": \"no\", \"appet\": \"good\", \"pe\": \"no\", \"ane\": \"no\", \"class\": \"notckd\"}, {\"age\": 46.0, \"bp\": 60.0, \"sg\": 1.02, \"al\": 0.0, \"su\": 0.0, \"rbc\": \"normal\", \"pc\": \"normal\", \"pcc\": \"notpresent\", \"ba\": \"notpresent\", \"bgr\": 102.0, \"bu\": 27.0, \"sc\": 0.7, \"sod\": 142.0, \"pot\": 4.9, \"hemo\": 13.2, \"pcv\": 44.0, \"wbcc\": 11000.0, \"rbcc\": 5.4, \"htn\": \"no\", \"dm\": \"no\", \"cad\": \"no\", \"appet\": \"good\", \"pe\": \"no\", \"ane\": \"no\", \"class\": \"notckd\"}, {\"age\": 56.0, \"bp\": 60.0, \"sg\": 1.025, \"al\": 0.0, \"su\": 0.0, \"rbc\": \"normal\", \"pc\": \"normal\", \"pcc\": \"notpresent\", \"ba\": \"notpresent\", \"bgr\": 132.0, \"bu\": 18.0, \"sc\": 1.1, \"sod\": 147.0, \"pot\": 4.7, \"hemo\": 13.7, \"pcv\": 45.0, \"wbcc\": 7500.0, \"rbcc\": 5.6, \"htn\": \"no\", \"dm\": \"no\", \"cad\": \"no\", \"appet\": \"good\", \"pe\": \"no\", \"ane\": \"no\", \"class\": \"notckd\"}, {\"age\": 80.0, \"bp\": 70.0, \"sg\": 1.02, \"al\": 0.0, \"su\": 0.0, \"rbc\": \"normal\", \"pc\": \"normal\", \"pcc\": \"notpresent\", \"ba\": \"notpresent\", \"bgr\": 119.0, \"bu\": 40.0, \"sc\": 1.15, \"sod\": 135.0, \"pot\": 4.1, \"hemo\": 15.3, \"pcv\": 48.0, \"wbcc\": 6300.0, \"rbcc\": 6.1, \"htn\": \"no\", \"dm\": \"no\", \"cad\": \"no\", \"appet\": \"good\", \"pe\": \"no\", \"ane\": \"no\", \"class\": \"notckd\"}, {\"age\": 55.0, \"bp\": 80.0, \"sg\": 1.02, \"al\": 0.0, \"su\": 0.0, \"rbc\": \"normal\", \"pc\": \"normal\", \"pcc\": \"notpresent\", \"ba\": \"notpresent\", \"bgr\": 104.0, \"bu\": 28.0, \"sc\": 0.9, \"sod\": 142.0, \"pot\": 4.8, \"hemo\": 17.3, \"pcv\": 52.0, \"wbcc\": 8200.0, \"rbcc\": 4.8, \"htn\": \"no\", \"dm\": \"no\", \"cad\": \"no\", \"appet\": \"good\", \"pe\": \"no\", \"ane\": \"no\", \"class\": \"notckd\"}, {\"age\": 39.0, \"bp\": 70.0, \"sg\": 1.025, \"al\": 0.0, \"su\": 0.0, \"rbc\": \"normal\", \"pc\": \"normal\", \"pcc\": \"notpresent\", \"ba\": \"notpresent\", \"bgr\": 131.0, \"bu\": 46.0, \"sc\": 0.6, \"sod\": 145.0, \"pot\": 5.0, \"hemo\": 15.6, \"pcv\": 41.0, \"wbcc\": 9400.0, \"rbcc\": 4.7, \"htn\": \"no\", \"dm\": \"no\", \"cad\": \"no\", \"appet\": \"good\", \"pe\": \"no\", \"ane\": \"no\", \"class\": \"notckd\"}, {\"age\": 44.0, \"bp\": 70.0, \"sg\": 1.025, \"al\": 0.0, \"su\": 0.0, \"rbc\": \"normal\", \"pc\": \"normal\", \"pcc\": \"notpresent\", \"ba\": \"notpresent\", \"bgr\": 119.0, \"bu\": 40.0, \"sc\": 1.15, \"sod\": 139.0, \"pot\": 4.5, \"hemo\": 13.8, \"pcv\": 48.0, \"wbcc\": 7800.0, \"rbcc\": 4.4, \"htn\": \"no\", \"dm\": \"no\", \"cad\": \"no\", \"appet\": \"good\", \"pe\": \"no\", \"ane\": \"no\", \"class\": \"notckd\"}, {\"age\": 35.0, \"bp\": 80.0, \"sg\": 1.02, \"al\": 0.0, \"su\": 0.0, \"rbc\": \"normal\", \"pc\": \"normal\", \"pcc\": \"notpresent\", \"ba\": \"notpresent\", \"bgr\": 99.0, \"bu\": 30.0, \"sc\": 0.5, \"sod\": 135.0, \"pot\": 4.9, \"hemo\": 15.4, \"pcv\": 48.0, \"wbcc\": 5000.0, \"rbcc\": 5.2, \"htn\": \"no\", \"dm\": \"no\", \"cad\": \"no\", \"appet\": \"good\", \"pe\": \"no\", \"ane\": \"no\", \"class\": \"notckd\"}, {\"age\": 58.0, \"bp\": 70.0, \"sg\": 1.02, \"al\": 0.0, \"su\": 0.0, \"rbc\": \"normal\", \"pc\": \"normal\", \"pcc\": \"notpresent\", \"ba\": \"notpresent\", \"bgr\": 102.0, \"bu\": 48.0, \"sc\": 1.2, \"sod\": 139.0, \"pot\": 4.3, \"hemo\": 15.0, \"pcv\": 40.0, \"wbcc\": 8100.0, \"rbcc\": 4.9, \"htn\": \"no\", \"dm\": \"no\", \"cad\": \"no\", \"appet\": \"good\", \"pe\": \"no\", \"ane\": \"no\", \"class\": \"notckd\"}, {\"age\": 61.0, \"bp\": 70.0, \"sg\": 1.025, \"al\": 0.0, \"su\": 0.0, \"rbc\": \"normal\", \"pc\": \"normal\", \"pcc\": \"notpresent\", \"ba\": \"notpresent\", \"bgr\": 120.0, \"bu\": 29.0, \"sc\": 0.7, \"sod\": 137.0, \"pot\": 3.5, \"hemo\": 17.4, \"pcv\": 52.0, \"wbcc\": 7000.0, \"rbcc\": 5.3, \"htn\": \"no\", \"dm\": \"no\", \"cad\": \"no\", \"appet\": \"good\", \"pe\": \"no\", \"ane\": \"no\", \"class\": \"notckd\"}, {\"age\": 30.0, \"bp\": 60.0, \"sg\": 1.02, \"al\": 0.0, \"su\": 0.0, \"rbc\": \"normal\", \"pc\": \"normal\", \"pcc\": \"notpresent\", \"ba\": \"notpresent\", \"bgr\": 138.0, \"bu\": 15.0, \"sc\": 1.1, \"sod\": 135.0, \"pot\": 4.4, \"hemo\": 13.85, \"pcv\": 42.0, \"wbcc\": 7900.0, \"rbcc\": 4.9, \"htn\": \"no\", \"dm\": \"no\", \"cad\": \"no\", \"appet\": \"good\", \"pe\": \"no\", \"ane\": \"no\", \"class\": \"notckd\"}, {\"age\": 57.0, \"bp\": 60.0, \"sg\": 1.02, \"al\": 0.0, \"su\": 0.0, \"rbc\": \"normal\", \"pc\": \"normal\", \"pcc\": \"notpresent\", \"ba\": \"notpresent\", \"bgr\": 105.0, \"bu\": 49.0, \"sc\": 1.2, \"sod\": 150.0, \"pot\": 4.7, \"hemo\": 15.7, \"pcv\": 44.0, \"wbcc\": 10400.0, \"rbcc\": 6.2, \"htn\": \"no\", \"dm\": \"no\", \"cad\": \"no\", \"appet\": \"good\", \"pe\": \"no\", \"ane\": \"no\", \"class\": \"notckd\"}, {\"age\": 65.0, \"bp\": 60.0, \"sg\": 1.02, \"al\": 0.0, \"su\": 0.0, \"rbc\": \"normal\", \"pc\": \"normal\", \"pcc\": \"notpresent\", \"ba\": \"notpresent\", \"bgr\": 109.0, \"bu\": 39.0, \"sc\": 1.0, \"sod\": 144.0, \"pot\": 3.5, \"hemo\": 13.9, \"pcv\": 48.0, \"wbcc\": 9600.0, \"rbcc\": 4.8, \"htn\": \"no\", \"dm\": \"no\", \"cad\": \"no\", \"appet\": \"good\", \"pe\": \"no\", \"ane\": \"no\", \"class\": \"notckd\"}, {\"age\": 43.0, \"bp\": 80.0, \"sg\": 1.025, \"al\": 0.0, \"su\": 0.0, \"rbc\": \"normal\", \"pc\": \"normal\", \"pcc\": \"notpresent\", \"ba\": \"notpresent\", \"bgr\": 130.0, \"bu\": 30.0, \"sc\": 1.1, \"sod\": 143.0, \"pot\": 5.0, \"hemo\": 15.9, \"pcv\": 45.0, \"wbcc\": 7800.0, \"rbcc\": 4.5, \"htn\": \"no\", \"dm\": \"no\", \"cad\": \"no\", \"appet\": \"good\", \"pe\": \"no\", \"ane\": \"no\", \"class\": \"notckd\"}, {\"age\": 40.0, \"bp\": 80.0, \"sg\": 1.02, \"al\": 0.0, \"su\": 0.0, \"rbc\": \"normal\", \"pc\": \"normal\", \"pcc\": \"notpresent\", \"ba\": \"notpresent\", \"bgr\": 119.0, \"bu\": 15.0, \"sc\": 0.7, \"sod\": 150.0, \"pot\": 4.9, \"hemo\": 13.85, \"pcv\": 42.0, \"wbcc\": 7900.0, \"rbcc\": 4.9, \"htn\": \"no\", \"dm\": \"no\", \"cad\": \"no\", \"appet\": \"good\", \"pe\": \"no\", \"ane\": \"no\", \"class\": \"notckd\"}, {\"age\": 58.0, \"bp\": 80.0, \"sg\": 1.02, \"al\": 0.0, \"su\": 0.0, \"rbc\": \"normal\", \"pc\": \"normal\", \"pcc\": \"notpresent\", \"ba\": \"notpresent\", \"bgr\": 100.0, \"bu\": 50.0, \"sc\": 1.2, \"sod\": 140.0, \"pot\": 3.5, \"hemo\": 14.0, \"pcv\": 50.0, \"wbcc\": 6700.0, \"rbcc\": 6.5, \"htn\": \"no\", \"dm\": \"no\", \"cad\": \"no\", \"appet\": \"good\", \"pe\": \"no\", \"ane\": \"no\", \"class\": \"notckd\"}, {\"age\": 47.0, \"bp\": 60.0, \"sg\": 1.02, \"al\": 0.0, \"su\": 0.0, \"rbc\": \"normal\", \"pc\": \"normal\", \"pcc\": \"notpresent\", \"ba\": \"notpresent\", \"bgr\": 109.0, \"bu\": 25.0, \"sc\": 1.1, \"sod\": 141.0, \"pot\": 4.7, \"hemo\": 15.8, \"pcv\": 41.0, \"wbcc\": 8300.0, \"rbcc\": 5.2, \"htn\": \"no\", \"dm\": \"no\", \"cad\": \"no\", \"appet\": \"good\", \"pe\": \"no\", \"ane\": \"no\", \"class\": \"notckd\"}, {\"age\": 30.0, \"bp\": 60.0, \"sg\": 1.025, \"al\": 0.0, \"su\": 0.0, \"rbc\": \"normal\", \"pc\": \"normal\", \"pcc\": \"notpresent\", \"ba\": \"notpresent\", \"bgr\": 120.0, \"bu\": 31.0, \"sc\": 0.8, \"sod\": 150.0, \"pot\": 4.6, \"hemo\": 13.4, \"pcv\": 44.0, \"wbcc\": 10700.0, \"rbcc\": 5.8, \"htn\": \"no\", \"dm\": \"no\", \"cad\": \"no\", \"appet\": \"good\", \"pe\": \"no\", \"ane\": \"no\", \"class\": \"notckd\"}, {\"age\": 28.0, \"bp\": 70.0, \"sg\": 1.02, \"al\": 0.0, \"su\": 0.0, \"rbc\": \"normal\", \"pc\": \"normal\", \"pcc\": \"notpresent\", \"ba\": \"notpresent\", \"bgr\": 131.0, \"bu\": 29.0, \"sc\": 0.6, \"sod\": 145.0, \"pot\": 4.9, \"hemo\": 13.85, \"pcv\": 45.0, \"wbcc\": 8600.0, \"rbcc\": 6.5, \"htn\": \"no\", \"dm\": \"no\", \"cad\": \"no\", \"appet\": \"good\", \"pe\": \"no\", \"ane\": \"no\", \"class\": \"notckd\"}, {\"age\": 33.0, \"bp\": 60.0, \"sg\": 1.025, \"al\": 0.0, \"su\": 0.0, \"rbc\": \"normal\", \"pc\": \"normal\", \"pcc\": \"notpresent\", \"ba\": \"notpresent\", \"bgr\": 80.0, \"bu\": 25.0, \"sc\": 0.9, \"sod\": 146.0, \"pot\": 3.5, \"hemo\": 14.1, \"pcv\": 48.0, \"wbcc\": 7800.0, \"rbcc\": 5.1, \"htn\": \"no\", \"dm\": \"no\", \"cad\": \"no\", \"appet\": \"good\", \"pe\": \"no\", \"ane\": \"no\", \"class\": \"notckd\"}, {\"age\": 43.0, \"bp\": 80.0, \"sg\": 1.02, \"al\": 0.0, \"su\": 0.0, \"rbc\": \"normal\", \"pc\": \"normal\", \"pcc\": \"notpresent\", \"ba\": \"notpresent\", \"bgr\": 114.0, \"bu\": 32.0, \"sc\": 1.1, \"sod\": 135.0, \"pot\": 3.9, \"hemo\": 13.85, \"pcv\": 42.0, \"wbcc\": 7900.0, \"rbcc\": 4.9, \"htn\": \"no\", \"dm\": \"no\", \"cad\": \"no\", \"appet\": \"good\", \"pe\": \"no\", \"ane\": \"no\", \"class\": \"notckd\"}, {\"age\": 59.0, \"bp\": 70.0, \"sg\": 1.025, \"al\": 0.0, \"su\": 0.0, \"rbc\": \"normal\", \"pc\": \"normal\", \"pcc\": \"notpresent\", \"ba\": \"notpresent\", \"bgr\": 130.0, \"bu\": 39.0, \"sc\": 0.7, \"sod\": 147.0, \"pot\": 4.7, \"hemo\": 13.5, \"pcv\": 46.0, \"wbcc\": 6700.0, \"rbcc\": 4.5, \"htn\": \"no\", \"dm\": \"no\", \"cad\": \"no\", \"appet\": \"good\", \"pe\": \"no\", \"ane\": \"no\", \"class\": \"notckd\"}, {\"age\": 34.0, \"bp\": 70.0, \"sg\": 1.025, \"al\": 0.0, \"su\": 0.0, \"rbc\": \"normal\", \"pc\": \"normal\", \"pcc\": \"notpresent\", \"ba\": \"notpresent\", \"bgr\": 119.0, \"bu\": 33.0, \"sc\": 1.0, \"sod\": 150.0, \"pot\": 5.0, \"hemo\": 15.3, \"pcv\": 44.0, \"wbcc\": 10500.0, \"rbcc\": 6.1, \"htn\": \"no\", \"dm\": \"no\", \"cad\": \"no\", \"appet\": \"good\", \"pe\": \"no\", \"ane\": \"no\", \"class\": \"notckd\"}, {\"age\": 23.0, \"bp\": 80.0, \"sg\": 1.02, \"al\": 0.0, \"su\": 0.0, \"rbc\": \"normal\", \"pc\": \"normal\", \"pcc\": \"notpresent\", \"ba\": \"notpresent\", \"bgr\": 99.0, \"bu\": 46.0, \"sc\": 1.2, \"sod\": 142.0, \"pot\": 4.0, \"hemo\": 17.7, \"pcv\": 46.0, \"wbcc\": 4300.0, \"rbcc\": 5.5, \"htn\": \"no\", \"dm\": \"no\", \"cad\": \"no\", \"appet\": \"good\", \"pe\": \"no\", \"ane\": \"no\", \"class\": \"notckd\"}, {\"age\": 24.0, \"bp\": 80.0, \"sg\": 1.025, \"al\": 0.0, \"su\": 0.0, \"rbc\": \"normal\", \"pc\": \"normal\", \"pcc\": \"notpresent\", \"ba\": \"notpresent\", \"bgr\": 125.0, \"bu\": 40.0, \"sc\": 1.15, \"sod\": 136.0, \"pot\": 3.5, \"hemo\": 15.4, \"pcv\": 43.0, \"wbcc\": 5600.0, \"rbcc\": 4.5, \"htn\": \"no\", \"dm\": \"no\", \"cad\": \"no\", \"appet\": \"good\", \"pe\": \"no\", \"ane\": \"no\", \"class\": \"notckd\"}, {\"age\": 60.0, \"bp\": 60.0, \"sg\": 1.02, \"al\": 0.0, \"su\": 0.0, \"rbc\": \"normal\", \"pc\": \"normal\", \"pcc\": \"notpresent\", \"ba\": \"notpresent\", \"bgr\": 134.0, \"bu\": 45.0, \"sc\": 0.5, \"sod\": 139.0, \"pot\": 4.8, \"hemo\": 14.2, \"pcv\": 48.0, \"wbcc\": 10700.0, \"rbcc\": 5.6, \"htn\": \"no\", \"dm\": \"no\", \"cad\": \"no\", \"appet\": \"good\", \"pe\": \"no\", \"ane\": \"no\", \"class\": \"notckd\"}, {\"age\": 25.0, \"bp\": 60.0, \"sg\": 1.02, \"al\": 0.0, \"su\": 0.0, \"rbc\": \"normal\", \"pc\": \"normal\", \"pcc\": \"notpresent\", \"ba\": \"notpresent\", \"bgr\": 119.0, \"bu\": 27.0, \"sc\": 0.5, \"sod\": 139.0, \"pot\": 4.5, \"hemo\": 15.2, \"pcv\": 40.0, \"wbcc\": 9200.0, \"rbcc\": 5.2, \"htn\": \"no\", \"dm\": \"no\", \"cad\": \"no\", \"appet\": \"good\", \"pe\": \"no\", \"ane\": \"no\", \"class\": \"notckd\"}, {\"age\": 44.0, \"bp\": 70.0, \"sg\": 1.025, \"al\": 0.0, \"su\": 0.0, \"rbc\": \"normal\", \"pc\": \"normal\", \"pcc\": \"notpresent\", \"ba\": \"notpresent\", \"bgr\": 92.0, \"bu\": 40.0, \"sc\": 0.9, \"sod\": 141.0, \"pot\": 4.9, \"hemo\": 14.0, \"pcv\": 52.0, \"wbcc\": 7500.0, \"rbcc\": 6.2, \"htn\": \"no\", \"dm\": \"no\", \"cad\": \"no\", \"appet\": \"good\", \"pe\": \"no\", \"ane\": \"no\", \"class\": \"notckd\"}, {\"age\": 62.0, \"bp\": 80.0, \"sg\": 1.02, \"al\": 0.0, \"su\": 0.0, \"rbc\": \"normal\", \"pc\": \"normal\", \"pcc\": \"notpresent\", \"ba\": \"notpresent\", \"bgr\": 132.0, \"bu\": 34.0, \"sc\": 0.8, \"sod\": 147.0, \"pot\": 3.5, \"hemo\": 17.8, \"pcv\": 44.0, \"wbcc\": 4700.0, \"rbcc\": 4.5, \"htn\": \"no\", \"dm\": \"no\", \"cad\": \"no\", \"appet\": \"good\", \"pe\": \"no\", \"ane\": \"no\", \"class\": \"notckd\"}, {\"age\": 25.0, \"bp\": 70.0, \"sg\": 1.02, \"al\": 0.0, \"su\": 0.0, \"rbc\": \"normal\", \"pc\": \"normal\", \"pcc\": \"notpresent\", \"ba\": \"notpresent\", \"bgr\": 88.0, \"bu\": 42.0, \"sc\": 0.5, \"sod\": 136.0, \"pot\": 3.5, \"hemo\": 13.3, \"pcv\": 48.0, \"wbcc\": 7000.0, \"rbcc\": 4.9, \"htn\": \"no\", \"dm\": \"no\", \"cad\": \"no\", \"appet\": \"good\", \"pe\": \"no\", \"ane\": \"no\", \"class\": \"notckd\"}, {\"age\": 32.0, \"bp\": 70.0, \"sg\": 1.025, \"al\": 0.0, \"su\": 0.0, \"rbc\": \"normal\", \"pc\": \"normal\", \"pcc\": \"notpresent\", \"ba\": \"notpresent\", \"bgr\": 100.0, \"bu\": 29.0, \"sc\": 1.1, \"sod\": 142.0, \"pot\": 4.5, \"hemo\": 14.3, \"pcv\": 43.0, \"wbcc\": 6700.0, \"rbcc\": 5.9, \"htn\": \"no\", \"dm\": \"no\", \"cad\": \"no\", \"appet\": \"good\", \"pe\": \"no\", \"ane\": \"no\", \"class\": \"notckd\"}, {\"age\": 63.0, \"bp\": 70.0, \"sg\": 1.025, \"al\": 0.0, \"su\": 0.0, \"rbc\": \"normal\", \"pc\": \"normal\", \"pcc\": \"notpresent\", \"ba\": \"notpresent\", \"bgr\": 130.0, \"bu\": 37.0, \"sc\": 0.9, \"sod\": 150.0, \"pot\": 5.0, \"hemo\": 13.4, \"pcv\": 41.0, \"wbcc\": 7300.0, \"rbcc\": 4.7, \"htn\": \"no\", \"dm\": \"no\", \"cad\": \"no\", \"appet\": \"good\", \"pe\": \"no\", \"ane\": \"no\", \"class\": \"notckd\"}, {\"age\": 44.0, \"bp\": 60.0, \"sg\": 1.02, \"al\": 0.0, \"su\": 0.0, \"rbc\": \"normal\", \"pc\": \"normal\", \"pcc\": \"notpresent\", \"ba\": \"notpresent\", \"bgr\": 95.0, \"bu\": 46.0, \"sc\": 0.5, \"sod\": 138.0, \"pot\": 4.2, \"hemo\": 15.0, \"pcv\": 50.0, \"wbcc\": 7700.0, \"rbcc\": 6.3, \"htn\": \"no\", \"dm\": \"no\", \"cad\": \"no\", \"appet\": \"good\", \"pe\": \"no\", \"ane\": \"no\", \"class\": \"notckd\"}, {\"age\": 37.0, \"bp\": 60.0, \"sg\": 1.025, \"al\": 0.0, \"su\": 0.0, \"rbc\": \"normal\", \"pc\": \"normal\", \"pcc\": \"notpresent\", \"ba\": \"notpresent\", \"bgr\": 111.0, \"bu\": 35.0, \"sc\": 0.8, \"sod\": 135.0, \"pot\": 4.1, \"hemo\": 16.2, \"pcv\": 50.0, \"wbcc\": 5500.0, \"rbcc\": 5.7, \"htn\": \"no\", \"dm\": \"no\", \"cad\": \"no\", \"appet\": \"good\", \"pe\": \"no\", \"ane\": \"no\", \"class\": \"notckd\"}, {\"age\": 64.0, \"bp\": 60.0, \"sg\": 1.02, \"al\": 0.0, \"su\": 0.0, \"rbc\": \"normal\", \"pc\": \"normal\", \"pcc\": \"notpresent\", \"ba\": \"notpresent\", \"bgr\": 106.0, \"bu\": 27.0, \"sc\": 0.7, \"sod\": 150.0, \"pot\": 3.3, \"hemo\": 14.4, \"pcv\": 42.0, \"wbcc\": 8100.0, \"rbcc\": 4.7, \"htn\": \"no\", \"dm\": \"no\", \"cad\": \"no\", \"appet\": \"good\", \"pe\": \"no\", \"ane\": \"no\", \"class\": \"notckd\"}, {\"age\": 22.0, \"bp\": 60.0, \"sg\": 1.025, \"al\": 0.0, \"su\": 0.0, \"rbc\": \"normal\", \"pc\": \"normal\", \"pcc\": \"notpresent\", \"ba\": \"notpresent\", \"bgr\": 97.0, \"bu\": 18.0, \"sc\": 1.2, \"sod\": 138.0, \"pot\": 4.3, \"hemo\": 13.5, \"pcv\": 42.0, \"wbcc\": 7900.0, \"rbcc\": 6.4, \"htn\": \"no\", \"dm\": \"no\", \"cad\": \"no\", \"appet\": \"good\", \"pe\": \"no\", \"ane\": \"no\", \"class\": \"notckd\"}, {\"age\": 33.0, \"bp\": 60.0, \"sg\": 1.02, \"al\": 0.0, \"su\": 0.0, \"rbc\": \"normal\", \"pc\": \"normal\", \"pcc\": \"notpresent\", \"ba\": \"notpresent\", \"bgr\": 130.0, \"bu\": 41.0, \"sc\": 0.9, \"sod\": 141.0, \"pot\": 4.4, \"hemo\": 15.5, \"pcv\": 52.0, \"wbcc\": 4300.0, \"rbcc\": 5.8, \"htn\": \"no\", \"dm\": \"no\", \"cad\": \"no\", \"appet\": \"good\", \"pe\": \"no\", \"ane\": \"no\", \"class\": \"notckd\"}, {\"age\": 43.0, \"bp\": 60.0, \"sg\": 1.025, \"al\": 0.0, \"su\": 0.0, \"rbc\": \"normal\", \"pc\": \"normal\", \"pcc\": \"notpresent\", \"ba\": \"notpresent\", \"bgr\": 108.0, \"bu\": 25.0, \"sc\": 1.0, \"sod\": 144.0, \"pot\": 5.0, \"hemo\": 17.8, \"pcv\": 43.0, \"wbcc\": 7200.0, \"rbcc\": 5.5, \"htn\": \"no\", \"dm\": \"no\", \"cad\": \"no\", \"appet\": \"good\", \"pe\": \"no\", \"ane\": \"no\", \"class\": \"notckd\"}, {\"age\": 38.0, \"bp\": 80.0, \"sg\": 1.02, \"al\": 0.0, \"su\": 0.0, \"rbc\": \"normal\", \"pc\": \"normal\", \"pcc\": \"notpresent\", \"ba\": \"notpresent\", \"bgr\": 99.0, \"bu\": 19.0, \"sc\": 0.5, \"sod\": 147.0, \"pot\": 3.5, \"hemo\": 13.6, \"pcv\": 44.0, \"wbcc\": 7300.0, \"rbcc\": 6.4, \"htn\": \"no\", \"dm\": \"no\", \"cad\": \"no\", \"appet\": \"good\", \"pe\": \"no\", \"ane\": \"no\", \"class\": \"notckd\"}, {\"age\": 29.0, \"bp\": 80.0, \"sg\": 1.02, \"al\": 0.0, \"su\": 0.0, \"rbc\": \"normal\", \"pc\": \"normal\", \"pcc\": \"notpresent\", \"ba\": \"notpresent\", \"bgr\": 83.0, \"bu\": 49.0, \"sc\": 0.9, \"sod\": 139.0, \"pot\": 3.3, \"hemo\": 17.5, \"pcv\": 40.0, \"wbcc\": 9900.0, \"rbcc\": 4.7, \"htn\": \"no\", \"dm\": \"no\", \"cad\": \"no\", \"appet\": \"good\", \"pe\": \"no\", \"ane\": \"no\", \"class\": \"notckd\"}, {\"age\": 37.0, \"bp\": 60.0, \"sg\": 1.02, \"al\": 0.0, \"su\": 0.0, \"rbc\": \"normal\", \"pc\": \"normal\", \"pcc\": \"notpresent\", \"ba\": \"notpresent\", \"bgr\": 109.0, \"bu\": 47.0, \"sc\": 1.1, \"sod\": 141.0, \"pot\": 4.9, \"hemo\": 15.0, \"pcv\": 48.0, \"wbcc\": 7000.0, \"rbcc\": 5.2, \"htn\": \"no\", \"dm\": \"no\", \"cad\": \"no\", \"appet\": \"good\", \"pe\": \"no\", \"ane\": \"no\", \"class\": \"notckd\"}, {\"age\": 39.0, \"bp\": 60.0, \"sg\": 1.02, \"al\": 0.0, \"su\": 0.0, \"rbc\": \"normal\", \"pc\": \"normal\", \"pcc\": \"notpresent\", \"ba\": \"notpresent\", \"bgr\": 86.0, \"bu\": 37.0, \"sc\": 0.6, \"sod\": 150.0, \"pot\": 5.0, \"hemo\": 13.6, \"pcv\": 51.0, \"wbcc\": 5800.0, \"rbcc\": 4.5, \"htn\": \"no\", \"dm\": \"no\", \"cad\": \"no\", \"appet\": \"good\", \"pe\": \"no\", \"ane\": \"no\", \"class\": \"notckd\"}, {\"age\": 32.0, \"bp\": 60.0, \"sg\": 1.025, \"al\": 0.0, \"su\": 0.0, \"rbc\": \"normal\", \"pc\": \"normal\", \"pcc\": \"notpresent\", \"ba\": \"notpresent\", \"bgr\": 102.0, \"bu\": 17.0, \"sc\": 0.4, \"sod\": 147.0, \"pot\": 4.7, \"hemo\": 14.6, \"pcv\": 41.0, \"wbcc\": 6800.0, \"rbcc\": 5.1, \"htn\": \"no\", \"dm\": \"no\", \"cad\": \"no\", \"appet\": \"good\", \"pe\": \"no\", \"ane\": \"no\", \"class\": \"notckd\"}, {\"age\": 23.0, \"bp\": 60.0, \"sg\": 1.02, \"al\": 0.0, \"su\": 0.0, \"rbc\": \"normal\", \"pc\": \"normal\", \"pcc\": \"notpresent\", \"ba\": \"notpresent\", \"bgr\": 95.0, \"bu\": 24.0, \"sc\": 0.8, \"sod\": 145.0, \"pot\": 5.0, \"hemo\": 15.0, \"pcv\": 52.0, \"wbcc\": 6300.0, \"rbcc\": 4.6, \"htn\": \"no\", \"dm\": \"no\", \"cad\": \"no\", \"appet\": \"good\", \"pe\": \"no\", \"ane\": \"no\", \"class\": \"notckd\"}, {\"age\": 34.0, \"bp\": 70.0, \"sg\": 1.025, \"al\": 0.0, \"su\": 0.0, \"rbc\": \"normal\", \"pc\": \"normal\", \"pcc\": \"notpresent\", \"ba\": \"notpresent\", \"bgr\": 87.0, \"bu\": 38.0, \"sc\": 0.5, \"sod\": 144.0, \"pot\": 4.8, \"hemo\": 17.1, \"pcv\": 47.0, \"wbcc\": 7400.0, \"rbcc\": 6.1, \"htn\": \"no\", \"dm\": \"no\", \"cad\": \"no\", \"appet\": \"good\", \"pe\": \"no\", \"ane\": \"no\", \"class\": \"notckd\"}, {\"age\": 66.0, \"bp\": 70.0, \"sg\": 1.025, \"al\": 0.0, \"su\": 0.0, \"rbc\": \"normal\", \"pc\": \"normal\", \"pcc\": \"notpresent\", \"ba\": \"notpresent\", \"bgr\": 107.0, \"bu\": 16.0, \"sc\": 1.1, \"sod\": 140.0, \"pot\": 3.6, \"hemo\": 13.6, \"pcv\": 42.0, \"wbcc\": 11000.0, \"rbcc\": 4.9, \"htn\": \"no\", \"dm\": \"no\", \"cad\": \"no\", \"appet\": \"good\", \"pe\": \"no\", \"ane\": \"no\", \"class\": \"notckd\"}, {\"age\": 47.0, \"bp\": 60.0, \"sg\": 1.02, \"al\": 0.0, \"su\": 0.0, \"rbc\": \"normal\", \"pc\": \"normal\", \"pcc\": \"notpresent\", \"ba\": \"notpresent\", \"bgr\": 117.0, \"bu\": 22.0, \"sc\": 1.2, \"sod\": 138.0, \"pot\": 3.5, \"hemo\": 13.0, \"pcv\": 45.0, \"wbcc\": 5200.0, \"rbcc\": 5.6, \"htn\": \"no\", \"dm\": \"no\", \"cad\": \"no\", \"appet\": \"good\", \"pe\": \"no\", \"ane\": \"no\", \"class\": \"notckd\"}, {\"age\": 74.0, \"bp\": 60.0, \"sg\": 1.02, \"al\": 0.0, \"su\": 0.0, \"rbc\": \"normal\", \"pc\": \"normal\", \"pcc\": \"notpresent\", \"ba\": \"notpresent\", \"bgr\": 88.0, \"bu\": 50.0, \"sc\": 0.6, \"sod\": 147.0, \"pot\": 3.7, \"hemo\": 17.2, \"pcv\": 53.0, \"wbcc\": 6000.0, \"rbcc\": 4.5, \"htn\": \"no\", \"dm\": \"no\", \"cad\": \"no\", \"appet\": \"good\", \"pe\": \"no\", \"ane\": \"no\", \"class\": \"notckd\"}, {\"age\": 35.0, \"bp\": 60.0, \"sg\": 1.025, \"al\": 0.0, \"su\": 0.0, \"rbc\": \"normal\", \"pc\": \"normal\", \"pcc\": \"notpresent\", \"ba\": \"notpresent\", \"bgr\": 105.0, \"bu\": 39.0, \"sc\": 0.5, \"sod\": 135.0, \"pot\": 3.9, \"hemo\": 14.7, \"pcv\": 43.0, \"wbcc\": 5800.0, \"rbcc\": 6.2, \"htn\": \"no\", \"dm\": \"no\", \"cad\": \"no\", \"appet\": \"good\", \"pe\": \"no\", \"ane\": \"no\", \"class\": \"notckd\"}, {\"age\": 29.0, \"bp\": 80.0, \"sg\": 1.02, \"al\": 0.0, \"su\": 0.0, \"rbc\": \"normal\", \"pc\": \"normal\", \"pcc\": \"notpresent\", \"ba\": \"notpresent\", \"bgr\": 70.0, \"bu\": 16.0, \"sc\": 0.7, \"sod\": 138.0, \"pot\": 3.5, \"hemo\": 13.7, \"pcv\": 54.0, \"wbcc\": 5400.0, \"rbcc\": 5.8, \"htn\": \"no\", \"dm\": \"no\", \"cad\": \"no\", \"appet\": \"good\", \"pe\": \"no\", \"ane\": \"no\", \"class\": \"notckd\"}, {\"age\": 33.0, \"bp\": 80.0, \"sg\": 1.025, \"al\": 0.0, \"su\": 0.0, \"rbc\": \"normal\", \"pc\": \"normal\", \"pcc\": \"notpresent\", \"ba\": \"notpresent\", \"bgr\": 89.0, \"bu\": 19.0, \"sc\": 1.1, \"sod\": 144.0, \"pot\": 5.0, \"hemo\": 15.0, \"pcv\": 40.0, \"wbcc\": 10300.0, \"rbcc\": 4.8, \"htn\": \"no\", \"dm\": \"no\", \"cad\": \"no\", \"appet\": \"good\", \"pe\": \"no\", \"ane\": \"no\", \"class\": \"notckd\"}, {\"age\": 67.0, \"bp\": 80.0, \"sg\": 1.025, \"al\": 0.0, \"su\": 0.0, \"rbc\": \"normal\", \"pc\": \"normal\", \"pcc\": \"notpresent\", \"ba\": \"notpresent\", \"bgr\": 99.0, \"bu\": 40.0, \"sc\": 0.5, \"sod\": 139.0, \"pot\": 4.5, \"hemo\": 17.8, \"pcv\": 44.0, \"wbcc\": 5900.0, \"rbcc\": 5.2, \"htn\": \"no\", \"dm\": \"no\", \"cad\": \"no\", \"appet\": \"good\", \"pe\": \"no\", \"ane\": \"no\", \"class\": \"notckd\"}, {\"age\": 73.0, \"bp\": 80.0, \"sg\": 1.025, \"al\": 0.0, \"su\": 0.0, \"rbc\": \"normal\", \"pc\": \"normal\", \"pcc\": \"notpresent\", \"ba\": \"notpresent\", \"bgr\": 118.0, \"bu\": 44.0, \"sc\": 0.7, \"sod\": 137.0, \"pot\": 3.5, \"hemo\": 14.8, \"pcv\": 45.0, \"wbcc\": 9300.0, \"rbcc\": 4.7, \"htn\": \"no\", \"dm\": \"no\", \"cad\": \"no\", \"appet\": \"good\", \"pe\": \"no\", \"ane\": \"no\", \"class\": \"notckd\"}, {\"age\": 24.0, \"bp\": 80.0, \"sg\": 1.02, \"al\": 0.0, \"su\": 0.0, \"rbc\": \"normal\", \"pc\": \"normal\", \"pcc\": \"notpresent\", \"ba\": \"notpresent\", \"bgr\": 93.0, \"bu\": 46.0, \"sc\": 1.0, \"sod\": 145.0, \"pot\": 3.5, \"hemo\": 13.85, \"pcv\": 42.0, \"wbcc\": 10700.0, \"rbcc\": 6.3, \"htn\": \"no\", \"dm\": \"no\", \"cad\": \"no\", \"appet\": \"good\", \"pe\": \"no\", \"ane\": \"no\", \"class\": \"notckd\"}, {\"age\": 60.0, \"bp\": 80.0, \"sg\": 1.025, \"al\": 0.0, \"su\": 0.0, \"rbc\": \"normal\", \"pc\": \"normal\", \"pcc\": \"notpresent\", \"ba\": \"notpresent\", \"bgr\": 81.0, \"bu\": 15.0, \"sc\": 0.5, \"sod\": 141.0, \"pot\": 3.6, \"hemo\": 15.0, \"pcv\": 46.0, \"wbcc\": 10500.0, \"rbcc\": 5.3, \"htn\": \"no\", \"dm\": \"no\", \"cad\": \"no\", \"appet\": \"good\", \"pe\": \"no\", \"ane\": \"no\", \"class\": \"notckd\"}, {\"age\": 68.0, \"bp\": 60.0, \"sg\": 1.025, \"al\": 0.0, \"su\": 0.0, \"rbc\": \"normal\", \"pc\": \"normal\", \"pcc\": \"notpresent\", \"ba\": \"notpresent\", \"bgr\": 125.0, \"bu\": 41.0, \"sc\": 1.1, \"sod\": 139.0, \"pot\": 3.8, \"hemo\": 17.4, \"pcv\": 50.0, \"wbcc\": 6700.0, \"rbcc\": 6.1, \"htn\": \"no\", \"dm\": \"no\", \"cad\": \"no\", \"appet\": \"good\", \"pe\": \"no\", \"ane\": \"no\", \"class\": \"notckd\"}, {\"age\": 30.0, \"bp\": 80.0, \"sg\": 1.025, \"al\": 0.0, \"su\": 0.0, \"rbc\": \"normal\", \"pc\": \"normal\", \"pcc\": \"notpresent\", \"ba\": \"notpresent\", \"bgr\": 82.0, \"bu\": 42.0, \"sc\": 0.7, \"sod\": 146.0, \"pot\": 5.0, \"hemo\": 14.9, \"pcv\": 45.0, \"wbcc\": 9400.0, \"rbcc\": 5.9, \"htn\": \"no\", \"dm\": \"no\", \"cad\": \"no\", \"appet\": \"good\", \"pe\": \"no\", \"ane\": \"no\", \"class\": \"notckd\"}, {\"age\": 75.0, \"bp\": 70.0, \"sg\": 1.02, \"al\": 0.0, \"su\": 0.0, \"rbc\": \"normal\", \"pc\": \"normal\", \"pcc\": \"notpresent\", \"ba\": \"notpresent\", \"bgr\": 107.0, \"bu\": 48.0, \"sc\": 0.8, \"sod\": 144.0, \"pot\": 3.5, \"hemo\": 13.6, \"pcv\": 46.0, \"wbcc\": 10300.0, \"rbcc\": 4.8, \"htn\": \"no\", \"dm\": \"no\", \"cad\": \"no\", \"appet\": \"good\", \"pe\": \"no\", \"ane\": \"no\", \"class\": \"notckd\"}, {\"age\": 69.0, \"bp\": 70.0, \"sg\": 1.02, \"al\": 0.0, \"su\": 0.0, \"rbc\": \"normal\", \"pc\": \"normal\", \"pcc\": \"notpresent\", \"ba\": \"notpresent\", \"bgr\": 83.0, \"bu\": 42.0, \"sc\": 1.2, \"sod\": 139.0, \"pot\": 3.7, \"hemo\": 16.2, \"pcv\": 50.0, \"wbcc\": 9300.0, \"rbcc\": 5.4, \"htn\": \"no\", \"dm\": \"no\", \"cad\": \"no\", \"appet\": \"good\", \"pe\": \"no\", \"ane\": \"no\", \"class\": \"notckd\"}, {\"age\": 28.0, \"bp\": 60.0, \"sg\": 1.025, \"al\": 0.0, \"su\": 0.0, \"rbc\": \"normal\", \"pc\": \"normal\", \"pcc\": \"notpresent\", \"ba\": \"notpresent\", \"bgr\": 79.0, \"bu\": 50.0, \"sc\": 0.5, \"sod\": 145.0, \"pot\": 5.0, \"hemo\": 17.6, \"pcv\": 51.0, \"wbcc\": 6500.0, \"rbcc\": 5.0, \"htn\": \"no\", \"dm\": \"no\", \"cad\": \"no\", \"appet\": \"good\", \"pe\": \"no\", \"ane\": \"no\", \"class\": \"notckd\"}, {\"age\": 72.0, \"bp\": 60.0, \"sg\": 1.02, \"al\": 0.0, \"su\": 0.0, \"rbc\": \"normal\", \"pc\": \"normal\", \"pcc\": \"notpresent\", \"ba\": \"notpresent\", \"bgr\": 109.0, \"bu\": 26.0, \"sc\": 0.9, \"sod\": 150.0, \"pot\": 4.9, \"hemo\": 15.0, \"pcv\": 52.0, \"wbcc\": 10500.0, \"rbcc\": 5.5, \"htn\": \"no\", \"dm\": \"no\", \"cad\": \"no\", \"appet\": \"good\", \"pe\": \"no\", \"ane\": \"no\", \"class\": \"notckd\"}, {\"age\": 61.0, \"bp\": 70.0, \"sg\": 1.025, \"al\": 0.0, \"su\": 0.0, \"rbc\": \"normal\", \"pc\": \"normal\", \"pcc\": \"notpresent\", \"ba\": \"notpresent\", \"bgr\": 133.0, \"bu\": 38.0, \"sc\": 1.0, \"sod\": 142.0, \"pot\": 3.6, \"hemo\": 13.7, \"pcv\": 47.0, \"wbcc\": 9200.0, \"rbcc\": 4.9, \"htn\": \"no\", \"dm\": \"no\", \"cad\": \"no\", \"appet\": \"good\", \"pe\": \"no\", \"ane\": \"no\", \"class\": \"notckd\"}, {\"age\": 79.0, \"bp\": 80.0, \"sg\": 1.025, \"al\": 0.0, \"su\": 0.0, \"rbc\": \"normal\", \"pc\": \"normal\", \"pcc\": \"notpresent\", \"ba\": \"notpresent\", \"bgr\": 111.0, \"bu\": 44.0, \"sc\": 1.2, \"sod\": 146.0, \"pot\": 3.6, \"hemo\": 16.3, \"pcv\": 40.0, \"wbcc\": 8000.0, \"rbcc\": 6.4, \"htn\": \"no\", \"dm\": \"no\", \"cad\": \"no\", \"appet\": \"good\", \"pe\": \"no\", \"ane\": \"no\", \"class\": \"notckd\"}, {\"age\": 70.0, \"bp\": 80.0, \"sg\": 1.02, \"al\": 0.0, \"su\": 0.0, \"rbc\": \"normal\", \"pc\": \"normal\", \"pcc\": \"notpresent\", \"ba\": \"notpresent\", \"bgr\": 74.0, \"bu\": 41.0, \"sc\": 0.5, \"sod\": 143.0, \"pot\": 4.5, \"hemo\": 15.1, \"pcv\": 48.0, \"wbcc\": 9700.0, \"rbcc\": 5.6, \"htn\": \"no\", \"dm\": \"no\", \"cad\": \"no\", \"appet\": \"good\", \"pe\": \"no\", \"ane\": \"no\", \"class\": \"notckd\"}, {\"age\": 58.0, \"bp\": 70.0, \"sg\": 1.025, \"al\": 0.0, \"su\": 0.0, \"rbc\": \"normal\", \"pc\": \"normal\", \"pcc\": \"notpresent\", \"ba\": \"notpresent\", \"bgr\": 88.0, \"bu\": 16.0, \"sc\": 1.1, \"sod\": 147.0, \"pot\": 3.5, \"hemo\": 16.4, \"pcv\": 53.0, \"wbcc\": 9100.0, \"rbcc\": 5.2, \"htn\": \"no\", \"dm\": \"no\", \"cad\": \"no\", \"appet\": \"good\", \"pe\": \"no\", \"ane\": \"no\", \"class\": \"notckd\"}, {\"age\": 64.0, \"bp\": 70.0, \"sg\": 1.02, \"al\": 0.0, \"su\": 0.0, \"rbc\": \"normal\", \"pc\": \"normal\", \"pcc\": \"notpresent\", \"ba\": \"notpresent\", \"bgr\": 97.0, \"bu\": 27.0, \"sc\": 0.7, \"sod\": 145.0, \"pot\": 4.8, \"hemo\": 13.8, \"pcv\": 49.0, \"wbcc\": 6400.0, \"rbcc\": 4.8, \"htn\": \"no\", \"dm\": \"no\", \"cad\": \"no\", \"appet\": \"good\", \"pe\": \"no\", \"ane\": \"no\", \"class\": \"notckd\"}, {\"age\": 71.0, \"bp\": 60.0, \"sg\": 1.025, \"al\": 0.0, \"su\": 0.0, \"rbc\": \"normal\", \"pc\": \"normal\", \"pcc\": \"notpresent\", \"ba\": \"notpresent\", \"bgr\": 119.0, \"bu\": 40.0, \"sc\": 0.9, \"sod\": 140.0, \"pot\": 4.8, \"hemo\": 15.2, \"pcv\": 42.0, \"wbcc\": 7700.0, \"rbcc\": 5.5, \"htn\": \"no\", \"dm\": \"no\", \"cad\": \"no\", \"appet\": \"good\", \"pe\": \"no\", \"ane\": \"no\", \"class\": \"notckd\"}, {\"age\": 62.0, \"bp\": 80.0, \"sg\": 1.025, \"al\": 0.0, \"su\": 0.0, \"rbc\": \"normal\", \"pc\": \"normal\", \"pcc\": \"notpresent\", \"ba\": \"notpresent\", \"bgr\": 78.0, \"bu\": 45.0, \"sc\": 0.6, \"sod\": 138.0, \"pot\": 3.5, \"hemo\": 16.1, \"pcv\": 50.0, \"wbcc\": 5400.0, \"rbcc\": 5.7, \"htn\": \"no\", \"dm\": \"no\", \"cad\": \"no\", \"appet\": \"good\", \"pe\": \"no\", \"ane\": \"no\", \"class\": \"notckd\"}, {\"age\": 59.0, \"bp\": 60.0, \"sg\": 1.02, \"al\": 0.0, \"su\": 0.0, \"rbc\": \"normal\", \"pc\": \"normal\", \"pcc\": \"notpresent\", \"ba\": \"notpresent\", \"bgr\": 113.0, \"bu\": 23.0, \"sc\": 1.1, \"sod\": 139.0, \"pot\": 3.5, \"hemo\": 15.3, \"pcv\": 54.0, \"wbcc\": 6500.0, \"rbcc\": 4.9, \"htn\": \"no\", \"dm\": \"no\", \"cad\": \"no\", \"appet\": \"good\", \"pe\": \"no\", \"ane\": \"no\", \"class\": \"notckd\"}, {\"age\": 48.0, \"bp\": 80.0, \"sg\": 1.025, \"al\": 0.0, \"su\": 0.0, \"rbc\": \"normal\", \"pc\": \"normal\", \"pcc\": \"notpresent\", \"ba\": \"notpresent\", \"bgr\": 75.0, \"bu\": 22.0, \"sc\": 0.8, \"sod\": 137.0, \"pot\": 5.0, \"hemo\": 16.8, \"pcv\": 51.0, \"wbcc\": 6000.0, \"rbcc\": 6.5, \"htn\": \"no\", \"dm\": \"no\", \"cad\": \"no\", \"appet\": \"good\", \"pe\": \"no\", \"ane\": \"no\", \"class\": \"notckd\"}, {\"age\": 80.0, \"bp\": 80.0, \"sg\": 1.025, \"al\": 0.0, \"su\": 0.0, \"rbc\": \"normal\", \"pc\": \"normal\", \"pcc\": \"notpresent\", \"ba\": \"notpresent\", \"bgr\": 119.0, \"bu\": 46.0, \"sc\": 0.7, \"sod\": 141.0, \"pot\": 4.9, \"hemo\": 13.9, \"pcv\": 49.0, \"wbcc\": 5100.0, \"rbcc\": 5.0, \"htn\": \"no\", \"dm\": \"no\", \"cad\": \"no\", \"appet\": \"good\", \"pe\": \"no\", \"ane\": \"no\", \"class\": \"notckd\"}, {\"age\": 57.0, \"bp\": 60.0, \"sg\": 1.02, \"al\": 0.0, \"su\": 0.0, \"rbc\": \"normal\", \"pc\": \"normal\", \"pcc\": \"notpresent\", \"ba\": \"notpresent\", \"bgr\": 132.0, \"bu\": 18.0, \"sc\": 1.1, \"sod\": 150.0, \"pot\": 4.7, \"hemo\": 15.4, \"pcv\": 42.0, \"wbcc\": 11000.0, \"rbcc\": 4.5, \"htn\": \"no\", \"dm\": \"no\", \"cad\": \"no\", \"appet\": \"good\", \"pe\": \"no\", \"ane\": \"no\", \"class\": \"notckd\"}, {\"age\": 63.0, \"bp\": 70.0, \"sg\": 1.02, \"al\": 0.0, \"su\": 0.0, \"rbc\": \"normal\", \"pc\": \"normal\", \"pcc\": \"notpresent\", \"ba\": \"notpresent\", \"bgr\": 113.0, \"bu\": 25.0, \"sc\": 0.6, \"sod\": 146.0, \"pot\": 4.9, \"hemo\": 16.5, \"pcv\": 52.0, \"wbcc\": 8000.0, \"rbcc\": 5.1, \"htn\": \"no\", \"dm\": \"no\", \"cad\": \"no\", \"appet\": \"good\", \"pe\": \"no\", \"ane\": \"no\", \"class\": \"notckd\"}, {\"age\": 46.0, \"bp\": 70.0, \"sg\": 1.025, \"al\": 0.0, \"su\": 0.0, \"rbc\": \"normal\", \"pc\": \"normal\", \"pcc\": \"notpresent\", \"ba\": \"notpresent\", \"bgr\": 100.0, \"bu\": 47.0, \"sc\": 0.5, \"sod\": 142.0, \"pot\": 3.5, \"hemo\": 16.4, \"pcv\": 43.0, \"wbcc\": 5700.0, \"rbcc\": 6.5, \"htn\": \"no\", \"dm\": \"no\", \"cad\": \"no\", \"appet\": \"good\", \"pe\": \"no\", \"ane\": \"no\", \"class\": \"notckd\"}, {\"age\": 15.0, \"bp\": 80.0, \"sg\": 1.025, \"al\": 0.0, \"su\": 0.0, \"rbc\": \"normal\", \"pc\": \"normal\", \"pcc\": \"notpresent\", \"ba\": \"notpresent\", \"bgr\": 93.0, \"bu\": 17.0, \"sc\": 0.9, \"sod\": 136.0, \"pot\": 3.9, \"hemo\": 16.7, \"pcv\": 50.0, \"wbcc\": 6200.0, \"rbcc\": 5.2, \"htn\": \"no\", \"dm\": \"no\", \"cad\": \"no\", \"appet\": \"good\", \"pe\": \"no\", \"ane\": \"no\", \"class\": \"notckd\"}, {\"age\": 51.0, \"bp\": 80.0, \"sg\": 1.02, \"al\": 0.0, \"su\": 0.0, \"rbc\": \"normal\", \"pc\": \"normal\", \"pcc\": \"notpresent\", \"ba\": \"notpresent\", \"bgr\": 94.0, \"bu\": 15.0, \"sc\": 1.2, \"sod\": 144.0, \"pot\": 3.7, \"hemo\": 15.5, \"pcv\": 46.0, \"wbcc\": 9500.0, \"rbcc\": 6.4, \"htn\": \"no\", \"dm\": \"no\", \"cad\": \"no\", \"appet\": \"good\", \"pe\": \"no\", \"ane\": \"no\", \"class\": \"notckd\"}, {\"age\": 41.0, \"bp\": 80.0, \"sg\": 1.025, \"al\": 0.0, \"su\": 0.0, \"rbc\": \"normal\", \"pc\": \"normal\", \"pcc\": \"notpresent\", \"ba\": \"notpresent\", \"bgr\": 112.0, \"bu\": 48.0, \"sc\": 0.7, \"sod\": 140.0, \"pot\": 5.0, \"hemo\": 17.0, \"pcv\": 52.0, \"wbcc\": 7200.0, \"rbcc\": 5.8, \"htn\": \"no\", \"dm\": \"no\", \"cad\": \"no\", \"appet\": \"good\", \"pe\": \"no\", \"ane\": \"no\", \"class\": \"notckd\"}, {\"age\": 52.0, \"bp\": 80.0, \"sg\": 1.025, \"al\": 0.0, \"su\": 0.0, \"rbc\": \"normal\", \"pc\": \"normal\", \"pcc\": \"notpresent\", \"ba\": \"notpresent\", \"bgr\": 99.0, \"bu\": 25.0, \"sc\": 0.8, \"sod\": 135.0, \"pot\": 3.7, \"hemo\": 15.0, \"pcv\": 52.0, \"wbcc\": 6300.0, \"rbcc\": 5.3, \"htn\": \"no\", \"dm\": \"no\", \"cad\": \"no\", \"appet\": \"good\", \"pe\": \"no\", \"ane\": \"no\", \"class\": \"notckd\"}, {\"age\": 36.0, \"bp\": 80.0, \"sg\": 1.025, \"al\": 0.0, \"su\": 0.0, \"rbc\": \"normal\", \"pc\": \"normal\", \"pcc\": \"notpresent\", \"ba\": \"notpresent\", \"bgr\": 85.0, \"bu\": 16.0, \"sc\": 1.1, \"sod\": 142.0, \"pot\": 4.1, \"hemo\": 15.6, \"pcv\": 44.0, \"wbcc\": 5800.0, \"rbcc\": 6.3, \"htn\": \"no\", \"dm\": \"no\", \"cad\": \"no\", \"appet\": \"good\", \"pe\": \"no\", \"ane\": \"no\", \"class\": \"notckd\"}, {\"age\": 57.0, \"bp\": 80.0, \"sg\": 1.02, \"al\": 0.0, \"su\": 0.0, \"rbc\": \"normal\", \"pc\": \"normal\", \"pcc\": \"notpresent\", \"ba\": \"notpresent\", \"bgr\": 133.0, \"bu\": 48.0, \"sc\": 1.2, \"sod\": 147.0, \"pot\": 4.3, \"hemo\": 14.8, \"pcv\": 46.0, \"wbcc\": 6600.0, \"rbcc\": 5.5, \"htn\": \"no\", \"dm\": \"no\", \"cad\": \"no\", \"appet\": \"good\", \"pe\": \"no\", \"ane\": \"no\", \"class\": \"notckd\"}, {\"age\": 43.0, \"bp\": 60.0, \"sg\": 1.025, \"al\": 0.0, \"su\": 0.0, \"rbc\": \"normal\", \"pc\": \"normal\", \"pcc\": \"notpresent\", \"ba\": \"notpresent\", \"bgr\": 117.0, \"bu\": 45.0, \"sc\": 0.7, \"sod\": 141.0, \"pot\": 4.4, \"hemo\": 13.0, \"pcv\": 54.0, \"wbcc\": 7400.0, \"rbcc\": 5.4, \"htn\": \"no\", \"dm\": \"no\", \"cad\": \"no\", \"appet\": \"good\", \"pe\": \"no\", \"ane\": \"no\", \"class\": \"notckd\"}, {\"age\": 50.0, \"bp\": 80.0, \"sg\": 1.02, \"al\": 0.0, \"su\": 0.0, \"rbc\": \"normal\", \"pc\": \"normal\", \"pcc\": \"notpresent\", \"ba\": \"notpresent\", \"bgr\": 137.0, \"bu\": 46.0, \"sc\": 0.8, \"sod\": 139.0, \"pot\": 5.0, \"hemo\": 14.1, \"pcv\": 45.0, \"wbcc\": 9500.0, \"rbcc\": 4.6, \"htn\": \"no\", \"dm\": \"no\", \"cad\": \"no\", \"appet\": \"good\", \"pe\": \"no\", \"ane\": \"no\", \"class\": \"notckd\"}, {\"age\": 55.0, \"bp\": 80.0, \"sg\": 1.02, \"al\": 0.0, \"su\": 0.0, \"rbc\": \"normal\", \"pc\": \"normal\", \"pcc\": \"notpresent\", \"ba\": \"notpresent\", \"bgr\": 140.0, \"bu\": 49.0, \"sc\": 0.5, \"sod\": 150.0, \"pot\": 4.9, \"hemo\": 15.7, \"pcv\": 47.0, \"wbcc\": 6700.0, \"rbcc\": 4.9, \"htn\": \"no\", \"dm\": \"no\", \"cad\": \"no\", \"appet\": \"good\", \"pe\": \"no\", \"ane\": \"no\", \"class\": \"notckd\"}, {\"age\": 42.0, \"bp\": 70.0, \"sg\": 1.025, \"al\": 0.0, \"su\": 0.0, \"rbc\": \"normal\", \"pc\": \"normal\", \"pcc\": \"notpresent\", \"ba\": \"notpresent\", \"bgr\": 75.0, \"bu\": 31.0, \"sc\": 1.2, \"sod\": 141.0, \"pot\": 3.5, \"hemo\": 16.5, \"pcv\": 54.0, \"wbcc\": 7800.0, \"rbcc\": 6.2, \"htn\": \"no\", \"dm\": \"no\", \"cad\": \"no\", \"appet\": \"good\", \"pe\": \"no\", \"ane\": \"no\", \"class\": \"notckd\"}, {\"age\": 12.0, \"bp\": 80.0, \"sg\": 1.02, \"al\": 0.0, \"su\": 0.0, \"rbc\": \"normal\", \"pc\": \"normal\", \"pcc\": \"notpresent\", \"ba\": \"notpresent\", \"bgr\": 100.0, \"bu\": 26.0, \"sc\": 0.6, \"sod\": 137.0, \"pot\": 4.4, \"hemo\": 15.8, \"pcv\": 49.0, \"wbcc\": 6600.0, \"rbcc\": 5.4, \"htn\": \"no\", \"dm\": \"no\", \"cad\": \"no\", \"appet\": \"good\", \"pe\": \"no\", \"ane\": \"no\", \"class\": \"notckd\"}, {\"age\": 17.0, \"bp\": 60.0, \"sg\": 1.025, \"al\": 0.0, \"su\": 0.0, \"rbc\": \"normal\", \"pc\": \"normal\", \"pcc\": \"notpresent\", \"ba\": \"notpresent\", \"bgr\": 114.0, \"bu\": 50.0, \"sc\": 1.0, \"sod\": 135.0, \"pot\": 4.9, \"hemo\": 14.2, \"pcv\": 51.0, \"wbcc\": 7200.0, \"rbcc\": 5.9, \"htn\": \"no\", \"dm\": \"no\", \"cad\": \"no\", \"appet\": \"good\", \"pe\": \"no\", \"ane\": \"no\", \"class\": \"notckd\"}, {\"age\": 58.0, \"bp\": 80.0, \"sg\": 1.025, \"al\": 0.0, \"su\": 0.0, \"rbc\": \"normal\", \"pc\": \"normal\", \"pcc\": \"notpresent\", \"ba\": \"notpresent\", \"bgr\": 131.0, \"bu\": 18.0, \"sc\": 1.1, \"sod\": 141.0, \"pot\": 3.5, \"hemo\": 15.8, \"pcv\": 53.0, \"wbcc\": 6800.0, \"rbcc\": 6.1, \"htn\": \"no\", \"dm\": \"no\", \"cad\": \"no\", \"appet\": \"good\", \"pe\": \"no\", \"ane\": \"no\", \"class\": \"notckd\"}]}}, {\"mode\": \"vega-lite\"});\n",
       "</script>"
      ],
      "text/plain": [
       "alt.Chart(...)"
      ]
     },
     "execution_count": 30,
     "metadata": {},
     "output_type": "execute_result"
    }
   ],
   "source": [
    "alt.Chart(data_clean, title = 'Hemoglobin vs packed cell volume').mark_point().encode(\n",
    "    x='pcv:Q',\n",
    "    y='hemo:Q',\n",
    ")"
   ]
  },
  {
   "cell_type": "markdown",
   "metadata": {},
   "source": [
    "Here we can see that there is a very strong positve trend with the increase in hemoglobin, there could be a correlation in increased packed cell volume."
   ]
  },
  {
   "cell_type": "code",
   "execution_count": 31,
   "metadata": {},
   "outputs": [
    {
     "data": {
      "text/html": [
       "\n",
       "<div id=\"altair-viz-8b46a5a8505949178cb35b51da6feb28\"></div>\n",
       "<script type=\"text/javascript\">\n",
       "  (function(spec, embedOpt){\n",
       "    let outputDiv = document.currentScript.previousElementSibling;\n",
       "    if (outputDiv.id !== \"altair-viz-8b46a5a8505949178cb35b51da6feb28\") {\n",
       "      outputDiv = document.getElementById(\"altair-viz-8b46a5a8505949178cb35b51da6feb28\");\n",
       "    }\n",
       "    const paths = {\n",
       "      \"vega\": \"https://cdn.jsdelivr.net/npm//vega@5?noext\",\n",
       "      \"vega-lib\": \"https://cdn.jsdelivr.net/npm//vega-lib?noext\",\n",
       "      \"vega-lite\": \"https://cdn.jsdelivr.net/npm//vega-lite@4.8.1?noext\",\n",
       "      \"vega-embed\": \"https://cdn.jsdelivr.net/npm//vega-embed@6?noext\",\n",
       "    };\n",
       "\n",
       "    function loadScript(lib) {\n",
       "      return new Promise(function(resolve, reject) {\n",
       "        var s = document.createElement('script');\n",
       "        s.src = paths[lib];\n",
       "        s.async = true;\n",
       "        s.onload = () => resolve(paths[lib]);\n",
       "        s.onerror = () => reject(`Error loading script: ${paths[lib]}`);\n",
       "        document.getElementsByTagName(\"head\")[0].appendChild(s);\n",
       "      });\n",
       "    }\n",
       "\n",
       "    function showError(err) {\n",
       "      outputDiv.innerHTML = `<div class=\"error\" style=\"color:red;\">${err}</div>`;\n",
       "      throw err;\n",
       "    }\n",
       "\n",
       "    function displayChart(vegaEmbed) {\n",
       "      vegaEmbed(outputDiv, spec, embedOpt)\n",
       "        .catch(err => showError(`Javascript Error: ${err.message}<br>This usually means there's a typo in your chart specification. See the javascript console for the full traceback.`));\n",
       "    }\n",
       "\n",
       "    if(typeof define === \"function\" && define.amd) {\n",
       "      requirejs.config({paths});\n",
       "      require([\"vega-embed\"], displayChart, err => showError(`Error loading script: ${err.message}`));\n",
       "    } else if (typeof vegaEmbed === \"function\") {\n",
       "      displayChart(vegaEmbed);\n",
       "    } else {\n",
       "      loadScript(\"vega\")\n",
       "        .then(() => loadScript(\"vega-lite\"))\n",
       "        .then(() => loadScript(\"vega-embed\"))\n",
       "        .catch(showError)\n",
       "        .then(() => displayChart(vegaEmbed));\n",
       "    }\n",
       "  })({\"config\": {\"view\": {\"continuousWidth\": 400, \"continuousHeight\": 300}}, \"data\": {\"name\": \"data-23ab5fbbb8473b892a91b29fa85a1421\"}, \"mark\": \"point\", \"encoding\": {\"x\": {\"type\": \"quantitative\", \"field\": \"age\"}, \"y\": {\"type\": \"quantitative\", \"field\": \"hemo\"}}, \"title\": \"Hemoglobin vs packed cell volume\", \"$schema\": \"https://vega.github.io/schema/vega-lite/v4.8.1.json\", \"datasets\": {\"data-23ab5fbbb8473b892a91b29fa85a1421\": [{\"age\": 62.0, \"bp\": 80.0, \"sg\": 1.01, \"al\": 2.0, \"su\": 3.0, \"rbc\": \"normal\", \"pc\": \"normal\", \"pcc\": \"notpresent\", \"ba\": \"notpresent\", \"bgr\": 423.0, \"bu\": 53.0, \"sc\": 1.8, \"sod\": 139.0, \"pot\": 4.5, \"hemo\": 9.6, \"pcv\": 31.0, \"wbcc\": 7500.0, \"rbcc\": 4.9, \"htn\": \"no\", \"dm\": \"yes\", \"cad\": \"no\", \"appet\": \"poor\", \"pe\": \"no\", \"ane\": \"yes\", \"class\": \"ckd\"}, {\"age\": 48.0, \"bp\": 70.0, \"sg\": 1.005, \"al\": 4.0, \"su\": 0.0, \"rbc\": \"normal\", \"pc\": \"abnormal\", \"pcc\": \"present\", \"ba\": \"notpresent\", \"bgr\": 117.0, \"bu\": 56.0, \"sc\": 3.8, \"sod\": 111.0, \"pot\": 2.5, \"hemo\": 11.2, \"pcv\": 32.0, \"wbcc\": 6700.0, \"rbcc\": 3.9, \"htn\": \"yes\", \"dm\": \"no\", \"cad\": \"no\", \"appet\": \"poor\", \"pe\": \"yes\", \"ane\": \"yes\", \"class\": \"ckd\"}, {\"age\": 51.0, \"bp\": 80.0, \"sg\": 1.01, \"al\": 2.0, \"su\": 0.0, \"rbc\": \"normal\", \"pc\": \"normal\", \"pcc\": \"notpresent\", \"ba\": \"notpresent\", \"bgr\": 106.0, \"bu\": 26.0, \"sc\": 1.4, \"sod\": 139.0, \"pot\": 4.5, \"hemo\": 11.6, \"pcv\": 35.0, \"wbcc\": 7300.0, \"rbcc\": 4.6, \"htn\": \"no\", \"dm\": \"no\", \"cad\": \"no\", \"appet\": \"good\", \"pe\": \"no\", \"ane\": \"no\", \"class\": \"ckd\"}, {\"age\": 24.0, \"bp\": 80.0, \"sg\": 1.015, \"al\": 2.0, \"su\": 4.0, \"rbc\": \"normal\", \"pc\": \"abnormal\", \"pcc\": \"notpresent\", \"ba\": \"notpresent\", \"bgr\": 410.0, \"bu\": 31.0, \"sc\": 1.1, \"sod\": 139.0, \"pot\": 4.5, \"hemo\": 12.4, \"pcv\": 44.0, \"wbcc\": 6900.0, \"rbcc\": 5.0, \"htn\": \"no\", \"dm\": \"yes\", \"cad\": \"no\", \"appet\": \"good\", \"pe\": \"yes\", \"ane\": \"no\", \"class\": \"ckd\"}, {\"age\": 52.0, \"bp\": 100.0, \"sg\": 1.015, \"al\": 3.0, \"su\": 0.0, \"rbc\": \"normal\", \"pc\": \"abnormal\", \"pcc\": \"present\", \"ba\": \"notpresent\", \"bgr\": 138.0, \"bu\": 60.0, \"sc\": 1.9, \"sod\": 139.0, \"pot\": 4.5, \"hemo\": 10.8, \"pcv\": 33.0, \"wbcc\": 9600.0, \"rbcc\": 4.0, \"htn\": \"yes\", \"dm\": \"yes\", \"cad\": \"no\", \"appet\": \"good\", \"pe\": \"no\", \"ane\": \"yes\", \"class\": \"ckd\"}, {\"age\": 53.0, \"bp\": 90.0, \"sg\": 1.02, \"al\": 2.0, \"su\": 0.0, \"rbc\": \"abnormal\", \"pc\": \"abnormal\", \"pcc\": \"present\", \"ba\": \"notpresent\", \"bgr\": 70.0, \"bu\": 107.0, \"sc\": 7.2, \"sod\": 114.0, \"pot\": 3.7, \"hemo\": 9.5, \"pcv\": 29.0, \"wbcc\": 12100.0, \"rbcc\": 3.7, \"htn\": \"yes\", \"dm\": \"yes\", \"cad\": \"no\", \"appet\": \"poor\", \"pe\": \"no\", \"ane\": \"yes\", \"class\": \"ckd\"}, {\"age\": 63.0, \"bp\": 70.0, \"sg\": 1.01, \"al\": 3.0, \"su\": 0.0, \"rbc\": \"abnormal\", \"pc\": \"abnormal\", \"pcc\": \"present\", \"ba\": \"notpresent\", \"bgr\": 380.0, \"bu\": 60.0, \"sc\": 2.7, \"sod\": 131.0, \"pot\": 4.2, \"hemo\": 10.8, \"pcv\": 32.0, \"wbcc\": 4500.0, \"rbcc\": 3.8, \"htn\": \"yes\", \"dm\": \"yes\", \"cad\": \"no\", \"appet\": \"poor\", \"pe\": \"yes\", \"ane\": \"no\", \"class\": \"ckd\"}, {\"age\": 68.0, \"bp\": 80.0, \"sg\": 1.01, \"al\": 3.0, \"su\": 2.0, \"rbc\": \"normal\", \"pc\": \"abnormal\", \"pcc\": \"present\", \"ba\": \"present\", \"bgr\": 157.0, \"bu\": 90.0, \"sc\": 4.1, \"sod\": 130.0, \"pot\": 6.4, \"hemo\": 5.6, \"pcv\": 16.0, \"wbcc\": 11000.0, \"rbcc\": 2.6, \"htn\": \"yes\", \"dm\": \"yes\", \"cad\": \"yes\", \"appet\": \"poor\", \"pe\": \"yes\", \"ane\": \"no\", \"class\": \"ckd\"}, {\"age\": 61.0, \"bp\": 80.0, \"sg\": 1.015, \"al\": 2.0, \"su\": 0.0, \"rbc\": \"abnormal\", \"pc\": \"abnormal\", \"pcc\": \"notpresent\", \"ba\": \"notpresent\", \"bgr\": 173.0, \"bu\": 148.0, \"sc\": 3.9, \"sod\": 135.0, \"pot\": 5.2, \"hemo\": 7.7, \"pcv\": 24.0, \"wbcc\": 9200.0, \"rbcc\": 3.2, \"htn\": \"yes\", \"dm\": \"yes\", \"cad\": \"yes\", \"appet\": \"poor\", \"pe\": \"yes\", \"ane\": \"yes\", \"class\": \"ckd\"}, {\"age\": 48.0, \"bp\": 80.0, \"sg\": 1.025, \"al\": 4.0, \"su\": 0.0, \"rbc\": \"normal\", \"pc\": \"abnormal\", \"pcc\": \"notpresent\", \"ba\": \"notpresent\", \"bgr\": 95.0, \"bu\": 163.0, \"sc\": 7.7, \"sod\": 136.0, \"pot\": 3.8, \"hemo\": 9.8, \"pcv\": 32.0, \"wbcc\": 6900.0, \"rbcc\": 3.4, \"htn\": \"yes\", \"dm\": \"no\", \"cad\": \"no\", \"appet\": \"good\", \"pe\": \"no\", \"ane\": \"yes\", \"class\": \"ckd\"}, {\"age\": 42.0, \"bp\": 100.0, \"sg\": 1.015, \"al\": 4.0, \"su\": 0.0, \"rbc\": \"normal\", \"pc\": \"abnormal\", \"pcc\": \"notpresent\", \"ba\": \"present\", \"bgr\": 119.0, \"bu\": 50.0, \"sc\": 1.4, \"sod\": 129.0, \"pot\": 4.0, \"hemo\": 11.1, \"pcv\": 39.0, \"wbcc\": 8300.0, \"rbcc\": 4.6, \"htn\": \"yes\", \"dm\": \"no\", \"cad\": \"no\", \"appet\": \"poor\", \"pe\": \"no\", \"ane\": \"no\", \"class\": \"ckd\"}, {\"age\": 69.0, \"bp\": 70.0, \"sg\": 1.01, \"al\": 3.0, \"su\": 4.0, \"rbc\": \"normal\", \"pc\": \"abnormal\", \"pcc\": \"notpresent\", \"ba\": \"notpresent\", \"bgr\": 264.0, \"bu\": 87.0, \"sc\": 2.7, \"sod\": 130.0, \"pot\": 4.0, \"hemo\": 12.5, \"pcv\": 37.0, \"wbcc\": 9600.0, \"rbcc\": 4.1, \"htn\": \"yes\", \"dm\": \"yes\", \"cad\": \"yes\", \"appet\": \"good\", \"pe\": \"yes\", \"ane\": \"no\", \"class\": \"ckd\"}, {\"age\": 68.0, \"bp\": 70.0, \"sg\": 1.005, \"al\": 1.0, \"su\": 0.0, \"rbc\": \"abnormal\", \"pc\": \"abnormal\", \"pcc\": \"present\", \"ba\": \"notpresent\", \"bgr\": 119.0, \"bu\": 28.0, \"sc\": 1.4, \"sod\": 139.0, \"pot\": 4.5, \"hemo\": 12.9, \"pcv\": 38.0, \"wbcc\": 7900.0, \"rbcc\": 4.9, \"htn\": \"no\", \"dm\": \"no\", \"cad\": \"yes\", \"appet\": \"good\", \"pe\": \"no\", \"ane\": \"no\", \"class\": \"ckd\"}, {\"age\": 60.0, \"bp\": 100.0, \"sg\": 1.02, \"al\": 2.0, \"su\": 0.0, \"rbc\": \"abnormal\", \"pc\": \"abnormal\", \"pcc\": \"notpresent\", \"ba\": \"notpresent\", \"bgr\": 140.0, \"bu\": 55.0, \"sc\": 2.5, \"sod\": 139.0, \"pot\": 4.5, \"hemo\": 10.1, \"pcv\": 29.0, \"wbcc\": 7900.0, \"rbcc\": 4.9, \"htn\": \"yes\", \"dm\": \"no\", \"cad\": \"no\", \"appet\": \"poor\", \"pe\": \"no\", \"ane\": \"no\", \"class\": \"ckd\"}, {\"age\": 70.0, \"bp\": 70.0, \"sg\": 1.01, \"al\": 1.0, \"su\": 0.0, \"rbc\": \"normal\", \"pc\": \"normal\", \"pcc\": \"present\", \"ba\": \"present\", \"bgr\": 171.0, \"bu\": 153.0, \"sc\": 5.2, \"sod\": 139.0, \"pot\": 4.5, \"hemo\": 13.85, \"pcv\": 42.0, \"wbcc\": 7900.0, \"rbcc\": 4.9, \"htn\": \"no\", \"dm\": \"yes\", \"cad\": \"no\", \"appet\": \"poor\", \"pe\": \"no\", \"ane\": \"no\", \"class\": \"ckd\"}, {\"age\": 65.0, \"bp\": 90.0, \"sg\": 1.02, \"al\": 2.0, \"su\": 1.0, \"rbc\": \"abnormal\", \"pc\": \"normal\", \"pcc\": \"notpresent\", \"ba\": \"notpresent\", \"bgr\": 270.0, \"bu\": 39.0, \"sc\": 2.0, \"sod\": 139.0, \"pot\": 4.5, \"hemo\": 12.0, \"pcv\": 36.0, \"wbcc\": 9800.0, \"rbcc\": 4.9, \"htn\": \"yes\", \"dm\": \"yes\", \"cad\": \"no\", \"appet\": \"poor\", \"pe\": \"no\", \"ane\": \"yes\", \"class\": \"ckd\"}, {\"age\": 76.0, \"bp\": 70.0, \"sg\": 1.015, \"al\": 1.0, \"su\": 0.0, \"rbc\": \"normal\", \"pc\": \"normal\", \"pcc\": \"notpresent\", \"ba\": \"notpresent\", \"bgr\": 92.0, \"bu\": 29.0, \"sc\": 1.8, \"sod\": 133.0, \"pot\": 3.9, \"hemo\": 10.3, \"pcv\": 32.0, \"wbcc\": 7900.0, \"rbcc\": 4.9, \"htn\": \"yes\", \"dm\": \"no\", \"cad\": \"no\", \"appet\": \"good\", \"pe\": \"no\", \"ane\": \"no\", \"class\": \"ckd\"}, {\"age\": 69.0, \"bp\": 80.0, \"sg\": 1.02, \"al\": 3.0, \"su\": 0.0, \"rbc\": \"abnormal\", \"pc\": \"normal\", \"pcc\": \"notpresent\", \"ba\": \"notpresent\", \"bgr\": 119.0, \"bu\": 103.0, \"sc\": 4.1, \"sod\": 132.0, \"pot\": 5.9, \"hemo\": 12.5, \"pcv\": 42.0, \"wbcc\": 7900.0, \"rbcc\": 4.9, \"htn\": \"yes\", \"dm\": \"no\", \"cad\": \"no\", \"appet\": \"good\", \"pe\": \"no\", \"ane\": \"no\", \"class\": \"ckd\"}, {\"age\": 82.0, \"bp\": 80.0, \"sg\": 1.01, \"al\": 2.0, \"su\": 2.0, \"rbc\": \"normal\", \"pc\": \"normal\", \"pcc\": \"notpresent\", \"ba\": \"notpresent\", \"bgr\": 140.0, \"bu\": 70.0, \"sc\": 3.4, \"sod\": 136.0, \"pot\": 4.2, \"hemo\": 13.0, \"pcv\": 40.0, \"wbcc\": 9800.0, \"rbcc\": 4.2, \"htn\": \"yes\", \"dm\": \"yes\", \"cad\": \"no\", \"appet\": \"good\", \"pe\": \"no\", \"ane\": \"no\", \"class\": \"ckd\"}, {\"age\": 46.0, \"bp\": 90.0, \"sg\": 1.01, \"al\": 2.0, \"su\": 0.0, \"rbc\": \"normal\", \"pc\": \"abnormal\", \"pcc\": \"notpresent\", \"ba\": \"notpresent\", \"bgr\": 99.0, \"bu\": 80.0, \"sc\": 2.1, \"sod\": 139.0, \"pot\": 4.5, \"hemo\": 11.1, \"pcv\": 32.0, \"wbcc\": 9100.0, \"rbcc\": 4.1, \"htn\": \"yes\", \"dm\": \"no\", \"cad\": \"no\", \"appet\": \"good\", \"pe\": \"no\", \"ane\": \"no\", \"class\": \"ckd\"}, {\"age\": 35.0, \"bp\": 80.0, \"sg\": 1.01, \"al\": 1.0, \"su\": 0.0, \"rbc\": \"abnormal\", \"pc\": \"normal\", \"pcc\": \"notpresent\", \"ba\": \"notpresent\", \"bgr\": 79.0, \"bu\": 202.0, \"sc\": 10.8, \"sod\": 134.0, \"pot\": 3.4, \"hemo\": 7.9, \"pcv\": 24.0, \"wbcc\": 7900.0, \"rbcc\": 3.1, \"htn\": \"no\", \"dm\": \"yes\", \"cad\": \"no\", \"appet\": \"good\", \"pe\": \"no\", \"ane\": \"no\", \"class\": \"ckd\"}, {\"age\": 54.0, \"bp\": 80.0, \"sg\": 1.01, \"al\": 3.0, \"su\": 0.0, \"rbc\": \"abnormal\", \"pc\": \"abnormal\", \"pcc\": \"notpresent\", \"ba\": \"notpresent\", \"bgr\": 207.0, \"bu\": 77.0, \"sc\": 6.3, \"sod\": 134.0, \"pot\": 4.8, \"hemo\": 9.7, \"pcv\": 28.0, \"wbcc\": 7900.0, \"rbcc\": 4.9, \"htn\": \"yes\", \"dm\": \"yes\", \"cad\": \"no\", \"appet\": \"poor\", \"pe\": \"yes\", \"ane\": \"no\", \"class\": \"ckd\"}, {\"age\": 73.0, \"bp\": 70.0, \"sg\": 1.005, \"al\": 0.0, \"su\": 0.0, \"rbc\": \"normal\", \"pc\": \"normal\", \"pcc\": \"notpresent\", \"ba\": \"notpresent\", \"bgr\": 70.0, \"bu\": 32.0, \"sc\": 0.9, \"sod\": 125.0, \"pot\": 4.0, \"hemo\": 10.0, \"pcv\": 29.0, \"wbcc\": 18900.0, \"rbcc\": 3.5, \"htn\": \"yes\", \"dm\": \"yes\", \"cad\": \"no\", \"appet\": \"good\", \"pe\": \"yes\", \"ane\": \"no\", \"class\": \"ckd\"}, {\"age\": 60.0, \"bp\": 70.0, \"sg\": 1.01, \"al\": 2.0, \"su\": 0.0, \"rbc\": \"normal\", \"pc\": \"abnormal\", \"pcc\": \"present\", \"ba\": \"notpresent\", \"bgr\": 144.0, \"bu\": 72.0, \"sc\": 3.0, \"sod\": 139.0, \"pot\": 4.5, \"hemo\": 9.7, \"pcv\": 29.0, \"wbcc\": 21600.0, \"rbcc\": 3.5, \"htn\": \"yes\", \"dm\": \"yes\", \"cad\": \"no\", \"appet\": \"poor\", \"pe\": \"no\", \"ane\": \"yes\", \"class\": \"ckd\"}, {\"age\": 63.0, \"bp\": 80.0, \"sg\": 1.01, \"al\": 2.0, \"su\": 2.0, \"rbc\": \"normal\", \"pc\": \"normal\", \"pcc\": \"notpresent\", \"ba\": \"notpresent\", \"bgr\": 119.0, \"bu\": 40.0, \"sc\": 3.4, \"sod\": 136.0, \"pot\": 4.2, \"hemo\": 13.0, \"pcv\": 40.0, \"wbcc\": 9800.0, \"rbcc\": 4.2, \"htn\": \"yes\", \"dm\": \"no\", \"cad\": \"yes\", \"appet\": \"good\", \"pe\": \"no\", \"ane\": \"no\", \"class\": \"ckd\"}, {\"age\": 35.0, \"bp\": 80.0, \"sg\": 1.005, \"al\": 3.0, \"su\": 0.0, \"rbc\": \"abnormal\", \"pc\": \"normal\", \"pcc\": \"notpresent\", \"ba\": \"notpresent\", \"bgr\": 119.0, \"bu\": 40.0, \"sc\": 1.15, \"sod\": 139.0, \"pot\": 4.5, \"hemo\": 9.5, \"pcv\": 28.0, \"wbcc\": 7900.0, \"rbcc\": 4.9, \"htn\": \"no\", \"dm\": \"no\", \"cad\": \"no\", \"appet\": \"good\", \"pe\": \"yes\", \"ane\": \"no\", \"class\": \"ckd\"}, {\"age\": 76.0, \"bp\": 70.0, \"sg\": 1.015, \"al\": 3.0, \"su\": 4.0, \"rbc\": \"normal\", \"pc\": \"abnormal\", \"pcc\": \"present\", \"ba\": \"notpresent\", \"bgr\": 119.0, \"bu\": 164.0, \"sc\": 9.7, \"sod\": 131.0, \"pot\": 4.4, \"hemo\": 10.2, \"pcv\": 30.0, \"wbcc\": 11300.0, \"rbcc\": 3.4, \"htn\": \"yes\", \"dm\": \"yes\", \"cad\": \"yes\", \"appet\": \"poor\", \"pe\": \"yes\", \"ane\": \"no\", \"class\": \"ckd\"}, {\"age\": 73.0, \"bp\": 80.0, \"sg\": 1.02, \"al\": 2.0, \"su\": 0.0, \"rbc\": \"abnormal\", \"pc\": \"abnormal\", \"pcc\": \"notpresent\", \"ba\": \"notpresent\", \"bgr\": 253.0, \"bu\": 142.0, \"sc\": 4.6, \"sod\": 138.0, \"pot\": 5.8, \"hemo\": 10.5, \"pcv\": 33.0, \"wbcc\": 7200.0, \"rbcc\": 4.3, \"htn\": \"yes\", \"dm\": \"yes\", \"cad\": \"yes\", \"appet\": \"good\", \"pe\": \"no\", \"ane\": \"no\", \"class\": \"ckd\"}, {\"age\": 67.0, \"bp\": 80.0, \"sg\": 1.01, \"al\": 1.0, \"su\": 3.0, \"rbc\": \"normal\", \"pc\": \"abnormal\", \"pcc\": \"notpresent\", \"ba\": \"notpresent\", \"bgr\": 182.0, \"bu\": 391.0, \"sc\": 32.0, \"sod\": 163.0, \"pot\": 39.0, \"hemo\": 13.85, \"pcv\": 42.0, \"wbcc\": 7900.0, \"rbcc\": 4.9, \"htn\": \"no\", \"dm\": \"no\", \"cad\": \"no\", \"appet\": \"good\", \"pe\": \"yes\", \"ane\": \"no\", \"class\": \"ckd\"}, {\"age\": 46.0, \"bp\": 70.0, \"sg\": 1.015, \"al\": 1.0, \"su\": 0.0, \"rbc\": \"abnormal\", \"pc\": \"normal\", \"pcc\": \"notpresent\", \"ba\": \"notpresent\", \"bgr\": 150.0, \"bu\": 111.0, \"sc\": 6.1, \"sod\": 131.0, \"pot\": 3.7, \"hemo\": 7.5, \"pcv\": 27.0, \"wbcc\": 7900.0, \"rbcc\": 4.9, \"htn\": \"no\", \"dm\": \"no\", \"cad\": \"no\", \"appet\": \"good\", \"pe\": \"no\", \"ane\": \"yes\", \"class\": \"ckd\"}, {\"age\": 67.0, \"bp\": 70.0, \"sg\": 1.02, \"al\": 2.0, \"su\": 0.0, \"rbc\": \"abnormal\", \"pc\": \"normal\", \"pcc\": \"notpresent\", \"ba\": \"notpresent\", \"bgr\": 150.0, \"bu\": 55.0, \"sc\": 1.6, \"sod\": 131.0, \"pot\": 4.8, \"hemo\": 13.85, \"pcv\": 42.0, \"wbcc\": 7900.0, \"rbcc\": 4.9, \"htn\": \"yes\", \"dm\": \"yes\", \"cad\": \"no\", \"appet\": \"good\", \"pe\": \"yes\", \"ane\": \"no\", \"class\": \"ckd\"}, {\"age\": 45.0, \"bp\": 80.0, \"sg\": 1.02, \"al\": 3.0, \"su\": 0.0, \"rbc\": \"normal\", \"pc\": \"abnormal\", \"pcc\": \"notpresent\", \"ba\": \"notpresent\", \"bgr\": 425.0, \"bu\": 40.0, \"sc\": 1.15, \"sod\": 139.0, \"pot\": 4.5, \"hemo\": 13.85, \"pcv\": 42.0, \"wbcc\": 7900.0, \"rbcc\": 4.9, \"htn\": \"no\", \"dm\": \"no\", \"cad\": \"no\", \"appet\": \"poor\", \"pe\": \"no\", \"ane\": \"no\", \"class\": \"ckd\"}, {\"age\": 46.0, \"bp\": 60.0, \"sg\": 1.01, \"al\": 1.0, \"su\": 0.0, \"rbc\": \"normal\", \"pc\": \"normal\", \"pcc\": \"notpresent\", \"ba\": \"notpresent\", \"bgr\": 163.0, \"bu\": 92.0, \"sc\": 3.3, \"sod\": 141.0, \"pot\": 4.0, \"hemo\": 9.8, \"pcv\": 28.0, \"wbcc\": 14600.0, \"rbcc\": 3.2, \"htn\": \"yes\", \"dm\": \"yes\", \"cad\": \"no\", \"appet\": \"good\", \"pe\": \"no\", \"ane\": \"no\", \"class\": \"ckd\"}, {\"age\": 50.0, \"bp\": 100.0, \"sg\": 1.015, \"al\": 2.0, \"su\": 0.0, \"rbc\": \"abnormal\", \"pc\": \"abnormal\", \"pcc\": \"notpresent\", \"ba\": \"notpresent\", \"bgr\": 129.0, \"bu\": 107.0, \"sc\": 6.7, \"sod\": 132.0, \"pot\": 4.4, \"hemo\": 4.8, \"pcv\": 14.0, \"wbcc\": 6300.0, \"rbcc\": 4.9, \"htn\": \"yes\", \"dm\": \"no\", \"cad\": \"no\", \"appet\": \"good\", \"pe\": \"yes\", \"ane\": \"yes\", \"class\": \"ckd\"}, {\"age\": 56.0, \"bp\": 90.0, \"sg\": 1.015, \"al\": 2.0, \"su\": 0.0, \"rbc\": \"abnormal\", \"pc\": \"abnormal\", \"pcc\": \"notpresent\", \"ba\": \"notpresent\", \"bgr\": 129.0, \"bu\": 107.0, \"sc\": 6.7, \"sod\": 131.0, \"pot\": 4.8, \"hemo\": 9.1, \"pcv\": 29.0, \"wbcc\": 6400.0, \"rbcc\": 3.4, \"htn\": \"yes\", \"dm\": \"no\", \"cad\": \"no\", \"appet\": \"good\", \"pe\": \"no\", \"ane\": \"no\", \"class\": \"ckd\"}, {\"age\": 48.0, \"bp\": 80.0, \"sg\": 1.005, \"al\": 4.0, \"su\": 0.0, \"rbc\": \"abnormal\", \"pc\": \"abnormal\", \"pcc\": \"notpresent\", \"ba\": \"present\", \"bgr\": 133.0, \"bu\": 139.0, \"sc\": 8.5, \"sod\": 132.0, \"pot\": 5.5, \"hemo\": 10.3, \"pcv\": 36.0, \"wbcc\": 6200.0, \"rbcc\": 4.0, \"htn\": \"no\", \"dm\": \"yes\", \"cad\": \"no\", \"appet\": \"good\", \"pe\": \"yes\", \"ane\": \"no\", \"class\": \"ckd\"}, {\"age\": 48.0, \"bp\": 70.0, \"sg\": 1.015, \"al\": 1.0, \"su\": 0.0, \"rbc\": \"normal\", \"pc\": \"normal\", \"pcc\": \"notpresent\", \"ba\": \"notpresent\", \"bgr\": 127.0, \"bu\": 19.0, \"sc\": 1.0, \"sod\": 134.0, \"pot\": 3.6, \"hemo\": 13.85, \"pcv\": 42.0, \"wbcc\": 7900.0, \"rbcc\": 4.9, \"htn\": \"yes\", \"dm\": \"yes\", \"cad\": \"no\", \"appet\": \"good\", \"pe\": \"no\", \"ane\": \"no\", \"class\": \"ckd\"}, {\"age\": 59.0, \"bp\": 70.0, \"sg\": 1.01, \"al\": 3.0, \"su\": 0.0, \"rbc\": \"normal\", \"pc\": \"abnormal\", \"pcc\": \"notpresent\", \"ba\": \"notpresent\", \"bgr\": 76.0, \"bu\": 186.0, \"sc\": 15.0, \"sod\": 135.0, \"pot\": 7.6, \"hemo\": 7.1, \"pcv\": 22.0, \"wbcc\": 3800.0, \"rbcc\": 2.1, \"htn\": \"yes\", \"dm\": \"no\", \"cad\": \"no\", \"appet\": \"poor\", \"pe\": \"yes\", \"ane\": \"yes\", \"class\": \"ckd\"}, {\"age\": 70.0, \"bp\": 100.0, \"sg\": 1.005, \"al\": 1.0, \"su\": 0.0, \"rbc\": \"normal\", \"pc\": \"abnormal\", \"pcc\": \"present\", \"ba\": \"notpresent\", \"bgr\": 169.0, \"bu\": 47.0, \"sc\": 2.9, \"sod\": 139.0, \"pot\": 4.5, \"hemo\": 11.1, \"pcv\": 32.0, \"wbcc\": 5800.0, \"rbcc\": 5.0, \"htn\": \"yes\", \"dm\": \"yes\", \"cad\": \"no\", \"appet\": \"poor\", \"pe\": \"no\", \"ane\": \"no\", \"class\": \"ckd\"}, {\"age\": 63.0, \"bp\": 100.0, \"sg\": 1.01, \"al\": 2.0, \"su\": 2.0, \"rbc\": \"normal\", \"pc\": \"normal\", \"pcc\": \"notpresent\", \"ba\": \"present\", \"bgr\": 280.0, \"bu\": 35.0, \"sc\": 3.2, \"sod\": 143.0, \"pot\": 3.5, \"hemo\": 13.0, \"pcv\": 40.0, \"wbcc\": 9800.0, \"rbcc\": 4.2, \"htn\": \"yes\", \"dm\": \"no\", \"cad\": \"yes\", \"appet\": \"good\", \"pe\": \"no\", \"ane\": \"no\", \"class\": \"ckd\"}, {\"age\": 56.0, \"bp\": 70.0, \"sg\": 1.015, \"al\": 4.0, \"su\": 1.0, \"rbc\": \"abnormal\", \"pc\": \"normal\", \"pcc\": \"notpresent\", \"ba\": \"notpresent\", \"bgr\": 210.0, \"bu\": 26.0, \"sc\": 1.7, \"sod\": 136.0, \"pot\": 3.8, \"hemo\": 16.1, \"pcv\": 52.0, \"wbcc\": 12500.0, \"rbcc\": 5.6, \"htn\": \"no\", \"dm\": \"no\", \"cad\": \"no\", \"appet\": \"good\", \"pe\": \"no\", \"ane\": \"no\", \"class\": \"ckd\"}, {\"age\": 71.0, \"bp\": 70.0, \"sg\": 1.01, \"al\": 3.0, \"su\": 0.0, \"rbc\": \"normal\", \"pc\": \"abnormal\", \"pcc\": \"present\", \"ba\": \"present\", \"bgr\": 219.0, \"bu\": 82.0, \"sc\": 3.6, \"sod\": 133.0, \"pot\": 4.4, \"hemo\": 10.4, \"pcv\": 33.0, \"wbcc\": 5600.0, \"rbcc\": 3.6, \"htn\": \"yes\", \"dm\": \"yes\", \"cad\": \"yes\", \"appet\": \"good\", \"pe\": \"no\", \"ane\": \"no\", \"class\": \"ckd\"}, {\"age\": 73.0, \"bp\": 100.0, \"sg\": 1.01, \"al\": 3.0, \"su\": 2.0, \"rbc\": \"abnormal\", \"pc\": \"abnormal\", \"pcc\": \"present\", \"ba\": \"notpresent\", \"bgr\": 295.0, \"bu\": 90.0, \"sc\": 5.6, \"sod\": 140.0, \"pot\": 2.9, \"hemo\": 9.2, \"pcv\": 30.0, \"wbcc\": 7000.0, \"rbcc\": 3.2, \"htn\": \"yes\", \"dm\": \"yes\", \"cad\": \"yes\", \"appet\": \"poor\", \"pe\": \"no\", \"ane\": \"no\", \"class\": \"ckd\"}, {\"age\": 34.0, \"bp\": 70.0, \"sg\": 1.015, \"al\": 4.0, \"su\": 0.0, \"rbc\": \"abnormal\", \"pc\": \"abnormal\", \"pcc\": \"notpresent\", \"ba\": \"notpresent\", \"bgr\": 153.0, \"bu\": 22.0, \"sc\": 0.9, \"sod\": 133.0, \"pot\": 3.8, \"hemo\": 13.85, \"pcv\": 42.0, \"wbcc\": 7900.0, \"rbcc\": 4.9, \"htn\": \"no\", \"dm\": \"no\", \"cad\": \"no\", \"appet\": \"good\", \"pe\": \"yes\", \"ane\": \"no\", \"class\": \"ckd\"}, {\"age\": 76.0, \"bp\": 70.0, \"sg\": 1.015, \"al\": 2.0, \"su\": 0.0, \"rbc\": \"normal\", \"pc\": \"abnormal\", \"pcc\": \"present\", \"ba\": \"notpresent\", \"bgr\": 226.0, \"bu\": 217.0, \"sc\": 10.2, \"sod\": 139.0, \"pot\": 4.5, \"hemo\": 10.2, \"pcv\": 36.0, \"wbcc\": 12700.0, \"rbcc\": 4.2, \"htn\": \"yes\", \"dm\": \"no\", \"cad\": \"no\", \"appet\": \"poor\", \"pe\": \"yes\", \"ane\": \"yes\", \"class\": \"ckd\"}, {\"age\": 55.0, \"bp\": 100.0, \"sg\": 1.015, \"al\": 1.0, \"su\": 4.0, \"rbc\": \"normal\", \"pc\": \"normal\", \"pcc\": \"notpresent\", \"ba\": \"notpresent\", \"bgr\": 297.0, \"bu\": 53.0, \"sc\": 2.8, \"sod\": 139.0, \"pot\": 4.5, \"hemo\": 11.2, \"pcv\": 34.0, \"wbcc\": 13600.0, \"rbcc\": 4.4, \"htn\": \"yes\", \"dm\": \"yes\", \"cad\": \"no\", \"appet\": \"good\", \"pe\": \"no\", \"ane\": \"no\", \"class\": \"ckd\"}, {\"age\": 50.0, \"bp\": 60.0, \"sg\": 1.015, \"al\": 3.0, \"su\": 0.0, \"rbc\": \"abnormal\", \"pc\": \"abnormal\", \"pcc\": \"notpresent\", \"ba\": \"notpresent\", \"bgr\": 119.0, \"bu\": 34.0, \"sc\": 1.2, \"sod\": 139.0, \"pot\": 4.5, \"hemo\": 10.8, \"pcv\": 33.0, \"wbcc\": 7900.0, \"rbcc\": 4.9, \"htn\": \"no\", \"dm\": \"no\", \"cad\": \"no\", \"appet\": \"good\", \"pe\": \"no\", \"ane\": \"no\", \"class\": \"ckd\"}, {\"age\": 12.0, \"bp\": 60.0, \"sg\": 1.015, \"al\": 3.0, \"su\": 0.0, \"rbc\": \"abnormal\", \"pc\": \"abnormal\", \"pcc\": \"present\", \"ba\": \"notpresent\", \"bgr\": 119.0, \"bu\": 51.0, \"sc\": 1.8, \"sod\": 139.0, \"pot\": 4.5, \"hemo\": 12.1, \"pcv\": 42.0, \"wbcc\": 10300.0, \"rbcc\": 4.9, \"htn\": \"no\", \"dm\": \"no\", \"cad\": \"no\", \"appet\": \"good\", \"pe\": \"no\", \"ane\": \"no\", \"class\": \"ckd\"}, {\"age\": 50.0, \"bp\": 70.0, \"sg\": 1.015, \"al\": 4.0, \"su\": 0.0, \"rbc\": \"abnormal\", \"pc\": \"normal\", \"pcc\": \"notpresent\", \"ba\": \"notpresent\", \"bgr\": 104.0, \"bu\": 16.0, \"sc\": 0.5, \"sod\": 139.0, \"pot\": 4.5, \"hemo\": 13.85, \"pcv\": 42.0, \"wbcc\": 7900.0, \"rbcc\": 4.9, \"htn\": \"no\", \"dm\": \"no\", \"cad\": \"no\", \"appet\": \"good\", \"pe\": \"yes\", \"ane\": \"no\", \"class\": \"ckd\"}, {\"age\": 71.0, \"bp\": 60.0, \"sg\": 1.015, \"al\": 4.0, \"su\": 0.0, \"rbc\": \"normal\", \"pc\": \"normal\", \"pcc\": \"notpresent\", \"ba\": \"notpresent\", \"bgr\": 118.0, \"bu\": 125.0, \"sc\": 5.3, \"sod\": 136.0, \"pot\": 4.9, \"hemo\": 11.4, \"pcv\": 35.0, \"wbcc\": 15200.0, \"rbcc\": 4.3, \"htn\": \"yes\", \"dm\": \"yes\", \"cad\": \"no\", \"appet\": \"poor\", \"pe\": \"yes\", \"ane\": \"no\", \"class\": \"ckd\"}, {\"age\": 52.0, \"bp\": 90.0, \"sg\": 1.015, \"al\": 4.0, \"su\": 3.0, \"rbc\": \"normal\", \"pc\": \"abnormal\", \"pcc\": \"notpresent\", \"ba\": \"notpresent\", \"bgr\": 224.0, \"bu\": 166.0, \"sc\": 5.6, \"sod\": 133.0, \"pot\": 47.0, \"hemo\": 8.1, \"pcv\": 23.0, \"wbcc\": 5000.0, \"rbcc\": 2.9, \"htn\": \"yes\", \"dm\": \"yes\", \"cad\": \"no\", \"appet\": \"good\", \"pe\": \"no\", \"ane\": \"yes\", \"class\": \"ckd\"}, {\"age\": 50.0, \"bp\": 90.0, \"sg\": 1.01, \"al\": 2.0, \"su\": 0.0, \"rbc\": \"normal\", \"pc\": \"abnormal\", \"pcc\": \"present\", \"ba\": \"present\", \"bgr\": 128.0, \"bu\": 208.0, \"sc\": 9.2, \"sod\": 134.0, \"pot\": 4.8, \"hemo\": 8.2, \"pcv\": 22.0, \"wbcc\": 16300.0, \"rbcc\": 2.7, \"htn\": \"no\", \"dm\": \"no\", \"cad\": \"no\", \"appet\": \"poor\", \"pe\": \"yes\", \"ane\": \"yes\", \"class\": \"ckd\"}, {\"age\": 50.0, \"bp\": 80.0, \"sg\": 1.02, \"al\": 0.0, \"su\": 0.0, \"rbc\": \"normal\", \"pc\": \"normal\", \"pcc\": \"notpresent\", \"ba\": \"notpresent\", \"bgr\": 219.0, \"bu\": 176.0, \"sc\": 13.8, \"sod\": 136.0, \"pot\": 4.5, \"hemo\": 8.6, \"pcv\": 24.0, \"wbcc\": 13200.0, \"rbcc\": 2.7, \"htn\": \"yes\", \"dm\": \"no\", \"cad\": \"no\", \"appet\": \"good\", \"pe\": \"yes\", \"ane\": \"yes\", \"class\": \"ckd\"}, {\"age\": 70.0, \"bp\": 100.0, \"sg\": 1.015, \"al\": 4.0, \"su\": 0.0, \"rbc\": \"normal\", \"pc\": \"normal\", \"pcc\": \"notpresent\", \"ba\": \"notpresent\", \"bgr\": 118.0, \"bu\": 125.0, \"sc\": 5.3, \"sod\": 136.0, \"pot\": 4.9, \"hemo\": 12.0, \"pcv\": 37.0, \"wbcc\": 8400.0, \"rbcc\": 8.0, \"htn\": \"yes\", \"dm\": \"no\", \"cad\": \"no\", \"appet\": \"good\", \"pe\": \"no\", \"ane\": \"no\", \"class\": \"ckd\"}, {\"age\": 47.0, \"bp\": 100.0, \"sg\": 1.01, \"al\": 0.0, \"su\": 0.0, \"rbc\": \"normal\", \"pc\": \"normal\", \"pcc\": \"notpresent\", \"ba\": \"notpresent\", \"bgr\": 122.0, \"bu\": 40.0, \"sc\": 16.9, \"sod\": 138.0, \"pot\": 5.2, \"hemo\": 10.8, \"pcv\": 33.0, \"wbcc\": 10200.0, \"rbcc\": 3.8, \"htn\": \"no\", \"dm\": \"yes\", \"cad\": \"no\", \"appet\": \"good\", \"pe\": \"no\", \"ane\": \"no\", \"class\": \"ckd\"}, {\"age\": 45.0, \"bp\": 60.0, \"sg\": 1.01, \"al\": 2.0, \"su\": 0.0, \"rbc\": \"normal\", \"pc\": \"abnormal\", \"pcc\": \"present\", \"ba\": \"notpresent\", \"bgr\": 268.0, \"bu\": 86.0, \"sc\": 4.0, \"sod\": 134.0, \"pot\": 5.1, \"hemo\": 10.0, \"pcv\": 29.0, \"wbcc\": 9200.0, \"rbcc\": 4.9, \"htn\": \"yes\", \"dm\": \"yes\", \"cad\": \"no\", \"appet\": \"good\", \"pe\": \"no\", \"ane\": \"no\", \"class\": \"ckd\"}, {\"age\": 67.0, \"bp\": 70.0, \"sg\": 1.01, \"al\": 1.0, \"su\": 0.0, \"rbc\": \"normal\", \"pc\": \"normal\", \"pcc\": \"notpresent\", \"ba\": \"notpresent\", \"bgr\": 119.0, \"bu\": 106.0, \"sc\": 6.0, \"sod\": 137.0, \"pot\": 4.9, \"hemo\": 6.1, \"pcv\": 19.0, \"wbcc\": 6500.0, \"rbcc\": 4.9, \"htn\": \"yes\", \"dm\": \"no\", \"cad\": \"no\", \"appet\": \"good\", \"pe\": \"no\", \"ane\": \"yes\", \"class\": \"ckd\"}, {\"age\": 41.0, \"bp\": 80.0, \"sg\": 1.015, \"al\": 1.0, \"su\": 4.0, \"rbc\": \"abnormal\", \"pc\": \"normal\", \"pcc\": \"notpresent\", \"ba\": \"notpresent\", \"bgr\": 210.0, \"bu\": 165.0, \"sc\": 18.0, \"sod\": 135.0, \"pot\": 4.7, \"hemo\": 13.85, \"pcv\": 42.0, \"wbcc\": 7900.0, \"rbcc\": 4.9, \"htn\": \"no\", \"dm\": \"yes\", \"cad\": \"no\", \"appet\": \"good\", \"pe\": \"no\", \"ane\": \"no\", \"class\": \"ckd\"}, {\"age\": 60.0, \"bp\": 90.0, \"sg\": 1.01, \"al\": 2.0, \"su\": 0.0, \"rbc\": \"abnormal\", \"pc\": \"normal\", \"pcc\": \"notpresent\", \"ba\": \"notpresent\", \"bgr\": 105.0, \"bu\": 53.0, \"sc\": 2.3, \"sod\": 136.0, \"pot\": 5.2, \"hemo\": 11.1, \"pcv\": 33.0, \"wbcc\": 10500.0, \"rbcc\": 4.1, \"htn\": \"no\", \"dm\": \"no\", \"cad\": \"no\", \"appet\": \"good\", \"pe\": \"no\", \"ane\": \"no\", \"class\": \"ckd\"}, {\"age\": 57.0, \"bp\": 90.0, \"sg\": 1.015, \"al\": 5.0, \"su\": 0.0, \"rbc\": \"abnormal\", \"pc\": \"abnormal\", \"pcc\": \"notpresent\", \"ba\": \"present\", \"bgr\": 119.0, \"bu\": 322.0, \"sc\": 13.0, \"sod\": 126.0, \"pot\": 4.8, \"hemo\": 8.0, \"pcv\": 24.0, \"wbcc\": 4200.0, \"rbcc\": 3.3, \"htn\": \"yes\", \"dm\": \"yes\", \"cad\": \"yes\", \"appet\": \"poor\", \"pe\": \"yes\", \"ane\": \"yes\", \"class\": \"ckd\"}, {\"age\": 53.0, \"bp\": 100.0, \"sg\": 1.01, \"al\": 1.0, \"su\": 3.0, \"rbc\": \"abnormal\", \"pc\": \"normal\", \"pcc\": \"notpresent\", \"ba\": \"notpresent\", \"bgr\": 213.0, \"bu\": 23.0, \"sc\": 1.0, \"sod\": 139.0, \"pot\": 4.0, \"hemo\": 13.85, \"pcv\": 42.0, \"wbcc\": 7900.0, \"rbcc\": 4.9, \"htn\": \"no\", \"dm\": \"yes\", \"cad\": \"no\", \"appet\": \"good\", \"pe\": \"no\", \"ane\": \"no\", \"class\": \"ckd\"}, {\"age\": 60.0, \"bp\": 60.0, \"sg\": 1.01, \"al\": 3.0, \"su\": 1.0, \"rbc\": \"normal\", \"pc\": \"abnormal\", \"pcc\": \"present\", \"ba\": \"notpresent\", \"bgr\": 288.0, \"bu\": 36.0, \"sc\": 1.7, \"sod\": 130.0, \"pot\": 3.0, \"hemo\": 7.9, \"pcv\": 25.0, \"wbcc\": 15200.0, \"rbcc\": 3.0, \"htn\": \"yes\", \"dm\": \"no\", \"cad\": \"no\", \"appet\": \"poor\", \"pe\": \"no\", \"ane\": \"yes\", \"class\": \"ckd\"}, {\"age\": 65.0, \"bp\": 70.0, \"sg\": 1.02, \"al\": 1.0, \"su\": 0.0, \"rbc\": \"abnormal\", \"pc\": \"abnormal\", \"pcc\": \"notpresent\", \"ba\": \"notpresent\", \"bgr\": 139.0, \"bu\": 29.0, \"sc\": 1.0, \"sod\": 139.0, \"pot\": 4.5, \"hemo\": 10.5, \"pcv\": 32.0, \"wbcc\": 7900.0, \"rbcc\": 4.9, \"htn\": \"yes\", \"dm\": \"no\", \"cad\": \"no\", \"appet\": \"good\", \"pe\": \"yes\", \"ane\": \"no\", \"class\": \"ckd\"}, {\"age\": 8.0, \"bp\": 60.0, \"sg\": 1.025, \"al\": 3.0, \"su\": 0.0, \"rbc\": \"normal\", \"pc\": \"normal\", \"pcc\": \"notpresent\", \"ba\": \"notpresent\", \"bgr\": 78.0, \"bu\": 27.0, \"sc\": 0.9, \"sod\": 139.0, \"pot\": 4.5, \"hemo\": 12.3, \"pcv\": 41.0, \"wbcc\": 6700.0, \"rbcc\": 4.9, \"htn\": \"no\", \"dm\": \"no\", \"cad\": \"no\", \"appet\": \"poor\", \"pe\": \"yes\", \"ane\": \"no\", \"class\": \"ckd\"}, {\"age\": 55.0, \"bp\": 90.0, \"sg\": 1.01, \"al\": 2.0, \"su\": 1.0, \"rbc\": \"abnormal\", \"pc\": \"abnormal\", \"pcc\": \"notpresent\", \"ba\": \"notpresent\", \"bgr\": 273.0, \"bu\": 235.0, \"sc\": 14.2, \"sod\": 132.0, \"pot\": 3.4, \"hemo\": 8.3, \"pcv\": 22.0, \"wbcc\": 14600.0, \"rbcc\": 2.9, \"htn\": \"yes\", \"dm\": \"yes\", \"cad\": \"no\", \"appet\": \"poor\", \"pe\": \"yes\", \"ane\": \"yes\", \"class\": \"ckd\"}, {\"age\": 56.0, \"bp\": 90.0, \"sg\": 1.005, \"al\": 4.0, \"su\": 3.0, \"rbc\": \"abnormal\", \"pc\": \"abnormal\", \"pcc\": \"notpresent\", \"ba\": \"notpresent\", \"bgr\": 242.0, \"bu\": 132.0, \"sc\": 16.4, \"sod\": 140.0, \"pot\": 4.2, \"hemo\": 8.4, \"pcv\": 26.0, \"wbcc\": 7900.0, \"rbcc\": 3.0, \"htn\": \"yes\", \"dm\": \"yes\", \"cad\": \"no\", \"appet\": \"poor\", \"pe\": \"yes\", \"ane\": \"yes\", \"class\": \"ckd\"}, {\"age\": 50.0, \"bp\": 70.0, \"sg\": 1.02, \"al\": 3.0, \"su\": 0.0, \"rbc\": \"abnormal\", \"pc\": \"normal\", \"pcc\": \"present\", \"ba\": \"present\", \"bgr\": 123.0, \"bu\": 40.0, \"sc\": 1.8, \"sod\": 139.0, \"pot\": 4.5, \"hemo\": 11.1, \"pcv\": 36.0, \"wbcc\": 4700.0, \"rbcc\": 4.9, \"htn\": \"no\", \"dm\": \"no\", \"cad\": \"no\", \"appet\": \"good\", \"pe\": \"no\", \"ane\": \"no\", \"class\": \"ckd\"}, {\"age\": 62.0, \"bp\": 70.0, \"sg\": 1.025, \"al\": 3.0, \"su\": 0.0, \"rbc\": \"normal\", \"pc\": \"abnormal\", \"pcc\": \"notpresent\", \"ba\": \"notpresent\", \"bgr\": 122.0, \"bu\": 42.0, \"sc\": 1.7, \"sod\": 136.0, \"pot\": 4.7, \"hemo\": 12.6, \"pcv\": 39.0, \"wbcc\": 7900.0, \"rbcc\": 3.9, \"htn\": \"yes\", \"dm\": \"yes\", \"cad\": \"no\", \"appet\": \"good\", \"pe\": \"no\", \"ane\": \"no\", \"class\": \"ckd\"}, {\"age\": 71.0, \"bp\": 60.0, \"sg\": 1.02, \"al\": 3.0, \"su\": 2.0, \"rbc\": \"normal\", \"pc\": \"normal\", \"pcc\": \"present\", \"ba\": \"notpresent\", \"bgr\": 424.0, \"bu\": 48.0, \"sc\": 1.5, \"sod\": 132.0, \"pot\": 4.0, \"hemo\": 10.9, \"pcv\": 31.0, \"wbcc\": 7900.0, \"rbcc\": 4.9, \"htn\": \"yes\", \"dm\": \"yes\", \"cad\": \"yes\", \"appet\": \"good\", \"pe\": \"no\", \"ane\": \"no\", \"class\": \"ckd\"}, {\"age\": 59.0, \"bp\": 80.0, \"sg\": 1.01, \"al\": 1.0, \"su\": 0.0, \"rbc\": \"abnormal\", \"pc\": \"normal\", \"pcc\": \"notpresent\", \"ba\": \"notpresent\", \"bgr\": 303.0, \"bu\": 35.0, \"sc\": 1.3, \"sod\": 122.0, \"pot\": 3.5, \"hemo\": 10.4, \"pcv\": 35.0, \"wbcc\": 10900.0, \"rbcc\": 4.3, \"htn\": \"no\", \"dm\": \"yes\", \"cad\": \"no\", \"appet\": \"poor\", \"pe\": \"no\", \"ane\": \"no\", \"class\": \"ckd\"}, {\"age\": 62.0, \"bp\": 80.0, \"sg\": 1.015, \"al\": 3.0, \"su\": 0.0, \"rbc\": \"abnormal\", \"pc\": \"normal\", \"pcc\": \"notpresent\", \"ba\": \"notpresent\", \"bgr\": 119.0, \"bu\": 40.0, \"sc\": 1.15, \"sod\": 139.0, \"pot\": 4.5, \"hemo\": 14.3, \"pcv\": 42.0, \"wbcc\": 10200.0, \"rbcc\": 4.8, \"htn\": \"yes\", \"dm\": \"yes\", \"cad\": \"no\", \"appet\": \"good\", \"pe\": \"no\", \"ane\": \"no\", \"class\": \"ckd\"}, {\"age\": 34.0, \"bp\": 70.0, \"sg\": 1.02, \"al\": 0.0, \"su\": 0.0, \"rbc\": \"abnormal\", \"pc\": \"normal\", \"pcc\": \"notpresent\", \"ba\": \"notpresent\", \"bgr\": 139.0, \"bu\": 19.0, \"sc\": 0.9, \"sod\": 139.0, \"pot\": 4.5, \"hemo\": 12.7, \"pcv\": 42.0, \"wbcc\": 2200.0, \"rbcc\": 4.9, \"htn\": \"no\", \"dm\": \"no\", \"cad\": \"no\", \"appet\": \"poor\", \"pe\": \"no\", \"ane\": \"no\", \"class\": \"ckd\"}, {\"age\": 83.0, \"bp\": 70.0, \"sg\": 1.02, \"al\": 3.0, \"su\": 0.0, \"rbc\": \"normal\", \"pc\": \"normal\", \"pcc\": \"notpresent\", \"ba\": \"notpresent\", \"bgr\": 102.0, \"bu\": 60.0, \"sc\": 2.6, \"sod\": 115.0, \"pot\": 5.7, \"hemo\": 8.7, \"pcv\": 26.0, \"wbcc\": 12800.0, \"rbcc\": 3.1, \"htn\": \"yes\", \"dm\": \"no\", \"cad\": \"no\", \"appet\": \"poor\", \"pe\": \"no\", \"ane\": \"yes\", \"class\": \"ckd\"}, {\"age\": 17.0, \"bp\": 70.0, \"sg\": 1.015, \"al\": 1.0, \"su\": 0.0, \"rbc\": \"abnormal\", \"pc\": \"normal\", \"pcc\": \"notpresent\", \"ba\": \"notpresent\", \"bgr\": 22.0, \"bu\": 1.5, \"sc\": 7.3, \"sod\": 145.0, \"pot\": 2.8, \"hemo\": 13.1, \"pcv\": 41.0, \"wbcc\": 11200.0, \"rbcc\": 4.9, \"htn\": \"no\", \"dm\": \"no\", \"cad\": \"no\", \"appet\": \"good\", \"pe\": \"no\", \"ane\": \"no\", \"class\": \"ckd\"}, {\"age\": 21.0, \"bp\": 90.0, \"sg\": 1.01, \"al\": 4.0, \"su\": 0.0, \"rbc\": \"normal\", \"pc\": \"abnormal\", \"pcc\": \"present\", \"ba\": \"present\", \"bgr\": 107.0, \"bu\": 40.0, \"sc\": 1.7, \"sod\": 125.0, \"pot\": 3.5, \"hemo\": 8.3, \"pcv\": 23.0, \"wbcc\": 12400.0, \"rbcc\": 3.9, \"htn\": \"no\", \"dm\": \"no\", \"cad\": \"no\", \"appet\": \"good\", \"pe\": \"no\", \"ane\": \"yes\", \"class\": \"ckd\"}, {\"age\": 65.0, \"bp\": 80.0, \"sg\": 1.015, \"al\": 2.0, \"su\": 1.0, \"rbc\": \"normal\", \"pc\": \"normal\", \"pcc\": \"present\", \"ba\": \"notpresent\", \"bgr\": 215.0, \"bu\": 133.0, \"sc\": 2.5, \"sod\": 139.0, \"pot\": 4.5, \"hemo\": 13.2, \"pcv\": 41.0, \"wbcc\": 7900.0, \"rbcc\": 4.9, \"htn\": \"no\", \"dm\": \"yes\", \"cad\": \"no\", \"appet\": \"good\", \"pe\": \"no\", \"ane\": \"no\", \"class\": \"ckd\"}, {\"age\": 42.0, \"bp\": 90.0, \"sg\": 1.02, \"al\": 2.0, \"su\": 0.0, \"rbc\": \"abnormal\", \"pc\": \"abnormal\", \"pcc\": \"present\", \"ba\": \"notpresent\", \"bgr\": 93.0, \"bu\": 153.0, \"sc\": 2.7, \"sod\": 139.0, \"pot\": 4.3, \"hemo\": 9.8, \"pcv\": 34.0, \"wbcc\": 9800.0, \"rbcc\": 4.9, \"htn\": \"no\", \"dm\": \"no\", \"cad\": \"no\", \"appet\": \"poor\", \"pe\": \"yes\", \"ane\": \"yes\", \"class\": \"ckd\"}, {\"age\": 73.0, \"bp\": 90.0, \"sg\": 1.01, \"al\": 1.0, \"su\": 4.0, \"rbc\": \"abnormal\", \"pc\": \"abnormal\", \"pcc\": \"present\", \"ba\": \"notpresent\", \"bgr\": 234.0, \"bu\": 56.0, \"sc\": 1.9, \"sod\": 139.0, \"pot\": 4.5, \"hemo\": 10.3, \"pcv\": 28.0, \"wbcc\": 7900.0, \"rbcc\": 4.9, \"htn\": \"no\", \"dm\": \"yes\", \"cad\": \"no\", \"appet\": \"good\", \"pe\": \"no\", \"ane\": \"no\", \"class\": \"ckd\"}, {\"age\": 45.0, \"bp\": 70.0, \"sg\": 1.025, \"al\": 2.0, \"su\": 0.0, \"rbc\": \"normal\", \"pc\": \"abnormal\", \"pcc\": \"present\", \"ba\": \"notpresent\", \"bgr\": 117.0, \"bu\": 52.0, \"sc\": 2.2, \"sod\": 136.0, \"pot\": 3.8, \"hemo\": 10.0, \"pcv\": 30.0, \"wbcc\": 19100.0, \"rbcc\": 3.7, \"htn\": \"no\", \"dm\": \"no\", \"cad\": \"no\", \"appet\": \"good\", \"pe\": \"no\", \"ane\": \"no\", \"class\": \"ckd\"}, {\"age\": 8.0, \"bp\": 50.0, \"sg\": 1.02, \"al\": 4.0, \"su\": 0.0, \"rbc\": \"normal\", \"pc\": \"normal\", \"pcc\": \"notpresent\", \"ba\": \"notpresent\", \"bgr\": 119.0, \"bu\": 46.0, \"sc\": 1.0, \"sod\": 135.0, \"pot\": 3.8, \"hemo\": 13.85, \"pcv\": 42.0, \"wbcc\": 7900.0, \"rbcc\": 4.9, \"htn\": \"no\", \"dm\": \"no\", \"cad\": \"no\", \"appet\": \"good\", \"pe\": \"yes\", \"ane\": \"no\", \"class\": \"ckd\"}, {\"age\": 3.0, \"bp\": 80.0, \"sg\": 1.01, \"al\": 2.0, \"su\": 0.0, \"rbc\": \"normal\", \"pc\": \"normal\", \"pcc\": \"notpresent\", \"ba\": \"notpresent\", \"bgr\": 119.0, \"bu\": 22.0, \"sc\": 0.7, \"sod\": 139.0, \"pot\": 4.5, \"hemo\": 10.7, \"pcv\": 34.0, \"wbcc\": 12300.0, \"rbcc\": 4.9, \"htn\": \"no\", \"dm\": \"no\", \"cad\": \"no\", \"appet\": \"good\", \"pe\": \"no\", \"ane\": \"no\", \"class\": \"ckd\"}, {\"age\": 64.0, \"bp\": 60.0, \"sg\": 1.01, \"al\": 4.0, \"su\": 1.0, \"rbc\": \"abnormal\", \"pc\": \"abnormal\", \"pcc\": \"notpresent\", \"ba\": \"present\", \"bgr\": 239.0, \"bu\": 58.0, \"sc\": 4.3, \"sod\": 137.0, \"pot\": 5.4, \"hemo\": 9.5, \"pcv\": 29.0, \"wbcc\": 7500.0, \"rbcc\": 3.4, \"htn\": \"yes\", \"dm\": \"yes\", \"cad\": \"no\", \"appet\": \"poor\", \"pe\": \"yes\", \"ane\": \"no\", \"class\": \"ckd\"}, {\"age\": 6.0, \"bp\": 60.0, \"sg\": 1.01, \"al\": 4.0, \"su\": 0.0, \"rbc\": \"abnormal\", \"pc\": \"abnormal\", \"pcc\": \"notpresent\", \"ba\": \"present\", \"bgr\": 94.0, \"bu\": 67.0, \"sc\": 1.0, \"sod\": 135.0, \"pot\": 4.9, \"hemo\": 9.9, \"pcv\": 30.0, \"wbcc\": 16700.0, \"rbcc\": 4.8, \"htn\": \"no\", \"dm\": \"no\", \"cad\": \"no\", \"appet\": \"poor\", \"pe\": \"no\", \"ane\": \"no\", \"class\": \"ckd\"}, {\"age\": 50.0, \"bp\": 70.0, \"sg\": 1.01, \"al\": 3.0, \"su\": 0.0, \"rbc\": \"normal\", \"pc\": \"normal\", \"pcc\": \"notpresent\", \"ba\": \"notpresent\", \"bgr\": 110.0, \"bu\": 115.0, \"sc\": 6.0, \"sod\": 134.0, \"pot\": 2.7, \"hemo\": 9.1, \"pcv\": 26.0, \"wbcc\": 9200.0, \"rbcc\": 3.4, \"htn\": \"yes\", \"dm\": \"yes\", \"cad\": \"no\", \"appet\": \"poor\", \"pe\": \"no\", \"ane\": \"no\", \"class\": \"ckd\"}, {\"age\": 32.0, \"bp\": 90.0, \"sg\": 1.025, \"al\": 1.0, \"su\": 0.0, \"rbc\": \"abnormal\", \"pc\": \"abnormal\", \"pcc\": \"notpresent\", \"ba\": \"notpresent\", \"bgr\": 119.0, \"bu\": 223.0, \"sc\": 18.1, \"sod\": 113.0, \"pot\": 6.5, \"hemo\": 5.5, \"pcv\": 15.0, \"wbcc\": 2600.0, \"rbcc\": 2.8, \"htn\": \"yes\", \"dm\": \"yes\", \"cad\": \"no\", \"appet\": \"poor\", \"pe\": \"yes\", \"ane\": \"yes\", \"class\": \"ckd\"}, {\"age\": 70.0, \"bp\": 90.0, \"sg\": 1.02, \"al\": 2.0, \"su\": 1.0, \"rbc\": \"abnormal\", \"pc\": \"abnormal\", \"pcc\": \"notpresent\", \"ba\": \"present\", \"bgr\": 184.0, \"bu\": 98.6, \"sc\": 3.3, \"sod\": 138.0, \"pot\": 3.9, \"hemo\": 5.8, \"pcv\": 42.0, \"wbcc\": 7900.0, \"rbcc\": 4.9, \"htn\": \"yes\", \"dm\": \"yes\", \"cad\": \"yes\", \"appet\": \"poor\", \"pe\": \"no\", \"ane\": \"no\", \"class\": \"ckd\"}, {\"age\": 49.0, \"bp\": 100.0, \"sg\": 1.01, \"al\": 3.0, \"su\": 0.0, \"rbc\": \"abnormal\", \"pc\": \"abnormal\", \"pcc\": \"notpresent\", \"ba\": \"notpresent\", \"bgr\": 129.0, \"bu\": 158.0, \"sc\": 11.8, \"sod\": 122.0, \"pot\": 3.2, \"hemo\": 8.1, \"pcv\": 24.0, \"wbcc\": 9600.0, \"rbcc\": 3.5, \"htn\": \"yes\", \"dm\": \"yes\", \"cad\": \"no\", \"appet\": \"poor\", \"pe\": \"yes\", \"ane\": \"yes\", \"class\": \"ckd\"}, {\"age\": 59.0, \"bp\": 100.0, \"sg\": 1.02, \"al\": 4.0, \"su\": 2.0, \"rbc\": \"normal\", \"pc\": \"normal\", \"pcc\": \"notpresent\", \"ba\": \"notpresent\", \"bgr\": 252.0, \"bu\": 40.0, \"sc\": 3.2, \"sod\": 137.0, \"pot\": 4.7, \"hemo\": 11.2, \"pcv\": 30.0, \"wbcc\": 26400.0, \"rbcc\": 3.9, \"htn\": \"yes\", \"dm\": \"yes\", \"cad\": \"no\", \"appet\": \"poor\", \"pe\": \"yes\", \"ane\": \"no\", \"class\": \"ckd\"}, {\"age\": 65.0, \"bp\": 90.0, \"sg\": 1.01, \"al\": 4.0, \"su\": 2.0, \"rbc\": \"normal\", \"pc\": \"normal\", \"pcc\": \"notpresent\", \"ba\": \"notpresent\", \"bgr\": 172.0, \"bu\": 82.0, \"sc\": 13.5, \"sod\": 145.0, \"pot\": 6.3, \"hemo\": 8.8, \"pcv\": 31.0, \"wbcc\": 7900.0, \"rbcc\": 4.9, \"htn\": \"yes\", \"dm\": \"yes\", \"cad\": \"no\", \"appet\": \"good\", \"pe\": \"yes\", \"ane\": \"yes\", \"class\": \"ckd\"}, {\"age\": 59.0, \"bp\": 100.0, \"sg\": 1.015, \"al\": 4.0, \"su\": 2.0, \"rbc\": \"normal\", \"pc\": \"normal\", \"pcc\": \"notpresent\", \"ba\": \"notpresent\", \"bgr\": 255.0, \"bu\": 132.0, \"sc\": 12.8, \"sod\": 135.0, \"pot\": 5.7, \"hemo\": 7.3, \"pcv\": 20.0, \"wbcc\": 9800.0, \"rbcc\": 3.9, \"htn\": \"yes\", \"dm\": \"yes\", \"cad\": \"yes\", \"appet\": \"good\", \"pe\": \"no\", \"ane\": \"yes\", \"class\": \"ckd\"}, {\"age\": 40.0, \"bp\": 70.0, \"sg\": 1.015, \"al\": 3.0, \"su\": 4.0, \"rbc\": \"normal\", \"pc\": \"normal\", \"pcc\": \"notpresent\", \"ba\": \"notpresent\", \"bgr\": 253.0, \"bu\": 150.0, \"sc\": 11.9, \"sod\": 132.0, \"pot\": 5.6, \"hemo\": 10.9, \"pcv\": 31.0, \"wbcc\": 8800.0, \"rbcc\": 3.4, \"htn\": \"yes\", \"dm\": \"yes\", \"cad\": \"no\", \"appet\": \"poor\", \"pe\": \"yes\", \"ane\": \"no\", \"class\": \"ckd\"}, {\"age\": 55.0, \"bp\": 80.0, \"sg\": 1.01, \"al\": 3.0, \"su\": 1.0, \"rbc\": \"normal\", \"pc\": \"abnormal\", \"pcc\": \"present\", \"ba\": \"present\", \"bgr\": 214.0, \"bu\": 73.0, \"sc\": 3.9, \"sod\": 137.0, \"pot\": 4.9, \"hemo\": 10.9, \"pcv\": 34.0, \"wbcc\": 7400.0, \"rbcc\": 3.7, \"htn\": \"yes\", \"dm\": \"yes\", \"cad\": \"no\", \"appet\": \"good\", \"pe\": \"yes\", \"ane\": \"no\", \"class\": \"ckd\"}, {\"age\": 2.0, \"bp\": 80.0, \"sg\": 1.01, \"al\": 3.0, \"su\": 0.0, \"rbc\": \"normal\", \"pc\": \"abnormal\", \"pcc\": \"notpresent\", \"ba\": \"notpresent\", \"bgr\": 119.0, \"bu\": 40.0, \"sc\": 1.15, \"sod\": 139.0, \"pot\": 4.5, \"hemo\": 13.85, \"pcv\": 42.0, \"wbcc\": 7900.0, \"rbcc\": 4.9, \"htn\": \"no\", \"dm\": \"no\", \"cad\": \"no\", \"appet\": \"good\", \"pe\": \"yes\", \"ane\": \"no\", \"class\": \"ckd\"}, {\"age\": 66.0, \"bp\": 70.0, \"sg\": 1.02, \"al\": 1.0, \"su\": 0.0, \"rbc\": \"normal\", \"pc\": \"normal\", \"pcc\": \"notpresent\", \"ba\": \"notpresent\", \"bgr\": 248.0, \"bu\": 30.0, \"sc\": 1.7, \"sod\": 138.0, \"pot\": 5.3, \"hemo\": 13.85, \"pcv\": 42.0, \"wbcc\": 7900.0, \"rbcc\": 4.9, \"htn\": \"yes\", \"dm\": \"yes\", \"cad\": \"no\", \"appet\": \"good\", \"pe\": \"no\", \"ane\": \"no\", \"class\": \"ckd\"}, {\"age\": 60.0, \"bp\": 90.0, \"sg\": 1.01, \"al\": 3.0, \"su\": 5.0, \"rbc\": \"abnormal\", \"pc\": \"normal\", \"pcc\": \"notpresent\", \"ba\": \"present\", \"bgr\": 490.0, \"bu\": 95.0, \"sc\": 2.7, \"sod\": 131.0, \"pot\": 3.8, \"hemo\": 11.5, \"pcv\": 35.0, \"wbcc\": 12000.0, \"rbcc\": 4.5, \"htn\": \"yes\", \"dm\": \"yes\", \"cad\": \"no\", \"appet\": \"good\", \"pe\": \"no\", \"ane\": \"no\", \"class\": \"ckd\"}, {\"age\": 64.0, \"bp\": 100.0, \"sg\": 1.015, \"al\": 4.0, \"su\": 2.0, \"rbc\": \"abnormal\", \"pc\": \"abnormal\", \"pcc\": \"notpresent\", \"ba\": \"present\", \"bgr\": 163.0, \"bu\": 54.0, \"sc\": 7.2, \"sod\": 140.0, \"pot\": 4.6, \"hemo\": 7.9, \"pcv\": 26.0, \"wbcc\": 7500.0, \"rbcc\": 3.4, \"htn\": \"yes\", \"dm\": \"yes\", \"cad\": \"no\", \"appet\": \"good\", \"pe\": \"yes\", \"ane\": \"no\", \"class\": \"ckd\"}, {\"age\": 59.0, \"bp\": 50.0, \"sg\": 1.01, \"al\": 3.0, \"su\": 0.0, \"rbc\": \"normal\", \"pc\": \"abnormal\", \"pcc\": \"notpresent\", \"ba\": \"notpresent\", \"bgr\": 241.0, \"bu\": 191.0, \"sc\": 12.0, \"sod\": 114.0, \"pot\": 2.9, \"hemo\": 9.6, \"pcv\": 31.0, \"wbcc\": 15700.0, \"rbcc\": 3.8, \"htn\": \"no\", \"dm\": \"yes\", \"cad\": \"no\", \"appet\": \"good\", \"pe\": \"yes\", \"ane\": \"no\", \"class\": \"ckd\"}, {\"age\": 65.0, \"bp\": 60.0, \"sg\": 1.01, \"al\": 2.0, \"su\": 0.0, \"rbc\": \"normal\", \"pc\": \"abnormal\", \"pcc\": \"present\", \"ba\": \"notpresent\", \"bgr\": 192.0, \"bu\": 17.0, \"sc\": 1.7, \"sod\": 130.0, \"pot\": 4.3, \"hemo\": 13.85, \"pcv\": 42.0, \"wbcc\": 9500.0, \"rbcc\": 4.9, \"htn\": \"yes\", \"dm\": \"yes\", \"cad\": \"no\", \"appet\": \"poor\", \"pe\": \"no\", \"ane\": \"no\", \"class\": \"ckd\"}, {\"age\": 50.0, \"bp\": 90.0, \"sg\": 1.015, \"al\": 1.0, \"su\": 0.0, \"rbc\": \"abnormal\", \"pc\": \"abnormal\", \"pcc\": \"notpresent\", \"ba\": \"notpresent\", \"bgr\": 119.0, \"bu\": 40.0, \"sc\": 1.15, \"sod\": 139.0, \"pot\": 4.5, \"hemo\": 13.85, \"pcv\": 42.0, \"wbcc\": 7900.0, \"rbcc\": 4.9, \"htn\": \"no\", \"dm\": \"no\", \"cad\": \"no\", \"appet\": \"good\", \"pe\": \"yes\", \"ane\": \"no\", \"class\": \"ckd\"}, {\"age\": 51.0, \"bp\": 100.0, \"sg\": 1.015, \"al\": 2.0, \"su\": 0.0, \"rbc\": \"normal\", \"pc\": \"normal\", \"pcc\": \"notpresent\", \"ba\": \"present\", \"bgr\": 93.0, \"bu\": 20.0, \"sc\": 1.6, \"sod\": 146.0, \"pot\": 4.5, \"hemo\": 13.85, \"pcv\": 42.0, \"wbcc\": 7900.0, \"rbcc\": 4.9, \"htn\": \"no\", \"dm\": \"no\", \"cad\": \"no\", \"appet\": \"poor\", \"pe\": \"no\", \"ane\": \"no\", \"class\": \"ckd\"}, {\"age\": 37.0, \"bp\": 100.0, \"sg\": 1.01, \"al\": 0.0, \"su\": 0.0, \"rbc\": \"abnormal\", \"pc\": \"normal\", \"pcc\": \"notpresent\", \"ba\": \"notpresent\", \"bgr\": 119.0, \"bu\": 19.0, \"sc\": 1.3, \"sod\": 139.0, \"pot\": 4.5, \"hemo\": 15.0, \"pcv\": 44.0, \"wbcc\": 4100.0, \"rbcc\": 5.2, \"htn\": \"yes\", \"dm\": \"no\", \"cad\": \"no\", \"appet\": \"good\", \"pe\": \"no\", \"ane\": \"no\", \"class\": \"ckd\"}, {\"age\": 34.0, \"bp\": 90.0, \"sg\": 1.015, \"al\": 2.0, \"su\": 0.0, \"rbc\": \"normal\", \"pc\": \"normal\", \"pcc\": \"notpresent\", \"ba\": \"notpresent\", \"bgr\": 104.0, \"bu\": 50.0, \"sc\": 1.6, \"sod\": 137.0, \"pot\": 4.1, \"hemo\": 11.9, \"pcv\": 39.0, \"wbcc\": 7900.0, \"rbcc\": 4.9, \"htn\": \"no\", \"dm\": \"no\", \"cad\": \"no\", \"appet\": \"good\", \"pe\": \"no\", \"ane\": \"no\", \"class\": \"ckd\"}, {\"age\": 69.0, \"bp\": 70.0, \"sg\": 1.01, \"al\": 4.0, \"su\": 3.0, \"rbc\": \"normal\", \"pc\": \"abnormal\", \"pcc\": \"present\", \"ba\": \"present\", \"bgr\": 214.0, \"bu\": 96.0, \"sc\": 6.3, \"sod\": 120.0, \"pot\": 3.9, \"hemo\": 9.4, \"pcv\": 28.0, \"wbcc\": 11500.0, \"rbcc\": 3.3, \"htn\": \"yes\", \"dm\": \"yes\", \"cad\": \"yes\", \"appet\": \"good\", \"pe\": \"yes\", \"ane\": \"yes\", \"class\": \"ckd\"}, {\"age\": 48.0, \"bp\": 110.0, \"sg\": 1.015, \"al\": 3.0, \"su\": 0.0, \"rbc\": \"abnormal\", \"pc\": \"normal\", \"pcc\": \"present\", \"ba\": \"notpresent\", \"bgr\": 106.0, \"bu\": 215.0, \"sc\": 15.2, \"sod\": 120.0, \"pot\": 5.7, \"hemo\": 8.6, \"pcv\": 26.0, \"wbcc\": 5000.0, \"rbcc\": 2.5, \"htn\": \"yes\", \"dm\": \"no\", \"cad\": \"yes\", \"appet\": \"good\", \"pe\": \"no\", \"ane\": \"yes\", \"class\": \"ckd\"}, {\"age\": 54.0, \"bp\": 90.0, \"sg\": 1.025, \"al\": 1.0, \"su\": 0.0, \"rbc\": \"normal\", \"pc\": \"abnormal\", \"pcc\": \"notpresent\", \"ba\": \"notpresent\", \"bgr\": 150.0, \"bu\": 18.0, \"sc\": 1.2, \"sod\": 140.0, \"pot\": 4.2, \"hemo\": 13.85, \"pcv\": 42.0, \"wbcc\": 7900.0, \"rbcc\": 4.9, \"htn\": \"no\", \"dm\": \"no\", \"cad\": \"no\", \"appet\": \"poor\", \"pe\": \"yes\", \"ane\": \"yes\", \"class\": \"ckd\"}, {\"age\": 59.0, \"bp\": 70.0, \"sg\": 1.01, \"al\": 1.0, \"su\": 3.0, \"rbc\": \"abnormal\", \"pc\": \"abnormal\", \"pcc\": \"notpresent\", \"ba\": \"notpresent\", \"bgr\": 424.0, \"bu\": 55.0, \"sc\": 1.7, \"sod\": 138.0, \"pot\": 4.5, \"hemo\": 12.6, \"pcv\": 37.0, \"wbcc\": 10200.0, \"rbcc\": 4.1, \"htn\": \"yes\", \"dm\": \"yes\", \"cad\": \"yes\", \"appet\": \"good\", \"pe\": \"no\", \"ane\": \"no\", \"class\": \"ckd\"}, {\"age\": 56.0, \"bp\": 90.0, \"sg\": 1.01, \"al\": 4.0, \"su\": 1.0, \"rbc\": \"normal\", \"pc\": \"abnormal\", \"pcc\": \"present\", \"ba\": \"notpresent\", \"bgr\": 176.0, \"bu\": 309.0, \"sc\": 13.3, \"sod\": 124.0, \"pot\": 6.5, \"hemo\": 3.1, \"pcv\": 9.0, \"wbcc\": 5400.0, \"rbcc\": 2.1, \"htn\": \"yes\", \"dm\": \"yes\", \"cad\": \"no\", \"appet\": \"poor\", \"pe\": \"yes\", \"ane\": \"yes\", \"class\": \"ckd\"}, {\"age\": 40.0, \"bp\": 80.0, \"sg\": 1.025, \"al\": 0.0, \"su\": 0.0, \"rbc\": \"normal\", \"pc\": \"normal\", \"pcc\": \"notpresent\", \"ba\": \"notpresent\", \"bgr\": 140.0, \"bu\": 10.0, \"sc\": 1.2, \"sod\": 135.0, \"pot\": 5.0, \"hemo\": 15.0, \"pcv\": 48.0, \"wbcc\": 10400.0, \"rbcc\": 4.5, \"htn\": \"no\", \"dm\": \"no\", \"cad\": \"no\", \"appet\": \"good\", \"pe\": \"no\", \"ane\": \"no\", \"class\": \"notckd\"}, {\"age\": 23.0, \"bp\": 80.0, \"sg\": 1.025, \"al\": 0.0, \"su\": 0.0, \"rbc\": \"normal\", \"pc\": \"normal\", \"pcc\": \"notpresent\", \"ba\": \"notpresent\", \"bgr\": 70.0, \"bu\": 36.0, \"sc\": 1.0, \"sod\": 150.0, \"pot\": 4.6, \"hemo\": 17.0, \"pcv\": 52.0, \"wbcc\": 9800.0, \"rbcc\": 5.0, \"htn\": \"no\", \"dm\": \"no\", \"cad\": \"no\", \"appet\": \"good\", \"pe\": \"no\", \"ane\": \"no\", \"class\": \"notckd\"}, {\"age\": 45.0, \"bp\": 80.0, \"sg\": 1.025, \"al\": 0.0, \"su\": 0.0, \"rbc\": \"normal\", \"pc\": \"normal\", \"pcc\": \"notpresent\", \"ba\": \"notpresent\", \"bgr\": 82.0, \"bu\": 49.0, \"sc\": 0.6, \"sod\": 147.0, \"pot\": 4.4, \"hemo\": 15.9, \"pcv\": 46.0, \"wbcc\": 9100.0, \"rbcc\": 4.7, \"htn\": \"no\", \"dm\": \"no\", \"cad\": \"no\", \"appet\": \"good\", \"pe\": \"no\", \"ane\": \"no\", \"class\": \"notckd\"}, {\"age\": 57.0, \"bp\": 80.0, \"sg\": 1.025, \"al\": 0.0, \"su\": 0.0, \"rbc\": \"normal\", \"pc\": \"normal\", \"pcc\": \"notpresent\", \"ba\": \"notpresent\", \"bgr\": 119.0, \"bu\": 17.0, \"sc\": 1.2, \"sod\": 135.0, \"pot\": 4.7, \"hemo\": 15.4, \"pcv\": 42.0, \"wbcc\": 6200.0, \"rbcc\": 6.2, \"htn\": \"no\", \"dm\": \"no\", \"cad\": \"no\", \"appet\": \"good\", \"pe\": \"no\", \"ane\": \"no\", \"class\": \"notckd\"}, {\"age\": 51.0, \"bp\": 60.0, \"sg\": 1.025, \"al\": 0.0, \"su\": 0.0, \"rbc\": \"normal\", \"pc\": \"normal\", \"pcc\": \"notpresent\", \"ba\": \"notpresent\", \"bgr\": 99.0, \"bu\": 38.0, \"sc\": 0.8, \"sod\": 135.0, \"pot\": 3.7, \"hemo\": 13.0, \"pcv\": 49.0, \"wbcc\": 8300.0, \"rbcc\": 5.2, \"htn\": \"no\", \"dm\": \"no\", \"cad\": \"no\", \"appet\": \"good\", \"pe\": \"no\", \"ane\": \"no\", \"class\": \"notckd\"}, {\"age\": 34.0, \"bp\": 80.0, \"sg\": 1.025, \"al\": 0.0, \"su\": 0.0, \"rbc\": \"normal\", \"pc\": \"normal\", \"pcc\": \"notpresent\", \"ba\": \"notpresent\", \"bgr\": 121.0, \"bu\": 27.0, \"sc\": 1.2, \"sod\": 144.0, \"pot\": 3.9, \"hemo\": 13.6, \"pcv\": 52.0, \"wbcc\": 9200.0, \"rbcc\": 6.3, \"htn\": \"no\", \"dm\": \"no\", \"cad\": \"no\", \"appet\": \"good\", \"pe\": \"no\", \"ane\": \"no\", \"class\": \"notckd\"}, {\"age\": 60.0, \"bp\": 80.0, \"sg\": 1.025, \"al\": 0.0, \"su\": 0.0, \"rbc\": \"normal\", \"pc\": \"normal\", \"pcc\": \"notpresent\", \"ba\": \"notpresent\", \"bgr\": 131.0, \"bu\": 10.0, \"sc\": 0.5, \"sod\": 146.0, \"pot\": 5.0, \"hemo\": 14.5, \"pcv\": 41.0, \"wbcc\": 10700.0, \"rbcc\": 5.1, \"htn\": \"no\", \"dm\": \"no\", \"cad\": \"no\", \"appet\": \"good\", \"pe\": \"no\", \"ane\": \"no\", \"class\": \"notckd\"}, {\"age\": 38.0, \"bp\": 60.0, \"sg\": 1.02, \"al\": 0.0, \"su\": 0.0, \"rbc\": \"normal\", \"pc\": \"normal\", \"pcc\": \"notpresent\", \"ba\": \"notpresent\", \"bgr\": 91.0, \"bu\": 36.0, \"sc\": 0.7, \"sod\": 135.0, \"pot\": 3.7, \"hemo\": 14.0, \"pcv\": 46.0, \"wbcc\": 9100.0, \"rbcc\": 5.8, \"htn\": \"no\", \"dm\": \"no\", \"cad\": \"no\", \"appet\": \"good\", \"pe\": \"no\", \"ane\": \"no\", \"class\": \"notckd\"}, {\"age\": 42.0, \"bp\": 80.0, \"sg\": 1.02, \"al\": 0.0, \"su\": 0.0, \"rbc\": \"normal\", \"pc\": \"normal\", \"pcc\": \"notpresent\", \"ba\": \"notpresent\", \"bgr\": 98.0, \"bu\": 20.0, \"sc\": 0.5, \"sod\": 140.0, \"pot\": 3.5, \"hemo\": 13.9, \"pcv\": 44.0, \"wbcc\": 8400.0, \"rbcc\": 5.5, \"htn\": \"no\", \"dm\": \"no\", \"cad\": \"no\", \"appet\": \"good\", \"pe\": \"no\", \"ane\": \"no\", \"class\": \"notckd\"}, {\"age\": 35.0, \"bp\": 80.0, \"sg\": 1.02, \"al\": 0.0, \"su\": 0.0, \"rbc\": \"normal\", \"pc\": \"normal\", \"pcc\": \"notpresent\", \"ba\": \"notpresent\", \"bgr\": 104.0, \"bu\": 31.0, \"sc\": 1.2, \"sod\": 135.0, \"pot\": 5.0, \"hemo\": 16.1, \"pcv\": 45.0, \"wbcc\": 4300.0, \"rbcc\": 5.2, \"htn\": \"no\", \"dm\": \"no\", \"cad\": \"no\", \"appet\": \"good\", \"pe\": \"no\", \"ane\": \"no\", \"class\": \"notckd\"}, {\"age\": 30.0, \"bp\": 80.0, \"sg\": 1.02, \"al\": 0.0, \"su\": 0.0, \"rbc\": \"normal\", \"pc\": \"normal\", \"pcc\": \"notpresent\", \"ba\": \"notpresent\", \"bgr\": 131.0, \"bu\": 38.0, \"sc\": 1.0, \"sod\": 147.0, \"pot\": 3.8, \"hemo\": 14.1, \"pcv\": 45.0, \"wbcc\": 9400.0, \"rbcc\": 5.3, \"htn\": \"no\", \"dm\": \"no\", \"cad\": \"no\", \"appet\": \"good\", \"pe\": \"no\", \"ane\": \"no\", \"class\": \"notckd\"}, {\"age\": 49.0, \"bp\": 80.0, \"sg\": 1.02, \"al\": 0.0, \"su\": 0.0, \"rbc\": \"normal\", \"pc\": \"normal\", \"pcc\": \"notpresent\", \"ba\": \"notpresent\", \"bgr\": 122.0, \"bu\": 32.0, \"sc\": 1.2, \"sod\": 139.0, \"pot\": 3.9, \"hemo\": 17.0, \"pcv\": 41.0, \"wbcc\": 5600.0, \"rbcc\": 4.9, \"htn\": \"no\", \"dm\": \"no\", \"cad\": \"no\", \"appet\": \"good\", \"pe\": \"no\", \"ane\": \"no\", \"class\": \"notckd\"}, {\"age\": 55.0, \"bp\": 80.0, \"sg\": 1.02, \"al\": 0.0, \"su\": 0.0, \"rbc\": \"normal\", \"pc\": \"normal\", \"pcc\": \"notpresent\", \"ba\": \"notpresent\", \"bgr\": 118.0, \"bu\": 18.0, \"sc\": 0.9, \"sod\": 135.0, \"pot\": 3.6, \"hemo\": 15.5, \"pcv\": 43.0, \"wbcc\": 7200.0, \"rbcc\": 5.4, \"htn\": \"no\", \"dm\": \"no\", \"cad\": \"no\", \"appet\": \"good\", \"pe\": \"no\", \"ane\": \"no\", \"class\": \"notckd\"}, {\"age\": 45.0, \"bp\": 80.0, \"sg\": 1.02, \"al\": 0.0, \"su\": 0.0, \"rbc\": \"normal\", \"pc\": \"normal\", \"pcc\": \"notpresent\", \"ba\": \"notpresent\", \"bgr\": 117.0, \"bu\": 46.0, \"sc\": 1.2, \"sod\": 137.0, \"pot\": 5.0, \"hemo\": 16.2, \"pcv\": 45.0, \"wbcc\": 8600.0, \"rbcc\": 5.2, \"htn\": \"no\", \"dm\": \"no\", \"cad\": \"no\", \"appet\": \"good\", \"pe\": \"no\", \"ane\": \"no\", \"class\": \"notckd\"}, {\"age\": 42.0, \"bp\": 80.0, \"sg\": 1.02, \"al\": 0.0, \"su\": 0.0, \"rbc\": \"normal\", \"pc\": \"normal\", \"pcc\": \"notpresent\", \"ba\": \"notpresent\", \"bgr\": 132.0, \"bu\": 24.0, \"sc\": 0.7, \"sod\": 140.0, \"pot\": 4.1, \"hemo\": 14.4, \"pcv\": 50.0, \"wbcc\": 5000.0, \"rbcc\": 4.5, \"htn\": \"no\", \"dm\": \"no\", \"cad\": \"no\", \"appet\": \"good\", \"pe\": \"no\", \"ane\": \"no\", \"class\": \"notckd\"}, {\"age\": 50.0, \"bp\": 80.0, \"sg\": 1.02, \"al\": 0.0, \"su\": 0.0, \"rbc\": \"normal\", \"pc\": \"normal\", \"pcc\": \"notpresent\", \"ba\": \"notpresent\", \"bgr\": 97.0, \"bu\": 40.0, \"sc\": 0.6, \"sod\": 150.0, \"pot\": 4.5, \"hemo\": 14.2, \"pcv\": 48.0, \"wbcc\": 10500.0, \"rbcc\": 5.0, \"htn\": \"no\", \"dm\": \"no\", \"cad\": \"no\", \"appet\": \"good\", \"pe\": \"no\", \"ane\": \"no\", \"class\": \"notckd\"}, {\"age\": 55.0, \"bp\": 80.0, \"sg\": 1.02, \"al\": 0.0, \"su\": 0.0, \"rbc\": \"normal\", \"pc\": \"normal\", \"pcc\": \"notpresent\", \"ba\": \"notpresent\", \"bgr\": 133.0, \"bu\": 17.0, \"sc\": 1.2, \"sod\": 135.0, \"pot\": 4.8, \"hemo\": 13.2, \"pcv\": 41.0, \"wbcc\": 6800.0, \"rbcc\": 5.3, \"htn\": \"no\", \"dm\": \"no\", \"cad\": \"no\", \"appet\": \"good\", \"pe\": \"no\", \"ane\": \"no\", \"class\": \"notckd\"}, {\"age\": 48.0, \"bp\": 80.0, \"sg\": 1.025, \"al\": 0.0, \"su\": 0.0, \"rbc\": \"normal\", \"pc\": \"normal\", \"pcc\": \"notpresent\", \"ba\": \"notpresent\", \"bgr\": 122.0, \"bu\": 33.0, \"sc\": 0.9, \"sod\": 146.0, \"pot\": 3.9, \"hemo\": 13.9, \"pcv\": 48.0, \"wbcc\": 9500.0, \"rbcc\": 4.8, \"htn\": \"no\", \"dm\": \"no\", \"cad\": \"no\", \"appet\": \"good\", \"pe\": \"no\", \"ane\": \"no\", \"class\": \"notckd\"}, {\"age\": 25.0, \"bp\": 80.0, \"sg\": 1.025, \"al\": 0.0, \"su\": 0.0, \"rbc\": \"normal\", \"pc\": \"normal\", \"pcc\": \"notpresent\", \"ba\": \"notpresent\", \"bgr\": 121.0, \"bu\": 19.0, \"sc\": 1.2, \"sod\": 142.0, \"pot\": 4.9, \"hemo\": 15.0, \"pcv\": 48.0, \"wbcc\": 6900.0, \"rbcc\": 5.3, \"htn\": \"no\", \"dm\": \"no\", \"cad\": \"no\", \"appet\": \"good\", \"pe\": \"no\", \"ane\": \"no\", \"class\": \"notckd\"}, {\"age\": 23.0, \"bp\": 80.0, \"sg\": 1.025, \"al\": 0.0, \"su\": 0.0, \"rbc\": \"normal\", \"pc\": \"normal\", \"pcc\": \"notpresent\", \"ba\": \"notpresent\", \"bgr\": 111.0, \"bu\": 34.0, \"sc\": 1.1, \"sod\": 145.0, \"pot\": 4.0, \"hemo\": 14.3, \"pcv\": 41.0, \"wbcc\": 7200.0, \"rbcc\": 5.0, \"htn\": \"no\", \"dm\": \"no\", \"cad\": \"no\", \"appet\": \"good\", \"pe\": \"no\", \"ane\": \"no\", \"class\": \"notckd\"}, {\"age\": 30.0, \"bp\": 80.0, \"sg\": 1.025, \"al\": 0.0, \"su\": 0.0, \"rbc\": \"normal\", \"pc\": \"normal\", \"pcc\": \"notpresent\", \"ba\": \"notpresent\", \"bgr\": 96.0, \"bu\": 25.0, \"sc\": 0.5, \"sod\": 144.0, \"pot\": 4.8, \"hemo\": 13.8, \"pcv\": 42.0, \"wbcc\": 9000.0, \"rbcc\": 4.5, \"htn\": \"no\", \"dm\": \"no\", \"cad\": \"no\", \"appet\": \"good\", \"pe\": \"no\", \"ane\": \"no\", \"class\": \"notckd\"}, {\"age\": 56.0, \"bp\": 80.0, \"sg\": 1.025, \"al\": 0.0, \"su\": 0.0, \"rbc\": \"normal\", \"pc\": \"normal\", \"pcc\": \"notpresent\", \"ba\": \"notpresent\", \"bgr\": 139.0, \"bu\": 15.0, \"sc\": 1.2, \"sod\": 135.0, \"pot\": 5.0, \"hemo\": 14.8, \"pcv\": 42.0, \"wbcc\": 5600.0, \"rbcc\": 5.5, \"htn\": \"no\", \"dm\": \"no\", \"cad\": \"no\", \"appet\": \"good\", \"pe\": \"no\", \"ane\": \"no\", \"class\": \"notckd\"}, {\"age\": 47.0, \"bp\": 80.0, \"sg\": 1.02, \"al\": 0.0, \"su\": 0.0, \"rbc\": \"normal\", \"pc\": \"normal\", \"pcc\": \"notpresent\", \"ba\": \"notpresent\", \"bgr\": 95.0, \"bu\": 35.0, \"sc\": 0.9, \"sod\": 140.0, \"pot\": 4.1, \"hemo\": 13.85, \"pcv\": 42.0, \"wbcc\": 7900.0, \"rbcc\": 4.9, \"htn\": \"no\", \"dm\": \"no\", \"cad\": \"no\", \"appet\": \"good\", \"pe\": \"no\", \"ane\": \"no\", \"class\": \"notckd\"}, {\"age\": 19.0, \"bp\": 80.0, \"sg\": 1.02, \"al\": 0.0, \"su\": 0.0, \"rbc\": \"normal\", \"pc\": \"normal\", \"pcc\": \"notpresent\", \"ba\": \"notpresent\", \"bgr\": 107.0, \"bu\": 23.0, \"sc\": 0.7, \"sod\": 141.0, \"pot\": 4.2, \"hemo\": 14.4, \"pcv\": 44.0, \"wbcc\": 7900.0, \"rbcc\": 4.9, \"htn\": \"no\", \"dm\": \"no\", \"cad\": \"no\", \"appet\": \"good\", \"pe\": \"no\", \"ane\": \"no\", \"class\": \"notckd\"}, {\"age\": 52.0, \"bp\": 80.0, \"sg\": 1.02, \"al\": 0.0, \"su\": 0.0, \"rbc\": \"normal\", \"pc\": \"normal\", \"pcc\": \"notpresent\", \"ba\": \"notpresent\", \"bgr\": 125.0, \"bu\": 22.0, \"sc\": 1.2, \"sod\": 139.0, \"pot\": 4.6, \"hemo\": 16.5, \"pcv\": 43.0, \"wbcc\": 4700.0, \"rbcc\": 4.6, \"htn\": \"no\", \"dm\": \"no\", \"cad\": \"no\", \"appet\": \"good\", \"pe\": \"no\", \"ane\": \"no\", \"class\": \"notckd\"}, {\"age\": 20.0, \"bp\": 60.0, \"sg\": 1.025, \"al\": 0.0, \"su\": 0.0, \"rbc\": \"normal\", \"pc\": \"normal\", \"pcc\": \"notpresent\", \"ba\": \"notpresent\", \"bgr\": 119.0, \"bu\": 40.0, \"sc\": 1.15, \"sod\": 137.0, \"pot\": 4.7, \"hemo\": 14.0, \"pcv\": 41.0, \"wbcc\": 4500.0, \"rbcc\": 5.5, \"htn\": \"no\", \"dm\": \"no\", \"cad\": \"no\", \"appet\": \"good\", \"pe\": \"no\", \"ane\": \"no\", \"class\": \"notckd\"}, {\"age\": 46.0, \"bp\": 60.0, \"sg\": 1.025, \"al\": 0.0, \"su\": 0.0, \"rbc\": \"normal\", \"pc\": \"normal\", \"pcc\": \"notpresent\", \"ba\": \"notpresent\", \"bgr\": 123.0, \"bu\": 46.0, \"sc\": 1.0, \"sod\": 135.0, \"pot\": 5.0, \"hemo\": 15.7, \"pcv\": 50.0, \"wbcc\": 6300.0, \"rbcc\": 4.8, \"htn\": \"no\", \"dm\": \"no\", \"cad\": \"no\", \"appet\": \"good\", \"pe\": \"no\", \"ane\": \"no\", \"class\": \"notckd\"}, {\"age\": 48.0, \"bp\": 60.0, \"sg\": 1.02, \"al\": 0.0, \"su\": 0.0, \"rbc\": \"normal\", \"pc\": \"normal\", \"pcc\": \"notpresent\", \"ba\": \"notpresent\", \"bgr\": 112.0, \"bu\": 44.0, \"sc\": 1.2, \"sod\": 142.0, \"pot\": 4.9, \"hemo\": 14.5, \"pcv\": 44.0, \"wbcc\": 9400.0, \"rbcc\": 6.4, \"htn\": \"no\", \"dm\": \"no\", \"cad\": \"no\", \"appet\": \"good\", \"pe\": \"no\", \"ane\": \"no\", \"class\": \"notckd\"}, {\"age\": 24.0, \"bp\": 70.0, \"sg\": 1.025, \"al\": 0.0, \"su\": 0.0, \"rbc\": \"normal\", \"pc\": \"normal\", \"pcc\": \"notpresent\", \"ba\": \"notpresent\", \"bgr\": 140.0, \"bu\": 23.0, \"sc\": 0.6, \"sod\": 140.0, \"pot\": 4.7, \"hemo\": 16.3, \"pcv\": 48.0, \"wbcc\": 5800.0, \"rbcc\": 5.6, \"htn\": \"no\", \"dm\": \"no\", \"cad\": \"no\", \"appet\": \"good\", \"pe\": \"no\", \"ane\": \"no\", \"class\": \"notckd\"}, {\"age\": 55.0, \"bp\": 80.0, \"sg\": 1.025, \"al\": 0.0, \"su\": 0.0, \"rbc\": \"normal\", \"pc\": \"normal\", \"pcc\": \"notpresent\", \"ba\": \"notpresent\", \"bgr\": 130.0, \"bu\": 50.0, \"sc\": 1.2, \"sod\": 147.0, \"pot\": 5.0, \"hemo\": 15.5, \"pcv\": 41.0, \"wbcc\": 9100.0, \"rbcc\": 6.0, \"htn\": \"no\", \"dm\": \"no\", \"cad\": \"no\", \"appet\": \"good\", \"pe\": \"no\", \"ane\": \"no\", \"class\": \"notckd\"}, {\"age\": 20.0, \"bp\": 70.0, \"sg\": 1.02, \"al\": 0.0, \"su\": 0.0, \"rbc\": \"normal\", \"pc\": \"normal\", \"pcc\": \"notpresent\", \"ba\": \"notpresent\", \"bgr\": 123.0, \"bu\": 44.0, \"sc\": 1.0, \"sod\": 135.0, \"pot\": 3.8, \"hemo\": 14.6, \"pcv\": 44.0, \"wbcc\": 5500.0, \"rbcc\": 4.8, \"htn\": \"no\", \"dm\": \"no\", \"cad\": \"no\", \"appet\": \"good\", \"pe\": \"no\", \"ane\": \"no\", \"class\": \"notckd\"}, {\"age\": 60.0, \"bp\": 70.0, \"sg\": 1.02, \"al\": 0.0, \"su\": 0.0, \"rbc\": \"normal\", \"pc\": \"normal\", \"pcc\": \"notpresent\", \"ba\": \"notpresent\", \"bgr\": 119.0, \"bu\": 40.0, \"sc\": 1.15, \"sod\": 139.0, \"pot\": 4.5, \"hemo\": 16.4, \"pcv\": 43.0, \"wbcc\": 10800.0, \"rbcc\": 5.7, \"htn\": \"no\", \"dm\": \"no\", \"cad\": \"no\", \"appet\": \"good\", \"pe\": \"no\", \"ane\": \"no\", \"class\": \"notckd\"}, {\"age\": 33.0, \"bp\": 80.0, \"sg\": 1.025, \"al\": 0.0, \"su\": 0.0, \"rbc\": \"normal\", \"pc\": \"normal\", \"pcc\": \"notpresent\", \"ba\": \"notpresent\", \"bgr\": 100.0, \"bu\": 37.0, \"sc\": 1.2, \"sod\": 142.0, \"pot\": 4.0, \"hemo\": 16.9, \"pcv\": 52.0, \"wbcc\": 6700.0, \"rbcc\": 6.0, \"htn\": \"no\", \"dm\": \"no\", \"cad\": \"no\", \"appet\": \"good\", \"pe\": \"no\", \"ane\": \"no\", \"class\": \"notckd\"}, {\"age\": 66.0, \"bp\": 70.0, \"sg\": 1.02, \"al\": 0.0, \"su\": 0.0, \"rbc\": \"normal\", \"pc\": \"normal\", \"pcc\": \"notpresent\", \"ba\": \"notpresent\", \"bgr\": 94.0, \"bu\": 19.0, \"sc\": 0.7, \"sod\": 135.0, \"pot\": 3.9, \"hemo\": 16.0, \"pcv\": 41.0, \"wbcc\": 5300.0, \"rbcc\": 5.9, \"htn\": \"no\", \"dm\": \"no\", \"cad\": \"no\", \"appet\": \"good\", \"pe\": \"no\", \"ane\": \"no\", \"class\": \"notckd\"}, {\"age\": 71.0, \"bp\": 70.0, \"sg\": 1.02, \"al\": 0.0, \"su\": 0.0, \"rbc\": \"normal\", \"pc\": \"normal\", \"pcc\": \"notpresent\", \"ba\": \"notpresent\", \"bgr\": 81.0, \"bu\": 18.0, \"sc\": 0.8, \"sod\": 145.0, \"pot\": 5.0, \"hemo\": 14.7, \"pcv\": 44.0, \"wbcc\": 9800.0, \"rbcc\": 6.0, \"htn\": \"no\", \"dm\": \"no\", \"cad\": \"no\", \"appet\": \"good\", \"pe\": \"no\", \"ane\": \"no\", \"class\": \"notckd\"}, {\"age\": 39.0, \"bp\": 70.0, \"sg\": 1.025, \"al\": 0.0, \"su\": 0.0, \"rbc\": \"normal\", \"pc\": \"normal\", \"pcc\": \"notpresent\", \"ba\": \"notpresent\", \"bgr\": 124.0, \"bu\": 22.0, \"sc\": 0.6, \"sod\": 137.0, \"pot\": 3.8, \"hemo\": 13.4, \"pcv\": 43.0, \"wbcc\": 7900.0, \"rbcc\": 4.9, \"htn\": \"no\", \"dm\": \"no\", \"cad\": \"no\", \"appet\": \"good\", \"pe\": \"no\", \"ane\": \"no\", \"class\": \"notckd\"}, {\"age\": 56.0, \"bp\": 70.0, \"sg\": 1.025, \"al\": 0.0, \"su\": 0.0, \"rbc\": \"normal\", \"pc\": \"normal\", \"pcc\": \"notpresent\", \"ba\": \"notpresent\", \"bgr\": 70.0, \"bu\": 46.0, \"sc\": 1.2, \"sod\": 135.0, \"pot\": 4.9, \"hemo\": 15.9, \"pcv\": 50.0, \"wbcc\": 11000.0, \"rbcc\": 5.1, \"htn\": \"no\", \"dm\": \"no\", \"cad\": \"no\", \"appet\": \"good\", \"pe\": \"no\", \"ane\": \"no\", \"class\": \"notckd\"}, {\"age\": 42.0, \"bp\": 70.0, \"sg\": 1.02, \"al\": 0.0, \"su\": 0.0, \"rbc\": \"normal\", \"pc\": \"normal\", \"pcc\": \"notpresent\", \"ba\": \"notpresent\", \"bgr\": 93.0, \"bu\": 32.0, \"sc\": 0.9, \"sod\": 143.0, \"pot\": 4.7, \"hemo\": 16.6, \"pcv\": 43.0, \"wbcc\": 7100.0, \"rbcc\": 5.3, \"htn\": \"no\", \"dm\": \"no\", \"cad\": \"no\", \"appet\": \"good\", \"pe\": \"no\", \"ane\": \"no\", \"class\": \"notckd\"}, {\"age\": 47.0, \"bp\": 80.0, \"sg\": 1.025, \"al\": 0.0, \"su\": 0.0, \"rbc\": \"normal\", \"pc\": \"normal\", \"pcc\": \"notpresent\", \"ba\": \"notpresent\", \"bgr\": 124.0, \"bu\": 44.0, \"sc\": 1.0, \"sod\": 140.0, \"pot\": 4.9, \"hemo\": 14.9, \"pcv\": 41.0, \"wbcc\": 7000.0, \"rbcc\": 5.7, \"htn\": \"no\", \"dm\": \"no\", \"cad\": \"no\", \"appet\": \"good\", \"pe\": \"no\", \"ane\": \"no\", \"class\": \"notckd\"}, {\"age\": 30.0, \"bp\": 80.0, \"sg\": 1.02, \"al\": 0.0, \"su\": 0.0, \"rbc\": \"normal\", \"pc\": \"normal\", \"pcc\": \"notpresent\", \"ba\": \"notpresent\", \"bgr\": 89.0, \"bu\": 42.0, \"sc\": 0.5, \"sod\": 139.0, \"pot\": 5.0, \"hemo\": 16.7, \"pcv\": 52.0, \"wbcc\": 10200.0, \"rbcc\": 5.0, \"htn\": \"no\", \"dm\": \"no\", \"cad\": \"no\", \"appet\": \"good\", \"pe\": \"no\", \"ane\": \"no\", \"class\": \"notckd\"}, {\"age\": 50.0, \"bp\": 80.0, \"sg\": 1.02, \"al\": 0.0, \"su\": 0.0, \"rbc\": \"normal\", \"pc\": \"normal\", \"pcc\": \"notpresent\", \"ba\": \"notpresent\", \"bgr\": 92.0, \"bu\": 19.0, \"sc\": 1.2, \"sod\": 150.0, \"pot\": 4.8, \"hemo\": 14.9, \"pcv\": 48.0, \"wbcc\": 4700.0, \"rbcc\": 5.4, \"htn\": \"no\", \"dm\": \"no\", \"cad\": \"no\", \"appet\": \"good\", \"pe\": \"no\", \"ane\": \"no\", \"class\": \"notckd\"}, {\"age\": 75.0, \"bp\": 60.0, \"sg\": 1.02, \"al\": 0.0, \"su\": 0.0, \"rbc\": \"normal\", \"pc\": \"normal\", \"pcc\": \"notpresent\", \"ba\": \"notpresent\", \"bgr\": 110.0, \"bu\": 50.0, \"sc\": 0.7, \"sod\": 135.0, \"pot\": 5.0, \"hemo\": 14.3, \"pcv\": 40.0, \"wbcc\": 8300.0, \"rbcc\": 5.8, \"htn\": \"no\", \"dm\": \"no\", \"cad\": \"no\", \"appet\": \"good\", \"pe\": \"no\", \"ane\": \"no\", \"class\": \"notckd\"}, {\"age\": 41.0, \"bp\": 70.0, \"sg\": 1.02, \"al\": 0.0, \"su\": 0.0, \"rbc\": \"normal\", \"pc\": \"normal\", \"pcc\": \"notpresent\", \"ba\": \"notpresent\", \"bgr\": 125.0, \"bu\": 38.0, \"sc\": 0.6, \"sod\": 140.0, \"pot\": 5.0, \"hemo\": 16.8, \"pcv\": 41.0, \"wbcc\": 6300.0, \"rbcc\": 5.9, \"htn\": \"no\", \"dm\": \"no\", \"cad\": \"no\", \"appet\": \"good\", \"pe\": \"no\", \"ane\": \"no\", \"class\": \"notckd\"}, {\"age\": 53.0, \"bp\": 60.0, \"sg\": 1.025, \"al\": 0.0, \"su\": 0.0, \"rbc\": \"normal\", \"pc\": \"normal\", \"pcc\": \"notpresent\", \"ba\": \"notpresent\", \"bgr\": 116.0, \"bu\": 26.0, \"sc\": 1.0, \"sod\": 146.0, \"pot\": 4.9, \"hemo\": 15.8, \"pcv\": 45.0, \"wbcc\": 7700.0, \"rbcc\": 5.2, \"htn\": \"no\", \"dm\": \"no\", \"cad\": \"no\", \"appet\": \"good\", \"pe\": \"no\", \"ane\": \"no\", \"class\": \"notckd\"}, {\"age\": 34.0, \"bp\": 60.0, \"sg\": 1.02, \"al\": 0.0, \"su\": 0.0, \"rbc\": \"normal\", \"pc\": \"normal\", \"pcc\": \"notpresent\", \"ba\": \"notpresent\", \"bgr\": 91.0, \"bu\": 49.0, \"sc\": 1.2, \"sod\": 135.0, \"pot\": 4.5, \"hemo\": 13.5, \"pcv\": 48.0, \"wbcc\": 8600.0, \"rbcc\": 4.9, \"htn\": \"no\", \"dm\": \"no\", \"cad\": \"no\", \"appet\": \"good\", \"pe\": \"no\", \"ane\": \"no\", \"class\": \"notckd\"}, {\"age\": 73.0, \"bp\": 60.0, \"sg\": 1.02, \"al\": 0.0, \"su\": 0.0, \"rbc\": \"normal\", \"pc\": \"normal\", \"pcc\": \"notpresent\", \"ba\": \"notpresent\", \"bgr\": 127.0, \"bu\": 48.0, \"sc\": 0.5, \"sod\": 150.0, \"pot\": 3.5, \"hemo\": 15.1, \"pcv\": 52.0, \"wbcc\": 11000.0, \"rbcc\": 4.7, \"htn\": \"no\", \"dm\": \"no\", \"cad\": \"no\", \"appet\": \"good\", \"pe\": \"no\", \"ane\": \"no\", \"class\": \"notckd\"}, {\"age\": 45.0, \"bp\": 60.0, \"sg\": 1.02, \"al\": 0.0, \"su\": 0.0, \"rbc\": \"normal\", \"pc\": \"normal\", \"pcc\": \"notpresent\", \"ba\": \"notpresent\", \"bgr\": 114.0, \"bu\": 26.0, \"sc\": 0.7, \"sod\": 141.0, \"pot\": 4.2, \"hemo\": 15.0, \"pcv\": 43.0, \"wbcc\": 9200.0, \"rbcc\": 5.8, \"htn\": \"no\", \"dm\": \"no\", \"cad\": \"no\", \"appet\": \"good\", \"pe\": \"no\", \"ane\": \"no\", \"class\": \"notckd\"}, {\"age\": 44.0, \"bp\": 60.0, \"sg\": 1.025, \"al\": 0.0, \"su\": 0.0, \"rbc\": \"normal\", \"pc\": \"normal\", \"pcc\": \"notpresent\", \"ba\": \"notpresent\", \"bgr\": 96.0, \"bu\": 33.0, \"sc\": 0.9, \"sod\": 147.0, \"pot\": 4.5, \"hemo\": 16.9, \"pcv\": 41.0, \"wbcc\": 7200.0, \"rbcc\": 5.0, \"htn\": \"no\", \"dm\": \"no\", \"cad\": \"no\", \"appet\": \"good\", \"pe\": \"no\", \"ane\": \"no\", \"class\": \"notckd\"}, {\"age\": 29.0, \"bp\": 70.0, \"sg\": 1.02, \"al\": 0.0, \"su\": 0.0, \"rbc\": \"normal\", \"pc\": \"normal\", \"pcc\": \"notpresent\", \"ba\": \"notpresent\", \"bgr\": 127.0, \"bu\": 44.0, \"sc\": 1.2, \"sod\": 145.0, \"pot\": 5.0, \"hemo\": 14.8, \"pcv\": 48.0, \"wbcc\": 7900.0, \"rbcc\": 4.9, \"htn\": \"no\", \"dm\": \"no\", \"cad\": \"no\", \"appet\": \"good\", \"pe\": \"no\", \"ane\": \"no\", \"class\": \"notckd\"}, {\"age\": 55.0, \"bp\": 70.0, \"sg\": 1.02, \"al\": 0.0, \"su\": 0.0, \"rbc\": \"normal\", \"pc\": \"normal\", \"pcc\": \"notpresent\", \"ba\": \"notpresent\", \"bgr\": 107.0, \"bu\": 26.0, \"sc\": 1.1, \"sod\": 139.0, \"pot\": 4.5, \"hemo\": 17.0, \"pcv\": 50.0, \"wbcc\": 6700.0, \"rbcc\": 6.1, \"htn\": \"no\", \"dm\": \"no\", \"cad\": \"no\", \"appet\": \"good\", \"pe\": \"no\", \"ane\": \"no\", \"class\": \"notckd\"}, {\"age\": 33.0, \"bp\": 80.0, \"sg\": 1.025, \"al\": 0.0, \"su\": 0.0, \"rbc\": \"normal\", \"pc\": \"normal\", \"pcc\": \"notpresent\", \"ba\": \"notpresent\", \"bgr\": 128.0, \"bu\": 38.0, \"sc\": 0.6, \"sod\": 135.0, \"pot\": 3.9, \"hemo\": 13.1, \"pcv\": 45.0, \"wbcc\": 6200.0, \"rbcc\": 4.5, \"htn\": \"no\", \"dm\": \"no\", \"cad\": \"no\", \"appet\": \"good\", \"pe\": \"no\", \"ane\": \"no\", \"class\": \"notckd\"}, {\"age\": 41.0, \"bp\": 80.0, \"sg\": 1.02, \"al\": 0.0, \"su\": 0.0, \"rbc\": \"normal\", \"pc\": \"normal\", \"pcc\": \"notpresent\", \"ba\": \"notpresent\", \"bgr\": 122.0, \"bu\": 25.0, \"sc\": 0.8, \"sod\": 138.0, \"pot\": 5.0, \"hemo\": 17.1, \"pcv\": 41.0, \"wbcc\": 9100.0, \"rbcc\": 5.2, \"htn\": \"no\", \"dm\": \"no\", \"cad\": \"no\", \"appet\": \"good\", \"pe\": \"no\", \"ane\": \"no\", \"class\": \"notckd\"}, {\"age\": 52.0, \"bp\": 80.0, \"sg\": 1.02, \"al\": 0.0, \"su\": 0.0, \"rbc\": \"normal\", \"pc\": \"normal\", \"pcc\": \"notpresent\", \"ba\": \"notpresent\", \"bgr\": 128.0, \"bu\": 30.0, \"sc\": 1.2, \"sod\": 140.0, \"pot\": 4.5, \"hemo\": 15.2, \"pcv\": 52.0, \"wbcc\": 4300.0, \"rbcc\": 5.7, \"htn\": \"no\", \"dm\": \"no\", \"cad\": \"no\", \"appet\": \"good\", \"pe\": \"no\", \"ane\": \"no\", \"class\": \"notckd\"}, {\"age\": 47.0, \"bp\": 60.0, \"sg\": 1.02, \"al\": 0.0, \"su\": 0.0, \"rbc\": \"normal\", \"pc\": \"normal\", \"pcc\": \"notpresent\", \"ba\": \"notpresent\", \"bgr\": 137.0, \"bu\": 17.0, \"sc\": 0.5, \"sod\": 150.0, \"pot\": 3.5, \"hemo\": 13.6, \"pcv\": 44.0, \"wbcc\": 7900.0, \"rbcc\": 4.5, \"htn\": \"no\", \"dm\": \"no\", \"cad\": \"no\", \"appet\": \"good\", \"pe\": \"no\", \"ane\": \"no\", \"class\": \"notckd\"}, {\"age\": 43.0, \"bp\": 80.0, \"sg\": 1.025, \"al\": 0.0, \"su\": 0.0, \"rbc\": \"normal\", \"pc\": \"normal\", \"pcc\": \"notpresent\", \"ba\": \"notpresent\", \"bgr\": 81.0, \"bu\": 46.0, \"sc\": 0.6, \"sod\": 135.0, \"pot\": 4.9, \"hemo\": 13.9, \"pcv\": 48.0, \"wbcc\": 6900.0, \"rbcc\": 4.9, \"htn\": \"no\", \"dm\": \"no\", \"cad\": \"no\", \"appet\": \"good\", \"pe\": \"no\", \"ane\": \"no\", \"class\": \"notckd\"}, {\"age\": 46.0, \"bp\": 60.0, \"sg\": 1.02, \"al\": 0.0, \"su\": 0.0, \"rbc\": \"normal\", \"pc\": \"normal\", \"pcc\": \"notpresent\", \"ba\": \"notpresent\", \"bgr\": 102.0, \"bu\": 27.0, \"sc\": 0.7, \"sod\": 142.0, \"pot\": 4.9, \"hemo\": 13.2, \"pcv\": 44.0, \"wbcc\": 11000.0, \"rbcc\": 5.4, \"htn\": \"no\", \"dm\": \"no\", \"cad\": \"no\", \"appet\": \"good\", \"pe\": \"no\", \"ane\": \"no\", \"class\": \"notckd\"}, {\"age\": 56.0, \"bp\": 60.0, \"sg\": 1.025, \"al\": 0.0, \"su\": 0.0, \"rbc\": \"normal\", \"pc\": \"normal\", \"pcc\": \"notpresent\", \"ba\": \"notpresent\", \"bgr\": 132.0, \"bu\": 18.0, \"sc\": 1.1, \"sod\": 147.0, \"pot\": 4.7, \"hemo\": 13.7, \"pcv\": 45.0, \"wbcc\": 7500.0, \"rbcc\": 5.6, \"htn\": \"no\", \"dm\": \"no\", \"cad\": \"no\", \"appet\": \"good\", \"pe\": \"no\", \"ane\": \"no\", \"class\": \"notckd\"}, {\"age\": 80.0, \"bp\": 70.0, \"sg\": 1.02, \"al\": 0.0, \"su\": 0.0, \"rbc\": \"normal\", \"pc\": \"normal\", \"pcc\": \"notpresent\", \"ba\": \"notpresent\", \"bgr\": 119.0, \"bu\": 40.0, \"sc\": 1.15, \"sod\": 135.0, \"pot\": 4.1, \"hemo\": 15.3, \"pcv\": 48.0, \"wbcc\": 6300.0, \"rbcc\": 6.1, \"htn\": \"no\", \"dm\": \"no\", \"cad\": \"no\", \"appet\": \"good\", \"pe\": \"no\", \"ane\": \"no\", \"class\": \"notckd\"}, {\"age\": 55.0, \"bp\": 80.0, \"sg\": 1.02, \"al\": 0.0, \"su\": 0.0, \"rbc\": \"normal\", \"pc\": \"normal\", \"pcc\": \"notpresent\", \"ba\": \"notpresent\", \"bgr\": 104.0, \"bu\": 28.0, \"sc\": 0.9, \"sod\": 142.0, \"pot\": 4.8, \"hemo\": 17.3, \"pcv\": 52.0, \"wbcc\": 8200.0, \"rbcc\": 4.8, \"htn\": \"no\", \"dm\": \"no\", \"cad\": \"no\", \"appet\": \"good\", \"pe\": \"no\", \"ane\": \"no\", \"class\": \"notckd\"}, {\"age\": 39.0, \"bp\": 70.0, \"sg\": 1.025, \"al\": 0.0, \"su\": 0.0, \"rbc\": \"normal\", \"pc\": \"normal\", \"pcc\": \"notpresent\", \"ba\": \"notpresent\", \"bgr\": 131.0, \"bu\": 46.0, \"sc\": 0.6, \"sod\": 145.0, \"pot\": 5.0, \"hemo\": 15.6, \"pcv\": 41.0, \"wbcc\": 9400.0, \"rbcc\": 4.7, \"htn\": \"no\", \"dm\": \"no\", \"cad\": \"no\", \"appet\": \"good\", \"pe\": \"no\", \"ane\": \"no\", \"class\": \"notckd\"}, {\"age\": 44.0, \"bp\": 70.0, \"sg\": 1.025, \"al\": 0.0, \"su\": 0.0, \"rbc\": \"normal\", \"pc\": \"normal\", \"pcc\": \"notpresent\", \"ba\": \"notpresent\", \"bgr\": 119.0, \"bu\": 40.0, \"sc\": 1.15, \"sod\": 139.0, \"pot\": 4.5, \"hemo\": 13.8, \"pcv\": 48.0, \"wbcc\": 7800.0, \"rbcc\": 4.4, \"htn\": \"no\", \"dm\": \"no\", \"cad\": \"no\", \"appet\": \"good\", \"pe\": \"no\", \"ane\": \"no\", \"class\": \"notckd\"}, {\"age\": 35.0, \"bp\": 80.0, \"sg\": 1.02, \"al\": 0.0, \"su\": 0.0, \"rbc\": \"normal\", \"pc\": \"normal\", \"pcc\": \"notpresent\", \"ba\": \"notpresent\", \"bgr\": 99.0, \"bu\": 30.0, \"sc\": 0.5, \"sod\": 135.0, \"pot\": 4.9, \"hemo\": 15.4, \"pcv\": 48.0, \"wbcc\": 5000.0, \"rbcc\": 5.2, \"htn\": \"no\", \"dm\": \"no\", \"cad\": \"no\", \"appet\": \"good\", \"pe\": \"no\", \"ane\": \"no\", \"class\": \"notckd\"}, {\"age\": 58.0, \"bp\": 70.0, \"sg\": 1.02, \"al\": 0.0, \"su\": 0.0, \"rbc\": \"normal\", \"pc\": \"normal\", \"pcc\": \"notpresent\", \"ba\": \"notpresent\", \"bgr\": 102.0, \"bu\": 48.0, \"sc\": 1.2, \"sod\": 139.0, \"pot\": 4.3, \"hemo\": 15.0, \"pcv\": 40.0, \"wbcc\": 8100.0, \"rbcc\": 4.9, \"htn\": \"no\", \"dm\": \"no\", \"cad\": \"no\", \"appet\": \"good\", \"pe\": \"no\", \"ane\": \"no\", \"class\": \"notckd\"}, {\"age\": 61.0, \"bp\": 70.0, \"sg\": 1.025, \"al\": 0.0, \"su\": 0.0, \"rbc\": \"normal\", \"pc\": \"normal\", \"pcc\": \"notpresent\", \"ba\": \"notpresent\", \"bgr\": 120.0, \"bu\": 29.0, \"sc\": 0.7, \"sod\": 137.0, \"pot\": 3.5, \"hemo\": 17.4, \"pcv\": 52.0, \"wbcc\": 7000.0, \"rbcc\": 5.3, \"htn\": \"no\", \"dm\": \"no\", \"cad\": \"no\", \"appet\": \"good\", \"pe\": \"no\", \"ane\": \"no\", \"class\": \"notckd\"}, {\"age\": 30.0, \"bp\": 60.0, \"sg\": 1.02, \"al\": 0.0, \"su\": 0.0, \"rbc\": \"normal\", \"pc\": \"normal\", \"pcc\": \"notpresent\", \"ba\": \"notpresent\", \"bgr\": 138.0, \"bu\": 15.0, \"sc\": 1.1, \"sod\": 135.0, \"pot\": 4.4, \"hemo\": 13.85, \"pcv\": 42.0, \"wbcc\": 7900.0, \"rbcc\": 4.9, \"htn\": \"no\", \"dm\": \"no\", \"cad\": \"no\", \"appet\": \"good\", \"pe\": \"no\", \"ane\": \"no\", \"class\": \"notckd\"}, {\"age\": 57.0, \"bp\": 60.0, \"sg\": 1.02, \"al\": 0.0, \"su\": 0.0, \"rbc\": \"normal\", \"pc\": \"normal\", \"pcc\": \"notpresent\", \"ba\": \"notpresent\", \"bgr\": 105.0, \"bu\": 49.0, \"sc\": 1.2, \"sod\": 150.0, \"pot\": 4.7, \"hemo\": 15.7, \"pcv\": 44.0, \"wbcc\": 10400.0, \"rbcc\": 6.2, \"htn\": \"no\", \"dm\": \"no\", \"cad\": \"no\", \"appet\": \"good\", \"pe\": \"no\", \"ane\": \"no\", \"class\": \"notckd\"}, {\"age\": 65.0, \"bp\": 60.0, \"sg\": 1.02, \"al\": 0.0, \"su\": 0.0, \"rbc\": \"normal\", \"pc\": \"normal\", \"pcc\": \"notpresent\", \"ba\": \"notpresent\", \"bgr\": 109.0, \"bu\": 39.0, \"sc\": 1.0, \"sod\": 144.0, \"pot\": 3.5, \"hemo\": 13.9, \"pcv\": 48.0, \"wbcc\": 9600.0, \"rbcc\": 4.8, \"htn\": \"no\", \"dm\": \"no\", \"cad\": \"no\", \"appet\": \"good\", \"pe\": \"no\", \"ane\": \"no\", \"class\": \"notckd\"}, {\"age\": 43.0, \"bp\": 80.0, \"sg\": 1.025, \"al\": 0.0, \"su\": 0.0, \"rbc\": \"normal\", \"pc\": \"normal\", \"pcc\": \"notpresent\", \"ba\": \"notpresent\", \"bgr\": 130.0, \"bu\": 30.0, \"sc\": 1.1, \"sod\": 143.0, \"pot\": 5.0, \"hemo\": 15.9, \"pcv\": 45.0, \"wbcc\": 7800.0, \"rbcc\": 4.5, \"htn\": \"no\", \"dm\": \"no\", \"cad\": \"no\", \"appet\": \"good\", \"pe\": \"no\", \"ane\": \"no\", \"class\": \"notckd\"}, {\"age\": 40.0, \"bp\": 80.0, \"sg\": 1.02, \"al\": 0.0, \"su\": 0.0, \"rbc\": \"normal\", \"pc\": \"normal\", \"pcc\": \"notpresent\", \"ba\": \"notpresent\", \"bgr\": 119.0, \"bu\": 15.0, \"sc\": 0.7, \"sod\": 150.0, \"pot\": 4.9, \"hemo\": 13.85, \"pcv\": 42.0, \"wbcc\": 7900.0, \"rbcc\": 4.9, \"htn\": \"no\", \"dm\": \"no\", \"cad\": \"no\", \"appet\": \"good\", \"pe\": \"no\", \"ane\": \"no\", \"class\": \"notckd\"}, {\"age\": 58.0, \"bp\": 80.0, \"sg\": 1.02, \"al\": 0.0, \"su\": 0.0, \"rbc\": \"normal\", \"pc\": \"normal\", \"pcc\": \"notpresent\", \"ba\": \"notpresent\", \"bgr\": 100.0, \"bu\": 50.0, \"sc\": 1.2, \"sod\": 140.0, \"pot\": 3.5, \"hemo\": 14.0, \"pcv\": 50.0, \"wbcc\": 6700.0, \"rbcc\": 6.5, \"htn\": \"no\", \"dm\": \"no\", \"cad\": \"no\", \"appet\": \"good\", \"pe\": \"no\", \"ane\": \"no\", \"class\": \"notckd\"}, {\"age\": 47.0, \"bp\": 60.0, \"sg\": 1.02, \"al\": 0.0, \"su\": 0.0, \"rbc\": \"normal\", \"pc\": \"normal\", \"pcc\": \"notpresent\", \"ba\": \"notpresent\", \"bgr\": 109.0, \"bu\": 25.0, \"sc\": 1.1, \"sod\": 141.0, \"pot\": 4.7, \"hemo\": 15.8, \"pcv\": 41.0, \"wbcc\": 8300.0, \"rbcc\": 5.2, \"htn\": \"no\", \"dm\": \"no\", \"cad\": \"no\", \"appet\": \"good\", \"pe\": \"no\", \"ane\": \"no\", \"class\": \"notckd\"}, {\"age\": 30.0, \"bp\": 60.0, \"sg\": 1.025, \"al\": 0.0, \"su\": 0.0, \"rbc\": \"normal\", \"pc\": \"normal\", \"pcc\": \"notpresent\", \"ba\": \"notpresent\", \"bgr\": 120.0, \"bu\": 31.0, \"sc\": 0.8, \"sod\": 150.0, \"pot\": 4.6, \"hemo\": 13.4, \"pcv\": 44.0, \"wbcc\": 10700.0, \"rbcc\": 5.8, \"htn\": \"no\", \"dm\": \"no\", \"cad\": \"no\", \"appet\": \"good\", \"pe\": \"no\", \"ane\": \"no\", \"class\": \"notckd\"}, {\"age\": 28.0, \"bp\": 70.0, \"sg\": 1.02, \"al\": 0.0, \"su\": 0.0, \"rbc\": \"normal\", \"pc\": \"normal\", \"pcc\": \"notpresent\", \"ba\": \"notpresent\", \"bgr\": 131.0, \"bu\": 29.0, \"sc\": 0.6, \"sod\": 145.0, \"pot\": 4.9, \"hemo\": 13.85, \"pcv\": 45.0, \"wbcc\": 8600.0, \"rbcc\": 6.5, \"htn\": \"no\", \"dm\": \"no\", \"cad\": \"no\", \"appet\": \"good\", \"pe\": \"no\", \"ane\": \"no\", \"class\": \"notckd\"}, {\"age\": 33.0, \"bp\": 60.0, \"sg\": 1.025, \"al\": 0.0, \"su\": 0.0, \"rbc\": \"normal\", \"pc\": \"normal\", \"pcc\": \"notpresent\", \"ba\": \"notpresent\", \"bgr\": 80.0, \"bu\": 25.0, \"sc\": 0.9, \"sod\": 146.0, \"pot\": 3.5, \"hemo\": 14.1, \"pcv\": 48.0, \"wbcc\": 7800.0, \"rbcc\": 5.1, \"htn\": \"no\", \"dm\": \"no\", \"cad\": \"no\", \"appet\": \"good\", \"pe\": \"no\", \"ane\": \"no\", \"class\": \"notckd\"}, {\"age\": 43.0, \"bp\": 80.0, \"sg\": 1.02, \"al\": 0.0, \"su\": 0.0, \"rbc\": \"normal\", \"pc\": \"normal\", \"pcc\": \"notpresent\", \"ba\": \"notpresent\", \"bgr\": 114.0, \"bu\": 32.0, \"sc\": 1.1, \"sod\": 135.0, \"pot\": 3.9, \"hemo\": 13.85, \"pcv\": 42.0, \"wbcc\": 7900.0, \"rbcc\": 4.9, \"htn\": \"no\", \"dm\": \"no\", \"cad\": \"no\", \"appet\": \"good\", \"pe\": \"no\", \"ane\": \"no\", \"class\": \"notckd\"}, {\"age\": 59.0, \"bp\": 70.0, \"sg\": 1.025, \"al\": 0.0, \"su\": 0.0, \"rbc\": \"normal\", \"pc\": \"normal\", \"pcc\": \"notpresent\", \"ba\": \"notpresent\", \"bgr\": 130.0, \"bu\": 39.0, \"sc\": 0.7, \"sod\": 147.0, \"pot\": 4.7, \"hemo\": 13.5, \"pcv\": 46.0, \"wbcc\": 6700.0, \"rbcc\": 4.5, \"htn\": \"no\", \"dm\": \"no\", \"cad\": \"no\", \"appet\": \"good\", \"pe\": \"no\", \"ane\": \"no\", \"class\": \"notckd\"}, {\"age\": 34.0, \"bp\": 70.0, \"sg\": 1.025, \"al\": 0.0, \"su\": 0.0, \"rbc\": \"normal\", \"pc\": \"normal\", \"pcc\": \"notpresent\", \"ba\": \"notpresent\", \"bgr\": 119.0, \"bu\": 33.0, \"sc\": 1.0, \"sod\": 150.0, \"pot\": 5.0, \"hemo\": 15.3, \"pcv\": 44.0, \"wbcc\": 10500.0, \"rbcc\": 6.1, \"htn\": \"no\", \"dm\": \"no\", \"cad\": \"no\", \"appet\": \"good\", \"pe\": \"no\", \"ane\": \"no\", \"class\": \"notckd\"}, {\"age\": 23.0, \"bp\": 80.0, \"sg\": 1.02, \"al\": 0.0, \"su\": 0.0, \"rbc\": \"normal\", \"pc\": \"normal\", \"pcc\": \"notpresent\", \"ba\": \"notpresent\", \"bgr\": 99.0, \"bu\": 46.0, \"sc\": 1.2, \"sod\": 142.0, \"pot\": 4.0, \"hemo\": 17.7, \"pcv\": 46.0, \"wbcc\": 4300.0, \"rbcc\": 5.5, \"htn\": \"no\", \"dm\": \"no\", \"cad\": \"no\", \"appet\": \"good\", \"pe\": \"no\", \"ane\": \"no\", \"class\": \"notckd\"}, {\"age\": 24.0, \"bp\": 80.0, \"sg\": 1.025, \"al\": 0.0, \"su\": 0.0, \"rbc\": \"normal\", \"pc\": \"normal\", \"pcc\": \"notpresent\", \"ba\": \"notpresent\", \"bgr\": 125.0, \"bu\": 40.0, \"sc\": 1.15, \"sod\": 136.0, \"pot\": 3.5, \"hemo\": 15.4, \"pcv\": 43.0, \"wbcc\": 5600.0, \"rbcc\": 4.5, \"htn\": \"no\", \"dm\": \"no\", \"cad\": \"no\", \"appet\": \"good\", \"pe\": \"no\", \"ane\": \"no\", \"class\": \"notckd\"}, {\"age\": 60.0, \"bp\": 60.0, \"sg\": 1.02, \"al\": 0.0, \"su\": 0.0, \"rbc\": \"normal\", \"pc\": \"normal\", \"pcc\": \"notpresent\", \"ba\": \"notpresent\", \"bgr\": 134.0, \"bu\": 45.0, \"sc\": 0.5, \"sod\": 139.0, \"pot\": 4.8, \"hemo\": 14.2, \"pcv\": 48.0, \"wbcc\": 10700.0, \"rbcc\": 5.6, \"htn\": \"no\", \"dm\": \"no\", \"cad\": \"no\", \"appet\": \"good\", \"pe\": \"no\", \"ane\": \"no\", \"class\": \"notckd\"}, {\"age\": 25.0, \"bp\": 60.0, \"sg\": 1.02, \"al\": 0.0, \"su\": 0.0, \"rbc\": \"normal\", \"pc\": \"normal\", \"pcc\": \"notpresent\", \"ba\": \"notpresent\", \"bgr\": 119.0, \"bu\": 27.0, \"sc\": 0.5, \"sod\": 139.0, \"pot\": 4.5, \"hemo\": 15.2, \"pcv\": 40.0, \"wbcc\": 9200.0, \"rbcc\": 5.2, \"htn\": \"no\", \"dm\": \"no\", \"cad\": \"no\", \"appet\": \"good\", \"pe\": \"no\", \"ane\": \"no\", \"class\": \"notckd\"}, {\"age\": 44.0, \"bp\": 70.0, \"sg\": 1.025, \"al\": 0.0, \"su\": 0.0, \"rbc\": \"normal\", \"pc\": \"normal\", \"pcc\": \"notpresent\", \"ba\": \"notpresent\", \"bgr\": 92.0, \"bu\": 40.0, \"sc\": 0.9, \"sod\": 141.0, \"pot\": 4.9, \"hemo\": 14.0, \"pcv\": 52.0, \"wbcc\": 7500.0, \"rbcc\": 6.2, \"htn\": \"no\", \"dm\": \"no\", \"cad\": \"no\", \"appet\": \"good\", \"pe\": \"no\", \"ane\": \"no\", \"class\": \"notckd\"}, {\"age\": 62.0, \"bp\": 80.0, \"sg\": 1.02, \"al\": 0.0, \"su\": 0.0, \"rbc\": \"normal\", \"pc\": \"normal\", \"pcc\": \"notpresent\", \"ba\": \"notpresent\", \"bgr\": 132.0, \"bu\": 34.0, \"sc\": 0.8, \"sod\": 147.0, \"pot\": 3.5, \"hemo\": 17.8, \"pcv\": 44.0, \"wbcc\": 4700.0, \"rbcc\": 4.5, \"htn\": \"no\", \"dm\": \"no\", \"cad\": \"no\", \"appet\": \"good\", \"pe\": \"no\", \"ane\": \"no\", \"class\": \"notckd\"}, {\"age\": 25.0, \"bp\": 70.0, \"sg\": 1.02, \"al\": 0.0, \"su\": 0.0, \"rbc\": \"normal\", \"pc\": \"normal\", \"pcc\": \"notpresent\", \"ba\": \"notpresent\", \"bgr\": 88.0, \"bu\": 42.0, \"sc\": 0.5, \"sod\": 136.0, \"pot\": 3.5, \"hemo\": 13.3, \"pcv\": 48.0, \"wbcc\": 7000.0, \"rbcc\": 4.9, \"htn\": \"no\", \"dm\": \"no\", \"cad\": \"no\", \"appet\": \"good\", \"pe\": \"no\", \"ane\": \"no\", \"class\": \"notckd\"}, {\"age\": 32.0, \"bp\": 70.0, \"sg\": 1.025, \"al\": 0.0, \"su\": 0.0, \"rbc\": \"normal\", \"pc\": \"normal\", \"pcc\": \"notpresent\", \"ba\": \"notpresent\", \"bgr\": 100.0, \"bu\": 29.0, \"sc\": 1.1, \"sod\": 142.0, \"pot\": 4.5, \"hemo\": 14.3, \"pcv\": 43.0, \"wbcc\": 6700.0, \"rbcc\": 5.9, \"htn\": \"no\", \"dm\": \"no\", \"cad\": \"no\", \"appet\": \"good\", \"pe\": \"no\", \"ane\": \"no\", \"class\": \"notckd\"}, {\"age\": 63.0, \"bp\": 70.0, \"sg\": 1.025, \"al\": 0.0, \"su\": 0.0, \"rbc\": \"normal\", \"pc\": \"normal\", \"pcc\": \"notpresent\", \"ba\": \"notpresent\", \"bgr\": 130.0, \"bu\": 37.0, \"sc\": 0.9, \"sod\": 150.0, \"pot\": 5.0, \"hemo\": 13.4, \"pcv\": 41.0, \"wbcc\": 7300.0, \"rbcc\": 4.7, \"htn\": \"no\", \"dm\": \"no\", \"cad\": \"no\", \"appet\": \"good\", \"pe\": \"no\", \"ane\": \"no\", \"class\": \"notckd\"}, {\"age\": 44.0, \"bp\": 60.0, \"sg\": 1.02, \"al\": 0.0, \"su\": 0.0, \"rbc\": \"normal\", \"pc\": \"normal\", \"pcc\": \"notpresent\", \"ba\": \"notpresent\", \"bgr\": 95.0, \"bu\": 46.0, \"sc\": 0.5, \"sod\": 138.0, \"pot\": 4.2, \"hemo\": 15.0, \"pcv\": 50.0, \"wbcc\": 7700.0, \"rbcc\": 6.3, \"htn\": \"no\", \"dm\": \"no\", \"cad\": \"no\", \"appet\": \"good\", \"pe\": \"no\", \"ane\": \"no\", \"class\": \"notckd\"}, {\"age\": 37.0, \"bp\": 60.0, \"sg\": 1.025, \"al\": 0.0, \"su\": 0.0, \"rbc\": \"normal\", \"pc\": \"normal\", \"pcc\": \"notpresent\", \"ba\": \"notpresent\", \"bgr\": 111.0, \"bu\": 35.0, \"sc\": 0.8, \"sod\": 135.0, \"pot\": 4.1, \"hemo\": 16.2, \"pcv\": 50.0, \"wbcc\": 5500.0, \"rbcc\": 5.7, \"htn\": \"no\", \"dm\": \"no\", \"cad\": \"no\", \"appet\": \"good\", \"pe\": \"no\", \"ane\": \"no\", \"class\": \"notckd\"}, {\"age\": 64.0, \"bp\": 60.0, \"sg\": 1.02, \"al\": 0.0, \"su\": 0.0, \"rbc\": \"normal\", \"pc\": \"normal\", \"pcc\": \"notpresent\", \"ba\": \"notpresent\", \"bgr\": 106.0, \"bu\": 27.0, \"sc\": 0.7, \"sod\": 150.0, \"pot\": 3.3, \"hemo\": 14.4, \"pcv\": 42.0, \"wbcc\": 8100.0, \"rbcc\": 4.7, \"htn\": \"no\", \"dm\": \"no\", \"cad\": \"no\", \"appet\": \"good\", \"pe\": \"no\", \"ane\": \"no\", \"class\": \"notckd\"}, {\"age\": 22.0, \"bp\": 60.0, \"sg\": 1.025, \"al\": 0.0, \"su\": 0.0, \"rbc\": \"normal\", \"pc\": \"normal\", \"pcc\": \"notpresent\", \"ba\": \"notpresent\", \"bgr\": 97.0, \"bu\": 18.0, \"sc\": 1.2, \"sod\": 138.0, \"pot\": 4.3, \"hemo\": 13.5, \"pcv\": 42.0, \"wbcc\": 7900.0, \"rbcc\": 6.4, \"htn\": \"no\", \"dm\": \"no\", \"cad\": \"no\", \"appet\": \"good\", \"pe\": \"no\", \"ane\": \"no\", \"class\": \"notckd\"}, {\"age\": 33.0, \"bp\": 60.0, \"sg\": 1.02, \"al\": 0.0, \"su\": 0.0, \"rbc\": \"normal\", \"pc\": \"normal\", \"pcc\": \"notpresent\", \"ba\": \"notpresent\", \"bgr\": 130.0, \"bu\": 41.0, \"sc\": 0.9, \"sod\": 141.0, \"pot\": 4.4, \"hemo\": 15.5, \"pcv\": 52.0, \"wbcc\": 4300.0, \"rbcc\": 5.8, \"htn\": \"no\", \"dm\": \"no\", \"cad\": \"no\", \"appet\": \"good\", \"pe\": \"no\", \"ane\": \"no\", \"class\": \"notckd\"}, {\"age\": 43.0, \"bp\": 60.0, \"sg\": 1.025, \"al\": 0.0, \"su\": 0.0, \"rbc\": \"normal\", \"pc\": \"normal\", \"pcc\": \"notpresent\", \"ba\": \"notpresent\", \"bgr\": 108.0, \"bu\": 25.0, \"sc\": 1.0, \"sod\": 144.0, \"pot\": 5.0, \"hemo\": 17.8, \"pcv\": 43.0, \"wbcc\": 7200.0, \"rbcc\": 5.5, \"htn\": \"no\", \"dm\": \"no\", \"cad\": \"no\", \"appet\": \"good\", \"pe\": \"no\", \"ane\": \"no\", \"class\": \"notckd\"}, {\"age\": 38.0, \"bp\": 80.0, \"sg\": 1.02, \"al\": 0.0, \"su\": 0.0, \"rbc\": \"normal\", \"pc\": \"normal\", \"pcc\": \"notpresent\", \"ba\": \"notpresent\", \"bgr\": 99.0, \"bu\": 19.0, \"sc\": 0.5, \"sod\": 147.0, \"pot\": 3.5, \"hemo\": 13.6, \"pcv\": 44.0, \"wbcc\": 7300.0, \"rbcc\": 6.4, \"htn\": \"no\", \"dm\": \"no\", \"cad\": \"no\", \"appet\": \"good\", \"pe\": \"no\", \"ane\": \"no\", \"class\": \"notckd\"}, {\"age\": 29.0, \"bp\": 80.0, \"sg\": 1.02, \"al\": 0.0, \"su\": 0.0, \"rbc\": \"normal\", \"pc\": \"normal\", \"pcc\": \"notpresent\", \"ba\": \"notpresent\", \"bgr\": 83.0, \"bu\": 49.0, \"sc\": 0.9, \"sod\": 139.0, \"pot\": 3.3, \"hemo\": 17.5, \"pcv\": 40.0, \"wbcc\": 9900.0, \"rbcc\": 4.7, \"htn\": \"no\", \"dm\": \"no\", \"cad\": \"no\", \"appet\": \"good\", \"pe\": \"no\", \"ane\": \"no\", \"class\": \"notckd\"}, {\"age\": 37.0, \"bp\": 60.0, \"sg\": 1.02, \"al\": 0.0, \"su\": 0.0, \"rbc\": \"normal\", \"pc\": \"normal\", \"pcc\": \"notpresent\", \"ba\": \"notpresent\", \"bgr\": 109.0, \"bu\": 47.0, \"sc\": 1.1, \"sod\": 141.0, \"pot\": 4.9, \"hemo\": 15.0, \"pcv\": 48.0, \"wbcc\": 7000.0, \"rbcc\": 5.2, \"htn\": \"no\", \"dm\": \"no\", \"cad\": \"no\", \"appet\": \"good\", \"pe\": \"no\", \"ane\": \"no\", \"class\": \"notckd\"}, {\"age\": 39.0, \"bp\": 60.0, \"sg\": 1.02, \"al\": 0.0, \"su\": 0.0, \"rbc\": \"normal\", \"pc\": \"normal\", \"pcc\": \"notpresent\", \"ba\": \"notpresent\", \"bgr\": 86.0, \"bu\": 37.0, \"sc\": 0.6, \"sod\": 150.0, \"pot\": 5.0, \"hemo\": 13.6, \"pcv\": 51.0, \"wbcc\": 5800.0, \"rbcc\": 4.5, \"htn\": \"no\", \"dm\": \"no\", \"cad\": \"no\", \"appet\": \"good\", \"pe\": \"no\", \"ane\": \"no\", \"class\": \"notckd\"}, {\"age\": 32.0, \"bp\": 60.0, \"sg\": 1.025, \"al\": 0.0, \"su\": 0.0, \"rbc\": \"normal\", \"pc\": \"normal\", \"pcc\": \"notpresent\", \"ba\": \"notpresent\", \"bgr\": 102.0, \"bu\": 17.0, \"sc\": 0.4, \"sod\": 147.0, \"pot\": 4.7, \"hemo\": 14.6, \"pcv\": 41.0, \"wbcc\": 6800.0, \"rbcc\": 5.1, \"htn\": \"no\", \"dm\": \"no\", \"cad\": \"no\", \"appet\": \"good\", \"pe\": \"no\", \"ane\": \"no\", \"class\": \"notckd\"}, {\"age\": 23.0, \"bp\": 60.0, \"sg\": 1.02, \"al\": 0.0, \"su\": 0.0, \"rbc\": \"normal\", \"pc\": \"normal\", \"pcc\": \"notpresent\", \"ba\": \"notpresent\", \"bgr\": 95.0, \"bu\": 24.0, \"sc\": 0.8, \"sod\": 145.0, \"pot\": 5.0, \"hemo\": 15.0, \"pcv\": 52.0, \"wbcc\": 6300.0, \"rbcc\": 4.6, \"htn\": \"no\", \"dm\": \"no\", \"cad\": \"no\", \"appet\": \"good\", \"pe\": \"no\", \"ane\": \"no\", \"class\": \"notckd\"}, {\"age\": 34.0, \"bp\": 70.0, \"sg\": 1.025, \"al\": 0.0, \"su\": 0.0, \"rbc\": \"normal\", \"pc\": \"normal\", \"pcc\": \"notpresent\", \"ba\": \"notpresent\", \"bgr\": 87.0, \"bu\": 38.0, \"sc\": 0.5, \"sod\": 144.0, \"pot\": 4.8, \"hemo\": 17.1, \"pcv\": 47.0, \"wbcc\": 7400.0, \"rbcc\": 6.1, \"htn\": \"no\", \"dm\": \"no\", \"cad\": \"no\", \"appet\": \"good\", \"pe\": \"no\", \"ane\": \"no\", \"class\": \"notckd\"}, {\"age\": 66.0, \"bp\": 70.0, \"sg\": 1.025, \"al\": 0.0, \"su\": 0.0, \"rbc\": \"normal\", \"pc\": \"normal\", \"pcc\": \"notpresent\", \"ba\": \"notpresent\", \"bgr\": 107.0, \"bu\": 16.0, \"sc\": 1.1, \"sod\": 140.0, \"pot\": 3.6, \"hemo\": 13.6, \"pcv\": 42.0, \"wbcc\": 11000.0, \"rbcc\": 4.9, \"htn\": \"no\", \"dm\": \"no\", \"cad\": \"no\", \"appet\": \"good\", \"pe\": \"no\", \"ane\": \"no\", \"class\": \"notckd\"}, {\"age\": 47.0, \"bp\": 60.0, \"sg\": 1.02, \"al\": 0.0, \"su\": 0.0, \"rbc\": \"normal\", \"pc\": \"normal\", \"pcc\": \"notpresent\", \"ba\": \"notpresent\", \"bgr\": 117.0, \"bu\": 22.0, \"sc\": 1.2, \"sod\": 138.0, \"pot\": 3.5, \"hemo\": 13.0, \"pcv\": 45.0, \"wbcc\": 5200.0, \"rbcc\": 5.6, \"htn\": \"no\", \"dm\": \"no\", \"cad\": \"no\", \"appet\": \"good\", \"pe\": \"no\", \"ane\": \"no\", \"class\": \"notckd\"}, {\"age\": 74.0, \"bp\": 60.0, \"sg\": 1.02, \"al\": 0.0, \"su\": 0.0, \"rbc\": \"normal\", \"pc\": \"normal\", \"pcc\": \"notpresent\", \"ba\": \"notpresent\", \"bgr\": 88.0, \"bu\": 50.0, \"sc\": 0.6, \"sod\": 147.0, \"pot\": 3.7, \"hemo\": 17.2, \"pcv\": 53.0, \"wbcc\": 6000.0, \"rbcc\": 4.5, \"htn\": \"no\", \"dm\": \"no\", \"cad\": \"no\", \"appet\": \"good\", \"pe\": \"no\", \"ane\": \"no\", \"class\": \"notckd\"}, {\"age\": 35.0, \"bp\": 60.0, \"sg\": 1.025, \"al\": 0.0, \"su\": 0.0, \"rbc\": \"normal\", \"pc\": \"normal\", \"pcc\": \"notpresent\", \"ba\": \"notpresent\", \"bgr\": 105.0, \"bu\": 39.0, \"sc\": 0.5, \"sod\": 135.0, \"pot\": 3.9, \"hemo\": 14.7, \"pcv\": 43.0, \"wbcc\": 5800.0, \"rbcc\": 6.2, \"htn\": \"no\", \"dm\": \"no\", \"cad\": \"no\", \"appet\": \"good\", \"pe\": \"no\", \"ane\": \"no\", \"class\": \"notckd\"}, {\"age\": 29.0, \"bp\": 80.0, \"sg\": 1.02, \"al\": 0.0, \"su\": 0.0, \"rbc\": \"normal\", \"pc\": \"normal\", \"pcc\": \"notpresent\", \"ba\": \"notpresent\", \"bgr\": 70.0, \"bu\": 16.0, \"sc\": 0.7, \"sod\": 138.0, \"pot\": 3.5, \"hemo\": 13.7, \"pcv\": 54.0, \"wbcc\": 5400.0, \"rbcc\": 5.8, \"htn\": \"no\", \"dm\": \"no\", \"cad\": \"no\", \"appet\": \"good\", \"pe\": \"no\", \"ane\": \"no\", \"class\": \"notckd\"}, {\"age\": 33.0, \"bp\": 80.0, \"sg\": 1.025, \"al\": 0.0, \"su\": 0.0, \"rbc\": \"normal\", \"pc\": \"normal\", \"pcc\": \"notpresent\", \"ba\": \"notpresent\", \"bgr\": 89.0, \"bu\": 19.0, \"sc\": 1.1, \"sod\": 144.0, \"pot\": 5.0, \"hemo\": 15.0, \"pcv\": 40.0, \"wbcc\": 10300.0, \"rbcc\": 4.8, \"htn\": \"no\", \"dm\": \"no\", \"cad\": \"no\", \"appet\": \"good\", \"pe\": \"no\", \"ane\": \"no\", \"class\": \"notckd\"}, {\"age\": 67.0, \"bp\": 80.0, \"sg\": 1.025, \"al\": 0.0, \"su\": 0.0, \"rbc\": \"normal\", \"pc\": \"normal\", \"pcc\": \"notpresent\", \"ba\": \"notpresent\", \"bgr\": 99.0, \"bu\": 40.0, \"sc\": 0.5, \"sod\": 139.0, \"pot\": 4.5, \"hemo\": 17.8, \"pcv\": 44.0, \"wbcc\": 5900.0, \"rbcc\": 5.2, \"htn\": \"no\", \"dm\": \"no\", \"cad\": \"no\", \"appet\": \"good\", \"pe\": \"no\", \"ane\": \"no\", \"class\": \"notckd\"}, {\"age\": 73.0, \"bp\": 80.0, \"sg\": 1.025, \"al\": 0.0, \"su\": 0.0, \"rbc\": \"normal\", \"pc\": \"normal\", \"pcc\": \"notpresent\", \"ba\": \"notpresent\", \"bgr\": 118.0, \"bu\": 44.0, \"sc\": 0.7, \"sod\": 137.0, \"pot\": 3.5, \"hemo\": 14.8, \"pcv\": 45.0, \"wbcc\": 9300.0, \"rbcc\": 4.7, \"htn\": \"no\", \"dm\": \"no\", \"cad\": \"no\", \"appet\": \"good\", \"pe\": \"no\", \"ane\": \"no\", \"class\": \"notckd\"}, {\"age\": 24.0, \"bp\": 80.0, \"sg\": 1.02, \"al\": 0.0, \"su\": 0.0, \"rbc\": \"normal\", \"pc\": \"normal\", \"pcc\": \"notpresent\", \"ba\": \"notpresent\", \"bgr\": 93.0, \"bu\": 46.0, \"sc\": 1.0, \"sod\": 145.0, \"pot\": 3.5, \"hemo\": 13.85, \"pcv\": 42.0, \"wbcc\": 10700.0, \"rbcc\": 6.3, \"htn\": \"no\", \"dm\": \"no\", \"cad\": \"no\", \"appet\": \"good\", \"pe\": \"no\", \"ane\": \"no\", \"class\": \"notckd\"}, {\"age\": 60.0, \"bp\": 80.0, \"sg\": 1.025, \"al\": 0.0, \"su\": 0.0, \"rbc\": \"normal\", \"pc\": \"normal\", \"pcc\": \"notpresent\", \"ba\": \"notpresent\", \"bgr\": 81.0, \"bu\": 15.0, \"sc\": 0.5, \"sod\": 141.0, \"pot\": 3.6, \"hemo\": 15.0, \"pcv\": 46.0, \"wbcc\": 10500.0, \"rbcc\": 5.3, \"htn\": \"no\", \"dm\": \"no\", \"cad\": \"no\", \"appet\": \"good\", \"pe\": \"no\", \"ane\": \"no\", \"class\": \"notckd\"}, {\"age\": 68.0, \"bp\": 60.0, \"sg\": 1.025, \"al\": 0.0, \"su\": 0.0, \"rbc\": \"normal\", \"pc\": \"normal\", \"pcc\": \"notpresent\", \"ba\": \"notpresent\", \"bgr\": 125.0, \"bu\": 41.0, \"sc\": 1.1, \"sod\": 139.0, \"pot\": 3.8, \"hemo\": 17.4, \"pcv\": 50.0, \"wbcc\": 6700.0, \"rbcc\": 6.1, \"htn\": \"no\", \"dm\": \"no\", \"cad\": \"no\", \"appet\": \"good\", \"pe\": \"no\", \"ane\": \"no\", \"class\": \"notckd\"}, {\"age\": 30.0, \"bp\": 80.0, \"sg\": 1.025, \"al\": 0.0, \"su\": 0.0, \"rbc\": \"normal\", \"pc\": \"normal\", \"pcc\": \"notpresent\", \"ba\": \"notpresent\", \"bgr\": 82.0, \"bu\": 42.0, \"sc\": 0.7, \"sod\": 146.0, \"pot\": 5.0, \"hemo\": 14.9, \"pcv\": 45.0, \"wbcc\": 9400.0, \"rbcc\": 5.9, \"htn\": \"no\", \"dm\": \"no\", \"cad\": \"no\", \"appet\": \"good\", \"pe\": \"no\", \"ane\": \"no\", \"class\": \"notckd\"}, {\"age\": 75.0, \"bp\": 70.0, \"sg\": 1.02, \"al\": 0.0, \"su\": 0.0, \"rbc\": \"normal\", \"pc\": \"normal\", \"pcc\": \"notpresent\", \"ba\": \"notpresent\", \"bgr\": 107.0, \"bu\": 48.0, \"sc\": 0.8, \"sod\": 144.0, \"pot\": 3.5, \"hemo\": 13.6, \"pcv\": 46.0, \"wbcc\": 10300.0, \"rbcc\": 4.8, \"htn\": \"no\", \"dm\": \"no\", \"cad\": \"no\", \"appet\": \"good\", \"pe\": \"no\", \"ane\": \"no\", \"class\": \"notckd\"}, {\"age\": 69.0, \"bp\": 70.0, \"sg\": 1.02, \"al\": 0.0, \"su\": 0.0, \"rbc\": \"normal\", \"pc\": \"normal\", \"pcc\": \"notpresent\", \"ba\": \"notpresent\", \"bgr\": 83.0, \"bu\": 42.0, \"sc\": 1.2, \"sod\": 139.0, \"pot\": 3.7, \"hemo\": 16.2, \"pcv\": 50.0, \"wbcc\": 9300.0, \"rbcc\": 5.4, \"htn\": \"no\", \"dm\": \"no\", \"cad\": \"no\", \"appet\": \"good\", \"pe\": \"no\", \"ane\": \"no\", \"class\": \"notckd\"}, {\"age\": 28.0, \"bp\": 60.0, \"sg\": 1.025, \"al\": 0.0, \"su\": 0.0, \"rbc\": \"normal\", \"pc\": \"normal\", \"pcc\": \"notpresent\", \"ba\": \"notpresent\", \"bgr\": 79.0, \"bu\": 50.0, \"sc\": 0.5, \"sod\": 145.0, \"pot\": 5.0, \"hemo\": 17.6, \"pcv\": 51.0, \"wbcc\": 6500.0, \"rbcc\": 5.0, \"htn\": \"no\", \"dm\": \"no\", \"cad\": \"no\", \"appet\": \"good\", \"pe\": \"no\", \"ane\": \"no\", \"class\": \"notckd\"}, {\"age\": 72.0, \"bp\": 60.0, \"sg\": 1.02, \"al\": 0.0, \"su\": 0.0, \"rbc\": \"normal\", \"pc\": \"normal\", \"pcc\": \"notpresent\", \"ba\": \"notpresent\", \"bgr\": 109.0, \"bu\": 26.0, \"sc\": 0.9, \"sod\": 150.0, \"pot\": 4.9, \"hemo\": 15.0, \"pcv\": 52.0, \"wbcc\": 10500.0, \"rbcc\": 5.5, \"htn\": \"no\", \"dm\": \"no\", \"cad\": \"no\", \"appet\": \"good\", \"pe\": \"no\", \"ane\": \"no\", \"class\": \"notckd\"}, {\"age\": 61.0, \"bp\": 70.0, \"sg\": 1.025, \"al\": 0.0, \"su\": 0.0, \"rbc\": \"normal\", \"pc\": \"normal\", \"pcc\": \"notpresent\", \"ba\": \"notpresent\", \"bgr\": 133.0, \"bu\": 38.0, \"sc\": 1.0, \"sod\": 142.0, \"pot\": 3.6, \"hemo\": 13.7, \"pcv\": 47.0, \"wbcc\": 9200.0, \"rbcc\": 4.9, \"htn\": \"no\", \"dm\": \"no\", \"cad\": \"no\", \"appet\": \"good\", \"pe\": \"no\", \"ane\": \"no\", \"class\": \"notckd\"}, {\"age\": 79.0, \"bp\": 80.0, \"sg\": 1.025, \"al\": 0.0, \"su\": 0.0, \"rbc\": \"normal\", \"pc\": \"normal\", \"pcc\": \"notpresent\", \"ba\": \"notpresent\", \"bgr\": 111.0, \"bu\": 44.0, \"sc\": 1.2, \"sod\": 146.0, \"pot\": 3.6, \"hemo\": 16.3, \"pcv\": 40.0, \"wbcc\": 8000.0, \"rbcc\": 6.4, \"htn\": \"no\", \"dm\": \"no\", \"cad\": \"no\", \"appet\": \"good\", \"pe\": \"no\", \"ane\": \"no\", \"class\": \"notckd\"}, {\"age\": 70.0, \"bp\": 80.0, \"sg\": 1.02, \"al\": 0.0, \"su\": 0.0, \"rbc\": \"normal\", \"pc\": \"normal\", \"pcc\": \"notpresent\", \"ba\": \"notpresent\", \"bgr\": 74.0, \"bu\": 41.0, \"sc\": 0.5, \"sod\": 143.0, \"pot\": 4.5, \"hemo\": 15.1, \"pcv\": 48.0, \"wbcc\": 9700.0, \"rbcc\": 5.6, \"htn\": \"no\", \"dm\": \"no\", \"cad\": \"no\", \"appet\": \"good\", \"pe\": \"no\", \"ane\": \"no\", \"class\": \"notckd\"}, {\"age\": 58.0, \"bp\": 70.0, \"sg\": 1.025, \"al\": 0.0, \"su\": 0.0, \"rbc\": \"normal\", \"pc\": \"normal\", \"pcc\": \"notpresent\", \"ba\": \"notpresent\", \"bgr\": 88.0, \"bu\": 16.0, \"sc\": 1.1, \"sod\": 147.0, \"pot\": 3.5, \"hemo\": 16.4, \"pcv\": 53.0, \"wbcc\": 9100.0, \"rbcc\": 5.2, \"htn\": \"no\", \"dm\": \"no\", \"cad\": \"no\", \"appet\": \"good\", \"pe\": \"no\", \"ane\": \"no\", \"class\": \"notckd\"}, {\"age\": 64.0, \"bp\": 70.0, \"sg\": 1.02, \"al\": 0.0, \"su\": 0.0, \"rbc\": \"normal\", \"pc\": \"normal\", \"pcc\": \"notpresent\", \"ba\": \"notpresent\", \"bgr\": 97.0, \"bu\": 27.0, \"sc\": 0.7, \"sod\": 145.0, \"pot\": 4.8, \"hemo\": 13.8, \"pcv\": 49.0, \"wbcc\": 6400.0, \"rbcc\": 4.8, \"htn\": \"no\", \"dm\": \"no\", \"cad\": \"no\", \"appet\": \"good\", \"pe\": \"no\", \"ane\": \"no\", \"class\": \"notckd\"}, {\"age\": 71.0, \"bp\": 60.0, \"sg\": 1.025, \"al\": 0.0, \"su\": 0.0, \"rbc\": \"normal\", \"pc\": \"normal\", \"pcc\": \"notpresent\", \"ba\": \"notpresent\", \"bgr\": 119.0, \"bu\": 40.0, \"sc\": 0.9, \"sod\": 140.0, \"pot\": 4.8, \"hemo\": 15.2, \"pcv\": 42.0, \"wbcc\": 7700.0, \"rbcc\": 5.5, \"htn\": \"no\", \"dm\": \"no\", \"cad\": \"no\", \"appet\": \"good\", \"pe\": \"no\", \"ane\": \"no\", \"class\": \"notckd\"}, {\"age\": 62.0, \"bp\": 80.0, \"sg\": 1.025, \"al\": 0.0, \"su\": 0.0, \"rbc\": \"normal\", \"pc\": \"normal\", \"pcc\": \"notpresent\", \"ba\": \"notpresent\", \"bgr\": 78.0, \"bu\": 45.0, \"sc\": 0.6, \"sod\": 138.0, \"pot\": 3.5, \"hemo\": 16.1, \"pcv\": 50.0, \"wbcc\": 5400.0, \"rbcc\": 5.7, \"htn\": \"no\", \"dm\": \"no\", \"cad\": \"no\", \"appet\": \"good\", \"pe\": \"no\", \"ane\": \"no\", \"class\": \"notckd\"}, {\"age\": 59.0, \"bp\": 60.0, \"sg\": 1.02, \"al\": 0.0, \"su\": 0.0, \"rbc\": \"normal\", \"pc\": \"normal\", \"pcc\": \"notpresent\", \"ba\": \"notpresent\", \"bgr\": 113.0, \"bu\": 23.0, \"sc\": 1.1, \"sod\": 139.0, \"pot\": 3.5, \"hemo\": 15.3, \"pcv\": 54.0, \"wbcc\": 6500.0, \"rbcc\": 4.9, \"htn\": \"no\", \"dm\": \"no\", \"cad\": \"no\", \"appet\": \"good\", \"pe\": \"no\", \"ane\": \"no\", \"class\": \"notckd\"}, {\"age\": 48.0, \"bp\": 80.0, \"sg\": 1.025, \"al\": 0.0, \"su\": 0.0, \"rbc\": \"normal\", \"pc\": \"normal\", \"pcc\": \"notpresent\", \"ba\": \"notpresent\", \"bgr\": 75.0, \"bu\": 22.0, \"sc\": 0.8, \"sod\": 137.0, \"pot\": 5.0, \"hemo\": 16.8, \"pcv\": 51.0, \"wbcc\": 6000.0, \"rbcc\": 6.5, \"htn\": \"no\", \"dm\": \"no\", \"cad\": \"no\", \"appet\": \"good\", \"pe\": \"no\", \"ane\": \"no\", \"class\": \"notckd\"}, {\"age\": 80.0, \"bp\": 80.0, \"sg\": 1.025, \"al\": 0.0, \"su\": 0.0, \"rbc\": \"normal\", \"pc\": \"normal\", \"pcc\": \"notpresent\", \"ba\": \"notpresent\", \"bgr\": 119.0, \"bu\": 46.0, \"sc\": 0.7, \"sod\": 141.0, \"pot\": 4.9, \"hemo\": 13.9, \"pcv\": 49.0, \"wbcc\": 5100.0, \"rbcc\": 5.0, \"htn\": \"no\", \"dm\": \"no\", \"cad\": \"no\", \"appet\": \"good\", \"pe\": \"no\", \"ane\": \"no\", \"class\": \"notckd\"}, {\"age\": 57.0, \"bp\": 60.0, \"sg\": 1.02, \"al\": 0.0, \"su\": 0.0, \"rbc\": \"normal\", \"pc\": \"normal\", \"pcc\": \"notpresent\", \"ba\": \"notpresent\", \"bgr\": 132.0, \"bu\": 18.0, \"sc\": 1.1, \"sod\": 150.0, \"pot\": 4.7, \"hemo\": 15.4, \"pcv\": 42.0, \"wbcc\": 11000.0, \"rbcc\": 4.5, \"htn\": \"no\", \"dm\": \"no\", \"cad\": \"no\", \"appet\": \"good\", \"pe\": \"no\", \"ane\": \"no\", \"class\": \"notckd\"}, {\"age\": 63.0, \"bp\": 70.0, \"sg\": 1.02, \"al\": 0.0, \"su\": 0.0, \"rbc\": \"normal\", \"pc\": \"normal\", \"pcc\": \"notpresent\", \"ba\": \"notpresent\", \"bgr\": 113.0, \"bu\": 25.0, \"sc\": 0.6, \"sod\": 146.0, \"pot\": 4.9, \"hemo\": 16.5, \"pcv\": 52.0, \"wbcc\": 8000.0, \"rbcc\": 5.1, \"htn\": \"no\", \"dm\": \"no\", \"cad\": \"no\", \"appet\": \"good\", \"pe\": \"no\", \"ane\": \"no\", \"class\": \"notckd\"}, {\"age\": 46.0, \"bp\": 70.0, \"sg\": 1.025, \"al\": 0.0, \"su\": 0.0, \"rbc\": \"normal\", \"pc\": \"normal\", \"pcc\": \"notpresent\", \"ba\": \"notpresent\", \"bgr\": 100.0, \"bu\": 47.0, \"sc\": 0.5, \"sod\": 142.0, \"pot\": 3.5, \"hemo\": 16.4, \"pcv\": 43.0, \"wbcc\": 5700.0, \"rbcc\": 6.5, \"htn\": \"no\", \"dm\": \"no\", \"cad\": \"no\", \"appet\": \"good\", \"pe\": \"no\", \"ane\": \"no\", \"class\": \"notckd\"}, {\"age\": 15.0, \"bp\": 80.0, \"sg\": 1.025, \"al\": 0.0, \"su\": 0.0, \"rbc\": \"normal\", \"pc\": \"normal\", \"pcc\": \"notpresent\", \"ba\": \"notpresent\", \"bgr\": 93.0, \"bu\": 17.0, \"sc\": 0.9, \"sod\": 136.0, \"pot\": 3.9, \"hemo\": 16.7, \"pcv\": 50.0, \"wbcc\": 6200.0, \"rbcc\": 5.2, \"htn\": \"no\", \"dm\": \"no\", \"cad\": \"no\", \"appet\": \"good\", \"pe\": \"no\", \"ane\": \"no\", \"class\": \"notckd\"}, {\"age\": 51.0, \"bp\": 80.0, \"sg\": 1.02, \"al\": 0.0, \"su\": 0.0, \"rbc\": \"normal\", \"pc\": \"normal\", \"pcc\": \"notpresent\", \"ba\": \"notpresent\", \"bgr\": 94.0, \"bu\": 15.0, \"sc\": 1.2, \"sod\": 144.0, \"pot\": 3.7, \"hemo\": 15.5, \"pcv\": 46.0, \"wbcc\": 9500.0, \"rbcc\": 6.4, \"htn\": \"no\", \"dm\": \"no\", \"cad\": \"no\", \"appet\": \"good\", \"pe\": \"no\", \"ane\": \"no\", \"class\": \"notckd\"}, {\"age\": 41.0, \"bp\": 80.0, \"sg\": 1.025, \"al\": 0.0, \"su\": 0.0, \"rbc\": \"normal\", \"pc\": \"normal\", \"pcc\": \"notpresent\", \"ba\": \"notpresent\", \"bgr\": 112.0, \"bu\": 48.0, \"sc\": 0.7, \"sod\": 140.0, \"pot\": 5.0, \"hemo\": 17.0, \"pcv\": 52.0, \"wbcc\": 7200.0, \"rbcc\": 5.8, \"htn\": \"no\", \"dm\": \"no\", \"cad\": \"no\", \"appet\": \"good\", \"pe\": \"no\", \"ane\": \"no\", \"class\": \"notckd\"}, {\"age\": 52.0, \"bp\": 80.0, \"sg\": 1.025, \"al\": 0.0, \"su\": 0.0, \"rbc\": \"normal\", \"pc\": \"normal\", \"pcc\": \"notpresent\", \"ba\": \"notpresent\", \"bgr\": 99.0, \"bu\": 25.0, \"sc\": 0.8, \"sod\": 135.0, \"pot\": 3.7, \"hemo\": 15.0, \"pcv\": 52.0, \"wbcc\": 6300.0, \"rbcc\": 5.3, \"htn\": \"no\", \"dm\": \"no\", \"cad\": \"no\", \"appet\": \"good\", \"pe\": \"no\", \"ane\": \"no\", \"class\": \"notckd\"}, {\"age\": 36.0, \"bp\": 80.0, \"sg\": 1.025, \"al\": 0.0, \"su\": 0.0, \"rbc\": \"normal\", \"pc\": \"normal\", \"pcc\": \"notpresent\", \"ba\": \"notpresent\", \"bgr\": 85.0, \"bu\": 16.0, \"sc\": 1.1, \"sod\": 142.0, \"pot\": 4.1, \"hemo\": 15.6, \"pcv\": 44.0, \"wbcc\": 5800.0, \"rbcc\": 6.3, \"htn\": \"no\", \"dm\": \"no\", \"cad\": \"no\", \"appet\": \"good\", \"pe\": \"no\", \"ane\": \"no\", \"class\": \"notckd\"}, {\"age\": 57.0, \"bp\": 80.0, \"sg\": 1.02, \"al\": 0.0, \"su\": 0.0, \"rbc\": \"normal\", \"pc\": \"normal\", \"pcc\": \"notpresent\", \"ba\": \"notpresent\", \"bgr\": 133.0, \"bu\": 48.0, \"sc\": 1.2, \"sod\": 147.0, \"pot\": 4.3, \"hemo\": 14.8, \"pcv\": 46.0, \"wbcc\": 6600.0, \"rbcc\": 5.5, \"htn\": \"no\", \"dm\": \"no\", \"cad\": \"no\", \"appet\": \"good\", \"pe\": \"no\", \"ane\": \"no\", \"class\": \"notckd\"}, {\"age\": 43.0, \"bp\": 60.0, \"sg\": 1.025, \"al\": 0.0, \"su\": 0.0, \"rbc\": \"normal\", \"pc\": \"normal\", \"pcc\": \"notpresent\", \"ba\": \"notpresent\", \"bgr\": 117.0, \"bu\": 45.0, \"sc\": 0.7, \"sod\": 141.0, \"pot\": 4.4, \"hemo\": 13.0, \"pcv\": 54.0, \"wbcc\": 7400.0, \"rbcc\": 5.4, \"htn\": \"no\", \"dm\": \"no\", \"cad\": \"no\", \"appet\": \"good\", \"pe\": \"no\", \"ane\": \"no\", \"class\": \"notckd\"}, {\"age\": 50.0, \"bp\": 80.0, \"sg\": 1.02, \"al\": 0.0, \"su\": 0.0, \"rbc\": \"normal\", \"pc\": \"normal\", \"pcc\": \"notpresent\", \"ba\": \"notpresent\", \"bgr\": 137.0, \"bu\": 46.0, \"sc\": 0.8, \"sod\": 139.0, \"pot\": 5.0, \"hemo\": 14.1, \"pcv\": 45.0, \"wbcc\": 9500.0, \"rbcc\": 4.6, \"htn\": \"no\", \"dm\": \"no\", \"cad\": \"no\", \"appet\": \"good\", \"pe\": \"no\", \"ane\": \"no\", \"class\": \"notckd\"}, {\"age\": 55.0, \"bp\": 80.0, \"sg\": 1.02, \"al\": 0.0, \"su\": 0.0, \"rbc\": \"normal\", \"pc\": \"normal\", \"pcc\": \"notpresent\", \"ba\": \"notpresent\", \"bgr\": 140.0, \"bu\": 49.0, \"sc\": 0.5, \"sod\": 150.0, \"pot\": 4.9, \"hemo\": 15.7, \"pcv\": 47.0, \"wbcc\": 6700.0, \"rbcc\": 4.9, \"htn\": \"no\", \"dm\": \"no\", \"cad\": \"no\", \"appet\": \"good\", \"pe\": \"no\", \"ane\": \"no\", \"class\": \"notckd\"}, {\"age\": 42.0, \"bp\": 70.0, \"sg\": 1.025, \"al\": 0.0, \"su\": 0.0, \"rbc\": \"normal\", \"pc\": \"normal\", \"pcc\": \"notpresent\", \"ba\": \"notpresent\", \"bgr\": 75.0, \"bu\": 31.0, \"sc\": 1.2, \"sod\": 141.0, \"pot\": 3.5, \"hemo\": 16.5, \"pcv\": 54.0, \"wbcc\": 7800.0, \"rbcc\": 6.2, \"htn\": \"no\", \"dm\": \"no\", \"cad\": \"no\", \"appet\": \"good\", \"pe\": \"no\", \"ane\": \"no\", \"class\": \"notckd\"}, {\"age\": 12.0, \"bp\": 80.0, \"sg\": 1.02, \"al\": 0.0, \"su\": 0.0, \"rbc\": \"normal\", \"pc\": \"normal\", \"pcc\": \"notpresent\", \"ba\": \"notpresent\", \"bgr\": 100.0, \"bu\": 26.0, \"sc\": 0.6, \"sod\": 137.0, \"pot\": 4.4, \"hemo\": 15.8, \"pcv\": 49.0, \"wbcc\": 6600.0, \"rbcc\": 5.4, \"htn\": \"no\", \"dm\": \"no\", \"cad\": \"no\", \"appet\": \"good\", \"pe\": \"no\", \"ane\": \"no\", \"class\": \"notckd\"}, {\"age\": 17.0, \"bp\": 60.0, \"sg\": 1.025, \"al\": 0.0, \"su\": 0.0, \"rbc\": \"normal\", \"pc\": \"normal\", \"pcc\": \"notpresent\", \"ba\": \"notpresent\", \"bgr\": 114.0, \"bu\": 50.0, \"sc\": 1.0, \"sod\": 135.0, \"pot\": 4.9, \"hemo\": 14.2, \"pcv\": 51.0, \"wbcc\": 7200.0, \"rbcc\": 5.9, \"htn\": \"no\", \"dm\": \"no\", \"cad\": \"no\", \"appet\": \"good\", \"pe\": \"no\", \"ane\": \"no\", \"class\": \"notckd\"}, {\"age\": 58.0, \"bp\": 80.0, \"sg\": 1.025, \"al\": 0.0, \"su\": 0.0, \"rbc\": \"normal\", \"pc\": \"normal\", \"pcc\": \"notpresent\", \"ba\": \"notpresent\", \"bgr\": 131.0, \"bu\": 18.0, \"sc\": 1.1, \"sod\": 141.0, \"pot\": 3.5, \"hemo\": 15.8, \"pcv\": 53.0, \"wbcc\": 6800.0, \"rbcc\": 6.1, \"htn\": \"no\", \"dm\": \"no\", \"cad\": \"no\", \"appet\": \"good\", \"pe\": \"no\", \"ane\": \"no\", \"class\": \"notckd\"}]}}, {\"mode\": \"vega-lite\"});\n",
       "</script>"
      ],
      "text/plain": [
       "alt.Chart(...)"
      ]
     },
     "execution_count": 31,
     "metadata": {},
     "output_type": "execute_result"
    }
   ],
   "source": [
    "alt.Chart(data_clean, title = 'Hemoglobin vs packed cell volume').mark_point().encode(\n",
    "    x='age:Q',\n",
    "    y='hemo:Q',\n",
    ")"
   ]
  },
  {
   "cell_type": "markdown",
   "metadata": {},
   "source": [
    "This graph was chosen specifically because there doesn't seem to be any obvious trends and the data seems to be more or less distributed pretty evenly across the graph. As this isn't the most interesting of graphs now, it would be interesting to see if adding another variable provides more information.\n",
    "\n",
    "#### 3.D Trivariant visulisations <a name = 'Trivariantvisulisations'></a>\n",
    "\n",
    "This first visulisation we will look at is the `Hemoglobin vs packed cell volume` graph where the with the taget value as the third variable."
   ]
  },
  {
   "cell_type": "code",
   "execution_count": 32,
   "metadata": {},
   "outputs": [
    {
     "data": {
      "text/html": [
       "\n",
       "<div id=\"altair-viz-dbfc1d0d5a464cc6be09d7e57cf10e2e\"></div>\n",
       "<script type=\"text/javascript\">\n",
       "  (function(spec, embedOpt){\n",
       "    let outputDiv = document.currentScript.previousElementSibling;\n",
       "    if (outputDiv.id !== \"altair-viz-dbfc1d0d5a464cc6be09d7e57cf10e2e\") {\n",
       "      outputDiv = document.getElementById(\"altair-viz-dbfc1d0d5a464cc6be09d7e57cf10e2e\");\n",
       "    }\n",
       "    const paths = {\n",
       "      \"vega\": \"https://cdn.jsdelivr.net/npm//vega@5?noext\",\n",
       "      \"vega-lib\": \"https://cdn.jsdelivr.net/npm//vega-lib?noext\",\n",
       "      \"vega-lite\": \"https://cdn.jsdelivr.net/npm//vega-lite@4.8.1?noext\",\n",
       "      \"vega-embed\": \"https://cdn.jsdelivr.net/npm//vega-embed@6?noext\",\n",
       "    };\n",
       "\n",
       "    function loadScript(lib) {\n",
       "      return new Promise(function(resolve, reject) {\n",
       "        var s = document.createElement('script');\n",
       "        s.src = paths[lib];\n",
       "        s.async = true;\n",
       "        s.onload = () => resolve(paths[lib]);\n",
       "        s.onerror = () => reject(`Error loading script: ${paths[lib]}`);\n",
       "        document.getElementsByTagName(\"head\")[0].appendChild(s);\n",
       "      });\n",
       "    }\n",
       "\n",
       "    function showError(err) {\n",
       "      outputDiv.innerHTML = `<div class=\"error\" style=\"color:red;\">${err}</div>`;\n",
       "      throw err;\n",
       "    }\n",
       "\n",
       "    function displayChart(vegaEmbed) {\n",
       "      vegaEmbed(outputDiv, spec, embedOpt)\n",
       "        .catch(err => showError(`Javascript Error: ${err.message}<br>This usually means there's a typo in your chart specification. See the javascript console for the full traceback.`));\n",
       "    }\n",
       "\n",
       "    if(typeof define === \"function\" && define.amd) {\n",
       "      requirejs.config({paths});\n",
       "      require([\"vega-embed\"], displayChart, err => showError(`Error loading script: ${err.message}`));\n",
       "    } else if (typeof vegaEmbed === \"function\") {\n",
       "      displayChart(vegaEmbed);\n",
       "    } else {\n",
       "      loadScript(\"vega\")\n",
       "        .then(() => loadScript(\"vega-lite\"))\n",
       "        .then(() => loadScript(\"vega-embed\"))\n",
       "        .catch(showError)\n",
       "        .then(() => displayChart(vegaEmbed));\n",
       "    }\n",
       "  })({\"config\": {\"view\": {\"continuousWidth\": 400, \"continuousHeight\": 300}}, \"data\": {\"name\": \"data-23ab5fbbb8473b892a91b29fa85a1421\"}, \"mark\": \"point\", \"encoding\": {\"color\": {\"type\": \"nominal\", \"field\": \"class\"}, \"tooltip\": [{\"type\": \"nominal\", \"field\": \"Name\"}, {\"type\": \"nominal\", \"field\": \"url\"}], \"x\": {\"type\": \"quantitative\", \"field\": \"age\"}, \"y\": {\"type\": \"quantitative\", \"field\": \"hemo\"}}, \"title\": \"Chronic kidney disease compared along age and hemoglobin\", \"$schema\": \"https://vega.github.io/schema/vega-lite/v4.8.1.json\", \"datasets\": {\"data-23ab5fbbb8473b892a91b29fa85a1421\": [{\"age\": 62.0, \"bp\": 80.0, \"sg\": 1.01, \"al\": 2.0, \"su\": 3.0, \"rbc\": \"normal\", \"pc\": \"normal\", \"pcc\": \"notpresent\", \"ba\": \"notpresent\", \"bgr\": 423.0, \"bu\": 53.0, \"sc\": 1.8, \"sod\": 139.0, \"pot\": 4.5, \"hemo\": 9.6, \"pcv\": 31.0, \"wbcc\": 7500.0, \"rbcc\": 4.9, \"htn\": \"no\", \"dm\": \"yes\", \"cad\": \"no\", \"appet\": \"poor\", \"pe\": \"no\", \"ane\": \"yes\", \"class\": \"ckd\"}, {\"age\": 48.0, \"bp\": 70.0, \"sg\": 1.005, \"al\": 4.0, \"su\": 0.0, \"rbc\": \"normal\", \"pc\": \"abnormal\", \"pcc\": \"present\", \"ba\": \"notpresent\", \"bgr\": 117.0, \"bu\": 56.0, \"sc\": 3.8, \"sod\": 111.0, \"pot\": 2.5, \"hemo\": 11.2, \"pcv\": 32.0, \"wbcc\": 6700.0, \"rbcc\": 3.9, \"htn\": \"yes\", \"dm\": \"no\", \"cad\": \"no\", \"appet\": \"poor\", \"pe\": \"yes\", \"ane\": \"yes\", \"class\": \"ckd\"}, {\"age\": 51.0, \"bp\": 80.0, \"sg\": 1.01, \"al\": 2.0, \"su\": 0.0, \"rbc\": \"normal\", \"pc\": \"normal\", \"pcc\": \"notpresent\", \"ba\": \"notpresent\", \"bgr\": 106.0, \"bu\": 26.0, \"sc\": 1.4, \"sod\": 139.0, \"pot\": 4.5, \"hemo\": 11.6, \"pcv\": 35.0, \"wbcc\": 7300.0, \"rbcc\": 4.6, \"htn\": \"no\", \"dm\": \"no\", \"cad\": \"no\", \"appet\": \"good\", \"pe\": \"no\", \"ane\": \"no\", \"class\": \"ckd\"}, {\"age\": 24.0, \"bp\": 80.0, \"sg\": 1.015, \"al\": 2.0, \"su\": 4.0, \"rbc\": \"normal\", \"pc\": \"abnormal\", \"pcc\": \"notpresent\", \"ba\": \"notpresent\", \"bgr\": 410.0, \"bu\": 31.0, \"sc\": 1.1, \"sod\": 139.0, \"pot\": 4.5, \"hemo\": 12.4, \"pcv\": 44.0, \"wbcc\": 6900.0, \"rbcc\": 5.0, \"htn\": \"no\", \"dm\": \"yes\", \"cad\": \"no\", \"appet\": \"good\", \"pe\": \"yes\", \"ane\": \"no\", \"class\": \"ckd\"}, {\"age\": 52.0, \"bp\": 100.0, \"sg\": 1.015, \"al\": 3.0, \"su\": 0.0, \"rbc\": \"normal\", \"pc\": \"abnormal\", \"pcc\": \"present\", \"ba\": \"notpresent\", \"bgr\": 138.0, \"bu\": 60.0, \"sc\": 1.9, \"sod\": 139.0, \"pot\": 4.5, \"hemo\": 10.8, \"pcv\": 33.0, \"wbcc\": 9600.0, \"rbcc\": 4.0, \"htn\": \"yes\", \"dm\": \"yes\", \"cad\": \"no\", \"appet\": \"good\", \"pe\": \"no\", \"ane\": \"yes\", \"class\": \"ckd\"}, {\"age\": 53.0, \"bp\": 90.0, \"sg\": 1.02, \"al\": 2.0, \"su\": 0.0, \"rbc\": \"abnormal\", \"pc\": \"abnormal\", \"pcc\": \"present\", \"ba\": \"notpresent\", \"bgr\": 70.0, \"bu\": 107.0, \"sc\": 7.2, \"sod\": 114.0, \"pot\": 3.7, \"hemo\": 9.5, \"pcv\": 29.0, \"wbcc\": 12100.0, \"rbcc\": 3.7, \"htn\": \"yes\", \"dm\": \"yes\", \"cad\": \"no\", \"appet\": \"poor\", \"pe\": \"no\", \"ane\": \"yes\", \"class\": \"ckd\"}, {\"age\": 63.0, \"bp\": 70.0, \"sg\": 1.01, \"al\": 3.0, \"su\": 0.0, \"rbc\": \"abnormal\", \"pc\": \"abnormal\", \"pcc\": \"present\", \"ba\": \"notpresent\", \"bgr\": 380.0, \"bu\": 60.0, \"sc\": 2.7, \"sod\": 131.0, \"pot\": 4.2, \"hemo\": 10.8, \"pcv\": 32.0, \"wbcc\": 4500.0, \"rbcc\": 3.8, \"htn\": \"yes\", \"dm\": \"yes\", \"cad\": \"no\", \"appet\": \"poor\", \"pe\": \"yes\", \"ane\": \"no\", \"class\": \"ckd\"}, {\"age\": 68.0, \"bp\": 80.0, \"sg\": 1.01, \"al\": 3.0, \"su\": 2.0, \"rbc\": \"normal\", \"pc\": \"abnormal\", \"pcc\": \"present\", \"ba\": \"present\", \"bgr\": 157.0, \"bu\": 90.0, \"sc\": 4.1, \"sod\": 130.0, \"pot\": 6.4, \"hemo\": 5.6, \"pcv\": 16.0, \"wbcc\": 11000.0, \"rbcc\": 2.6, \"htn\": \"yes\", \"dm\": \"yes\", \"cad\": \"yes\", \"appet\": \"poor\", \"pe\": \"yes\", \"ane\": \"no\", \"class\": \"ckd\"}, {\"age\": 61.0, \"bp\": 80.0, \"sg\": 1.015, \"al\": 2.0, \"su\": 0.0, \"rbc\": \"abnormal\", \"pc\": \"abnormal\", \"pcc\": \"notpresent\", \"ba\": \"notpresent\", \"bgr\": 173.0, \"bu\": 148.0, \"sc\": 3.9, \"sod\": 135.0, \"pot\": 5.2, \"hemo\": 7.7, \"pcv\": 24.0, \"wbcc\": 9200.0, \"rbcc\": 3.2, \"htn\": \"yes\", \"dm\": \"yes\", \"cad\": \"yes\", \"appet\": \"poor\", \"pe\": \"yes\", \"ane\": \"yes\", \"class\": \"ckd\"}, {\"age\": 48.0, \"bp\": 80.0, \"sg\": 1.025, \"al\": 4.0, \"su\": 0.0, \"rbc\": \"normal\", \"pc\": \"abnormal\", \"pcc\": \"notpresent\", \"ba\": \"notpresent\", \"bgr\": 95.0, \"bu\": 163.0, \"sc\": 7.7, \"sod\": 136.0, \"pot\": 3.8, \"hemo\": 9.8, \"pcv\": 32.0, \"wbcc\": 6900.0, \"rbcc\": 3.4, \"htn\": \"yes\", \"dm\": \"no\", \"cad\": \"no\", \"appet\": \"good\", \"pe\": \"no\", \"ane\": \"yes\", \"class\": \"ckd\"}, {\"age\": 42.0, \"bp\": 100.0, \"sg\": 1.015, \"al\": 4.0, \"su\": 0.0, \"rbc\": \"normal\", \"pc\": \"abnormal\", \"pcc\": \"notpresent\", \"ba\": \"present\", \"bgr\": 119.0, \"bu\": 50.0, \"sc\": 1.4, \"sod\": 129.0, \"pot\": 4.0, \"hemo\": 11.1, \"pcv\": 39.0, \"wbcc\": 8300.0, \"rbcc\": 4.6, \"htn\": \"yes\", \"dm\": \"no\", \"cad\": \"no\", \"appet\": \"poor\", \"pe\": \"no\", \"ane\": \"no\", \"class\": \"ckd\"}, {\"age\": 69.0, \"bp\": 70.0, \"sg\": 1.01, \"al\": 3.0, \"su\": 4.0, \"rbc\": \"normal\", \"pc\": \"abnormal\", \"pcc\": \"notpresent\", \"ba\": \"notpresent\", \"bgr\": 264.0, \"bu\": 87.0, \"sc\": 2.7, \"sod\": 130.0, \"pot\": 4.0, \"hemo\": 12.5, \"pcv\": 37.0, \"wbcc\": 9600.0, \"rbcc\": 4.1, \"htn\": \"yes\", \"dm\": \"yes\", \"cad\": \"yes\", \"appet\": \"good\", \"pe\": \"yes\", \"ane\": \"no\", \"class\": \"ckd\"}, {\"age\": 68.0, \"bp\": 70.0, \"sg\": 1.005, \"al\": 1.0, \"su\": 0.0, \"rbc\": \"abnormal\", \"pc\": \"abnormal\", \"pcc\": \"present\", \"ba\": \"notpresent\", \"bgr\": 119.0, \"bu\": 28.0, \"sc\": 1.4, \"sod\": 139.0, \"pot\": 4.5, \"hemo\": 12.9, \"pcv\": 38.0, \"wbcc\": 7900.0, \"rbcc\": 4.9, \"htn\": \"no\", \"dm\": \"no\", \"cad\": \"yes\", \"appet\": \"good\", \"pe\": \"no\", \"ane\": \"no\", \"class\": \"ckd\"}, {\"age\": 60.0, \"bp\": 100.0, \"sg\": 1.02, \"al\": 2.0, \"su\": 0.0, \"rbc\": \"abnormal\", \"pc\": \"abnormal\", \"pcc\": \"notpresent\", \"ba\": \"notpresent\", \"bgr\": 140.0, \"bu\": 55.0, \"sc\": 2.5, \"sod\": 139.0, \"pot\": 4.5, \"hemo\": 10.1, \"pcv\": 29.0, \"wbcc\": 7900.0, \"rbcc\": 4.9, \"htn\": \"yes\", \"dm\": \"no\", \"cad\": \"no\", \"appet\": \"poor\", \"pe\": \"no\", \"ane\": \"no\", \"class\": \"ckd\"}, {\"age\": 70.0, \"bp\": 70.0, \"sg\": 1.01, \"al\": 1.0, \"su\": 0.0, \"rbc\": \"normal\", \"pc\": \"normal\", \"pcc\": \"present\", \"ba\": \"present\", \"bgr\": 171.0, \"bu\": 153.0, \"sc\": 5.2, \"sod\": 139.0, \"pot\": 4.5, \"hemo\": 13.85, \"pcv\": 42.0, \"wbcc\": 7900.0, \"rbcc\": 4.9, \"htn\": \"no\", \"dm\": \"yes\", \"cad\": \"no\", \"appet\": \"poor\", \"pe\": \"no\", \"ane\": \"no\", \"class\": \"ckd\"}, {\"age\": 65.0, \"bp\": 90.0, \"sg\": 1.02, \"al\": 2.0, \"su\": 1.0, \"rbc\": \"abnormal\", \"pc\": \"normal\", \"pcc\": \"notpresent\", \"ba\": \"notpresent\", \"bgr\": 270.0, \"bu\": 39.0, \"sc\": 2.0, \"sod\": 139.0, \"pot\": 4.5, \"hemo\": 12.0, \"pcv\": 36.0, \"wbcc\": 9800.0, \"rbcc\": 4.9, \"htn\": \"yes\", \"dm\": \"yes\", \"cad\": \"no\", \"appet\": \"poor\", \"pe\": \"no\", \"ane\": \"yes\", \"class\": \"ckd\"}, {\"age\": 76.0, \"bp\": 70.0, \"sg\": 1.015, \"al\": 1.0, \"su\": 0.0, \"rbc\": \"normal\", \"pc\": \"normal\", \"pcc\": \"notpresent\", \"ba\": \"notpresent\", \"bgr\": 92.0, \"bu\": 29.0, \"sc\": 1.8, \"sod\": 133.0, \"pot\": 3.9, \"hemo\": 10.3, \"pcv\": 32.0, \"wbcc\": 7900.0, \"rbcc\": 4.9, \"htn\": \"yes\", \"dm\": \"no\", \"cad\": \"no\", \"appet\": \"good\", \"pe\": \"no\", \"ane\": \"no\", \"class\": \"ckd\"}, {\"age\": 69.0, \"bp\": 80.0, \"sg\": 1.02, \"al\": 3.0, \"su\": 0.0, \"rbc\": \"abnormal\", \"pc\": \"normal\", \"pcc\": \"notpresent\", \"ba\": \"notpresent\", \"bgr\": 119.0, \"bu\": 103.0, \"sc\": 4.1, \"sod\": 132.0, \"pot\": 5.9, \"hemo\": 12.5, \"pcv\": 42.0, \"wbcc\": 7900.0, \"rbcc\": 4.9, \"htn\": \"yes\", \"dm\": \"no\", \"cad\": \"no\", \"appet\": \"good\", \"pe\": \"no\", \"ane\": \"no\", \"class\": \"ckd\"}, {\"age\": 82.0, \"bp\": 80.0, \"sg\": 1.01, \"al\": 2.0, \"su\": 2.0, \"rbc\": \"normal\", \"pc\": \"normal\", \"pcc\": \"notpresent\", \"ba\": \"notpresent\", \"bgr\": 140.0, \"bu\": 70.0, \"sc\": 3.4, \"sod\": 136.0, \"pot\": 4.2, \"hemo\": 13.0, \"pcv\": 40.0, \"wbcc\": 9800.0, \"rbcc\": 4.2, \"htn\": \"yes\", \"dm\": \"yes\", \"cad\": \"no\", \"appet\": \"good\", \"pe\": \"no\", \"ane\": \"no\", \"class\": \"ckd\"}, {\"age\": 46.0, \"bp\": 90.0, \"sg\": 1.01, \"al\": 2.0, \"su\": 0.0, \"rbc\": \"normal\", \"pc\": \"abnormal\", \"pcc\": \"notpresent\", \"ba\": \"notpresent\", \"bgr\": 99.0, \"bu\": 80.0, \"sc\": 2.1, \"sod\": 139.0, \"pot\": 4.5, \"hemo\": 11.1, \"pcv\": 32.0, \"wbcc\": 9100.0, \"rbcc\": 4.1, \"htn\": \"yes\", \"dm\": \"no\", \"cad\": \"no\", \"appet\": \"good\", \"pe\": \"no\", \"ane\": \"no\", \"class\": \"ckd\"}, {\"age\": 35.0, \"bp\": 80.0, \"sg\": 1.01, \"al\": 1.0, \"su\": 0.0, \"rbc\": \"abnormal\", \"pc\": \"normal\", \"pcc\": \"notpresent\", \"ba\": \"notpresent\", \"bgr\": 79.0, \"bu\": 202.0, \"sc\": 10.8, \"sod\": 134.0, \"pot\": 3.4, \"hemo\": 7.9, \"pcv\": 24.0, \"wbcc\": 7900.0, \"rbcc\": 3.1, \"htn\": \"no\", \"dm\": \"yes\", \"cad\": \"no\", \"appet\": \"good\", \"pe\": \"no\", \"ane\": \"no\", \"class\": \"ckd\"}, {\"age\": 54.0, \"bp\": 80.0, \"sg\": 1.01, \"al\": 3.0, \"su\": 0.0, \"rbc\": \"abnormal\", \"pc\": \"abnormal\", \"pcc\": \"notpresent\", \"ba\": \"notpresent\", \"bgr\": 207.0, \"bu\": 77.0, \"sc\": 6.3, \"sod\": 134.0, \"pot\": 4.8, \"hemo\": 9.7, \"pcv\": 28.0, \"wbcc\": 7900.0, \"rbcc\": 4.9, \"htn\": \"yes\", \"dm\": \"yes\", \"cad\": \"no\", \"appet\": \"poor\", \"pe\": \"yes\", \"ane\": \"no\", \"class\": \"ckd\"}, {\"age\": 73.0, \"bp\": 70.0, \"sg\": 1.005, \"al\": 0.0, \"su\": 0.0, \"rbc\": \"normal\", \"pc\": \"normal\", \"pcc\": \"notpresent\", \"ba\": \"notpresent\", \"bgr\": 70.0, \"bu\": 32.0, \"sc\": 0.9, \"sod\": 125.0, \"pot\": 4.0, \"hemo\": 10.0, \"pcv\": 29.0, \"wbcc\": 18900.0, \"rbcc\": 3.5, \"htn\": \"yes\", \"dm\": \"yes\", \"cad\": \"no\", \"appet\": \"good\", \"pe\": \"yes\", \"ane\": \"no\", \"class\": \"ckd\"}, {\"age\": 60.0, \"bp\": 70.0, \"sg\": 1.01, \"al\": 2.0, \"su\": 0.0, \"rbc\": \"normal\", \"pc\": \"abnormal\", \"pcc\": \"present\", \"ba\": \"notpresent\", \"bgr\": 144.0, \"bu\": 72.0, \"sc\": 3.0, \"sod\": 139.0, \"pot\": 4.5, \"hemo\": 9.7, \"pcv\": 29.0, \"wbcc\": 21600.0, \"rbcc\": 3.5, \"htn\": \"yes\", \"dm\": \"yes\", \"cad\": \"no\", \"appet\": \"poor\", \"pe\": \"no\", \"ane\": \"yes\", \"class\": \"ckd\"}, {\"age\": 63.0, \"bp\": 80.0, \"sg\": 1.01, \"al\": 2.0, \"su\": 2.0, \"rbc\": \"normal\", \"pc\": \"normal\", \"pcc\": \"notpresent\", \"ba\": \"notpresent\", \"bgr\": 119.0, \"bu\": 40.0, \"sc\": 3.4, \"sod\": 136.0, \"pot\": 4.2, \"hemo\": 13.0, \"pcv\": 40.0, \"wbcc\": 9800.0, \"rbcc\": 4.2, \"htn\": \"yes\", \"dm\": \"no\", \"cad\": \"yes\", \"appet\": \"good\", \"pe\": \"no\", \"ane\": \"no\", \"class\": \"ckd\"}, {\"age\": 35.0, \"bp\": 80.0, \"sg\": 1.005, \"al\": 3.0, \"su\": 0.0, \"rbc\": \"abnormal\", \"pc\": \"normal\", \"pcc\": \"notpresent\", \"ba\": \"notpresent\", \"bgr\": 119.0, \"bu\": 40.0, \"sc\": 1.15, \"sod\": 139.0, \"pot\": 4.5, \"hemo\": 9.5, \"pcv\": 28.0, \"wbcc\": 7900.0, \"rbcc\": 4.9, \"htn\": \"no\", \"dm\": \"no\", \"cad\": \"no\", \"appet\": \"good\", \"pe\": \"yes\", \"ane\": \"no\", \"class\": \"ckd\"}, {\"age\": 76.0, \"bp\": 70.0, \"sg\": 1.015, \"al\": 3.0, \"su\": 4.0, \"rbc\": \"normal\", \"pc\": \"abnormal\", \"pcc\": \"present\", \"ba\": \"notpresent\", \"bgr\": 119.0, \"bu\": 164.0, \"sc\": 9.7, \"sod\": 131.0, \"pot\": 4.4, \"hemo\": 10.2, \"pcv\": 30.0, \"wbcc\": 11300.0, \"rbcc\": 3.4, \"htn\": \"yes\", \"dm\": \"yes\", \"cad\": \"yes\", \"appet\": \"poor\", \"pe\": \"yes\", \"ane\": \"no\", \"class\": \"ckd\"}, {\"age\": 73.0, \"bp\": 80.0, \"sg\": 1.02, \"al\": 2.0, \"su\": 0.0, \"rbc\": \"abnormal\", \"pc\": \"abnormal\", \"pcc\": \"notpresent\", \"ba\": \"notpresent\", \"bgr\": 253.0, \"bu\": 142.0, \"sc\": 4.6, \"sod\": 138.0, \"pot\": 5.8, \"hemo\": 10.5, \"pcv\": 33.0, \"wbcc\": 7200.0, \"rbcc\": 4.3, \"htn\": \"yes\", \"dm\": \"yes\", \"cad\": \"yes\", \"appet\": \"good\", \"pe\": \"no\", \"ane\": \"no\", \"class\": \"ckd\"}, {\"age\": 67.0, \"bp\": 80.0, \"sg\": 1.01, \"al\": 1.0, \"su\": 3.0, \"rbc\": \"normal\", \"pc\": \"abnormal\", \"pcc\": \"notpresent\", \"ba\": \"notpresent\", \"bgr\": 182.0, \"bu\": 391.0, \"sc\": 32.0, \"sod\": 163.0, \"pot\": 39.0, \"hemo\": 13.85, \"pcv\": 42.0, \"wbcc\": 7900.0, \"rbcc\": 4.9, \"htn\": \"no\", \"dm\": \"no\", \"cad\": \"no\", \"appet\": \"good\", \"pe\": \"yes\", \"ane\": \"no\", \"class\": \"ckd\"}, {\"age\": 46.0, \"bp\": 70.0, \"sg\": 1.015, \"al\": 1.0, \"su\": 0.0, \"rbc\": \"abnormal\", \"pc\": \"normal\", \"pcc\": \"notpresent\", \"ba\": \"notpresent\", \"bgr\": 150.0, \"bu\": 111.0, \"sc\": 6.1, \"sod\": 131.0, \"pot\": 3.7, \"hemo\": 7.5, \"pcv\": 27.0, \"wbcc\": 7900.0, \"rbcc\": 4.9, \"htn\": \"no\", \"dm\": \"no\", \"cad\": \"no\", \"appet\": \"good\", \"pe\": \"no\", \"ane\": \"yes\", \"class\": \"ckd\"}, {\"age\": 67.0, \"bp\": 70.0, \"sg\": 1.02, \"al\": 2.0, \"su\": 0.0, \"rbc\": \"abnormal\", \"pc\": \"normal\", \"pcc\": \"notpresent\", \"ba\": \"notpresent\", \"bgr\": 150.0, \"bu\": 55.0, \"sc\": 1.6, \"sod\": 131.0, \"pot\": 4.8, \"hemo\": 13.85, \"pcv\": 42.0, \"wbcc\": 7900.0, \"rbcc\": 4.9, \"htn\": \"yes\", \"dm\": \"yes\", \"cad\": \"no\", \"appet\": \"good\", \"pe\": \"yes\", \"ane\": \"no\", \"class\": \"ckd\"}, {\"age\": 45.0, \"bp\": 80.0, \"sg\": 1.02, \"al\": 3.0, \"su\": 0.0, \"rbc\": \"normal\", \"pc\": \"abnormal\", \"pcc\": \"notpresent\", \"ba\": \"notpresent\", \"bgr\": 425.0, \"bu\": 40.0, \"sc\": 1.15, \"sod\": 139.0, \"pot\": 4.5, \"hemo\": 13.85, \"pcv\": 42.0, \"wbcc\": 7900.0, \"rbcc\": 4.9, \"htn\": \"no\", \"dm\": \"no\", \"cad\": \"no\", \"appet\": \"poor\", \"pe\": \"no\", \"ane\": \"no\", \"class\": \"ckd\"}, {\"age\": 46.0, \"bp\": 60.0, \"sg\": 1.01, \"al\": 1.0, \"su\": 0.0, \"rbc\": \"normal\", \"pc\": \"normal\", \"pcc\": \"notpresent\", \"ba\": \"notpresent\", \"bgr\": 163.0, \"bu\": 92.0, \"sc\": 3.3, \"sod\": 141.0, \"pot\": 4.0, \"hemo\": 9.8, \"pcv\": 28.0, \"wbcc\": 14600.0, \"rbcc\": 3.2, \"htn\": \"yes\", \"dm\": \"yes\", \"cad\": \"no\", \"appet\": \"good\", \"pe\": \"no\", \"ane\": \"no\", \"class\": \"ckd\"}, {\"age\": 50.0, \"bp\": 100.0, \"sg\": 1.015, \"al\": 2.0, \"su\": 0.0, \"rbc\": \"abnormal\", \"pc\": \"abnormal\", \"pcc\": \"notpresent\", \"ba\": \"notpresent\", \"bgr\": 129.0, \"bu\": 107.0, \"sc\": 6.7, \"sod\": 132.0, \"pot\": 4.4, \"hemo\": 4.8, \"pcv\": 14.0, \"wbcc\": 6300.0, \"rbcc\": 4.9, \"htn\": \"yes\", \"dm\": \"no\", \"cad\": \"no\", \"appet\": \"good\", \"pe\": \"yes\", \"ane\": \"yes\", \"class\": \"ckd\"}, {\"age\": 56.0, \"bp\": 90.0, \"sg\": 1.015, \"al\": 2.0, \"su\": 0.0, \"rbc\": \"abnormal\", \"pc\": \"abnormal\", \"pcc\": \"notpresent\", \"ba\": \"notpresent\", \"bgr\": 129.0, \"bu\": 107.0, \"sc\": 6.7, \"sod\": 131.0, \"pot\": 4.8, \"hemo\": 9.1, \"pcv\": 29.0, \"wbcc\": 6400.0, \"rbcc\": 3.4, \"htn\": \"yes\", \"dm\": \"no\", \"cad\": \"no\", \"appet\": \"good\", \"pe\": \"no\", \"ane\": \"no\", \"class\": \"ckd\"}, {\"age\": 48.0, \"bp\": 80.0, \"sg\": 1.005, \"al\": 4.0, \"su\": 0.0, \"rbc\": \"abnormal\", \"pc\": \"abnormal\", \"pcc\": \"notpresent\", \"ba\": \"present\", \"bgr\": 133.0, \"bu\": 139.0, \"sc\": 8.5, \"sod\": 132.0, \"pot\": 5.5, \"hemo\": 10.3, \"pcv\": 36.0, \"wbcc\": 6200.0, \"rbcc\": 4.0, \"htn\": \"no\", \"dm\": \"yes\", \"cad\": \"no\", \"appet\": \"good\", \"pe\": \"yes\", \"ane\": \"no\", \"class\": \"ckd\"}, {\"age\": 48.0, \"bp\": 70.0, \"sg\": 1.015, \"al\": 1.0, \"su\": 0.0, \"rbc\": \"normal\", \"pc\": \"normal\", \"pcc\": \"notpresent\", \"ba\": \"notpresent\", \"bgr\": 127.0, \"bu\": 19.0, \"sc\": 1.0, \"sod\": 134.0, \"pot\": 3.6, \"hemo\": 13.85, \"pcv\": 42.0, \"wbcc\": 7900.0, \"rbcc\": 4.9, \"htn\": \"yes\", \"dm\": \"yes\", \"cad\": \"no\", \"appet\": \"good\", \"pe\": \"no\", \"ane\": \"no\", \"class\": \"ckd\"}, {\"age\": 59.0, \"bp\": 70.0, \"sg\": 1.01, \"al\": 3.0, \"su\": 0.0, \"rbc\": \"normal\", \"pc\": \"abnormal\", \"pcc\": \"notpresent\", \"ba\": \"notpresent\", \"bgr\": 76.0, \"bu\": 186.0, \"sc\": 15.0, \"sod\": 135.0, \"pot\": 7.6, \"hemo\": 7.1, \"pcv\": 22.0, \"wbcc\": 3800.0, \"rbcc\": 2.1, \"htn\": \"yes\", \"dm\": \"no\", \"cad\": \"no\", \"appet\": \"poor\", \"pe\": \"yes\", \"ane\": \"yes\", \"class\": \"ckd\"}, {\"age\": 70.0, \"bp\": 100.0, \"sg\": 1.005, \"al\": 1.0, \"su\": 0.0, \"rbc\": \"normal\", \"pc\": \"abnormal\", \"pcc\": \"present\", \"ba\": \"notpresent\", \"bgr\": 169.0, \"bu\": 47.0, \"sc\": 2.9, \"sod\": 139.0, \"pot\": 4.5, \"hemo\": 11.1, \"pcv\": 32.0, \"wbcc\": 5800.0, \"rbcc\": 5.0, \"htn\": \"yes\", \"dm\": \"yes\", \"cad\": \"no\", \"appet\": \"poor\", \"pe\": \"no\", \"ane\": \"no\", \"class\": \"ckd\"}, {\"age\": 63.0, \"bp\": 100.0, \"sg\": 1.01, \"al\": 2.0, \"su\": 2.0, \"rbc\": \"normal\", \"pc\": \"normal\", \"pcc\": \"notpresent\", \"ba\": \"present\", \"bgr\": 280.0, \"bu\": 35.0, \"sc\": 3.2, \"sod\": 143.0, \"pot\": 3.5, \"hemo\": 13.0, \"pcv\": 40.0, \"wbcc\": 9800.0, \"rbcc\": 4.2, \"htn\": \"yes\", \"dm\": \"no\", \"cad\": \"yes\", \"appet\": \"good\", \"pe\": \"no\", \"ane\": \"no\", \"class\": \"ckd\"}, {\"age\": 56.0, \"bp\": 70.0, \"sg\": 1.015, \"al\": 4.0, \"su\": 1.0, \"rbc\": \"abnormal\", \"pc\": \"normal\", \"pcc\": \"notpresent\", \"ba\": \"notpresent\", \"bgr\": 210.0, \"bu\": 26.0, \"sc\": 1.7, \"sod\": 136.0, \"pot\": 3.8, \"hemo\": 16.1, \"pcv\": 52.0, \"wbcc\": 12500.0, \"rbcc\": 5.6, \"htn\": \"no\", \"dm\": \"no\", \"cad\": \"no\", \"appet\": \"good\", \"pe\": \"no\", \"ane\": \"no\", \"class\": \"ckd\"}, {\"age\": 71.0, \"bp\": 70.0, \"sg\": 1.01, \"al\": 3.0, \"su\": 0.0, \"rbc\": \"normal\", \"pc\": \"abnormal\", \"pcc\": \"present\", \"ba\": \"present\", \"bgr\": 219.0, \"bu\": 82.0, \"sc\": 3.6, \"sod\": 133.0, \"pot\": 4.4, \"hemo\": 10.4, \"pcv\": 33.0, \"wbcc\": 5600.0, \"rbcc\": 3.6, \"htn\": \"yes\", \"dm\": \"yes\", \"cad\": \"yes\", \"appet\": \"good\", \"pe\": \"no\", \"ane\": \"no\", \"class\": \"ckd\"}, {\"age\": 73.0, \"bp\": 100.0, \"sg\": 1.01, \"al\": 3.0, \"su\": 2.0, \"rbc\": \"abnormal\", \"pc\": \"abnormal\", \"pcc\": \"present\", \"ba\": \"notpresent\", \"bgr\": 295.0, \"bu\": 90.0, \"sc\": 5.6, \"sod\": 140.0, \"pot\": 2.9, \"hemo\": 9.2, \"pcv\": 30.0, \"wbcc\": 7000.0, \"rbcc\": 3.2, \"htn\": \"yes\", \"dm\": \"yes\", \"cad\": \"yes\", \"appet\": \"poor\", \"pe\": \"no\", \"ane\": \"no\", \"class\": \"ckd\"}, {\"age\": 34.0, \"bp\": 70.0, \"sg\": 1.015, \"al\": 4.0, \"su\": 0.0, \"rbc\": \"abnormal\", \"pc\": \"abnormal\", \"pcc\": \"notpresent\", \"ba\": \"notpresent\", \"bgr\": 153.0, \"bu\": 22.0, \"sc\": 0.9, \"sod\": 133.0, \"pot\": 3.8, \"hemo\": 13.85, \"pcv\": 42.0, \"wbcc\": 7900.0, \"rbcc\": 4.9, \"htn\": \"no\", \"dm\": \"no\", \"cad\": \"no\", \"appet\": \"good\", \"pe\": \"yes\", \"ane\": \"no\", \"class\": \"ckd\"}, {\"age\": 76.0, \"bp\": 70.0, \"sg\": 1.015, \"al\": 2.0, \"su\": 0.0, \"rbc\": \"normal\", \"pc\": \"abnormal\", \"pcc\": \"present\", \"ba\": \"notpresent\", \"bgr\": 226.0, \"bu\": 217.0, \"sc\": 10.2, \"sod\": 139.0, \"pot\": 4.5, \"hemo\": 10.2, \"pcv\": 36.0, \"wbcc\": 12700.0, \"rbcc\": 4.2, \"htn\": \"yes\", \"dm\": \"no\", \"cad\": \"no\", \"appet\": \"poor\", \"pe\": \"yes\", \"ane\": \"yes\", \"class\": \"ckd\"}, {\"age\": 55.0, \"bp\": 100.0, \"sg\": 1.015, \"al\": 1.0, \"su\": 4.0, \"rbc\": \"normal\", \"pc\": \"normal\", \"pcc\": \"notpresent\", \"ba\": \"notpresent\", \"bgr\": 297.0, \"bu\": 53.0, \"sc\": 2.8, \"sod\": 139.0, \"pot\": 4.5, \"hemo\": 11.2, \"pcv\": 34.0, \"wbcc\": 13600.0, \"rbcc\": 4.4, \"htn\": \"yes\", \"dm\": \"yes\", \"cad\": \"no\", \"appet\": \"good\", \"pe\": \"no\", \"ane\": \"no\", \"class\": \"ckd\"}, {\"age\": 50.0, \"bp\": 60.0, \"sg\": 1.015, \"al\": 3.0, \"su\": 0.0, \"rbc\": \"abnormal\", \"pc\": \"abnormal\", \"pcc\": \"notpresent\", \"ba\": \"notpresent\", \"bgr\": 119.0, \"bu\": 34.0, \"sc\": 1.2, \"sod\": 139.0, \"pot\": 4.5, \"hemo\": 10.8, \"pcv\": 33.0, \"wbcc\": 7900.0, \"rbcc\": 4.9, \"htn\": \"no\", \"dm\": \"no\", \"cad\": \"no\", \"appet\": \"good\", \"pe\": \"no\", \"ane\": \"no\", \"class\": \"ckd\"}, {\"age\": 12.0, \"bp\": 60.0, \"sg\": 1.015, \"al\": 3.0, \"su\": 0.0, \"rbc\": \"abnormal\", \"pc\": \"abnormal\", \"pcc\": \"present\", \"ba\": \"notpresent\", \"bgr\": 119.0, \"bu\": 51.0, \"sc\": 1.8, \"sod\": 139.0, \"pot\": 4.5, \"hemo\": 12.1, \"pcv\": 42.0, \"wbcc\": 10300.0, \"rbcc\": 4.9, \"htn\": \"no\", \"dm\": \"no\", \"cad\": \"no\", \"appet\": \"good\", \"pe\": \"no\", \"ane\": \"no\", \"class\": \"ckd\"}, {\"age\": 50.0, \"bp\": 70.0, \"sg\": 1.015, \"al\": 4.0, \"su\": 0.0, \"rbc\": \"abnormal\", \"pc\": \"normal\", \"pcc\": \"notpresent\", \"ba\": \"notpresent\", \"bgr\": 104.0, \"bu\": 16.0, \"sc\": 0.5, \"sod\": 139.0, \"pot\": 4.5, \"hemo\": 13.85, \"pcv\": 42.0, \"wbcc\": 7900.0, \"rbcc\": 4.9, \"htn\": \"no\", \"dm\": \"no\", \"cad\": \"no\", \"appet\": \"good\", \"pe\": \"yes\", \"ane\": \"no\", \"class\": \"ckd\"}, {\"age\": 71.0, \"bp\": 60.0, \"sg\": 1.015, \"al\": 4.0, \"su\": 0.0, \"rbc\": \"normal\", \"pc\": \"normal\", \"pcc\": \"notpresent\", \"ba\": \"notpresent\", \"bgr\": 118.0, \"bu\": 125.0, \"sc\": 5.3, \"sod\": 136.0, \"pot\": 4.9, \"hemo\": 11.4, \"pcv\": 35.0, \"wbcc\": 15200.0, \"rbcc\": 4.3, \"htn\": \"yes\", \"dm\": \"yes\", \"cad\": \"no\", \"appet\": \"poor\", \"pe\": \"yes\", \"ane\": \"no\", \"class\": \"ckd\"}, {\"age\": 52.0, \"bp\": 90.0, \"sg\": 1.015, \"al\": 4.0, \"su\": 3.0, \"rbc\": \"normal\", \"pc\": \"abnormal\", \"pcc\": \"notpresent\", \"ba\": \"notpresent\", \"bgr\": 224.0, \"bu\": 166.0, \"sc\": 5.6, \"sod\": 133.0, \"pot\": 47.0, \"hemo\": 8.1, \"pcv\": 23.0, \"wbcc\": 5000.0, \"rbcc\": 2.9, \"htn\": \"yes\", \"dm\": \"yes\", \"cad\": \"no\", \"appet\": \"good\", \"pe\": \"no\", \"ane\": \"yes\", \"class\": \"ckd\"}, {\"age\": 50.0, \"bp\": 90.0, \"sg\": 1.01, \"al\": 2.0, \"su\": 0.0, \"rbc\": \"normal\", \"pc\": \"abnormal\", \"pcc\": \"present\", \"ba\": \"present\", \"bgr\": 128.0, \"bu\": 208.0, \"sc\": 9.2, \"sod\": 134.0, \"pot\": 4.8, \"hemo\": 8.2, \"pcv\": 22.0, \"wbcc\": 16300.0, \"rbcc\": 2.7, \"htn\": \"no\", \"dm\": \"no\", \"cad\": \"no\", \"appet\": \"poor\", \"pe\": \"yes\", \"ane\": \"yes\", \"class\": \"ckd\"}, {\"age\": 50.0, \"bp\": 80.0, \"sg\": 1.02, \"al\": 0.0, \"su\": 0.0, \"rbc\": \"normal\", \"pc\": \"normal\", \"pcc\": \"notpresent\", \"ba\": \"notpresent\", \"bgr\": 219.0, \"bu\": 176.0, \"sc\": 13.8, \"sod\": 136.0, \"pot\": 4.5, \"hemo\": 8.6, \"pcv\": 24.0, \"wbcc\": 13200.0, \"rbcc\": 2.7, \"htn\": \"yes\", \"dm\": \"no\", \"cad\": \"no\", \"appet\": \"good\", \"pe\": \"yes\", \"ane\": \"yes\", \"class\": \"ckd\"}, {\"age\": 70.0, \"bp\": 100.0, \"sg\": 1.015, \"al\": 4.0, \"su\": 0.0, \"rbc\": \"normal\", \"pc\": \"normal\", \"pcc\": \"notpresent\", \"ba\": \"notpresent\", \"bgr\": 118.0, \"bu\": 125.0, \"sc\": 5.3, \"sod\": 136.0, \"pot\": 4.9, \"hemo\": 12.0, \"pcv\": 37.0, \"wbcc\": 8400.0, \"rbcc\": 8.0, \"htn\": \"yes\", \"dm\": \"no\", \"cad\": \"no\", \"appet\": \"good\", \"pe\": \"no\", \"ane\": \"no\", \"class\": \"ckd\"}, {\"age\": 47.0, \"bp\": 100.0, \"sg\": 1.01, \"al\": 0.0, \"su\": 0.0, \"rbc\": \"normal\", \"pc\": \"normal\", \"pcc\": \"notpresent\", \"ba\": \"notpresent\", \"bgr\": 122.0, \"bu\": 40.0, \"sc\": 16.9, \"sod\": 138.0, \"pot\": 5.2, \"hemo\": 10.8, \"pcv\": 33.0, \"wbcc\": 10200.0, \"rbcc\": 3.8, \"htn\": \"no\", \"dm\": \"yes\", \"cad\": \"no\", \"appet\": \"good\", \"pe\": \"no\", \"ane\": \"no\", \"class\": \"ckd\"}, {\"age\": 45.0, \"bp\": 60.0, \"sg\": 1.01, \"al\": 2.0, \"su\": 0.0, \"rbc\": \"normal\", \"pc\": \"abnormal\", \"pcc\": \"present\", \"ba\": \"notpresent\", \"bgr\": 268.0, \"bu\": 86.0, \"sc\": 4.0, \"sod\": 134.0, \"pot\": 5.1, \"hemo\": 10.0, \"pcv\": 29.0, \"wbcc\": 9200.0, \"rbcc\": 4.9, \"htn\": \"yes\", \"dm\": \"yes\", \"cad\": \"no\", \"appet\": \"good\", \"pe\": \"no\", \"ane\": \"no\", \"class\": \"ckd\"}, {\"age\": 67.0, \"bp\": 70.0, \"sg\": 1.01, \"al\": 1.0, \"su\": 0.0, \"rbc\": \"normal\", \"pc\": \"normal\", \"pcc\": \"notpresent\", \"ba\": \"notpresent\", \"bgr\": 119.0, \"bu\": 106.0, \"sc\": 6.0, \"sod\": 137.0, \"pot\": 4.9, \"hemo\": 6.1, \"pcv\": 19.0, \"wbcc\": 6500.0, \"rbcc\": 4.9, \"htn\": \"yes\", \"dm\": \"no\", \"cad\": \"no\", \"appet\": \"good\", \"pe\": \"no\", \"ane\": \"yes\", \"class\": \"ckd\"}, {\"age\": 41.0, \"bp\": 80.0, \"sg\": 1.015, \"al\": 1.0, \"su\": 4.0, \"rbc\": \"abnormal\", \"pc\": \"normal\", \"pcc\": \"notpresent\", \"ba\": \"notpresent\", \"bgr\": 210.0, \"bu\": 165.0, \"sc\": 18.0, \"sod\": 135.0, \"pot\": 4.7, \"hemo\": 13.85, \"pcv\": 42.0, \"wbcc\": 7900.0, \"rbcc\": 4.9, \"htn\": \"no\", \"dm\": \"yes\", \"cad\": \"no\", \"appet\": \"good\", \"pe\": \"no\", \"ane\": \"no\", \"class\": \"ckd\"}, {\"age\": 60.0, \"bp\": 90.0, \"sg\": 1.01, \"al\": 2.0, \"su\": 0.0, \"rbc\": \"abnormal\", \"pc\": \"normal\", \"pcc\": \"notpresent\", \"ba\": \"notpresent\", \"bgr\": 105.0, \"bu\": 53.0, \"sc\": 2.3, \"sod\": 136.0, \"pot\": 5.2, \"hemo\": 11.1, \"pcv\": 33.0, \"wbcc\": 10500.0, \"rbcc\": 4.1, \"htn\": \"no\", \"dm\": \"no\", \"cad\": \"no\", \"appet\": \"good\", \"pe\": \"no\", \"ane\": \"no\", \"class\": \"ckd\"}, {\"age\": 57.0, \"bp\": 90.0, \"sg\": 1.015, \"al\": 5.0, \"su\": 0.0, \"rbc\": \"abnormal\", \"pc\": \"abnormal\", \"pcc\": \"notpresent\", \"ba\": \"present\", \"bgr\": 119.0, \"bu\": 322.0, \"sc\": 13.0, \"sod\": 126.0, \"pot\": 4.8, \"hemo\": 8.0, \"pcv\": 24.0, \"wbcc\": 4200.0, \"rbcc\": 3.3, \"htn\": \"yes\", \"dm\": \"yes\", \"cad\": \"yes\", \"appet\": \"poor\", \"pe\": \"yes\", \"ane\": \"yes\", \"class\": \"ckd\"}, {\"age\": 53.0, \"bp\": 100.0, \"sg\": 1.01, \"al\": 1.0, \"su\": 3.0, \"rbc\": \"abnormal\", \"pc\": \"normal\", \"pcc\": \"notpresent\", \"ba\": \"notpresent\", \"bgr\": 213.0, \"bu\": 23.0, \"sc\": 1.0, \"sod\": 139.0, \"pot\": 4.0, \"hemo\": 13.85, \"pcv\": 42.0, \"wbcc\": 7900.0, \"rbcc\": 4.9, \"htn\": \"no\", \"dm\": \"yes\", \"cad\": \"no\", \"appet\": \"good\", \"pe\": \"no\", \"ane\": \"no\", \"class\": \"ckd\"}, {\"age\": 60.0, \"bp\": 60.0, \"sg\": 1.01, \"al\": 3.0, \"su\": 1.0, \"rbc\": \"normal\", \"pc\": \"abnormal\", \"pcc\": \"present\", \"ba\": \"notpresent\", \"bgr\": 288.0, \"bu\": 36.0, \"sc\": 1.7, \"sod\": 130.0, \"pot\": 3.0, \"hemo\": 7.9, \"pcv\": 25.0, \"wbcc\": 15200.0, \"rbcc\": 3.0, \"htn\": \"yes\", \"dm\": \"no\", \"cad\": \"no\", \"appet\": \"poor\", \"pe\": \"no\", \"ane\": \"yes\", \"class\": \"ckd\"}, {\"age\": 65.0, \"bp\": 70.0, \"sg\": 1.02, \"al\": 1.0, \"su\": 0.0, \"rbc\": \"abnormal\", \"pc\": \"abnormal\", \"pcc\": \"notpresent\", \"ba\": \"notpresent\", \"bgr\": 139.0, \"bu\": 29.0, \"sc\": 1.0, \"sod\": 139.0, \"pot\": 4.5, \"hemo\": 10.5, \"pcv\": 32.0, \"wbcc\": 7900.0, \"rbcc\": 4.9, \"htn\": \"yes\", \"dm\": \"no\", \"cad\": \"no\", \"appet\": \"good\", \"pe\": \"yes\", \"ane\": \"no\", \"class\": \"ckd\"}, {\"age\": 8.0, \"bp\": 60.0, \"sg\": 1.025, \"al\": 3.0, \"su\": 0.0, \"rbc\": \"normal\", \"pc\": \"normal\", \"pcc\": \"notpresent\", \"ba\": \"notpresent\", \"bgr\": 78.0, \"bu\": 27.0, \"sc\": 0.9, \"sod\": 139.0, \"pot\": 4.5, \"hemo\": 12.3, \"pcv\": 41.0, \"wbcc\": 6700.0, \"rbcc\": 4.9, \"htn\": \"no\", \"dm\": \"no\", \"cad\": \"no\", \"appet\": \"poor\", \"pe\": \"yes\", \"ane\": \"no\", \"class\": \"ckd\"}, {\"age\": 55.0, \"bp\": 90.0, \"sg\": 1.01, \"al\": 2.0, \"su\": 1.0, \"rbc\": \"abnormal\", \"pc\": \"abnormal\", \"pcc\": \"notpresent\", \"ba\": \"notpresent\", \"bgr\": 273.0, \"bu\": 235.0, \"sc\": 14.2, \"sod\": 132.0, \"pot\": 3.4, \"hemo\": 8.3, \"pcv\": 22.0, \"wbcc\": 14600.0, \"rbcc\": 2.9, \"htn\": \"yes\", \"dm\": \"yes\", \"cad\": \"no\", \"appet\": \"poor\", \"pe\": \"yes\", \"ane\": \"yes\", \"class\": \"ckd\"}, {\"age\": 56.0, \"bp\": 90.0, \"sg\": 1.005, \"al\": 4.0, \"su\": 3.0, \"rbc\": \"abnormal\", \"pc\": \"abnormal\", \"pcc\": \"notpresent\", \"ba\": \"notpresent\", \"bgr\": 242.0, \"bu\": 132.0, \"sc\": 16.4, \"sod\": 140.0, \"pot\": 4.2, \"hemo\": 8.4, \"pcv\": 26.0, \"wbcc\": 7900.0, \"rbcc\": 3.0, \"htn\": \"yes\", \"dm\": \"yes\", \"cad\": \"no\", \"appet\": \"poor\", \"pe\": \"yes\", \"ane\": \"yes\", \"class\": \"ckd\"}, {\"age\": 50.0, \"bp\": 70.0, \"sg\": 1.02, \"al\": 3.0, \"su\": 0.0, \"rbc\": \"abnormal\", \"pc\": \"normal\", \"pcc\": \"present\", \"ba\": \"present\", \"bgr\": 123.0, \"bu\": 40.0, \"sc\": 1.8, \"sod\": 139.0, \"pot\": 4.5, \"hemo\": 11.1, \"pcv\": 36.0, \"wbcc\": 4700.0, \"rbcc\": 4.9, \"htn\": \"no\", \"dm\": \"no\", \"cad\": \"no\", \"appet\": \"good\", \"pe\": \"no\", \"ane\": \"no\", \"class\": \"ckd\"}, {\"age\": 62.0, \"bp\": 70.0, \"sg\": 1.025, \"al\": 3.0, \"su\": 0.0, \"rbc\": \"normal\", \"pc\": \"abnormal\", \"pcc\": \"notpresent\", \"ba\": \"notpresent\", \"bgr\": 122.0, \"bu\": 42.0, \"sc\": 1.7, \"sod\": 136.0, \"pot\": 4.7, \"hemo\": 12.6, \"pcv\": 39.0, \"wbcc\": 7900.0, \"rbcc\": 3.9, \"htn\": \"yes\", \"dm\": \"yes\", \"cad\": \"no\", \"appet\": \"good\", \"pe\": \"no\", \"ane\": \"no\", \"class\": \"ckd\"}, {\"age\": 71.0, \"bp\": 60.0, \"sg\": 1.02, \"al\": 3.0, \"su\": 2.0, \"rbc\": \"normal\", \"pc\": \"normal\", \"pcc\": \"present\", \"ba\": \"notpresent\", \"bgr\": 424.0, \"bu\": 48.0, \"sc\": 1.5, \"sod\": 132.0, \"pot\": 4.0, \"hemo\": 10.9, \"pcv\": 31.0, \"wbcc\": 7900.0, \"rbcc\": 4.9, \"htn\": \"yes\", \"dm\": \"yes\", \"cad\": \"yes\", \"appet\": \"good\", \"pe\": \"no\", \"ane\": \"no\", \"class\": \"ckd\"}, {\"age\": 59.0, \"bp\": 80.0, \"sg\": 1.01, \"al\": 1.0, \"su\": 0.0, \"rbc\": \"abnormal\", \"pc\": \"normal\", \"pcc\": \"notpresent\", \"ba\": \"notpresent\", \"bgr\": 303.0, \"bu\": 35.0, \"sc\": 1.3, \"sod\": 122.0, \"pot\": 3.5, \"hemo\": 10.4, \"pcv\": 35.0, \"wbcc\": 10900.0, \"rbcc\": 4.3, \"htn\": \"no\", \"dm\": \"yes\", \"cad\": \"no\", \"appet\": \"poor\", \"pe\": \"no\", \"ane\": \"no\", \"class\": \"ckd\"}, {\"age\": 62.0, \"bp\": 80.0, \"sg\": 1.015, \"al\": 3.0, \"su\": 0.0, \"rbc\": \"abnormal\", \"pc\": \"normal\", \"pcc\": \"notpresent\", \"ba\": \"notpresent\", \"bgr\": 119.0, \"bu\": 40.0, \"sc\": 1.15, \"sod\": 139.0, \"pot\": 4.5, \"hemo\": 14.3, \"pcv\": 42.0, \"wbcc\": 10200.0, \"rbcc\": 4.8, \"htn\": \"yes\", \"dm\": \"yes\", \"cad\": \"no\", \"appet\": \"good\", \"pe\": \"no\", \"ane\": \"no\", \"class\": \"ckd\"}, {\"age\": 34.0, \"bp\": 70.0, \"sg\": 1.02, \"al\": 0.0, \"su\": 0.0, \"rbc\": \"abnormal\", \"pc\": \"normal\", \"pcc\": \"notpresent\", \"ba\": \"notpresent\", \"bgr\": 139.0, \"bu\": 19.0, \"sc\": 0.9, \"sod\": 139.0, \"pot\": 4.5, \"hemo\": 12.7, \"pcv\": 42.0, \"wbcc\": 2200.0, \"rbcc\": 4.9, \"htn\": \"no\", \"dm\": \"no\", \"cad\": \"no\", \"appet\": \"poor\", \"pe\": \"no\", \"ane\": \"no\", \"class\": \"ckd\"}, {\"age\": 83.0, \"bp\": 70.0, \"sg\": 1.02, \"al\": 3.0, \"su\": 0.0, \"rbc\": \"normal\", \"pc\": \"normal\", \"pcc\": \"notpresent\", \"ba\": \"notpresent\", \"bgr\": 102.0, \"bu\": 60.0, \"sc\": 2.6, \"sod\": 115.0, \"pot\": 5.7, \"hemo\": 8.7, \"pcv\": 26.0, \"wbcc\": 12800.0, \"rbcc\": 3.1, \"htn\": \"yes\", \"dm\": \"no\", \"cad\": \"no\", \"appet\": \"poor\", \"pe\": \"no\", \"ane\": \"yes\", \"class\": \"ckd\"}, {\"age\": 17.0, \"bp\": 70.0, \"sg\": 1.015, \"al\": 1.0, \"su\": 0.0, \"rbc\": \"abnormal\", \"pc\": \"normal\", \"pcc\": \"notpresent\", \"ba\": \"notpresent\", \"bgr\": 22.0, \"bu\": 1.5, \"sc\": 7.3, \"sod\": 145.0, \"pot\": 2.8, \"hemo\": 13.1, \"pcv\": 41.0, \"wbcc\": 11200.0, \"rbcc\": 4.9, \"htn\": \"no\", \"dm\": \"no\", \"cad\": \"no\", \"appet\": \"good\", \"pe\": \"no\", \"ane\": \"no\", \"class\": \"ckd\"}, {\"age\": 21.0, \"bp\": 90.0, \"sg\": 1.01, \"al\": 4.0, \"su\": 0.0, \"rbc\": \"normal\", \"pc\": \"abnormal\", \"pcc\": \"present\", \"ba\": \"present\", \"bgr\": 107.0, \"bu\": 40.0, \"sc\": 1.7, \"sod\": 125.0, \"pot\": 3.5, \"hemo\": 8.3, \"pcv\": 23.0, \"wbcc\": 12400.0, \"rbcc\": 3.9, \"htn\": \"no\", \"dm\": \"no\", \"cad\": \"no\", \"appet\": \"good\", \"pe\": \"no\", \"ane\": \"yes\", \"class\": \"ckd\"}, {\"age\": 65.0, \"bp\": 80.0, \"sg\": 1.015, \"al\": 2.0, \"su\": 1.0, \"rbc\": \"normal\", \"pc\": \"normal\", \"pcc\": \"present\", \"ba\": \"notpresent\", \"bgr\": 215.0, \"bu\": 133.0, \"sc\": 2.5, \"sod\": 139.0, \"pot\": 4.5, \"hemo\": 13.2, \"pcv\": 41.0, \"wbcc\": 7900.0, \"rbcc\": 4.9, \"htn\": \"no\", \"dm\": \"yes\", \"cad\": \"no\", \"appet\": \"good\", \"pe\": \"no\", \"ane\": \"no\", \"class\": \"ckd\"}, {\"age\": 42.0, \"bp\": 90.0, \"sg\": 1.02, \"al\": 2.0, \"su\": 0.0, \"rbc\": \"abnormal\", \"pc\": \"abnormal\", \"pcc\": \"present\", \"ba\": \"notpresent\", \"bgr\": 93.0, \"bu\": 153.0, \"sc\": 2.7, \"sod\": 139.0, \"pot\": 4.3, \"hemo\": 9.8, \"pcv\": 34.0, \"wbcc\": 9800.0, \"rbcc\": 4.9, \"htn\": \"no\", \"dm\": \"no\", \"cad\": \"no\", \"appet\": \"poor\", \"pe\": \"yes\", \"ane\": \"yes\", \"class\": \"ckd\"}, {\"age\": 73.0, \"bp\": 90.0, \"sg\": 1.01, \"al\": 1.0, \"su\": 4.0, \"rbc\": \"abnormal\", \"pc\": \"abnormal\", \"pcc\": \"present\", \"ba\": \"notpresent\", \"bgr\": 234.0, \"bu\": 56.0, \"sc\": 1.9, \"sod\": 139.0, \"pot\": 4.5, \"hemo\": 10.3, \"pcv\": 28.0, \"wbcc\": 7900.0, \"rbcc\": 4.9, \"htn\": \"no\", \"dm\": \"yes\", \"cad\": \"no\", \"appet\": \"good\", \"pe\": \"no\", \"ane\": \"no\", \"class\": \"ckd\"}, {\"age\": 45.0, \"bp\": 70.0, \"sg\": 1.025, \"al\": 2.0, \"su\": 0.0, \"rbc\": \"normal\", \"pc\": \"abnormal\", \"pcc\": \"present\", \"ba\": \"notpresent\", \"bgr\": 117.0, \"bu\": 52.0, \"sc\": 2.2, \"sod\": 136.0, \"pot\": 3.8, \"hemo\": 10.0, \"pcv\": 30.0, \"wbcc\": 19100.0, \"rbcc\": 3.7, \"htn\": \"no\", \"dm\": \"no\", \"cad\": \"no\", \"appet\": \"good\", \"pe\": \"no\", \"ane\": \"no\", \"class\": \"ckd\"}, {\"age\": 8.0, \"bp\": 50.0, \"sg\": 1.02, \"al\": 4.0, \"su\": 0.0, \"rbc\": \"normal\", \"pc\": \"normal\", \"pcc\": \"notpresent\", \"ba\": \"notpresent\", \"bgr\": 119.0, \"bu\": 46.0, \"sc\": 1.0, \"sod\": 135.0, \"pot\": 3.8, \"hemo\": 13.85, \"pcv\": 42.0, \"wbcc\": 7900.0, \"rbcc\": 4.9, \"htn\": \"no\", \"dm\": \"no\", \"cad\": \"no\", \"appet\": \"good\", \"pe\": \"yes\", \"ane\": \"no\", \"class\": \"ckd\"}, {\"age\": 3.0, \"bp\": 80.0, \"sg\": 1.01, \"al\": 2.0, \"su\": 0.0, \"rbc\": \"normal\", \"pc\": \"normal\", \"pcc\": \"notpresent\", \"ba\": \"notpresent\", \"bgr\": 119.0, \"bu\": 22.0, \"sc\": 0.7, \"sod\": 139.0, \"pot\": 4.5, \"hemo\": 10.7, \"pcv\": 34.0, \"wbcc\": 12300.0, \"rbcc\": 4.9, \"htn\": \"no\", \"dm\": \"no\", \"cad\": \"no\", \"appet\": \"good\", \"pe\": \"no\", \"ane\": \"no\", \"class\": \"ckd\"}, {\"age\": 64.0, \"bp\": 60.0, \"sg\": 1.01, \"al\": 4.0, \"su\": 1.0, \"rbc\": \"abnormal\", \"pc\": \"abnormal\", \"pcc\": \"notpresent\", \"ba\": \"present\", \"bgr\": 239.0, \"bu\": 58.0, \"sc\": 4.3, \"sod\": 137.0, \"pot\": 5.4, \"hemo\": 9.5, \"pcv\": 29.0, \"wbcc\": 7500.0, \"rbcc\": 3.4, \"htn\": \"yes\", \"dm\": \"yes\", \"cad\": \"no\", \"appet\": \"poor\", \"pe\": \"yes\", \"ane\": \"no\", \"class\": \"ckd\"}, {\"age\": 6.0, \"bp\": 60.0, \"sg\": 1.01, \"al\": 4.0, \"su\": 0.0, \"rbc\": \"abnormal\", \"pc\": \"abnormal\", \"pcc\": \"notpresent\", \"ba\": \"present\", \"bgr\": 94.0, \"bu\": 67.0, \"sc\": 1.0, \"sod\": 135.0, \"pot\": 4.9, \"hemo\": 9.9, \"pcv\": 30.0, \"wbcc\": 16700.0, \"rbcc\": 4.8, \"htn\": \"no\", \"dm\": \"no\", \"cad\": \"no\", \"appet\": \"poor\", \"pe\": \"no\", \"ane\": \"no\", \"class\": \"ckd\"}, {\"age\": 50.0, \"bp\": 70.0, \"sg\": 1.01, \"al\": 3.0, \"su\": 0.0, \"rbc\": \"normal\", \"pc\": \"normal\", \"pcc\": \"notpresent\", \"ba\": \"notpresent\", \"bgr\": 110.0, \"bu\": 115.0, \"sc\": 6.0, \"sod\": 134.0, \"pot\": 2.7, \"hemo\": 9.1, \"pcv\": 26.0, \"wbcc\": 9200.0, \"rbcc\": 3.4, \"htn\": \"yes\", \"dm\": \"yes\", \"cad\": \"no\", \"appet\": \"poor\", \"pe\": \"no\", \"ane\": \"no\", \"class\": \"ckd\"}, {\"age\": 32.0, \"bp\": 90.0, \"sg\": 1.025, \"al\": 1.0, \"su\": 0.0, \"rbc\": \"abnormal\", \"pc\": \"abnormal\", \"pcc\": \"notpresent\", \"ba\": \"notpresent\", \"bgr\": 119.0, \"bu\": 223.0, \"sc\": 18.1, \"sod\": 113.0, \"pot\": 6.5, \"hemo\": 5.5, \"pcv\": 15.0, \"wbcc\": 2600.0, \"rbcc\": 2.8, \"htn\": \"yes\", \"dm\": \"yes\", \"cad\": \"no\", \"appet\": \"poor\", \"pe\": \"yes\", \"ane\": \"yes\", \"class\": \"ckd\"}, {\"age\": 70.0, \"bp\": 90.0, \"sg\": 1.02, \"al\": 2.0, \"su\": 1.0, \"rbc\": \"abnormal\", \"pc\": \"abnormal\", \"pcc\": \"notpresent\", \"ba\": \"present\", \"bgr\": 184.0, \"bu\": 98.6, \"sc\": 3.3, \"sod\": 138.0, \"pot\": 3.9, \"hemo\": 5.8, \"pcv\": 42.0, \"wbcc\": 7900.0, \"rbcc\": 4.9, \"htn\": \"yes\", \"dm\": \"yes\", \"cad\": \"yes\", \"appet\": \"poor\", \"pe\": \"no\", \"ane\": \"no\", \"class\": \"ckd\"}, {\"age\": 49.0, \"bp\": 100.0, \"sg\": 1.01, \"al\": 3.0, \"su\": 0.0, \"rbc\": \"abnormal\", \"pc\": \"abnormal\", \"pcc\": \"notpresent\", \"ba\": \"notpresent\", \"bgr\": 129.0, \"bu\": 158.0, \"sc\": 11.8, \"sod\": 122.0, \"pot\": 3.2, \"hemo\": 8.1, \"pcv\": 24.0, \"wbcc\": 9600.0, \"rbcc\": 3.5, \"htn\": \"yes\", \"dm\": \"yes\", \"cad\": \"no\", \"appet\": \"poor\", \"pe\": \"yes\", \"ane\": \"yes\", \"class\": \"ckd\"}, {\"age\": 59.0, \"bp\": 100.0, \"sg\": 1.02, \"al\": 4.0, \"su\": 2.0, \"rbc\": \"normal\", \"pc\": \"normal\", \"pcc\": \"notpresent\", \"ba\": \"notpresent\", \"bgr\": 252.0, \"bu\": 40.0, \"sc\": 3.2, \"sod\": 137.0, \"pot\": 4.7, \"hemo\": 11.2, \"pcv\": 30.0, \"wbcc\": 26400.0, \"rbcc\": 3.9, \"htn\": \"yes\", \"dm\": \"yes\", \"cad\": \"no\", \"appet\": \"poor\", \"pe\": \"yes\", \"ane\": \"no\", \"class\": \"ckd\"}, {\"age\": 65.0, \"bp\": 90.0, \"sg\": 1.01, \"al\": 4.0, \"su\": 2.0, \"rbc\": \"normal\", \"pc\": \"normal\", \"pcc\": \"notpresent\", \"ba\": \"notpresent\", \"bgr\": 172.0, \"bu\": 82.0, \"sc\": 13.5, \"sod\": 145.0, \"pot\": 6.3, \"hemo\": 8.8, \"pcv\": 31.0, \"wbcc\": 7900.0, \"rbcc\": 4.9, \"htn\": \"yes\", \"dm\": \"yes\", \"cad\": \"no\", \"appet\": \"good\", \"pe\": \"yes\", \"ane\": \"yes\", \"class\": \"ckd\"}, {\"age\": 59.0, \"bp\": 100.0, \"sg\": 1.015, \"al\": 4.0, \"su\": 2.0, \"rbc\": \"normal\", \"pc\": \"normal\", \"pcc\": \"notpresent\", \"ba\": \"notpresent\", \"bgr\": 255.0, \"bu\": 132.0, \"sc\": 12.8, \"sod\": 135.0, \"pot\": 5.7, \"hemo\": 7.3, \"pcv\": 20.0, \"wbcc\": 9800.0, \"rbcc\": 3.9, \"htn\": \"yes\", \"dm\": \"yes\", \"cad\": \"yes\", \"appet\": \"good\", \"pe\": \"no\", \"ane\": \"yes\", \"class\": \"ckd\"}, {\"age\": 40.0, \"bp\": 70.0, \"sg\": 1.015, \"al\": 3.0, \"su\": 4.0, \"rbc\": \"normal\", \"pc\": \"normal\", \"pcc\": \"notpresent\", \"ba\": \"notpresent\", \"bgr\": 253.0, \"bu\": 150.0, \"sc\": 11.9, \"sod\": 132.0, \"pot\": 5.6, \"hemo\": 10.9, \"pcv\": 31.0, \"wbcc\": 8800.0, \"rbcc\": 3.4, \"htn\": \"yes\", \"dm\": \"yes\", \"cad\": \"no\", \"appet\": \"poor\", \"pe\": \"yes\", \"ane\": \"no\", \"class\": \"ckd\"}, {\"age\": 55.0, \"bp\": 80.0, \"sg\": 1.01, \"al\": 3.0, \"su\": 1.0, \"rbc\": \"normal\", \"pc\": \"abnormal\", \"pcc\": \"present\", \"ba\": \"present\", \"bgr\": 214.0, \"bu\": 73.0, \"sc\": 3.9, \"sod\": 137.0, \"pot\": 4.9, \"hemo\": 10.9, \"pcv\": 34.0, \"wbcc\": 7400.0, \"rbcc\": 3.7, \"htn\": \"yes\", \"dm\": \"yes\", \"cad\": \"no\", \"appet\": \"good\", \"pe\": \"yes\", \"ane\": \"no\", \"class\": \"ckd\"}, {\"age\": 2.0, \"bp\": 80.0, \"sg\": 1.01, \"al\": 3.0, \"su\": 0.0, \"rbc\": \"normal\", \"pc\": \"abnormal\", \"pcc\": \"notpresent\", \"ba\": \"notpresent\", \"bgr\": 119.0, \"bu\": 40.0, \"sc\": 1.15, \"sod\": 139.0, \"pot\": 4.5, \"hemo\": 13.85, \"pcv\": 42.0, \"wbcc\": 7900.0, \"rbcc\": 4.9, \"htn\": \"no\", \"dm\": \"no\", \"cad\": \"no\", \"appet\": \"good\", \"pe\": \"yes\", \"ane\": \"no\", \"class\": \"ckd\"}, {\"age\": 66.0, \"bp\": 70.0, \"sg\": 1.02, \"al\": 1.0, \"su\": 0.0, \"rbc\": \"normal\", \"pc\": \"normal\", \"pcc\": \"notpresent\", \"ba\": \"notpresent\", \"bgr\": 248.0, \"bu\": 30.0, \"sc\": 1.7, \"sod\": 138.0, \"pot\": 5.3, \"hemo\": 13.85, \"pcv\": 42.0, \"wbcc\": 7900.0, \"rbcc\": 4.9, \"htn\": \"yes\", \"dm\": \"yes\", \"cad\": \"no\", \"appet\": \"good\", \"pe\": \"no\", \"ane\": \"no\", \"class\": \"ckd\"}, {\"age\": 60.0, \"bp\": 90.0, \"sg\": 1.01, \"al\": 3.0, \"su\": 5.0, \"rbc\": \"abnormal\", \"pc\": \"normal\", \"pcc\": \"notpresent\", \"ba\": \"present\", \"bgr\": 490.0, \"bu\": 95.0, \"sc\": 2.7, \"sod\": 131.0, \"pot\": 3.8, \"hemo\": 11.5, \"pcv\": 35.0, \"wbcc\": 12000.0, \"rbcc\": 4.5, \"htn\": \"yes\", \"dm\": \"yes\", \"cad\": \"no\", \"appet\": \"good\", \"pe\": \"no\", \"ane\": \"no\", \"class\": \"ckd\"}, {\"age\": 64.0, \"bp\": 100.0, \"sg\": 1.015, \"al\": 4.0, \"su\": 2.0, \"rbc\": \"abnormal\", \"pc\": \"abnormal\", \"pcc\": \"notpresent\", \"ba\": \"present\", \"bgr\": 163.0, \"bu\": 54.0, \"sc\": 7.2, \"sod\": 140.0, \"pot\": 4.6, \"hemo\": 7.9, \"pcv\": 26.0, \"wbcc\": 7500.0, \"rbcc\": 3.4, \"htn\": \"yes\", \"dm\": \"yes\", \"cad\": \"no\", \"appet\": \"good\", \"pe\": \"yes\", \"ane\": \"no\", \"class\": \"ckd\"}, {\"age\": 59.0, \"bp\": 50.0, \"sg\": 1.01, \"al\": 3.0, \"su\": 0.0, \"rbc\": \"normal\", \"pc\": \"abnormal\", \"pcc\": \"notpresent\", \"ba\": \"notpresent\", \"bgr\": 241.0, \"bu\": 191.0, \"sc\": 12.0, \"sod\": 114.0, \"pot\": 2.9, \"hemo\": 9.6, \"pcv\": 31.0, \"wbcc\": 15700.0, \"rbcc\": 3.8, \"htn\": \"no\", \"dm\": \"yes\", \"cad\": \"no\", \"appet\": \"good\", \"pe\": \"yes\", \"ane\": \"no\", \"class\": \"ckd\"}, {\"age\": 65.0, \"bp\": 60.0, \"sg\": 1.01, \"al\": 2.0, \"su\": 0.0, \"rbc\": \"normal\", \"pc\": \"abnormal\", \"pcc\": \"present\", \"ba\": \"notpresent\", \"bgr\": 192.0, \"bu\": 17.0, \"sc\": 1.7, \"sod\": 130.0, \"pot\": 4.3, \"hemo\": 13.85, \"pcv\": 42.0, \"wbcc\": 9500.0, \"rbcc\": 4.9, \"htn\": \"yes\", \"dm\": \"yes\", \"cad\": \"no\", \"appet\": \"poor\", \"pe\": \"no\", \"ane\": \"no\", \"class\": \"ckd\"}, {\"age\": 50.0, \"bp\": 90.0, \"sg\": 1.015, \"al\": 1.0, \"su\": 0.0, \"rbc\": \"abnormal\", \"pc\": \"abnormal\", \"pcc\": \"notpresent\", \"ba\": \"notpresent\", \"bgr\": 119.0, \"bu\": 40.0, \"sc\": 1.15, \"sod\": 139.0, \"pot\": 4.5, \"hemo\": 13.85, \"pcv\": 42.0, \"wbcc\": 7900.0, \"rbcc\": 4.9, \"htn\": \"no\", \"dm\": \"no\", \"cad\": \"no\", \"appet\": \"good\", \"pe\": \"yes\", \"ane\": \"no\", \"class\": \"ckd\"}, {\"age\": 51.0, \"bp\": 100.0, \"sg\": 1.015, \"al\": 2.0, \"su\": 0.0, \"rbc\": \"normal\", \"pc\": \"normal\", \"pcc\": \"notpresent\", \"ba\": \"present\", \"bgr\": 93.0, \"bu\": 20.0, \"sc\": 1.6, \"sod\": 146.0, \"pot\": 4.5, \"hemo\": 13.85, \"pcv\": 42.0, \"wbcc\": 7900.0, \"rbcc\": 4.9, \"htn\": \"no\", \"dm\": \"no\", \"cad\": \"no\", \"appet\": \"poor\", \"pe\": \"no\", \"ane\": \"no\", \"class\": \"ckd\"}, {\"age\": 37.0, \"bp\": 100.0, \"sg\": 1.01, \"al\": 0.0, \"su\": 0.0, \"rbc\": \"abnormal\", \"pc\": \"normal\", \"pcc\": \"notpresent\", \"ba\": \"notpresent\", \"bgr\": 119.0, \"bu\": 19.0, \"sc\": 1.3, \"sod\": 139.0, \"pot\": 4.5, \"hemo\": 15.0, \"pcv\": 44.0, \"wbcc\": 4100.0, \"rbcc\": 5.2, \"htn\": \"yes\", \"dm\": \"no\", \"cad\": \"no\", \"appet\": \"good\", \"pe\": \"no\", \"ane\": \"no\", \"class\": \"ckd\"}, {\"age\": 34.0, \"bp\": 90.0, \"sg\": 1.015, \"al\": 2.0, \"su\": 0.0, \"rbc\": \"normal\", \"pc\": \"normal\", \"pcc\": \"notpresent\", \"ba\": \"notpresent\", \"bgr\": 104.0, \"bu\": 50.0, \"sc\": 1.6, \"sod\": 137.0, \"pot\": 4.1, \"hemo\": 11.9, \"pcv\": 39.0, \"wbcc\": 7900.0, \"rbcc\": 4.9, \"htn\": \"no\", \"dm\": \"no\", \"cad\": \"no\", \"appet\": \"good\", \"pe\": \"no\", \"ane\": \"no\", \"class\": \"ckd\"}, {\"age\": 69.0, \"bp\": 70.0, \"sg\": 1.01, \"al\": 4.0, \"su\": 3.0, \"rbc\": \"normal\", \"pc\": \"abnormal\", \"pcc\": \"present\", \"ba\": \"present\", \"bgr\": 214.0, \"bu\": 96.0, \"sc\": 6.3, \"sod\": 120.0, \"pot\": 3.9, \"hemo\": 9.4, \"pcv\": 28.0, \"wbcc\": 11500.0, \"rbcc\": 3.3, \"htn\": \"yes\", \"dm\": \"yes\", \"cad\": \"yes\", \"appet\": \"good\", \"pe\": \"yes\", \"ane\": \"yes\", \"class\": \"ckd\"}, {\"age\": 48.0, \"bp\": 110.0, \"sg\": 1.015, \"al\": 3.0, \"su\": 0.0, \"rbc\": \"abnormal\", \"pc\": \"normal\", \"pcc\": \"present\", \"ba\": \"notpresent\", \"bgr\": 106.0, \"bu\": 215.0, \"sc\": 15.2, \"sod\": 120.0, \"pot\": 5.7, \"hemo\": 8.6, \"pcv\": 26.0, \"wbcc\": 5000.0, \"rbcc\": 2.5, \"htn\": \"yes\", \"dm\": \"no\", \"cad\": \"yes\", \"appet\": \"good\", \"pe\": \"no\", \"ane\": \"yes\", \"class\": \"ckd\"}, {\"age\": 54.0, \"bp\": 90.0, \"sg\": 1.025, \"al\": 1.0, \"su\": 0.0, \"rbc\": \"normal\", \"pc\": \"abnormal\", \"pcc\": \"notpresent\", \"ba\": \"notpresent\", \"bgr\": 150.0, \"bu\": 18.0, \"sc\": 1.2, \"sod\": 140.0, \"pot\": 4.2, \"hemo\": 13.85, \"pcv\": 42.0, \"wbcc\": 7900.0, \"rbcc\": 4.9, \"htn\": \"no\", \"dm\": \"no\", \"cad\": \"no\", \"appet\": \"poor\", \"pe\": \"yes\", \"ane\": \"yes\", \"class\": \"ckd\"}, {\"age\": 59.0, \"bp\": 70.0, \"sg\": 1.01, \"al\": 1.0, \"su\": 3.0, \"rbc\": \"abnormal\", \"pc\": \"abnormal\", \"pcc\": \"notpresent\", \"ba\": \"notpresent\", \"bgr\": 424.0, \"bu\": 55.0, \"sc\": 1.7, \"sod\": 138.0, \"pot\": 4.5, \"hemo\": 12.6, \"pcv\": 37.0, \"wbcc\": 10200.0, \"rbcc\": 4.1, \"htn\": \"yes\", \"dm\": \"yes\", \"cad\": \"yes\", \"appet\": \"good\", \"pe\": \"no\", \"ane\": \"no\", \"class\": \"ckd\"}, {\"age\": 56.0, \"bp\": 90.0, \"sg\": 1.01, \"al\": 4.0, \"su\": 1.0, \"rbc\": \"normal\", \"pc\": \"abnormal\", \"pcc\": \"present\", \"ba\": \"notpresent\", \"bgr\": 176.0, \"bu\": 309.0, \"sc\": 13.3, \"sod\": 124.0, \"pot\": 6.5, \"hemo\": 3.1, \"pcv\": 9.0, \"wbcc\": 5400.0, \"rbcc\": 2.1, \"htn\": \"yes\", \"dm\": \"yes\", \"cad\": \"no\", \"appet\": \"poor\", \"pe\": \"yes\", \"ane\": \"yes\", \"class\": \"ckd\"}, {\"age\": 40.0, \"bp\": 80.0, \"sg\": 1.025, \"al\": 0.0, \"su\": 0.0, \"rbc\": \"normal\", \"pc\": \"normal\", \"pcc\": \"notpresent\", \"ba\": \"notpresent\", \"bgr\": 140.0, \"bu\": 10.0, \"sc\": 1.2, \"sod\": 135.0, \"pot\": 5.0, \"hemo\": 15.0, \"pcv\": 48.0, \"wbcc\": 10400.0, \"rbcc\": 4.5, \"htn\": \"no\", \"dm\": \"no\", \"cad\": \"no\", \"appet\": \"good\", \"pe\": \"no\", \"ane\": \"no\", \"class\": \"notckd\"}, {\"age\": 23.0, \"bp\": 80.0, \"sg\": 1.025, \"al\": 0.0, \"su\": 0.0, \"rbc\": \"normal\", \"pc\": \"normal\", \"pcc\": \"notpresent\", \"ba\": \"notpresent\", \"bgr\": 70.0, \"bu\": 36.0, \"sc\": 1.0, \"sod\": 150.0, \"pot\": 4.6, \"hemo\": 17.0, \"pcv\": 52.0, \"wbcc\": 9800.0, \"rbcc\": 5.0, \"htn\": \"no\", \"dm\": \"no\", \"cad\": \"no\", \"appet\": \"good\", \"pe\": \"no\", \"ane\": \"no\", \"class\": \"notckd\"}, {\"age\": 45.0, \"bp\": 80.0, \"sg\": 1.025, \"al\": 0.0, \"su\": 0.0, \"rbc\": \"normal\", \"pc\": \"normal\", \"pcc\": \"notpresent\", \"ba\": \"notpresent\", \"bgr\": 82.0, \"bu\": 49.0, \"sc\": 0.6, \"sod\": 147.0, \"pot\": 4.4, \"hemo\": 15.9, \"pcv\": 46.0, \"wbcc\": 9100.0, \"rbcc\": 4.7, \"htn\": \"no\", \"dm\": \"no\", \"cad\": \"no\", \"appet\": \"good\", \"pe\": \"no\", \"ane\": \"no\", \"class\": \"notckd\"}, {\"age\": 57.0, \"bp\": 80.0, \"sg\": 1.025, \"al\": 0.0, \"su\": 0.0, \"rbc\": \"normal\", \"pc\": \"normal\", \"pcc\": \"notpresent\", \"ba\": \"notpresent\", \"bgr\": 119.0, \"bu\": 17.0, \"sc\": 1.2, \"sod\": 135.0, \"pot\": 4.7, \"hemo\": 15.4, \"pcv\": 42.0, \"wbcc\": 6200.0, \"rbcc\": 6.2, \"htn\": \"no\", \"dm\": \"no\", \"cad\": \"no\", \"appet\": \"good\", \"pe\": \"no\", \"ane\": \"no\", \"class\": \"notckd\"}, {\"age\": 51.0, \"bp\": 60.0, \"sg\": 1.025, \"al\": 0.0, \"su\": 0.0, \"rbc\": \"normal\", \"pc\": \"normal\", \"pcc\": \"notpresent\", \"ba\": \"notpresent\", \"bgr\": 99.0, \"bu\": 38.0, \"sc\": 0.8, \"sod\": 135.0, \"pot\": 3.7, \"hemo\": 13.0, \"pcv\": 49.0, \"wbcc\": 8300.0, \"rbcc\": 5.2, \"htn\": \"no\", \"dm\": \"no\", \"cad\": \"no\", \"appet\": \"good\", \"pe\": \"no\", \"ane\": \"no\", \"class\": \"notckd\"}, {\"age\": 34.0, \"bp\": 80.0, \"sg\": 1.025, \"al\": 0.0, \"su\": 0.0, \"rbc\": \"normal\", \"pc\": \"normal\", \"pcc\": \"notpresent\", \"ba\": \"notpresent\", \"bgr\": 121.0, \"bu\": 27.0, \"sc\": 1.2, \"sod\": 144.0, \"pot\": 3.9, \"hemo\": 13.6, \"pcv\": 52.0, \"wbcc\": 9200.0, \"rbcc\": 6.3, \"htn\": \"no\", \"dm\": \"no\", \"cad\": \"no\", \"appet\": \"good\", \"pe\": \"no\", \"ane\": \"no\", \"class\": \"notckd\"}, {\"age\": 60.0, \"bp\": 80.0, \"sg\": 1.025, \"al\": 0.0, \"su\": 0.0, \"rbc\": \"normal\", \"pc\": \"normal\", \"pcc\": \"notpresent\", \"ba\": \"notpresent\", \"bgr\": 131.0, \"bu\": 10.0, \"sc\": 0.5, \"sod\": 146.0, \"pot\": 5.0, \"hemo\": 14.5, \"pcv\": 41.0, \"wbcc\": 10700.0, \"rbcc\": 5.1, \"htn\": \"no\", \"dm\": \"no\", \"cad\": \"no\", \"appet\": \"good\", \"pe\": \"no\", \"ane\": \"no\", \"class\": \"notckd\"}, {\"age\": 38.0, \"bp\": 60.0, \"sg\": 1.02, \"al\": 0.0, \"su\": 0.0, \"rbc\": \"normal\", \"pc\": \"normal\", \"pcc\": \"notpresent\", \"ba\": \"notpresent\", \"bgr\": 91.0, \"bu\": 36.0, \"sc\": 0.7, \"sod\": 135.0, \"pot\": 3.7, \"hemo\": 14.0, \"pcv\": 46.0, \"wbcc\": 9100.0, \"rbcc\": 5.8, \"htn\": \"no\", \"dm\": \"no\", \"cad\": \"no\", \"appet\": \"good\", \"pe\": \"no\", \"ane\": \"no\", \"class\": \"notckd\"}, {\"age\": 42.0, \"bp\": 80.0, \"sg\": 1.02, \"al\": 0.0, \"su\": 0.0, \"rbc\": \"normal\", \"pc\": \"normal\", \"pcc\": \"notpresent\", \"ba\": \"notpresent\", \"bgr\": 98.0, \"bu\": 20.0, \"sc\": 0.5, \"sod\": 140.0, \"pot\": 3.5, \"hemo\": 13.9, \"pcv\": 44.0, \"wbcc\": 8400.0, \"rbcc\": 5.5, \"htn\": \"no\", \"dm\": \"no\", \"cad\": \"no\", \"appet\": \"good\", \"pe\": \"no\", \"ane\": \"no\", \"class\": \"notckd\"}, {\"age\": 35.0, \"bp\": 80.0, \"sg\": 1.02, \"al\": 0.0, \"su\": 0.0, \"rbc\": \"normal\", \"pc\": \"normal\", \"pcc\": \"notpresent\", \"ba\": \"notpresent\", \"bgr\": 104.0, \"bu\": 31.0, \"sc\": 1.2, \"sod\": 135.0, \"pot\": 5.0, \"hemo\": 16.1, \"pcv\": 45.0, \"wbcc\": 4300.0, \"rbcc\": 5.2, \"htn\": \"no\", \"dm\": \"no\", \"cad\": \"no\", \"appet\": \"good\", \"pe\": \"no\", \"ane\": \"no\", \"class\": \"notckd\"}, {\"age\": 30.0, \"bp\": 80.0, \"sg\": 1.02, \"al\": 0.0, \"su\": 0.0, \"rbc\": \"normal\", \"pc\": \"normal\", \"pcc\": \"notpresent\", \"ba\": \"notpresent\", \"bgr\": 131.0, \"bu\": 38.0, \"sc\": 1.0, \"sod\": 147.0, \"pot\": 3.8, \"hemo\": 14.1, \"pcv\": 45.0, \"wbcc\": 9400.0, \"rbcc\": 5.3, \"htn\": \"no\", \"dm\": \"no\", \"cad\": \"no\", \"appet\": \"good\", \"pe\": \"no\", \"ane\": \"no\", \"class\": \"notckd\"}, {\"age\": 49.0, \"bp\": 80.0, \"sg\": 1.02, \"al\": 0.0, \"su\": 0.0, \"rbc\": \"normal\", \"pc\": \"normal\", \"pcc\": \"notpresent\", \"ba\": \"notpresent\", \"bgr\": 122.0, \"bu\": 32.0, \"sc\": 1.2, \"sod\": 139.0, \"pot\": 3.9, \"hemo\": 17.0, \"pcv\": 41.0, \"wbcc\": 5600.0, \"rbcc\": 4.9, \"htn\": \"no\", \"dm\": \"no\", \"cad\": \"no\", \"appet\": \"good\", \"pe\": \"no\", \"ane\": \"no\", \"class\": \"notckd\"}, {\"age\": 55.0, \"bp\": 80.0, \"sg\": 1.02, \"al\": 0.0, \"su\": 0.0, \"rbc\": \"normal\", \"pc\": \"normal\", \"pcc\": \"notpresent\", \"ba\": \"notpresent\", \"bgr\": 118.0, \"bu\": 18.0, \"sc\": 0.9, \"sod\": 135.0, \"pot\": 3.6, \"hemo\": 15.5, \"pcv\": 43.0, \"wbcc\": 7200.0, \"rbcc\": 5.4, \"htn\": \"no\", \"dm\": \"no\", \"cad\": \"no\", \"appet\": \"good\", \"pe\": \"no\", \"ane\": \"no\", \"class\": \"notckd\"}, {\"age\": 45.0, \"bp\": 80.0, \"sg\": 1.02, \"al\": 0.0, \"su\": 0.0, \"rbc\": \"normal\", \"pc\": \"normal\", \"pcc\": \"notpresent\", \"ba\": \"notpresent\", \"bgr\": 117.0, \"bu\": 46.0, \"sc\": 1.2, \"sod\": 137.0, \"pot\": 5.0, \"hemo\": 16.2, \"pcv\": 45.0, \"wbcc\": 8600.0, \"rbcc\": 5.2, \"htn\": \"no\", \"dm\": \"no\", \"cad\": \"no\", \"appet\": \"good\", \"pe\": \"no\", \"ane\": \"no\", \"class\": \"notckd\"}, {\"age\": 42.0, \"bp\": 80.0, \"sg\": 1.02, \"al\": 0.0, \"su\": 0.0, \"rbc\": \"normal\", \"pc\": \"normal\", \"pcc\": \"notpresent\", \"ba\": \"notpresent\", \"bgr\": 132.0, \"bu\": 24.0, \"sc\": 0.7, \"sod\": 140.0, \"pot\": 4.1, \"hemo\": 14.4, \"pcv\": 50.0, \"wbcc\": 5000.0, \"rbcc\": 4.5, \"htn\": \"no\", \"dm\": \"no\", \"cad\": \"no\", \"appet\": \"good\", \"pe\": \"no\", \"ane\": \"no\", \"class\": \"notckd\"}, {\"age\": 50.0, \"bp\": 80.0, \"sg\": 1.02, \"al\": 0.0, \"su\": 0.0, \"rbc\": \"normal\", \"pc\": \"normal\", \"pcc\": \"notpresent\", \"ba\": \"notpresent\", \"bgr\": 97.0, \"bu\": 40.0, \"sc\": 0.6, \"sod\": 150.0, \"pot\": 4.5, \"hemo\": 14.2, \"pcv\": 48.0, \"wbcc\": 10500.0, \"rbcc\": 5.0, \"htn\": \"no\", \"dm\": \"no\", \"cad\": \"no\", \"appet\": \"good\", \"pe\": \"no\", \"ane\": \"no\", \"class\": \"notckd\"}, {\"age\": 55.0, \"bp\": 80.0, \"sg\": 1.02, \"al\": 0.0, \"su\": 0.0, \"rbc\": \"normal\", \"pc\": \"normal\", \"pcc\": \"notpresent\", \"ba\": \"notpresent\", \"bgr\": 133.0, \"bu\": 17.0, \"sc\": 1.2, \"sod\": 135.0, \"pot\": 4.8, \"hemo\": 13.2, \"pcv\": 41.0, \"wbcc\": 6800.0, \"rbcc\": 5.3, \"htn\": \"no\", \"dm\": \"no\", \"cad\": \"no\", \"appet\": \"good\", \"pe\": \"no\", \"ane\": \"no\", \"class\": \"notckd\"}, {\"age\": 48.0, \"bp\": 80.0, \"sg\": 1.025, \"al\": 0.0, \"su\": 0.0, \"rbc\": \"normal\", \"pc\": \"normal\", \"pcc\": \"notpresent\", \"ba\": \"notpresent\", \"bgr\": 122.0, \"bu\": 33.0, \"sc\": 0.9, \"sod\": 146.0, \"pot\": 3.9, \"hemo\": 13.9, \"pcv\": 48.0, \"wbcc\": 9500.0, \"rbcc\": 4.8, \"htn\": \"no\", \"dm\": \"no\", \"cad\": \"no\", \"appet\": \"good\", \"pe\": \"no\", \"ane\": \"no\", \"class\": \"notckd\"}, {\"age\": 25.0, \"bp\": 80.0, \"sg\": 1.025, \"al\": 0.0, \"su\": 0.0, \"rbc\": \"normal\", \"pc\": \"normal\", \"pcc\": \"notpresent\", \"ba\": \"notpresent\", \"bgr\": 121.0, \"bu\": 19.0, \"sc\": 1.2, \"sod\": 142.0, \"pot\": 4.9, \"hemo\": 15.0, \"pcv\": 48.0, \"wbcc\": 6900.0, \"rbcc\": 5.3, \"htn\": \"no\", \"dm\": \"no\", \"cad\": \"no\", \"appet\": \"good\", \"pe\": \"no\", \"ane\": \"no\", \"class\": \"notckd\"}, {\"age\": 23.0, \"bp\": 80.0, \"sg\": 1.025, \"al\": 0.0, \"su\": 0.0, \"rbc\": \"normal\", \"pc\": \"normal\", \"pcc\": \"notpresent\", \"ba\": \"notpresent\", \"bgr\": 111.0, \"bu\": 34.0, \"sc\": 1.1, \"sod\": 145.0, \"pot\": 4.0, \"hemo\": 14.3, \"pcv\": 41.0, \"wbcc\": 7200.0, \"rbcc\": 5.0, \"htn\": \"no\", \"dm\": \"no\", \"cad\": \"no\", \"appet\": \"good\", \"pe\": \"no\", \"ane\": \"no\", \"class\": \"notckd\"}, {\"age\": 30.0, \"bp\": 80.0, \"sg\": 1.025, \"al\": 0.0, \"su\": 0.0, \"rbc\": \"normal\", \"pc\": \"normal\", \"pcc\": \"notpresent\", \"ba\": \"notpresent\", \"bgr\": 96.0, \"bu\": 25.0, \"sc\": 0.5, \"sod\": 144.0, \"pot\": 4.8, \"hemo\": 13.8, \"pcv\": 42.0, \"wbcc\": 9000.0, \"rbcc\": 4.5, \"htn\": \"no\", \"dm\": \"no\", \"cad\": \"no\", \"appet\": \"good\", \"pe\": \"no\", \"ane\": \"no\", \"class\": \"notckd\"}, {\"age\": 56.0, \"bp\": 80.0, \"sg\": 1.025, \"al\": 0.0, \"su\": 0.0, \"rbc\": \"normal\", \"pc\": \"normal\", \"pcc\": \"notpresent\", \"ba\": \"notpresent\", \"bgr\": 139.0, \"bu\": 15.0, \"sc\": 1.2, \"sod\": 135.0, \"pot\": 5.0, \"hemo\": 14.8, \"pcv\": 42.0, \"wbcc\": 5600.0, \"rbcc\": 5.5, \"htn\": \"no\", \"dm\": \"no\", \"cad\": \"no\", \"appet\": \"good\", \"pe\": \"no\", \"ane\": \"no\", \"class\": \"notckd\"}, {\"age\": 47.0, \"bp\": 80.0, \"sg\": 1.02, \"al\": 0.0, \"su\": 0.0, \"rbc\": \"normal\", \"pc\": \"normal\", \"pcc\": \"notpresent\", \"ba\": \"notpresent\", \"bgr\": 95.0, \"bu\": 35.0, \"sc\": 0.9, \"sod\": 140.0, \"pot\": 4.1, \"hemo\": 13.85, \"pcv\": 42.0, \"wbcc\": 7900.0, \"rbcc\": 4.9, \"htn\": \"no\", \"dm\": \"no\", \"cad\": \"no\", \"appet\": \"good\", \"pe\": \"no\", \"ane\": \"no\", \"class\": \"notckd\"}, {\"age\": 19.0, \"bp\": 80.0, \"sg\": 1.02, \"al\": 0.0, \"su\": 0.0, \"rbc\": \"normal\", \"pc\": \"normal\", \"pcc\": \"notpresent\", \"ba\": \"notpresent\", \"bgr\": 107.0, \"bu\": 23.0, \"sc\": 0.7, \"sod\": 141.0, \"pot\": 4.2, \"hemo\": 14.4, \"pcv\": 44.0, \"wbcc\": 7900.0, \"rbcc\": 4.9, \"htn\": \"no\", \"dm\": \"no\", \"cad\": \"no\", \"appet\": \"good\", \"pe\": \"no\", \"ane\": \"no\", \"class\": \"notckd\"}, {\"age\": 52.0, \"bp\": 80.0, \"sg\": 1.02, \"al\": 0.0, \"su\": 0.0, \"rbc\": \"normal\", \"pc\": \"normal\", \"pcc\": \"notpresent\", \"ba\": \"notpresent\", \"bgr\": 125.0, \"bu\": 22.0, \"sc\": 1.2, \"sod\": 139.0, \"pot\": 4.6, \"hemo\": 16.5, \"pcv\": 43.0, \"wbcc\": 4700.0, \"rbcc\": 4.6, \"htn\": \"no\", \"dm\": \"no\", \"cad\": \"no\", \"appet\": \"good\", \"pe\": \"no\", \"ane\": \"no\", \"class\": \"notckd\"}, {\"age\": 20.0, \"bp\": 60.0, \"sg\": 1.025, \"al\": 0.0, \"su\": 0.0, \"rbc\": \"normal\", \"pc\": \"normal\", \"pcc\": \"notpresent\", \"ba\": \"notpresent\", \"bgr\": 119.0, \"bu\": 40.0, \"sc\": 1.15, \"sod\": 137.0, \"pot\": 4.7, \"hemo\": 14.0, \"pcv\": 41.0, \"wbcc\": 4500.0, \"rbcc\": 5.5, \"htn\": \"no\", \"dm\": \"no\", \"cad\": \"no\", \"appet\": \"good\", \"pe\": \"no\", \"ane\": \"no\", \"class\": \"notckd\"}, {\"age\": 46.0, \"bp\": 60.0, \"sg\": 1.025, \"al\": 0.0, \"su\": 0.0, \"rbc\": \"normal\", \"pc\": \"normal\", \"pcc\": \"notpresent\", \"ba\": \"notpresent\", \"bgr\": 123.0, \"bu\": 46.0, \"sc\": 1.0, \"sod\": 135.0, \"pot\": 5.0, \"hemo\": 15.7, \"pcv\": 50.0, \"wbcc\": 6300.0, \"rbcc\": 4.8, \"htn\": \"no\", \"dm\": \"no\", \"cad\": \"no\", \"appet\": \"good\", \"pe\": \"no\", \"ane\": \"no\", \"class\": \"notckd\"}, {\"age\": 48.0, \"bp\": 60.0, \"sg\": 1.02, \"al\": 0.0, \"su\": 0.0, \"rbc\": \"normal\", \"pc\": \"normal\", \"pcc\": \"notpresent\", \"ba\": \"notpresent\", \"bgr\": 112.0, \"bu\": 44.0, \"sc\": 1.2, \"sod\": 142.0, \"pot\": 4.9, \"hemo\": 14.5, \"pcv\": 44.0, \"wbcc\": 9400.0, \"rbcc\": 6.4, \"htn\": \"no\", \"dm\": \"no\", \"cad\": \"no\", \"appet\": \"good\", \"pe\": \"no\", \"ane\": \"no\", \"class\": \"notckd\"}, {\"age\": 24.0, \"bp\": 70.0, \"sg\": 1.025, \"al\": 0.0, \"su\": 0.0, \"rbc\": \"normal\", \"pc\": \"normal\", \"pcc\": \"notpresent\", \"ba\": \"notpresent\", \"bgr\": 140.0, \"bu\": 23.0, \"sc\": 0.6, \"sod\": 140.0, \"pot\": 4.7, \"hemo\": 16.3, \"pcv\": 48.0, \"wbcc\": 5800.0, \"rbcc\": 5.6, \"htn\": \"no\", \"dm\": \"no\", \"cad\": \"no\", \"appet\": \"good\", \"pe\": \"no\", \"ane\": \"no\", \"class\": \"notckd\"}, {\"age\": 55.0, \"bp\": 80.0, \"sg\": 1.025, \"al\": 0.0, \"su\": 0.0, \"rbc\": \"normal\", \"pc\": \"normal\", \"pcc\": \"notpresent\", \"ba\": \"notpresent\", \"bgr\": 130.0, \"bu\": 50.0, \"sc\": 1.2, \"sod\": 147.0, \"pot\": 5.0, \"hemo\": 15.5, \"pcv\": 41.0, \"wbcc\": 9100.0, \"rbcc\": 6.0, \"htn\": \"no\", \"dm\": \"no\", \"cad\": \"no\", \"appet\": \"good\", \"pe\": \"no\", \"ane\": \"no\", \"class\": \"notckd\"}, {\"age\": 20.0, \"bp\": 70.0, \"sg\": 1.02, \"al\": 0.0, \"su\": 0.0, \"rbc\": \"normal\", \"pc\": \"normal\", \"pcc\": \"notpresent\", \"ba\": \"notpresent\", \"bgr\": 123.0, \"bu\": 44.0, \"sc\": 1.0, \"sod\": 135.0, \"pot\": 3.8, \"hemo\": 14.6, \"pcv\": 44.0, \"wbcc\": 5500.0, \"rbcc\": 4.8, \"htn\": \"no\", \"dm\": \"no\", \"cad\": \"no\", \"appet\": \"good\", \"pe\": \"no\", \"ane\": \"no\", \"class\": \"notckd\"}, {\"age\": 60.0, \"bp\": 70.0, \"sg\": 1.02, \"al\": 0.0, \"su\": 0.0, \"rbc\": \"normal\", \"pc\": \"normal\", \"pcc\": \"notpresent\", \"ba\": \"notpresent\", \"bgr\": 119.0, \"bu\": 40.0, \"sc\": 1.15, \"sod\": 139.0, \"pot\": 4.5, \"hemo\": 16.4, \"pcv\": 43.0, \"wbcc\": 10800.0, \"rbcc\": 5.7, \"htn\": \"no\", \"dm\": \"no\", \"cad\": \"no\", \"appet\": \"good\", \"pe\": \"no\", \"ane\": \"no\", \"class\": \"notckd\"}, {\"age\": 33.0, \"bp\": 80.0, \"sg\": 1.025, \"al\": 0.0, \"su\": 0.0, \"rbc\": \"normal\", \"pc\": \"normal\", \"pcc\": \"notpresent\", \"ba\": \"notpresent\", \"bgr\": 100.0, \"bu\": 37.0, \"sc\": 1.2, \"sod\": 142.0, \"pot\": 4.0, \"hemo\": 16.9, \"pcv\": 52.0, \"wbcc\": 6700.0, \"rbcc\": 6.0, \"htn\": \"no\", \"dm\": \"no\", \"cad\": \"no\", \"appet\": \"good\", \"pe\": \"no\", \"ane\": \"no\", \"class\": \"notckd\"}, {\"age\": 66.0, \"bp\": 70.0, \"sg\": 1.02, \"al\": 0.0, \"su\": 0.0, \"rbc\": \"normal\", \"pc\": \"normal\", \"pcc\": \"notpresent\", \"ba\": \"notpresent\", \"bgr\": 94.0, \"bu\": 19.0, \"sc\": 0.7, \"sod\": 135.0, \"pot\": 3.9, \"hemo\": 16.0, \"pcv\": 41.0, \"wbcc\": 5300.0, \"rbcc\": 5.9, \"htn\": \"no\", \"dm\": \"no\", \"cad\": \"no\", \"appet\": \"good\", \"pe\": \"no\", \"ane\": \"no\", \"class\": \"notckd\"}, {\"age\": 71.0, \"bp\": 70.0, \"sg\": 1.02, \"al\": 0.0, \"su\": 0.0, \"rbc\": \"normal\", \"pc\": \"normal\", \"pcc\": \"notpresent\", \"ba\": \"notpresent\", \"bgr\": 81.0, \"bu\": 18.0, \"sc\": 0.8, \"sod\": 145.0, \"pot\": 5.0, \"hemo\": 14.7, \"pcv\": 44.0, \"wbcc\": 9800.0, \"rbcc\": 6.0, \"htn\": \"no\", \"dm\": \"no\", \"cad\": \"no\", \"appet\": \"good\", \"pe\": \"no\", \"ane\": \"no\", \"class\": \"notckd\"}, {\"age\": 39.0, \"bp\": 70.0, \"sg\": 1.025, \"al\": 0.0, \"su\": 0.0, \"rbc\": \"normal\", \"pc\": \"normal\", \"pcc\": \"notpresent\", \"ba\": \"notpresent\", \"bgr\": 124.0, \"bu\": 22.0, \"sc\": 0.6, \"sod\": 137.0, \"pot\": 3.8, \"hemo\": 13.4, \"pcv\": 43.0, \"wbcc\": 7900.0, \"rbcc\": 4.9, \"htn\": \"no\", \"dm\": \"no\", \"cad\": \"no\", \"appet\": \"good\", \"pe\": \"no\", \"ane\": \"no\", \"class\": \"notckd\"}, {\"age\": 56.0, \"bp\": 70.0, \"sg\": 1.025, \"al\": 0.0, \"su\": 0.0, \"rbc\": \"normal\", \"pc\": \"normal\", \"pcc\": \"notpresent\", \"ba\": \"notpresent\", \"bgr\": 70.0, \"bu\": 46.0, \"sc\": 1.2, \"sod\": 135.0, \"pot\": 4.9, \"hemo\": 15.9, \"pcv\": 50.0, \"wbcc\": 11000.0, \"rbcc\": 5.1, \"htn\": \"no\", \"dm\": \"no\", \"cad\": \"no\", \"appet\": \"good\", \"pe\": \"no\", \"ane\": \"no\", \"class\": \"notckd\"}, {\"age\": 42.0, \"bp\": 70.0, \"sg\": 1.02, \"al\": 0.0, \"su\": 0.0, \"rbc\": \"normal\", \"pc\": \"normal\", \"pcc\": \"notpresent\", \"ba\": \"notpresent\", \"bgr\": 93.0, \"bu\": 32.0, \"sc\": 0.9, \"sod\": 143.0, \"pot\": 4.7, \"hemo\": 16.6, \"pcv\": 43.0, \"wbcc\": 7100.0, \"rbcc\": 5.3, \"htn\": \"no\", \"dm\": \"no\", \"cad\": \"no\", \"appet\": \"good\", \"pe\": \"no\", \"ane\": \"no\", \"class\": \"notckd\"}, {\"age\": 47.0, \"bp\": 80.0, \"sg\": 1.025, \"al\": 0.0, \"su\": 0.0, \"rbc\": \"normal\", \"pc\": \"normal\", \"pcc\": \"notpresent\", \"ba\": \"notpresent\", \"bgr\": 124.0, \"bu\": 44.0, \"sc\": 1.0, \"sod\": 140.0, \"pot\": 4.9, \"hemo\": 14.9, \"pcv\": 41.0, \"wbcc\": 7000.0, \"rbcc\": 5.7, \"htn\": \"no\", \"dm\": \"no\", \"cad\": \"no\", \"appet\": \"good\", \"pe\": \"no\", \"ane\": \"no\", \"class\": \"notckd\"}, {\"age\": 30.0, \"bp\": 80.0, \"sg\": 1.02, \"al\": 0.0, \"su\": 0.0, \"rbc\": \"normal\", \"pc\": \"normal\", \"pcc\": \"notpresent\", \"ba\": \"notpresent\", \"bgr\": 89.0, \"bu\": 42.0, \"sc\": 0.5, \"sod\": 139.0, \"pot\": 5.0, \"hemo\": 16.7, \"pcv\": 52.0, \"wbcc\": 10200.0, \"rbcc\": 5.0, \"htn\": \"no\", \"dm\": \"no\", \"cad\": \"no\", \"appet\": \"good\", \"pe\": \"no\", \"ane\": \"no\", \"class\": \"notckd\"}, {\"age\": 50.0, \"bp\": 80.0, \"sg\": 1.02, \"al\": 0.0, \"su\": 0.0, \"rbc\": \"normal\", \"pc\": \"normal\", \"pcc\": \"notpresent\", \"ba\": \"notpresent\", \"bgr\": 92.0, \"bu\": 19.0, \"sc\": 1.2, \"sod\": 150.0, \"pot\": 4.8, \"hemo\": 14.9, \"pcv\": 48.0, \"wbcc\": 4700.0, \"rbcc\": 5.4, \"htn\": \"no\", \"dm\": \"no\", \"cad\": \"no\", \"appet\": \"good\", \"pe\": \"no\", \"ane\": \"no\", \"class\": \"notckd\"}, {\"age\": 75.0, \"bp\": 60.0, \"sg\": 1.02, \"al\": 0.0, \"su\": 0.0, \"rbc\": \"normal\", \"pc\": \"normal\", \"pcc\": \"notpresent\", \"ba\": \"notpresent\", \"bgr\": 110.0, \"bu\": 50.0, \"sc\": 0.7, \"sod\": 135.0, \"pot\": 5.0, \"hemo\": 14.3, \"pcv\": 40.0, \"wbcc\": 8300.0, \"rbcc\": 5.8, \"htn\": \"no\", \"dm\": \"no\", \"cad\": \"no\", \"appet\": \"good\", \"pe\": \"no\", \"ane\": \"no\", \"class\": \"notckd\"}, {\"age\": 41.0, \"bp\": 70.0, \"sg\": 1.02, \"al\": 0.0, \"su\": 0.0, \"rbc\": \"normal\", \"pc\": \"normal\", \"pcc\": \"notpresent\", \"ba\": \"notpresent\", \"bgr\": 125.0, \"bu\": 38.0, \"sc\": 0.6, \"sod\": 140.0, \"pot\": 5.0, \"hemo\": 16.8, \"pcv\": 41.0, \"wbcc\": 6300.0, \"rbcc\": 5.9, \"htn\": \"no\", \"dm\": \"no\", \"cad\": \"no\", \"appet\": \"good\", \"pe\": \"no\", \"ane\": \"no\", \"class\": \"notckd\"}, {\"age\": 53.0, \"bp\": 60.0, \"sg\": 1.025, \"al\": 0.0, \"su\": 0.0, \"rbc\": \"normal\", \"pc\": \"normal\", \"pcc\": \"notpresent\", \"ba\": \"notpresent\", \"bgr\": 116.0, \"bu\": 26.0, \"sc\": 1.0, \"sod\": 146.0, \"pot\": 4.9, \"hemo\": 15.8, \"pcv\": 45.0, \"wbcc\": 7700.0, \"rbcc\": 5.2, \"htn\": \"no\", \"dm\": \"no\", \"cad\": \"no\", \"appet\": \"good\", \"pe\": \"no\", \"ane\": \"no\", \"class\": \"notckd\"}, {\"age\": 34.0, \"bp\": 60.0, \"sg\": 1.02, \"al\": 0.0, \"su\": 0.0, \"rbc\": \"normal\", \"pc\": \"normal\", \"pcc\": \"notpresent\", \"ba\": \"notpresent\", \"bgr\": 91.0, \"bu\": 49.0, \"sc\": 1.2, \"sod\": 135.0, \"pot\": 4.5, \"hemo\": 13.5, \"pcv\": 48.0, \"wbcc\": 8600.0, \"rbcc\": 4.9, \"htn\": \"no\", \"dm\": \"no\", \"cad\": \"no\", \"appet\": \"good\", \"pe\": \"no\", \"ane\": \"no\", \"class\": \"notckd\"}, {\"age\": 73.0, \"bp\": 60.0, \"sg\": 1.02, \"al\": 0.0, \"su\": 0.0, \"rbc\": \"normal\", \"pc\": \"normal\", \"pcc\": \"notpresent\", \"ba\": \"notpresent\", \"bgr\": 127.0, \"bu\": 48.0, \"sc\": 0.5, \"sod\": 150.0, \"pot\": 3.5, \"hemo\": 15.1, \"pcv\": 52.0, \"wbcc\": 11000.0, \"rbcc\": 4.7, \"htn\": \"no\", \"dm\": \"no\", \"cad\": \"no\", \"appet\": \"good\", \"pe\": \"no\", \"ane\": \"no\", \"class\": \"notckd\"}, {\"age\": 45.0, \"bp\": 60.0, \"sg\": 1.02, \"al\": 0.0, \"su\": 0.0, \"rbc\": \"normal\", \"pc\": \"normal\", \"pcc\": \"notpresent\", \"ba\": \"notpresent\", \"bgr\": 114.0, \"bu\": 26.0, \"sc\": 0.7, \"sod\": 141.0, \"pot\": 4.2, \"hemo\": 15.0, \"pcv\": 43.0, \"wbcc\": 9200.0, \"rbcc\": 5.8, \"htn\": \"no\", \"dm\": \"no\", \"cad\": \"no\", \"appet\": \"good\", \"pe\": \"no\", \"ane\": \"no\", \"class\": \"notckd\"}, {\"age\": 44.0, \"bp\": 60.0, \"sg\": 1.025, \"al\": 0.0, \"su\": 0.0, \"rbc\": \"normal\", \"pc\": \"normal\", \"pcc\": \"notpresent\", \"ba\": \"notpresent\", \"bgr\": 96.0, \"bu\": 33.0, \"sc\": 0.9, \"sod\": 147.0, \"pot\": 4.5, \"hemo\": 16.9, \"pcv\": 41.0, \"wbcc\": 7200.0, \"rbcc\": 5.0, \"htn\": \"no\", \"dm\": \"no\", \"cad\": \"no\", \"appet\": \"good\", \"pe\": \"no\", \"ane\": \"no\", \"class\": \"notckd\"}, {\"age\": 29.0, \"bp\": 70.0, \"sg\": 1.02, \"al\": 0.0, \"su\": 0.0, \"rbc\": \"normal\", \"pc\": \"normal\", \"pcc\": \"notpresent\", \"ba\": \"notpresent\", \"bgr\": 127.0, \"bu\": 44.0, \"sc\": 1.2, \"sod\": 145.0, \"pot\": 5.0, \"hemo\": 14.8, \"pcv\": 48.0, \"wbcc\": 7900.0, \"rbcc\": 4.9, \"htn\": \"no\", \"dm\": \"no\", \"cad\": \"no\", \"appet\": \"good\", \"pe\": \"no\", \"ane\": \"no\", \"class\": \"notckd\"}, {\"age\": 55.0, \"bp\": 70.0, \"sg\": 1.02, \"al\": 0.0, \"su\": 0.0, \"rbc\": \"normal\", \"pc\": \"normal\", \"pcc\": \"notpresent\", \"ba\": \"notpresent\", \"bgr\": 107.0, \"bu\": 26.0, \"sc\": 1.1, \"sod\": 139.0, \"pot\": 4.5, \"hemo\": 17.0, \"pcv\": 50.0, \"wbcc\": 6700.0, \"rbcc\": 6.1, \"htn\": \"no\", \"dm\": \"no\", \"cad\": \"no\", \"appet\": \"good\", \"pe\": \"no\", \"ane\": \"no\", \"class\": \"notckd\"}, {\"age\": 33.0, \"bp\": 80.0, \"sg\": 1.025, \"al\": 0.0, \"su\": 0.0, \"rbc\": \"normal\", \"pc\": \"normal\", \"pcc\": \"notpresent\", \"ba\": \"notpresent\", \"bgr\": 128.0, \"bu\": 38.0, \"sc\": 0.6, \"sod\": 135.0, \"pot\": 3.9, \"hemo\": 13.1, \"pcv\": 45.0, \"wbcc\": 6200.0, \"rbcc\": 4.5, \"htn\": \"no\", \"dm\": \"no\", \"cad\": \"no\", \"appet\": \"good\", \"pe\": \"no\", \"ane\": \"no\", \"class\": \"notckd\"}, {\"age\": 41.0, \"bp\": 80.0, \"sg\": 1.02, \"al\": 0.0, \"su\": 0.0, \"rbc\": \"normal\", \"pc\": \"normal\", \"pcc\": \"notpresent\", \"ba\": \"notpresent\", \"bgr\": 122.0, \"bu\": 25.0, \"sc\": 0.8, \"sod\": 138.0, \"pot\": 5.0, \"hemo\": 17.1, \"pcv\": 41.0, \"wbcc\": 9100.0, \"rbcc\": 5.2, \"htn\": \"no\", \"dm\": \"no\", \"cad\": \"no\", \"appet\": \"good\", \"pe\": \"no\", \"ane\": \"no\", \"class\": \"notckd\"}, {\"age\": 52.0, \"bp\": 80.0, \"sg\": 1.02, \"al\": 0.0, \"su\": 0.0, \"rbc\": \"normal\", \"pc\": \"normal\", \"pcc\": \"notpresent\", \"ba\": \"notpresent\", \"bgr\": 128.0, \"bu\": 30.0, \"sc\": 1.2, \"sod\": 140.0, \"pot\": 4.5, \"hemo\": 15.2, \"pcv\": 52.0, \"wbcc\": 4300.0, \"rbcc\": 5.7, \"htn\": \"no\", \"dm\": \"no\", \"cad\": \"no\", \"appet\": \"good\", \"pe\": \"no\", \"ane\": \"no\", \"class\": \"notckd\"}, {\"age\": 47.0, \"bp\": 60.0, \"sg\": 1.02, \"al\": 0.0, \"su\": 0.0, \"rbc\": \"normal\", \"pc\": \"normal\", \"pcc\": \"notpresent\", \"ba\": \"notpresent\", \"bgr\": 137.0, \"bu\": 17.0, \"sc\": 0.5, \"sod\": 150.0, \"pot\": 3.5, \"hemo\": 13.6, \"pcv\": 44.0, \"wbcc\": 7900.0, \"rbcc\": 4.5, \"htn\": \"no\", \"dm\": \"no\", \"cad\": \"no\", \"appet\": \"good\", \"pe\": \"no\", \"ane\": \"no\", \"class\": \"notckd\"}, {\"age\": 43.0, \"bp\": 80.0, \"sg\": 1.025, \"al\": 0.0, \"su\": 0.0, \"rbc\": \"normal\", \"pc\": \"normal\", \"pcc\": \"notpresent\", \"ba\": \"notpresent\", \"bgr\": 81.0, \"bu\": 46.0, \"sc\": 0.6, \"sod\": 135.0, \"pot\": 4.9, \"hemo\": 13.9, \"pcv\": 48.0, \"wbcc\": 6900.0, \"rbcc\": 4.9, \"htn\": \"no\", \"dm\": \"no\", \"cad\": \"no\", \"appet\": \"good\", \"pe\": \"no\", \"ane\": \"no\", \"class\": \"notckd\"}, {\"age\": 46.0, \"bp\": 60.0, \"sg\": 1.02, \"al\": 0.0, \"su\": 0.0, \"rbc\": \"normal\", \"pc\": \"normal\", \"pcc\": \"notpresent\", \"ba\": \"notpresent\", \"bgr\": 102.0, \"bu\": 27.0, \"sc\": 0.7, \"sod\": 142.0, \"pot\": 4.9, \"hemo\": 13.2, \"pcv\": 44.0, \"wbcc\": 11000.0, \"rbcc\": 5.4, \"htn\": \"no\", \"dm\": \"no\", \"cad\": \"no\", \"appet\": \"good\", \"pe\": \"no\", \"ane\": \"no\", \"class\": \"notckd\"}, {\"age\": 56.0, \"bp\": 60.0, \"sg\": 1.025, \"al\": 0.0, \"su\": 0.0, \"rbc\": \"normal\", \"pc\": \"normal\", \"pcc\": \"notpresent\", \"ba\": \"notpresent\", \"bgr\": 132.0, \"bu\": 18.0, \"sc\": 1.1, \"sod\": 147.0, \"pot\": 4.7, \"hemo\": 13.7, \"pcv\": 45.0, \"wbcc\": 7500.0, \"rbcc\": 5.6, \"htn\": \"no\", \"dm\": \"no\", \"cad\": \"no\", \"appet\": \"good\", \"pe\": \"no\", \"ane\": \"no\", \"class\": \"notckd\"}, {\"age\": 80.0, \"bp\": 70.0, \"sg\": 1.02, \"al\": 0.0, \"su\": 0.0, \"rbc\": \"normal\", \"pc\": \"normal\", \"pcc\": \"notpresent\", \"ba\": \"notpresent\", \"bgr\": 119.0, \"bu\": 40.0, \"sc\": 1.15, \"sod\": 135.0, \"pot\": 4.1, \"hemo\": 15.3, \"pcv\": 48.0, \"wbcc\": 6300.0, \"rbcc\": 6.1, \"htn\": \"no\", \"dm\": \"no\", \"cad\": \"no\", \"appet\": \"good\", \"pe\": \"no\", \"ane\": \"no\", \"class\": \"notckd\"}, {\"age\": 55.0, \"bp\": 80.0, \"sg\": 1.02, \"al\": 0.0, \"su\": 0.0, \"rbc\": \"normal\", \"pc\": \"normal\", \"pcc\": \"notpresent\", \"ba\": \"notpresent\", \"bgr\": 104.0, \"bu\": 28.0, \"sc\": 0.9, \"sod\": 142.0, \"pot\": 4.8, \"hemo\": 17.3, \"pcv\": 52.0, \"wbcc\": 8200.0, \"rbcc\": 4.8, \"htn\": \"no\", \"dm\": \"no\", \"cad\": \"no\", \"appet\": \"good\", \"pe\": \"no\", \"ane\": \"no\", \"class\": \"notckd\"}, {\"age\": 39.0, \"bp\": 70.0, \"sg\": 1.025, \"al\": 0.0, \"su\": 0.0, \"rbc\": \"normal\", \"pc\": \"normal\", \"pcc\": \"notpresent\", \"ba\": \"notpresent\", \"bgr\": 131.0, \"bu\": 46.0, \"sc\": 0.6, \"sod\": 145.0, \"pot\": 5.0, \"hemo\": 15.6, \"pcv\": 41.0, \"wbcc\": 9400.0, \"rbcc\": 4.7, \"htn\": \"no\", \"dm\": \"no\", \"cad\": \"no\", \"appet\": \"good\", \"pe\": \"no\", \"ane\": \"no\", \"class\": \"notckd\"}, {\"age\": 44.0, \"bp\": 70.0, \"sg\": 1.025, \"al\": 0.0, \"su\": 0.0, \"rbc\": \"normal\", \"pc\": \"normal\", \"pcc\": \"notpresent\", \"ba\": \"notpresent\", \"bgr\": 119.0, \"bu\": 40.0, \"sc\": 1.15, \"sod\": 139.0, \"pot\": 4.5, \"hemo\": 13.8, \"pcv\": 48.0, \"wbcc\": 7800.0, \"rbcc\": 4.4, \"htn\": \"no\", \"dm\": \"no\", \"cad\": \"no\", \"appet\": \"good\", \"pe\": \"no\", \"ane\": \"no\", \"class\": \"notckd\"}, {\"age\": 35.0, \"bp\": 80.0, \"sg\": 1.02, \"al\": 0.0, \"su\": 0.0, \"rbc\": \"normal\", \"pc\": \"normal\", \"pcc\": \"notpresent\", \"ba\": \"notpresent\", \"bgr\": 99.0, \"bu\": 30.0, \"sc\": 0.5, \"sod\": 135.0, \"pot\": 4.9, \"hemo\": 15.4, \"pcv\": 48.0, \"wbcc\": 5000.0, \"rbcc\": 5.2, \"htn\": \"no\", \"dm\": \"no\", \"cad\": \"no\", \"appet\": \"good\", \"pe\": \"no\", \"ane\": \"no\", \"class\": \"notckd\"}, {\"age\": 58.0, \"bp\": 70.0, \"sg\": 1.02, \"al\": 0.0, \"su\": 0.0, \"rbc\": \"normal\", \"pc\": \"normal\", \"pcc\": \"notpresent\", \"ba\": \"notpresent\", \"bgr\": 102.0, \"bu\": 48.0, \"sc\": 1.2, \"sod\": 139.0, \"pot\": 4.3, \"hemo\": 15.0, \"pcv\": 40.0, \"wbcc\": 8100.0, \"rbcc\": 4.9, \"htn\": \"no\", \"dm\": \"no\", \"cad\": \"no\", \"appet\": \"good\", \"pe\": \"no\", \"ane\": \"no\", \"class\": \"notckd\"}, {\"age\": 61.0, \"bp\": 70.0, \"sg\": 1.025, \"al\": 0.0, \"su\": 0.0, \"rbc\": \"normal\", \"pc\": \"normal\", \"pcc\": \"notpresent\", \"ba\": \"notpresent\", \"bgr\": 120.0, \"bu\": 29.0, \"sc\": 0.7, \"sod\": 137.0, \"pot\": 3.5, \"hemo\": 17.4, \"pcv\": 52.0, \"wbcc\": 7000.0, \"rbcc\": 5.3, \"htn\": \"no\", \"dm\": \"no\", \"cad\": \"no\", \"appet\": \"good\", \"pe\": \"no\", \"ane\": \"no\", \"class\": \"notckd\"}, {\"age\": 30.0, \"bp\": 60.0, \"sg\": 1.02, \"al\": 0.0, \"su\": 0.0, \"rbc\": \"normal\", \"pc\": \"normal\", \"pcc\": \"notpresent\", \"ba\": \"notpresent\", \"bgr\": 138.0, \"bu\": 15.0, \"sc\": 1.1, \"sod\": 135.0, \"pot\": 4.4, \"hemo\": 13.85, \"pcv\": 42.0, \"wbcc\": 7900.0, \"rbcc\": 4.9, \"htn\": \"no\", \"dm\": \"no\", \"cad\": \"no\", \"appet\": \"good\", \"pe\": \"no\", \"ane\": \"no\", \"class\": \"notckd\"}, {\"age\": 57.0, \"bp\": 60.0, \"sg\": 1.02, \"al\": 0.0, \"su\": 0.0, \"rbc\": \"normal\", \"pc\": \"normal\", \"pcc\": \"notpresent\", \"ba\": \"notpresent\", \"bgr\": 105.0, \"bu\": 49.0, \"sc\": 1.2, \"sod\": 150.0, \"pot\": 4.7, \"hemo\": 15.7, \"pcv\": 44.0, \"wbcc\": 10400.0, \"rbcc\": 6.2, \"htn\": \"no\", \"dm\": \"no\", \"cad\": \"no\", \"appet\": \"good\", \"pe\": \"no\", \"ane\": \"no\", \"class\": \"notckd\"}, {\"age\": 65.0, \"bp\": 60.0, \"sg\": 1.02, \"al\": 0.0, \"su\": 0.0, \"rbc\": \"normal\", \"pc\": \"normal\", \"pcc\": \"notpresent\", \"ba\": \"notpresent\", \"bgr\": 109.0, \"bu\": 39.0, \"sc\": 1.0, \"sod\": 144.0, \"pot\": 3.5, \"hemo\": 13.9, \"pcv\": 48.0, \"wbcc\": 9600.0, \"rbcc\": 4.8, \"htn\": \"no\", \"dm\": \"no\", \"cad\": \"no\", \"appet\": \"good\", \"pe\": \"no\", \"ane\": \"no\", \"class\": \"notckd\"}, {\"age\": 43.0, \"bp\": 80.0, \"sg\": 1.025, \"al\": 0.0, \"su\": 0.0, \"rbc\": \"normal\", \"pc\": \"normal\", \"pcc\": \"notpresent\", \"ba\": \"notpresent\", \"bgr\": 130.0, \"bu\": 30.0, \"sc\": 1.1, \"sod\": 143.0, \"pot\": 5.0, \"hemo\": 15.9, \"pcv\": 45.0, \"wbcc\": 7800.0, \"rbcc\": 4.5, \"htn\": \"no\", \"dm\": \"no\", \"cad\": \"no\", \"appet\": \"good\", \"pe\": \"no\", \"ane\": \"no\", \"class\": \"notckd\"}, {\"age\": 40.0, \"bp\": 80.0, \"sg\": 1.02, \"al\": 0.0, \"su\": 0.0, \"rbc\": \"normal\", \"pc\": \"normal\", \"pcc\": \"notpresent\", \"ba\": \"notpresent\", \"bgr\": 119.0, \"bu\": 15.0, \"sc\": 0.7, \"sod\": 150.0, \"pot\": 4.9, \"hemo\": 13.85, \"pcv\": 42.0, \"wbcc\": 7900.0, \"rbcc\": 4.9, \"htn\": \"no\", \"dm\": \"no\", \"cad\": \"no\", \"appet\": \"good\", \"pe\": \"no\", \"ane\": \"no\", \"class\": \"notckd\"}, {\"age\": 58.0, \"bp\": 80.0, \"sg\": 1.02, \"al\": 0.0, \"su\": 0.0, \"rbc\": \"normal\", \"pc\": \"normal\", \"pcc\": \"notpresent\", \"ba\": \"notpresent\", \"bgr\": 100.0, \"bu\": 50.0, \"sc\": 1.2, \"sod\": 140.0, \"pot\": 3.5, \"hemo\": 14.0, \"pcv\": 50.0, \"wbcc\": 6700.0, \"rbcc\": 6.5, \"htn\": \"no\", \"dm\": \"no\", \"cad\": \"no\", \"appet\": \"good\", \"pe\": \"no\", \"ane\": \"no\", \"class\": \"notckd\"}, {\"age\": 47.0, \"bp\": 60.0, \"sg\": 1.02, \"al\": 0.0, \"su\": 0.0, \"rbc\": \"normal\", \"pc\": \"normal\", \"pcc\": \"notpresent\", \"ba\": \"notpresent\", \"bgr\": 109.0, \"bu\": 25.0, \"sc\": 1.1, \"sod\": 141.0, \"pot\": 4.7, \"hemo\": 15.8, \"pcv\": 41.0, \"wbcc\": 8300.0, \"rbcc\": 5.2, \"htn\": \"no\", \"dm\": \"no\", \"cad\": \"no\", \"appet\": \"good\", \"pe\": \"no\", \"ane\": \"no\", \"class\": \"notckd\"}, {\"age\": 30.0, \"bp\": 60.0, \"sg\": 1.025, \"al\": 0.0, \"su\": 0.0, \"rbc\": \"normal\", \"pc\": \"normal\", \"pcc\": \"notpresent\", \"ba\": \"notpresent\", \"bgr\": 120.0, \"bu\": 31.0, \"sc\": 0.8, \"sod\": 150.0, \"pot\": 4.6, \"hemo\": 13.4, \"pcv\": 44.0, \"wbcc\": 10700.0, \"rbcc\": 5.8, \"htn\": \"no\", \"dm\": \"no\", \"cad\": \"no\", \"appet\": \"good\", \"pe\": \"no\", \"ane\": \"no\", \"class\": \"notckd\"}, {\"age\": 28.0, \"bp\": 70.0, \"sg\": 1.02, \"al\": 0.0, \"su\": 0.0, \"rbc\": \"normal\", \"pc\": \"normal\", \"pcc\": \"notpresent\", \"ba\": \"notpresent\", \"bgr\": 131.0, \"bu\": 29.0, \"sc\": 0.6, \"sod\": 145.0, \"pot\": 4.9, \"hemo\": 13.85, \"pcv\": 45.0, \"wbcc\": 8600.0, \"rbcc\": 6.5, \"htn\": \"no\", \"dm\": \"no\", \"cad\": \"no\", \"appet\": \"good\", \"pe\": \"no\", \"ane\": \"no\", \"class\": \"notckd\"}, {\"age\": 33.0, \"bp\": 60.0, \"sg\": 1.025, \"al\": 0.0, \"su\": 0.0, \"rbc\": \"normal\", \"pc\": \"normal\", \"pcc\": \"notpresent\", \"ba\": \"notpresent\", \"bgr\": 80.0, \"bu\": 25.0, \"sc\": 0.9, \"sod\": 146.0, \"pot\": 3.5, \"hemo\": 14.1, \"pcv\": 48.0, \"wbcc\": 7800.0, \"rbcc\": 5.1, \"htn\": \"no\", \"dm\": \"no\", \"cad\": \"no\", \"appet\": \"good\", \"pe\": \"no\", \"ane\": \"no\", \"class\": \"notckd\"}, {\"age\": 43.0, \"bp\": 80.0, \"sg\": 1.02, \"al\": 0.0, \"su\": 0.0, \"rbc\": \"normal\", \"pc\": \"normal\", \"pcc\": \"notpresent\", \"ba\": \"notpresent\", \"bgr\": 114.0, \"bu\": 32.0, \"sc\": 1.1, \"sod\": 135.0, \"pot\": 3.9, \"hemo\": 13.85, \"pcv\": 42.0, \"wbcc\": 7900.0, \"rbcc\": 4.9, \"htn\": \"no\", \"dm\": \"no\", \"cad\": \"no\", \"appet\": \"good\", \"pe\": \"no\", \"ane\": \"no\", \"class\": \"notckd\"}, {\"age\": 59.0, \"bp\": 70.0, \"sg\": 1.025, \"al\": 0.0, \"su\": 0.0, \"rbc\": \"normal\", \"pc\": \"normal\", \"pcc\": \"notpresent\", \"ba\": \"notpresent\", \"bgr\": 130.0, \"bu\": 39.0, \"sc\": 0.7, \"sod\": 147.0, \"pot\": 4.7, \"hemo\": 13.5, \"pcv\": 46.0, \"wbcc\": 6700.0, \"rbcc\": 4.5, \"htn\": \"no\", \"dm\": \"no\", \"cad\": \"no\", \"appet\": \"good\", \"pe\": \"no\", \"ane\": \"no\", \"class\": \"notckd\"}, {\"age\": 34.0, \"bp\": 70.0, \"sg\": 1.025, \"al\": 0.0, \"su\": 0.0, \"rbc\": \"normal\", \"pc\": \"normal\", \"pcc\": \"notpresent\", \"ba\": \"notpresent\", \"bgr\": 119.0, \"bu\": 33.0, \"sc\": 1.0, \"sod\": 150.0, \"pot\": 5.0, \"hemo\": 15.3, \"pcv\": 44.0, \"wbcc\": 10500.0, \"rbcc\": 6.1, \"htn\": \"no\", \"dm\": \"no\", \"cad\": \"no\", \"appet\": \"good\", \"pe\": \"no\", \"ane\": \"no\", \"class\": \"notckd\"}, {\"age\": 23.0, \"bp\": 80.0, \"sg\": 1.02, \"al\": 0.0, \"su\": 0.0, \"rbc\": \"normal\", \"pc\": \"normal\", \"pcc\": \"notpresent\", \"ba\": \"notpresent\", \"bgr\": 99.0, \"bu\": 46.0, \"sc\": 1.2, \"sod\": 142.0, \"pot\": 4.0, \"hemo\": 17.7, \"pcv\": 46.0, \"wbcc\": 4300.0, \"rbcc\": 5.5, \"htn\": \"no\", \"dm\": \"no\", \"cad\": \"no\", \"appet\": \"good\", \"pe\": \"no\", \"ane\": \"no\", \"class\": \"notckd\"}, {\"age\": 24.0, \"bp\": 80.0, \"sg\": 1.025, \"al\": 0.0, \"su\": 0.0, \"rbc\": \"normal\", \"pc\": \"normal\", \"pcc\": \"notpresent\", \"ba\": \"notpresent\", \"bgr\": 125.0, \"bu\": 40.0, \"sc\": 1.15, \"sod\": 136.0, \"pot\": 3.5, \"hemo\": 15.4, \"pcv\": 43.0, \"wbcc\": 5600.0, \"rbcc\": 4.5, \"htn\": \"no\", \"dm\": \"no\", \"cad\": \"no\", \"appet\": \"good\", \"pe\": \"no\", \"ane\": \"no\", \"class\": \"notckd\"}, {\"age\": 60.0, \"bp\": 60.0, \"sg\": 1.02, \"al\": 0.0, \"su\": 0.0, \"rbc\": \"normal\", \"pc\": \"normal\", \"pcc\": \"notpresent\", \"ba\": \"notpresent\", \"bgr\": 134.0, \"bu\": 45.0, \"sc\": 0.5, \"sod\": 139.0, \"pot\": 4.8, \"hemo\": 14.2, \"pcv\": 48.0, \"wbcc\": 10700.0, \"rbcc\": 5.6, \"htn\": \"no\", \"dm\": \"no\", \"cad\": \"no\", \"appet\": \"good\", \"pe\": \"no\", \"ane\": \"no\", \"class\": \"notckd\"}, {\"age\": 25.0, \"bp\": 60.0, \"sg\": 1.02, \"al\": 0.0, \"su\": 0.0, \"rbc\": \"normal\", \"pc\": \"normal\", \"pcc\": \"notpresent\", \"ba\": \"notpresent\", \"bgr\": 119.0, \"bu\": 27.0, \"sc\": 0.5, \"sod\": 139.0, \"pot\": 4.5, \"hemo\": 15.2, \"pcv\": 40.0, \"wbcc\": 9200.0, \"rbcc\": 5.2, \"htn\": \"no\", \"dm\": \"no\", \"cad\": \"no\", \"appet\": \"good\", \"pe\": \"no\", \"ane\": \"no\", \"class\": \"notckd\"}, {\"age\": 44.0, \"bp\": 70.0, \"sg\": 1.025, \"al\": 0.0, \"su\": 0.0, \"rbc\": \"normal\", \"pc\": \"normal\", \"pcc\": \"notpresent\", \"ba\": \"notpresent\", \"bgr\": 92.0, \"bu\": 40.0, \"sc\": 0.9, \"sod\": 141.0, \"pot\": 4.9, \"hemo\": 14.0, \"pcv\": 52.0, \"wbcc\": 7500.0, \"rbcc\": 6.2, \"htn\": \"no\", \"dm\": \"no\", \"cad\": \"no\", \"appet\": \"good\", \"pe\": \"no\", \"ane\": \"no\", \"class\": \"notckd\"}, {\"age\": 62.0, \"bp\": 80.0, \"sg\": 1.02, \"al\": 0.0, \"su\": 0.0, \"rbc\": \"normal\", \"pc\": \"normal\", \"pcc\": \"notpresent\", \"ba\": \"notpresent\", \"bgr\": 132.0, \"bu\": 34.0, \"sc\": 0.8, \"sod\": 147.0, \"pot\": 3.5, \"hemo\": 17.8, \"pcv\": 44.0, \"wbcc\": 4700.0, \"rbcc\": 4.5, \"htn\": \"no\", \"dm\": \"no\", \"cad\": \"no\", \"appet\": \"good\", \"pe\": \"no\", \"ane\": \"no\", \"class\": \"notckd\"}, {\"age\": 25.0, \"bp\": 70.0, \"sg\": 1.02, \"al\": 0.0, \"su\": 0.0, \"rbc\": \"normal\", \"pc\": \"normal\", \"pcc\": \"notpresent\", \"ba\": \"notpresent\", \"bgr\": 88.0, \"bu\": 42.0, \"sc\": 0.5, \"sod\": 136.0, \"pot\": 3.5, \"hemo\": 13.3, \"pcv\": 48.0, \"wbcc\": 7000.0, \"rbcc\": 4.9, \"htn\": \"no\", \"dm\": \"no\", \"cad\": \"no\", \"appet\": \"good\", \"pe\": \"no\", \"ane\": \"no\", \"class\": \"notckd\"}, {\"age\": 32.0, \"bp\": 70.0, \"sg\": 1.025, \"al\": 0.0, \"su\": 0.0, \"rbc\": \"normal\", \"pc\": \"normal\", \"pcc\": \"notpresent\", \"ba\": \"notpresent\", \"bgr\": 100.0, \"bu\": 29.0, \"sc\": 1.1, \"sod\": 142.0, \"pot\": 4.5, \"hemo\": 14.3, \"pcv\": 43.0, \"wbcc\": 6700.0, \"rbcc\": 5.9, \"htn\": \"no\", \"dm\": \"no\", \"cad\": \"no\", \"appet\": \"good\", \"pe\": \"no\", \"ane\": \"no\", \"class\": \"notckd\"}, {\"age\": 63.0, \"bp\": 70.0, \"sg\": 1.025, \"al\": 0.0, \"su\": 0.0, \"rbc\": \"normal\", \"pc\": \"normal\", \"pcc\": \"notpresent\", \"ba\": \"notpresent\", \"bgr\": 130.0, \"bu\": 37.0, \"sc\": 0.9, \"sod\": 150.0, \"pot\": 5.0, \"hemo\": 13.4, \"pcv\": 41.0, \"wbcc\": 7300.0, \"rbcc\": 4.7, \"htn\": \"no\", \"dm\": \"no\", \"cad\": \"no\", \"appet\": \"good\", \"pe\": \"no\", \"ane\": \"no\", \"class\": \"notckd\"}, {\"age\": 44.0, \"bp\": 60.0, \"sg\": 1.02, \"al\": 0.0, \"su\": 0.0, \"rbc\": \"normal\", \"pc\": \"normal\", \"pcc\": \"notpresent\", \"ba\": \"notpresent\", \"bgr\": 95.0, \"bu\": 46.0, \"sc\": 0.5, \"sod\": 138.0, \"pot\": 4.2, \"hemo\": 15.0, \"pcv\": 50.0, \"wbcc\": 7700.0, \"rbcc\": 6.3, \"htn\": \"no\", \"dm\": \"no\", \"cad\": \"no\", \"appet\": \"good\", \"pe\": \"no\", \"ane\": \"no\", \"class\": \"notckd\"}, {\"age\": 37.0, \"bp\": 60.0, \"sg\": 1.025, \"al\": 0.0, \"su\": 0.0, \"rbc\": \"normal\", \"pc\": \"normal\", \"pcc\": \"notpresent\", \"ba\": \"notpresent\", \"bgr\": 111.0, \"bu\": 35.0, \"sc\": 0.8, \"sod\": 135.0, \"pot\": 4.1, \"hemo\": 16.2, \"pcv\": 50.0, \"wbcc\": 5500.0, \"rbcc\": 5.7, \"htn\": \"no\", \"dm\": \"no\", \"cad\": \"no\", \"appet\": \"good\", \"pe\": \"no\", \"ane\": \"no\", \"class\": \"notckd\"}, {\"age\": 64.0, \"bp\": 60.0, \"sg\": 1.02, \"al\": 0.0, \"su\": 0.0, \"rbc\": \"normal\", \"pc\": \"normal\", \"pcc\": \"notpresent\", \"ba\": \"notpresent\", \"bgr\": 106.0, \"bu\": 27.0, \"sc\": 0.7, \"sod\": 150.0, \"pot\": 3.3, \"hemo\": 14.4, \"pcv\": 42.0, \"wbcc\": 8100.0, \"rbcc\": 4.7, \"htn\": \"no\", \"dm\": \"no\", \"cad\": \"no\", \"appet\": \"good\", \"pe\": \"no\", \"ane\": \"no\", \"class\": \"notckd\"}, {\"age\": 22.0, \"bp\": 60.0, \"sg\": 1.025, \"al\": 0.0, \"su\": 0.0, \"rbc\": \"normal\", \"pc\": \"normal\", \"pcc\": \"notpresent\", \"ba\": \"notpresent\", \"bgr\": 97.0, \"bu\": 18.0, \"sc\": 1.2, \"sod\": 138.0, \"pot\": 4.3, \"hemo\": 13.5, \"pcv\": 42.0, \"wbcc\": 7900.0, \"rbcc\": 6.4, \"htn\": \"no\", \"dm\": \"no\", \"cad\": \"no\", \"appet\": \"good\", \"pe\": \"no\", \"ane\": \"no\", \"class\": \"notckd\"}, {\"age\": 33.0, \"bp\": 60.0, \"sg\": 1.02, \"al\": 0.0, \"su\": 0.0, \"rbc\": \"normal\", \"pc\": \"normal\", \"pcc\": \"notpresent\", \"ba\": \"notpresent\", \"bgr\": 130.0, \"bu\": 41.0, \"sc\": 0.9, \"sod\": 141.0, \"pot\": 4.4, \"hemo\": 15.5, \"pcv\": 52.0, \"wbcc\": 4300.0, \"rbcc\": 5.8, \"htn\": \"no\", \"dm\": \"no\", \"cad\": \"no\", \"appet\": \"good\", \"pe\": \"no\", \"ane\": \"no\", \"class\": \"notckd\"}, {\"age\": 43.0, \"bp\": 60.0, \"sg\": 1.025, \"al\": 0.0, \"su\": 0.0, \"rbc\": \"normal\", \"pc\": \"normal\", \"pcc\": \"notpresent\", \"ba\": \"notpresent\", \"bgr\": 108.0, \"bu\": 25.0, \"sc\": 1.0, \"sod\": 144.0, \"pot\": 5.0, \"hemo\": 17.8, \"pcv\": 43.0, \"wbcc\": 7200.0, \"rbcc\": 5.5, \"htn\": \"no\", \"dm\": \"no\", \"cad\": \"no\", \"appet\": \"good\", \"pe\": \"no\", \"ane\": \"no\", \"class\": \"notckd\"}, {\"age\": 38.0, \"bp\": 80.0, \"sg\": 1.02, \"al\": 0.0, \"su\": 0.0, \"rbc\": \"normal\", \"pc\": \"normal\", \"pcc\": \"notpresent\", \"ba\": \"notpresent\", \"bgr\": 99.0, \"bu\": 19.0, \"sc\": 0.5, \"sod\": 147.0, \"pot\": 3.5, \"hemo\": 13.6, \"pcv\": 44.0, \"wbcc\": 7300.0, \"rbcc\": 6.4, \"htn\": \"no\", \"dm\": \"no\", \"cad\": \"no\", \"appet\": \"good\", \"pe\": \"no\", \"ane\": \"no\", \"class\": \"notckd\"}, {\"age\": 29.0, \"bp\": 80.0, \"sg\": 1.02, \"al\": 0.0, \"su\": 0.0, \"rbc\": \"normal\", \"pc\": \"normal\", \"pcc\": \"notpresent\", \"ba\": \"notpresent\", \"bgr\": 83.0, \"bu\": 49.0, \"sc\": 0.9, \"sod\": 139.0, \"pot\": 3.3, \"hemo\": 17.5, \"pcv\": 40.0, \"wbcc\": 9900.0, \"rbcc\": 4.7, \"htn\": \"no\", \"dm\": \"no\", \"cad\": \"no\", \"appet\": \"good\", \"pe\": \"no\", \"ane\": \"no\", \"class\": \"notckd\"}, {\"age\": 37.0, \"bp\": 60.0, \"sg\": 1.02, \"al\": 0.0, \"su\": 0.0, \"rbc\": \"normal\", \"pc\": \"normal\", \"pcc\": \"notpresent\", \"ba\": \"notpresent\", \"bgr\": 109.0, \"bu\": 47.0, \"sc\": 1.1, \"sod\": 141.0, \"pot\": 4.9, \"hemo\": 15.0, \"pcv\": 48.0, \"wbcc\": 7000.0, \"rbcc\": 5.2, \"htn\": \"no\", \"dm\": \"no\", \"cad\": \"no\", \"appet\": \"good\", \"pe\": \"no\", \"ane\": \"no\", \"class\": \"notckd\"}, {\"age\": 39.0, \"bp\": 60.0, \"sg\": 1.02, \"al\": 0.0, \"su\": 0.0, \"rbc\": \"normal\", \"pc\": \"normal\", \"pcc\": \"notpresent\", \"ba\": \"notpresent\", \"bgr\": 86.0, \"bu\": 37.0, \"sc\": 0.6, \"sod\": 150.0, \"pot\": 5.0, \"hemo\": 13.6, \"pcv\": 51.0, \"wbcc\": 5800.0, \"rbcc\": 4.5, \"htn\": \"no\", \"dm\": \"no\", \"cad\": \"no\", \"appet\": \"good\", \"pe\": \"no\", \"ane\": \"no\", \"class\": \"notckd\"}, {\"age\": 32.0, \"bp\": 60.0, \"sg\": 1.025, \"al\": 0.0, \"su\": 0.0, \"rbc\": \"normal\", \"pc\": \"normal\", \"pcc\": \"notpresent\", \"ba\": \"notpresent\", \"bgr\": 102.0, \"bu\": 17.0, \"sc\": 0.4, \"sod\": 147.0, \"pot\": 4.7, \"hemo\": 14.6, \"pcv\": 41.0, \"wbcc\": 6800.0, \"rbcc\": 5.1, \"htn\": \"no\", \"dm\": \"no\", \"cad\": \"no\", \"appet\": \"good\", \"pe\": \"no\", \"ane\": \"no\", \"class\": \"notckd\"}, {\"age\": 23.0, \"bp\": 60.0, \"sg\": 1.02, \"al\": 0.0, \"su\": 0.0, \"rbc\": \"normal\", \"pc\": \"normal\", \"pcc\": \"notpresent\", \"ba\": \"notpresent\", \"bgr\": 95.0, \"bu\": 24.0, \"sc\": 0.8, \"sod\": 145.0, \"pot\": 5.0, \"hemo\": 15.0, \"pcv\": 52.0, \"wbcc\": 6300.0, \"rbcc\": 4.6, \"htn\": \"no\", \"dm\": \"no\", \"cad\": \"no\", \"appet\": \"good\", \"pe\": \"no\", \"ane\": \"no\", \"class\": \"notckd\"}, {\"age\": 34.0, \"bp\": 70.0, \"sg\": 1.025, \"al\": 0.0, \"su\": 0.0, \"rbc\": \"normal\", \"pc\": \"normal\", \"pcc\": \"notpresent\", \"ba\": \"notpresent\", \"bgr\": 87.0, \"bu\": 38.0, \"sc\": 0.5, \"sod\": 144.0, \"pot\": 4.8, \"hemo\": 17.1, \"pcv\": 47.0, \"wbcc\": 7400.0, \"rbcc\": 6.1, \"htn\": \"no\", \"dm\": \"no\", \"cad\": \"no\", \"appet\": \"good\", \"pe\": \"no\", \"ane\": \"no\", \"class\": \"notckd\"}, {\"age\": 66.0, \"bp\": 70.0, \"sg\": 1.025, \"al\": 0.0, \"su\": 0.0, \"rbc\": \"normal\", \"pc\": \"normal\", \"pcc\": \"notpresent\", \"ba\": \"notpresent\", \"bgr\": 107.0, \"bu\": 16.0, \"sc\": 1.1, \"sod\": 140.0, \"pot\": 3.6, \"hemo\": 13.6, \"pcv\": 42.0, \"wbcc\": 11000.0, \"rbcc\": 4.9, \"htn\": \"no\", \"dm\": \"no\", \"cad\": \"no\", \"appet\": \"good\", \"pe\": \"no\", \"ane\": \"no\", \"class\": \"notckd\"}, {\"age\": 47.0, \"bp\": 60.0, \"sg\": 1.02, \"al\": 0.0, \"su\": 0.0, \"rbc\": \"normal\", \"pc\": \"normal\", \"pcc\": \"notpresent\", \"ba\": \"notpresent\", \"bgr\": 117.0, \"bu\": 22.0, \"sc\": 1.2, \"sod\": 138.0, \"pot\": 3.5, \"hemo\": 13.0, \"pcv\": 45.0, \"wbcc\": 5200.0, \"rbcc\": 5.6, \"htn\": \"no\", \"dm\": \"no\", \"cad\": \"no\", \"appet\": \"good\", \"pe\": \"no\", \"ane\": \"no\", \"class\": \"notckd\"}, {\"age\": 74.0, \"bp\": 60.0, \"sg\": 1.02, \"al\": 0.0, \"su\": 0.0, \"rbc\": \"normal\", \"pc\": \"normal\", \"pcc\": \"notpresent\", \"ba\": \"notpresent\", \"bgr\": 88.0, \"bu\": 50.0, \"sc\": 0.6, \"sod\": 147.0, \"pot\": 3.7, \"hemo\": 17.2, \"pcv\": 53.0, \"wbcc\": 6000.0, \"rbcc\": 4.5, \"htn\": \"no\", \"dm\": \"no\", \"cad\": \"no\", \"appet\": \"good\", \"pe\": \"no\", \"ane\": \"no\", \"class\": \"notckd\"}, {\"age\": 35.0, \"bp\": 60.0, \"sg\": 1.025, \"al\": 0.0, \"su\": 0.0, \"rbc\": \"normal\", \"pc\": \"normal\", \"pcc\": \"notpresent\", \"ba\": \"notpresent\", \"bgr\": 105.0, \"bu\": 39.0, \"sc\": 0.5, \"sod\": 135.0, \"pot\": 3.9, \"hemo\": 14.7, \"pcv\": 43.0, \"wbcc\": 5800.0, \"rbcc\": 6.2, \"htn\": \"no\", \"dm\": \"no\", \"cad\": \"no\", \"appet\": \"good\", \"pe\": \"no\", \"ane\": \"no\", \"class\": \"notckd\"}, {\"age\": 29.0, \"bp\": 80.0, \"sg\": 1.02, \"al\": 0.0, \"su\": 0.0, \"rbc\": \"normal\", \"pc\": \"normal\", \"pcc\": \"notpresent\", \"ba\": \"notpresent\", \"bgr\": 70.0, \"bu\": 16.0, \"sc\": 0.7, \"sod\": 138.0, \"pot\": 3.5, \"hemo\": 13.7, \"pcv\": 54.0, \"wbcc\": 5400.0, \"rbcc\": 5.8, \"htn\": \"no\", \"dm\": \"no\", \"cad\": \"no\", \"appet\": \"good\", \"pe\": \"no\", \"ane\": \"no\", \"class\": \"notckd\"}, {\"age\": 33.0, \"bp\": 80.0, \"sg\": 1.025, \"al\": 0.0, \"su\": 0.0, \"rbc\": \"normal\", \"pc\": \"normal\", \"pcc\": \"notpresent\", \"ba\": \"notpresent\", \"bgr\": 89.0, \"bu\": 19.0, \"sc\": 1.1, \"sod\": 144.0, \"pot\": 5.0, \"hemo\": 15.0, \"pcv\": 40.0, \"wbcc\": 10300.0, \"rbcc\": 4.8, \"htn\": \"no\", \"dm\": \"no\", \"cad\": \"no\", \"appet\": \"good\", \"pe\": \"no\", \"ane\": \"no\", \"class\": \"notckd\"}, {\"age\": 67.0, \"bp\": 80.0, \"sg\": 1.025, \"al\": 0.0, \"su\": 0.0, \"rbc\": \"normal\", \"pc\": \"normal\", \"pcc\": \"notpresent\", \"ba\": \"notpresent\", \"bgr\": 99.0, \"bu\": 40.0, \"sc\": 0.5, \"sod\": 139.0, \"pot\": 4.5, \"hemo\": 17.8, \"pcv\": 44.0, \"wbcc\": 5900.0, \"rbcc\": 5.2, \"htn\": \"no\", \"dm\": \"no\", \"cad\": \"no\", \"appet\": \"good\", \"pe\": \"no\", \"ane\": \"no\", \"class\": \"notckd\"}, {\"age\": 73.0, \"bp\": 80.0, \"sg\": 1.025, \"al\": 0.0, \"su\": 0.0, \"rbc\": \"normal\", \"pc\": \"normal\", \"pcc\": \"notpresent\", \"ba\": \"notpresent\", \"bgr\": 118.0, \"bu\": 44.0, \"sc\": 0.7, \"sod\": 137.0, \"pot\": 3.5, \"hemo\": 14.8, \"pcv\": 45.0, \"wbcc\": 9300.0, \"rbcc\": 4.7, \"htn\": \"no\", \"dm\": \"no\", \"cad\": \"no\", \"appet\": \"good\", \"pe\": \"no\", \"ane\": \"no\", \"class\": \"notckd\"}, {\"age\": 24.0, \"bp\": 80.0, \"sg\": 1.02, \"al\": 0.0, \"su\": 0.0, \"rbc\": \"normal\", \"pc\": \"normal\", \"pcc\": \"notpresent\", \"ba\": \"notpresent\", \"bgr\": 93.0, \"bu\": 46.0, \"sc\": 1.0, \"sod\": 145.0, \"pot\": 3.5, \"hemo\": 13.85, \"pcv\": 42.0, \"wbcc\": 10700.0, \"rbcc\": 6.3, \"htn\": \"no\", \"dm\": \"no\", \"cad\": \"no\", \"appet\": \"good\", \"pe\": \"no\", \"ane\": \"no\", \"class\": \"notckd\"}, {\"age\": 60.0, \"bp\": 80.0, \"sg\": 1.025, \"al\": 0.0, \"su\": 0.0, \"rbc\": \"normal\", \"pc\": \"normal\", \"pcc\": \"notpresent\", \"ba\": \"notpresent\", \"bgr\": 81.0, \"bu\": 15.0, \"sc\": 0.5, \"sod\": 141.0, \"pot\": 3.6, \"hemo\": 15.0, \"pcv\": 46.0, \"wbcc\": 10500.0, \"rbcc\": 5.3, \"htn\": \"no\", \"dm\": \"no\", \"cad\": \"no\", \"appet\": \"good\", \"pe\": \"no\", \"ane\": \"no\", \"class\": \"notckd\"}, {\"age\": 68.0, \"bp\": 60.0, \"sg\": 1.025, \"al\": 0.0, \"su\": 0.0, \"rbc\": \"normal\", \"pc\": \"normal\", \"pcc\": \"notpresent\", \"ba\": \"notpresent\", \"bgr\": 125.0, \"bu\": 41.0, \"sc\": 1.1, \"sod\": 139.0, \"pot\": 3.8, \"hemo\": 17.4, \"pcv\": 50.0, \"wbcc\": 6700.0, \"rbcc\": 6.1, \"htn\": \"no\", \"dm\": \"no\", \"cad\": \"no\", \"appet\": \"good\", \"pe\": \"no\", \"ane\": \"no\", \"class\": \"notckd\"}, {\"age\": 30.0, \"bp\": 80.0, \"sg\": 1.025, \"al\": 0.0, \"su\": 0.0, \"rbc\": \"normal\", \"pc\": \"normal\", \"pcc\": \"notpresent\", \"ba\": \"notpresent\", \"bgr\": 82.0, \"bu\": 42.0, \"sc\": 0.7, \"sod\": 146.0, \"pot\": 5.0, \"hemo\": 14.9, \"pcv\": 45.0, \"wbcc\": 9400.0, \"rbcc\": 5.9, \"htn\": \"no\", \"dm\": \"no\", \"cad\": \"no\", \"appet\": \"good\", \"pe\": \"no\", \"ane\": \"no\", \"class\": \"notckd\"}, {\"age\": 75.0, \"bp\": 70.0, \"sg\": 1.02, \"al\": 0.0, \"su\": 0.0, \"rbc\": \"normal\", \"pc\": \"normal\", \"pcc\": \"notpresent\", \"ba\": \"notpresent\", \"bgr\": 107.0, \"bu\": 48.0, \"sc\": 0.8, \"sod\": 144.0, \"pot\": 3.5, \"hemo\": 13.6, \"pcv\": 46.0, \"wbcc\": 10300.0, \"rbcc\": 4.8, \"htn\": \"no\", \"dm\": \"no\", \"cad\": \"no\", \"appet\": \"good\", \"pe\": \"no\", \"ane\": \"no\", \"class\": \"notckd\"}, {\"age\": 69.0, \"bp\": 70.0, \"sg\": 1.02, \"al\": 0.0, \"su\": 0.0, \"rbc\": \"normal\", \"pc\": \"normal\", \"pcc\": \"notpresent\", \"ba\": \"notpresent\", \"bgr\": 83.0, \"bu\": 42.0, \"sc\": 1.2, \"sod\": 139.0, \"pot\": 3.7, \"hemo\": 16.2, \"pcv\": 50.0, \"wbcc\": 9300.0, \"rbcc\": 5.4, \"htn\": \"no\", \"dm\": \"no\", \"cad\": \"no\", \"appet\": \"good\", \"pe\": \"no\", \"ane\": \"no\", \"class\": \"notckd\"}, {\"age\": 28.0, \"bp\": 60.0, \"sg\": 1.025, \"al\": 0.0, \"su\": 0.0, \"rbc\": \"normal\", \"pc\": \"normal\", \"pcc\": \"notpresent\", \"ba\": \"notpresent\", \"bgr\": 79.0, \"bu\": 50.0, \"sc\": 0.5, \"sod\": 145.0, \"pot\": 5.0, \"hemo\": 17.6, \"pcv\": 51.0, \"wbcc\": 6500.0, \"rbcc\": 5.0, \"htn\": \"no\", \"dm\": \"no\", \"cad\": \"no\", \"appet\": \"good\", \"pe\": \"no\", \"ane\": \"no\", \"class\": \"notckd\"}, {\"age\": 72.0, \"bp\": 60.0, \"sg\": 1.02, \"al\": 0.0, \"su\": 0.0, \"rbc\": \"normal\", \"pc\": \"normal\", \"pcc\": \"notpresent\", \"ba\": \"notpresent\", \"bgr\": 109.0, \"bu\": 26.0, \"sc\": 0.9, \"sod\": 150.0, \"pot\": 4.9, \"hemo\": 15.0, \"pcv\": 52.0, \"wbcc\": 10500.0, \"rbcc\": 5.5, \"htn\": \"no\", \"dm\": \"no\", \"cad\": \"no\", \"appet\": \"good\", \"pe\": \"no\", \"ane\": \"no\", \"class\": \"notckd\"}, {\"age\": 61.0, \"bp\": 70.0, \"sg\": 1.025, \"al\": 0.0, \"su\": 0.0, \"rbc\": \"normal\", \"pc\": \"normal\", \"pcc\": \"notpresent\", \"ba\": \"notpresent\", \"bgr\": 133.0, \"bu\": 38.0, \"sc\": 1.0, \"sod\": 142.0, \"pot\": 3.6, \"hemo\": 13.7, \"pcv\": 47.0, \"wbcc\": 9200.0, \"rbcc\": 4.9, \"htn\": \"no\", \"dm\": \"no\", \"cad\": \"no\", \"appet\": \"good\", \"pe\": \"no\", \"ane\": \"no\", \"class\": \"notckd\"}, {\"age\": 79.0, \"bp\": 80.0, \"sg\": 1.025, \"al\": 0.0, \"su\": 0.0, \"rbc\": \"normal\", \"pc\": \"normal\", \"pcc\": \"notpresent\", \"ba\": \"notpresent\", \"bgr\": 111.0, \"bu\": 44.0, \"sc\": 1.2, \"sod\": 146.0, \"pot\": 3.6, \"hemo\": 16.3, \"pcv\": 40.0, \"wbcc\": 8000.0, \"rbcc\": 6.4, \"htn\": \"no\", \"dm\": \"no\", \"cad\": \"no\", \"appet\": \"good\", \"pe\": \"no\", \"ane\": \"no\", \"class\": \"notckd\"}, {\"age\": 70.0, \"bp\": 80.0, \"sg\": 1.02, \"al\": 0.0, \"su\": 0.0, \"rbc\": \"normal\", \"pc\": \"normal\", \"pcc\": \"notpresent\", \"ba\": \"notpresent\", \"bgr\": 74.0, \"bu\": 41.0, \"sc\": 0.5, \"sod\": 143.0, \"pot\": 4.5, \"hemo\": 15.1, \"pcv\": 48.0, \"wbcc\": 9700.0, \"rbcc\": 5.6, \"htn\": \"no\", \"dm\": \"no\", \"cad\": \"no\", \"appet\": \"good\", \"pe\": \"no\", \"ane\": \"no\", \"class\": \"notckd\"}, {\"age\": 58.0, \"bp\": 70.0, \"sg\": 1.025, \"al\": 0.0, \"su\": 0.0, \"rbc\": \"normal\", \"pc\": \"normal\", \"pcc\": \"notpresent\", \"ba\": \"notpresent\", \"bgr\": 88.0, \"bu\": 16.0, \"sc\": 1.1, \"sod\": 147.0, \"pot\": 3.5, \"hemo\": 16.4, \"pcv\": 53.0, \"wbcc\": 9100.0, \"rbcc\": 5.2, \"htn\": \"no\", \"dm\": \"no\", \"cad\": \"no\", \"appet\": \"good\", \"pe\": \"no\", \"ane\": \"no\", \"class\": \"notckd\"}, {\"age\": 64.0, \"bp\": 70.0, \"sg\": 1.02, \"al\": 0.0, \"su\": 0.0, \"rbc\": \"normal\", \"pc\": \"normal\", \"pcc\": \"notpresent\", \"ba\": \"notpresent\", \"bgr\": 97.0, \"bu\": 27.0, \"sc\": 0.7, \"sod\": 145.0, \"pot\": 4.8, \"hemo\": 13.8, \"pcv\": 49.0, \"wbcc\": 6400.0, \"rbcc\": 4.8, \"htn\": \"no\", \"dm\": \"no\", \"cad\": \"no\", \"appet\": \"good\", \"pe\": \"no\", \"ane\": \"no\", \"class\": \"notckd\"}, {\"age\": 71.0, \"bp\": 60.0, \"sg\": 1.025, \"al\": 0.0, \"su\": 0.0, \"rbc\": \"normal\", \"pc\": \"normal\", \"pcc\": \"notpresent\", \"ba\": \"notpresent\", \"bgr\": 119.0, \"bu\": 40.0, \"sc\": 0.9, \"sod\": 140.0, \"pot\": 4.8, \"hemo\": 15.2, \"pcv\": 42.0, \"wbcc\": 7700.0, \"rbcc\": 5.5, \"htn\": \"no\", \"dm\": \"no\", \"cad\": \"no\", \"appet\": \"good\", \"pe\": \"no\", \"ane\": \"no\", \"class\": \"notckd\"}, {\"age\": 62.0, \"bp\": 80.0, \"sg\": 1.025, \"al\": 0.0, \"su\": 0.0, \"rbc\": \"normal\", \"pc\": \"normal\", \"pcc\": \"notpresent\", \"ba\": \"notpresent\", \"bgr\": 78.0, \"bu\": 45.0, \"sc\": 0.6, \"sod\": 138.0, \"pot\": 3.5, \"hemo\": 16.1, \"pcv\": 50.0, \"wbcc\": 5400.0, \"rbcc\": 5.7, \"htn\": \"no\", \"dm\": \"no\", \"cad\": \"no\", \"appet\": \"good\", \"pe\": \"no\", \"ane\": \"no\", \"class\": \"notckd\"}, {\"age\": 59.0, \"bp\": 60.0, \"sg\": 1.02, \"al\": 0.0, \"su\": 0.0, \"rbc\": \"normal\", \"pc\": \"normal\", \"pcc\": \"notpresent\", \"ba\": \"notpresent\", \"bgr\": 113.0, \"bu\": 23.0, \"sc\": 1.1, \"sod\": 139.0, \"pot\": 3.5, \"hemo\": 15.3, \"pcv\": 54.0, \"wbcc\": 6500.0, \"rbcc\": 4.9, \"htn\": \"no\", \"dm\": \"no\", \"cad\": \"no\", \"appet\": \"good\", \"pe\": \"no\", \"ane\": \"no\", \"class\": \"notckd\"}, {\"age\": 48.0, \"bp\": 80.0, \"sg\": 1.025, \"al\": 0.0, \"su\": 0.0, \"rbc\": \"normal\", \"pc\": \"normal\", \"pcc\": \"notpresent\", \"ba\": \"notpresent\", \"bgr\": 75.0, \"bu\": 22.0, \"sc\": 0.8, \"sod\": 137.0, \"pot\": 5.0, \"hemo\": 16.8, \"pcv\": 51.0, \"wbcc\": 6000.0, \"rbcc\": 6.5, \"htn\": \"no\", \"dm\": \"no\", \"cad\": \"no\", \"appet\": \"good\", \"pe\": \"no\", \"ane\": \"no\", \"class\": \"notckd\"}, {\"age\": 80.0, \"bp\": 80.0, \"sg\": 1.025, \"al\": 0.0, \"su\": 0.0, \"rbc\": \"normal\", \"pc\": \"normal\", \"pcc\": \"notpresent\", \"ba\": \"notpresent\", \"bgr\": 119.0, \"bu\": 46.0, \"sc\": 0.7, \"sod\": 141.0, \"pot\": 4.9, \"hemo\": 13.9, \"pcv\": 49.0, \"wbcc\": 5100.0, \"rbcc\": 5.0, \"htn\": \"no\", \"dm\": \"no\", \"cad\": \"no\", \"appet\": \"good\", \"pe\": \"no\", \"ane\": \"no\", \"class\": \"notckd\"}, {\"age\": 57.0, \"bp\": 60.0, \"sg\": 1.02, \"al\": 0.0, \"su\": 0.0, \"rbc\": \"normal\", \"pc\": \"normal\", \"pcc\": \"notpresent\", \"ba\": \"notpresent\", \"bgr\": 132.0, \"bu\": 18.0, \"sc\": 1.1, \"sod\": 150.0, \"pot\": 4.7, \"hemo\": 15.4, \"pcv\": 42.0, \"wbcc\": 11000.0, \"rbcc\": 4.5, \"htn\": \"no\", \"dm\": \"no\", \"cad\": \"no\", \"appet\": \"good\", \"pe\": \"no\", \"ane\": \"no\", \"class\": \"notckd\"}, {\"age\": 63.0, \"bp\": 70.0, \"sg\": 1.02, \"al\": 0.0, \"su\": 0.0, \"rbc\": \"normal\", \"pc\": \"normal\", \"pcc\": \"notpresent\", \"ba\": \"notpresent\", \"bgr\": 113.0, \"bu\": 25.0, \"sc\": 0.6, \"sod\": 146.0, \"pot\": 4.9, \"hemo\": 16.5, \"pcv\": 52.0, \"wbcc\": 8000.0, \"rbcc\": 5.1, \"htn\": \"no\", \"dm\": \"no\", \"cad\": \"no\", \"appet\": \"good\", \"pe\": \"no\", \"ane\": \"no\", \"class\": \"notckd\"}, {\"age\": 46.0, \"bp\": 70.0, \"sg\": 1.025, \"al\": 0.0, \"su\": 0.0, \"rbc\": \"normal\", \"pc\": \"normal\", \"pcc\": \"notpresent\", \"ba\": \"notpresent\", \"bgr\": 100.0, \"bu\": 47.0, \"sc\": 0.5, \"sod\": 142.0, \"pot\": 3.5, \"hemo\": 16.4, \"pcv\": 43.0, \"wbcc\": 5700.0, \"rbcc\": 6.5, \"htn\": \"no\", \"dm\": \"no\", \"cad\": \"no\", \"appet\": \"good\", \"pe\": \"no\", \"ane\": \"no\", \"class\": \"notckd\"}, {\"age\": 15.0, \"bp\": 80.0, \"sg\": 1.025, \"al\": 0.0, \"su\": 0.0, \"rbc\": \"normal\", \"pc\": \"normal\", \"pcc\": \"notpresent\", \"ba\": \"notpresent\", \"bgr\": 93.0, \"bu\": 17.0, \"sc\": 0.9, \"sod\": 136.0, \"pot\": 3.9, \"hemo\": 16.7, \"pcv\": 50.0, \"wbcc\": 6200.0, \"rbcc\": 5.2, \"htn\": \"no\", \"dm\": \"no\", \"cad\": \"no\", \"appet\": \"good\", \"pe\": \"no\", \"ane\": \"no\", \"class\": \"notckd\"}, {\"age\": 51.0, \"bp\": 80.0, \"sg\": 1.02, \"al\": 0.0, \"su\": 0.0, \"rbc\": \"normal\", \"pc\": \"normal\", \"pcc\": \"notpresent\", \"ba\": \"notpresent\", \"bgr\": 94.0, \"bu\": 15.0, \"sc\": 1.2, \"sod\": 144.0, \"pot\": 3.7, \"hemo\": 15.5, \"pcv\": 46.0, \"wbcc\": 9500.0, \"rbcc\": 6.4, \"htn\": \"no\", \"dm\": \"no\", \"cad\": \"no\", \"appet\": \"good\", \"pe\": \"no\", \"ane\": \"no\", \"class\": \"notckd\"}, {\"age\": 41.0, \"bp\": 80.0, \"sg\": 1.025, \"al\": 0.0, \"su\": 0.0, \"rbc\": \"normal\", \"pc\": \"normal\", \"pcc\": \"notpresent\", \"ba\": \"notpresent\", \"bgr\": 112.0, \"bu\": 48.0, \"sc\": 0.7, \"sod\": 140.0, \"pot\": 5.0, \"hemo\": 17.0, \"pcv\": 52.0, \"wbcc\": 7200.0, \"rbcc\": 5.8, \"htn\": \"no\", \"dm\": \"no\", \"cad\": \"no\", \"appet\": \"good\", \"pe\": \"no\", \"ane\": \"no\", \"class\": \"notckd\"}, {\"age\": 52.0, \"bp\": 80.0, \"sg\": 1.025, \"al\": 0.0, \"su\": 0.0, \"rbc\": \"normal\", \"pc\": \"normal\", \"pcc\": \"notpresent\", \"ba\": \"notpresent\", \"bgr\": 99.0, \"bu\": 25.0, \"sc\": 0.8, \"sod\": 135.0, \"pot\": 3.7, \"hemo\": 15.0, \"pcv\": 52.0, \"wbcc\": 6300.0, \"rbcc\": 5.3, \"htn\": \"no\", \"dm\": \"no\", \"cad\": \"no\", \"appet\": \"good\", \"pe\": \"no\", \"ane\": \"no\", \"class\": \"notckd\"}, {\"age\": 36.0, \"bp\": 80.0, \"sg\": 1.025, \"al\": 0.0, \"su\": 0.0, \"rbc\": \"normal\", \"pc\": \"normal\", \"pcc\": \"notpresent\", \"ba\": \"notpresent\", \"bgr\": 85.0, \"bu\": 16.0, \"sc\": 1.1, \"sod\": 142.0, \"pot\": 4.1, \"hemo\": 15.6, \"pcv\": 44.0, \"wbcc\": 5800.0, \"rbcc\": 6.3, \"htn\": \"no\", \"dm\": \"no\", \"cad\": \"no\", \"appet\": \"good\", \"pe\": \"no\", \"ane\": \"no\", \"class\": \"notckd\"}, {\"age\": 57.0, \"bp\": 80.0, \"sg\": 1.02, \"al\": 0.0, \"su\": 0.0, \"rbc\": \"normal\", \"pc\": \"normal\", \"pcc\": \"notpresent\", \"ba\": \"notpresent\", \"bgr\": 133.0, \"bu\": 48.0, \"sc\": 1.2, \"sod\": 147.0, \"pot\": 4.3, \"hemo\": 14.8, \"pcv\": 46.0, \"wbcc\": 6600.0, \"rbcc\": 5.5, \"htn\": \"no\", \"dm\": \"no\", \"cad\": \"no\", \"appet\": \"good\", \"pe\": \"no\", \"ane\": \"no\", \"class\": \"notckd\"}, {\"age\": 43.0, \"bp\": 60.0, \"sg\": 1.025, \"al\": 0.0, \"su\": 0.0, \"rbc\": \"normal\", \"pc\": \"normal\", \"pcc\": \"notpresent\", \"ba\": \"notpresent\", \"bgr\": 117.0, \"bu\": 45.0, \"sc\": 0.7, \"sod\": 141.0, \"pot\": 4.4, \"hemo\": 13.0, \"pcv\": 54.0, \"wbcc\": 7400.0, \"rbcc\": 5.4, \"htn\": \"no\", \"dm\": \"no\", \"cad\": \"no\", \"appet\": \"good\", \"pe\": \"no\", \"ane\": \"no\", \"class\": \"notckd\"}, {\"age\": 50.0, \"bp\": 80.0, \"sg\": 1.02, \"al\": 0.0, \"su\": 0.0, \"rbc\": \"normal\", \"pc\": \"normal\", \"pcc\": \"notpresent\", \"ba\": \"notpresent\", \"bgr\": 137.0, \"bu\": 46.0, \"sc\": 0.8, \"sod\": 139.0, \"pot\": 5.0, \"hemo\": 14.1, \"pcv\": 45.0, \"wbcc\": 9500.0, \"rbcc\": 4.6, \"htn\": \"no\", \"dm\": \"no\", \"cad\": \"no\", \"appet\": \"good\", \"pe\": \"no\", \"ane\": \"no\", \"class\": \"notckd\"}, {\"age\": 55.0, \"bp\": 80.0, \"sg\": 1.02, \"al\": 0.0, \"su\": 0.0, \"rbc\": \"normal\", \"pc\": \"normal\", \"pcc\": \"notpresent\", \"ba\": \"notpresent\", \"bgr\": 140.0, \"bu\": 49.0, \"sc\": 0.5, \"sod\": 150.0, \"pot\": 4.9, \"hemo\": 15.7, \"pcv\": 47.0, \"wbcc\": 6700.0, \"rbcc\": 4.9, \"htn\": \"no\", \"dm\": \"no\", \"cad\": \"no\", \"appet\": \"good\", \"pe\": \"no\", \"ane\": \"no\", \"class\": \"notckd\"}, {\"age\": 42.0, \"bp\": 70.0, \"sg\": 1.025, \"al\": 0.0, \"su\": 0.0, \"rbc\": \"normal\", \"pc\": \"normal\", \"pcc\": \"notpresent\", \"ba\": \"notpresent\", \"bgr\": 75.0, \"bu\": 31.0, \"sc\": 1.2, \"sod\": 141.0, \"pot\": 3.5, \"hemo\": 16.5, \"pcv\": 54.0, \"wbcc\": 7800.0, \"rbcc\": 6.2, \"htn\": \"no\", \"dm\": \"no\", \"cad\": \"no\", \"appet\": \"good\", \"pe\": \"no\", \"ane\": \"no\", \"class\": \"notckd\"}, {\"age\": 12.0, \"bp\": 80.0, \"sg\": 1.02, \"al\": 0.0, \"su\": 0.0, \"rbc\": \"normal\", \"pc\": \"normal\", \"pcc\": \"notpresent\", \"ba\": \"notpresent\", \"bgr\": 100.0, \"bu\": 26.0, \"sc\": 0.6, \"sod\": 137.0, \"pot\": 4.4, \"hemo\": 15.8, \"pcv\": 49.0, \"wbcc\": 6600.0, \"rbcc\": 5.4, \"htn\": \"no\", \"dm\": \"no\", \"cad\": \"no\", \"appet\": \"good\", \"pe\": \"no\", \"ane\": \"no\", \"class\": \"notckd\"}, {\"age\": 17.0, \"bp\": 60.0, \"sg\": 1.025, \"al\": 0.0, \"su\": 0.0, \"rbc\": \"normal\", \"pc\": \"normal\", \"pcc\": \"notpresent\", \"ba\": \"notpresent\", \"bgr\": 114.0, \"bu\": 50.0, \"sc\": 1.0, \"sod\": 135.0, \"pot\": 4.9, \"hemo\": 14.2, \"pcv\": 51.0, \"wbcc\": 7200.0, \"rbcc\": 5.9, \"htn\": \"no\", \"dm\": \"no\", \"cad\": \"no\", \"appet\": \"good\", \"pe\": \"no\", \"ane\": \"no\", \"class\": \"notckd\"}, {\"age\": 58.0, \"bp\": 80.0, \"sg\": 1.025, \"al\": 0.0, \"su\": 0.0, \"rbc\": \"normal\", \"pc\": \"normal\", \"pcc\": \"notpresent\", \"ba\": \"notpresent\", \"bgr\": 131.0, \"bu\": 18.0, \"sc\": 1.1, \"sod\": 141.0, \"pot\": 3.5, \"hemo\": 15.8, \"pcv\": 53.0, \"wbcc\": 6800.0, \"rbcc\": 6.1, \"htn\": \"no\", \"dm\": \"no\", \"cad\": \"no\", \"appet\": \"good\", \"pe\": \"no\", \"ane\": \"no\", \"class\": \"notckd\"}]}}, {\"mode\": \"vega-lite\"});\n",
       "</script>"
      ],
      "text/plain": [
       "alt.Chart(...)"
      ]
     },
     "execution_count": 32,
     "metadata": {},
     "output_type": "execute_result"
    }
   ],
   "source": [
    "alt.Chart(data_clean, title = 'Chronic kidney disease compared along age and hemoglobin' ).mark_point().encode(\n",
    "    x='age:Q',\n",
    "    y='hemo:Q',\n",
    "    color='class:N',\n",
    "    tooltip=['Name:N', 'url:N']\n",
    ")"
   ]
  },
  {
   "cell_type": "markdown",
   "metadata": {},
   "source": [
    "While the first graph that just compared the features of `age` and `hemo` didn't provided us with any information, when we add the target feature `class` which tells us whether or not someone does have chronic kidney disease, we can see that those with approximately 14gms and above in hemoglobin don't have chronic kidney disease but it also shows that the `age` feature doesn't have an effect on both the other features.\n",
    "\n",
    "Now we can try the graph of `hemo` vs `pcv` where there seems to be a strong correlation of the two but is there a correlation with the target feature.\n"
   ]
  },
  {
   "cell_type": "code",
   "execution_count": 33,
   "metadata": {
    "scrolled": true
   },
   "outputs": [
    {
     "data": {
      "text/html": [
       "\n",
       "<div id=\"altair-viz-bfadeef9834b4a84b6ab3fc58ce0fe6e\"></div>\n",
       "<script type=\"text/javascript\">\n",
       "  (function(spec, embedOpt){\n",
       "    let outputDiv = document.currentScript.previousElementSibling;\n",
       "    if (outputDiv.id !== \"altair-viz-bfadeef9834b4a84b6ab3fc58ce0fe6e\") {\n",
       "      outputDiv = document.getElementById(\"altair-viz-bfadeef9834b4a84b6ab3fc58ce0fe6e\");\n",
       "    }\n",
       "    const paths = {\n",
       "      \"vega\": \"https://cdn.jsdelivr.net/npm//vega@5?noext\",\n",
       "      \"vega-lib\": \"https://cdn.jsdelivr.net/npm//vega-lib?noext\",\n",
       "      \"vega-lite\": \"https://cdn.jsdelivr.net/npm//vega-lite@4.8.1?noext\",\n",
       "      \"vega-embed\": \"https://cdn.jsdelivr.net/npm//vega-embed@6?noext\",\n",
       "    };\n",
       "\n",
       "    function loadScript(lib) {\n",
       "      return new Promise(function(resolve, reject) {\n",
       "        var s = document.createElement('script');\n",
       "        s.src = paths[lib];\n",
       "        s.async = true;\n",
       "        s.onload = () => resolve(paths[lib]);\n",
       "        s.onerror = () => reject(`Error loading script: ${paths[lib]}`);\n",
       "        document.getElementsByTagName(\"head\")[0].appendChild(s);\n",
       "      });\n",
       "    }\n",
       "\n",
       "    function showError(err) {\n",
       "      outputDiv.innerHTML = `<div class=\"error\" style=\"color:red;\">${err}</div>`;\n",
       "      throw err;\n",
       "    }\n",
       "\n",
       "    function displayChart(vegaEmbed) {\n",
       "      vegaEmbed(outputDiv, spec, embedOpt)\n",
       "        .catch(err => showError(`Javascript Error: ${err.message}<br>This usually means there's a typo in your chart specification. See the javascript console for the full traceback.`));\n",
       "    }\n",
       "\n",
       "    if(typeof define === \"function\" && define.amd) {\n",
       "      requirejs.config({paths});\n",
       "      require([\"vega-embed\"], displayChart, err => showError(`Error loading script: ${err.message}`));\n",
       "    } else if (typeof vegaEmbed === \"function\") {\n",
       "      displayChart(vegaEmbed);\n",
       "    } else {\n",
       "      loadScript(\"vega\")\n",
       "        .then(() => loadScript(\"vega-lite\"))\n",
       "        .then(() => loadScript(\"vega-embed\"))\n",
       "        .catch(showError)\n",
       "        .then(() => displayChart(vegaEmbed));\n",
       "    }\n",
       "  })({\"config\": {\"view\": {\"continuousWidth\": 400, \"continuousHeight\": 300}}, \"data\": {\"name\": \"data-23ab5fbbb8473b892a91b29fa85a1421\"}, \"mark\": \"point\", \"encoding\": {\"color\": {\"type\": \"nominal\", \"field\": \"class\"}, \"tooltip\": [{\"type\": \"nominal\", \"field\": \"Name\"}, {\"type\": \"nominal\", \"field\": \"url\"}], \"x\": {\"type\": \"quantitative\", \"field\": \"pcv\"}, \"y\": {\"type\": \"quantitative\", \"field\": \"hemo\"}}, \"title\": \"Chronic kidney disease compared along packed cell volume and hemoglobin\", \"$schema\": \"https://vega.github.io/schema/vega-lite/v4.8.1.json\", \"datasets\": {\"data-23ab5fbbb8473b892a91b29fa85a1421\": [{\"age\": 62.0, \"bp\": 80.0, \"sg\": 1.01, \"al\": 2.0, \"su\": 3.0, \"rbc\": \"normal\", \"pc\": \"normal\", \"pcc\": \"notpresent\", \"ba\": \"notpresent\", \"bgr\": 423.0, \"bu\": 53.0, \"sc\": 1.8, \"sod\": 139.0, \"pot\": 4.5, \"hemo\": 9.6, \"pcv\": 31.0, \"wbcc\": 7500.0, \"rbcc\": 4.9, \"htn\": \"no\", \"dm\": \"yes\", \"cad\": \"no\", \"appet\": \"poor\", \"pe\": \"no\", \"ane\": \"yes\", \"class\": \"ckd\"}, {\"age\": 48.0, \"bp\": 70.0, \"sg\": 1.005, \"al\": 4.0, \"su\": 0.0, \"rbc\": \"normal\", \"pc\": \"abnormal\", \"pcc\": \"present\", \"ba\": \"notpresent\", \"bgr\": 117.0, \"bu\": 56.0, \"sc\": 3.8, \"sod\": 111.0, \"pot\": 2.5, \"hemo\": 11.2, \"pcv\": 32.0, \"wbcc\": 6700.0, \"rbcc\": 3.9, \"htn\": \"yes\", \"dm\": \"no\", \"cad\": \"no\", \"appet\": \"poor\", \"pe\": \"yes\", \"ane\": \"yes\", \"class\": \"ckd\"}, {\"age\": 51.0, \"bp\": 80.0, \"sg\": 1.01, \"al\": 2.0, \"su\": 0.0, \"rbc\": \"normal\", \"pc\": \"normal\", \"pcc\": \"notpresent\", \"ba\": \"notpresent\", \"bgr\": 106.0, \"bu\": 26.0, \"sc\": 1.4, \"sod\": 139.0, \"pot\": 4.5, \"hemo\": 11.6, \"pcv\": 35.0, \"wbcc\": 7300.0, \"rbcc\": 4.6, \"htn\": \"no\", \"dm\": \"no\", \"cad\": \"no\", \"appet\": \"good\", \"pe\": \"no\", \"ane\": \"no\", \"class\": \"ckd\"}, {\"age\": 24.0, \"bp\": 80.0, \"sg\": 1.015, \"al\": 2.0, \"su\": 4.0, \"rbc\": \"normal\", \"pc\": \"abnormal\", \"pcc\": \"notpresent\", \"ba\": \"notpresent\", \"bgr\": 410.0, \"bu\": 31.0, \"sc\": 1.1, \"sod\": 139.0, \"pot\": 4.5, \"hemo\": 12.4, \"pcv\": 44.0, \"wbcc\": 6900.0, \"rbcc\": 5.0, \"htn\": \"no\", \"dm\": \"yes\", \"cad\": \"no\", \"appet\": \"good\", \"pe\": \"yes\", \"ane\": \"no\", \"class\": \"ckd\"}, {\"age\": 52.0, \"bp\": 100.0, \"sg\": 1.015, \"al\": 3.0, \"su\": 0.0, \"rbc\": \"normal\", \"pc\": \"abnormal\", \"pcc\": \"present\", \"ba\": \"notpresent\", \"bgr\": 138.0, \"bu\": 60.0, \"sc\": 1.9, \"sod\": 139.0, \"pot\": 4.5, \"hemo\": 10.8, \"pcv\": 33.0, \"wbcc\": 9600.0, \"rbcc\": 4.0, \"htn\": \"yes\", \"dm\": \"yes\", \"cad\": \"no\", \"appet\": \"good\", \"pe\": \"no\", \"ane\": \"yes\", \"class\": \"ckd\"}, {\"age\": 53.0, \"bp\": 90.0, \"sg\": 1.02, \"al\": 2.0, \"su\": 0.0, \"rbc\": \"abnormal\", \"pc\": \"abnormal\", \"pcc\": \"present\", \"ba\": \"notpresent\", \"bgr\": 70.0, \"bu\": 107.0, \"sc\": 7.2, \"sod\": 114.0, \"pot\": 3.7, \"hemo\": 9.5, \"pcv\": 29.0, \"wbcc\": 12100.0, \"rbcc\": 3.7, \"htn\": \"yes\", \"dm\": \"yes\", \"cad\": \"no\", \"appet\": \"poor\", \"pe\": \"no\", \"ane\": \"yes\", \"class\": \"ckd\"}, {\"age\": 63.0, \"bp\": 70.0, \"sg\": 1.01, \"al\": 3.0, \"su\": 0.0, \"rbc\": \"abnormal\", \"pc\": \"abnormal\", \"pcc\": \"present\", \"ba\": \"notpresent\", \"bgr\": 380.0, \"bu\": 60.0, \"sc\": 2.7, \"sod\": 131.0, \"pot\": 4.2, \"hemo\": 10.8, \"pcv\": 32.0, \"wbcc\": 4500.0, \"rbcc\": 3.8, \"htn\": \"yes\", \"dm\": \"yes\", \"cad\": \"no\", \"appet\": \"poor\", \"pe\": \"yes\", \"ane\": \"no\", \"class\": \"ckd\"}, {\"age\": 68.0, \"bp\": 80.0, \"sg\": 1.01, \"al\": 3.0, \"su\": 2.0, \"rbc\": \"normal\", \"pc\": \"abnormal\", \"pcc\": \"present\", \"ba\": \"present\", \"bgr\": 157.0, \"bu\": 90.0, \"sc\": 4.1, \"sod\": 130.0, \"pot\": 6.4, \"hemo\": 5.6, \"pcv\": 16.0, \"wbcc\": 11000.0, \"rbcc\": 2.6, \"htn\": \"yes\", \"dm\": \"yes\", \"cad\": \"yes\", \"appet\": \"poor\", \"pe\": \"yes\", \"ane\": \"no\", \"class\": \"ckd\"}, {\"age\": 61.0, \"bp\": 80.0, \"sg\": 1.015, \"al\": 2.0, \"su\": 0.0, \"rbc\": \"abnormal\", \"pc\": \"abnormal\", \"pcc\": \"notpresent\", \"ba\": \"notpresent\", \"bgr\": 173.0, \"bu\": 148.0, \"sc\": 3.9, \"sod\": 135.0, \"pot\": 5.2, \"hemo\": 7.7, \"pcv\": 24.0, \"wbcc\": 9200.0, \"rbcc\": 3.2, \"htn\": \"yes\", \"dm\": \"yes\", \"cad\": \"yes\", \"appet\": \"poor\", \"pe\": \"yes\", \"ane\": \"yes\", \"class\": \"ckd\"}, {\"age\": 48.0, \"bp\": 80.0, \"sg\": 1.025, \"al\": 4.0, \"su\": 0.0, \"rbc\": \"normal\", \"pc\": \"abnormal\", \"pcc\": \"notpresent\", \"ba\": \"notpresent\", \"bgr\": 95.0, \"bu\": 163.0, \"sc\": 7.7, \"sod\": 136.0, \"pot\": 3.8, \"hemo\": 9.8, \"pcv\": 32.0, \"wbcc\": 6900.0, \"rbcc\": 3.4, \"htn\": \"yes\", \"dm\": \"no\", \"cad\": \"no\", \"appet\": \"good\", \"pe\": \"no\", \"ane\": \"yes\", \"class\": \"ckd\"}, {\"age\": 42.0, \"bp\": 100.0, \"sg\": 1.015, \"al\": 4.0, \"su\": 0.0, \"rbc\": \"normal\", \"pc\": \"abnormal\", \"pcc\": \"notpresent\", \"ba\": \"present\", \"bgr\": 119.0, \"bu\": 50.0, \"sc\": 1.4, \"sod\": 129.0, \"pot\": 4.0, \"hemo\": 11.1, \"pcv\": 39.0, \"wbcc\": 8300.0, \"rbcc\": 4.6, \"htn\": \"yes\", \"dm\": \"no\", \"cad\": \"no\", \"appet\": \"poor\", \"pe\": \"no\", \"ane\": \"no\", \"class\": \"ckd\"}, {\"age\": 69.0, \"bp\": 70.0, \"sg\": 1.01, \"al\": 3.0, \"su\": 4.0, \"rbc\": \"normal\", \"pc\": \"abnormal\", \"pcc\": \"notpresent\", \"ba\": \"notpresent\", \"bgr\": 264.0, \"bu\": 87.0, \"sc\": 2.7, \"sod\": 130.0, \"pot\": 4.0, \"hemo\": 12.5, \"pcv\": 37.0, \"wbcc\": 9600.0, \"rbcc\": 4.1, \"htn\": \"yes\", \"dm\": \"yes\", \"cad\": \"yes\", \"appet\": \"good\", \"pe\": \"yes\", \"ane\": \"no\", \"class\": \"ckd\"}, {\"age\": 68.0, \"bp\": 70.0, \"sg\": 1.005, \"al\": 1.0, \"su\": 0.0, \"rbc\": \"abnormal\", \"pc\": \"abnormal\", \"pcc\": \"present\", \"ba\": \"notpresent\", \"bgr\": 119.0, \"bu\": 28.0, \"sc\": 1.4, \"sod\": 139.0, \"pot\": 4.5, \"hemo\": 12.9, \"pcv\": 38.0, \"wbcc\": 7900.0, \"rbcc\": 4.9, \"htn\": \"no\", \"dm\": \"no\", \"cad\": \"yes\", \"appet\": \"good\", \"pe\": \"no\", \"ane\": \"no\", \"class\": \"ckd\"}, {\"age\": 60.0, \"bp\": 100.0, \"sg\": 1.02, \"al\": 2.0, \"su\": 0.0, \"rbc\": \"abnormal\", \"pc\": \"abnormal\", \"pcc\": \"notpresent\", \"ba\": \"notpresent\", \"bgr\": 140.0, \"bu\": 55.0, \"sc\": 2.5, \"sod\": 139.0, \"pot\": 4.5, \"hemo\": 10.1, \"pcv\": 29.0, \"wbcc\": 7900.0, \"rbcc\": 4.9, \"htn\": \"yes\", \"dm\": \"no\", \"cad\": \"no\", \"appet\": \"poor\", \"pe\": \"no\", \"ane\": \"no\", \"class\": \"ckd\"}, {\"age\": 70.0, \"bp\": 70.0, \"sg\": 1.01, \"al\": 1.0, \"su\": 0.0, \"rbc\": \"normal\", \"pc\": \"normal\", \"pcc\": \"present\", \"ba\": \"present\", \"bgr\": 171.0, \"bu\": 153.0, \"sc\": 5.2, \"sod\": 139.0, \"pot\": 4.5, \"hemo\": 13.85, \"pcv\": 42.0, \"wbcc\": 7900.0, \"rbcc\": 4.9, \"htn\": \"no\", \"dm\": \"yes\", \"cad\": \"no\", \"appet\": \"poor\", \"pe\": \"no\", \"ane\": \"no\", \"class\": \"ckd\"}, {\"age\": 65.0, \"bp\": 90.0, \"sg\": 1.02, \"al\": 2.0, \"su\": 1.0, \"rbc\": \"abnormal\", \"pc\": \"normal\", \"pcc\": \"notpresent\", \"ba\": \"notpresent\", \"bgr\": 270.0, \"bu\": 39.0, \"sc\": 2.0, \"sod\": 139.0, \"pot\": 4.5, \"hemo\": 12.0, \"pcv\": 36.0, \"wbcc\": 9800.0, \"rbcc\": 4.9, \"htn\": \"yes\", \"dm\": \"yes\", \"cad\": \"no\", \"appet\": \"poor\", \"pe\": \"no\", \"ane\": \"yes\", \"class\": \"ckd\"}, {\"age\": 76.0, \"bp\": 70.0, \"sg\": 1.015, \"al\": 1.0, \"su\": 0.0, \"rbc\": \"normal\", \"pc\": \"normal\", \"pcc\": \"notpresent\", \"ba\": \"notpresent\", \"bgr\": 92.0, \"bu\": 29.0, \"sc\": 1.8, \"sod\": 133.0, \"pot\": 3.9, \"hemo\": 10.3, \"pcv\": 32.0, \"wbcc\": 7900.0, \"rbcc\": 4.9, \"htn\": \"yes\", \"dm\": \"no\", \"cad\": \"no\", \"appet\": \"good\", \"pe\": \"no\", \"ane\": \"no\", \"class\": \"ckd\"}, {\"age\": 69.0, \"bp\": 80.0, \"sg\": 1.02, \"al\": 3.0, \"su\": 0.0, \"rbc\": \"abnormal\", \"pc\": \"normal\", \"pcc\": \"notpresent\", \"ba\": \"notpresent\", \"bgr\": 119.0, \"bu\": 103.0, \"sc\": 4.1, \"sod\": 132.0, \"pot\": 5.9, \"hemo\": 12.5, \"pcv\": 42.0, \"wbcc\": 7900.0, \"rbcc\": 4.9, \"htn\": \"yes\", \"dm\": \"no\", \"cad\": \"no\", \"appet\": \"good\", \"pe\": \"no\", \"ane\": \"no\", \"class\": \"ckd\"}, {\"age\": 82.0, \"bp\": 80.0, \"sg\": 1.01, \"al\": 2.0, \"su\": 2.0, \"rbc\": \"normal\", \"pc\": \"normal\", \"pcc\": \"notpresent\", \"ba\": \"notpresent\", \"bgr\": 140.0, \"bu\": 70.0, \"sc\": 3.4, \"sod\": 136.0, \"pot\": 4.2, \"hemo\": 13.0, \"pcv\": 40.0, \"wbcc\": 9800.0, \"rbcc\": 4.2, \"htn\": \"yes\", \"dm\": \"yes\", \"cad\": \"no\", \"appet\": \"good\", \"pe\": \"no\", \"ane\": \"no\", \"class\": \"ckd\"}, {\"age\": 46.0, \"bp\": 90.0, \"sg\": 1.01, \"al\": 2.0, \"su\": 0.0, \"rbc\": \"normal\", \"pc\": \"abnormal\", \"pcc\": \"notpresent\", \"ba\": \"notpresent\", \"bgr\": 99.0, \"bu\": 80.0, \"sc\": 2.1, \"sod\": 139.0, \"pot\": 4.5, \"hemo\": 11.1, \"pcv\": 32.0, \"wbcc\": 9100.0, \"rbcc\": 4.1, \"htn\": \"yes\", \"dm\": \"no\", \"cad\": \"no\", \"appet\": \"good\", \"pe\": \"no\", \"ane\": \"no\", \"class\": \"ckd\"}, {\"age\": 35.0, \"bp\": 80.0, \"sg\": 1.01, \"al\": 1.0, \"su\": 0.0, \"rbc\": \"abnormal\", \"pc\": \"normal\", \"pcc\": \"notpresent\", \"ba\": \"notpresent\", \"bgr\": 79.0, \"bu\": 202.0, \"sc\": 10.8, \"sod\": 134.0, \"pot\": 3.4, \"hemo\": 7.9, \"pcv\": 24.0, \"wbcc\": 7900.0, \"rbcc\": 3.1, \"htn\": \"no\", \"dm\": \"yes\", \"cad\": \"no\", \"appet\": \"good\", \"pe\": \"no\", \"ane\": \"no\", \"class\": \"ckd\"}, {\"age\": 54.0, \"bp\": 80.0, \"sg\": 1.01, \"al\": 3.0, \"su\": 0.0, \"rbc\": \"abnormal\", \"pc\": \"abnormal\", \"pcc\": \"notpresent\", \"ba\": \"notpresent\", \"bgr\": 207.0, \"bu\": 77.0, \"sc\": 6.3, \"sod\": 134.0, \"pot\": 4.8, \"hemo\": 9.7, \"pcv\": 28.0, \"wbcc\": 7900.0, \"rbcc\": 4.9, \"htn\": \"yes\", \"dm\": \"yes\", \"cad\": \"no\", \"appet\": \"poor\", \"pe\": \"yes\", \"ane\": \"no\", \"class\": \"ckd\"}, {\"age\": 73.0, \"bp\": 70.0, \"sg\": 1.005, \"al\": 0.0, \"su\": 0.0, \"rbc\": \"normal\", \"pc\": \"normal\", \"pcc\": \"notpresent\", \"ba\": \"notpresent\", \"bgr\": 70.0, \"bu\": 32.0, \"sc\": 0.9, \"sod\": 125.0, \"pot\": 4.0, \"hemo\": 10.0, \"pcv\": 29.0, \"wbcc\": 18900.0, \"rbcc\": 3.5, \"htn\": \"yes\", \"dm\": \"yes\", \"cad\": \"no\", \"appet\": \"good\", \"pe\": \"yes\", \"ane\": \"no\", \"class\": \"ckd\"}, {\"age\": 60.0, \"bp\": 70.0, \"sg\": 1.01, \"al\": 2.0, \"su\": 0.0, \"rbc\": \"normal\", \"pc\": \"abnormal\", \"pcc\": \"present\", \"ba\": \"notpresent\", \"bgr\": 144.0, \"bu\": 72.0, \"sc\": 3.0, \"sod\": 139.0, \"pot\": 4.5, \"hemo\": 9.7, \"pcv\": 29.0, \"wbcc\": 21600.0, \"rbcc\": 3.5, \"htn\": \"yes\", \"dm\": \"yes\", \"cad\": \"no\", \"appet\": \"poor\", \"pe\": \"no\", \"ane\": \"yes\", \"class\": \"ckd\"}, {\"age\": 63.0, \"bp\": 80.0, \"sg\": 1.01, \"al\": 2.0, \"su\": 2.0, \"rbc\": \"normal\", \"pc\": \"normal\", \"pcc\": \"notpresent\", \"ba\": \"notpresent\", \"bgr\": 119.0, \"bu\": 40.0, \"sc\": 3.4, \"sod\": 136.0, \"pot\": 4.2, \"hemo\": 13.0, \"pcv\": 40.0, \"wbcc\": 9800.0, \"rbcc\": 4.2, \"htn\": \"yes\", \"dm\": \"no\", \"cad\": \"yes\", \"appet\": \"good\", \"pe\": \"no\", \"ane\": \"no\", \"class\": \"ckd\"}, {\"age\": 35.0, \"bp\": 80.0, \"sg\": 1.005, \"al\": 3.0, \"su\": 0.0, \"rbc\": \"abnormal\", \"pc\": \"normal\", \"pcc\": \"notpresent\", \"ba\": \"notpresent\", \"bgr\": 119.0, \"bu\": 40.0, \"sc\": 1.15, \"sod\": 139.0, \"pot\": 4.5, \"hemo\": 9.5, \"pcv\": 28.0, \"wbcc\": 7900.0, \"rbcc\": 4.9, \"htn\": \"no\", \"dm\": \"no\", \"cad\": \"no\", \"appet\": \"good\", \"pe\": \"yes\", \"ane\": \"no\", \"class\": \"ckd\"}, {\"age\": 76.0, \"bp\": 70.0, \"sg\": 1.015, \"al\": 3.0, \"su\": 4.0, \"rbc\": \"normal\", \"pc\": \"abnormal\", \"pcc\": \"present\", \"ba\": \"notpresent\", \"bgr\": 119.0, \"bu\": 164.0, \"sc\": 9.7, \"sod\": 131.0, \"pot\": 4.4, \"hemo\": 10.2, \"pcv\": 30.0, \"wbcc\": 11300.0, \"rbcc\": 3.4, \"htn\": \"yes\", \"dm\": \"yes\", \"cad\": \"yes\", \"appet\": \"poor\", \"pe\": \"yes\", \"ane\": \"no\", \"class\": \"ckd\"}, {\"age\": 73.0, \"bp\": 80.0, \"sg\": 1.02, \"al\": 2.0, \"su\": 0.0, \"rbc\": \"abnormal\", \"pc\": \"abnormal\", \"pcc\": \"notpresent\", \"ba\": \"notpresent\", \"bgr\": 253.0, \"bu\": 142.0, \"sc\": 4.6, \"sod\": 138.0, \"pot\": 5.8, \"hemo\": 10.5, \"pcv\": 33.0, \"wbcc\": 7200.0, \"rbcc\": 4.3, \"htn\": \"yes\", \"dm\": \"yes\", \"cad\": \"yes\", \"appet\": \"good\", \"pe\": \"no\", \"ane\": \"no\", \"class\": \"ckd\"}, {\"age\": 67.0, \"bp\": 80.0, \"sg\": 1.01, \"al\": 1.0, \"su\": 3.0, \"rbc\": \"normal\", \"pc\": \"abnormal\", \"pcc\": \"notpresent\", \"ba\": \"notpresent\", \"bgr\": 182.0, \"bu\": 391.0, \"sc\": 32.0, \"sod\": 163.0, \"pot\": 39.0, \"hemo\": 13.85, \"pcv\": 42.0, \"wbcc\": 7900.0, \"rbcc\": 4.9, \"htn\": \"no\", \"dm\": \"no\", \"cad\": \"no\", \"appet\": \"good\", \"pe\": \"yes\", \"ane\": \"no\", \"class\": \"ckd\"}, {\"age\": 46.0, \"bp\": 70.0, \"sg\": 1.015, \"al\": 1.0, \"su\": 0.0, \"rbc\": \"abnormal\", \"pc\": \"normal\", \"pcc\": \"notpresent\", \"ba\": \"notpresent\", \"bgr\": 150.0, \"bu\": 111.0, \"sc\": 6.1, \"sod\": 131.0, \"pot\": 3.7, \"hemo\": 7.5, \"pcv\": 27.0, \"wbcc\": 7900.0, \"rbcc\": 4.9, \"htn\": \"no\", \"dm\": \"no\", \"cad\": \"no\", \"appet\": \"good\", \"pe\": \"no\", \"ane\": \"yes\", \"class\": \"ckd\"}, {\"age\": 67.0, \"bp\": 70.0, \"sg\": 1.02, \"al\": 2.0, \"su\": 0.0, \"rbc\": \"abnormal\", \"pc\": \"normal\", \"pcc\": \"notpresent\", \"ba\": \"notpresent\", \"bgr\": 150.0, \"bu\": 55.0, \"sc\": 1.6, \"sod\": 131.0, \"pot\": 4.8, \"hemo\": 13.85, \"pcv\": 42.0, \"wbcc\": 7900.0, \"rbcc\": 4.9, \"htn\": \"yes\", \"dm\": \"yes\", \"cad\": \"no\", \"appet\": \"good\", \"pe\": \"yes\", \"ane\": \"no\", \"class\": \"ckd\"}, {\"age\": 45.0, \"bp\": 80.0, \"sg\": 1.02, \"al\": 3.0, \"su\": 0.0, \"rbc\": \"normal\", \"pc\": \"abnormal\", \"pcc\": \"notpresent\", \"ba\": \"notpresent\", \"bgr\": 425.0, \"bu\": 40.0, \"sc\": 1.15, \"sod\": 139.0, \"pot\": 4.5, \"hemo\": 13.85, \"pcv\": 42.0, \"wbcc\": 7900.0, \"rbcc\": 4.9, \"htn\": \"no\", \"dm\": \"no\", \"cad\": \"no\", \"appet\": \"poor\", \"pe\": \"no\", \"ane\": \"no\", \"class\": \"ckd\"}, {\"age\": 46.0, \"bp\": 60.0, \"sg\": 1.01, \"al\": 1.0, \"su\": 0.0, \"rbc\": \"normal\", \"pc\": \"normal\", \"pcc\": \"notpresent\", \"ba\": \"notpresent\", \"bgr\": 163.0, \"bu\": 92.0, \"sc\": 3.3, \"sod\": 141.0, \"pot\": 4.0, \"hemo\": 9.8, \"pcv\": 28.0, \"wbcc\": 14600.0, \"rbcc\": 3.2, \"htn\": \"yes\", \"dm\": \"yes\", \"cad\": \"no\", \"appet\": \"good\", \"pe\": \"no\", \"ane\": \"no\", \"class\": \"ckd\"}, {\"age\": 50.0, \"bp\": 100.0, \"sg\": 1.015, \"al\": 2.0, \"su\": 0.0, \"rbc\": \"abnormal\", \"pc\": \"abnormal\", \"pcc\": \"notpresent\", \"ba\": \"notpresent\", \"bgr\": 129.0, \"bu\": 107.0, \"sc\": 6.7, \"sod\": 132.0, \"pot\": 4.4, \"hemo\": 4.8, \"pcv\": 14.0, \"wbcc\": 6300.0, \"rbcc\": 4.9, \"htn\": \"yes\", \"dm\": \"no\", \"cad\": \"no\", \"appet\": \"good\", \"pe\": \"yes\", \"ane\": \"yes\", \"class\": \"ckd\"}, {\"age\": 56.0, \"bp\": 90.0, \"sg\": 1.015, \"al\": 2.0, \"su\": 0.0, \"rbc\": \"abnormal\", \"pc\": \"abnormal\", \"pcc\": \"notpresent\", \"ba\": \"notpresent\", \"bgr\": 129.0, \"bu\": 107.0, \"sc\": 6.7, \"sod\": 131.0, \"pot\": 4.8, \"hemo\": 9.1, \"pcv\": 29.0, \"wbcc\": 6400.0, \"rbcc\": 3.4, \"htn\": \"yes\", \"dm\": \"no\", \"cad\": \"no\", \"appet\": \"good\", \"pe\": \"no\", \"ane\": \"no\", \"class\": \"ckd\"}, {\"age\": 48.0, \"bp\": 80.0, \"sg\": 1.005, \"al\": 4.0, \"su\": 0.0, \"rbc\": \"abnormal\", \"pc\": \"abnormal\", \"pcc\": \"notpresent\", \"ba\": \"present\", \"bgr\": 133.0, \"bu\": 139.0, \"sc\": 8.5, \"sod\": 132.0, \"pot\": 5.5, \"hemo\": 10.3, \"pcv\": 36.0, \"wbcc\": 6200.0, \"rbcc\": 4.0, \"htn\": \"no\", \"dm\": \"yes\", \"cad\": \"no\", \"appet\": \"good\", \"pe\": \"yes\", \"ane\": \"no\", \"class\": \"ckd\"}, {\"age\": 48.0, \"bp\": 70.0, \"sg\": 1.015, \"al\": 1.0, \"su\": 0.0, \"rbc\": \"normal\", \"pc\": \"normal\", \"pcc\": \"notpresent\", \"ba\": \"notpresent\", \"bgr\": 127.0, \"bu\": 19.0, \"sc\": 1.0, \"sod\": 134.0, \"pot\": 3.6, \"hemo\": 13.85, \"pcv\": 42.0, \"wbcc\": 7900.0, \"rbcc\": 4.9, \"htn\": \"yes\", \"dm\": \"yes\", \"cad\": \"no\", \"appet\": \"good\", \"pe\": \"no\", \"ane\": \"no\", \"class\": \"ckd\"}, {\"age\": 59.0, \"bp\": 70.0, \"sg\": 1.01, \"al\": 3.0, \"su\": 0.0, \"rbc\": \"normal\", \"pc\": \"abnormal\", \"pcc\": \"notpresent\", \"ba\": \"notpresent\", \"bgr\": 76.0, \"bu\": 186.0, \"sc\": 15.0, \"sod\": 135.0, \"pot\": 7.6, \"hemo\": 7.1, \"pcv\": 22.0, \"wbcc\": 3800.0, \"rbcc\": 2.1, \"htn\": \"yes\", \"dm\": \"no\", \"cad\": \"no\", \"appet\": \"poor\", \"pe\": \"yes\", \"ane\": \"yes\", \"class\": \"ckd\"}, {\"age\": 70.0, \"bp\": 100.0, \"sg\": 1.005, \"al\": 1.0, \"su\": 0.0, \"rbc\": \"normal\", \"pc\": \"abnormal\", \"pcc\": \"present\", \"ba\": \"notpresent\", \"bgr\": 169.0, \"bu\": 47.0, \"sc\": 2.9, \"sod\": 139.0, \"pot\": 4.5, \"hemo\": 11.1, \"pcv\": 32.0, \"wbcc\": 5800.0, \"rbcc\": 5.0, \"htn\": \"yes\", \"dm\": \"yes\", \"cad\": \"no\", \"appet\": \"poor\", \"pe\": \"no\", \"ane\": \"no\", \"class\": \"ckd\"}, {\"age\": 63.0, \"bp\": 100.0, \"sg\": 1.01, \"al\": 2.0, \"su\": 2.0, \"rbc\": \"normal\", \"pc\": \"normal\", \"pcc\": \"notpresent\", \"ba\": \"present\", \"bgr\": 280.0, \"bu\": 35.0, \"sc\": 3.2, \"sod\": 143.0, \"pot\": 3.5, \"hemo\": 13.0, \"pcv\": 40.0, \"wbcc\": 9800.0, \"rbcc\": 4.2, \"htn\": \"yes\", \"dm\": \"no\", \"cad\": \"yes\", \"appet\": \"good\", \"pe\": \"no\", \"ane\": \"no\", \"class\": \"ckd\"}, {\"age\": 56.0, \"bp\": 70.0, \"sg\": 1.015, \"al\": 4.0, \"su\": 1.0, \"rbc\": \"abnormal\", \"pc\": \"normal\", \"pcc\": \"notpresent\", \"ba\": \"notpresent\", \"bgr\": 210.0, \"bu\": 26.0, \"sc\": 1.7, \"sod\": 136.0, \"pot\": 3.8, \"hemo\": 16.1, \"pcv\": 52.0, \"wbcc\": 12500.0, \"rbcc\": 5.6, \"htn\": \"no\", \"dm\": \"no\", \"cad\": \"no\", \"appet\": \"good\", \"pe\": \"no\", \"ane\": \"no\", \"class\": \"ckd\"}, {\"age\": 71.0, \"bp\": 70.0, \"sg\": 1.01, \"al\": 3.0, \"su\": 0.0, \"rbc\": \"normal\", \"pc\": \"abnormal\", \"pcc\": \"present\", \"ba\": \"present\", \"bgr\": 219.0, \"bu\": 82.0, \"sc\": 3.6, \"sod\": 133.0, \"pot\": 4.4, \"hemo\": 10.4, \"pcv\": 33.0, \"wbcc\": 5600.0, \"rbcc\": 3.6, \"htn\": \"yes\", \"dm\": \"yes\", \"cad\": \"yes\", \"appet\": \"good\", \"pe\": \"no\", \"ane\": \"no\", \"class\": \"ckd\"}, {\"age\": 73.0, \"bp\": 100.0, \"sg\": 1.01, \"al\": 3.0, \"su\": 2.0, \"rbc\": \"abnormal\", \"pc\": \"abnormal\", \"pcc\": \"present\", \"ba\": \"notpresent\", \"bgr\": 295.0, \"bu\": 90.0, \"sc\": 5.6, \"sod\": 140.0, \"pot\": 2.9, \"hemo\": 9.2, \"pcv\": 30.0, \"wbcc\": 7000.0, \"rbcc\": 3.2, \"htn\": \"yes\", \"dm\": \"yes\", \"cad\": \"yes\", \"appet\": \"poor\", \"pe\": \"no\", \"ane\": \"no\", \"class\": \"ckd\"}, {\"age\": 34.0, \"bp\": 70.0, \"sg\": 1.015, \"al\": 4.0, \"su\": 0.0, \"rbc\": \"abnormal\", \"pc\": \"abnormal\", \"pcc\": \"notpresent\", \"ba\": \"notpresent\", \"bgr\": 153.0, \"bu\": 22.0, \"sc\": 0.9, \"sod\": 133.0, \"pot\": 3.8, \"hemo\": 13.85, \"pcv\": 42.0, \"wbcc\": 7900.0, \"rbcc\": 4.9, \"htn\": \"no\", \"dm\": \"no\", \"cad\": \"no\", \"appet\": \"good\", \"pe\": \"yes\", \"ane\": \"no\", \"class\": \"ckd\"}, {\"age\": 76.0, \"bp\": 70.0, \"sg\": 1.015, \"al\": 2.0, \"su\": 0.0, \"rbc\": \"normal\", \"pc\": \"abnormal\", \"pcc\": \"present\", \"ba\": \"notpresent\", \"bgr\": 226.0, \"bu\": 217.0, \"sc\": 10.2, \"sod\": 139.0, \"pot\": 4.5, \"hemo\": 10.2, \"pcv\": 36.0, \"wbcc\": 12700.0, \"rbcc\": 4.2, \"htn\": \"yes\", \"dm\": \"no\", \"cad\": \"no\", \"appet\": \"poor\", \"pe\": \"yes\", \"ane\": \"yes\", \"class\": \"ckd\"}, {\"age\": 55.0, \"bp\": 100.0, \"sg\": 1.015, \"al\": 1.0, \"su\": 4.0, \"rbc\": \"normal\", \"pc\": \"normal\", \"pcc\": \"notpresent\", \"ba\": \"notpresent\", \"bgr\": 297.0, \"bu\": 53.0, \"sc\": 2.8, \"sod\": 139.0, \"pot\": 4.5, \"hemo\": 11.2, \"pcv\": 34.0, \"wbcc\": 13600.0, \"rbcc\": 4.4, \"htn\": \"yes\", \"dm\": \"yes\", \"cad\": \"no\", \"appet\": \"good\", \"pe\": \"no\", \"ane\": \"no\", \"class\": \"ckd\"}, {\"age\": 50.0, \"bp\": 60.0, \"sg\": 1.015, \"al\": 3.0, \"su\": 0.0, \"rbc\": \"abnormal\", \"pc\": \"abnormal\", \"pcc\": \"notpresent\", \"ba\": \"notpresent\", \"bgr\": 119.0, \"bu\": 34.0, \"sc\": 1.2, \"sod\": 139.0, \"pot\": 4.5, \"hemo\": 10.8, \"pcv\": 33.0, \"wbcc\": 7900.0, \"rbcc\": 4.9, \"htn\": \"no\", \"dm\": \"no\", \"cad\": \"no\", \"appet\": \"good\", \"pe\": \"no\", \"ane\": \"no\", \"class\": \"ckd\"}, {\"age\": 12.0, \"bp\": 60.0, \"sg\": 1.015, \"al\": 3.0, \"su\": 0.0, \"rbc\": \"abnormal\", \"pc\": \"abnormal\", \"pcc\": \"present\", \"ba\": \"notpresent\", \"bgr\": 119.0, \"bu\": 51.0, \"sc\": 1.8, \"sod\": 139.0, \"pot\": 4.5, \"hemo\": 12.1, \"pcv\": 42.0, \"wbcc\": 10300.0, \"rbcc\": 4.9, \"htn\": \"no\", \"dm\": \"no\", \"cad\": \"no\", \"appet\": \"good\", \"pe\": \"no\", \"ane\": \"no\", \"class\": \"ckd\"}, {\"age\": 50.0, \"bp\": 70.0, \"sg\": 1.015, \"al\": 4.0, \"su\": 0.0, \"rbc\": \"abnormal\", \"pc\": \"normal\", \"pcc\": \"notpresent\", \"ba\": \"notpresent\", \"bgr\": 104.0, \"bu\": 16.0, \"sc\": 0.5, \"sod\": 139.0, \"pot\": 4.5, \"hemo\": 13.85, \"pcv\": 42.0, \"wbcc\": 7900.0, \"rbcc\": 4.9, \"htn\": \"no\", \"dm\": \"no\", \"cad\": \"no\", \"appet\": \"good\", \"pe\": \"yes\", \"ane\": \"no\", \"class\": \"ckd\"}, {\"age\": 71.0, \"bp\": 60.0, \"sg\": 1.015, \"al\": 4.0, \"su\": 0.0, \"rbc\": \"normal\", \"pc\": \"normal\", \"pcc\": \"notpresent\", \"ba\": \"notpresent\", \"bgr\": 118.0, \"bu\": 125.0, \"sc\": 5.3, \"sod\": 136.0, \"pot\": 4.9, \"hemo\": 11.4, \"pcv\": 35.0, \"wbcc\": 15200.0, \"rbcc\": 4.3, \"htn\": \"yes\", \"dm\": \"yes\", \"cad\": \"no\", \"appet\": \"poor\", \"pe\": \"yes\", \"ane\": \"no\", \"class\": \"ckd\"}, {\"age\": 52.0, \"bp\": 90.0, \"sg\": 1.015, \"al\": 4.0, \"su\": 3.0, \"rbc\": \"normal\", \"pc\": \"abnormal\", \"pcc\": \"notpresent\", \"ba\": \"notpresent\", \"bgr\": 224.0, \"bu\": 166.0, \"sc\": 5.6, \"sod\": 133.0, \"pot\": 47.0, \"hemo\": 8.1, \"pcv\": 23.0, \"wbcc\": 5000.0, \"rbcc\": 2.9, \"htn\": \"yes\", \"dm\": \"yes\", \"cad\": \"no\", \"appet\": \"good\", \"pe\": \"no\", \"ane\": \"yes\", \"class\": \"ckd\"}, {\"age\": 50.0, \"bp\": 90.0, \"sg\": 1.01, \"al\": 2.0, \"su\": 0.0, \"rbc\": \"normal\", \"pc\": \"abnormal\", \"pcc\": \"present\", \"ba\": \"present\", \"bgr\": 128.0, \"bu\": 208.0, \"sc\": 9.2, \"sod\": 134.0, \"pot\": 4.8, \"hemo\": 8.2, \"pcv\": 22.0, \"wbcc\": 16300.0, \"rbcc\": 2.7, \"htn\": \"no\", \"dm\": \"no\", \"cad\": \"no\", \"appet\": \"poor\", \"pe\": \"yes\", \"ane\": \"yes\", \"class\": \"ckd\"}, {\"age\": 50.0, \"bp\": 80.0, \"sg\": 1.02, \"al\": 0.0, \"su\": 0.0, \"rbc\": \"normal\", \"pc\": \"normal\", \"pcc\": \"notpresent\", \"ba\": \"notpresent\", \"bgr\": 219.0, \"bu\": 176.0, \"sc\": 13.8, \"sod\": 136.0, \"pot\": 4.5, \"hemo\": 8.6, \"pcv\": 24.0, \"wbcc\": 13200.0, \"rbcc\": 2.7, \"htn\": \"yes\", \"dm\": \"no\", \"cad\": \"no\", \"appet\": \"good\", \"pe\": \"yes\", \"ane\": \"yes\", \"class\": \"ckd\"}, {\"age\": 70.0, \"bp\": 100.0, \"sg\": 1.015, \"al\": 4.0, \"su\": 0.0, \"rbc\": \"normal\", \"pc\": \"normal\", \"pcc\": \"notpresent\", \"ba\": \"notpresent\", \"bgr\": 118.0, \"bu\": 125.0, \"sc\": 5.3, \"sod\": 136.0, \"pot\": 4.9, \"hemo\": 12.0, \"pcv\": 37.0, \"wbcc\": 8400.0, \"rbcc\": 8.0, \"htn\": \"yes\", \"dm\": \"no\", \"cad\": \"no\", \"appet\": \"good\", \"pe\": \"no\", \"ane\": \"no\", \"class\": \"ckd\"}, {\"age\": 47.0, \"bp\": 100.0, \"sg\": 1.01, \"al\": 0.0, \"su\": 0.0, \"rbc\": \"normal\", \"pc\": \"normal\", \"pcc\": \"notpresent\", \"ba\": \"notpresent\", \"bgr\": 122.0, \"bu\": 40.0, \"sc\": 16.9, \"sod\": 138.0, \"pot\": 5.2, \"hemo\": 10.8, \"pcv\": 33.0, \"wbcc\": 10200.0, \"rbcc\": 3.8, \"htn\": \"no\", \"dm\": \"yes\", \"cad\": \"no\", \"appet\": \"good\", \"pe\": \"no\", \"ane\": \"no\", \"class\": \"ckd\"}, {\"age\": 45.0, \"bp\": 60.0, \"sg\": 1.01, \"al\": 2.0, \"su\": 0.0, \"rbc\": \"normal\", \"pc\": \"abnormal\", \"pcc\": \"present\", \"ba\": \"notpresent\", \"bgr\": 268.0, \"bu\": 86.0, \"sc\": 4.0, \"sod\": 134.0, \"pot\": 5.1, \"hemo\": 10.0, \"pcv\": 29.0, \"wbcc\": 9200.0, \"rbcc\": 4.9, \"htn\": \"yes\", \"dm\": \"yes\", \"cad\": \"no\", \"appet\": \"good\", \"pe\": \"no\", \"ane\": \"no\", \"class\": \"ckd\"}, {\"age\": 67.0, \"bp\": 70.0, \"sg\": 1.01, \"al\": 1.0, \"su\": 0.0, \"rbc\": \"normal\", \"pc\": \"normal\", \"pcc\": \"notpresent\", \"ba\": \"notpresent\", \"bgr\": 119.0, \"bu\": 106.0, \"sc\": 6.0, \"sod\": 137.0, \"pot\": 4.9, \"hemo\": 6.1, \"pcv\": 19.0, \"wbcc\": 6500.0, \"rbcc\": 4.9, \"htn\": \"yes\", \"dm\": \"no\", \"cad\": \"no\", \"appet\": \"good\", \"pe\": \"no\", \"ane\": \"yes\", \"class\": \"ckd\"}, {\"age\": 41.0, \"bp\": 80.0, \"sg\": 1.015, \"al\": 1.0, \"su\": 4.0, \"rbc\": \"abnormal\", \"pc\": \"normal\", \"pcc\": \"notpresent\", \"ba\": \"notpresent\", \"bgr\": 210.0, \"bu\": 165.0, \"sc\": 18.0, \"sod\": 135.0, \"pot\": 4.7, \"hemo\": 13.85, \"pcv\": 42.0, \"wbcc\": 7900.0, \"rbcc\": 4.9, \"htn\": \"no\", \"dm\": \"yes\", \"cad\": \"no\", \"appet\": \"good\", \"pe\": \"no\", \"ane\": \"no\", \"class\": \"ckd\"}, {\"age\": 60.0, \"bp\": 90.0, \"sg\": 1.01, \"al\": 2.0, \"su\": 0.0, \"rbc\": \"abnormal\", \"pc\": \"normal\", \"pcc\": \"notpresent\", \"ba\": \"notpresent\", \"bgr\": 105.0, \"bu\": 53.0, \"sc\": 2.3, \"sod\": 136.0, \"pot\": 5.2, \"hemo\": 11.1, \"pcv\": 33.0, \"wbcc\": 10500.0, \"rbcc\": 4.1, \"htn\": \"no\", \"dm\": \"no\", \"cad\": \"no\", \"appet\": \"good\", \"pe\": \"no\", \"ane\": \"no\", \"class\": \"ckd\"}, {\"age\": 57.0, \"bp\": 90.0, \"sg\": 1.015, \"al\": 5.0, \"su\": 0.0, \"rbc\": \"abnormal\", \"pc\": \"abnormal\", \"pcc\": \"notpresent\", \"ba\": \"present\", \"bgr\": 119.0, \"bu\": 322.0, \"sc\": 13.0, \"sod\": 126.0, \"pot\": 4.8, \"hemo\": 8.0, \"pcv\": 24.0, \"wbcc\": 4200.0, \"rbcc\": 3.3, \"htn\": \"yes\", \"dm\": \"yes\", \"cad\": \"yes\", \"appet\": \"poor\", \"pe\": \"yes\", \"ane\": \"yes\", \"class\": \"ckd\"}, {\"age\": 53.0, \"bp\": 100.0, \"sg\": 1.01, \"al\": 1.0, \"su\": 3.0, \"rbc\": \"abnormal\", \"pc\": \"normal\", \"pcc\": \"notpresent\", \"ba\": \"notpresent\", \"bgr\": 213.0, \"bu\": 23.0, \"sc\": 1.0, \"sod\": 139.0, \"pot\": 4.0, \"hemo\": 13.85, \"pcv\": 42.0, \"wbcc\": 7900.0, \"rbcc\": 4.9, \"htn\": \"no\", \"dm\": \"yes\", \"cad\": \"no\", \"appet\": \"good\", \"pe\": \"no\", \"ane\": \"no\", \"class\": \"ckd\"}, {\"age\": 60.0, \"bp\": 60.0, \"sg\": 1.01, \"al\": 3.0, \"su\": 1.0, \"rbc\": \"normal\", \"pc\": \"abnormal\", \"pcc\": \"present\", \"ba\": \"notpresent\", \"bgr\": 288.0, \"bu\": 36.0, \"sc\": 1.7, \"sod\": 130.0, \"pot\": 3.0, \"hemo\": 7.9, \"pcv\": 25.0, \"wbcc\": 15200.0, \"rbcc\": 3.0, \"htn\": \"yes\", \"dm\": \"no\", \"cad\": \"no\", \"appet\": \"poor\", \"pe\": \"no\", \"ane\": \"yes\", \"class\": \"ckd\"}, {\"age\": 65.0, \"bp\": 70.0, \"sg\": 1.02, \"al\": 1.0, \"su\": 0.0, \"rbc\": \"abnormal\", \"pc\": \"abnormal\", \"pcc\": \"notpresent\", \"ba\": \"notpresent\", \"bgr\": 139.0, \"bu\": 29.0, \"sc\": 1.0, \"sod\": 139.0, \"pot\": 4.5, \"hemo\": 10.5, \"pcv\": 32.0, \"wbcc\": 7900.0, \"rbcc\": 4.9, \"htn\": \"yes\", \"dm\": \"no\", \"cad\": \"no\", \"appet\": \"good\", \"pe\": \"yes\", \"ane\": \"no\", \"class\": \"ckd\"}, {\"age\": 8.0, \"bp\": 60.0, \"sg\": 1.025, \"al\": 3.0, \"su\": 0.0, \"rbc\": \"normal\", \"pc\": \"normal\", \"pcc\": \"notpresent\", \"ba\": \"notpresent\", \"bgr\": 78.0, \"bu\": 27.0, \"sc\": 0.9, \"sod\": 139.0, \"pot\": 4.5, \"hemo\": 12.3, \"pcv\": 41.0, \"wbcc\": 6700.0, \"rbcc\": 4.9, \"htn\": \"no\", \"dm\": \"no\", \"cad\": \"no\", \"appet\": \"poor\", \"pe\": \"yes\", \"ane\": \"no\", \"class\": \"ckd\"}, {\"age\": 55.0, \"bp\": 90.0, \"sg\": 1.01, \"al\": 2.0, \"su\": 1.0, \"rbc\": \"abnormal\", \"pc\": \"abnormal\", \"pcc\": \"notpresent\", \"ba\": \"notpresent\", \"bgr\": 273.0, \"bu\": 235.0, \"sc\": 14.2, \"sod\": 132.0, \"pot\": 3.4, \"hemo\": 8.3, \"pcv\": 22.0, \"wbcc\": 14600.0, \"rbcc\": 2.9, \"htn\": \"yes\", \"dm\": \"yes\", \"cad\": \"no\", \"appet\": \"poor\", \"pe\": \"yes\", \"ane\": \"yes\", \"class\": \"ckd\"}, {\"age\": 56.0, \"bp\": 90.0, \"sg\": 1.005, \"al\": 4.0, \"su\": 3.0, \"rbc\": \"abnormal\", \"pc\": \"abnormal\", \"pcc\": \"notpresent\", \"ba\": \"notpresent\", \"bgr\": 242.0, \"bu\": 132.0, \"sc\": 16.4, \"sod\": 140.0, \"pot\": 4.2, \"hemo\": 8.4, \"pcv\": 26.0, \"wbcc\": 7900.0, \"rbcc\": 3.0, \"htn\": \"yes\", \"dm\": \"yes\", \"cad\": \"no\", \"appet\": \"poor\", \"pe\": \"yes\", \"ane\": \"yes\", \"class\": \"ckd\"}, {\"age\": 50.0, \"bp\": 70.0, \"sg\": 1.02, \"al\": 3.0, \"su\": 0.0, \"rbc\": \"abnormal\", \"pc\": \"normal\", \"pcc\": \"present\", \"ba\": \"present\", \"bgr\": 123.0, \"bu\": 40.0, \"sc\": 1.8, \"sod\": 139.0, \"pot\": 4.5, \"hemo\": 11.1, \"pcv\": 36.0, \"wbcc\": 4700.0, \"rbcc\": 4.9, \"htn\": \"no\", \"dm\": \"no\", \"cad\": \"no\", \"appet\": \"good\", \"pe\": \"no\", \"ane\": \"no\", \"class\": \"ckd\"}, {\"age\": 62.0, \"bp\": 70.0, \"sg\": 1.025, \"al\": 3.0, \"su\": 0.0, \"rbc\": \"normal\", \"pc\": \"abnormal\", \"pcc\": \"notpresent\", \"ba\": \"notpresent\", \"bgr\": 122.0, \"bu\": 42.0, \"sc\": 1.7, \"sod\": 136.0, \"pot\": 4.7, \"hemo\": 12.6, \"pcv\": 39.0, \"wbcc\": 7900.0, \"rbcc\": 3.9, \"htn\": \"yes\", \"dm\": \"yes\", \"cad\": \"no\", \"appet\": \"good\", \"pe\": \"no\", \"ane\": \"no\", \"class\": \"ckd\"}, {\"age\": 71.0, \"bp\": 60.0, \"sg\": 1.02, \"al\": 3.0, \"su\": 2.0, \"rbc\": \"normal\", \"pc\": \"normal\", \"pcc\": \"present\", \"ba\": \"notpresent\", \"bgr\": 424.0, \"bu\": 48.0, \"sc\": 1.5, \"sod\": 132.0, \"pot\": 4.0, \"hemo\": 10.9, \"pcv\": 31.0, \"wbcc\": 7900.0, \"rbcc\": 4.9, \"htn\": \"yes\", \"dm\": \"yes\", \"cad\": \"yes\", \"appet\": \"good\", \"pe\": \"no\", \"ane\": \"no\", \"class\": \"ckd\"}, {\"age\": 59.0, \"bp\": 80.0, \"sg\": 1.01, \"al\": 1.0, \"su\": 0.0, \"rbc\": \"abnormal\", \"pc\": \"normal\", \"pcc\": \"notpresent\", \"ba\": \"notpresent\", \"bgr\": 303.0, \"bu\": 35.0, \"sc\": 1.3, \"sod\": 122.0, \"pot\": 3.5, \"hemo\": 10.4, \"pcv\": 35.0, \"wbcc\": 10900.0, \"rbcc\": 4.3, \"htn\": \"no\", \"dm\": \"yes\", \"cad\": \"no\", \"appet\": \"poor\", \"pe\": \"no\", \"ane\": \"no\", \"class\": \"ckd\"}, {\"age\": 62.0, \"bp\": 80.0, \"sg\": 1.015, \"al\": 3.0, \"su\": 0.0, \"rbc\": \"abnormal\", \"pc\": \"normal\", \"pcc\": \"notpresent\", \"ba\": \"notpresent\", \"bgr\": 119.0, \"bu\": 40.0, \"sc\": 1.15, \"sod\": 139.0, \"pot\": 4.5, \"hemo\": 14.3, \"pcv\": 42.0, \"wbcc\": 10200.0, \"rbcc\": 4.8, \"htn\": \"yes\", \"dm\": \"yes\", \"cad\": \"no\", \"appet\": \"good\", \"pe\": \"no\", \"ane\": \"no\", \"class\": \"ckd\"}, {\"age\": 34.0, \"bp\": 70.0, \"sg\": 1.02, \"al\": 0.0, \"su\": 0.0, \"rbc\": \"abnormal\", \"pc\": \"normal\", \"pcc\": \"notpresent\", \"ba\": \"notpresent\", \"bgr\": 139.0, \"bu\": 19.0, \"sc\": 0.9, \"sod\": 139.0, \"pot\": 4.5, \"hemo\": 12.7, \"pcv\": 42.0, \"wbcc\": 2200.0, \"rbcc\": 4.9, \"htn\": \"no\", \"dm\": \"no\", \"cad\": \"no\", \"appet\": \"poor\", \"pe\": \"no\", \"ane\": \"no\", \"class\": \"ckd\"}, {\"age\": 83.0, \"bp\": 70.0, \"sg\": 1.02, \"al\": 3.0, \"su\": 0.0, \"rbc\": \"normal\", \"pc\": \"normal\", \"pcc\": \"notpresent\", \"ba\": \"notpresent\", \"bgr\": 102.0, \"bu\": 60.0, \"sc\": 2.6, \"sod\": 115.0, \"pot\": 5.7, \"hemo\": 8.7, \"pcv\": 26.0, \"wbcc\": 12800.0, \"rbcc\": 3.1, \"htn\": \"yes\", \"dm\": \"no\", \"cad\": \"no\", \"appet\": \"poor\", \"pe\": \"no\", \"ane\": \"yes\", \"class\": \"ckd\"}, {\"age\": 17.0, \"bp\": 70.0, \"sg\": 1.015, \"al\": 1.0, \"su\": 0.0, \"rbc\": \"abnormal\", \"pc\": \"normal\", \"pcc\": \"notpresent\", \"ba\": \"notpresent\", \"bgr\": 22.0, \"bu\": 1.5, \"sc\": 7.3, \"sod\": 145.0, \"pot\": 2.8, \"hemo\": 13.1, \"pcv\": 41.0, \"wbcc\": 11200.0, \"rbcc\": 4.9, \"htn\": \"no\", \"dm\": \"no\", \"cad\": \"no\", \"appet\": \"good\", \"pe\": \"no\", \"ane\": \"no\", \"class\": \"ckd\"}, {\"age\": 21.0, \"bp\": 90.0, \"sg\": 1.01, \"al\": 4.0, \"su\": 0.0, \"rbc\": \"normal\", \"pc\": \"abnormal\", \"pcc\": \"present\", \"ba\": \"present\", \"bgr\": 107.0, \"bu\": 40.0, \"sc\": 1.7, \"sod\": 125.0, \"pot\": 3.5, \"hemo\": 8.3, \"pcv\": 23.0, \"wbcc\": 12400.0, \"rbcc\": 3.9, \"htn\": \"no\", \"dm\": \"no\", \"cad\": \"no\", \"appet\": \"good\", \"pe\": \"no\", \"ane\": \"yes\", \"class\": \"ckd\"}, {\"age\": 65.0, \"bp\": 80.0, \"sg\": 1.015, \"al\": 2.0, \"su\": 1.0, \"rbc\": \"normal\", \"pc\": \"normal\", \"pcc\": \"present\", \"ba\": \"notpresent\", \"bgr\": 215.0, \"bu\": 133.0, \"sc\": 2.5, \"sod\": 139.0, \"pot\": 4.5, \"hemo\": 13.2, \"pcv\": 41.0, \"wbcc\": 7900.0, \"rbcc\": 4.9, \"htn\": \"no\", \"dm\": \"yes\", \"cad\": \"no\", \"appet\": \"good\", \"pe\": \"no\", \"ane\": \"no\", \"class\": \"ckd\"}, {\"age\": 42.0, \"bp\": 90.0, \"sg\": 1.02, \"al\": 2.0, \"su\": 0.0, \"rbc\": \"abnormal\", \"pc\": \"abnormal\", \"pcc\": \"present\", \"ba\": \"notpresent\", \"bgr\": 93.0, \"bu\": 153.0, \"sc\": 2.7, \"sod\": 139.0, \"pot\": 4.3, \"hemo\": 9.8, \"pcv\": 34.0, \"wbcc\": 9800.0, \"rbcc\": 4.9, \"htn\": \"no\", \"dm\": \"no\", \"cad\": \"no\", \"appet\": \"poor\", \"pe\": \"yes\", \"ane\": \"yes\", \"class\": \"ckd\"}, {\"age\": 73.0, \"bp\": 90.0, \"sg\": 1.01, \"al\": 1.0, \"su\": 4.0, \"rbc\": \"abnormal\", \"pc\": \"abnormal\", \"pcc\": \"present\", \"ba\": \"notpresent\", \"bgr\": 234.0, \"bu\": 56.0, \"sc\": 1.9, \"sod\": 139.0, \"pot\": 4.5, \"hemo\": 10.3, \"pcv\": 28.0, \"wbcc\": 7900.0, \"rbcc\": 4.9, \"htn\": \"no\", \"dm\": \"yes\", \"cad\": \"no\", \"appet\": \"good\", \"pe\": \"no\", \"ane\": \"no\", \"class\": \"ckd\"}, {\"age\": 45.0, \"bp\": 70.0, \"sg\": 1.025, \"al\": 2.0, \"su\": 0.0, \"rbc\": \"normal\", \"pc\": \"abnormal\", \"pcc\": \"present\", \"ba\": \"notpresent\", \"bgr\": 117.0, \"bu\": 52.0, \"sc\": 2.2, \"sod\": 136.0, \"pot\": 3.8, \"hemo\": 10.0, \"pcv\": 30.0, \"wbcc\": 19100.0, \"rbcc\": 3.7, \"htn\": \"no\", \"dm\": \"no\", \"cad\": \"no\", \"appet\": \"good\", \"pe\": \"no\", \"ane\": \"no\", \"class\": \"ckd\"}, {\"age\": 8.0, \"bp\": 50.0, \"sg\": 1.02, \"al\": 4.0, \"su\": 0.0, \"rbc\": \"normal\", \"pc\": \"normal\", \"pcc\": \"notpresent\", \"ba\": \"notpresent\", \"bgr\": 119.0, \"bu\": 46.0, \"sc\": 1.0, \"sod\": 135.0, \"pot\": 3.8, \"hemo\": 13.85, \"pcv\": 42.0, \"wbcc\": 7900.0, \"rbcc\": 4.9, \"htn\": \"no\", \"dm\": \"no\", \"cad\": \"no\", \"appet\": \"good\", \"pe\": \"yes\", \"ane\": \"no\", \"class\": \"ckd\"}, {\"age\": 3.0, \"bp\": 80.0, \"sg\": 1.01, \"al\": 2.0, \"su\": 0.0, \"rbc\": \"normal\", \"pc\": \"normal\", \"pcc\": \"notpresent\", \"ba\": \"notpresent\", \"bgr\": 119.0, \"bu\": 22.0, \"sc\": 0.7, \"sod\": 139.0, \"pot\": 4.5, \"hemo\": 10.7, \"pcv\": 34.0, \"wbcc\": 12300.0, \"rbcc\": 4.9, \"htn\": \"no\", \"dm\": \"no\", \"cad\": \"no\", \"appet\": \"good\", \"pe\": \"no\", \"ane\": \"no\", \"class\": \"ckd\"}, {\"age\": 64.0, \"bp\": 60.0, \"sg\": 1.01, \"al\": 4.0, \"su\": 1.0, \"rbc\": \"abnormal\", \"pc\": \"abnormal\", \"pcc\": \"notpresent\", \"ba\": \"present\", \"bgr\": 239.0, \"bu\": 58.0, \"sc\": 4.3, \"sod\": 137.0, \"pot\": 5.4, \"hemo\": 9.5, \"pcv\": 29.0, \"wbcc\": 7500.0, \"rbcc\": 3.4, \"htn\": \"yes\", \"dm\": \"yes\", \"cad\": \"no\", \"appet\": \"poor\", \"pe\": \"yes\", \"ane\": \"no\", \"class\": \"ckd\"}, {\"age\": 6.0, \"bp\": 60.0, \"sg\": 1.01, \"al\": 4.0, \"su\": 0.0, \"rbc\": \"abnormal\", \"pc\": \"abnormal\", \"pcc\": \"notpresent\", \"ba\": \"present\", \"bgr\": 94.0, \"bu\": 67.0, \"sc\": 1.0, \"sod\": 135.0, \"pot\": 4.9, \"hemo\": 9.9, \"pcv\": 30.0, \"wbcc\": 16700.0, \"rbcc\": 4.8, \"htn\": \"no\", \"dm\": \"no\", \"cad\": \"no\", \"appet\": \"poor\", \"pe\": \"no\", \"ane\": \"no\", \"class\": \"ckd\"}, {\"age\": 50.0, \"bp\": 70.0, \"sg\": 1.01, \"al\": 3.0, \"su\": 0.0, \"rbc\": \"normal\", \"pc\": \"normal\", \"pcc\": \"notpresent\", \"ba\": \"notpresent\", \"bgr\": 110.0, \"bu\": 115.0, \"sc\": 6.0, \"sod\": 134.0, \"pot\": 2.7, \"hemo\": 9.1, \"pcv\": 26.0, \"wbcc\": 9200.0, \"rbcc\": 3.4, \"htn\": \"yes\", \"dm\": \"yes\", \"cad\": \"no\", \"appet\": \"poor\", \"pe\": \"no\", \"ane\": \"no\", \"class\": \"ckd\"}, {\"age\": 32.0, \"bp\": 90.0, \"sg\": 1.025, \"al\": 1.0, \"su\": 0.0, \"rbc\": \"abnormal\", \"pc\": \"abnormal\", \"pcc\": \"notpresent\", \"ba\": \"notpresent\", \"bgr\": 119.0, \"bu\": 223.0, \"sc\": 18.1, \"sod\": 113.0, \"pot\": 6.5, \"hemo\": 5.5, \"pcv\": 15.0, \"wbcc\": 2600.0, \"rbcc\": 2.8, \"htn\": \"yes\", \"dm\": \"yes\", \"cad\": \"no\", \"appet\": \"poor\", \"pe\": \"yes\", \"ane\": \"yes\", \"class\": \"ckd\"}, {\"age\": 70.0, \"bp\": 90.0, \"sg\": 1.02, \"al\": 2.0, \"su\": 1.0, \"rbc\": \"abnormal\", \"pc\": \"abnormal\", \"pcc\": \"notpresent\", \"ba\": \"present\", \"bgr\": 184.0, \"bu\": 98.6, \"sc\": 3.3, \"sod\": 138.0, \"pot\": 3.9, \"hemo\": 5.8, \"pcv\": 42.0, \"wbcc\": 7900.0, \"rbcc\": 4.9, \"htn\": \"yes\", \"dm\": \"yes\", \"cad\": \"yes\", \"appet\": \"poor\", \"pe\": \"no\", \"ane\": \"no\", \"class\": \"ckd\"}, {\"age\": 49.0, \"bp\": 100.0, \"sg\": 1.01, \"al\": 3.0, \"su\": 0.0, \"rbc\": \"abnormal\", \"pc\": \"abnormal\", \"pcc\": \"notpresent\", \"ba\": \"notpresent\", \"bgr\": 129.0, \"bu\": 158.0, \"sc\": 11.8, \"sod\": 122.0, \"pot\": 3.2, \"hemo\": 8.1, \"pcv\": 24.0, \"wbcc\": 9600.0, \"rbcc\": 3.5, \"htn\": \"yes\", \"dm\": \"yes\", \"cad\": \"no\", \"appet\": \"poor\", \"pe\": \"yes\", \"ane\": \"yes\", \"class\": \"ckd\"}, {\"age\": 59.0, \"bp\": 100.0, \"sg\": 1.02, \"al\": 4.0, \"su\": 2.0, \"rbc\": \"normal\", \"pc\": \"normal\", \"pcc\": \"notpresent\", \"ba\": \"notpresent\", \"bgr\": 252.0, \"bu\": 40.0, \"sc\": 3.2, \"sod\": 137.0, \"pot\": 4.7, \"hemo\": 11.2, \"pcv\": 30.0, \"wbcc\": 26400.0, \"rbcc\": 3.9, \"htn\": \"yes\", \"dm\": \"yes\", \"cad\": \"no\", \"appet\": \"poor\", \"pe\": \"yes\", \"ane\": \"no\", \"class\": \"ckd\"}, {\"age\": 65.0, \"bp\": 90.0, \"sg\": 1.01, \"al\": 4.0, \"su\": 2.0, \"rbc\": \"normal\", \"pc\": \"normal\", \"pcc\": \"notpresent\", \"ba\": \"notpresent\", \"bgr\": 172.0, \"bu\": 82.0, \"sc\": 13.5, \"sod\": 145.0, \"pot\": 6.3, \"hemo\": 8.8, \"pcv\": 31.0, \"wbcc\": 7900.0, \"rbcc\": 4.9, \"htn\": \"yes\", \"dm\": \"yes\", \"cad\": \"no\", \"appet\": \"good\", \"pe\": \"yes\", \"ane\": \"yes\", \"class\": \"ckd\"}, {\"age\": 59.0, \"bp\": 100.0, \"sg\": 1.015, \"al\": 4.0, \"su\": 2.0, \"rbc\": \"normal\", \"pc\": \"normal\", \"pcc\": \"notpresent\", \"ba\": \"notpresent\", \"bgr\": 255.0, \"bu\": 132.0, \"sc\": 12.8, \"sod\": 135.0, \"pot\": 5.7, \"hemo\": 7.3, \"pcv\": 20.0, \"wbcc\": 9800.0, \"rbcc\": 3.9, \"htn\": \"yes\", \"dm\": \"yes\", \"cad\": \"yes\", \"appet\": \"good\", \"pe\": \"no\", \"ane\": \"yes\", \"class\": \"ckd\"}, {\"age\": 40.0, \"bp\": 70.0, \"sg\": 1.015, \"al\": 3.0, \"su\": 4.0, \"rbc\": \"normal\", \"pc\": \"normal\", \"pcc\": \"notpresent\", \"ba\": \"notpresent\", \"bgr\": 253.0, \"bu\": 150.0, \"sc\": 11.9, \"sod\": 132.0, \"pot\": 5.6, \"hemo\": 10.9, \"pcv\": 31.0, \"wbcc\": 8800.0, \"rbcc\": 3.4, \"htn\": \"yes\", \"dm\": \"yes\", \"cad\": \"no\", \"appet\": \"poor\", \"pe\": \"yes\", \"ane\": \"no\", \"class\": \"ckd\"}, {\"age\": 55.0, \"bp\": 80.0, \"sg\": 1.01, \"al\": 3.0, \"su\": 1.0, \"rbc\": \"normal\", \"pc\": \"abnormal\", \"pcc\": \"present\", \"ba\": \"present\", \"bgr\": 214.0, \"bu\": 73.0, \"sc\": 3.9, \"sod\": 137.0, \"pot\": 4.9, \"hemo\": 10.9, \"pcv\": 34.0, \"wbcc\": 7400.0, \"rbcc\": 3.7, \"htn\": \"yes\", \"dm\": \"yes\", \"cad\": \"no\", \"appet\": \"good\", \"pe\": \"yes\", \"ane\": \"no\", \"class\": \"ckd\"}, {\"age\": 2.0, \"bp\": 80.0, \"sg\": 1.01, \"al\": 3.0, \"su\": 0.0, \"rbc\": \"normal\", \"pc\": \"abnormal\", \"pcc\": \"notpresent\", \"ba\": \"notpresent\", \"bgr\": 119.0, \"bu\": 40.0, \"sc\": 1.15, \"sod\": 139.0, \"pot\": 4.5, \"hemo\": 13.85, \"pcv\": 42.0, \"wbcc\": 7900.0, \"rbcc\": 4.9, \"htn\": \"no\", \"dm\": \"no\", \"cad\": \"no\", \"appet\": \"good\", \"pe\": \"yes\", \"ane\": \"no\", \"class\": \"ckd\"}, {\"age\": 66.0, \"bp\": 70.0, \"sg\": 1.02, \"al\": 1.0, \"su\": 0.0, \"rbc\": \"normal\", \"pc\": \"normal\", \"pcc\": \"notpresent\", \"ba\": \"notpresent\", \"bgr\": 248.0, \"bu\": 30.0, \"sc\": 1.7, \"sod\": 138.0, \"pot\": 5.3, \"hemo\": 13.85, \"pcv\": 42.0, \"wbcc\": 7900.0, \"rbcc\": 4.9, \"htn\": \"yes\", \"dm\": \"yes\", \"cad\": \"no\", \"appet\": \"good\", \"pe\": \"no\", \"ane\": \"no\", \"class\": \"ckd\"}, {\"age\": 60.0, \"bp\": 90.0, \"sg\": 1.01, \"al\": 3.0, \"su\": 5.0, \"rbc\": \"abnormal\", \"pc\": \"normal\", \"pcc\": \"notpresent\", \"ba\": \"present\", \"bgr\": 490.0, \"bu\": 95.0, \"sc\": 2.7, \"sod\": 131.0, \"pot\": 3.8, \"hemo\": 11.5, \"pcv\": 35.0, \"wbcc\": 12000.0, \"rbcc\": 4.5, \"htn\": \"yes\", \"dm\": \"yes\", \"cad\": \"no\", \"appet\": \"good\", \"pe\": \"no\", \"ane\": \"no\", \"class\": \"ckd\"}, {\"age\": 64.0, \"bp\": 100.0, \"sg\": 1.015, \"al\": 4.0, \"su\": 2.0, \"rbc\": \"abnormal\", \"pc\": \"abnormal\", \"pcc\": \"notpresent\", \"ba\": \"present\", \"bgr\": 163.0, \"bu\": 54.0, \"sc\": 7.2, \"sod\": 140.0, \"pot\": 4.6, \"hemo\": 7.9, \"pcv\": 26.0, \"wbcc\": 7500.0, \"rbcc\": 3.4, \"htn\": \"yes\", \"dm\": \"yes\", \"cad\": \"no\", \"appet\": \"good\", \"pe\": \"yes\", \"ane\": \"no\", \"class\": \"ckd\"}, {\"age\": 59.0, \"bp\": 50.0, \"sg\": 1.01, \"al\": 3.0, \"su\": 0.0, \"rbc\": \"normal\", \"pc\": \"abnormal\", \"pcc\": \"notpresent\", \"ba\": \"notpresent\", \"bgr\": 241.0, \"bu\": 191.0, \"sc\": 12.0, \"sod\": 114.0, \"pot\": 2.9, \"hemo\": 9.6, \"pcv\": 31.0, \"wbcc\": 15700.0, \"rbcc\": 3.8, \"htn\": \"no\", \"dm\": \"yes\", \"cad\": \"no\", \"appet\": \"good\", \"pe\": \"yes\", \"ane\": \"no\", \"class\": \"ckd\"}, {\"age\": 65.0, \"bp\": 60.0, \"sg\": 1.01, \"al\": 2.0, \"su\": 0.0, \"rbc\": \"normal\", \"pc\": \"abnormal\", \"pcc\": \"present\", \"ba\": \"notpresent\", \"bgr\": 192.0, \"bu\": 17.0, \"sc\": 1.7, \"sod\": 130.0, \"pot\": 4.3, \"hemo\": 13.85, \"pcv\": 42.0, \"wbcc\": 9500.0, \"rbcc\": 4.9, \"htn\": \"yes\", \"dm\": \"yes\", \"cad\": \"no\", \"appet\": \"poor\", \"pe\": \"no\", \"ane\": \"no\", \"class\": \"ckd\"}, {\"age\": 50.0, \"bp\": 90.0, \"sg\": 1.015, \"al\": 1.0, \"su\": 0.0, \"rbc\": \"abnormal\", \"pc\": \"abnormal\", \"pcc\": \"notpresent\", \"ba\": \"notpresent\", \"bgr\": 119.0, \"bu\": 40.0, \"sc\": 1.15, \"sod\": 139.0, \"pot\": 4.5, \"hemo\": 13.85, \"pcv\": 42.0, \"wbcc\": 7900.0, \"rbcc\": 4.9, \"htn\": \"no\", \"dm\": \"no\", \"cad\": \"no\", \"appet\": \"good\", \"pe\": \"yes\", \"ane\": \"no\", \"class\": \"ckd\"}, {\"age\": 51.0, \"bp\": 100.0, \"sg\": 1.015, \"al\": 2.0, \"su\": 0.0, \"rbc\": \"normal\", \"pc\": \"normal\", \"pcc\": \"notpresent\", \"ba\": \"present\", \"bgr\": 93.0, \"bu\": 20.0, \"sc\": 1.6, \"sod\": 146.0, \"pot\": 4.5, \"hemo\": 13.85, \"pcv\": 42.0, \"wbcc\": 7900.0, \"rbcc\": 4.9, \"htn\": \"no\", \"dm\": \"no\", \"cad\": \"no\", \"appet\": \"poor\", \"pe\": \"no\", \"ane\": \"no\", \"class\": \"ckd\"}, {\"age\": 37.0, \"bp\": 100.0, \"sg\": 1.01, \"al\": 0.0, \"su\": 0.0, \"rbc\": \"abnormal\", \"pc\": \"normal\", \"pcc\": \"notpresent\", \"ba\": \"notpresent\", \"bgr\": 119.0, \"bu\": 19.0, \"sc\": 1.3, \"sod\": 139.0, \"pot\": 4.5, \"hemo\": 15.0, \"pcv\": 44.0, \"wbcc\": 4100.0, \"rbcc\": 5.2, \"htn\": \"yes\", \"dm\": \"no\", \"cad\": \"no\", \"appet\": \"good\", \"pe\": \"no\", \"ane\": \"no\", \"class\": \"ckd\"}, {\"age\": 34.0, \"bp\": 90.0, \"sg\": 1.015, \"al\": 2.0, \"su\": 0.0, \"rbc\": \"normal\", \"pc\": \"normal\", \"pcc\": \"notpresent\", \"ba\": \"notpresent\", \"bgr\": 104.0, \"bu\": 50.0, \"sc\": 1.6, \"sod\": 137.0, \"pot\": 4.1, \"hemo\": 11.9, \"pcv\": 39.0, \"wbcc\": 7900.0, \"rbcc\": 4.9, \"htn\": \"no\", \"dm\": \"no\", \"cad\": \"no\", \"appet\": \"good\", \"pe\": \"no\", \"ane\": \"no\", \"class\": \"ckd\"}, {\"age\": 69.0, \"bp\": 70.0, \"sg\": 1.01, \"al\": 4.0, \"su\": 3.0, \"rbc\": \"normal\", \"pc\": \"abnormal\", \"pcc\": \"present\", \"ba\": \"present\", \"bgr\": 214.0, \"bu\": 96.0, \"sc\": 6.3, \"sod\": 120.0, \"pot\": 3.9, \"hemo\": 9.4, \"pcv\": 28.0, \"wbcc\": 11500.0, \"rbcc\": 3.3, \"htn\": \"yes\", \"dm\": \"yes\", \"cad\": \"yes\", \"appet\": \"good\", \"pe\": \"yes\", \"ane\": \"yes\", \"class\": \"ckd\"}, {\"age\": 48.0, \"bp\": 110.0, \"sg\": 1.015, \"al\": 3.0, \"su\": 0.0, \"rbc\": \"abnormal\", \"pc\": \"normal\", \"pcc\": \"present\", \"ba\": \"notpresent\", \"bgr\": 106.0, \"bu\": 215.0, \"sc\": 15.2, \"sod\": 120.0, \"pot\": 5.7, \"hemo\": 8.6, \"pcv\": 26.0, \"wbcc\": 5000.0, \"rbcc\": 2.5, \"htn\": \"yes\", \"dm\": \"no\", \"cad\": \"yes\", \"appet\": \"good\", \"pe\": \"no\", \"ane\": \"yes\", \"class\": \"ckd\"}, {\"age\": 54.0, \"bp\": 90.0, \"sg\": 1.025, \"al\": 1.0, \"su\": 0.0, \"rbc\": \"normal\", \"pc\": \"abnormal\", \"pcc\": \"notpresent\", \"ba\": \"notpresent\", \"bgr\": 150.0, \"bu\": 18.0, \"sc\": 1.2, \"sod\": 140.0, \"pot\": 4.2, \"hemo\": 13.85, \"pcv\": 42.0, \"wbcc\": 7900.0, \"rbcc\": 4.9, \"htn\": \"no\", \"dm\": \"no\", \"cad\": \"no\", \"appet\": \"poor\", \"pe\": \"yes\", \"ane\": \"yes\", \"class\": \"ckd\"}, {\"age\": 59.0, \"bp\": 70.0, \"sg\": 1.01, \"al\": 1.0, \"su\": 3.0, \"rbc\": \"abnormal\", \"pc\": \"abnormal\", \"pcc\": \"notpresent\", \"ba\": \"notpresent\", \"bgr\": 424.0, \"bu\": 55.0, \"sc\": 1.7, \"sod\": 138.0, \"pot\": 4.5, \"hemo\": 12.6, \"pcv\": 37.0, \"wbcc\": 10200.0, \"rbcc\": 4.1, \"htn\": \"yes\", \"dm\": \"yes\", \"cad\": \"yes\", \"appet\": \"good\", \"pe\": \"no\", \"ane\": \"no\", \"class\": \"ckd\"}, {\"age\": 56.0, \"bp\": 90.0, \"sg\": 1.01, \"al\": 4.0, \"su\": 1.0, \"rbc\": \"normal\", \"pc\": \"abnormal\", \"pcc\": \"present\", \"ba\": \"notpresent\", \"bgr\": 176.0, \"bu\": 309.0, \"sc\": 13.3, \"sod\": 124.0, \"pot\": 6.5, \"hemo\": 3.1, \"pcv\": 9.0, \"wbcc\": 5400.0, \"rbcc\": 2.1, \"htn\": \"yes\", \"dm\": \"yes\", \"cad\": \"no\", \"appet\": \"poor\", \"pe\": \"yes\", \"ane\": \"yes\", \"class\": \"ckd\"}, {\"age\": 40.0, \"bp\": 80.0, \"sg\": 1.025, \"al\": 0.0, \"su\": 0.0, \"rbc\": \"normal\", \"pc\": \"normal\", \"pcc\": \"notpresent\", \"ba\": \"notpresent\", \"bgr\": 140.0, \"bu\": 10.0, \"sc\": 1.2, \"sod\": 135.0, \"pot\": 5.0, \"hemo\": 15.0, \"pcv\": 48.0, \"wbcc\": 10400.0, \"rbcc\": 4.5, \"htn\": \"no\", \"dm\": \"no\", \"cad\": \"no\", \"appet\": \"good\", \"pe\": \"no\", \"ane\": \"no\", \"class\": \"notckd\"}, {\"age\": 23.0, \"bp\": 80.0, \"sg\": 1.025, \"al\": 0.0, \"su\": 0.0, \"rbc\": \"normal\", \"pc\": \"normal\", \"pcc\": \"notpresent\", \"ba\": \"notpresent\", \"bgr\": 70.0, \"bu\": 36.0, \"sc\": 1.0, \"sod\": 150.0, \"pot\": 4.6, \"hemo\": 17.0, \"pcv\": 52.0, \"wbcc\": 9800.0, \"rbcc\": 5.0, \"htn\": \"no\", \"dm\": \"no\", \"cad\": \"no\", \"appet\": \"good\", \"pe\": \"no\", \"ane\": \"no\", \"class\": \"notckd\"}, {\"age\": 45.0, \"bp\": 80.0, \"sg\": 1.025, \"al\": 0.0, \"su\": 0.0, \"rbc\": \"normal\", \"pc\": \"normal\", \"pcc\": \"notpresent\", \"ba\": \"notpresent\", \"bgr\": 82.0, \"bu\": 49.0, \"sc\": 0.6, \"sod\": 147.0, \"pot\": 4.4, \"hemo\": 15.9, \"pcv\": 46.0, \"wbcc\": 9100.0, \"rbcc\": 4.7, \"htn\": \"no\", \"dm\": \"no\", \"cad\": \"no\", \"appet\": \"good\", \"pe\": \"no\", \"ane\": \"no\", \"class\": \"notckd\"}, {\"age\": 57.0, \"bp\": 80.0, \"sg\": 1.025, \"al\": 0.0, \"su\": 0.0, \"rbc\": \"normal\", \"pc\": \"normal\", \"pcc\": \"notpresent\", \"ba\": \"notpresent\", \"bgr\": 119.0, \"bu\": 17.0, \"sc\": 1.2, \"sod\": 135.0, \"pot\": 4.7, \"hemo\": 15.4, \"pcv\": 42.0, \"wbcc\": 6200.0, \"rbcc\": 6.2, \"htn\": \"no\", \"dm\": \"no\", \"cad\": \"no\", \"appet\": \"good\", \"pe\": \"no\", \"ane\": \"no\", \"class\": \"notckd\"}, {\"age\": 51.0, \"bp\": 60.0, \"sg\": 1.025, \"al\": 0.0, \"su\": 0.0, \"rbc\": \"normal\", \"pc\": \"normal\", \"pcc\": \"notpresent\", \"ba\": \"notpresent\", \"bgr\": 99.0, \"bu\": 38.0, \"sc\": 0.8, \"sod\": 135.0, \"pot\": 3.7, \"hemo\": 13.0, \"pcv\": 49.0, \"wbcc\": 8300.0, \"rbcc\": 5.2, \"htn\": \"no\", \"dm\": \"no\", \"cad\": \"no\", \"appet\": \"good\", \"pe\": \"no\", \"ane\": \"no\", \"class\": \"notckd\"}, {\"age\": 34.0, \"bp\": 80.0, \"sg\": 1.025, \"al\": 0.0, \"su\": 0.0, \"rbc\": \"normal\", \"pc\": \"normal\", \"pcc\": \"notpresent\", \"ba\": \"notpresent\", \"bgr\": 121.0, \"bu\": 27.0, \"sc\": 1.2, \"sod\": 144.0, \"pot\": 3.9, \"hemo\": 13.6, \"pcv\": 52.0, \"wbcc\": 9200.0, \"rbcc\": 6.3, \"htn\": \"no\", \"dm\": \"no\", \"cad\": \"no\", \"appet\": \"good\", \"pe\": \"no\", \"ane\": \"no\", \"class\": \"notckd\"}, {\"age\": 60.0, \"bp\": 80.0, \"sg\": 1.025, \"al\": 0.0, \"su\": 0.0, \"rbc\": \"normal\", \"pc\": \"normal\", \"pcc\": \"notpresent\", \"ba\": \"notpresent\", \"bgr\": 131.0, \"bu\": 10.0, \"sc\": 0.5, \"sod\": 146.0, \"pot\": 5.0, \"hemo\": 14.5, \"pcv\": 41.0, \"wbcc\": 10700.0, \"rbcc\": 5.1, \"htn\": \"no\", \"dm\": \"no\", \"cad\": \"no\", \"appet\": \"good\", \"pe\": \"no\", \"ane\": \"no\", \"class\": \"notckd\"}, {\"age\": 38.0, \"bp\": 60.0, \"sg\": 1.02, \"al\": 0.0, \"su\": 0.0, \"rbc\": \"normal\", \"pc\": \"normal\", \"pcc\": \"notpresent\", \"ba\": \"notpresent\", \"bgr\": 91.0, \"bu\": 36.0, \"sc\": 0.7, \"sod\": 135.0, \"pot\": 3.7, \"hemo\": 14.0, \"pcv\": 46.0, \"wbcc\": 9100.0, \"rbcc\": 5.8, \"htn\": \"no\", \"dm\": \"no\", \"cad\": \"no\", \"appet\": \"good\", \"pe\": \"no\", \"ane\": \"no\", \"class\": \"notckd\"}, {\"age\": 42.0, \"bp\": 80.0, \"sg\": 1.02, \"al\": 0.0, \"su\": 0.0, \"rbc\": \"normal\", \"pc\": \"normal\", \"pcc\": \"notpresent\", \"ba\": \"notpresent\", \"bgr\": 98.0, \"bu\": 20.0, \"sc\": 0.5, \"sod\": 140.0, \"pot\": 3.5, \"hemo\": 13.9, \"pcv\": 44.0, \"wbcc\": 8400.0, \"rbcc\": 5.5, \"htn\": \"no\", \"dm\": \"no\", \"cad\": \"no\", \"appet\": \"good\", \"pe\": \"no\", \"ane\": \"no\", \"class\": \"notckd\"}, {\"age\": 35.0, \"bp\": 80.0, \"sg\": 1.02, \"al\": 0.0, \"su\": 0.0, \"rbc\": \"normal\", \"pc\": \"normal\", \"pcc\": \"notpresent\", \"ba\": \"notpresent\", \"bgr\": 104.0, \"bu\": 31.0, \"sc\": 1.2, \"sod\": 135.0, \"pot\": 5.0, \"hemo\": 16.1, \"pcv\": 45.0, \"wbcc\": 4300.0, \"rbcc\": 5.2, \"htn\": \"no\", \"dm\": \"no\", \"cad\": \"no\", \"appet\": \"good\", \"pe\": \"no\", \"ane\": \"no\", \"class\": \"notckd\"}, {\"age\": 30.0, \"bp\": 80.0, \"sg\": 1.02, \"al\": 0.0, \"su\": 0.0, \"rbc\": \"normal\", \"pc\": \"normal\", \"pcc\": \"notpresent\", \"ba\": \"notpresent\", \"bgr\": 131.0, \"bu\": 38.0, \"sc\": 1.0, \"sod\": 147.0, \"pot\": 3.8, \"hemo\": 14.1, \"pcv\": 45.0, \"wbcc\": 9400.0, \"rbcc\": 5.3, \"htn\": \"no\", \"dm\": \"no\", \"cad\": \"no\", \"appet\": \"good\", \"pe\": \"no\", \"ane\": \"no\", \"class\": \"notckd\"}, {\"age\": 49.0, \"bp\": 80.0, \"sg\": 1.02, \"al\": 0.0, \"su\": 0.0, \"rbc\": \"normal\", \"pc\": \"normal\", \"pcc\": \"notpresent\", \"ba\": \"notpresent\", \"bgr\": 122.0, \"bu\": 32.0, \"sc\": 1.2, \"sod\": 139.0, \"pot\": 3.9, \"hemo\": 17.0, \"pcv\": 41.0, \"wbcc\": 5600.0, \"rbcc\": 4.9, \"htn\": \"no\", \"dm\": \"no\", \"cad\": \"no\", \"appet\": \"good\", \"pe\": \"no\", \"ane\": \"no\", \"class\": \"notckd\"}, {\"age\": 55.0, \"bp\": 80.0, \"sg\": 1.02, \"al\": 0.0, \"su\": 0.0, \"rbc\": \"normal\", \"pc\": \"normal\", \"pcc\": \"notpresent\", \"ba\": \"notpresent\", \"bgr\": 118.0, \"bu\": 18.0, \"sc\": 0.9, \"sod\": 135.0, \"pot\": 3.6, \"hemo\": 15.5, \"pcv\": 43.0, \"wbcc\": 7200.0, \"rbcc\": 5.4, \"htn\": \"no\", \"dm\": \"no\", \"cad\": \"no\", \"appet\": \"good\", \"pe\": \"no\", \"ane\": \"no\", \"class\": \"notckd\"}, {\"age\": 45.0, \"bp\": 80.0, \"sg\": 1.02, \"al\": 0.0, \"su\": 0.0, \"rbc\": \"normal\", \"pc\": \"normal\", \"pcc\": \"notpresent\", \"ba\": \"notpresent\", \"bgr\": 117.0, \"bu\": 46.0, \"sc\": 1.2, \"sod\": 137.0, \"pot\": 5.0, \"hemo\": 16.2, \"pcv\": 45.0, \"wbcc\": 8600.0, \"rbcc\": 5.2, \"htn\": \"no\", \"dm\": \"no\", \"cad\": \"no\", \"appet\": \"good\", \"pe\": \"no\", \"ane\": \"no\", \"class\": \"notckd\"}, {\"age\": 42.0, \"bp\": 80.0, \"sg\": 1.02, \"al\": 0.0, \"su\": 0.0, \"rbc\": \"normal\", \"pc\": \"normal\", \"pcc\": \"notpresent\", \"ba\": \"notpresent\", \"bgr\": 132.0, \"bu\": 24.0, \"sc\": 0.7, \"sod\": 140.0, \"pot\": 4.1, \"hemo\": 14.4, \"pcv\": 50.0, \"wbcc\": 5000.0, \"rbcc\": 4.5, \"htn\": \"no\", \"dm\": \"no\", \"cad\": \"no\", \"appet\": \"good\", \"pe\": \"no\", \"ane\": \"no\", \"class\": \"notckd\"}, {\"age\": 50.0, \"bp\": 80.0, \"sg\": 1.02, \"al\": 0.0, \"su\": 0.0, \"rbc\": \"normal\", \"pc\": \"normal\", \"pcc\": \"notpresent\", \"ba\": \"notpresent\", \"bgr\": 97.0, \"bu\": 40.0, \"sc\": 0.6, \"sod\": 150.0, \"pot\": 4.5, \"hemo\": 14.2, \"pcv\": 48.0, \"wbcc\": 10500.0, \"rbcc\": 5.0, \"htn\": \"no\", \"dm\": \"no\", \"cad\": \"no\", \"appet\": \"good\", \"pe\": \"no\", \"ane\": \"no\", \"class\": \"notckd\"}, {\"age\": 55.0, \"bp\": 80.0, \"sg\": 1.02, \"al\": 0.0, \"su\": 0.0, \"rbc\": \"normal\", \"pc\": \"normal\", \"pcc\": \"notpresent\", \"ba\": \"notpresent\", \"bgr\": 133.0, \"bu\": 17.0, \"sc\": 1.2, \"sod\": 135.0, \"pot\": 4.8, \"hemo\": 13.2, \"pcv\": 41.0, \"wbcc\": 6800.0, \"rbcc\": 5.3, \"htn\": \"no\", \"dm\": \"no\", \"cad\": \"no\", \"appet\": \"good\", \"pe\": \"no\", \"ane\": \"no\", \"class\": \"notckd\"}, {\"age\": 48.0, \"bp\": 80.0, \"sg\": 1.025, \"al\": 0.0, \"su\": 0.0, \"rbc\": \"normal\", \"pc\": \"normal\", \"pcc\": \"notpresent\", \"ba\": \"notpresent\", \"bgr\": 122.0, \"bu\": 33.0, \"sc\": 0.9, \"sod\": 146.0, \"pot\": 3.9, \"hemo\": 13.9, \"pcv\": 48.0, \"wbcc\": 9500.0, \"rbcc\": 4.8, \"htn\": \"no\", \"dm\": \"no\", \"cad\": \"no\", \"appet\": \"good\", \"pe\": \"no\", \"ane\": \"no\", \"class\": \"notckd\"}, {\"age\": 25.0, \"bp\": 80.0, \"sg\": 1.025, \"al\": 0.0, \"su\": 0.0, \"rbc\": \"normal\", \"pc\": \"normal\", \"pcc\": \"notpresent\", \"ba\": \"notpresent\", \"bgr\": 121.0, \"bu\": 19.0, \"sc\": 1.2, \"sod\": 142.0, \"pot\": 4.9, \"hemo\": 15.0, \"pcv\": 48.0, \"wbcc\": 6900.0, \"rbcc\": 5.3, \"htn\": \"no\", \"dm\": \"no\", \"cad\": \"no\", \"appet\": \"good\", \"pe\": \"no\", \"ane\": \"no\", \"class\": \"notckd\"}, {\"age\": 23.0, \"bp\": 80.0, \"sg\": 1.025, \"al\": 0.0, \"su\": 0.0, \"rbc\": \"normal\", \"pc\": \"normal\", \"pcc\": \"notpresent\", \"ba\": \"notpresent\", \"bgr\": 111.0, \"bu\": 34.0, \"sc\": 1.1, \"sod\": 145.0, \"pot\": 4.0, \"hemo\": 14.3, \"pcv\": 41.0, \"wbcc\": 7200.0, \"rbcc\": 5.0, \"htn\": \"no\", \"dm\": \"no\", \"cad\": \"no\", \"appet\": \"good\", \"pe\": \"no\", \"ane\": \"no\", \"class\": \"notckd\"}, {\"age\": 30.0, \"bp\": 80.0, \"sg\": 1.025, \"al\": 0.0, \"su\": 0.0, \"rbc\": \"normal\", \"pc\": \"normal\", \"pcc\": \"notpresent\", \"ba\": \"notpresent\", \"bgr\": 96.0, \"bu\": 25.0, \"sc\": 0.5, \"sod\": 144.0, \"pot\": 4.8, \"hemo\": 13.8, \"pcv\": 42.0, \"wbcc\": 9000.0, \"rbcc\": 4.5, \"htn\": \"no\", \"dm\": \"no\", \"cad\": \"no\", \"appet\": \"good\", \"pe\": \"no\", \"ane\": \"no\", \"class\": \"notckd\"}, {\"age\": 56.0, \"bp\": 80.0, \"sg\": 1.025, \"al\": 0.0, \"su\": 0.0, \"rbc\": \"normal\", \"pc\": \"normal\", \"pcc\": \"notpresent\", \"ba\": \"notpresent\", \"bgr\": 139.0, \"bu\": 15.0, \"sc\": 1.2, \"sod\": 135.0, \"pot\": 5.0, \"hemo\": 14.8, \"pcv\": 42.0, \"wbcc\": 5600.0, \"rbcc\": 5.5, \"htn\": \"no\", \"dm\": \"no\", \"cad\": \"no\", \"appet\": \"good\", \"pe\": \"no\", \"ane\": \"no\", \"class\": \"notckd\"}, {\"age\": 47.0, \"bp\": 80.0, \"sg\": 1.02, \"al\": 0.0, \"su\": 0.0, \"rbc\": \"normal\", \"pc\": \"normal\", \"pcc\": \"notpresent\", \"ba\": \"notpresent\", \"bgr\": 95.0, \"bu\": 35.0, \"sc\": 0.9, \"sod\": 140.0, \"pot\": 4.1, \"hemo\": 13.85, \"pcv\": 42.0, \"wbcc\": 7900.0, \"rbcc\": 4.9, \"htn\": \"no\", \"dm\": \"no\", \"cad\": \"no\", \"appet\": \"good\", \"pe\": \"no\", \"ane\": \"no\", \"class\": \"notckd\"}, {\"age\": 19.0, \"bp\": 80.0, \"sg\": 1.02, \"al\": 0.0, \"su\": 0.0, \"rbc\": \"normal\", \"pc\": \"normal\", \"pcc\": \"notpresent\", \"ba\": \"notpresent\", \"bgr\": 107.0, \"bu\": 23.0, \"sc\": 0.7, \"sod\": 141.0, \"pot\": 4.2, \"hemo\": 14.4, \"pcv\": 44.0, \"wbcc\": 7900.0, \"rbcc\": 4.9, \"htn\": \"no\", \"dm\": \"no\", \"cad\": \"no\", \"appet\": \"good\", \"pe\": \"no\", \"ane\": \"no\", \"class\": \"notckd\"}, {\"age\": 52.0, \"bp\": 80.0, \"sg\": 1.02, \"al\": 0.0, \"su\": 0.0, \"rbc\": \"normal\", \"pc\": \"normal\", \"pcc\": \"notpresent\", \"ba\": \"notpresent\", \"bgr\": 125.0, \"bu\": 22.0, \"sc\": 1.2, \"sod\": 139.0, \"pot\": 4.6, \"hemo\": 16.5, \"pcv\": 43.0, \"wbcc\": 4700.0, \"rbcc\": 4.6, \"htn\": \"no\", \"dm\": \"no\", \"cad\": \"no\", \"appet\": \"good\", \"pe\": \"no\", \"ane\": \"no\", \"class\": \"notckd\"}, {\"age\": 20.0, \"bp\": 60.0, \"sg\": 1.025, \"al\": 0.0, \"su\": 0.0, \"rbc\": \"normal\", \"pc\": \"normal\", \"pcc\": \"notpresent\", \"ba\": \"notpresent\", \"bgr\": 119.0, \"bu\": 40.0, \"sc\": 1.15, \"sod\": 137.0, \"pot\": 4.7, \"hemo\": 14.0, \"pcv\": 41.0, \"wbcc\": 4500.0, \"rbcc\": 5.5, \"htn\": \"no\", \"dm\": \"no\", \"cad\": \"no\", \"appet\": \"good\", \"pe\": \"no\", \"ane\": \"no\", \"class\": \"notckd\"}, {\"age\": 46.0, \"bp\": 60.0, \"sg\": 1.025, \"al\": 0.0, \"su\": 0.0, \"rbc\": \"normal\", \"pc\": \"normal\", \"pcc\": \"notpresent\", \"ba\": \"notpresent\", \"bgr\": 123.0, \"bu\": 46.0, \"sc\": 1.0, \"sod\": 135.0, \"pot\": 5.0, \"hemo\": 15.7, \"pcv\": 50.0, \"wbcc\": 6300.0, \"rbcc\": 4.8, \"htn\": \"no\", \"dm\": \"no\", \"cad\": \"no\", \"appet\": \"good\", \"pe\": \"no\", \"ane\": \"no\", \"class\": \"notckd\"}, {\"age\": 48.0, \"bp\": 60.0, \"sg\": 1.02, \"al\": 0.0, \"su\": 0.0, \"rbc\": \"normal\", \"pc\": \"normal\", \"pcc\": \"notpresent\", \"ba\": \"notpresent\", \"bgr\": 112.0, \"bu\": 44.0, \"sc\": 1.2, \"sod\": 142.0, \"pot\": 4.9, \"hemo\": 14.5, \"pcv\": 44.0, \"wbcc\": 9400.0, \"rbcc\": 6.4, \"htn\": \"no\", \"dm\": \"no\", \"cad\": \"no\", \"appet\": \"good\", \"pe\": \"no\", \"ane\": \"no\", \"class\": \"notckd\"}, {\"age\": 24.0, \"bp\": 70.0, \"sg\": 1.025, \"al\": 0.0, \"su\": 0.0, \"rbc\": \"normal\", \"pc\": \"normal\", \"pcc\": \"notpresent\", \"ba\": \"notpresent\", \"bgr\": 140.0, \"bu\": 23.0, \"sc\": 0.6, \"sod\": 140.0, \"pot\": 4.7, \"hemo\": 16.3, \"pcv\": 48.0, \"wbcc\": 5800.0, \"rbcc\": 5.6, \"htn\": \"no\", \"dm\": \"no\", \"cad\": \"no\", \"appet\": \"good\", \"pe\": \"no\", \"ane\": \"no\", \"class\": \"notckd\"}, {\"age\": 55.0, \"bp\": 80.0, \"sg\": 1.025, \"al\": 0.0, \"su\": 0.0, \"rbc\": \"normal\", \"pc\": \"normal\", \"pcc\": \"notpresent\", \"ba\": \"notpresent\", \"bgr\": 130.0, \"bu\": 50.0, \"sc\": 1.2, \"sod\": 147.0, \"pot\": 5.0, \"hemo\": 15.5, \"pcv\": 41.0, \"wbcc\": 9100.0, \"rbcc\": 6.0, \"htn\": \"no\", \"dm\": \"no\", \"cad\": \"no\", \"appet\": \"good\", \"pe\": \"no\", \"ane\": \"no\", \"class\": \"notckd\"}, {\"age\": 20.0, \"bp\": 70.0, \"sg\": 1.02, \"al\": 0.0, \"su\": 0.0, \"rbc\": \"normal\", \"pc\": \"normal\", \"pcc\": \"notpresent\", \"ba\": \"notpresent\", \"bgr\": 123.0, \"bu\": 44.0, \"sc\": 1.0, \"sod\": 135.0, \"pot\": 3.8, \"hemo\": 14.6, \"pcv\": 44.0, \"wbcc\": 5500.0, \"rbcc\": 4.8, \"htn\": \"no\", \"dm\": \"no\", \"cad\": \"no\", \"appet\": \"good\", \"pe\": \"no\", \"ane\": \"no\", \"class\": \"notckd\"}, {\"age\": 60.0, \"bp\": 70.0, \"sg\": 1.02, \"al\": 0.0, \"su\": 0.0, \"rbc\": \"normal\", \"pc\": \"normal\", \"pcc\": \"notpresent\", \"ba\": \"notpresent\", \"bgr\": 119.0, \"bu\": 40.0, \"sc\": 1.15, \"sod\": 139.0, \"pot\": 4.5, \"hemo\": 16.4, \"pcv\": 43.0, \"wbcc\": 10800.0, \"rbcc\": 5.7, \"htn\": \"no\", \"dm\": \"no\", \"cad\": \"no\", \"appet\": \"good\", \"pe\": \"no\", \"ane\": \"no\", \"class\": \"notckd\"}, {\"age\": 33.0, \"bp\": 80.0, \"sg\": 1.025, \"al\": 0.0, \"su\": 0.0, \"rbc\": \"normal\", \"pc\": \"normal\", \"pcc\": \"notpresent\", \"ba\": \"notpresent\", \"bgr\": 100.0, \"bu\": 37.0, \"sc\": 1.2, \"sod\": 142.0, \"pot\": 4.0, \"hemo\": 16.9, \"pcv\": 52.0, \"wbcc\": 6700.0, \"rbcc\": 6.0, \"htn\": \"no\", \"dm\": \"no\", \"cad\": \"no\", \"appet\": \"good\", \"pe\": \"no\", \"ane\": \"no\", \"class\": \"notckd\"}, {\"age\": 66.0, \"bp\": 70.0, \"sg\": 1.02, \"al\": 0.0, \"su\": 0.0, \"rbc\": \"normal\", \"pc\": \"normal\", \"pcc\": \"notpresent\", \"ba\": \"notpresent\", \"bgr\": 94.0, \"bu\": 19.0, \"sc\": 0.7, \"sod\": 135.0, \"pot\": 3.9, \"hemo\": 16.0, \"pcv\": 41.0, \"wbcc\": 5300.0, \"rbcc\": 5.9, \"htn\": \"no\", \"dm\": \"no\", \"cad\": \"no\", \"appet\": \"good\", \"pe\": \"no\", \"ane\": \"no\", \"class\": \"notckd\"}, {\"age\": 71.0, \"bp\": 70.0, \"sg\": 1.02, \"al\": 0.0, \"su\": 0.0, \"rbc\": \"normal\", \"pc\": \"normal\", \"pcc\": \"notpresent\", \"ba\": \"notpresent\", \"bgr\": 81.0, \"bu\": 18.0, \"sc\": 0.8, \"sod\": 145.0, \"pot\": 5.0, \"hemo\": 14.7, \"pcv\": 44.0, \"wbcc\": 9800.0, \"rbcc\": 6.0, \"htn\": \"no\", \"dm\": \"no\", \"cad\": \"no\", \"appet\": \"good\", \"pe\": \"no\", \"ane\": \"no\", \"class\": \"notckd\"}, {\"age\": 39.0, \"bp\": 70.0, \"sg\": 1.025, \"al\": 0.0, \"su\": 0.0, \"rbc\": \"normal\", \"pc\": \"normal\", \"pcc\": \"notpresent\", \"ba\": \"notpresent\", \"bgr\": 124.0, \"bu\": 22.0, \"sc\": 0.6, \"sod\": 137.0, \"pot\": 3.8, \"hemo\": 13.4, \"pcv\": 43.0, \"wbcc\": 7900.0, \"rbcc\": 4.9, \"htn\": \"no\", \"dm\": \"no\", \"cad\": \"no\", \"appet\": \"good\", \"pe\": \"no\", \"ane\": \"no\", \"class\": \"notckd\"}, {\"age\": 56.0, \"bp\": 70.0, \"sg\": 1.025, \"al\": 0.0, \"su\": 0.0, \"rbc\": \"normal\", \"pc\": \"normal\", \"pcc\": \"notpresent\", \"ba\": \"notpresent\", \"bgr\": 70.0, \"bu\": 46.0, \"sc\": 1.2, \"sod\": 135.0, \"pot\": 4.9, \"hemo\": 15.9, \"pcv\": 50.0, \"wbcc\": 11000.0, \"rbcc\": 5.1, \"htn\": \"no\", \"dm\": \"no\", \"cad\": \"no\", \"appet\": \"good\", \"pe\": \"no\", \"ane\": \"no\", \"class\": \"notckd\"}, {\"age\": 42.0, \"bp\": 70.0, \"sg\": 1.02, \"al\": 0.0, \"su\": 0.0, \"rbc\": \"normal\", \"pc\": \"normal\", \"pcc\": \"notpresent\", \"ba\": \"notpresent\", \"bgr\": 93.0, \"bu\": 32.0, \"sc\": 0.9, \"sod\": 143.0, \"pot\": 4.7, \"hemo\": 16.6, \"pcv\": 43.0, \"wbcc\": 7100.0, \"rbcc\": 5.3, \"htn\": \"no\", \"dm\": \"no\", \"cad\": \"no\", \"appet\": \"good\", \"pe\": \"no\", \"ane\": \"no\", \"class\": \"notckd\"}, {\"age\": 47.0, \"bp\": 80.0, \"sg\": 1.025, \"al\": 0.0, \"su\": 0.0, \"rbc\": \"normal\", \"pc\": \"normal\", \"pcc\": \"notpresent\", \"ba\": \"notpresent\", \"bgr\": 124.0, \"bu\": 44.0, \"sc\": 1.0, \"sod\": 140.0, \"pot\": 4.9, \"hemo\": 14.9, \"pcv\": 41.0, \"wbcc\": 7000.0, \"rbcc\": 5.7, \"htn\": \"no\", \"dm\": \"no\", \"cad\": \"no\", \"appet\": \"good\", \"pe\": \"no\", \"ane\": \"no\", \"class\": \"notckd\"}, {\"age\": 30.0, \"bp\": 80.0, \"sg\": 1.02, \"al\": 0.0, \"su\": 0.0, \"rbc\": \"normal\", \"pc\": \"normal\", \"pcc\": \"notpresent\", \"ba\": \"notpresent\", \"bgr\": 89.0, \"bu\": 42.0, \"sc\": 0.5, \"sod\": 139.0, \"pot\": 5.0, \"hemo\": 16.7, \"pcv\": 52.0, \"wbcc\": 10200.0, \"rbcc\": 5.0, \"htn\": \"no\", \"dm\": \"no\", \"cad\": \"no\", \"appet\": \"good\", \"pe\": \"no\", \"ane\": \"no\", \"class\": \"notckd\"}, {\"age\": 50.0, \"bp\": 80.0, \"sg\": 1.02, \"al\": 0.0, \"su\": 0.0, \"rbc\": \"normal\", \"pc\": \"normal\", \"pcc\": \"notpresent\", \"ba\": \"notpresent\", \"bgr\": 92.0, \"bu\": 19.0, \"sc\": 1.2, \"sod\": 150.0, \"pot\": 4.8, \"hemo\": 14.9, \"pcv\": 48.0, \"wbcc\": 4700.0, \"rbcc\": 5.4, \"htn\": \"no\", \"dm\": \"no\", \"cad\": \"no\", \"appet\": \"good\", \"pe\": \"no\", \"ane\": \"no\", \"class\": \"notckd\"}, {\"age\": 75.0, \"bp\": 60.0, \"sg\": 1.02, \"al\": 0.0, \"su\": 0.0, \"rbc\": \"normal\", \"pc\": \"normal\", \"pcc\": \"notpresent\", \"ba\": \"notpresent\", \"bgr\": 110.0, \"bu\": 50.0, \"sc\": 0.7, \"sod\": 135.0, \"pot\": 5.0, \"hemo\": 14.3, \"pcv\": 40.0, \"wbcc\": 8300.0, \"rbcc\": 5.8, \"htn\": \"no\", \"dm\": \"no\", \"cad\": \"no\", \"appet\": \"good\", \"pe\": \"no\", \"ane\": \"no\", \"class\": \"notckd\"}, {\"age\": 41.0, \"bp\": 70.0, \"sg\": 1.02, \"al\": 0.0, \"su\": 0.0, \"rbc\": \"normal\", \"pc\": \"normal\", \"pcc\": \"notpresent\", \"ba\": \"notpresent\", \"bgr\": 125.0, \"bu\": 38.0, \"sc\": 0.6, \"sod\": 140.0, \"pot\": 5.0, \"hemo\": 16.8, \"pcv\": 41.0, \"wbcc\": 6300.0, \"rbcc\": 5.9, \"htn\": \"no\", \"dm\": \"no\", \"cad\": \"no\", \"appet\": \"good\", \"pe\": \"no\", \"ane\": \"no\", \"class\": \"notckd\"}, {\"age\": 53.0, \"bp\": 60.0, \"sg\": 1.025, \"al\": 0.0, \"su\": 0.0, \"rbc\": \"normal\", \"pc\": \"normal\", \"pcc\": \"notpresent\", \"ba\": \"notpresent\", \"bgr\": 116.0, \"bu\": 26.0, \"sc\": 1.0, \"sod\": 146.0, \"pot\": 4.9, \"hemo\": 15.8, \"pcv\": 45.0, \"wbcc\": 7700.0, \"rbcc\": 5.2, \"htn\": \"no\", \"dm\": \"no\", \"cad\": \"no\", \"appet\": \"good\", \"pe\": \"no\", \"ane\": \"no\", \"class\": \"notckd\"}, {\"age\": 34.0, \"bp\": 60.0, \"sg\": 1.02, \"al\": 0.0, \"su\": 0.0, \"rbc\": \"normal\", \"pc\": \"normal\", \"pcc\": \"notpresent\", \"ba\": \"notpresent\", \"bgr\": 91.0, \"bu\": 49.0, \"sc\": 1.2, \"sod\": 135.0, \"pot\": 4.5, \"hemo\": 13.5, \"pcv\": 48.0, \"wbcc\": 8600.0, \"rbcc\": 4.9, \"htn\": \"no\", \"dm\": \"no\", \"cad\": \"no\", \"appet\": \"good\", \"pe\": \"no\", \"ane\": \"no\", \"class\": \"notckd\"}, {\"age\": 73.0, \"bp\": 60.0, \"sg\": 1.02, \"al\": 0.0, \"su\": 0.0, \"rbc\": \"normal\", \"pc\": \"normal\", \"pcc\": \"notpresent\", \"ba\": \"notpresent\", \"bgr\": 127.0, \"bu\": 48.0, \"sc\": 0.5, \"sod\": 150.0, \"pot\": 3.5, \"hemo\": 15.1, \"pcv\": 52.0, \"wbcc\": 11000.0, \"rbcc\": 4.7, \"htn\": \"no\", \"dm\": \"no\", \"cad\": \"no\", \"appet\": \"good\", \"pe\": \"no\", \"ane\": \"no\", \"class\": \"notckd\"}, {\"age\": 45.0, \"bp\": 60.0, \"sg\": 1.02, \"al\": 0.0, \"su\": 0.0, \"rbc\": \"normal\", \"pc\": \"normal\", \"pcc\": \"notpresent\", \"ba\": \"notpresent\", \"bgr\": 114.0, \"bu\": 26.0, \"sc\": 0.7, \"sod\": 141.0, \"pot\": 4.2, \"hemo\": 15.0, \"pcv\": 43.0, \"wbcc\": 9200.0, \"rbcc\": 5.8, \"htn\": \"no\", \"dm\": \"no\", \"cad\": \"no\", \"appet\": \"good\", \"pe\": \"no\", \"ane\": \"no\", \"class\": \"notckd\"}, {\"age\": 44.0, \"bp\": 60.0, \"sg\": 1.025, \"al\": 0.0, \"su\": 0.0, \"rbc\": \"normal\", \"pc\": \"normal\", \"pcc\": \"notpresent\", \"ba\": \"notpresent\", \"bgr\": 96.0, \"bu\": 33.0, \"sc\": 0.9, \"sod\": 147.0, \"pot\": 4.5, \"hemo\": 16.9, \"pcv\": 41.0, \"wbcc\": 7200.0, \"rbcc\": 5.0, \"htn\": \"no\", \"dm\": \"no\", \"cad\": \"no\", \"appet\": \"good\", \"pe\": \"no\", \"ane\": \"no\", \"class\": \"notckd\"}, {\"age\": 29.0, \"bp\": 70.0, \"sg\": 1.02, \"al\": 0.0, \"su\": 0.0, \"rbc\": \"normal\", \"pc\": \"normal\", \"pcc\": \"notpresent\", \"ba\": \"notpresent\", \"bgr\": 127.0, \"bu\": 44.0, \"sc\": 1.2, \"sod\": 145.0, \"pot\": 5.0, \"hemo\": 14.8, \"pcv\": 48.0, \"wbcc\": 7900.0, \"rbcc\": 4.9, \"htn\": \"no\", \"dm\": \"no\", \"cad\": \"no\", \"appet\": \"good\", \"pe\": \"no\", \"ane\": \"no\", \"class\": \"notckd\"}, {\"age\": 55.0, \"bp\": 70.0, \"sg\": 1.02, \"al\": 0.0, \"su\": 0.0, \"rbc\": \"normal\", \"pc\": \"normal\", \"pcc\": \"notpresent\", \"ba\": \"notpresent\", \"bgr\": 107.0, \"bu\": 26.0, \"sc\": 1.1, \"sod\": 139.0, \"pot\": 4.5, \"hemo\": 17.0, \"pcv\": 50.0, \"wbcc\": 6700.0, \"rbcc\": 6.1, \"htn\": \"no\", \"dm\": \"no\", \"cad\": \"no\", \"appet\": \"good\", \"pe\": \"no\", \"ane\": \"no\", \"class\": \"notckd\"}, {\"age\": 33.0, \"bp\": 80.0, \"sg\": 1.025, \"al\": 0.0, \"su\": 0.0, \"rbc\": \"normal\", \"pc\": \"normal\", \"pcc\": \"notpresent\", \"ba\": \"notpresent\", \"bgr\": 128.0, \"bu\": 38.0, \"sc\": 0.6, \"sod\": 135.0, \"pot\": 3.9, \"hemo\": 13.1, \"pcv\": 45.0, \"wbcc\": 6200.0, \"rbcc\": 4.5, \"htn\": \"no\", \"dm\": \"no\", \"cad\": \"no\", \"appet\": \"good\", \"pe\": \"no\", \"ane\": \"no\", \"class\": \"notckd\"}, {\"age\": 41.0, \"bp\": 80.0, \"sg\": 1.02, \"al\": 0.0, \"su\": 0.0, \"rbc\": \"normal\", \"pc\": \"normal\", \"pcc\": \"notpresent\", \"ba\": \"notpresent\", \"bgr\": 122.0, \"bu\": 25.0, \"sc\": 0.8, \"sod\": 138.0, \"pot\": 5.0, \"hemo\": 17.1, \"pcv\": 41.0, \"wbcc\": 9100.0, \"rbcc\": 5.2, \"htn\": \"no\", \"dm\": \"no\", \"cad\": \"no\", \"appet\": \"good\", \"pe\": \"no\", \"ane\": \"no\", \"class\": \"notckd\"}, {\"age\": 52.0, \"bp\": 80.0, \"sg\": 1.02, \"al\": 0.0, \"su\": 0.0, \"rbc\": \"normal\", \"pc\": \"normal\", \"pcc\": \"notpresent\", \"ba\": \"notpresent\", \"bgr\": 128.0, \"bu\": 30.0, \"sc\": 1.2, \"sod\": 140.0, \"pot\": 4.5, \"hemo\": 15.2, \"pcv\": 52.0, \"wbcc\": 4300.0, \"rbcc\": 5.7, \"htn\": \"no\", \"dm\": \"no\", \"cad\": \"no\", \"appet\": \"good\", \"pe\": \"no\", \"ane\": \"no\", \"class\": \"notckd\"}, {\"age\": 47.0, \"bp\": 60.0, \"sg\": 1.02, \"al\": 0.0, \"su\": 0.0, \"rbc\": \"normal\", \"pc\": \"normal\", \"pcc\": \"notpresent\", \"ba\": \"notpresent\", \"bgr\": 137.0, \"bu\": 17.0, \"sc\": 0.5, \"sod\": 150.0, \"pot\": 3.5, \"hemo\": 13.6, \"pcv\": 44.0, \"wbcc\": 7900.0, \"rbcc\": 4.5, \"htn\": \"no\", \"dm\": \"no\", \"cad\": \"no\", \"appet\": \"good\", \"pe\": \"no\", \"ane\": \"no\", \"class\": \"notckd\"}, {\"age\": 43.0, \"bp\": 80.0, \"sg\": 1.025, \"al\": 0.0, \"su\": 0.0, \"rbc\": \"normal\", \"pc\": \"normal\", \"pcc\": \"notpresent\", \"ba\": \"notpresent\", \"bgr\": 81.0, \"bu\": 46.0, \"sc\": 0.6, \"sod\": 135.0, \"pot\": 4.9, \"hemo\": 13.9, \"pcv\": 48.0, \"wbcc\": 6900.0, \"rbcc\": 4.9, \"htn\": \"no\", \"dm\": \"no\", \"cad\": \"no\", \"appet\": \"good\", \"pe\": \"no\", \"ane\": \"no\", \"class\": \"notckd\"}, {\"age\": 46.0, \"bp\": 60.0, \"sg\": 1.02, \"al\": 0.0, \"su\": 0.0, \"rbc\": \"normal\", \"pc\": \"normal\", \"pcc\": \"notpresent\", \"ba\": \"notpresent\", \"bgr\": 102.0, \"bu\": 27.0, \"sc\": 0.7, \"sod\": 142.0, \"pot\": 4.9, \"hemo\": 13.2, \"pcv\": 44.0, \"wbcc\": 11000.0, \"rbcc\": 5.4, \"htn\": \"no\", \"dm\": \"no\", \"cad\": \"no\", \"appet\": \"good\", \"pe\": \"no\", \"ane\": \"no\", \"class\": \"notckd\"}, {\"age\": 56.0, \"bp\": 60.0, \"sg\": 1.025, \"al\": 0.0, \"su\": 0.0, \"rbc\": \"normal\", \"pc\": \"normal\", \"pcc\": \"notpresent\", \"ba\": \"notpresent\", \"bgr\": 132.0, \"bu\": 18.0, \"sc\": 1.1, \"sod\": 147.0, \"pot\": 4.7, \"hemo\": 13.7, \"pcv\": 45.0, \"wbcc\": 7500.0, \"rbcc\": 5.6, \"htn\": \"no\", \"dm\": \"no\", \"cad\": \"no\", \"appet\": \"good\", \"pe\": \"no\", \"ane\": \"no\", \"class\": \"notckd\"}, {\"age\": 80.0, \"bp\": 70.0, \"sg\": 1.02, \"al\": 0.0, \"su\": 0.0, \"rbc\": \"normal\", \"pc\": \"normal\", \"pcc\": \"notpresent\", \"ba\": \"notpresent\", \"bgr\": 119.0, \"bu\": 40.0, \"sc\": 1.15, \"sod\": 135.0, \"pot\": 4.1, \"hemo\": 15.3, \"pcv\": 48.0, \"wbcc\": 6300.0, \"rbcc\": 6.1, \"htn\": \"no\", \"dm\": \"no\", \"cad\": \"no\", \"appet\": \"good\", \"pe\": \"no\", \"ane\": \"no\", \"class\": \"notckd\"}, {\"age\": 55.0, \"bp\": 80.0, \"sg\": 1.02, \"al\": 0.0, \"su\": 0.0, \"rbc\": \"normal\", \"pc\": \"normal\", \"pcc\": \"notpresent\", \"ba\": \"notpresent\", \"bgr\": 104.0, \"bu\": 28.0, \"sc\": 0.9, \"sod\": 142.0, \"pot\": 4.8, \"hemo\": 17.3, \"pcv\": 52.0, \"wbcc\": 8200.0, \"rbcc\": 4.8, \"htn\": \"no\", \"dm\": \"no\", \"cad\": \"no\", \"appet\": \"good\", \"pe\": \"no\", \"ane\": \"no\", \"class\": \"notckd\"}, {\"age\": 39.0, \"bp\": 70.0, \"sg\": 1.025, \"al\": 0.0, \"su\": 0.0, \"rbc\": \"normal\", \"pc\": \"normal\", \"pcc\": \"notpresent\", \"ba\": \"notpresent\", \"bgr\": 131.0, \"bu\": 46.0, \"sc\": 0.6, \"sod\": 145.0, \"pot\": 5.0, \"hemo\": 15.6, \"pcv\": 41.0, \"wbcc\": 9400.0, \"rbcc\": 4.7, \"htn\": \"no\", \"dm\": \"no\", \"cad\": \"no\", \"appet\": \"good\", \"pe\": \"no\", \"ane\": \"no\", \"class\": \"notckd\"}, {\"age\": 44.0, \"bp\": 70.0, \"sg\": 1.025, \"al\": 0.0, \"su\": 0.0, \"rbc\": \"normal\", \"pc\": \"normal\", \"pcc\": \"notpresent\", \"ba\": \"notpresent\", \"bgr\": 119.0, \"bu\": 40.0, \"sc\": 1.15, \"sod\": 139.0, \"pot\": 4.5, \"hemo\": 13.8, \"pcv\": 48.0, \"wbcc\": 7800.0, \"rbcc\": 4.4, \"htn\": \"no\", \"dm\": \"no\", \"cad\": \"no\", \"appet\": \"good\", \"pe\": \"no\", \"ane\": \"no\", \"class\": \"notckd\"}, {\"age\": 35.0, \"bp\": 80.0, \"sg\": 1.02, \"al\": 0.0, \"su\": 0.0, \"rbc\": \"normal\", \"pc\": \"normal\", \"pcc\": \"notpresent\", \"ba\": \"notpresent\", \"bgr\": 99.0, \"bu\": 30.0, \"sc\": 0.5, \"sod\": 135.0, \"pot\": 4.9, \"hemo\": 15.4, \"pcv\": 48.0, \"wbcc\": 5000.0, \"rbcc\": 5.2, \"htn\": \"no\", \"dm\": \"no\", \"cad\": \"no\", \"appet\": \"good\", \"pe\": \"no\", \"ane\": \"no\", \"class\": \"notckd\"}, {\"age\": 58.0, \"bp\": 70.0, \"sg\": 1.02, \"al\": 0.0, \"su\": 0.0, \"rbc\": \"normal\", \"pc\": \"normal\", \"pcc\": \"notpresent\", \"ba\": \"notpresent\", \"bgr\": 102.0, \"bu\": 48.0, \"sc\": 1.2, \"sod\": 139.0, \"pot\": 4.3, \"hemo\": 15.0, \"pcv\": 40.0, \"wbcc\": 8100.0, \"rbcc\": 4.9, \"htn\": \"no\", \"dm\": \"no\", \"cad\": \"no\", \"appet\": \"good\", \"pe\": \"no\", \"ane\": \"no\", \"class\": \"notckd\"}, {\"age\": 61.0, \"bp\": 70.0, \"sg\": 1.025, \"al\": 0.0, \"su\": 0.0, \"rbc\": \"normal\", \"pc\": \"normal\", \"pcc\": \"notpresent\", \"ba\": \"notpresent\", \"bgr\": 120.0, \"bu\": 29.0, \"sc\": 0.7, \"sod\": 137.0, \"pot\": 3.5, \"hemo\": 17.4, \"pcv\": 52.0, \"wbcc\": 7000.0, \"rbcc\": 5.3, \"htn\": \"no\", \"dm\": \"no\", \"cad\": \"no\", \"appet\": \"good\", \"pe\": \"no\", \"ane\": \"no\", \"class\": \"notckd\"}, {\"age\": 30.0, \"bp\": 60.0, \"sg\": 1.02, \"al\": 0.0, \"su\": 0.0, \"rbc\": \"normal\", \"pc\": \"normal\", \"pcc\": \"notpresent\", \"ba\": \"notpresent\", \"bgr\": 138.0, \"bu\": 15.0, \"sc\": 1.1, \"sod\": 135.0, \"pot\": 4.4, \"hemo\": 13.85, \"pcv\": 42.0, \"wbcc\": 7900.0, \"rbcc\": 4.9, \"htn\": \"no\", \"dm\": \"no\", \"cad\": \"no\", \"appet\": \"good\", \"pe\": \"no\", \"ane\": \"no\", \"class\": \"notckd\"}, {\"age\": 57.0, \"bp\": 60.0, \"sg\": 1.02, \"al\": 0.0, \"su\": 0.0, \"rbc\": \"normal\", \"pc\": \"normal\", \"pcc\": \"notpresent\", \"ba\": \"notpresent\", \"bgr\": 105.0, \"bu\": 49.0, \"sc\": 1.2, \"sod\": 150.0, \"pot\": 4.7, \"hemo\": 15.7, \"pcv\": 44.0, \"wbcc\": 10400.0, \"rbcc\": 6.2, \"htn\": \"no\", \"dm\": \"no\", \"cad\": \"no\", \"appet\": \"good\", \"pe\": \"no\", \"ane\": \"no\", \"class\": \"notckd\"}, {\"age\": 65.0, \"bp\": 60.0, \"sg\": 1.02, \"al\": 0.0, \"su\": 0.0, \"rbc\": \"normal\", \"pc\": \"normal\", \"pcc\": \"notpresent\", \"ba\": \"notpresent\", \"bgr\": 109.0, \"bu\": 39.0, \"sc\": 1.0, \"sod\": 144.0, \"pot\": 3.5, \"hemo\": 13.9, \"pcv\": 48.0, \"wbcc\": 9600.0, \"rbcc\": 4.8, \"htn\": \"no\", \"dm\": \"no\", \"cad\": \"no\", \"appet\": \"good\", \"pe\": \"no\", \"ane\": \"no\", \"class\": \"notckd\"}, {\"age\": 43.0, \"bp\": 80.0, \"sg\": 1.025, \"al\": 0.0, \"su\": 0.0, \"rbc\": \"normal\", \"pc\": \"normal\", \"pcc\": \"notpresent\", \"ba\": \"notpresent\", \"bgr\": 130.0, \"bu\": 30.0, \"sc\": 1.1, \"sod\": 143.0, \"pot\": 5.0, \"hemo\": 15.9, \"pcv\": 45.0, \"wbcc\": 7800.0, \"rbcc\": 4.5, \"htn\": \"no\", \"dm\": \"no\", \"cad\": \"no\", \"appet\": \"good\", \"pe\": \"no\", \"ane\": \"no\", \"class\": \"notckd\"}, {\"age\": 40.0, \"bp\": 80.0, \"sg\": 1.02, \"al\": 0.0, \"su\": 0.0, \"rbc\": \"normal\", \"pc\": \"normal\", \"pcc\": \"notpresent\", \"ba\": \"notpresent\", \"bgr\": 119.0, \"bu\": 15.0, \"sc\": 0.7, \"sod\": 150.0, \"pot\": 4.9, \"hemo\": 13.85, \"pcv\": 42.0, \"wbcc\": 7900.0, \"rbcc\": 4.9, \"htn\": \"no\", \"dm\": \"no\", \"cad\": \"no\", \"appet\": \"good\", \"pe\": \"no\", \"ane\": \"no\", \"class\": \"notckd\"}, {\"age\": 58.0, \"bp\": 80.0, \"sg\": 1.02, \"al\": 0.0, \"su\": 0.0, \"rbc\": \"normal\", \"pc\": \"normal\", \"pcc\": \"notpresent\", \"ba\": \"notpresent\", \"bgr\": 100.0, \"bu\": 50.0, \"sc\": 1.2, \"sod\": 140.0, \"pot\": 3.5, \"hemo\": 14.0, \"pcv\": 50.0, \"wbcc\": 6700.0, \"rbcc\": 6.5, \"htn\": \"no\", \"dm\": \"no\", \"cad\": \"no\", \"appet\": \"good\", \"pe\": \"no\", \"ane\": \"no\", \"class\": \"notckd\"}, {\"age\": 47.0, \"bp\": 60.0, \"sg\": 1.02, \"al\": 0.0, \"su\": 0.0, \"rbc\": \"normal\", \"pc\": \"normal\", \"pcc\": \"notpresent\", \"ba\": \"notpresent\", \"bgr\": 109.0, \"bu\": 25.0, \"sc\": 1.1, \"sod\": 141.0, \"pot\": 4.7, \"hemo\": 15.8, \"pcv\": 41.0, \"wbcc\": 8300.0, \"rbcc\": 5.2, \"htn\": \"no\", \"dm\": \"no\", \"cad\": \"no\", \"appet\": \"good\", \"pe\": \"no\", \"ane\": \"no\", \"class\": \"notckd\"}, {\"age\": 30.0, \"bp\": 60.0, \"sg\": 1.025, \"al\": 0.0, \"su\": 0.0, \"rbc\": \"normal\", \"pc\": \"normal\", \"pcc\": \"notpresent\", \"ba\": \"notpresent\", \"bgr\": 120.0, \"bu\": 31.0, \"sc\": 0.8, \"sod\": 150.0, \"pot\": 4.6, \"hemo\": 13.4, \"pcv\": 44.0, \"wbcc\": 10700.0, \"rbcc\": 5.8, \"htn\": \"no\", \"dm\": \"no\", \"cad\": \"no\", \"appet\": \"good\", \"pe\": \"no\", \"ane\": \"no\", \"class\": \"notckd\"}, {\"age\": 28.0, \"bp\": 70.0, \"sg\": 1.02, \"al\": 0.0, \"su\": 0.0, \"rbc\": \"normal\", \"pc\": \"normal\", \"pcc\": \"notpresent\", \"ba\": \"notpresent\", \"bgr\": 131.0, \"bu\": 29.0, \"sc\": 0.6, \"sod\": 145.0, \"pot\": 4.9, \"hemo\": 13.85, \"pcv\": 45.0, \"wbcc\": 8600.0, \"rbcc\": 6.5, \"htn\": \"no\", \"dm\": \"no\", \"cad\": \"no\", \"appet\": \"good\", \"pe\": \"no\", \"ane\": \"no\", \"class\": \"notckd\"}, {\"age\": 33.0, \"bp\": 60.0, \"sg\": 1.025, \"al\": 0.0, \"su\": 0.0, \"rbc\": \"normal\", \"pc\": \"normal\", \"pcc\": \"notpresent\", \"ba\": \"notpresent\", \"bgr\": 80.0, \"bu\": 25.0, \"sc\": 0.9, \"sod\": 146.0, \"pot\": 3.5, \"hemo\": 14.1, \"pcv\": 48.0, \"wbcc\": 7800.0, \"rbcc\": 5.1, \"htn\": \"no\", \"dm\": \"no\", \"cad\": \"no\", \"appet\": \"good\", \"pe\": \"no\", \"ane\": \"no\", \"class\": \"notckd\"}, {\"age\": 43.0, \"bp\": 80.0, \"sg\": 1.02, \"al\": 0.0, \"su\": 0.0, \"rbc\": \"normal\", \"pc\": \"normal\", \"pcc\": \"notpresent\", \"ba\": \"notpresent\", \"bgr\": 114.0, \"bu\": 32.0, \"sc\": 1.1, \"sod\": 135.0, \"pot\": 3.9, \"hemo\": 13.85, \"pcv\": 42.0, \"wbcc\": 7900.0, \"rbcc\": 4.9, \"htn\": \"no\", \"dm\": \"no\", \"cad\": \"no\", \"appet\": \"good\", \"pe\": \"no\", \"ane\": \"no\", \"class\": \"notckd\"}, {\"age\": 59.0, \"bp\": 70.0, \"sg\": 1.025, \"al\": 0.0, \"su\": 0.0, \"rbc\": \"normal\", \"pc\": \"normal\", \"pcc\": \"notpresent\", \"ba\": \"notpresent\", \"bgr\": 130.0, \"bu\": 39.0, \"sc\": 0.7, \"sod\": 147.0, \"pot\": 4.7, \"hemo\": 13.5, \"pcv\": 46.0, \"wbcc\": 6700.0, \"rbcc\": 4.5, \"htn\": \"no\", \"dm\": \"no\", \"cad\": \"no\", \"appet\": \"good\", \"pe\": \"no\", \"ane\": \"no\", \"class\": \"notckd\"}, {\"age\": 34.0, \"bp\": 70.0, \"sg\": 1.025, \"al\": 0.0, \"su\": 0.0, \"rbc\": \"normal\", \"pc\": \"normal\", \"pcc\": \"notpresent\", \"ba\": \"notpresent\", \"bgr\": 119.0, \"bu\": 33.0, \"sc\": 1.0, \"sod\": 150.0, \"pot\": 5.0, \"hemo\": 15.3, \"pcv\": 44.0, \"wbcc\": 10500.0, \"rbcc\": 6.1, \"htn\": \"no\", \"dm\": \"no\", \"cad\": \"no\", \"appet\": \"good\", \"pe\": \"no\", \"ane\": \"no\", \"class\": \"notckd\"}, {\"age\": 23.0, \"bp\": 80.0, \"sg\": 1.02, \"al\": 0.0, \"su\": 0.0, \"rbc\": \"normal\", \"pc\": \"normal\", \"pcc\": \"notpresent\", \"ba\": \"notpresent\", \"bgr\": 99.0, \"bu\": 46.0, \"sc\": 1.2, \"sod\": 142.0, \"pot\": 4.0, \"hemo\": 17.7, \"pcv\": 46.0, \"wbcc\": 4300.0, \"rbcc\": 5.5, \"htn\": \"no\", \"dm\": \"no\", \"cad\": \"no\", \"appet\": \"good\", \"pe\": \"no\", \"ane\": \"no\", \"class\": \"notckd\"}, {\"age\": 24.0, \"bp\": 80.0, \"sg\": 1.025, \"al\": 0.0, \"su\": 0.0, \"rbc\": \"normal\", \"pc\": \"normal\", \"pcc\": \"notpresent\", \"ba\": \"notpresent\", \"bgr\": 125.0, \"bu\": 40.0, \"sc\": 1.15, \"sod\": 136.0, \"pot\": 3.5, \"hemo\": 15.4, \"pcv\": 43.0, \"wbcc\": 5600.0, \"rbcc\": 4.5, \"htn\": \"no\", \"dm\": \"no\", \"cad\": \"no\", \"appet\": \"good\", \"pe\": \"no\", \"ane\": \"no\", \"class\": \"notckd\"}, {\"age\": 60.0, \"bp\": 60.0, \"sg\": 1.02, \"al\": 0.0, \"su\": 0.0, \"rbc\": \"normal\", \"pc\": \"normal\", \"pcc\": \"notpresent\", \"ba\": \"notpresent\", \"bgr\": 134.0, \"bu\": 45.0, \"sc\": 0.5, \"sod\": 139.0, \"pot\": 4.8, \"hemo\": 14.2, \"pcv\": 48.0, \"wbcc\": 10700.0, \"rbcc\": 5.6, \"htn\": \"no\", \"dm\": \"no\", \"cad\": \"no\", \"appet\": \"good\", \"pe\": \"no\", \"ane\": \"no\", \"class\": \"notckd\"}, {\"age\": 25.0, \"bp\": 60.0, \"sg\": 1.02, \"al\": 0.0, \"su\": 0.0, \"rbc\": \"normal\", \"pc\": \"normal\", \"pcc\": \"notpresent\", \"ba\": \"notpresent\", \"bgr\": 119.0, \"bu\": 27.0, \"sc\": 0.5, \"sod\": 139.0, \"pot\": 4.5, \"hemo\": 15.2, \"pcv\": 40.0, \"wbcc\": 9200.0, \"rbcc\": 5.2, \"htn\": \"no\", \"dm\": \"no\", \"cad\": \"no\", \"appet\": \"good\", \"pe\": \"no\", \"ane\": \"no\", \"class\": \"notckd\"}, {\"age\": 44.0, \"bp\": 70.0, \"sg\": 1.025, \"al\": 0.0, \"su\": 0.0, \"rbc\": \"normal\", \"pc\": \"normal\", \"pcc\": \"notpresent\", \"ba\": \"notpresent\", \"bgr\": 92.0, \"bu\": 40.0, \"sc\": 0.9, \"sod\": 141.0, \"pot\": 4.9, \"hemo\": 14.0, \"pcv\": 52.0, \"wbcc\": 7500.0, \"rbcc\": 6.2, \"htn\": \"no\", \"dm\": \"no\", \"cad\": \"no\", \"appet\": \"good\", \"pe\": \"no\", \"ane\": \"no\", \"class\": \"notckd\"}, {\"age\": 62.0, \"bp\": 80.0, \"sg\": 1.02, \"al\": 0.0, \"su\": 0.0, \"rbc\": \"normal\", \"pc\": \"normal\", \"pcc\": \"notpresent\", \"ba\": \"notpresent\", \"bgr\": 132.0, \"bu\": 34.0, \"sc\": 0.8, \"sod\": 147.0, \"pot\": 3.5, \"hemo\": 17.8, \"pcv\": 44.0, \"wbcc\": 4700.0, \"rbcc\": 4.5, \"htn\": \"no\", \"dm\": \"no\", \"cad\": \"no\", \"appet\": \"good\", \"pe\": \"no\", \"ane\": \"no\", \"class\": \"notckd\"}, {\"age\": 25.0, \"bp\": 70.0, \"sg\": 1.02, \"al\": 0.0, \"su\": 0.0, \"rbc\": \"normal\", \"pc\": \"normal\", \"pcc\": \"notpresent\", \"ba\": \"notpresent\", \"bgr\": 88.0, \"bu\": 42.0, \"sc\": 0.5, \"sod\": 136.0, \"pot\": 3.5, \"hemo\": 13.3, \"pcv\": 48.0, \"wbcc\": 7000.0, \"rbcc\": 4.9, \"htn\": \"no\", \"dm\": \"no\", \"cad\": \"no\", \"appet\": \"good\", \"pe\": \"no\", \"ane\": \"no\", \"class\": \"notckd\"}, {\"age\": 32.0, \"bp\": 70.0, \"sg\": 1.025, \"al\": 0.0, \"su\": 0.0, \"rbc\": \"normal\", \"pc\": \"normal\", \"pcc\": \"notpresent\", \"ba\": \"notpresent\", \"bgr\": 100.0, \"bu\": 29.0, \"sc\": 1.1, \"sod\": 142.0, \"pot\": 4.5, \"hemo\": 14.3, \"pcv\": 43.0, \"wbcc\": 6700.0, \"rbcc\": 5.9, \"htn\": \"no\", \"dm\": \"no\", \"cad\": \"no\", \"appet\": \"good\", \"pe\": \"no\", \"ane\": \"no\", \"class\": \"notckd\"}, {\"age\": 63.0, \"bp\": 70.0, \"sg\": 1.025, \"al\": 0.0, \"su\": 0.0, \"rbc\": \"normal\", \"pc\": \"normal\", \"pcc\": \"notpresent\", \"ba\": \"notpresent\", \"bgr\": 130.0, \"bu\": 37.0, \"sc\": 0.9, \"sod\": 150.0, \"pot\": 5.0, \"hemo\": 13.4, \"pcv\": 41.0, \"wbcc\": 7300.0, \"rbcc\": 4.7, \"htn\": \"no\", \"dm\": \"no\", \"cad\": \"no\", \"appet\": \"good\", \"pe\": \"no\", \"ane\": \"no\", \"class\": \"notckd\"}, {\"age\": 44.0, \"bp\": 60.0, \"sg\": 1.02, \"al\": 0.0, \"su\": 0.0, \"rbc\": \"normal\", \"pc\": \"normal\", \"pcc\": \"notpresent\", \"ba\": \"notpresent\", \"bgr\": 95.0, \"bu\": 46.0, \"sc\": 0.5, \"sod\": 138.0, \"pot\": 4.2, \"hemo\": 15.0, \"pcv\": 50.0, \"wbcc\": 7700.0, \"rbcc\": 6.3, \"htn\": \"no\", \"dm\": \"no\", \"cad\": \"no\", \"appet\": \"good\", \"pe\": \"no\", \"ane\": \"no\", \"class\": \"notckd\"}, {\"age\": 37.0, \"bp\": 60.0, \"sg\": 1.025, \"al\": 0.0, \"su\": 0.0, \"rbc\": \"normal\", \"pc\": \"normal\", \"pcc\": \"notpresent\", \"ba\": \"notpresent\", \"bgr\": 111.0, \"bu\": 35.0, \"sc\": 0.8, \"sod\": 135.0, \"pot\": 4.1, \"hemo\": 16.2, \"pcv\": 50.0, \"wbcc\": 5500.0, \"rbcc\": 5.7, \"htn\": \"no\", \"dm\": \"no\", \"cad\": \"no\", \"appet\": \"good\", \"pe\": \"no\", \"ane\": \"no\", \"class\": \"notckd\"}, {\"age\": 64.0, \"bp\": 60.0, \"sg\": 1.02, \"al\": 0.0, \"su\": 0.0, \"rbc\": \"normal\", \"pc\": \"normal\", \"pcc\": \"notpresent\", \"ba\": \"notpresent\", \"bgr\": 106.0, \"bu\": 27.0, \"sc\": 0.7, \"sod\": 150.0, \"pot\": 3.3, \"hemo\": 14.4, \"pcv\": 42.0, \"wbcc\": 8100.0, \"rbcc\": 4.7, \"htn\": \"no\", \"dm\": \"no\", \"cad\": \"no\", \"appet\": \"good\", \"pe\": \"no\", \"ane\": \"no\", \"class\": \"notckd\"}, {\"age\": 22.0, \"bp\": 60.0, \"sg\": 1.025, \"al\": 0.0, \"su\": 0.0, \"rbc\": \"normal\", \"pc\": \"normal\", \"pcc\": \"notpresent\", \"ba\": \"notpresent\", \"bgr\": 97.0, \"bu\": 18.0, \"sc\": 1.2, \"sod\": 138.0, \"pot\": 4.3, \"hemo\": 13.5, \"pcv\": 42.0, \"wbcc\": 7900.0, \"rbcc\": 6.4, \"htn\": \"no\", \"dm\": \"no\", \"cad\": \"no\", \"appet\": \"good\", \"pe\": \"no\", \"ane\": \"no\", \"class\": \"notckd\"}, {\"age\": 33.0, \"bp\": 60.0, \"sg\": 1.02, \"al\": 0.0, \"su\": 0.0, \"rbc\": \"normal\", \"pc\": \"normal\", \"pcc\": \"notpresent\", \"ba\": \"notpresent\", \"bgr\": 130.0, \"bu\": 41.0, \"sc\": 0.9, \"sod\": 141.0, \"pot\": 4.4, \"hemo\": 15.5, \"pcv\": 52.0, \"wbcc\": 4300.0, \"rbcc\": 5.8, \"htn\": \"no\", \"dm\": \"no\", \"cad\": \"no\", \"appet\": \"good\", \"pe\": \"no\", \"ane\": \"no\", \"class\": \"notckd\"}, {\"age\": 43.0, \"bp\": 60.0, \"sg\": 1.025, \"al\": 0.0, \"su\": 0.0, \"rbc\": \"normal\", \"pc\": \"normal\", \"pcc\": \"notpresent\", \"ba\": \"notpresent\", \"bgr\": 108.0, \"bu\": 25.0, \"sc\": 1.0, \"sod\": 144.0, \"pot\": 5.0, \"hemo\": 17.8, \"pcv\": 43.0, \"wbcc\": 7200.0, \"rbcc\": 5.5, \"htn\": \"no\", \"dm\": \"no\", \"cad\": \"no\", \"appet\": \"good\", \"pe\": \"no\", \"ane\": \"no\", \"class\": \"notckd\"}, {\"age\": 38.0, \"bp\": 80.0, \"sg\": 1.02, \"al\": 0.0, \"su\": 0.0, \"rbc\": \"normal\", \"pc\": \"normal\", \"pcc\": \"notpresent\", \"ba\": \"notpresent\", \"bgr\": 99.0, \"bu\": 19.0, \"sc\": 0.5, \"sod\": 147.0, \"pot\": 3.5, \"hemo\": 13.6, \"pcv\": 44.0, \"wbcc\": 7300.0, \"rbcc\": 6.4, \"htn\": \"no\", \"dm\": \"no\", \"cad\": \"no\", \"appet\": \"good\", \"pe\": \"no\", \"ane\": \"no\", \"class\": \"notckd\"}, {\"age\": 29.0, \"bp\": 80.0, \"sg\": 1.02, \"al\": 0.0, \"su\": 0.0, \"rbc\": \"normal\", \"pc\": \"normal\", \"pcc\": \"notpresent\", \"ba\": \"notpresent\", \"bgr\": 83.0, \"bu\": 49.0, \"sc\": 0.9, \"sod\": 139.0, \"pot\": 3.3, \"hemo\": 17.5, \"pcv\": 40.0, \"wbcc\": 9900.0, \"rbcc\": 4.7, \"htn\": \"no\", \"dm\": \"no\", \"cad\": \"no\", \"appet\": \"good\", \"pe\": \"no\", \"ane\": \"no\", \"class\": \"notckd\"}, {\"age\": 37.0, \"bp\": 60.0, \"sg\": 1.02, \"al\": 0.0, \"su\": 0.0, \"rbc\": \"normal\", \"pc\": \"normal\", \"pcc\": \"notpresent\", \"ba\": \"notpresent\", \"bgr\": 109.0, \"bu\": 47.0, \"sc\": 1.1, \"sod\": 141.0, \"pot\": 4.9, \"hemo\": 15.0, \"pcv\": 48.0, \"wbcc\": 7000.0, \"rbcc\": 5.2, \"htn\": \"no\", \"dm\": \"no\", \"cad\": \"no\", \"appet\": \"good\", \"pe\": \"no\", \"ane\": \"no\", \"class\": \"notckd\"}, {\"age\": 39.0, \"bp\": 60.0, \"sg\": 1.02, \"al\": 0.0, \"su\": 0.0, \"rbc\": \"normal\", \"pc\": \"normal\", \"pcc\": \"notpresent\", \"ba\": \"notpresent\", \"bgr\": 86.0, \"bu\": 37.0, \"sc\": 0.6, \"sod\": 150.0, \"pot\": 5.0, \"hemo\": 13.6, \"pcv\": 51.0, \"wbcc\": 5800.0, \"rbcc\": 4.5, \"htn\": \"no\", \"dm\": \"no\", \"cad\": \"no\", \"appet\": \"good\", \"pe\": \"no\", \"ane\": \"no\", \"class\": \"notckd\"}, {\"age\": 32.0, \"bp\": 60.0, \"sg\": 1.025, \"al\": 0.0, \"su\": 0.0, \"rbc\": \"normal\", \"pc\": \"normal\", \"pcc\": \"notpresent\", \"ba\": \"notpresent\", \"bgr\": 102.0, \"bu\": 17.0, \"sc\": 0.4, \"sod\": 147.0, \"pot\": 4.7, \"hemo\": 14.6, \"pcv\": 41.0, \"wbcc\": 6800.0, \"rbcc\": 5.1, \"htn\": \"no\", \"dm\": \"no\", \"cad\": \"no\", \"appet\": \"good\", \"pe\": \"no\", \"ane\": \"no\", \"class\": \"notckd\"}, {\"age\": 23.0, \"bp\": 60.0, \"sg\": 1.02, \"al\": 0.0, \"su\": 0.0, \"rbc\": \"normal\", \"pc\": \"normal\", \"pcc\": \"notpresent\", \"ba\": \"notpresent\", \"bgr\": 95.0, \"bu\": 24.0, \"sc\": 0.8, \"sod\": 145.0, \"pot\": 5.0, \"hemo\": 15.0, \"pcv\": 52.0, \"wbcc\": 6300.0, \"rbcc\": 4.6, \"htn\": \"no\", \"dm\": \"no\", \"cad\": \"no\", \"appet\": \"good\", \"pe\": \"no\", \"ane\": \"no\", \"class\": \"notckd\"}, {\"age\": 34.0, \"bp\": 70.0, \"sg\": 1.025, \"al\": 0.0, \"su\": 0.0, \"rbc\": \"normal\", \"pc\": \"normal\", \"pcc\": \"notpresent\", \"ba\": \"notpresent\", \"bgr\": 87.0, \"bu\": 38.0, \"sc\": 0.5, \"sod\": 144.0, \"pot\": 4.8, \"hemo\": 17.1, \"pcv\": 47.0, \"wbcc\": 7400.0, \"rbcc\": 6.1, \"htn\": \"no\", \"dm\": \"no\", \"cad\": \"no\", \"appet\": \"good\", \"pe\": \"no\", \"ane\": \"no\", \"class\": \"notckd\"}, {\"age\": 66.0, \"bp\": 70.0, \"sg\": 1.025, \"al\": 0.0, \"su\": 0.0, \"rbc\": \"normal\", \"pc\": \"normal\", \"pcc\": \"notpresent\", \"ba\": \"notpresent\", \"bgr\": 107.0, \"bu\": 16.0, \"sc\": 1.1, \"sod\": 140.0, \"pot\": 3.6, \"hemo\": 13.6, \"pcv\": 42.0, \"wbcc\": 11000.0, \"rbcc\": 4.9, \"htn\": \"no\", \"dm\": \"no\", \"cad\": \"no\", \"appet\": \"good\", \"pe\": \"no\", \"ane\": \"no\", \"class\": \"notckd\"}, {\"age\": 47.0, \"bp\": 60.0, \"sg\": 1.02, \"al\": 0.0, \"su\": 0.0, \"rbc\": \"normal\", \"pc\": \"normal\", \"pcc\": \"notpresent\", \"ba\": \"notpresent\", \"bgr\": 117.0, \"bu\": 22.0, \"sc\": 1.2, \"sod\": 138.0, \"pot\": 3.5, \"hemo\": 13.0, \"pcv\": 45.0, \"wbcc\": 5200.0, \"rbcc\": 5.6, \"htn\": \"no\", \"dm\": \"no\", \"cad\": \"no\", \"appet\": \"good\", \"pe\": \"no\", \"ane\": \"no\", \"class\": \"notckd\"}, {\"age\": 74.0, \"bp\": 60.0, \"sg\": 1.02, \"al\": 0.0, \"su\": 0.0, \"rbc\": \"normal\", \"pc\": \"normal\", \"pcc\": \"notpresent\", \"ba\": \"notpresent\", \"bgr\": 88.0, \"bu\": 50.0, \"sc\": 0.6, \"sod\": 147.0, \"pot\": 3.7, \"hemo\": 17.2, \"pcv\": 53.0, \"wbcc\": 6000.0, \"rbcc\": 4.5, \"htn\": \"no\", \"dm\": \"no\", \"cad\": \"no\", \"appet\": \"good\", \"pe\": \"no\", \"ane\": \"no\", \"class\": \"notckd\"}, {\"age\": 35.0, \"bp\": 60.0, \"sg\": 1.025, \"al\": 0.0, \"su\": 0.0, \"rbc\": \"normal\", \"pc\": \"normal\", \"pcc\": \"notpresent\", \"ba\": \"notpresent\", \"bgr\": 105.0, \"bu\": 39.0, \"sc\": 0.5, \"sod\": 135.0, \"pot\": 3.9, \"hemo\": 14.7, \"pcv\": 43.0, \"wbcc\": 5800.0, \"rbcc\": 6.2, \"htn\": \"no\", \"dm\": \"no\", \"cad\": \"no\", \"appet\": \"good\", \"pe\": \"no\", \"ane\": \"no\", \"class\": \"notckd\"}, {\"age\": 29.0, \"bp\": 80.0, \"sg\": 1.02, \"al\": 0.0, \"su\": 0.0, \"rbc\": \"normal\", \"pc\": \"normal\", \"pcc\": \"notpresent\", \"ba\": \"notpresent\", \"bgr\": 70.0, \"bu\": 16.0, \"sc\": 0.7, \"sod\": 138.0, \"pot\": 3.5, \"hemo\": 13.7, \"pcv\": 54.0, \"wbcc\": 5400.0, \"rbcc\": 5.8, \"htn\": \"no\", \"dm\": \"no\", \"cad\": \"no\", \"appet\": \"good\", \"pe\": \"no\", \"ane\": \"no\", \"class\": \"notckd\"}, {\"age\": 33.0, \"bp\": 80.0, \"sg\": 1.025, \"al\": 0.0, \"su\": 0.0, \"rbc\": \"normal\", \"pc\": \"normal\", \"pcc\": \"notpresent\", \"ba\": \"notpresent\", \"bgr\": 89.0, \"bu\": 19.0, \"sc\": 1.1, \"sod\": 144.0, \"pot\": 5.0, \"hemo\": 15.0, \"pcv\": 40.0, \"wbcc\": 10300.0, \"rbcc\": 4.8, \"htn\": \"no\", \"dm\": \"no\", \"cad\": \"no\", \"appet\": \"good\", \"pe\": \"no\", \"ane\": \"no\", \"class\": \"notckd\"}, {\"age\": 67.0, \"bp\": 80.0, \"sg\": 1.025, \"al\": 0.0, \"su\": 0.0, \"rbc\": \"normal\", \"pc\": \"normal\", \"pcc\": \"notpresent\", \"ba\": \"notpresent\", \"bgr\": 99.0, \"bu\": 40.0, \"sc\": 0.5, \"sod\": 139.0, \"pot\": 4.5, \"hemo\": 17.8, \"pcv\": 44.0, \"wbcc\": 5900.0, \"rbcc\": 5.2, \"htn\": \"no\", \"dm\": \"no\", \"cad\": \"no\", \"appet\": \"good\", \"pe\": \"no\", \"ane\": \"no\", \"class\": \"notckd\"}, {\"age\": 73.0, \"bp\": 80.0, \"sg\": 1.025, \"al\": 0.0, \"su\": 0.0, \"rbc\": \"normal\", \"pc\": \"normal\", \"pcc\": \"notpresent\", \"ba\": \"notpresent\", \"bgr\": 118.0, \"bu\": 44.0, \"sc\": 0.7, \"sod\": 137.0, \"pot\": 3.5, \"hemo\": 14.8, \"pcv\": 45.0, \"wbcc\": 9300.0, \"rbcc\": 4.7, \"htn\": \"no\", \"dm\": \"no\", \"cad\": \"no\", \"appet\": \"good\", \"pe\": \"no\", \"ane\": \"no\", \"class\": \"notckd\"}, {\"age\": 24.0, \"bp\": 80.0, \"sg\": 1.02, \"al\": 0.0, \"su\": 0.0, \"rbc\": \"normal\", \"pc\": \"normal\", \"pcc\": \"notpresent\", \"ba\": \"notpresent\", \"bgr\": 93.0, \"bu\": 46.0, \"sc\": 1.0, \"sod\": 145.0, \"pot\": 3.5, \"hemo\": 13.85, \"pcv\": 42.0, \"wbcc\": 10700.0, \"rbcc\": 6.3, \"htn\": \"no\", \"dm\": \"no\", \"cad\": \"no\", \"appet\": \"good\", \"pe\": \"no\", \"ane\": \"no\", \"class\": \"notckd\"}, {\"age\": 60.0, \"bp\": 80.0, \"sg\": 1.025, \"al\": 0.0, \"su\": 0.0, \"rbc\": \"normal\", \"pc\": \"normal\", \"pcc\": \"notpresent\", \"ba\": \"notpresent\", \"bgr\": 81.0, \"bu\": 15.0, \"sc\": 0.5, \"sod\": 141.0, \"pot\": 3.6, \"hemo\": 15.0, \"pcv\": 46.0, \"wbcc\": 10500.0, \"rbcc\": 5.3, \"htn\": \"no\", \"dm\": \"no\", \"cad\": \"no\", \"appet\": \"good\", \"pe\": \"no\", \"ane\": \"no\", \"class\": \"notckd\"}, {\"age\": 68.0, \"bp\": 60.0, \"sg\": 1.025, \"al\": 0.0, \"su\": 0.0, \"rbc\": \"normal\", \"pc\": \"normal\", \"pcc\": \"notpresent\", \"ba\": \"notpresent\", \"bgr\": 125.0, \"bu\": 41.0, \"sc\": 1.1, \"sod\": 139.0, \"pot\": 3.8, \"hemo\": 17.4, \"pcv\": 50.0, \"wbcc\": 6700.0, \"rbcc\": 6.1, \"htn\": \"no\", \"dm\": \"no\", \"cad\": \"no\", \"appet\": \"good\", \"pe\": \"no\", \"ane\": \"no\", \"class\": \"notckd\"}, {\"age\": 30.0, \"bp\": 80.0, \"sg\": 1.025, \"al\": 0.0, \"su\": 0.0, \"rbc\": \"normal\", \"pc\": \"normal\", \"pcc\": \"notpresent\", \"ba\": \"notpresent\", \"bgr\": 82.0, \"bu\": 42.0, \"sc\": 0.7, \"sod\": 146.0, \"pot\": 5.0, \"hemo\": 14.9, \"pcv\": 45.0, \"wbcc\": 9400.0, \"rbcc\": 5.9, \"htn\": \"no\", \"dm\": \"no\", \"cad\": \"no\", \"appet\": \"good\", \"pe\": \"no\", \"ane\": \"no\", \"class\": \"notckd\"}, {\"age\": 75.0, \"bp\": 70.0, \"sg\": 1.02, \"al\": 0.0, \"su\": 0.0, \"rbc\": \"normal\", \"pc\": \"normal\", \"pcc\": \"notpresent\", \"ba\": \"notpresent\", \"bgr\": 107.0, \"bu\": 48.0, \"sc\": 0.8, \"sod\": 144.0, \"pot\": 3.5, \"hemo\": 13.6, \"pcv\": 46.0, \"wbcc\": 10300.0, \"rbcc\": 4.8, \"htn\": \"no\", \"dm\": \"no\", \"cad\": \"no\", \"appet\": \"good\", \"pe\": \"no\", \"ane\": \"no\", \"class\": \"notckd\"}, {\"age\": 69.0, \"bp\": 70.0, \"sg\": 1.02, \"al\": 0.0, \"su\": 0.0, \"rbc\": \"normal\", \"pc\": \"normal\", \"pcc\": \"notpresent\", \"ba\": \"notpresent\", \"bgr\": 83.0, \"bu\": 42.0, \"sc\": 1.2, \"sod\": 139.0, \"pot\": 3.7, \"hemo\": 16.2, \"pcv\": 50.0, \"wbcc\": 9300.0, \"rbcc\": 5.4, \"htn\": \"no\", \"dm\": \"no\", \"cad\": \"no\", \"appet\": \"good\", \"pe\": \"no\", \"ane\": \"no\", \"class\": \"notckd\"}, {\"age\": 28.0, \"bp\": 60.0, \"sg\": 1.025, \"al\": 0.0, \"su\": 0.0, \"rbc\": \"normal\", \"pc\": \"normal\", \"pcc\": \"notpresent\", \"ba\": \"notpresent\", \"bgr\": 79.0, \"bu\": 50.0, \"sc\": 0.5, \"sod\": 145.0, \"pot\": 5.0, \"hemo\": 17.6, \"pcv\": 51.0, \"wbcc\": 6500.0, \"rbcc\": 5.0, \"htn\": \"no\", \"dm\": \"no\", \"cad\": \"no\", \"appet\": \"good\", \"pe\": \"no\", \"ane\": \"no\", \"class\": \"notckd\"}, {\"age\": 72.0, \"bp\": 60.0, \"sg\": 1.02, \"al\": 0.0, \"su\": 0.0, \"rbc\": \"normal\", \"pc\": \"normal\", \"pcc\": \"notpresent\", \"ba\": \"notpresent\", \"bgr\": 109.0, \"bu\": 26.0, \"sc\": 0.9, \"sod\": 150.0, \"pot\": 4.9, \"hemo\": 15.0, \"pcv\": 52.0, \"wbcc\": 10500.0, \"rbcc\": 5.5, \"htn\": \"no\", \"dm\": \"no\", \"cad\": \"no\", \"appet\": \"good\", \"pe\": \"no\", \"ane\": \"no\", \"class\": \"notckd\"}, {\"age\": 61.0, \"bp\": 70.0, \"sg\": 1.025, \"al\": 0.0, \"su\": 0.0, \"rbc\": \"normal\", \"pc\": \"normal\", \"pcc\": \"notpresent\", \"ba\": \"notpresent\", \"bgr\": 133.0, \"bu\": 38.0, \"sc\": 1.0, \"sod\": 142.0, \"pot\": 3.6, \"hemo\": 13.7, \"pcv\": 47.0, \"wbcc\": 9200.0, \"rbcc\": 4.9, \"htn\": \"no\", \"dm\": \"no\", \"cad\": \"no\", \"appet\": \"good\", \"pe\": \"no\", \"ane\": \"no\", \"class\": \"notckd\"}, {\"age\": 79.0, \"bp\": 80.0, \"sg\": 1.025, \"al\": 0.0, \"su\": 0.0, \"rbc\": \"normal\", \"pc\": \"normal\", \"pcc\": \"notpresent\", \"ba\": \"notpresent\", \"bgr\": 111.0, \"bu\": 44.0, \"sc\": 1.2, \"sod\": 146.0, \"pot\": 3.6, \"hemo\": 16.3, \"pcv\": 40.0, \"wbcc\": 8000.0, \"rbcc\": 6.4, \"htn\": \"no\", \"dm\": \"no\", \"cad\": \"no\", \"appet\": \"good\", \"pe\": \"no\", \"ane\": \"no\", \"class\": \"notckd\"}, {\"age\": 70.0, \"bp\": 80.0, \"sg\": 1.02, \"al\": 0.0, \"su\": 0.0, \"rbc\": \"normal\", \"pc\": \"normal\", \"pcc\": \"notpresent\", \"ba\": \"notpresent\", \"bgr\": 74.0, \"bu\": 41.0, \"sc\": 0.5, \"sod\": 143.0, \"pot\": 4.5, \"hemo\": 15.1, \"pcv\": 48.0, \"wbcc\": 9700.0, \"rbcc\": 5.6, \"htn\": \"no\", \"dm\": \"no\", \"cad\": \"no\", \"appet\": \"good\", \"pe\": \"no\", \"ane\": \"no\", \"class\": \"notckd\"}, {\"age\": 58.0, \"bp\": 70.0, \"sg\": 1.025, \"al\": 0.0, \"su\": 0.0, \"rbc\": \"normal\", \"pc\": \"normal\", \"pcc\": \"notpresent\", \"ba\": \"notpresent\", \"bgr\": 88.0, \"bu\": 16.0, \"sc\": 1.1, \"sod\": 147.0, \"pot\": 3.5, \"hemo\": 16.4, \"pcv\": 53.0, \"wbcc\": 9100.0, \"rbcc\": 5.2, \"htn\": \"no\", \"dm\": \"no\", \"cad\": \"no\", \"appet\": \"good\", \"pe\": \"no\", \"ane\": \"no\", \"class\": \"notckd\"}, {\"age\": 64.0, \"bp\": 70.0, \"sg\": 1.02, \"al\": 0.0, \"su\": 0.0, \"rbc\": \"normal\", \"pc\": \"normal\", \"pcc\": \"notpresent\", \"ba\": \"notpresent\", \"bgr\": 97.0, \"bu\": 27.0, \"sc\": 0.7, \"sod\": 145.0, \"pot\": 4.8, \"hemo\": 13.8, \"pcv\": 49.0, \"wbcc\": 6400.0, \"rbcc\": 4.8, \"htn\": \"no\", \"dm\": \"no\", \"cad\": \"no\", \"appet\": \"good\", \"pe\": \"no\", \"ane\": \"no\", \"class\": \"notckd\"}, {\"age\": 71.0, \"bp\": 60.0, \"sg\": 1.025, \"al\": 0.0, \"su\": 0.0, \"rbc\": \"normal\", \"pc\": \"normal\", \"pcc\": \"notpresent\", \"ba\": \"notpresent\", \"bgr\": 119.0, \"bu\": 40.0, \"sc\": 0.9, \"sod\": 140.0, \"pot\": 4.8, \"hemo\": 15.2, \"pcv\": 42.0, \"wbcc\": 7700.0, \"rbcc\": 5.5, \"htn\": \"no\", \"dm\": \"no\", \"cad\": \"no\", \"appet\": \"good\", \"pe\": \"no\", \"ane\": \"no\", \"class\": \"notckd\"}, {\"age\": 62.0, \"bp\": 80.0, \"sg\": 1.025, \"al\": 0.0, \"su\": 0.0, \"rbc\": \"normal\", \"pc\": \"normal\", \"pcc\": \"notpresent\", \"ba\": \"notpresent\", \"bgr\": 78.0, \"bu\": 45.0, \"sc\": 0.6, \"sod\": 138.0, \"pot\": 3.5, \"hemo\": 16.1, \"pcv\": 50.0, \"wbcc\": 5400.0, \"rbcc\": 5.7, \"htn\": \"no\", \"dm\": \"no\", \"cad\": \"no\", \"appet\": \"good\", \"pe\": \"no\", \"ane\": \"no\", \"class\": \"notckd\"}, {\"age\": 59.0, \"bp\": 60.0, \"sg\": 1.02, \"al\": 0.0, \"su\": 0.0, \"rbc\": \"normal\", \"pc\": \"normal\", \"pcc\": \"notpresent\", \"ba\": \"notpresent\", \"bgr\": 113.0, \"bu\": 23.0, \"sc\": 1.1, \"sod\": 139.0, \"pot\": 3.5, \"hemo\": 15.3, \"pcv\": 54.0, \"wbcc\": 6500.0, \"rbcc\": 4.9, \"htn\": \"no\", \"dm\": \"no\", \"cad\": \"no\", \"appet\": \"good\", \"pe\": \"no\", \"ane\": \"no\", \"class\": \"notckd\"}, {\"age\": 48.0, \"bp\": 80.0, \"sg\": 1.025, \"al\": 0.0, \"su\": 0.0, \"rbc\": \"normal\", \"pc\": \"normal\", \"pcc\": \"notpresent\", \"ba\": \"notpresent\", \"bgr\": 75.0, \"bu\": 22.0, \"sc\": 0.8, \"sod\": 137.0, \"pot\": 5.0, \"hemo\": 16.8, \"pcv\": 51.0, \"wbcc\": 6000.0, \"rbcc\": 6.5, \"htn\": \"no\", \"dm\": \"no\", \"cad\": \"no\", \"appet\": \"good\", \"pe\": \"no\", \"ane\": \"no\", \"class\": \"notckd\"}, {\"age\": 80.0, \"bp\": 80.0, \"sg\": 1.025, \"al\": 0.0, \"su\": 0.0, \"rbc\": \"normal\", \"pc\": \"normal\", \"pcc\": \"notpresent\", \"ba\": \"notpresent\", \"bgr\": 119.0, \"bu\": 46.0, \"sc\": 0.7, \"sod\": 141.0, \"pot\": 4.9, \"hemo\": 13.9, \"pcv\": 49.0, \"wbcc\": 5100.0, \"rbcc\": 5.0, \"htn\": \"no\", \"dm\": \"no\", \"cad\": \"no\", \"appet\": \"good\", \"pe\": \"no\", \"ane\": \"no\", \"class\": \"notckd\"}, {\"age\": 57.0, \"bp\": 60.0, \"sg\": 1.02, \"al\": 0.0, \"su\": 0.0, \"rbc\": \"normal\", \"pc\": \"normal\", \"pcc\": \"notpresent\", \"ba\": \"notpresent\", \"bgr\": 132.0, \"bu\": 18.0, \"sc\": 1.1, \"sod\": 150.0, \"pot\": 4.7, \"hemo\": 15.4, \"pcv\": 42.0, \"wbcc\": 11000.0, \"rbcc\": 4.5, \"htn\": \"no\", \"dm\": \"no\", \"cad\": \"no\", \"appet\": \"good\", \"pe\": \"no\", \"ane\": \"no\", \"class\": \"notckd\"}, {\"age\": 63.0, \"bp\": 70.0, \"sg\": 1.02, \"al\": 0.0, \"su\": 0.0, \"rbc\": \"normal\", \"pc\": \"normal\", \"pcc\": \"notpresent\", \"ba\": \"notpresent\", \"bgr\": 113.0, \"bu\": 25.0, \"sc\": 0.6, \"sod\": 146.0, \"pot\": 4.9, \"hemo\": 16.5, \"pcv\": 52.0, \"wbcc\": 8000.0, \"rbcc\": 5.1, \"htn\": \"no\", \"dm\": \"no\", \"cad\": \"no\", \"appet\": \"good\", \"pe\": \"no\", \"ane\": \"no\", \"class\": \"notckd\"}, {\"age\": 46.0, \"bp\": 70.0, \"sg\": 1.025, \"al\": 0.0, \"su\": 0.0, \"rbc\": \"normal\", \"pc\": \"normal\", \"pcc\": \"notpresent\", \"ba\": \"notpresent\", \"bgr\": 100.0, \"bu\": 47.0, \"sc\": 0.5, \"sod\": 142.0, \"pot\": 3.5, \"hemo\": 16.4, \"pcv\": 43.0, \"wbcc\": 5700.0, \"rbcc\": 6.5, \"htn\": \"no\", \"dm\": \"no\", \"cad\": \"no\", \"appet\": \"good\", \"pe\": \"no\", \"ane\": \"no\", \"class\": \"notckd\"}, {\"age\": 15.0, \"bp\": 80.0, \"sg\": 1.025, \"al\": 0.0, \"su\": 0.0, \"rbc\": \"normal\", \"pc\": \"normal\", \"pcc\": \"notpresent\", \"ba\": \"notpresent\", \"bgr\": 93.0, \"bu\": 17.0, \"sc\": 0.9, \"sod\": 136.0, \"pot\": 3.9, \"hemo\": 16.7, \"pcv\": 50.0, \"wbcc\": 6200.0, \"rbcc\": 5.2, \"htn\": \"no\", \"dm\": \"no\", \"cad\": \"no\", \"appet\": \"good\", \"pe\": \"no\", \"ane\": \"no\", \"class\": \"notckd\"}, {\"age\": 51.0, \"bp\": 80.0, \"sg\": 1.02, \"al\": 0.0, \"su\": 0.0, \"rbc\": \"normal\", \"pc\": \"normal\", \"pcc\": \"notpresent\", \"ba\": \"notpresent\", \"bgr\": 94.0, \"bu\": 15.0, \"sc\": 1.2, \"sod\": 144.0, \"pot\": 3.7, \"hemo\": 15.5, \"pcv\": 46.0, \"wbcc\": 9500.0, \"rbcc\": 6.4, \"htn\": \"no\", \"dm\": \"no\", \"cad\": \"no\", \"appet\": \"good\", \"pe\": \"no\", \"ane\": \"no\", \"class\": \"notckd\"}, {\"age\": 41.0, \"bp\": 80.0, \"sg\": 1.025, \"al\": 0.0, \"su\": 0.0, \"rbc\": \"normal\", \"pc\": \"normal\", \"pcc\": \"notpresent\", \"ba\": \"notpresent\", \"bgr\": 112.0, \"bu\": 48.0, \"sc\": 0.7, \"sod\": 140.0, \"pot\": 5.0, \"hemo\": 17.0, \"pcv\": 52.0, \"wbcc\": 7200.0, \"rbcc\": 5.8, \"htn\": \"no\", \"dm\": \"no\", \"cad\": \"no\", \"appet\": \"good\", \"pe\": \"no\", \"ane\": \"no\", \"class\": \"notckd\"}, {\"age\": 52.0, \"bp\": 80.0, \"sg\": 1.025, \"al\": 0.0, \"su\": 0.0, \"rbc\": \"normal\", \"pc\": \"normal\", \"pcc\": \"notpresent\", \"ba\": \"notpresent\", \"bgr\": 99.0, \"bu\": 25.0, \"sc\": 0.8, \"sod\": 135.0, \"pot\": 3.7, \"hemo\": 15.0, \"pcv\": 52.0, \"wbcc\": 6300.0, \"rbcc\": 5.3, \"htn\": \"no\", \"dm\": \"no\", \"cad\": \"no\", \"appet\": \"good\", \"pe\": \"no\", \"ane\": \"no\", \"class\": \"notckd\"}, {\"age\": 36.0, \"bp\": 80.0, \"sg\": 1.025, \"al\": 0.0, \"su\": 0.0, \"rbc\": \"normal\", \"pc\": \"normal\", \"pcc\": \"notpresent\", \"ba\": \"notpresent\", \"bgr\": 85.0, \"bu\": 16.0, \"sc\": 1.1, \"sod\": 142.0, \"pot\": 4.1, \"hemo\": 15.6, \"pcv\": 44.0, \"wbcc\": 5800.0, \"rbcc\": 6.3, \"htn\": \"no\", \"dm\": \"no\", \"cad\": \"no\", \"appet\": \"good\", \"pe\": \"no\", \"ane\": \"no\", \"class\": \"notckd\"}, {\"age\": 57.0, \"bp\": 80.0, \"sg\": 1.02, \"al\": 0.0, \"su\": 0.0, \"rbc\": \"normal\", \"pc\": \"normal\", \"pcc\": \"notpresent\", \"ba\": \"notpresent\", \"bgr\": 133.0, \"bu\": 48.0, \"sc\": 1.2, \"sod\": 147.0, \"pot\": 4.3, \"hemo\": 14.8, \"pcv\": 46.0, \"wbcc\": 6600.0, \"rbcc\": 5.5, \"htn\": \"no\", \"dm\": \"no\", \"cad\": \"no\", \"appet\": \"good\", \"pe\": \"no\", \"ane\": \"no\", \"class\": \"notckd\"}, {\"age\": 43.0, \"bp\": 60.0, \"sg\": 1.025, \"al\": 0.0, \"su\": 0.0, \"rbc\": \"normal\", \"pc\": \"normal\", \"pcc\": \"notpresent\", \"ba\": \"notpresent\", \"bgr\": 117.0, \"bu\": 45.0, \"sc\": 0.7, \"sod\": 141.0, \"pot\": 4.4, \"hemo\": 13.0, \"pcv\": 54.0, \"wbcc\": 7400.0, \"rbcc\": 5.4, \"htn\": \"no\", \"dm\": \"no\", \"cad\": \"no\", \"appet\": \"good\", \"pe\": \"no\", \"ane\": \"no\", \"class\": \"notckd\"}, {\"age\": 50.0, \"bp\": 80.0, \"sg\": 1.02, \"al\": 0.0, \"su\": 0.0, \"rbc\": \"normal\", \"pc\": \"normal\", \"pcc\": \"notpresent\", \"ba\": \"notpresent\", \"bgr\": 137.0, \"bu\": 46.0, \"sc\": 0.8, \"sod\": 139.0, \"pot\": 5.0, \"hemo\": 14.1, \"pcv\": 45.0, \"wbcc\": 9500.0, \"rbcc\": 4.6, \"htn\": \"no\", \"dm\": \"no\", \"cad\": \"no\", \"appet\": \"good\", \"pe\": \"no\", \"ane\": \"no\", \"class\": \"notckd\"}, {\"age\": 55.0, \"bp\": 80.0, \"sg\": 1.02, \"al\": 0.0, \"su\": 0.0, \"rbc\": \"normal\", \"pc\": \"normal\", \"pcc\": \"notpresent\", \"ba\": \"notpresent\", \"bgr\": 140.0, \"bu\": 49.0, \"sc\": 0.5, \"sod\": 150.0, \"pot\": 4.9, \"hemo\": 15.7, \"pcv\": 47.0, \"wbcc\": 6700.0, \"rbcc\": 4.9, \"htn\": \"no\", \"dm\": \"no\", \"cad\": \"no\", \"appet\": \"good\", \"pe\": \"no\", \"ane\": \"no\", \"class\": \"notckd\"}, {\"age\": 42.0, \"bp\": 70.0, \"sg\": 1.025, \"al\": 0.0, \"su\": 0.0, \"rbc\": \"normal\", \"pc\": \"normal\", \"pcc\": \"notpresent\", \"ba\": \"notpresent\", \"bgr\": 75.0, \"bu\": 31.0, \"sc\": 1.2, \"sod\": 141.0, \"pot\": 3.5, \"hemo\": 16.5, \"pcv\": 54.0, \"wbcc\": 7800.0, \"rbcc\": 6.2, \"htn\": \"no\", \"dm\": \"no\", \"cad\": \"no\", \"appet\": \"good\", \"pe\": \"no\", \"ane\": \"no\", \"class\": \"notckd\"}, {\"age\": 12.0, \"bp\": 80.0, \"sg\": 1.02, \"al\": 0.0, \"su\": 0.0, \"rbc\": \"normal\", \"pc\": \"normal\", \"pcc\": \"notpresent\", \"ba\": \"notpresent\", \"bgr\": 100.0, \"bu\": 26.0, \"sc\": 0.6, \"sod\": 137.0, \"pot\": 4.4, \"hemo\": 15.8, \"pcv\": 49.0, \"wbcc\": 6600.0, \"rbcc\": 5.4, \"htn\": \"no\", \"dm\": \"no\", \"cad\": \"no\", \"appet\": \"good\", \"pe\": \"no\", \"ane\": \"no\", \"class\": \"notckd\"}, {\"age\": 17.0, \"bp\": 60.0, \"sg\": 1.025, \"al\": 0.0, \"su\": 0.0, \"rbc\": \"normal\", \"pc\": \"normal\", \"pcc\": \"notpresent\", \"ba\": \"notpresent\", \"bgr\": 114.0, \"bu\": 50.0, \"sc\": 1.0, \"sod\": 135.0, \"pot\": 4.9, \"hemo\": 14.2, \"pcv\": 51.0, \"wbcc\": 7200.0, \"rbcc\": 5.9, \"htn\": \"no\", \"dm\": \"no\", \"cad\": \"no\", \"appet\": \"good\", \"pe\": \"no\", \"ane\": \"no\", \"class\": \"notckd\"}, {\"age\": 58.0, \"bp\": 80.0, \"sg\": 1.025, \"al\": 0.0, \"su\": 0.0, \"rbc\": \"normal\", \"pc\": \"normal\", \"pcc\": \"notpresent\", \"ba\": \"notpresent\", \"bgr\": 131.0, \"bu\": 18.0, \"sc\": 1.1, \"sod\": 141.0, \"pot\": 3.5, \"hemo\": 15.8, \"pcv\": 53.0, \"wbcc\": 6800.0, \"rbcc\": 6.1, \"htn\": \"no\", \"dm\": \"no\", \"cad\": \"no\", \"appet\": \"good\", \"pe\": \"no\", \"ane\": \"no\", \"class\": \"notckd\"}]}}, {\"mode\": \"vega-lite\"});\n",
       "</script>"
      ],
      "text/plain": [
       "alt.Chart(...)"
      ]
     },
     "execution_count": 33,
     "metadata": {},
     "output_type": "execute_result"
    }
   ],
   "source": [
    "alt.Chart(data_clean, title = 'Chronic kidney disease compared along packed cell volume and hemoglobin' ).mark_point().encode(\n",
    "    x='pcv:Q',\n",
    "    y='hemo:Q',\n",
    "    color='class:N',\n",
    "    tooltip=['Name:N', 'url:N']\n",
    ")"
   ]
  },
  {
   "cell_type": "markdown",
   "metadata": {},
   "source": [
    "Interestingly enough we can see that with a higher hemoglobin count and higher packed cell volume there is less chance of chronic kidney disease. With this just this information we could almost start modelling a prediction with linear regression. \n",
    "\n",
    "---"
   ]
  },
  {
   "cell_type": "markdown",
   "metadata": {},
   "source": [
    "### 4 Predictive modelling <a name = 'Predictivemodelling'></a>\n",
    "\n"
   ]
  },
  {
   "cell_type": "markdown",
   "metadata": {},
   "source": [
    "Now that we have prepared the data for analysis and briefly explored it, we will start working towards tuning and refining the three predictive models we will use on our dataset. \n",
    "\n",
    "Firstly, we will explore feature selection and ranking, There are a few different algorithms for selecting the best features. For this project we will only be using one, random forest importance, which we will compare the performance with all the features using a paired t-test.\n",
    "\n",
    "The next stage will be cross validation and hyperparameter tuning of the KNN, random forest and decision tree algorithms. The performance of these algorithms will be compared to see which of the three performed the best on our dataset.\n",
    "\n",
    "A lot of the code for this section is used from various tutorials found in the Math2319 machine learning class at RMIT<sup>[4](#4)</sup>, where this project is due, and also amongst the tutorials found at the www.featureranking.com website<sup>[5](#5)</sup>\n",
    "\n",
    "Before moving into the feature selection, we will be defining some variables that will be used. The number of features we will be wanting to define as the best is `10` and we will be using the `roc_auc` scoring metric. We will use the `DecisionTreeClassifier` with a max depth of `5` as a wrapper to assess the performance of the feature selection and ranking.\n"
   ]
  },
  {
   "cell_type": "code",
   "execution_count": 34,
   "metadata": {},
   "outputs": [],
   "source": [
    "num_features = 10\n",
    "scoring_metric = 'roc_auc'\n",
    "clf = DecisionTreeClassifier(max_depth=5, random_state=999)\n",
    "Data = data_clean_ml.drop(columns = 'target').values\n",
    "target = data_clean_ml['target'].values"
   ]
  },
  {
   "cell_type": "markdown",
   "metadata": {},
   "source": [
    "We will use the stratified 5-fold cross-validation. This will be used in both the feature selection performance assessment as well as the model performance assessments."
   ]
  },
  {
   "cell_type": "code",
   "execution_count": 35,
   "metadata": {},
   "outputs": [],
   "source": [
    "cv_method = StratifiedKFold(n_splits=5, shuffle=True, random_state=999)"
   ]
  },
  {
   "cell_type": "markdown",
   "metadata": {},
   "source": [
    "#### 4.A Feature selection <a name='Featureselection'></a>\n",
    "\n",
    "Before we choose which features to select, we need to assess how well our classifier performs using all the features so we have something to compare with.\n",
    "\n",
    "#### 4.A.a Full set of features<a name='Fullsetoffeatures'></a>"
   ]
  },
  {
   "cell_type": "code",
   "execution_count": 36,
   "metadata": {},
   "outputs": [
    {
     "data": {
      "text/plain": [
       "array([0.97727273, 1.        , 1.        , 0.97619048, 0.97619048])"
      ]
     },
     "execution_count": 36,
     "metadata": {},
     "output_type": "execute_result"
    }
   ],
   "source": [
    "cv_results_full = cross_val_score(estimator=clf,\n",
    "                             X=Data,\n",
    "                             y=target, \n",
    "                             cv=cv_method, \n",
    "                             scoring=scoring_metric)\n",
    "cv_results_full"
   ]
  },
  {
   "cell_type": "code",
   "execution_count": 37,
   "metadata": {},
   "outputs": [
    {
     "data": {
      "text/plain": [
       "0.986"
      ]
     },
     "execution_count": 37,
     "metadata": {},
     "output_type": "execute_result"
    }
   ],
   "source": [
    "cv_results_full.mean().round(3)"
   ]
  },
  {
   "cell_type": "markdown",
   "metadata": {},
   "source": [
    "#### 4.A.b Random forest importance <a name='Randomforestimportance'></a>\n",
    "\n",
    "We will now use random forest importance to see which are the 10 most important features. This will be performed using 100 trees."
   ]
  },
  {
   "cell_type": "code",
   "execution_count": 38,
   "metadata": {},
   "outputs": [],
   "source": [
    "model_rfi = RandomForestClassifier(n_estimators=100)\n",
    "model_rfi.fit(Data, target)\n",
    "fs_indices_rfi = np.argsort(model_rfi.feature_importances_)[::-1][0:num_features]"
   ]
  },
  {
   "cell_type": "markdown",
   "metadata": {},
   "source": [
    "Now that the model has been run we will see the 10 best features."
   ]
  },
  {
   "cell_type": "code",
   "execution_count": 39,
   "metadata": {
    "scrolled": true
   },
   "outputs": [
    {
     "name": "stdout",
     "output_type": "stream",
     "text": [
      "['al' 'sg' 'sc' 'hemo' 'pcv' 'htn' 'pc' 'rbcc' 'bu' 'bgr']\n"
     ]
    }
   ],
   "source": [
    "best_features_rfi = data_clean_ml.columns[fs_indices_rfi].values\n",
    "print(best_features_rfi)"
   ]
  },
  {
   "cell_type": "markdown",
   "metadata": {},
   "source": [
    "Now that we know what the top 10 most important features are, we will create a histogram so we can visualise it and get an idea of how important they are compared to each other."
   ]
  },
  {
   "cell_type": "code",
   "execution_count": 40,
   "metadata": {
    "scrolled": true
   },
   "outputs": [
    {
     "data": {
      "text/plain": [
       "array([0.27563025, 0.14542856, 0.13617821, 0.10595245, 0.06376038,\n",
       "       0.04913456, 0.03804198, 0.03210624, 0.03089137, 0.02545237])"
      ]
     },
     "execution_count": 40,
     "metadata": {},
     "output_type": "execute_result"
    }
   ],
   "source": [
    "feature_importances_rfi = model_rfi.feature_importances_[fs_indices_rfi]\n",
    "feature_importances_rfi"
   ]
  },
  {
   "cell_type": "code",
   "execution_count": 41,
   "metadata": {
    "scrolled": true
   },
   "outputs": [
    {
     "data": {
      "text/html": [
       "\n",
       "<div id=\"altair-viz-d1b87a3e94ac431d8c23c69b650ecfb4\"></div>\n",
       "<script type=\"text/javascript\">\n",
       "  (function(spec, embedOpt){\n",
       "    let outputDiv = document.currentScript.previousElementSibling;\n",
       "    if (outputDiv.id !== \"altair-viz-d1b87a3e94ac431d8c23c69b650ecfb4\") {\n",
       "      outputDiv = document.getElementById(\"altair-viz-d1b87a3e94ac431d8c23c69b650ecfb4\");\n",
       "    }\n",
       "    const paths = {\n",
       "      \"vega\": \"https://cdn.jsdelivr.net/npm//vega@5?noext\",\n",
       "      \"vega-lib\": \"https://cdn.jsdelivr.net/npm//vega-lib?noext\",\n",
       "      \"vega-lite\": \"https://cdn.jsdelivr.net/npm//vega-lite@4.8.1?noext\",\n",
       "      \"vega-embed\": \"https://cdn.jsdelivr.net/npm//vega-embed@6?noext\",\n",
       "    };\n",
       "\n",
       "    function loadScript(lib) {\n",
       "      return new Promise(function(resolve, reject) {\n",
       "        var s = document.createElement('script');\n",
       "        s.src = paths[lib];\n",
       "        s.async = true;\n",
       "        s.onload = () => resolve(paths[lib]);\n",
       "        s.onerror = () => reject(`Error loading script: ${paths[lib]}`);\n",
       "        document.getElementsByTagName(\"head\")[0].appendChild(s);\n",
       "      });\n",
       "    }\n",
       "\n",
       "    function showError(err) {\n",
       "      outputDiv.innerHTML = `<div class=\"error\" style=\"color:red;\">${err}</div>`;\n",
       "      throw err;\n",
       "    }\n",
       "\n",
       "    function displayChart(vegaEmbed) {\n",
       "      vegaEmbed(outputDiv, spec, embedOpt)\n",
       "        .catch(err => showError(`Javascript Error: ${err.message}<br>This usually means there's a typo in your chart specification. See the javascript console for the full traceback.`));\n",
       "    }\n",
       "\n",
       "    if(typeof define === \"function\" && define.amd) {\n",
       "      requirejs.config({paths});\n",
       "      require([\"vega-embed\"], displayChart, err => showError(`Error loading script: ${err.message}`));\n",
       "    } else if (typeof vegaEmbed === \"function\") {\n",
       "      displayChart(vegaEmbed);\n",
       "    } else {\n",
       "      loadScript(\"vega\")\n",
       "        .then(() => loadScript(\"vega-lite\"))\n",
       "        .then(() => loadScript(\"vega-embed\"))\n",
       "        .catch(showError)\n",
       "        .then(() => displayChart(vegaEmbed));\n",
       "    }\n",
       "  })({\"config\": {\"view\": {\"continuousWidth\": 400, \"continuousHeight\": 300}}, \"data\": {\"name\": \"data-ce0de804646c83f42a5959a7b6fde562\"}, \"mark\": {\"type\": \"bar\", \"color\": \"green\", \"opacity\": 0.75}, \"encoding\": {\"x\": {\"type\": \"nominal\", \"axis\": {\"labelAngle\": 45}, \"field\": \"features\", \"sort\": null, \"title\": \"Feature\"}, \"y\": {\"type\": \"quantitative\", \"field\": \"importances\", \"title\": \"Importance\"}}, \"title\": \"Random Forest Feature Importances\", \"width\": 500, \"$schema\": \"https://vega.github.io/schema/vega-lite/v4.8.1.json\", \"datasets\": {\"data-ce0de804646c83f42a5959a7b6fde562\": [{\"features\": \"al\", \"importances\": 0.27563025043535405}, {\"features\": \"sg\", \"importances\": 0.14542856042453148}, {\"features\": \"sc\", \"importances\": 0.13617820978841233}, {\"features\": \"hemo\", \"importances\": 0.10595244679052326}, {\"features\": \"pcv\", \"importances\": 0.06376037767255323}, {\"features\": \"htn\", \"importances\": 0.049134557927371446}, {\"features\": \"pc\", \"importances\": 0.038041981631391455}, {\"features\": \"rbcc\", \"importances\": 0.03210624445845383}, {\"features\": \"bu\", \"importances\": 0.03089136863900566}, {\"features\": \"bgr\", \"importances\": 0.025452367708239953}]}}, {\"mode\": \"vega-lite\"});\n",
       "</script>"
      ],
      "text/plain": [
       "alt.Chart(...)"
      ]
     },
     "execution_count": 41,
     "metadata": {},
     "output_type": "execute_result"
    }
   ],
   "source": [
    "def plot_imp(best_features, scores, method_name, color):\n",
    "    \n",
    "    df = pd.DataFrame({'features': best_features, \n",
    "                       'importances': scores})\n",
    "    \n",
    "    chart = alt.Chart(df, \n",
    "                      width=500, \n",
    "                      title=method_name + ' Feature Importances'\n",
    "                     ).mark_bar(opacity=0.75, \n",
    "                                color=color).encode(\n",
    "        alt.X('features', title='Feature', sort=None, axis=alt.AxisConfig(labelAngle=45)),\n",
    "        alt.Y('importances', title='Importance')\n",
    "    )\n",
    "    \n",
    "    return chart\n",
    "\n",
    "plot_imp(best_features_rfi, feature_importances_rfi, 'Random Forest', 'green')"
   ]
  },
  {
   "cell_type": "markdown",
   "metadata": {},
   "source": [
    "What we see here is that the feature `al` is the most important feature of the lot. `hemo`, `sg` and `sc` are approximatly as important as each other.\n",
    "\n",
    "Now we assess how well it performs with our classifer."
   ]
  },
  {
   "cell_type": "code",
   "execution_count": 42,
   "metadata": {},
   "outputs": [
    {
     "data": {
      "text/plain": [
       "0.972"
      ]
     },
     "execution_count": 42,
     "metadata": {},
     "output_type": "execute_result"
    }
   ],
   "source": [
    "cv_results_rfi = cross_val_score(estimator=clf,\n",
    "                             X=Data[:, fs_indices_rfi],\n",
    "                             y=target, \n",
    "                             cv=cv_method, \n",
    "                             scoring=scoring_metric)\n",
    "cv_results_rfi.mean().round(3)"
   ]
  },
  {
   "cell_type": "code",
   "execution_count": 43,
   "metadata": {},
   "outputs": [
    {
     "name": "stdout",
     "output_type": "stream",
     "text": [
      "This is the result of using full features: 0.986\n",
      "This is the result of using 10 features selected by Random forest importance: 0.972\n"
     ]
    }
   ],
   "source": [
    "print(f\"This is the result of using full features: {cv_results_full.mean().round(3)}\")\n",
    "print(f\"This is the result of using 10 features selected by Random forest importance: {cv_results_rfi.mean().round(3)}\")"
   ]
  },
  {
   "cell_type": "markdown",
   "metadata": {},
   "source": [
    "We can see that both performed very well, both receiving a score of `0.986`.  We will still do a paired t-test to check which ones are statistically significant."
   ]
  },
  {
   "cell_type": "markdown",
   "metadata": {},
   "source": [
    "#### 4.A.c Paired t-test <a name='pairedt-test'></a>"
   ]
  },
  {
   "cell_type": "code",
   "execution_count": 44,
   "metadata": {},
   "outputs": [
    {
     "name": "stdout",
     "output_type": "stream",
     "text": [
      "P-Value for Full vs Random forest importance: 0.374\n"
     ]
    }
   ],
   "source": [
    "print(f\"P-Value for Full vs Random forest importance: {stats.ttest_rel(cv_results_full, cv_results_rfi).pvalue.round(3)}\")"
   ]
  },
  {
   "cell_type": "markdown",
   "metadata": {},
   "source": [
    "Unfortunately we recieve a `nan` out put this is due to getting the exact same result from using the full features aswell as random forest importance `0.986`, we could say that using either methods will work on our dataset. Since there seems to be no difference, we will use the full features from the dataset.\n",
    "\n",
    "#### 4.B Hyperparameter Tuning and Visualisation <a name = 'Hyperparametertuningandvisualisation'></a>\n",
    "\n",
    "Our next step is to find what are the optimal parameters we will use for our algorithms. We will split our data up into 70% training data and 30% test data.\n"
   ]
  },
  {
   "cell_type": "code",
   "execution_count": 45,
   "metadata": {},
   "outputs": [],
   "source": [
    "D_train, D_test, t_train, t_test = train_test_split(Data, target, test_size = 0.3, random_state=999)"
   ]
  },
  {
   "cell_type": "markdown",
   "metadata": {},
   "source": [
    "\n",
    "#### 4.B.a KNN <a name ='KNN'></a>\n",
    "\n",
    "we will start with the KNN algorithm. In order to tune the algorithm, we need to provide the parameters it will be testing. We will define the number of neighbors `n_neighbors` using between `1-7`. Then we'll select the `p` values which are the different distances (1= Manhattan, 2 = Euclidean, and 5 = Minkowski."
   ]
  },
  {
   "cell_type": "code",
   "execution_count": 46,
   "metadata": {},
   "outputs": [],
   "source": [
    "params_KNN = {'n_neighbors': [1, 2, 3, 4, 5, 6, 7], \n",
    "              'p': [1, 2, 5]}"
   ]
  },
  {
   "cell_type": "markdown",
   "metadata": {},
   "source": [
    "With those defined we need to select model and parameters for the `GridSearchCV` function which are `KNeighborsClassifier()` and `KNN_params` respectivly. We will use the same `CV method` used in the feature selection and use the same `scoring_metric` to optimize. This process will be very similar for the rest of the hyperparameter tuning of the other algorithms."
   ]
  },
  {
   "cell_type": "code",
   "execution_count": 47,
   "metadata": {},
   "outputs": [
    {
     "name": "stdout",
     "output_type": "stream",
     "text": [
      "Fitting 5 folds for each of 21 candidates, totalling 105 fits\n"
     ]
    },
    {
     "name": "stderr",
     "output_type": "stream",
     "text": [
      "[Parallel(n_jobs=1)]: Using backend SequentialBackend with 1 concurrent workers.\n",
      "[Parallel(n_jobs=1)]: Done 105 out of 105 | elapsed:    1.2s finished\n"
     ]
    }
   ],
   "source": [
    "gs_KNN = GridSearchCV(estimator=KNeighborsClassifier(), \n",
    "                      param_grid=params_KNN, \n",
    "                      cv=cv_method,\n",
    "                      verbose=1,  \n",
    "                      scoring=scoring_metric, \n",
    "                      return_train_score=True)\n",
    "gs_KNN.fit(D_train, t_train);"
   ]
  },
  {
   "cell_type": "markdown",
   "metadata": {},
   "source": [
    "With the KNN model now fitted to the data. We can see what the best parameters for this dataset are."
   ]
  },
  {
   "cell_type": "code",
   "execution_count": 48,
   "metadata": {
    "scrolled": true
   },
   "outputs": [
    {
     "name": "stdout",
     "output_type": "stream",
     "text": [
      "Best parameters for KNN: {'n_neighbors': 1, 'p': 2}\n"
     ]
    }
   ],
   "source": [
    "print(f\"Best parameters for KNN: {gs_KNN.best_params_}\")"
   ]
  },
  {
   "cell_type": "markdown",
   "metadata": {},
   "source": [
    "After our stratified 5-fold cross validation, we can observe that the optimal number of neighbors is `1` (`n_neighbors`) and the optimal distance to use is `2` (`Euclidean`). We can display the score of the best parameter as well as display the score for the rest of the parameters."
   ]
  },
  {
   "cell_type": "code",
   "execution_count": 49,
   "metadata": {},
   "outputs": [
    {
     "name": "stdout",
     "output_type": "stream",
     "text": [
      "Score of the best parameters: 0.9933333333333334\n",
      "\n",
      "Score of the all the parameters: \n",
      "[0.98       0.99333333 0.99333333 0.98666667 0.99333333 0.99333333\n",
      " 0.98666667 0.99333333 0.99333333 0.99333333 0.99333333 0.99333333\n",
      " 0.99333333 0.99333333 0.99333333 0.99333333 0.99333333 0.99333333\n",
      " 0.99333333 0.99333333 0.99333333]\n"
     ]
    }
   ],
   "source": [
    "print(f\"Score of the best parameters: {gs_KNN.best_score_}\")\n",
    "print(f\"\\nScore of the all the parameters: \\n{gs_KNN.cv_results_['mean_test_score']}\")"
   ]
  },
  {
   "cell_type": "markdown",
   "metadata": {},
   "source": [
    "It's good to visualise how these performances went over all the parameters. So, we will put together line graph to see how much better our best parameters did."
   ]
  },
  {
   "cell_type": "code",
   "execution_count": 50,
   "metadata": {},
   "outputs": [
    {
     "data": {
      "text/html": [
       "\n",
       "<div id=\"altair-viz-dd8cf572780440edaf54a28835699812\"></div>\n",
       "<script type=\"text/javascript\">\n",
       "  (function(spec, embedOpt){\n",
       "    let outputDiv = document.currentScript.previousElementSibling;\n",
       "    if (outputDiv.id !== \"altair-viz-dd8cf572780440edaf54a28835699812\") {\n",
       "      outputDiv = document.getElementById(\"altair-viz-dd8cf572780440edaf54a28835699812\");\n",
       "    }\n",
       "    const paths = {\n",
       "      \"vega\": \"https://cdn.jsdelivr.net/npm//vega@5?noext\",\n",
       "      \"vega-lib\": \"https://cdn.jsdelivr.net/npm//vega-lib?noext\",\n",
       "      \"vega-lite\": \"https://cdn.jsdelivr.net/npm//vega-lite@4.8.1?noext\",\n",
       "      \"vega-embed\": \"https://cdn.jsdelivr.net/npm//vega-embed@6?noext\",\n",
       "    };\n",
       "\n",
       "    function loadScript(lib) {\n",
       "      return new Promise(function(resolve, reject) {\n",
       "        var s = document.createElement('script');\n",
       "        s.src = paths[lib];\n",
       "        s.async = true;\n",
       "        s.onload = () => resolve(paths[lib]);\n",
       "        s.onerror = () => reject(`Error loading script: ${paths[lib]}`);\n",
       "        document.getElementsByTagName(\"head\")[0].appendChild(s);\n",
       "      });\n",
       "    }\n",
       "\n",
       "    function showError(err) {\n",
       "      outputDiv.innerHTML = `<div class=\"error\" style=\"color:red;\">${err}</div>`;\n",
       "      throw err;\n",
       "    }\n",
       "\n",
       "    function displayChart(vegaEmbed) {\n",
       "      vegaEmbed(outputDiv, spec, embedOpt)\n",
       "        .catch(err => showError(`Javascript Error: ${err.message}<br>This usually means there's a typo in your chart specification. See the javascript console for the full traceback.`));\n",
       "    }\n",
       "\n",
       "    if(typeof define === \"function\" && define.amd) {\n",
       "      requirejs.config({paths});\n",
       "      require([\"vega-embed\"], displayChart, err => showError(`Error loading script: ${err.message}`));\n",
       "    } else if (typeof vegaEmbed === \"function\") {\n",
       "      displayChart(vegaEmbed);\n",
       "    } else {\n",
       "      loadScript(\"vega\")\n",
       "        .then(() => loadScript(\"vega-lite\"))\n",
       "        .then(() => loadScript(\"vega-embed\"))\n",
       "        .catch(showError)\n",
       "        .then(() => displayChart(vegaEmbed));\n",
       "    }\n",
       "  })({\"config\": {\"view\": {\"continuousWidth\": 400, \"continuousHeight\": 300}}, \"data\": {\"name\": \"data-b86ab681d78800803724cc30de6fe724\"}, \"mark\": {\"type\": \"line\", \"point\": true}, \"encoding\": {\"color\": {\"type\": \"nominal\", \"field\": \"metric\"}, \"x\": {\"type\": \"quantitative\", \"field\": \"n_neighbors\", \"title\": \"Number of Neighbors\"}, \"y\": {\"type\": \"quantitative\", \"field\": \"test_score\", \"scale\": {\"zero\": false}, \"title\": \"Mean CV Score\"}}, \"title\": \"KNN Performance Comparison\", \"$schema\": \"https://vega.github.io/schema/vega-lite/v4.8.1.json\", \"datasets\": {\"data-b86ab681d78800803724cc30de6fe724\": [{\"n_neighbors\": 1, \"p\": 1, \"test_score\": 0.9800000000000001, \"metric\": \"Manhattan\"}, {\"n_neighbors\": 1, \"p\": 2, \"test_score\": 0.9933333333333334, \"metric\": \"Euclidean\"}, {\"n_neighbors\": 1, \"p\": 5, \"test_score\": 0.9933333333333334, \"metric\": \"Minkowski\"}, {\"n_neighbors\": 2, \"p\": 1, \"test_score\": 0.9866666666666667, \"metric\": \"Manhattan\"}, {\"n_neighbors\": 2, \"p\": 2, \"test_score\": 0.9933333333333334, \"metric\": \"Euclidean\"}, {\"n_neighbors\": 2, \"p\": 5, \"test_score\": 0.9933333333333334, \"metric\": \"Minkowski\"}, {\"n_neighbors\": 3, \"p\": 1, \"test_score\": 0.9866666666666667, \"metric\": \"Manhattan\"}, {\"n_neighbors\": 3, \"p\": 2, \"test_score\": 0.9933333333333334, \"metric\": \"Euclidean\"}, {\"n_neighbors\": 3, \"p\": 5, \"test_score\": 0.9933333333333334, \"metric\": \"Minkowski\"}, {\"n_neighbors\": 4, \"p\": 1, \"test_score\": 0.9933333333333334, \"metric\": \"Manhattan\"}, {\"n_neighbors\": 4, \"p\": 2, \"test_score\": 0.9933333333333334, \"metric\": \"Euclidean\"}, {\"n_neighbors\": 4, \"p\": 5, \"test_score\": 0.9933333333333334, \"metric\": \"Minkowski\"}, {\"n_neighbors\": 5, \"p\": 1, \"test_score\": 0.9933333333333334, \"metric\": \"Manhattan\"}, {\"n_neighbors\": 5, \"p\": 2, \"test_score\": 0.9933333333333334, \"metric\": \"Euclidean\"}, {\"n_neighbors\": 5, \"p\": 5, \"test_score\": 0.9933333333333334, \"metric\": \"Minkowski\"}, {\"n_neighbors\": 6, \"p\": 1, \"test_score\": 0.9933333333333334, \"metric\": \"Manhattan\"}, {\"n_neighbors\": 6, \"p\": 2, \"test_score\": 0.9933333333333334, \"metric\": \"Euclidean\"}, {\"n_neighbors\": 6, \"p\": 5, \"test_score\": 0.9933333333333334, \"metric\": \"Minkowski\"}, {\"n_neighbors\": 7, \"p\": 1, \"test_score\": 0.9933333333333334, \"metric\": \"Manhattan\"}, {\"n_neighbors\": 7, \"p\": 2, \"test_score\": 0.9933333333333334, \"metric\": \"Euclidean\"}, {\"n_neighbors\": 7, \"p\": 5, \"test_score\": 0.9933333333333334, \"metric\": \"Minkowski\"}]}}, {\"mode\": \"vega-lite\"});\n",
       "</script>"
      ],
      "text/plain": [
       "alt.Chart(...)"
      ]
     },
     "execution_count": 50,
     "metadata": {},
     "output_type": "execute_result"
    }
   ],
   "source": [
    "results_KNN = pd.DataFrame(gs_KNN.cv_results_['params'])\n",
    "results_KNN['test_score'] = gs_KNN.cv_results_['mean_test_score']\n",
    "results_KNN['metric'] = results_KNN['p'].replace([1,2,5], [\"Manhattan\", \"Euclidean\", \"Minkowski\"])\n",
    "\n",
    "alt.Chart(results_KNN, \n",
    "          title='KNN Performance Comparison'\n",
    "         ).mark_line(point=True).encode(\n",
    "    alt.X('n_neighbors', title='Number of Neighbors'),\n",
    "    alt.Y('test_score', title='Mean CV Score', scale=alt.Scale(zero=False)),\n",
    "    color='metric'\n",
    ")"
   ]
  },
  {
   "cell_type": "markdown",
   "metadata": {},
   "source": [
    "With the KNN model now fitted to the data. We can see what the best parameters for this dataset are. We can see that as the number of neighbors increases the worse the overall performance got. Overall the `Minkowski` did the best along the neighbors but the `Euclidean` distance was just as good in some spots. We can see that the best number of neighbors is `1` and that the `Euclidean` Distance is best used at that number of neighbors, which confirms our best parameters we got earlier."
   ]
  },
  {
   "cell_type": "markdown",
   "metadata": {},
   "source": [
    "#### 4.B.b Decision tree <a name ='Decisiontree'></a>\n",
    "\n",
    "Next is the Decision Tree algorithm. We will be assessing `criterion` (either `gini` or `entropy`), `max_depth` (from `1-8`) and the `min_samples_split` (either `2` or `3`)."
   ]
  },
  {
   "cell_type": "code",
   "execution_count": 51,
   "metadata": {},
   "outputs": [
    {
     "name": "stderr",
     "output_type": "stream",
     "text": [
      "[Parallel(n_jobs=1)]: Using backend SequentialBackend with 1 concurrent workers.\n"
     ]
    },
    {
     "name": "stdout",
     "output_type": "stream",
     "text": [
      "Fitting 5 folds for each of 32 candidates, totalling 160 fits\n"
     ]
    },
    {
     "name": "stderr",
     "output_type": "stream",
     "text": [
      "[Parallel(n_jobs=1)]: Done 160 out of 160 | elapsed:    0.3s finished\n"
     ]
    }
   ],
   "source": [
    "df_classifier = DecisionTreeClassifier(random_state=999)\n",
    "\n",
    "params_DT = {'criterion': ['gini', 'entropy'],\n",
    "             'max_depth': [1, 2, 3, 4, 5, 6, 7, 8],\n",
    "             'min_samples_split': [2, 3]}\n",
    "\n",
    "gs_DT = GridSearchCV(estimator=df_classifier, \n",
    "                     param_grid=params_DT, \n",
    "                     cv=cv_method,\n",
    "                     verbose=1, \n",
    "                     scoring=scoring_metric)\n",
    "\n",
    "gs_DT.fit(D_train, t_train);"
   ]
  },
  {
   "cell_type": "code",
   "execution_count": 52,
   "metadata": {},
   "outputs": [
    {
     "name": "stdout",
     "output_type": "stream",
     "text": [
      "Best parameters for DT: {'criterion': 'gini', 'max_depth': 2, 'min_samples_split': 2}\n"
     ]
    }
   ],
   "source": [
    "print(f\"Best parameters for DT: {gs_DT.best_params_}\") "
   ]
  },
  {
   "cell_type": "code",
   "execution_count": 53,
   "metadata": {
    "scrolled": true
   },
   "outputs": [
    {
     "name": "stdout",
     "output_type": "stream",
     "text": [
      "Score of the best parameters: 0.9800000000000001\n",
      "\n",
      "Score of the all the parameters: \n",
      "[0.97333333 0.97333333 0.98       0.98       0.98       0.98\n",
      " 0.98       0.98       0.98       0.98       0.98       0.98\n",
      " 0.98       0.98       0.98       0.98       0.97333333 0.97333333\n",
      " 0.98       0.98       0.98       0.98       0.98       0.98\n",
      " 0.98       0.98       0.98       0.98       0.98       0.98\n",
      " 0.98       0.98      ]\n"
     ]
    }
   ],
   "source": [
    "print(f\"Score of the best parameters: {gs_DT.best_score_}\")\n",
    "print(f\"\\nScore of the all the parameters: \\n{gs_DT.cv_results_['mean_test_score']}\")"
   ]
  },
  {
   "cell_type": "code",
   "execution_count": 54,
   "metadata": {
    "scrolled": true
   },
   "outputs": [
    {
     "data": {
      "text/html": [
       "\n",
       "<div id=\"altair-viz-d0d99b66e2384d1abf8beaebd1c2697d\"></div>\n",
       "<script type=\"text/javascript\">\n",
       "  (function(spec, embedOpt){\n",
       "    let outputDiv = document.currentScript.previousElementSibling;\n",
       "    if (outputDiv.id !== \"altair-viz-d0d99b66e2384d1abf8beaebd1c2697d\") {\n",
       "      outputDiv = document.getElementById(\"altair-viz-d0d99b66e2384d1abf8beaebd1c2697d\");\n",
       "    }\n",
       "    const paths = {\n",
       "      \"vega\": \"https://cdn.jsdelivr.net/npm//vega@5?noext\",\n",
       "      \"vega-lib\": \"https://cdn.jsdelivr.net/npm//vega-lib?noext\",\n",
       "      \"vega-lite\": \"https://cdn.jsdelivr.net/npm//vega-lite@4.8.1?noext\",\n",
       "      \"vega-embed\": \"https://cdn.jsdelivr.net/npm//vega-embed@6?noext\",\n",
       "    };\n",
       "\n",
       "    function loadScript(lib) {\n",
       "      return new Promise(function(resolve, reject) {\n",
       "        var s = document.createElement('script');\n",
       "        s.src = paths[lib];\n",
       "        s.async = true;\n",
       "        s.onload = () => resolve(paths[lib]);\n",
       "        s.onerror = () => reject(`Error loading script: ${paths[lib]}`);\n",
       "        document.getElementsByTagName(\"head\")[0].appendChild(s);\n",
       "      });\n",
       "    }\n",
       "\n",
       "    function showError(err) {\n",
       "      outputDiv.innerHTML = `<div class=\"error\" style=\"color:red;\">${err}</div>`;\n",
       "      throw err;\n",
       "    }\n",
       "\n",
       "    function displayChart(vegaEmbed) {\n",
       "      vegaEmbed(outputDiv, spec, embedOpt)\n",
       "        .catch(err => showError(`Javascript Error: ${err.message}<br>This usually means there's a typo in your chart specification. See the javascript console for the full traceback.`));\n",
       "    }\n",
       "\n",
       "    if(typeof define === \"function\" && define.amd) {\n",
       "      requirejs.config({paths});\n",
       "      require([\"vega-embed\"], displayChart, err => showError(`Error loading script: ${err.message}`));\n",
       "    } else if (typeof vegaEmbed === \"function\") {\n",
       "      displayChart(vegaEmbed);\n",
       "    } else {\n",
       "      loadScript(\"vega\")\n",
       "        .then(() => loadScript(\"vega-lite\"))\n",
       "        .then(() => loadScript(\"vega-embed\"))\n",
       "        .catch(showError)\n",
       "        .then(() => displayChart(vegaEmbed));\n",
       "    }\n",
       "  })({\"config\": {\"view\": {\"continuousWidth\": 400, \"continuousHeight\": 300}}, \"data\": {\"name\": \"data-9b6a97bda05db2cf7ef9bbccc6bb2ffc\"}, \"mark\": {\"type\": \"line\", \"point\": true}, \"encoding\": {\"color\": {\"type\": \"nominal\", \"field\": \"criterion\"}, \"x\": {\"type\": \"quantitative\", \"field\": \"max_depth\", \"title\": \"Maximum Depth\"}, \"y\": {\"type\": \"quantitative\", \"aggregate\": \"average\", \"field\": \"test_score\", \"scale\": {\"zero\": false}, \"title\": \"Mean CV Score\"}}, \"title\": \"DT Performance Comparison\", \"$schema\": \"https://vega.github.io/schema/vega-lite/v4.8.1.json\", \"datasets\": {\"data-9b6a97bda05db2cf7ef9bbccc6bb2ffc\": [{\"criterion\": \"gini\", \"max_depth\": 1, \"min_samples_split\": 2, \"test_score\": 0.9733333333333334}, {\"criterion\": \"gini\", \"max_depth\": 1, \"min_samples_split\": 3, \"test_score\": 0.9733333333333334}, {\"criterion\": \"gini\", \"max_depth\": 2, \"min_samples_split\": 2, \"test_score\": 0.9800000000000001}, {\"criterion\": \"gini\", \"max_depth\": 2, \"min_samples_split\": 3, \"test_score\": 0.9800000000000001}, {\"criterion\": \"gini\", \"max_depth\": 3, \"min_samples_split\": 2, \"test_score\": 0.9800000000000001}, {\"criterion\": \"gini\", \"max_depth\": 3, \"min_samples_split\": 3, \"test_score\": 0.9800000000000001}, {\"criterion\": \"gini\", \"max_depth\": 4, \"min_samples_split\": 2, \"test_score\": 0.9800000000000001}, {\"criterion\": \"gini\", \"max_depth\": 4, \"min_samples_split\": 3, \"test_score\": 0.9800000000000001}, {\"criterion\": \"gini\", \"max_depth\": 5, \"min_samples_split\": 2, \"test_score\": 0.9800000000000001}, {\"criterion\": \"gini\", \"max_depth\": 5, \"min_samples_split\": 3, \"test_score\": 0.9800000000000001}, {\"criterion\": \"gini\", \"max_depth\": 6, \"min_samples_split\": 2, \"test_score\": 0.9800000000000001}, {\"criterion\": \"gini\", \"max_depth\": 6, \"min_samples_split\": 3, \"test_score\": 0.9800000000000001}, {\"criterion\": \"gini\", \"max_depth\": 7, \"min_samples_split\": 2, \"test_score\": 0.9800000000000001}, {\"criterion\": \"gini\", \"max_depth\": 7, \"min_samples_split\": 3, \"test_score\": 0.9800000000000001}, {\"criterion\": \"gini\", \"max_depth\": 8, \"min_samples_split\": 2, \"test_score\": 0.9800000000000001}, {\"criterion\": \"gini\", \"max_depth\": 8, \"min_samples_split\": 3, \"test_score\": 0.9800000000000001}, {\"criterion\": \"entropy\", \"max_depth\": 1, \"min_samples_split\": 2, \"test_score\": 0.9733333333333334}, {\"criterion\": \"entropy\", \"max_depth\": 1, \"min_samples_split\": 3, \"test_score\": 0.9733333333333334}, {\"criterion\": \"entropy\", \"max_depth\": 2, \"min_samples_split\": 2, \"test_score\": 0.9800000000000001}, {\"criterion\": \"entropy\", \"max_depth\": 2, \"min_samples_split\": 3, \"test_score\": 0.9800000000000001}, {\"criterion\": \"entropy\", \"max_depth\": 3, \"min_samples_split\": 2, \"test_score\": 0.9800000000000001}, {\"criterion\": \"entropy\", \"max_depth\": 3, \"min_samples_split\": 3, \"test_score\": 0.9800000000000001}, {\"criterion\": \"entropy\", \"max_depth\": 4, \"min_samples_split\": 2, \"test_score\": 0.9800000000000001}, {\"criterion\": \"entropy\", \"max_depth\": 4, \"min_samples_split\": 3, \"test_score\": 0.9800000000000001}, {\"criterion\": \"entropy\", \"max_depth\": 5, \"min_samples_split\": 2, \"test_score\": 0.9800000000000001}, {\"criterion\": \"entropy\", \"max_depth\": 5, \"min_samples_split\": 3, \"test_score\": 0.9800000000000001}, {\"criterion\": \"entropy\", \"max_depth\": 6, \"min_samples_split\": 2, \"test_score\": 0.9800000000000001}, {\"criterion\": \"entropy\", \"max_depth\": 6, \"min_samples_split\": 3, \"test_score\": 0.9800000000000001}, {\"criterion\": \"entropy\", \"max_depth\": 7, \"min_samples_split\": 2, \"test_score\": 0.9800000000000001}, {\"criterion\": \"entropy\", \"max_depth\": 7, \"min_samples_split\": 3, \"test_score\": 0.9800000000000001}, {\"criterion\": \"entropy\", \"max_depth\": 8, \"min_samples_split\": 2, \"test_score\": 0.9800000000000001}, {\"criterion\": \"entropy\", \"max_depth\": 8, \"min_samples_split\": 3, \"test_score\": 0.9800000000000001}]}}, {\"mode\": \"vega-lite\"});\n",
       "</script>"
      ],
      "text/plain": [
       "alt.Chart(...)"
      ]
     },
     "execution_count": 54,
     "metadata": {},
     "output_type": "execute_result"
    }
   ],
   "source": [
    "results_DT = pd.DataFrame(gs_DT.cv_results_['params'])\n",
    "results_DT['test_score'] = gs_DT.cv_results_['mean_test_score']\n",
    "results_DT.columns\n",
    "\n",
    "alt.Chart(results_DT, \n",
    "          title='DT Performance Comparison'\n",
    "         ).mark_line(point=True).encode(\n",
    "    alt.X('max_depth', title='Maximum Depth'),\n",
    "    alt.Y('test_score', title='Mean CV Score', aggregate='average', scale=alt.Scale(zero=False)),\n",
    "    color='criterion'\n",
    ")"
   ]
  },
  {
   "cell_type": "markdown",
   "metadata": {},
   "source": [
    "The DT Performance Comparison graph above shows that for both the entropy and gini criterion they seem to follow the same path. They both perform best with a maximum depth of 1. So, in this case the best parameters for the Decision Tree algorithm is what was suggested above `criterion: gini, max_depth: 1, min_samples_split: 2`."
   ]
  },
  {
   "cell_type": "markdown",
   "metadata": {},
   "source": [
    "#### 4.B.c Random Forest <a name ='RandomForest'></a>\n",
    "\n",
    "For the Random forest algorithm. We will be assessing `max_features` (`auto`, `sqrt` and ` log2`), `min_samples_leaf` (`1`, `2`, `4`) and `n_estimators` (`10`, `50`, `100`, `200`, `400`, `600`, `800`)."
   ]
  },
  {
   "cell_type": "code",
   "execution_count": 55,
   "metadata": {},
   "outputs": [
    {
     "name": "stderr",
     "output_type": "stream",
     "text": [
      "[Parallel(n_jobs=1)]: Using backend SequentialBackend with 1 concurrent workers.\n"
     ]
    },
    {
     "name": "stdout",
     "output_type": "stream",
     "text": [
      "Fitting 5 folds for each of 63 candidates, totalling 315 fits\n"
     ]
    },
    {
     "name": "stderr",
     "output_type": "stream",
     "text": [
      "[Parallel(n_jobs=1)]: Done 315 out of 315 | elapsed:  2.0min finished\n"
     ]
    }
   ],
   "source": [
    "df_classifier = RandomForestClassifier(random_state=999)\n",
    "\n",
    "params_RF = {'max_features': ['auto', 'sqrt', 'log2'],\n",
    "             'min_samples_leaf': [1, 2, 4],\n",
    "             'n_estimators': [10, 50, 100, 200, 400, 600, 800]}\n",
    "\n",
    "gs_RF = GridSearchCV(estimator=df_classifier, \n",
    "                     param_grid=params_RF, \n",
    "                     cv=cv_method,\n",
    "                     verbose=1, \n",
    "                     scoring=scoring_metric)\n",
    "\n",
    "gs_RF.fit(D_train, t_train);"
   ]
  },
  {
   "cell_type": "code",
   "execution_count": 56,
   "metadata": {},
   "outputs": [
    {
     "name": "stdout",
     "output_type": "stream",
     "text": [
      "Best parameters for KNN: {'max_features': 'auto', 'min_samples_leaf': 1, 'n_estimators': 10}\n"
     ]
    }
   ],
   "source": [
    "print(f\"Best parameters for KNN: {gs_RF.best_params_}\") "
   ]
  },
  {
   "cell_type": "code",
   "execution_count": 57,
   "metadata": {
    "scrolled": true
   },
   "outputs": [
    {
     "name": "stdout",
     "output_type": "stream",
     "text": [
      "Score of the best parameters: 1.0\n",
      "\n",
      "Score of the all the parameters: \n",
      "[1. 1. 1. 1. 1. 1. 1. 1. 1. 1. 1. 1. 1. 1. 1. 1. 1. 1. 1. 1. 1. 1. 1. 1.\n",
      " 1. 1. 1. 1. 1. 1. 1. 1. 1. 1. 1. 1. 1. 1. 1. 1. 1. 1. 1. 1. 1. 1. 1. 1.\n",
      " 1. 1. 1. 1. 1. 1. 1. 1. 1. 1. 1. 1. 1. 1. 1.]\n"
     ]
    }
   ],
   "source": [
    "print(f\"Score of the best parameters: {gs_RF.best_score_}\")\n",
    "print(f\"\\nScore of the all the parameters: \\n{gs_RF.cv_results_['mean_test_score']}\")"
   ]
  },
  {
   "cell_type": "code",
   "execution_count": 58,
   "metadata": {
    "scrolled": true
   },
   "outputs": [
    {
     "data": {
      "text/html": [
       "\n",
       "<div id=\"altair-viz-7e8af0b131354e669bf16ff00c1f6f1f\"></div>\n",
       "<script type=\"text/javascript\">\n",
       "  (function(spec, embedOpt){\n",
       "    let outputDiv = document.currentScript.previousElementSibling;\n",
       "    if (outputDiv.id !== \"altair-viz-7e8af0b131354e669bf16ff00c1f6f1f\") {\n",
       "      outputDiv = document.getElementById(\"altair-viz-7e8af0b131354e669bf16ff00c1f6f1f\");\n",
       "    }\n",
       "    const paths = {\n",
       "      \"vega\": \"https://cdn.jsdelivr.net/npm//vega@5?noext\",\n",
       "      \"vega-lib\": \"https://cdn.jsdelivr.net/npm//vega-lib?noext\",\n",
       "      \"vega-lite\": \"https://cdn.jsdelivr.net/npm//vega-lite@4.8.1?noext\",\n",
       "      \"vega-embed\": \"https://cdn.jsdelivr.net/npm//vega-embed@6?noext\",\n",
       "    };\n",
       "\n",
       "    function loadScript(lib) {\n",
       "      return new Promise(function(resolve, reject) {\n",
       "        var s = document.createElement('script');\n",
       "        s.src = paths[lib];\n",
       "        s.async = true;\n",
       "        s.onload = () => resolve(paths[lib]);\n",
       "        s.onerror = () => reject(`Error loading script: ${paths[lib]}`);\n",
       "        document.getElementsByTagName(\"head\")[0].appendChild(s);\n",
       "      });\n",
       "    }\n",
       "\n",
       "    function showError(err) {\n",
       "      outputDiv.innerHTML = `<div class=\"error\" style=\"color:red;\">${err}</div>`;\n",
       "      throw err;\n",
       "    }\n",
       "\n",
       "    function displayChart(vegaEmbed) {\n",
       "      vegaEmbed(outputDiv, spec, embedOpt)\n",
       "        .catch(err => showError(`Javascript Error: ${err.message}<br>This usually means there's a typo in your chart specification. See the javascript console for the full traceback.`));\n",
       "    }\n",
       "\n",
       "    if(typeof define === \"function\" && define.amd) {\n",
       "      requirejs.config({paths});\n",
       "      require([\"vega-embed\"], displayChart, err => showError(`Error loading script: ${err.message}`));\n",
       "    } else if (typeof vegaEmbed === \"function\") {\n",
       "      displayChart(vegaEmbed);\n",
       "    } else {\n",
       "      loadScript(\"vega\")\n",
       "        .then(() => loadScript(\"vega-lite\"))\n",
       "        .then(() => loadScript(\"vega-embed\"))\n",
       "        .catch(showError)\n",
       "        .then(() => displayChart(vegaEmbed));\n",
       "    }\n",
       "  })({\"config\": {\"view\": {\"continuousWidth\": 400, \"continuousHeight\": 300}}, \"data\": {\"name\": \"data-64c47bceda8c9b4474ca7afa9e254c10\"}, \"mark\": {\"type\": \"line\", \"point\": true}, \"encoding\": {\"color\": {\"type\": \"nominal\", \"field\": \"max_features\"}, \"x\": {\"type\": \"quantitative\", \"field\": \"n_estimators\", \"title\": \"n_estimators\"}, \"y\": {\"type\": \"quantitative\", \"aggregate\": \"average\", \"field\": \"test_score\", \"scale\": {\"zero\": false}, \"title\": \"Mean CV Score\"}}, \"title\": \"RF Performance Comparison\", \"$schema\": \"https://vega.github.io/schema/vega-lite/v4.8.1.json\", \"datasets\": {\"data-64c47bceda8c9b4474ca7afa9e254c10\": [{\"max_features\": \"auto\", \"min_samples_leaf\": 1, \"n_estimators\": 10, \"test_score\": 1.0}, {\"max_features\": \"auto\", \"min_samples_leaf\": 1, \"n_estimators\": 50, \"test_score\": 1.0}, {\"max_features\": \"auto\", \"min_samples_leaf\": 1, \"n_estimators\": 100, \"test_score\": 1.0}, {\"max_features\": \"auto\", \"min_samples_leaf\": 1, \"n_estimators\": 200, \"test_score\": 1.0}, {\"max_features\": \"auto\", \"min_samples_leaf\": 1, \"n_estimators\": 400, \"test_score\": 1.0}, {\"max_features\": \"auto\", \"min_samples_leaf\": 1, \"n_estimators\": 600, \"test_score\": 1.0}, {\"max_features\": \"auto\", \"min_samples_leaf\": 1, \"n_estimators\": 800, \"test_score\": 1.0}, {\"max_features\": \"auto\", \"min_samples_leaf\": 2, \"n_estimators\": 10, \"test_score\": 1.0}, {\"max_features\": \"auto\", \"min_samples_leaf\": 2, \"n_estimators\": 50, \"test_score\": 1.0}, {\"max_features\": \"auto\", \"min_samples_leaf\": 2, \"n_estimators\": 100, \"test_score\": 1.0}, {\"max_features\": \"auto\", \"min_samples_leaf\": 2, \"n_estimators\": 200, \"test_score\": 1.0}, {\"max_features\": \"auto\", \"min_samples_leaf\": 2, \"n_estimators\": 400, \"test_score\": 1.0}, {\"max_features\": \"auto\", \"min_samples_leaf\": 2, \"n_estimators\": 600, \"test_score\": 1.0}, {\"max_features\": \"auto\", \"min_samples_leaf\": 2, \"n_estimators\": 800, \"test_score\": 1.0}, {\"max_features\": \"auto\", \"min_samples_leaf\": 4, \"n_estimators\": 10, \"test_score\": 1.0}, {\"max_features\": \"auto\", \"min_samples_leaf\": 4, \"n_estimators\": 50, \"test_score\": 1.0}, {\"max_features\": \"auto\", \"min_samples_leaf\": 4, \"n_estimators\": 100, \"test_score\": 1.0}, {\"max_features\": \"auto\", \"min_samples_leaf\": 4, \"n_estimators\": 200, \"test_score\": 1.0}, {\"max_features\": \"auto\", \"min_samples_leaf\": 4, \"n_estimators\": 400, \"test_score\": 1.0}, {\"max_features\": \"auto\", \"min_samples_leaf\": 4, \"n_estimators\": 600, \"test_score\": 1.0}, {\"max_features\": \"auto\", \"min_samples_leaf\": 4, \"n_estimators\": 800, \"test_score\": 1.0}, {\"max_features\": \"sqrt\", \"min_samples_leaf\": 1, \"n_estimators\": 10, \"test_score\": 1.0}, {\"max_features\": \"sqrt\", \"min_samples_leaf\": 1, \"n_estimators\": 50, \"test_score\": 1.0}, {\"max_features\": \"sqrt\", \"min_samples_leaf\": 1, \"n_estimators\": 100, \"test_score\": 1.0}, {\"max_features\": \"sqrt\", \"min_samples_leaf\": 1, \"n_estimators\": 200, \"test_score\": 1.0}, {\"max_features\": \"sqrt\", \"min_samples_leaf\": 1, \"n_estimators\": 400, \"test_score\": 1.0}, {\"max_features\": \"sqrt\", \"min_samples_leaf\": 1, \"n_estimators\": 600, \"test_score\": 1.0}, {\"max_features\": \"sqrt\", \"min_samples_leaf\": 1, \"n_estimators\": 800, \"test_score\": 1.0}, {\"max_features\": \"sqrt\", \"min_samples_leaf\": 2, \"n_estimators\": 10, \"test_score\": 1.0}, {\"max_features\": \"sqrt\", \"min_samples_leaf\": 2, \"n_estimators\": 50, \"test_score\": 1.0}, {\"max_features\": \"sqrt\", \"min_samples_leaf\": 2, \"n_estimators\": 100, \"test_score\": 1.0}, {\"max_features\": \"sqrt\", \"min_samples_leaf\": 2, \"n_estimators\": 200, \"test_score\": 1.0}, {\"max_features\": \"sqrt\", \"min_samples_leaf\": 2, \"n_estimators\": 400, \"test_score\": 1.0}, {\"max_features\": \"sqrt\", \"min_samples_leaf\": 2, \"n_estimators\": 600, \"test_score\": 1.0}, {\"max_features\": \"sqrt\", \"min_samples_leaf\": 2, \"n_estimators\": 800, \"test_score\": 1.0}, {\"max_features\": \"sqrt\", \"min_samples_leaf\": 4, \"n_estimators\": 10, \"test_score\": 1.0}, {\"max_features\": \"sqrt\", \"min_samples_leaf\": 4, \"n_estimators\": 50, \"test_score\": 1.0}, {\"max_features\": \"sqrt\", \"min_samples_leaf\": 4, \"n_estimators\": 100, \"test_score\": 1.0}, {\"max_features\": \"sqrt\", \"min_samples_leaf\": 4, \"n_estimators\": 200, \"test_score\": 1.0}, {\"max_features\": \"sqrt\", \"min_samples_leaf\": 4, \"n_estimators\": 400, \"test_score\": 1.0}, {\"max_features\": \"sqrt\", \"min_samples_leaf\": 4, \"n_estimators\": 600, \"test_score\": 1.0}, {\"max_features\": \"sqrt\", \"min_samples_leaf\": 4, \"n_estimators\": 800, \"test_score\": 1.0}, {\"max_features\": \"log2\", \"min_samples_leaf\": 1, \"n_estimators\": 10, \"test_score\": 1.0}, {\"max_features\": \"log2\", \"min_samples_leaf\": 1, \"n_estimators\": 50, \"test_score\": 1.0}, {\"max_features\": \"log2\", \"min_samples_leaf\": 1, \"n_estimators\": 100, \"test_score\": 1.0}, {\"max_features\": \"log2\", \"min_samples_leaf\": 1, \"n_estimators\": 200, \"test_score\": 1.0}, {\"max_features\": \"log2\", \"min_samples_leaf\": 1, \"n_estimators\": 400, \"test_score\": 1.0}, {\"max_features\": \"log2\", \"min_samples_leaf\": 1, \"n_estimators\": 600, \"test_score\": 1.0}, {\"max_features\": \"log2\", \"min_samples_leaf\": 1, \"n_estimators\": 800, \"test_score\": 1.0}, {\"max_features\": \"log2\", \"min_samples_leaf\": 2, \"n_estimators\": 10, \"test_score\": 1.0}, {\"max_features\": \"log2\", \"min_samples_leaf\": 2, \"n_estimators\": 50, \"test_score\": 1.0}, {\"max_features\": \"log2\", \"min_samples_leaf\": 2, \"n_estimators\": 100, \"test_score\": 1.0}, {\"max_features\": \"log2\", \"min_samples_leaf\": 2, \"n_estimators\": 200, \"test_score\": 1.0}, {\"max_features\": \"log2\", \"min_samples_leaf\": 2, \"n_estimators\": 400, \"test_score\": 1.0}, {\"max_features\": \"log2\", \"min_samples_leaf\": 2, \"n_estimators\": 600, \"test_score\": 1.0}, {\"max_features\": \"log2\", \"min_samples_leaf\": 2, \"n_estimators\": 800, \"test_score\": 1.0}, {\"max_features\": \"log2\", \"min_samples_leaf\": 4, \"n_estimators\": 10, \"test_score\": 1.0}, {\"max_features\": \"log2\", \"min_samples_leaf\": 4, \"n_estimators\": 50, \"test_score\": 1.0}, {\"max_features\": \"log2\", \"min_samples_leaf\": 4, \"n_estimators\": 100, \"test_score\": 1.0}, {\"max_features\": \"log2\", \"min_samples_leaf\": 4, \"n_estimators\": 200, \"test_score\": 1.0}, {\"max_features\": \"log2\", \"min_samples_leaf\": 4, \"n_estimators\": 400, \"test_score\": 1.0}, {\"max_features\": \"log2\", \"min_samples_leaf\": 4, \"n_estimators\": 600, \"test_score\": 1.0}, {\"max_features\": \"log2\", \"min_samples_leaf\": 4, \"n_estimators\": 800, \"test_score\": 1.0}]}}, {\"mode\": \"vega-lite\"});\n",
       "</script>"
      ],
      "text/plain": [
       "alt.Chart(...)"
      ]
     },
     "execution_count": 58,
     "metadata": {},
     "output_type": "execute_result"
    }
   ],
   "source": [
    "results_RF = pd.DataFrame(gs_RF.cv_results_['params'])\n",
    "results_RF['test_score'] = gs_RF.cv_results_['mean_test_score']\n",
    "results_RF.columns\n",
    "\n",
    "alt.Chart(results_RF, \n",
    "          title='RF Performance Comparison'\n",
    "         ).mark_line(point=True).encode(\n",
    "    alt.X('n_estimators', title='n_estimators'),\n",
    "    alt.Y('test_score', title='Mean CV Score', aggregate='average', scale=alt.Scale(zero=False)),\n",
    "    color='max_features'\n",
    ")"
   ]
  },
  {
   "cell_type": "markdown",
   "metadata": {},
   "source": [
    "The RF Performance Comparison graph above shows that for `max_features` they all follow the same path when the `n_estimators` increase. The best paramaters for the Random forest algorithm the following are the best parameters: `max_features: auto, min_samples_leaf: 1, n_estimators: 50`"
   ]
  },
  {
   "cell_type": "markdown",
   "metadata": {},
   "source": [
    "### 4.C Prediction evaluation <a name='Predictionevaluation'></a>\n",
    "\n",
    "Now that we have done feature selection and hyperparameter tuning we are ready to evaluate how well the algorithms will run under our parameters. As a reminder we have decided to use the full features for each algorithm.\n"
   ]
  },
  {
   "cell_type": "code",
   "execution_count": 59,
   "metadata": {},
   "outputs": [
    {
     "data": {
      "text/plain": [
       "1.0"
      ]
     },
     "execution_count": 59,
     "metadata": {},
     "output_type": "execute_result"
    }
   ],
   "source": [
    "cv_results_KNN = cross_val_score(estimator=gs_KNN.best_estimator_,\n",
    "                                 X=D_test,\n",
    "                                 y=t_test, \n",
    "                                 cv=cv_method, \n",
    "                                 n_jobs=-2,\n",
    "                                 scoring=scoring_metric)\n",
    "cv_results_KNN.mean()"
   ]
  },
  {
   "cell_type": "code",
   "execution_count": 60,
   "metadata": {},
   "outputs": [
    {
     "data": {
      "text/plain": [
       "0.9857142857142858"
      ]
     },
     "execution_count": 60,
     "metadata": {},
     "output_type": "execute_result"
    }
   ],
   "source": [
    "cv_results_DT = cross_val_score(estimator=gs_DT.best_estimator_,\n",
    "                                 X=D_test,\n",
    "                                 y=t_test, \n",
    "                                 cv=cv_method, \n",
    "                                 n_jobs=-2,\n",
    "                                 scoring=scoring_metric)\n",
    "cv_results_DT.mean()"
   ]
  },
  {
   "cell_type": "code",
   "execution_count": 61,
   "metadata": {},
   "outputs": [
    {
     "data": {
      "text/plain": [
       "1.0"
      ]
     },
     "execution_count": 61,
     "metadata": {},
     "output_type": "execute_result"
    }
   ],
   "source": [
    "cv_results_RF = cross_val_score(estimator=gs_RF.best_estimator_,\n",
    "                                 X=D_test,\n",
    "                                 y=t_test, \n",
    "                                 cv=cv_method, \n",
    "                                 n_jobs=-2,\n",
    "                                 scoring=scoring_metric)\n",
    "cv_results_RF.mean()"
   ]
  },
  {
   "cell_type": "markdown",
   "metadata": {},
   "source": [
    "using the scoring method of `roc_auc` we can see all the algorithms scored extremely high. Interestingly enough the KNN algorithm scored exactly the same as the Decision tree. also, the Random forest algorithm scored `1.0` which is kind of unusual.\n",
    "\n",
    "We will do some further evaluations. We have used the same random stat throughout the hyperparameter tuning so we are fitting and training on the exact same data throughout. we can use a paired t-test to see if either of the algorithms are significantly better than the other for the dataset."
   ]
  },
  {
   "cell_type": "code",
   "execution_count": 62,
   "metadata": {},
   "outputs": [
    {
     "name": "stdout",
     "output_type": "stream",
     "text": [
      "Ttest_relResult(statistic=1.0, pvalue=0.373900966300059)\n",
      "Ttest_relResult(statistic=nan, pvalue=nan)\n",
      "Ttest_relResult(statistic=-1.0, pvalue=0.373900966300059)\n"
     ]
    }
   ],
   "source": [
    "print(stats.ttest_rel(cv_results_KNN, cv_results_DT))\n",
    "print(stats.ttest_rel(cv_results_KNN, cv_results_RF))\n",
    "print(stats.ttest_rel(cv_results_DT, cv_results_RF))"
   ]
  },
  {
   "cell_type": "markdown",
   "metadata": {},
   "source": [
    "Because KNN and the Decision tree both achieved the same score we receive the `nan` output so they can't be compared. As for the Random forest though we can see that the output is higher than 0.05 therefore Random forest does not have a statistically significant difference of the other two. This test shows none of the algorithms are better than the other."
   ]
  },
  {
   "cell_type": "code",
   "execution_count": 63,
   "metadata": {},
   "outputs": [],
   "source": [
    "pred_KNN = gs_KNN.predict(D_test)\n",
    "pred_DT = gs_DT.predict(D_test)\n",
    "pred_RF = gs_RF.predict(D_test)"
   ]
  },
  {
   "cell_type": "markdown",
   "metadata": {},
   "source": [
    "### 4.C.a Confusion matrix <a name='Confusionmatrix'></a>"
   ]
  },
  {
   "cell_type": "code",
   "execution_count": 64,
   "metadata": {},
   "outputs": [
    {
     "name": "stdout",
     "output_type": "stream",
     "text": [
      "\n",
      "Confusion matrix for K-Nearest Neighbor\n",
      "[[44  0]\n",
      " [ 0 31]]\n",
      "\n",
      "Confusion matrix for Decision Tree\n",
      "[[44  0]\n",
      " [ 1 30]]\n",
      "\n",
      "Confusion matrix for Random Forest\n",
      "[[44  0]\n",
      " [ 0 31]]\n"
     ]
    }
   ],
   "source": [
    "print(\"\\nConfusion matrix for K-Nearest Neighbor\") \n",
    "print(metrics.confusion_matrix(t_test, pred_KNN))\n",
    "print(\"\\nConfusion matrix for Decision Tree\") \n",
    "print(metrics.confusion_matrix(t_test, pred_DT))\n",
    "print(\"\\nConfusion matrix for Random Forest\") \n",
    "print(metrics.confusion_matrix(t_test, pred_RF))"
   ]
  },
  {
   "cell_type": "markdown",
   "metadata": {},
   "source": [
    "Our confusion matrices show that for KNN and Random forest it has managed to correctly predict all the true positives (`44`) and true negatives (`31`). The Decision tree on the other hand managed to have `1` observation predicted incorrectly, it predicted it as a false negative, meaning it predicted a case where the patient did have chronic kidney disease but it said that they didn't. \n",
    "\n",
    "We'll look further into this in the Classification report below."
   ]
  },
  {
   "cell_type": "markdown",
   "metadata": {},
   "source": [
    "### 4.C.b Classification report <a name='Classificationreport'></a>"
   ]
  },
  {
   "cell_type": "code",
   "execution_count": 65,
   "metadata": {},
   "outputs": [
    {
     "name": "stdout",
     "output_type": "stream",
     "text": [
      "\n",
      "Classification report for K-Nearest Neighbor\n",
      "              precision    recall  f1-score   support\n",
      "\n",
      "           0       1.00      1.00      1.00        44\n",
      "           1       1.00      1.00      1.00        31\n",
      "\n",
      "    accuracy                           1.00        75\n",
      "   macro avg       1.00      1.00      1.00        75\n",
      "weighted avg       1.00      1.00      1.00        75\n",
      "\n",
      "\n",
      "Classification report for Decision Tree\n",
      "              precision    recall  f1-score   support\n",
      "\n",
      "           0       0.98      1.00      0.99        44\n",
      "           1       1.00      0.97      0.98        31\n",
      "\n",
      "    accuracy                           0.99        75\n",
      "   macro avg       0.99      0.98      0.99        75\n",
      "weighted avg       0.99      0.99      0.99        75\n",
      "\n",
      "\n",
      "Classification report for Random Forest\n",
      "              precision    recall  f1-score   support\n",
      "\n",
      "           0       1.00      1.00      1.00        44\n",
      "           1       1.00      1.00      1.00        31\n",
      "\n",
      "    accuracy                           1.00        75\n",
      "   macro avg       1.00      1.00      1.00        75\n",
      "weighted avg       1.00      1.00      1.00        75\n",
      "\n"
     ]
    }
   ],
   "source": [
    "print(\"\\nClassification report for K-Nearest Neighbor\") \n",
    "print(metrics.classification_report(t_test, pred_KNN))\n",
    "print(\"\\nClassification report for Decision Tree\") \n",
    "print(metrics.classification_report(t_test, pred_DT))\n",
    "print(\"\\nClassification report for Random Forest\") \n",
    "print(metrics.classification_report(t_test, pred_RF))"
   ]
  },
  {
   "cell_type": "markdown",
   "metadata": {},
   "source": [
    "So as we can see in the classification report for both KNN and Random forest the precision, recall and f1-score are `1`  meaning it was able to predict with correctly patients with chronic kidney disease and those without and not misclassify any, which is what we saw in the confusion matrix for both of them. the Decision tree on the other hand only received a `0.98` on precision and a recall of `0.97` this due to the misclassification of the observation of a nonchronic kidney disease patient as someone who did have it."
   ]
  },
  {
   "cell_type": "markdown",
   "metadata": {},
   "source": [
    "### 4.C.c ROC curve <a name = 'ROCcurve'></a>\n",
    "\n",
    "At the moment it seems unusual to score so high on these test but we can continue on with further evaluation. We can use a ROC curve but as the algorithms are already scoring so high (and no false positives) we may not get any more useful information out of it.\n"
   ]
  },
  {
   "cell_type": "code",
   "execution_count": 66,
   "metadata": {},
   "outputs": [
    {
     "data": {
      "text/plain": [
       "array([[1., 0.],\n",
       "       [1., 0.],\n",
       "       [0., 1.],\n",
       "       [1., 0.],\n",
       "       [1., 0.],\n",
       "       [1., 0.],\n",
       "       [0., 1.],\n",
       "       [0., 1.],\n",
       "       [1., 0.],\n",
       "       [0., 1.]])"
      ]
     },
     "execution_count": 66,
     "metadata": {},
     "output_type": "execute_result"
    }
   ],
   "source": [
    "t_prob = gs_KNN.predict_proba(D_test)\n",
    "t_prob[0:10]"
   ]
  },
  {
   "cell_type": "code",
   "execution_count": 67,
   "metadata": {},
   "outputs": [
    {
     "data": {
      "text/plain": [
       "1.0"
      ]
     },
     "execution_count": 67,
     "metadata": {},
     "output_type": "execute_result"
    }
   ],
   "source": [
    "fpr, tpr, _ = metrics.roc_curve(t_test, t_prob[:, 1])\n",
    "roc_auc = metrics.auc(fpr, tpr)\n",
    "roc_auc"
   ]
  },
  {
   "cell_type": "code",
   "execution_count": 68,
   "metadata": {},
   "outputs": [
    {
     "data": {
      "text/html": [
       "<div>\n",
       "<style scoped>\n",
       "    .dataframe tbody tr th:only-of-type {\n",
       "        vertical-align: middle;\n",
       "    }\n",
       "\n",
       "    .dataframe tbody tr th {\n",
       "        vertical-align: top;\n",
       "    }\n",
       "\n",
       "    .dataframe thead th {\n",
       "        text-align: right;\n",
       "    }\n",
       "</style>\n",
       "<table border=\"1\" class=\"dataframe\">\n",
       "  <thead>\n",
       "    <tr style=\"text-align: right;\">\n",
       "      <th></th>\n",
       "      <th>fpr</th>\n",
       "      <th>tpr</th>\n",
       "    </tr>\n",
       "  </thead>\n",
       "  <tbody>\n",
       "    <tr>\n",
       "      <th>0</th>\n",
       "      <td>0.0</td>\n",
       "      <td>0.0</td>\n",
       "    </tr>\n",
       "    <tr>\n",
       "      <th>1</th>\n",
       "      <td>0.0</td>\n",
       "      <td>1.0</td>\n",
       "    </tr>\n",
       "    <tr>\n",
       "      <th>2</th>\n",
       "      <td>1.0</td>\n",
       "      <td>1.0</td>\n",
       "    </tr>\n",
       "  </tbody>\n",
       "</table>\n",
       "</div>"
      ],
      "text/plain": [
       "   fpr  tpr\n",
       "0  0.0  0.0\n",
       "1  0.0  1.0\n",
       "2  1.0  1.0"
      ]
     },
     "execution_count": 68,
     "metadata": {},
     "output_type": "execute_result"
    }
   ],
   "source": [
    "df = pd.DataFrame({'fpr': fpr, 'tpr': tpr})\n",
    "df"
   ]
  },
  {
   "cell_type": "code",
   "execution_count": 69,
   "metadata": {},
   "outputs": [
    {
     "data": {
      "text/html": [
       "\n",
       "<div id=\"altair-viz-db8f825a60244890a8d852528087be73\"></div>\n",
       "<script type=\"text/javascript\">\n",
       "  (function(spec, embedOpt){\n",
       "    let outputDiv = document.currentScript.previousElementSibling;\n",
       "    if (outputDiv.id !== \"altair-viz-db8f825a60244890a8d852528087be73\") {\n",
       "      outputDiv = document.getElementById(\"altair-viz-db8f825a60244890a8d852528087be73\");\n",
       "    }\n",
       "    const paths = {\n",
       "      \"vega\": \"https://cdn.jsdelivr.net/npm//vega@5?noext\",\n",
       "      \"vega-lib\": \"https://cdn.jsdelivr.net/npm//vega-lib?noext\",\n",
       "      \"vega-lite\": \"https://cdn.jsdelivr.net/npm//vega-lite@4.8.1?noext\",\n",
       "      \"vega-embed\": \"https://cdn.jsdelivr.net/npm//vega-embed@6?noext\",\n",
       "    };\n",
       "\n",
       "    function loadScript(lib) {\n",
       "      return new Promise(function(resolve, reject) {\n",
       "        var s = document.createElement('script');\n",
       "        s.src = paths[lib];\n",
       "        s.async = true;\n",
       "        s.onload = () => resolve(paths[lib]);\n",
       "        s.onerror = () => reject(`Error loading script: ${paths[lib]}`);\n",
       "        document.getElementsByTagName(\"head\")[0].appendChild(s);\n",
       "      });\n",
       "    }\n",
       "\n",
       "    function showError(err) {\n",
       "      outputDiv.innerHTML = `<div class=\"error\" style=\"color:red;\">${err}</div>`;\n",
       "      throw err;\n",
       "    }\n",
       "\n",
       "    function displayChart(vegaEmbed) {\n",
       "      vegaEmbed(outputDiv, spec, embedOpt)\n",
       "        .catch(err => showError(`Javascript Error: ${err.message}<br>This usually means there's a typo in your chart specification. See the javascript console for the full traceback.`));\n",
       "    }\n",
       "\n",
       "    if(typeof define === \"function\" && define.amd) {\n",
       "      requirejs.config({paths});\n",
       "      require([\"vega-embed\"], displayChart, err => showError(`Error loading script: ${err.message}`));\n",
       "    } else if (typeof vegaEmbed === \"function\") {\n",
       "      displayChart(vegaEmbed);\n",
       "    } else {\n",
       "      loadScript(\"vega\")\n",
       "        .then(() => loadScript(\"vega-lite\"))\n",
       "        .then(() => loadScript(\"vega-embed\"))\n",
       "        .catch(showError)\n",
       "        .then(() => displayChart(vegaEmbed));\n",
       "    }\n",
       "  })({\"config\": {\"view\": {\"continuousWidth\": 400, \"continuousHeight\": 300}}, \"layer\": [{\"mark\": {\"type\": \"line\", \"point\": true}, \"encoding\": {\"x\": {\"type\": \"quantitative\", \"field\": \"fpr\", \"sort\": null, \"title\": \"False Positive Rate (FPR)\"}, \"y\": {\"type\": \"quantitative\", \"field\": \"tpr\", \"title\": \"True Positive Rate (TPR) (a.k.a Recall)\"}}, \"selection\": {\"selector002\": {\"type\": \"interval\", \"bind\": \"scales\", \"encodings\": [\"x\", \"y\"]}}, \"title\": \"ROC Curve of KNN\", \"width\": 300}, {\"mark\": {\"type\": \"line\", \"color\": \"green\"}, \"encoding\": {\"size\": {\"value\": 2}, \"x\": {\"type\": \"quantitative\", \"field\": \"fpr\"}, \"y\": {\"type\": \"quantitative\", \"field\": \"fpr\"}}, \"title\": \"ROC Curve of KNN\", \"width\": 300}], \"data\": {\"name\": \"data-dad6dcd0806e0754be4027b07ff3e591\"}, \"$schema\": \"https://vega.github.io/schema/vega-lite/v4.8.1.json\", \"datasets\": {\"data-dad6dcd0806e0754be4027b07ff3e591\": [{\"fpr\": 0.0, \"tpr\": 0.0}, {\"fpr\": 0.0, \"tpr\": 1.0}, {\"fpr\": 1.0, \"tpr\": 1.0}]}}, {\"mode\": \"vega-lite\"});\n",
       "</script>"
      ],
      "text/plain": [
       "alt.LayerChart(...)"
      ]
     },
     "execution_count": 69,
     "metadata": {},
     "output_type": "execute_result"
    }
   ],
   "source": [
    "\n",
    "base = alt.Chart(df, \n",
    "                 title='ROC Curve of KNN'\n",
    "                ).properties(width=300)\n",
    "\n",
    "roc_curve = base.mark_line(point=True).encode(\n",
    "    alt.X('fpr', title='False Positive Rate (FPR)',  sort=None),\n",
    "    alt.Y('tpr', title='True Positive Rate (TPR) (a.k.a Recall)'),\n",
    ")\n",
    "\n",
    "roc_rule = base.mark_line(color='green').encode(\n",
    "    x='fpr',\n",
    "    y='fpr',\n",
    "    size=alt.value(2)\n",
    ")\n",
    "\n",
    "(roc_curve + roc_rule).interactive()"
   ]
  },
  {
   "cell_type": "code",
   "execution_count": 70,
   "metadata": {},
   "outputs": [
    {
     "data": {
      "text/html": [
       "\n",
       "<div id=\"altair-viz-e303e4b532314a0b80e47d158cdd73ce\"></div>\n",
       "<script type=\"text/javascript\">\n",
       "  (function(spec, embedOpt){\n",
       "    let outputDiv = document.currentScript.previousElementSibling;\n",
       "    if (outputDiv.id !== \"altair-viz-e303e4b532314a0b80e47d158cdd73ce\") {\n",
       "      outputDiv = document.getElementById(\"altair-viz-e303e4b532314a0b80e47d158cdd73ce\");\n",
       "    }\n",
       "    const paths = {\n",
       "      \"vega\": \"https://cdn.jsdelivr.net/npm//vega@5?noext\",\n",
       "      \"vega-lib\": \"https://cdn.jsdelivr.net/npm//vega-lib?noext\",\n",
       "      \"vega-lite\": \"https://cdn.jsdelivr.net/npm//vega-lite@4.8.1?noext\",\n",
       "      \"vega-embed\": \"https://cdn.jsdelivr.net/npm//vega-embed@6?noext\",\n",
       "    };\n",
       "\n",
       "    function loadScript(lib) {\n",
       "      return new Promise(function(resolve, reject) {\n",
       "        var s = document.createElement('script');\n",
       "        s.src = paths[lib];\n",
       "        s.async = true;\n",
       "        s.onload = () => resolve(paths[lib]);\n",
       "        s.onerror = () => reject(`Error loading script: ${paths[lib]}`);\n",
       "        document.getElementsByTagName(\"head\")[0].appendChild(s);\n",
       "      });\n",
       "    }\n",
       "\n",
       "    function showError(err) {\n",
       "      outputDiv.innerHTML = `<div class=\"error\" style=\"color:red;\">${err}</div>`;\n",
       "      throw err;\n",
       "    }\n",
       "\n",
       "    function displayChart(vegaEmbed) {\n",
       "      vegaEmbed(outputDiv, spec, embedOpt)\n",
       "        .catch(err => showError(`Javascript Error: ${err.message}<br>This usually means there's a typo in your chart specification. See the javascript console for the full traceback.`));\n",
       "    }\n",
       "\n",
       "    if(typeof define === \"function\" && define.amd) {\n",
       "      requirejs.config({paths});\n",
       "      require([\"vega-embed\"], displayChart, err => showError(`Error loading script: ${err.message}`));\n",
       "    } else if (typeof vegaEmbed === \"function\") {\n",
       "      displayChart(vegaEmbed);\n",
       "    } else {\n",
       "      loadScript(\"vega\")\n",
       "        .then(() => loadScript(\"vega-lite\"))\n",
       "        .then(() => loadScript(\"vega-embed\"))\n",
       "        .catch(showError)\n",
       "        .then(() => displayChart(vegaEmbed));\n",
       "    }\n",
       "  })({\"config\": {\"view\": {\"continuousWidth\": 400, \"continuousHeight\": 300}}, \"layer\": [{\"mark\": {\"type\": \"line\", \"point\": true}, \"encoding\": {\"x\": {\"type\": \"quantitative\", \"field\": \"fpr\", \"sort\": null, \"title\": \"False Positive Rate (FPR)\"}, \"y\": {\"type\": \"quantitative\", \"field\": \"tpr\", \"title\": \"True Positive Rate (TPR) (a.k.a Recall)\"}}, \"selection\": {\"selector003\": {\"type\": \"interval\", \"bind\": \"scales\", \"encodings\": [\"x\", \"y\"]}}, \"title\": \"ROC Curve of DT\", \"width\": 300}, {\"mark\": {\"type\": \"line\", \"color\": \"green\"}, \"encoding\": {\"size\": {\"value\": 2}, \"x\": {\"type\": \"quantitative\", \"field\": \"fpr\"}, \"y\": {\"type\": \"quantitative\", \"field\": \"fpr\"}}, \"title\": \"ROC Curve of DT\", \"width\": 300}], \"data\": {\"name\": \"data-3af33bf06b971374e833f198db796507\"}, \"$schema\": \"https://vega.github.io/schema/vega-lite/v4.8.1.json\", \"datasets\": {\"data-3af33bf06b971374e833f198db796507\": [{\"fpr\": 0.0, \"tpr\": 0.0}, {\"fpr\": 0.0, \"tpr\": 0.967741935483871}, {\"fpr\": 1.0, \"tpr\": 1.0}]}}, {\"mode\": \"vega-lite\"});\n",
       "</script>"
      ],
      "text/plain": [
       "alt.LayerChart(...)"
      ]
     },
     "execution_count": 70,
     "metadata": {},
     "output_type": "execute_result"
    }
   ],
   "source": [
    "t_prob = gs_DT.predict_proba(D_test)\n",
    "fpr, tpr, _ = metrics.roc_curve(t_test, t_prob[:, 1])\n",
    "roc_auc = metrics.auc(fpr, tpr)\n",
    "df = pd.DataFrame({'fpr': fpr, 'tpr': tpr})\n",
    "\n",
    "base = alt.Chart(df, \n",
    "                 title='ROC Curve of DT'\n",
    "                ).properties(width=300)\n",
    "\n",
    "roc_curve = base.mark_line(point=True).encode(\n",
    "    alt.X('fpr', title='False Positive Rate (FPR)',  sort=None),\n",
    "    alt.Y('tpr', title='True Positive Rate (TPR) (a.k.a Recall)'),\n",
    ")\n",
    "\n",
    "roc_rule = base.mark_line(color='green').encode(\n",
    "    x='fpr',\n",
    "    y='fpr',\n",
    "    size=alt.value(2)\n",
    ")\n",
    "\n",
    "(roc_curve + roc_rule).interactive()"
   ]
  },
  {
   "cell_type": "code",
   "execution_count": 71,
   "metadata": {},
   "outputs": [
    {
     "data": {
      "text/html": [
       "\n",
       "<div id=\"altair-viz-843aa12e502343c1955e25c8fa0f692d\"></div>\n",
       "<script type=\"text/javascript\">\n",
       "  (function(spec, embedOpt){\n",
       "    let outputDiv = document.currentScript.previousElementSibling;\n",
       "    if (outputDiv.id !== \"altair-viz-843aa12e502343c1955e25c8fa0f692d\") {\n",
       "      outputDiv = document.getElementById(\"altair-viz-843aa12e502343c1955e25c8fa0f692d\");\n",
       "    }\n",
       "    const paths = {\n",
       "      \"vega\": \"https://cdn.jsdelivr.net/npm//vega@5?noext\",\n",
       "      \"vega-lib\": \"https://cdn.jsdelivr.net/npm//vega-lib?noext\",\n",
       "      \"vega-lite\": \"https://cdn.jsdelivr.net/npm//vega-lite@4.8.1?noext\",\n",
       "      \"vega-embed\": \"https://cdn.jsdelivr.net/npm//vega-embed@6?noext\",\n",
       "    };\n",
       "\n",
       "    function loadScript(lib) {\n",
       "      return new Promise(function(resolve, reject) {\n",
       "        var s = document.createElement('script');\n",
       "        s.src = paths[lib];\n",
       "        s.async = true;\n",
       "        s.onload = () => resolve(paths[lib]);\n",
       "        s.onerror = () => reject(`Error loading script: ${paths[lib]}`);\n",
       "        document.getElementsByTagName(\"head\")[0].appendChild(s);\n",
       "      });\n",
       "    }\n",
       "\n",
       "    function showError(err) {\n",
       "      outputDiv.innerHTML = `<div class=\"error\" style=\"color:red;\">${err}</div>`;\n",
       "      throw err;\n",
       "    }\n",
       "\n",
       "    function displayChart(vegaEmbed) {\n",
       "      vegaEmbed(outputDiv, spec, embedOpt)\n",
       "        .catch(err => showError(`Javascript Error: ${err.message}<br>This usually means there's a typo in your chart specification. See the javascript console for the full traceback.`));\n",
       "    }\n",
       "\n",
       "    if(typeof define === \"function\" && define.amd) {\n",
       "      requirejs.config({paths});\n",
       "      require([\"vega-embed\"], displayChart, err => showError(`Error loading script: ${err.message}`));\n",
       "    } else if (typeof vegaEmbed === \"function\") {\n",
       "      displayChart(vegaEmbed);\n",
       "    } else {\n",
       "      loadScript(\"vega\")\n",
       "        .then(() => loadScript(\"vega-lite\"))\n",
       "        .then(() => loadScript(\"vega-embed\"))\n",
       "        .catch(showError)\n",
       "        .then(() => displayChart(vegaEmbed));\n",
       "    }\n",
       "  })({\"config\": {\"view\": {\"continuousWidth\": 400, \"continuousHeight\": 300}}, \"layer\": [{\"mark\": {\"type\": \"line\", \"point\": true}, \"encoding\": {\"x\": {\"type\": \"quantitative\", \"field\": \"fpr\", \"sort\": null, \"title\": \"False Positive Rate (FPR)\"}, \"y\": {\"type\": \"quantitative\", \"field\": \"tpr\", \"title\": \"True Positive Rate (TPR) (a.k.a Recall)\"}}, \"selection\": {\"selector004\": {\"type\": \"interval\", \"bind\": \"scales\", \"encodings\": [\"x\", \"y\"]}}, \"title\": \"ROC Curve of RF\", \"width\": 300}, {\"mark\": {\"type\": \"line\", \"color\": \"green\"}, \"encoding\": {\"size\": {\"value\": 2}, \"x\": {\"type\": \"quantitative\", \"field\": \"fpr\"}, \"y\": {\"type\": \"quantitative\", \"field\": \"fpr\"}}, \"title\": \"ROC Curve of RF\", \"width\": 300}], \"data\": {\"name\": \"data-ea58a7ac788e514b4c650209f75fbb19\"}, \"$schema\": \"https://vega.github.io/schema/vega-lite/v4.8.1.json\", \"datasets\": {\"data-ea58a7ac788e514b4c650209f75fbb19\": [{\"fpr\": 0.0, \"tpr\": 0.0}, {\"fpr\": 0.0, \"tpr\": 0.6451612903225806}, {\"fpr\": 0.0, \"tpr\": 0.7096774193548387}, {\"fpr\": 0.0, \"tpr\": 0.8709677419354839}, {\"fpr\": 0.0, \"tpr\": 1.0}, {\"fpr\": 0.20454545454545456, \"tpr\": 1.0}, {\"fpr\": 1.0, \"tpr\": 1.0}]}}, {\"mode\": \"vega-lite\"});\n",
       "</script>"
      ],
      "text/plain": [
       "alt.LayerChart(...)"
      ]
     },
     "execution_count": 71,
     "metadata": {},
     "output_type": "execute_result"
    }
   ],
   "source": [
    "t_prob = gs_RF.predict_proba(D_test)\n",
    "fpr, tpr, _ = metrics.roc_curve(t_test, t_prob[:, 1])\n",
    "roc_auc = metrics.auc(fpr, tpr)\n",
    "df = pd.DataFrame({'fpr': fpr, 'tpr': tpr})\n",
    "\n",
    "base = alt.Chart(df, \n",
    "                 title='ROC Curve of RF'\n",
    "                ).properties(width=300)\n",
    "\n",
    "roc_curve = base.mark_line(point=True).encode(\n",
    "    alt.X('fpr', title='False Positive Rate (FPR)',  sort=None),\n",
    "    alt.Y('tpr', title='True Positive Rate (TPR) (a.k.a Recall)'),\n",
    ")\n",
    "\n",
    "roc_rule = base.mark_line(color='green').encode(\n",
    "    x='fpr',\n",
    "    y='fpr',\n",
    "    size=alt.value(2)\n",
    ")\n",
    "\n",
    "(roc_curve + roc_rule).interactive()"
   ]
  },
  {
   "cell_type": "markdown",
   "metadata": {},
   "source": [
    "As predicted the ROC curve is basically a right angle due to the lack of false positives. The only one different is the decision tree. If we didn't have any suspicions of our algorithms, this would show that they are working extraordinary well."
   ]
  },
  {
   "cell_type": "markdown",
   "metadata": {},
   "source": [
    "### 5. Conclusion <a name='Conclusion'></a>\n",
    "\n",
    "The chronic kidney disease dataset we use needed extensive data cleaning. There were many missing values that needed to be dealt with. We looked at **complete case analysis**, where we would remove observations that has any missing values but as we were required for the assignment to have a minimum of at least 200 observations we opted only to remove observations that had missing values in the `rbc` feature. This was chosen as it had the most missing values (`38%`). With the rest of the missing values they were either replaced with the median for numerical features and the mode for categorical ones. \n",
    "\n",
    "After some quick data exploration, we discovered that patients with higher hemoglobulin counts generally didn't have chronic kidney disease and also the same was discovered when patients had a high hemoglobulin count as well as a higher packed cell count.\n",
    "\n",
    "Moving on to predictive modelling, we used Random forest importance for feature selection. The top ten features were `al`, `pcv`, `sg`, `sc`, `hemo`, `bu`, `htn`, `pc`, `dm`, `bgr`. We compared this with the full set of features using the `DecisionTreeClassifier` a wrapper to assess the performance and found they performed equally as well (`0.986`) when using the `roc_auc` scoring method. With this result we decided to use the full set with the hyperparameter tuning and predicting.\n",
    "\n",
    "As for tuning the parameters we found the best parameters for the following three algorithms where as follows:\n",
    "\n",
    "-KNN: 1 neighbor\n",
    "      Euclidean distance\n",
    "      \n",
    "-Decision tree: gini criterion\n",
    "               Max depth of 1\n",
    "               2 min samples split\n",
    "\n",
    "-Random forest: Max features was auto\n",
    "                1 Min samples leaf\n",
    "                50 estimators\n",
    "\n",
    "The data was trained on a 70:30 split and it was found that both the KNN and Random forest algorithms where predicting perfectly no false positives or false negatives, whereas the decision tree scored 1 false negative. This may be due to the models overfitting the data. This could be due to the dataset being so small, therefore more data (like in most cases), would help to see if the models are being overfitted and still able to predicate with such accuracy, which is highly doubted. It may also have to do with the data cleaning as in most cases it would have been preferred to remove all the observations with missing values rather than replace them.\n",
    "\n",
    "If for some reason these models where this accurate, KNN should be chosen just as it runs faster than the random forest algorithm. And the decision tree shouldn't be chosen as it was the only one to misclassify an observation. The misclassification on its own isn't a problem, it's more that it misclassified someone who had chronic kidney disease as someone who didn't, which would be a worse outcome than the opposite prediction.\n"
   ]
  },
  {
   "cell_type": "markdown",
   "metadata": {},
   "source": [
    "### 6. References <a name=\"References\"></a>\n",
    "\n",
    "1. Lichman, M. (2013). UCI Machine Learning Repository [online]. Available at https://archive.ics.uci.edu/ml/datasets/Chronic_Kidney_Disease [Accessed 31/05/2020]<a name=\"1\"></a>\n",
    "2. Kelleher J, Namee B, D'Arcy A. (2015) Fundamentals of machine learning for preditive data analytics. Massachusetts Institute of Technology. <a name=\"2\"></a>\n",
    "3. Aksakalli, V. RMIT [online]. Available at https://rmit.instructure.com/courses/67061/pages/assignment-1-materials?module_item_id=2327584 [Accessed 31/05/2020] <a name=\"3\"></a>\n",
    "4. Aksakalli, V. RMIT [online]. Available at https://rmit.instructure.com/courses/67061 [Accessed 31/05/2020] <a name=\"4\"></a> \n",
    "5. Aksakalli, V. feature ranking [online]. Available at www.featureranking.com [Accessed 31/05/2020] <a name=\"5\"></a>\n",
    "---\n",
    "\n"
   ]
  }
 ],
 "metadata": {
  "kernelspec": {
   "display_name": "Python 3",
   "language": "python",
   "name": "python3"
  },
  "language_info": {
   "codemirror_mode": {
    "name": "ipython",
    "version": 3
   },
   "file_extension": ".py",
   "mimetype": "text/x-python",
   "name": "python",
   "nbconvert_exporter": "python",
   "pygments_lexer": "ipython3",
   "version": "3.7.3"
  }
 },
 "nbformat": 4,
 "nbformat_minor": 2
}
